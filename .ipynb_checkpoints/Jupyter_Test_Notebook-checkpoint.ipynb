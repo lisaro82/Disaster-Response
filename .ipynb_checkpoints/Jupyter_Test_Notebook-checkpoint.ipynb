{
 "cells": [
  {
   "cell_type": "code",
   "execution_count": 1,
   "metadata": {},
   "outputs": [],
   "source": [
    "from models.train_classifier import executeMain"
   ]
  },
  {
   "cell_type": "code",
   "execution_count": null,
   "metadata": {
    "scrolled": false
   },
   "outputs": [
    {
     "name": "stdout",
     "output_type": "stream",
     "text": [
      "Loading data...\n",
      "    Database filepath <<data/DisasterResponse.db>>\n",
      "    Database loaded.\n",
      "Building model...\n",
      "Training model...\n",
      "------------------------------------------------------------------\n",
      "Top 100 words are the following: \n",
      "['water', 'peopl', 'food', 'help', 'need', 'pleas', 'earthquak', 'say', 'area', 'like', 'would', 'flood', 'countri', 'know', '000', 'find', 'thank', 'govern', 'also', 'get', 'hous', 'rain', 'go', 'haiti', 'one', 'inform', 'work', 'year', 'sandi', 'provid', 'make', 'affect', 'tent', 'give', 'includ', 'aid', 'famili', 'region', 'nation', 'good', 'suppli', 'relief', 'live', 'come', 'commun', 'urlplacehold', 'child', 'day', 'two', 'send', 'health', 'take', 'report', 'distribut', 'messag', 'well', 'villag', 'school', 'mani', 'state', 'caus', 'use', 'power', 'sever', 'want', 'support', 'emerg', 'assist', 'new', 'provinc', 'time', 'disast', 'damag', 'million', 'home', 'sinc', 'shelter', 'build', 'local', 'intern', 'continu', 'unit', 'district', 'citi', 'road', 'victim', 'storm', 'hit', 'receiv', 'even', 'last', 'diseas', 'part', 'crop', 'call', 'hurrican', 'leav', 'medic', 'system', 'river']\n",
      "\n",
      "-------------------------------------------------------------------\n",
      "    1. Fit model for class: <<genre>> ((21203, 9004)).\n",
      "    Tuning hyper-parameters for class: <<genre>> (Recall).\n",
      "       1. Grid Search model <<<class 'sklearn.svm.classes.LinearSVC'>>>; weight: <<balanced>>; parameters: <<{'C': [0.001, 0.01, 0.1, 1.0, 10.0]}>>\n",
      "Fitting 3 folds for each of 5 candidates, totalling 15 fits\n"
     ]
    },
    {
     "name": "stderr",
     "output_type": "stream",
     "text": [
      "[Parallel(n_jobs=1)]: Done  15 out of  15 | elapsed:    2.3s finished\n"
     ]
    },
    {
     "name": "stdout",
     "output_type": "stream",
     "text": [
      "       Best parameters selected: <<{'C': 1.0}>> for score <<0.9453181346744222>>.\n",
      "       2. Grid Search model <<<class 'sklearn.svm.classes.LinearSVC'>>>; weight: <<balanced>>; parameters: <<{'C': [0.3333, 0.381, 0.4286, 0.4762, 0.5238, 0.5714, 0.619, 0.6667, 0.7143, 0.7619, 0.8095, 0.8571, 0.9048, 0.9524, 1.0, 1.1429, 1.2857, 1.4286, 1.5714, 1.7143, 1.8571, 2.0, 2.1429, 2.2857, 2.4286, 2.5714, 2.7143, 2.8571, 3.0]}>>\n",
      "Fitting 3 folds for each of 29 candidates, totalling 87 fits\n"
     ]
    },
    {
     "name": "stderr",
     "output_type": "stream",
     "text": [
      "[Parallel(n_jobs=1)]: Done  87 out of  87 | elapsed:   13.2s finished\n"
     ]
    },
    {
     "name": "stdout",
     "output_type": "stream",
     "text": [
      "       Best parameters selected: <<{'C': 0.5714}>> for score <<0.9488589724833127>>.\n",
      "       3. Grid Search model <<<class 'sklearn.svm.classes.LinearSVC'>>>; weight: <<balanced>>; parameters: <<{'C': [0.1905, 0.2177, 0.2449, 0.2721, 0.2993, 0.3265, 0.3537, 0.3809, 0.4081, 0.4354, 0.4626, 0.4898, 0.517, 0.5442, 0.5714, 0.653, 0.7347, 0.8163, 0.8979, 0.9795, 1.0612, 1.1428, 1.2244, 1.3061, 1.3877, 1.4693, 1.5509, 1.6326, 1.7142]}>>\n",
      "Fitting 3 folds for each of 29 candidates, totalling 87 fits\n"
     ]
    },
    {
     "name": "stderr",
     "output_type": "stream",
     "text": [
      "[Parallel(n_jobs=1)]: Done  87 out of  87 | elapsed:   10.0s finished\n"
     ]
    },
    {
     "name": "stdout",
     "output_type": "stream",
     "text": [
      "       Best parameters selected: <<{'C': 0.517}>> for score <<0.9489189102824629>>.\n",
      "       4. Grid Search model <<<class 'sklearn.svm.classes.LinearSVC'>>>; weight: <<balanced>>; parameters: <<{'C': [0.1723, 0.197, 0.2216, 0.2462, 0.2708, 0.2954, 0.32, 0.3447, 0.3693, 0.3939, 0.4185, 0.4431, 0.4678, 0.4924, 0.517, 0.5909, 0.6647, 0.7386, 0.8124, 0.8863, 0.9601, 1.034, 1.1079, 1.1817, 1.2556, 1.3294, 1.4033, 1.4771, 1.551]}>>\n",
      "Fitting 3 folds for each of 29 candidates, totalling 87 fits\n"
     ]
    },
    {
     "name": "stderr",
     "output_type": "stream",
     "text": [
      "[Parallel(n_jobs=1)]: Done  87 out of  87 | elapsed:   10.4s finished\n"
     ]
    },
    {
     "name": "stdout",
     "output_type": "stream",
     "text": [
      "       Best parameters selected: <<{'C': 0.517}>> for score <<0.9489189102824629>>.\n",
      "       Final parameters selected: <<{'C': 0.517}>> for score <<0.9489189102824629>>.\n",
      "\n",
      "          *** Score on validation dataset (macro/weighted) <<0.9520383241080319>> / <<0.9622241086587436>>.\n",
      "[[1126   28    0]\n",
      " [  39  952    7]\n",
      " [   1   14  189]]\n",
      "\n",
      "-------------------------------------------------------------------\n",
      "    2. Fit model for class: <<related>> ((21203, 9005)).\n",
      "    Tuning hyper-parameters for class: <<related>> (Recall).\n",
      "       1. Grid Search model <<<class 'sklearn.svm.classes.LinearSVC'>>>; weight: <<balanced>>; parameters: <<{'C': [0.001, 0.01, 0.1, 1.0, 10.0]}>>\n",
      "Fitting 3 folds for each of 5 candidates, totalling 15 fits\n"
     ]
    },
    {
     "name": "stderr",
     "output_type": "stream",
     "text": [
      "[Parallel(n_jobs=1)]: Done  15 out of  15 | elapsed:    7.8s finished\n"
     ]
    },
    {
     "name": "stdout",
     "output_type": "stream",
     "text": [
      "       Best parameters selected: <<{'C': 1.0}>> for score <<0.6555423536597625>>.\n",
      "       2. Grid Search model <<<class 'sklearn.svm.classes.LinearSVC'>>>; weight: <<balanced>>; parameters: <<{'C': [0.3333, 0.381, 0.4286, 0.4762, 0.5238, 0.5714, 0.619, 0.6667, 0.7143, 0.7619, 0.8095, 0.8571, 0.9048, 0.9524, 1.0, 1.1429, 1.2857, 1.4286, 1.5714, 1.7143, 1.8571, 2.0, 2.1429, 2.2857, 2.4286, 2.5714, 2.7143, 2.8571, 3.0]}>>\n",
      "Fitting 3 folds for each of 29 candidates, totalling 87 fits\n"
     ]
    },
    {
     "name": "stderr",
     "output_type": "stream",
     "text": [
      "[Parallel(n_jobs=1)]: Done  87 out of  87 | elapsed:   54.6s finished\n"
     ]
    },
    {
     "name": "stdout",
     "output_type": "stream",
     "text": [
      "       Best parameters selected: <<{'C': 1.5714}>> for score <<0.6699252248097771>>.\n",
      "       3. Grid Search model <<<class 'sklearn.svm.classes.LinearSVC'>>>; weight: <<balanced>>; parameters: <<{'C': [0.5238, 0.5986, 0.6735, 0.7483, 0.8231, 0.8979, 0.9728, 1.0476, 1.1224, 1.1973, 1.2721, 1.3469, 1.4217, 1.4966, 1.5714, 1.7959, 2.0204, 2.2449, 2.4693, 2.6938, 2.9183, 3.1428, 3.3673, 3.5918, 3.8163, 4.0407, 4.2652, 4.4897, 4.7142]}>>\n",
      "Fitting 3 folds for each of 29 candidates, totalling 87 fits\n"
     ]
    },
    {
     "name": "stderr",
     "output_type": "stream",
     "text": [
      "[Parallel(n_jobs=1)]: Done  87 out of  87 | elapsed:  1.1min finished\n"
     ]
    },
    {
     "name": "stdout",
     "output_type": "stream",
     "text": [
      "       Best parameters selected: <<{'C': 1.4966}>> for score <<0.670126114262373>>.\n",
      "       4. Grid Search model <<<class 'sklearn.svm.classes.LinearSVC'>>>; weight: <<balanced>>; parameters: <<{'C': [0.4989, 0.5701, 0.6414, 0.7127, 0.7839, 0.8552, 0.9265, 0.9977, 1.069, 1.1403, 1.2115, 1.2828, 1.3541, 1.4253, 1.4966, 1.7104, 1.9242, 2.138, 2.3518, 2.5656, 2.7794, 2.9932, 3.207, 3.4208, 3.6346, 3.8484, 4.0622, 4.276, 4.4898]}>>\n",
      "Fitting 3 folds for each of 29 candidates, totalling 87 fits\n"
     ]
    },
    {
     "name": "stderr",
     "output_type": "stream",
     "text": [
      "[Parallel(n_jobs=1)]: Done  87 out of  87 | elapsed:  1.1min finished\n"
     ]
    },
    {
     "name": "stdout",
     "output_type": "stream",
     "text": [
      "       Best parameters selected: <<{'C': 1.4966}>> for score <<0.670126114262373>>.\n",
      "       4. Grid Search model <<<class 'sklearn.svm.classes.LinearSVC'>>>; weight: <<{1: 1.0, 0: 6.557723577235772, 2: 106.8344370860927}>>; parameters: <<{'C': [0.001, 0.01, 0.1, 1.0, 10.0]}>>\n",
      "Fitting 3 folds for each of 5 candidates, totalling 15 fits\n"
     ]
    },
    {
     "name": "stderr",
     "output_type": "stream",
     "text": [
      "[Parallel(n_jobs=1)]: Done  15 out of  15 | elapsed:    9.7s finished\n"
     ]
    },
    {
     "name": "stdout",
     "output_type": "stream",
     "text": [
      "       Best parameters selected: <<{'C': 1.0}>> for score <<0.6401567187690899>>.\n",
      "       5. Grid Search model <<<class 'sklearn.svm.classes.LinearSVC'>>>; weight: <<{1: 1.0, 0: 6.557723577235772, 2: 106.8344370860927}>>; parameters: <<{'C': [0.3333, 0.381, 0.4286, 0.4762, 0.5238, 0.5714, 0.619, 0.6667, 0.7143, 0.7619, 0.8095, 0.8571, 0.9048, 0.9524, 1.0, 1.1429, 1.2857, 1.4286, 1.5714, 1.7143, 1.8571, 2.0, 2.1429, 2.2857, 2.4286, 2.5714, 2.7143, 2.8571, 3.0]}>>\n",
      "Fitting 3 folds for each of 29 candidates, totalling 87 fits\n"
     ]
    },
    {
     "name": "stderr",
     "output_type": "stream",
     "text": [
      "[Parallel(n_jobs=1)]: Done  87 out of  87 | elapsed:  1.5min finished\n"
     ]
    },
    {
     "name": "stdout",
     "output_type": "stream",
     "text": [
      "       Best parameters selected: <<{'C': 1.4286}>> for score <<0.6426332329805353>>.\n",
      "       6. Grid Search model <<<class 'sklearn.svm.classes.LinearSVC'>>>; weight: <<{1: 1.0, 0: 6.557723577235772, 2: 106.8344370860927}>>; parameters: <<{'C': [0.4762, 0.5442, 0.6123, 0.6803, 0.7483, 0.8163, 0.8844, 0.9524, 1.0204, 1.0885, 1.1565, 1.2245, 1.2925, 1.3606, 1.4286, 1.6327, 1.8368, 2.0409, 2.2449, 2.449, 2.6531, 2.8572, 3.0613, 3.2654, 3.4695, 3.6735, 3.8776, 4.0817, 4.2858]}>>\n",
      "Fitting 3 folds for each of 29 candidates, totalling 87 fits\n"
     ]
    },
    {
     "name": "stderr",
     "output_type": "stream",
     "text": [
      "[Parallel(n_jobs=1)]: Done  87 out of  87 | elapsed:  1.8min finished\n"
     ]
    },
    {
     "name": "stdout",
     "output_type": "stream",
     "text": [
      "       Best parameters selected: <<{'C': 1.4286}>> for score <<0.6426332329805353>>.\n",
      "       Final parameters selected: <<{'C': 1.4966}>> for score <<0.670126114262373>>.\n",
      "\n",
      "          *** Score on validation dataset (macro/weighted) <<0.6566417774970786>> / <<0.8106960950764007>>.\n",
      "[[ 372  166   11]\n",
      " [ 248 1531   12]\n",
      " [   4    5    7]]\n",
      "\n",
      "-------------------------------------------------------------------\n",
      "    3. Fit model for class: <<request>> ((21203, 9005)).\n",
      "    Tuning hyper-parameters for class: <<request>> (Recall).\n",
      "       1. Grid Search model <<<class 'sklearn.svm.classes.LinearSVC'>>>; weight: <<balanced>>; parameters: <<{'C': [0.001, 0.01, 0.1, 1.0, 10.0]}>>\n",
      "Fitting 3 folds for each of 5 candidates, totalling 15 fits\n"
     ]
    },
    {
     "name": "stderr",
     "output_type": "stream",
     "text": [
      "[Parallel(n_jobs=1)]: Done  15 out of  15 | elapsed:    3.1s finished\n"
     ]
    },
    {
     "name": "stdout",
     "output_type": "stream",
     "text": [
      "       Best parameters selected: <<{'C': 0.1}>> for score <<0.8236566880978261>>.\n",
      "       2. Grid Search model <<<class 'sklearn.svm.classes.LinearSVC'>>>; weight: <<balanced>>; parameters: <<{'C': [0.0333, 0.0381, 0.0429, 0.0476, 0.0524, 0.0571, 0.0619, 0.0667, 0.0714, 0.0762, 0.081, 0.0857, 0.0905, 0.0952, 0.1, 0.1143, 0.1286, 0.1429, 0.1571, 0.1714, 0.1857, 0.2, 0.2143, 0.2286, 0.2429, 0.2571, 0.2714, 0.2857, 0.3]}>>\n",
      "Fitting 3 folds for each of 29 candidates, totalling 87 fits\n"
     ]
    },
    {
     "name": "stderr",
     "output_type": "stream",
     "text": [
      "[Parallel(n_jobs=1)]: Done  87 out of  87 | elapsed:    7.7s finished\n"
     ]
    },
    {
     "name": "stdout",
     "output_type": "stream",
     "text": [
      "       Best parameters selected: <<{'C': 0.0381}>> for score <<0.8266114677403128>>.\n",
      "       3. Grid Search model <<<class 'sklearn.svm.classes.LinearSVC'>>>; weight: <<balanced>>; parameters: <<{'C': [0.0127, 0.0145, 0.0163, 0.0181, 0.02, 0.0218, 0.0236, 0.0254, 0.0272, 0.029, 0.0308, 0.0327, 0.0345, 0.0363, 0.0381, 0.0435, 0.049, 0.0544, 0.0599, 0.0653, 0.0708, 0.0762, 0.0816, 0.0871, 0.0925, 0.098, 0.1034, 0.1089, 0.1143]}>>\n",
      "Fitting 3 folds for each of 29 candidates, totalling 87 fits\n"
     ]
    }
   ],
   "source": [
    "v_model, X_train, X_test, y_train, y_test, y_pred_test = executeMain( 'data/DisasterResponse.db', \n",
    "                                                                      'models/savedModel.pkl',\n",
    "                                                                       p_CVSplits = 3,\n",
    "                                                                       p_pointsBin = 15,\n",
    "                                                                       p_maxFeatures = 9000 )"
   ]
  },
  {
   "cell_type": "code",
   "execution_count": null,
   "metadata": {},
   "outputs": [],
   "source": []
  }
 ],
 "metadata": {
  "kernelspec": {
   "display_name": "Python 3",
   "language": "python",
   "name": "python3"
  },
  "language_info": {
   "codemirror_mode": {
    "name": "ipython",
    "version": 3
   },
   "file_extension": ".py",
   "mimetype": "text/x-python",
   "name": "python",
   "nbconvert_exporter": "python",
   "pygments_lexer": "ipython3",
   "version": "3.6.6"
  }
 },
 "nbformat": 4,
 "nbformat_minor": 2
}
