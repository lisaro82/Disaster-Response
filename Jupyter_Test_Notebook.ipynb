{
 "cells": [
  {
   "cell_type": "code",
   "execution_count": null,
   "metadata": {
    "scrolled": false
   },
   "outputs": [
    {
     "name": "stdout",
     "output_type": "stream",
     "text": [
      "Loading data...\n",
      "    Database filepath <<data/DisasterResponse.db>>\n",
      "    Database loaded.\n",
      "Building model...\n",
      "Training model...\n",
      "------------------------------------------------------------------\n",
      "Top 100 words are the following: \n",
      "['water', 'peopl', 'food', 'help', 'need', 'pleas', 'earthquak', 'say', 'area', 'like', 'would', 'flood', 'countri', 'know', '000', 'find', 'thank', 'govern', 'also', 'get', 'hous', 'rain', 'go', 'haiti', 'one', 'inform', 'work', 'year', 'sandi', 'provid', 'make', 'affect', 'tent', 'give', 'includ', 'aid', 'famili', 'region', 'nation', 'good', 'suppli', 'relief', 'live', 'come', 'commun', 'urlplacehold', 'child', 'day', 'two', 'send', 'health', 'take', 'report', 'distribut', 'messag', 'well', 'villag', 'school', 'mani', 'state', 'caus', 'use', 'power', 'sever', 'want', 'support', 'emerg', 'assist', 'new', 'provinc', 'time', 'disast', 'million', 'damag', 'home', 'sinc', 'shelter', 'local', 'build', 'intern', 'continu', 'unit', 'citi', 'district', 'road', 'victim', 'storm', 'hit', 'receiv', 'even', 'last', 'diseas', 'part', 'call', 'crop', 'hurrican', 'leav', 'medic', 'system', 'river']\n",
      "\n",
      "-------------------------------------------------------------------\n",
      "    1. Fit model for class: <<genre>> ((21203, 12004)).\n",
      "    Tuning hyper-parameters for class: <<genre>> (Recall).\n",
      "       1. Grid Search model <<<class 'sklearn.svm.classes.LinearSVC'>>>; weight: <<balanced>>; parameters: <<{'C': [0.001, 0.01, 0.1, 1.0, 10.0]}>>\n",
      "Fitting 9 folds for each of 5 candidates, totalling 45 fits\n"
     ]
    },
    {
     "name": "stderr",
     "output_type": "stream",
     "text": [
      "[Parallel(n_jobs=1)]: Done  45 out of  45 | elapsed:   10.1s finished\n"
     ]
    },
    {
     "name": "stdout",
     "output_type": "stream",
     "text": [
      "       Best parameters selected: <<{'C': 1.0}>> for score <<0.949991712676156>>.\n",
      "       2. Grid Search model <<<class 'sklearn.svm.classes.LinearSVC'>>>; weight: <<balanced>>; parameters: <<{'C': [0.3333, 0.381, 0.4286, 0.4762, 0.5238, 0.5714, 0.619, 0.6667, 0.7143, 0.7619, 0.8095, 0.8571, 0.9048, 0.9524, 1.0, 1.1429, 1.2857, 1.4286, 1.5714, 1.7143, 1.8571, 2.0, 2.1429, 2.2857, 2.4286, 2.5714, 2.7143, 2.8571, 3.0]}>>\n",
      "Fitting 9 folds for each of 29 candidates, totalling 261 fits\n"
     ]
    },
    {
     "name": "stderr",
     "output_type": "stream",
     "text": [
      "[Parallel(n_jobs=1)]: Done 261 out of 261 | elapsed:   58.2s finished\n"
     ]
    },
    {
     "name": "stdout",
     "output_type": "stream",
     "text": [
      "       Best parameters selected: <<{'C': 0.4762}>> for score <<0.9514215229372317>>.\n",
      "       3. Grid Search model <<<class 'sklearn.svm.classes.LinearSVC'>>>; weight: <<balanced>>; parameters: <<{'C': [0.1587, 0.1814, 0.2041, 0.2268, 0.2494, 0.2721, 0.2948, 0.3175, 0.3401, 0.3628, 0.3855, 0.4082, 0.4308, 0.4535, 0.4762, 0.5442, 0.6123, 0.6803, 0.7483, 0.8163, 0.8844, 0.9524, 1.0204, 1.0885, 1.1565, 1.2245, 1.2925, 1.3606, 1.4286]}>>\n",
      "Fitting 9 folds for each of 29 candidates, totalling 261 fits\n"
     ]
    },
    {
     "name": "stderr",
     "output_type": "stream",
     "text": [
      "[Parallel(n_jobs=1)]: Done 261 out of 261 | elapsed:   41.3s finished\n"
     ]
    },
    {
     "name": "stdout",
     "output_type": "stream",
     "text": [
      "       Best parameters selected: <<{'C': 0.4762}>> for score <<0.9514215229372317>>.\n",
      "       Final parameters selected: <<{'C': 0.4762}>> for score <<0.9514215229372317>>.\n",
      "\n",
      "          *** Score on validation dataset (macro/weighted) <<0.9468023619877127>> / <<0.9605263157894737>>.\n",
      "[[1126   28    0]\n",
      " [  40  951    7]\n",
      " [   1   17  186]]\n",
      "\n",
      "-------------------------------------------------------------------\n",
      "    2. Fit model for class: <<related>> ((21203, 12005)).\n",
      "    Tuning hyper-parameters for class: <<related>> (Recall).\n",
      "       1. Grid Search model <<<class 'sklearn.svm.classes.LinearSVC'>>>; weight: <<balanced>>; parameters: <<{'C': [0.001, 0.01, 0.1, 1.0, 10.0]}>>\n",
      "Fitting 9 folds for each of 5 candidates, totalling 45 fits\n"
     ]
    },
    {
     "name": "stderr",
     "output_type": "stream",
     "text": [
      "[Parallel(n_jobs=1)]: Done  45 out of  45 | elapsed:   35.8s finished\n"
     ]
    },
    {
     "name": "stdout",
     "output_type": "stream",
     "text": [
      "       Best parameters selected: <<{'C': 1.0}>> for score <<0.673098161117061>>.\n",
      "       2. Grid Search model <<<class 'sklearn.svm.classes.LinearSVC'>>>; weight: <<balanced>>; parameters: <<{'C': [0.3333, 0.381, 0.4286, 0.4762, 0.5238, 0.5714, 0.619, 0.6667, 0.7143, 0.7619, 0.8095, 0.8571, 0.9048, 0.9524, 1.0, 1.1429, 1.2857, 1.4286, 1.5714, 1.7143, 1.8571, 2.0, 2.1429, 2.2857, 2.4286, 2.5714, 2.7143, 2.8571, 3.0]}>>\n",
      "Fitting 9 folds for each of 29 candidates, totalling 261 fits\n"
     ]
    },
    {
     "name": "stderr",
     "output_type": "stream",
     "text": [
      "[Parallel(n_jobs=1)]: Done 261 out of 261 | elapsed:  4.1min finished\n"
     ]
    },
    {
     "name": "stdout",
     "output_type": "stream",
     "text": [
      "       Best parameters selected: <<{'C': 2.1429}>> for score <<0.6826255799028542>>.\n",
      "       3. Grid Search model <<<class 'sklearn.svm.classes.LinearSVC'>>>; weight: <<balanced>>; parameters: <<{'C': [0.7143, 0.8163, 0.9184, 1.0204, 1.1225, 1.2245, 1.3266, 1.4286, 1.5306, 1.6327, 1.7347, 1.8368, 1.9388, 2.0409, 2.1429, 2.449, 2.7552, 3.0613, 3.3674, 3.6735, 3.9797, 4.2858, 4.5919, 4.8981, 5.2042, 5.5103, 5.8164, 6.1226, 6.4287]}>>\n",
      "Fitting 9 folds for each of 29 candidates, totalling 261 fits\n"
     ]
    },
    {
     "name": "stderr",
     "output_type": "stream",
     "text": [
      "[Parallel(n_jobs=1)]: Done 261 out of 261 | elapsed:  5.9min finished\n"
     ]
    },
    {
     "name": "stdout",
     "output_type": "stream",
     "text": [
      "       Best parameters selected: <<{'C': 2.0409}>> for score <<0.6827438538399414>>.\n",
      "       4. Grid Search model <<<class 'sklearn.svm.classes.LinearSVC'>>>; weight: <<balanced>>; parameters: <<{'C': [0.6803, 0.7775, 0.8747, 0.9719, 1.069, 1.1662, 1.2634, 1.3606, 1.4578, 1.555, 1.6522, 1.7493, 1.8465, 1.9437, 2.0409, 2.3325, 2.624, 2.9156, 3.2071, 3.4987, 3.7902, 4.0818, 4.3734, 4.6649, 4.9565, 5.248, 5.5396, 5.8311, 6.1227]}>>\n",
      "Fitting 9 folds for each of 29 candidates, totalling 261 fits\n"
     ]
    },
    {
     "name": "stderr",
     "output_type": "stream",
     "text": [
      "[Parallel(n_jobs=1)]: Done 261 out of 261 | elapsed:  5.8min finished\n"
     ]
    },
    {
     "name": "stdout",
     "output_type": "stream",
     "text": [
      "       Best parameters selected: <<{'C': 2.0409}>> for score <<0.6827438538399414>>.\n",
      "       4. Grid Search model <<<class 'sklearn.svm.classes.LinearSVC'>>>; weight: <<{1: 1.0, 0: 6.557723577235772, 2: 106.8344370860927}>>; parameters: <<{'C': [0.001, 0.01, 0.1, 1.0, 10.0]}>>\n",
      "Fitting 9 folds for each of 5 candidates, totalling 45 fits\n"
     ]
    },
    {
     "name": "stderr",
     "output_type": "stream",
     "text": [
      "[Parallel(n_jobs=1)]: Done  45 out of  45 | elapsed:   44.0s finished\n"
     ]
    },
    {
     "name": "stdout",
     "output_type": "stream",
     "text": [
      "       Best parameters selected: <<{'C': 0.1}>> for score <<0.6545925774117938>>.\n",
      "       5. Grid Search model <<<class 'sklearn.svm.classes.LinearSVC'>>>; weight: <<{1: 1.0, 0: 6.557723577235772, 2: 106.8344370860927}>>; parameters: <<{'C': [0.0333, 0.0381, 0.0429, 0.0476, 0.0524, 0.0571, 0.0619, 0.0667, 0.0714, 0.0762, 0.081, 0.0857, 0.0905, 0.0952, 0.1, 0.1143, 0.1286, 0.1429, 0.1571, 0.1714, 0.1857, 0.2, 0.2143, 0.2286, 0.2429, 0.2571, 0.2714, 0.2857, 0.3]}>>\n",
      "Fitting 9 folds for each of 29 candidates, totalling 261 fits\n"
     ]
    },
    {
     "name": "stderr",
     "output_type": "stream",
     "text": [
      "[Parallel(n_jobs=1)]: Done 261 out of 261 | elapsed:  3.0min finished\n"
     ]
    },
    {
     "name": "stdout",
     "output_type": "stream",
     "text": [
      "       Best parameters selected: <<{'C': 0.2286}>> for score <<0.6618635725399966>>.\n",
      "       6. Grid Search model <<<class 'sklearn.svm.classes.LinearSVC'>>>; weight: <<{1: 1.0, 0: 6.557723577235772, 2: 106.8344370860927}>>; parameters: <<{'C': [0.0762, 0.0871, 0.098, 0.1089, 0.1197, 0.1306, 0.1415, 0.1524, 0.1633, 0.1742, 0.1851, 0.1959, 0.2068, 0.2177, 0.2286, 0.2613, 0.2939, 0.3266, 0.3592, 0.3919, 0.4245, 0.4572, 0.4899, 0.5225, 0.5552, 0.5878, 0.6205, 0.6531, 0.6858]}>>\n",
      "Fitting 9 folds for each of 29 candidates, totalling 261 fits\n"
     ]
    },
    {
     "name": "stderr",
     "output_type": "stream",
     "text": [
      "[Parallel(n_jobs=1)]: Done 261 out of 261 | elapsed:  3.9min finished\n"
     ]
    },
    {
     "name": "stdout",
     "output_type": "stream",
     "text": [
      "       Best parameters selected: <<{'C': 0.5552}>> for score <<0.663322521405333>>.\n",
      "       7. Grid Search model <<<class 'sklearn.svm.classes.LinearSVC'>>>; weight: <<{1: 1.0, 0: 6.557723577235772, 2: 106.8344370860927}>>; parameters: <<{'C': [0.1851, 0.2115, 0.2379, 0.2644, 0.2908, 0.3173, 0.3437, 0.3701, 0.3966, 0.423, 0.4494, 0.4759, 0.5023, 0.5288, 0.5552, 0.6345, 0.7138, 0.7931, 0.8725, 0.9518, 1.0311, 1.1104, 1.1897, 1.269, 1.3483, 1.4277, 1.507, 1.5863, 1.6656]}>>\n",
      "Fitting 9 folds for each of 29 candidates, totalling 261 fits\n"
     ]
    },
    {
     "name": "stderr",
     "output_type": "stream",
     "text": [
      "[Parallel(n_jobs=1)]: Done 261 out of 261 | elapsed:  5.5min finished\n"
     ]
    },
    {
     "name": "stdout",
     "output_type": "stream",
     "text": [
      "       Best parameters selected: <<{'C': 0.5552}>> for score <<0.663322521405333>>.\n",
      "       Final parameters selected: <<{'C': 2.0409}>> for score <<0.6827438538399414>>.\n",
      "\n",
      "          *** Score on validation dataset (macro/weighted) <<0.6344079993165584>> / <<0.8089983022071308>>.\n",
      "[[ 370  170    9]\n",
      " [ 250 1530   11]\n",
      " [   4    6    6]]\n",
      "\n",
      "-------------------------------------------------------------------\n",
      "    3. Fit model for class: <<request>> ((21203, 12005)).\n",
      "    Tuning hyper-parameters for class: <<request>> (Recall).\n",
      "       1. Grid Search model <<<class 'sklearn.svm.classes.LinearSVC'>>>; weight: <<balanced>>; parameters: <<{'C': [0.001, 0.01, 0.1, 1.0, 10.0]}>>\n",
      "Fitting 9 folds for each of 5 candidates, totalling 45 fits\n"
     ]
    },
    {
     "name": "stderr",
     "output_type": "stream",
     "text": [
      "[Parallel(n_jobs=1)]: Done  45 out of  45 | elapsed:   13.3s finished\n"
     ]
    },
    {
     "name": "stdout",
     "output_type": "stream",
     "text": [
      "       Best parameters selected: <<{'C': 0.1}>> for score <<0.829394970781092>>.\n",
      "       2. Grid Search model <<<class 'sklearn.svm.classes.LinearSVC'>>>; weight: <<balanced>>; parameters: <<{'C': [0.0333, 0.0381, 0.0429, 0.0476, 0.0524, 0.0571, 0.0619, 0.0667, 0.0714, 0.0762, 0.081, 0.0857, 0.0905, 0.0952, 0.1, 0.1143, 0.1286, 0.1429, 0.1571, 0.1714, 0.1857, 0.2, 0.2143, 0.2286, 0.2429, 0.2571, 0.2714, 0.2857, 0.3]}>>\n",
      "Fitting 9 folds for each of 29 candidates, totalling 261 fits\n"
     ]
    },
    {
     "name": "stderr",
     "output_type": "stream",
     "text": [
      "[Parallel(n_jobs=1)]: Done 261 out of 261 | elapsed:   30.8s finished\n"
     ]
    },
    {
     "name": "stdout",
     "output_type": "stream",
     "text": [
      "       Best parameters selected: <<{'C': 0.0667}>> for score <<0.8314447022193978>>.\n",
      "       3. Grid Search model <<<class 'sklearn.svm.classes.LinearSVC'>>>; weight: <<balanced>>; parameters: <<{'C': [0.0222, 0.0254, 0.0286, 0.0318, 0.0349, 0.0381, 0.0413, 0.0445, 0.0476, 0.0508, 0.054, 0.0572, 0.0603, 0.0635, 0.0667, 0.0762, 0.0858, 0.0953, 0.1048, 0.1143, 0.1239, 0.1334, 0.1429, 0.1525, 0.162, 0.1715, 0.181, 0.1906, 0.2001]}>>\n",
      "Fitting 9 folds for each of 29 candidates, totalling 261 fits\n"
     ]
    },
    {
     "name": "stderr",
     "output_type": "stream",
     "text": [
      "[Parallel(n_jobs=1)]: Done 261 out of 261 | elapsed:   24.6s finished\n"
     ]
    },
    {
     "name": "stdout",
     "output_type": "stream",
     "text": [
      "       Best parameters selected: <<{'C': 0.0667}>> for score <<0.8314447022193978>>.\n",
      "       3. Grid Search model <<<class 'sklearn.svm.classes.LinearSVC'>>>; weight: <<{0: 1.0, 1: 9.895091164095373}>>; parameters: <<{'C': [0.001, 0.01, 0.1, 1.0, 10.0]}>>\n",
      "Fitting 9 folds for each of 5 candidates, totalling 45 fits\n"
     ]
    },
    {
     "name": "stderr",
     "output_type": "stream",
     "text": [
      "[Parallel(n_jobs=1)]: Done  45 out of  45 | elapsed:   20.6s finished\n"
     ]
    },
    {
     "name": "stdout",
     "output_type": "stream",
     "text": [
      "       Best parameters selected: <<{'C': 0.1}>> for score <<0.8197875181777853>>.\n",
      "       4. Grid Search model <<<class 'sklearn.svm.classes.LinearSVC'>>>; weight: <<{0: 1.0, 1: 9.895091164095373}>>; parameters: <<{'C': [0.0333, 0.0381, 0.0429, 0.0476, 0.0524, 0.0571, 0.0619, 0.0667, 0.0714, 0.0762, 0.081, 0.0857, 0.0905, 0.0952, 0.1, 0.1143, 0.1286, 0.1429, 0.1571, 0.1714, 0.1857, 0.2, 0.2143, 0.2286, 0.2429, 0.2571, 0.2714, 0.2857, 0.3]}>>\n",
      "Fitting 9 folds for each of 29 candidates, totalling 261 fits\n"
     ]
    },
    {
     "name": "stderr",
     "output_type": "stream",
     "text": [
      "[Parallel(n_jobs=1)]: Done 261 out of 261 | elapsed:  1.1min finished\n"
     ]
    },
    {
     "name": "stdout",
     "output_type": "stream",
     "text": [
      "       Best parameters selected: <<{'C': 0.0429}>> for score <<0.8249565153272107>>.\n",
      "       5. Grid Search model <<<class 'sklearn.svm.classes.LinearSVC'>>>; weight: <<{0: 1.0, 1: 9.895091164095373}>>; parameters: <<{'C': [0.0143, 0.0163, 0.0184, 0.0204, 0.0225, 0.0245, 0.0266, 0.0286, 0.0306, 0.0327, 0.0347, 0.0368, 0.0388, 0.0409, 0.0429, 0.049, 0.0552, 0.0613, 0.0674, 0.0735, 0.0797, 0.0858, 0.0919, 0.0981, 0.1042, 0.1103, 0.1164, 0.1226, 0.1287]}>>\n",
      "Fitting 9 folds for each of 29 candidates, totalling 261 fits\n"
     ]
    },
    {
     "name": "stderr",
     "output_type": "stream",
     "text": [
      "[Parallel(n_jobs=1)]: Done 261 out of 261 | elapsed:   38.9s finished\n"
     ]
    },
    {
     "name": "stdout",
     "output_type": "stream",
     "text": [
      "       Best parameters selected: <<{'C': 0.0429}>> for score <<0.8249565153272107>>.\n",
      "       Final parameters selected: <<{'C': 0.0667}>> for score <<0.8314447022193978>>.\n",
      "\n",
      "          *** Score on validation dataset (macro/weighted) <<0.8167273888014441>> / <<0.8629032258064516>>.\n",
      "[[1718  215]\n",
      " [ 108  315]]\n",
      "\n",
      "-------------------------------------------------------------------\n",
      "    4. Fit model for class: <<offer>> ((21203, 12005)).\n",
      "    Tuning hyper-parameters for class: <<offer>> (Recall).\n",
      "       1. Grid Search model <<<class 'sklearn.svm.classes.LinearSVC'>>>; weight: <<balanced>>; parameters: <<{'C': [0.001, 0.01, 0.1, 1.0, 10.0]}>>\n",
      "Fitting 9 folds for each of 5 candidates, totalling 45 fits\n"
     ]
    },
    {
     "name": "stderr",
     "output_type": "stream",
     "text": [
      "[Parallel(n_jobs=1)]: Done  45 out of  45 | elapsed:    5.5s finished\n"
     ]
    },
    {
     "name": "stdout",
     "output_type": "stream",
     "text": [
      "       Best parameters selected: <<{'C': 0.001}>> for score <<0.6764977662044952>>.\n",
      "       2. Grid Search model <<<class 'sklearn.svm.classes.LinearSVC'>>>; weight: <<balanced>>; parameters: <<{'C': [0.0003, 0.0004, 0.0004, 0.0005, 0.0005, 0.0006, 0.0006, 0.0007, 0.0007, 0.0008, 0.0008, 0.0009, 0.0009, 0.001, 0.001, 0.0011, 0.0013, 0.0014, 0.0016, 0.0017, 0.0019, 0.002, 0.0021, 0.0023, 0.0024, 0.0026, 0.0027, 0.0029, 0.003]}>>\n",
      "Fitting 9 folds for each of 29 candidates, totalling 261 fits\n"
     ]
    },
    {
     "name": "stderr",
     "output_type": "stream",
     "text": [
      "[Parallel(n_jobs=1)]: Done 261 out of 261 | elapsed:   15.9s finished\n"
     ]
    },
    {
     "name": "stdout",
     "output_type": "stream",
     "text": [
      "       Best parameters selected: <<{'C': 0.001}>> for score <<0.6764977662044952>>.\n",
      "       2. Grid Search model <<<class 'sklearn.svm.classes.LinearSVC'>>>; weight: <<{0: 1.0, 1: 242.71264367816093}>>; parameters: <<{'C': [0.001, 0.01, 0.1, 1.0, 10.0]}>>\n",
      "Fitting 9 folds for each of 5 candidates, totalling 45 fits\n"
     ]
    },
    {
     "name": "stderr",
     "output_type": "stream",
     "text": [
      "[Parallel(n_jobs=1)]: Done  45 out of  45 | elapsed:    5.8s finished\n"
     ]
    },
    {
     "name": "stdout",
     "output_type": "stream",
     "text": [
      "       Best parameters selected: <<{'C': 0.001}>> for score <<0.653638193608684>>.\n",
      "       3. Grid Search model <<<class 'sklearn.svm.classes.LinearSVC'>>>; weight: <<{0: 1.0, 1: 242.71264367816093}>>; parameters: <<{'C': [0.0003, 0.0004, 0.0004, 0.0005, 0.0005, 0.0006, 0.0006, 0.0007, 0.0007, 0.0008, 0.0008, 0.0009, 0.0009, 0.001, 0.001, 0.0011, 0.0013, 0.0014, 0.0016, 0.0017, 0.0019, 0.002, 0.0021, 0.0023, 0.0024, 0.0026, 0.0027, 0.0029, 0.003]}>>\n",
      "Fitting 9 folds for each of 29 candidates, totalling 261 fits\n"
     ]
    },
    {
     "name": "stderr",
     "output_type": "stream",
     "text": [
      "[Parallel(n_jobs=1)]: Done 261 out of 261 | elapsed:   20.8s finished\n"
     ]
    },
    {
     "name": "stdout",
     "output_type": "stream",
     "text": [
      "       Best parameters selected: <<{'C': 0.0005}>> for score <<0.6766164075307529>>.\n",
      "       4. Grid Search model <<<class 'sklearn.svm.classes.LinearSVC'>>>; weight: <<{0: 1.0, 1: 242.71264367816093}>>; parameters: <<{'C': [0.0002, 0.0002, 0.0002, 0.0002, 0.0003, 0.0003, 0.0003, 0.0003, 0.0004, 0.0004, 0.0004, 0.0004, 0.0005, 0.0005, 0.0005, 0.0006, 0.0006, 0.0007, 0.0008, 0.0009, 0.0009, 0.001, 0.0011, 0.0011, 0.0012, 0.0013, 0.0014, 0.0014, 0.0015]}>>\n",
      "Fitting 9 folds for each of 29 candidates, totalling 261 fits\n"
     ]
    },
    {
     "name": "stderr",
     "output_type": "stream",
     "text": [
      "[Parallel(n_jobs=1)]: Done 261 out of 261 | elapsed:   15.6s finished\n"
     ]
    },
    {
     "name": "stdout",
     "output_type": "stream",
     "text": [
      "       Best parameters selected: <<{'C': 0.0005}>> for score <<0.6766164075307529>>.\n",
      "       Final parameters selected: <<{'C': 0.001}>> for score <<0.6764977662044952>>.\n",
      "\n",
      "          *** Score on validation dataset (macro/weighted) <<0.6081782067697561>> / <<0.9053480475382003>>.\n",
      "[[2129  214]\n",
      " [   9    4]]\n",
      "\n",
      "-------------------------------------------------------------------\n",
      "    5. Fit model for class: <<aid_related>> ((21203, 12005)).\n",
      "    Tuning hyper-parameters for class: <<aid_related>> (Recall).\n",
      "       1. Grid Search model <<<class 'sklearn.svm.classes.LinearSVC'>>>; weight: <<balanced>>; parameters: <<{'C': [0.001, 0.01, 0.1, 1.0, 10.0]}>>\n",
      "Fitting 9 folds for each of 5 candidates, totalling 45 fits\n"
     ]
    },
    {
     "name": "stderr",
     "output_type": "stream",
     "text": [
      "[Parallel(n_jobs=1)]: Done  45 out of  45 | elapsed:   16.5s finished\n"
     ]
    },
    {
     "name": "stdout",
     "output_type": "stream",
     "text": [
      "       Best parameters selected: <<{'C': 0.1}>> for score <<0.7723460134569826>>.\n",
      "       2. Grid Search model <<<class 'sklearn.svm.classes.LinearSVC'>>>; weight: <<balanced>>; parameters: <<{'C': [0.0333, 0.0381, 0.0429, 0.0476, 0.0524, 0.0571, 0.0619, 0.0667, 0.0714, 0.0762, 0.081, 0.0857, 0.0905, 0.0952, 0.1, 0.1143, 0.1286, 0.1429, 0.1571, 0.1714, 0.1857, 0.2, 0.2143, 0.2286, 0.2429, 0.2571, 0.2714, 0.2857, 0.3]}>>\n",
      "Fitting 9 folds for each of 29 candidates, totalling 261 fits\n"
     ]
    },
    {
     "name": "stderr",
     "output_type": "stream",
     "text": [
      "[Parallel(n_jobs=1)]: Done 261 out of 261 | elapsed:   21.0s finished\n"
     ]
    },
    {
     "name": "stdout",
     "output_type": "stream",
     "text": [
      "       Best parameters selected: <<{'C': 0.0667}>> for score <<0.7734473813225269>>.\n",
      "       3. Grid Search model <<<class 'sklearn.svm.classes.LinearSVC'>>>; weight: <<balanced>>; parameters: <<{'C': [0.0222, 0.0254, 0.0286, 0.0318, 0.0349, 0.0381, 0.0413, 0.0445, 0.0476, 0.0508, 0.054, 0.0572, 0.0603, 0.0635, 0.0667, 0.0762, 0.0858, 0.0953, 0.1048, 0.1143, 0.1239, 0.1334, 0.1429, 0.1525, 0.162, 0.1715, 0.181, 0.1906, 0.2001]}>>\n",
      "Fitting 9 folds for each of 29 candidates, totalling 261 fits\n"
     ]
    },
    {
     "name": "stderr",
     "output_type": "stream",
     "text": [
      "[Parallel(n_jobs=1)]: Done 261 out of 261 | elapsed:   17.4s finished\n"
     ]
    },
    {
     "name": "stdout",
     "output_type": "stream",
     "text": [
      "       Best parameters selected: <<{'C': 0.0667}>> for score <<0.7734473813225269>>.\n",
      "       3. Grid Search model <<<class 'sklearn.svm.classes.LinearSVC'>>>; weight: <<{0: 1.0, 1: 2.844185515193055}>>; parameters: <<{'C': [0.001, 0.01, 0.1, 1.0, 10.0]}>>\n",
      "Fitting 9 folds for each of 5 candidates, totalling 45 fits\n"
     ]
    },
    {
     "name": "stderr",
     "output_type": "stream",
     "text": [
      "[Parallel(n_jobs=1)]: Done  45 out of  45 | elapsed:   19.3s finished\n"
     ]
    },
    {
     "name": "stdout",
     "output_type": "stream",
     "text": [
      "       Best parameters selected: <<{'C': 0.1}>> for score <<0.7625291383465024>>.\n",
      "       4. Grid Search model <<<class 'sklearn.svm.classes.LinearSVC'>>>; weight: <<{0: 1.0, 1: 2.844185515193055}>>; parameters: <<{'C': [0.0333, 0.0381, 0.0429, 0.0476, 0.0524, 0.0571, 0.0619, 0.0667, 0.0714, 0.0762, 0.081, 0.0857, 0.0905, 0.0952, 0.1, 0.1143, 0.1286, 0.1429, 0.1571, 0.1714, 0.1857, 0.2, 0.2143, 0.2286, 0.2429, 0.2571, 0.2714, 0.2857, 0.3]}>>\n",
      "Fitting 9 folds for each of 29 candidates, totalling 261 fits\n"
     ]
    },
    {
     "name": "stderr",
     "output_type": "stream",
     "text": [
      "[Parallel(n_jobs=1)]: Done 261 out of 261 | elapsed:   33.3s finished\n"
     ]
    },
    {
     "name": "stdout",
     "output_type": "stream",
     "text": [
      "       Best parameters selected: <<{'C': 0.1571}>> for score <<0.7630330424144119>>.\n",
      "       5. Grid Search model <<<class 'sklearn.svm.classes.LinearSVC'>>>; weight: <<{0: 1.0, 1: 2.844185515193055}>>; parameters: <<{'C': [0.0524, 0.0598, 0.0673, 0.0748, 0.0823, 0.0898, 0.0973, 0.1047, 0.1122, 0.1197, 0.1272, 0.1347, 0.1421, 0.1496, 0.1571, 0.1795, 0.202, 0.2244, 0.2469, 0.2693, 0.2918, 0.3142, 0.3366, 0.3591, 0.3815, 0.404, 0.4264, 0.4489, 0.4713]}>>\n",
      "Fitting 9 folds for each of 29 candidates, totalling 261 fits\n"
     ]
    },
    {
     "name": "stderr",
     "output_type": "stream",
     "text": [
      "[Parallel(n_jobs=1)]: Done 261 out of 261 | elapsed:   45.5s finished\n"
     ]
    },
    {
     "name": "stdout",
     "output_type": "stream",
     "text": [
      "       Best parameters selected: <<{'C': 0.1122}>> for score <<0.7632360774688042>>.\n",
      "       6. Grid Search model <<<class 'sklearn.svm.classes.LinearSVC'>>>; weight: <<{0: 1.0, 1: 2.844185515193055}>>; parameters: <<{'C': [0.0374, 0.0427, 0.0481, 0.0534, 0.0588, 0.0641, 0.0695, 0.0748, 0.0801, 0.0855, 0.0908, 0.0962, 0.1015, 0.1069, 0.1122, 0.1282, 0.1443, 0.1603, 0.1763, 0.1923, 0.2084, 0.2244, 0.2404, 0.2565, 0.2725, 0.2885, 0.3045, 0.3206, 0.3366]}>>\n",
      "Fitting 9 folds for each of 29 candidates, totalling 261 fits\n"
     ]
    },
    {
     "name": "stderr",
     "output_type": "stream",
     "text": [
      "[Parallel(n_jobs=1)]: Done 261 out of 261 | elapsed:   35.9s finished\n"
     ]
    },
    {
     "name": "stdout",
     "output_type": "stream",
     "text": [
      "       Best parameters selected: <<{'C': 0.1122}>> for score <<0.7632360774688042>>.\n",
      "       Final parameters selected: <<{'C': 0.0667}>> for score <<0.7734473813225269>>.\n",
      "\n",
      "          *** Score on validation dataset (macro/weighted) <<0.7735499391582863>> / <<0.7780135823429541>>.\n",
      "[[1085  264]\n",
      " [ 259  748]]\n",
      "\n",
      "-------------------------------------------------------------------\n",
      "    6. Fit model for class: <<medical_help>> ((21203, 12005)).\n",
      "    Tuning hyper-parameters for class: <<medical_help>> (Recall).\n",
      "       1. Grid Search model <<<class 'sklearn.svm.classes.LinearSVC'>>>; weight: <<balanced>>; parameters: <<{'C': [0.001, 0.01, 0.1, 1.0, 10.0]}>>\n",
      "Fitting 9 folds for each of 5 candidates, totalling 45 fits\n"
     ]
    },
    {
     "name": "stderr",
     "output_type": "stream",
     "text": [
      "[Parallel(n_jobs=1)]: Done  45 out of  45 | elapsed:   15.8s finished\n"
     ]
    },
    {
     "name": "stdout",
     "output_type": "stream",
     "text": [
      "       Best parameters selected: <<{'C': 0.01}>> for score <<0.7759423574191823>>.\n",
      "       2. Grid Search model <<<class 'sklearn.svm.classes.LinearSVC'>>>; weight: <<balanced>>; parameters: <<{'C': [0.0033, 0.0038, 0.0043, 0.0048, 0.0052, 0.0057, 0.0062, 0.0067, 0.0071, 0.0076, 0.0081, 0.0086, 0.009, 0.0095, 0.01, 0.0114, 0.0129, 0.0143, 0.0157, 0.0171, 0.0186, 0.02, 0.0214, 0.0229, 0.0243, 0.0257, 0.0271, 0.0286, 0.03]}>>\n",
      "Fitting 9 folds for each of 29 candidates, totalling 261 fits\n"
     ]
    },
    {
     "name": "stderr",
     "output_type": "stream",
     "text": [
      "[Parallel(n_jobs=1)]: Done 261 out of 261 | elapsed:   14.4s finished\n"
     ]
    },
    {
     "name": "stdout",
     "output_type": "stream",
     "text": [
      "       Best parameters selected: <<{'C': 0.0271}>> for score <<0.7856845329211863>>.\n",
      "       3. Grid Search model <<<class 'sklearn.svm.classes.LinearSVC'>>>; weight: <<balanced>>; parameters: <<{'C': [0.009, 0.0103, 0.0116, 0.0129, 0.0142, 0.0155, 0.0168, 0.0181, 0.0194, 0.0206, 0.0219, 0.0232, 0.0245, 0.0258, 0.0271, 0.031, 0.0348, 0.0387, 0.0426, 0.0465, 0.0503, 0.0542, 0.0581, 0.0619, 0.0658, 0.0697, 0.0736, 0.0774, 0.0813]}>>\n",
      "Fitting 9 folds for each of 29 candidates, totalling 261 fits\n"
     ]
    },
    {
     "name": "stderr",
     "output_type": "stream",
     "text": [
      "[Parallel(n_jobs=1)]: Done 261 out of 261 | elapsed:   22.8s finished\n"
     ]
    },
    {
     "name": "stdout",
     "output_type": "stream",
     "text": [
      "       Best parameters selected: <<{'C': 0.0271}>> for score <<0.7856845329211863>>.\n",
      "       3. Grid Search model <<<class 'sklearn.svm.classes.LinearSVC'>>>; weight: <<{0: 1.0, 1: 23.484375}>>; parameters: <<{'C': [0.001, 0.01, 0.1, 1.0, 10.0]}>>\n",
      "Fitting 9 folds for each of 5 candidates, totalling 45 fits\n"
     ]
    },
    {
     "name": "stderr",
     "output_type": "stream",
     "text": [
      "[Parallel(n_jobs=1)]: Done  45 out of  45 | elapsed:   19.7s finished\n"
     ]
    },
    {
     "name": "stdout",
     "output_type": "stream",
     "text": [
      "       Best parameters selected: <<{'C': 0.1}>> for score <<0.761748237813052>>.\n",
      "       4. Grid Search model <<<class 'sklearn.svm.classes.LinearSVC'>>>; weight: <<{0: 1.0, 1: 23.484375}>>; parameters: <<{'C': [0.0333, 0.0381, 0.0429, 0.0476, 0.0524, 0.0571, 0.0619, 0.0667, 0.0714, 0.0762, 0.081, 0.0857, 0.0905, 0.0952, 0.1, 0.1143, 0.1286, 0.1429, 0.1571, 0.1714, 0.1857, 0.2, 0.2143, 0.2286, 0.2429, 0.2571, 0.2714, 0.2857, 0.3]}>>\n",
      "Fitting 9 folds for each of 29 candidates, totalling 261 fits\n"
     ]
    },
    {
     "name": "stderr",
     "output_type": "stream",
     "text": [
      "[Parallel(n_jobs=1)]: Done 261 out of 261 | elapsed:  2.1min finished\n"
     ]
    },
    {
     "name": "stdout",
     "output_type": "stream",
     "text": [
      "       Best parameters selected: <<{'C': 0.0333}>> for score <<0.776843597977181>>.\n",
      "       5. Grid Search model <<<class 'sklearn.svm.classes.LinearSVC'>>>; weight: <<{0: 1.0, 1: 23.484375}>>; parameters: <<{'C': [0.0111, 0.0127, 0.0143, 0.0159, 0.0174, 0.019, 0.0206, 0.0222, 0.0238, 0.0254, 0.027, 0.0285, 0.0301, 0.0317, 0.0333, 0.0381, 0.0428, 0.0476, 0.0523, 0.0571, 0.0618, 0.0666, 0.0714, 0.0761, 0.0809, 0.0856, 0.0904, 0.0951, 0.0999]}>>\n",
      "Fitting 9 folds for each of 29 candidates, totalling 261 fits\n"
     ]
    },
    {
     "name": "stderr",
     "output_type": "stream",
     "text": [
      "[Parallel(n_jobs=1)]: Done 261 out of 261 | elapsed:   59.8s finished\n"
     ]
    },
    {
     "name": "stdout",
     "output_type": "stream",
     "text": [
      "       Best parameters selected: <<{'C': 0.0222}>> for score <<0.7772256797261033>>.\n",
      "       6. Grid Search model <<<class 'sklearn.svm.classes.LinearSVC'>>>; weight: <<{0: 1.0, 1: 23.484375}>>; parameters: <<{'C': [0.0074, 0.0085, 0.0095, 0.0106, 0.0116, 0.0127, 0.0137, 0.0148, 0.0159, 0.0169, 0.018, 0.019, 0.0201, 0.0211, 0.0222, 0.0254, 0.0285, 0.0317, 0.0349, 0.0381, 0.0412, 0.0444, 0.0476, 0.0507, 0.0539, 0.0571, 0.0603, 0.0634, 0.0666]}>>\n",
      "Fitting 9 folds for each of 29 candidates, totalling 261 fits\n"
     ]
    },
    {
     "name": "stderr",
     "output_type": "stream",
     "text": [
      "[Parallel(n_jobs=1)]: Done 261 out of 261 | elapsed:   45.2s finished\n"
     ]
    },
    {
     "name": "stdout",
     "output_type": "stream",
     "text": [
      "       Best parameters selected: <<{'C': 0.018}>> for score <<0.7778528860011557>>.\n",
      "       7. Grid Search model <<<class 'sklearn.svm.classes.LinearSVC'>>>; weight: <<{0: 1.0, 1: 23.484375}>>; parameters: <<{'C': [0.006, 0.0069, 0.0077, 0.0086, 0.0094, 0.0103, 0.0111, 0.012, 0.0129, 0.0137, 0.0146, 0.0154, 0.0163, 0.0171, 0.018, 0.0206, 0.0231, 0.0257, 0.0283, 0.0309, 0.0334, 0.036, 0.0386, 0.0411, 0.0437, 0.0463, 0.0489, 0.0514, 0.054]}>>\n",
      "Fitting 9 folds for each of 29 candidates, totalling 261 fits\n"
     ]
    },
    {
     "name": "stderr",
     "output_type": "stream",
     "text": [
      "[Parallel(n_jobs=1)]: Done 261 out of 261 | elapsed:   38.9s finished\n"
     ]
    },
    {
     "name": "stdout",
     "output_type": "stream",
     "text": [
      "       Best parameters selected: <<{'C': 0.018}>> for score <<0.7778528860011557>>.\n",
      "       Final parameters selected: <<{'C': 0.0271}>> for score <<0.7856845329211863>>.\n",
      "\n",
      "          *** Score on validation dataset (macro/weighted) <<0.7797452721325233>> / <<0.8756366723259762>>.\n",
      "[[1934  228]\n",
      " [  65  129]]\n",
      "\n",
      "-------------------------------------------------------------------\n",
      "    7. Fit model for class: <<medical_products>> ((21203, 12005)).\n",
      "    Tuning hyper-parameters for class: <<medical_products>> (Recall).\n",
      "       1. Grid Search model <<<class 'sklearn.svm.classes.LinearSVC'>>>; weight: <<balanced>>; parameters: <<{'C': [0.001, 0.01, 0.1, 1.0, 10.0]}>>\n",
      "Fitting 9 folds for each of 5 candidates, totalling 45 fits\n"
     ]
    },
    {
     "name": "stderr",
     "output_type": "stream",
     "text": [
      "[Parallel(n_jobs=1)]: Done  45 out of  45 | elapsed:   11.1s finished\n"
     ]
    },
    {
     "name": "stdout",
     "output_type": "stream",
     "text": [
      "       Best parameters selected: <<{'C': 0.01}>> for score <<0.790165443719833>>.\n",
      "       2. Grid Search model <<<class 'sklearn.svm.classes.LinearSVC'>>>; weight: <<balanced>>; parameters: <<{'C': [0.0033, 0.0038, 0.0043, 0.0048, 0.0052, 0.0057, 0.0062, 0.0067, 0.0071, 0.0076, 0.0081, 0.0086, 0.009, 0.0095, 0.01, 0.0114, 0.0129, 0.0143, 0.0157, 0.0171, 0.0186, 0.02, 0.0214, 0.0229, 0.0243, 0.0257, 0.0271, 0.0286, 0.03]}>>\n",
      "Fitting 9 folds for each of 29 candidates, totalling 261 fits\n"
     ]
    },
    {
     "name": "stderr",
     "output_type": "stream",
     "text": [
      "[Parallel(n_jobs=1)]: Done 261 out of 261 | elapsed:   16.8s finished\n"
     ]
    },
    {
     "name": "stdout",
     "output_type": "stream",
     "text": [
      "       Best parameters selected: <<{'C': 0.02}>> for score <<0.7923294905799533>>.\n",
      "       3. Grid Search model <<<class 'sklearn.svm.classes.LinearSVC'>>>; weight: <<balanced>>; parameters: <<{'C': [0.0067, 0.0076, 0.0086, 0.0095, 0.0105, 0.0114, 0.0124, 0.0133, 0.0143, 0.0152, 0.0162, 0.0171, 0.0181, 0.019, 0.02, 0.0229, 0.0257, 0.0286, 0.0314, 0.0343, 0.0371, 0.04, 0.0429, 0.0457, 0.0486, 0.0514, 0.0543, 0.0571, 0.06]}>>\n",
      "Fitting 9 folds for each of 29 candidates, totalling 261 fits\n"
     ]
    },
    {
     "name": "stderr",
     "output_type": "stream",
     "text": [
      "[Parallel(n_jobs=1)]: Done 261 out of 261 | elapsed:   22.6s finished\n"
     ]
    },
    {
     "name": "stdout",
     "output_type": "stream",
     "text": [
      "       Best parameters selected: <<{'C': 0.02}>> for score <<0.7923294905799533>>.\n",
      "       3. Grid Search model <<<class 'sklearn.svm.classes.LinearSVC'>>>; weight: <<{0: 1.0, 1: 38.42516682554814}>>; parameters: <<{'C': [0.001, 0.01, 0.1, 1.0, 10.0]}>>\n",
      "Fitting 9 folds for each of 5 candidates, totalling 45 fits\n"
     ]
    },
    {
     "name": "stderr",
     "output_type": "stream",
     "text": [
      "[Parallel(n_jobs=1)]: Done  45 out of  45 | elapsed:   14.5s finished\n"
     ]
    },
    {
     "name": "stdout",
     "output_type": "stream",
     "text": [
      "       Best parameters selected: <<{'C': 0.01}>> for score <<0.7927265181690774>>.\n",
      "       4. Grid Search model <<<class 'sklearn.svm.classes.LinearSVC'>>>; weight: <<{0: 1.0, 1: 38.42516682554814}>>; parameters: <<{'C': [0.0033, 0.0038, 0.0043, 0.0048, 0.0052, 0.0057, 0.0062, 0.0067, 0.0071, 0.0076, 0.0081, 0.0086, 0.009, 0.0095, 0.01, 0.0114, 0.0129, 0.0143, 0.0157, 0.0171, 0.0186, 0.02, 0.0214, 0.0229, 0.0243, 0.0257, 0.0271, 0.0286, 0.03]}>>\n",
      "Fitting 9 folds for each of 29 candidates, totalling 261 fits\n"
     ]
    },
    {
     "name": "stderr",
     "output_type": "stream",
     "text": [
      "[Parallel(n_jobs=1)]: Done 261 out of 261 | elapsed:   30.2s finished\n"
     ]
    },
    {
     "name": "stdout",
     "output_type": "stream",
     "text": [
      "       Best parameters selected: <<{'C': 0.0143}>> for score <<0.7980340673634575>>.\n",
      "       5. Grid Search model <<<class 'sklearn.svm.classes.LinearSVC'>>>; weight: <<{0: 1.0, 1: 38.42516682554814}>>; parameters: <<{'C': [0.0048, 0.0054, 0.0061, 0.0068, 0.0075, 0.0082, 0.0089, 0.0095, 0.0102, 0.0109, 0.0116, 0.0123, 0.0129, 0.0136, 0.0143, 0.0163, 0.0184, 0.0204, 0.0225, 0.0245, 0.0266, 0.0286, 0.0306, 0.0327, 0.0347, 0.0368, 0.0388, 0.0409, 0.0429]}>>\n",
      "Fitting 9 folds for each of 29 candidates, totalling 261 fits\n"
     ]
    },
    {
     "name": "stderr",
     "output_type": "stream",
     "text": [
      "[Parallel(n_jobs=1)]: Done 261 out of 261 | elapsed:   35.9s finished\n"
     ]
    },
    {
     "name": "stdout",
     "output_type": "stream",
     "text": [
      "       Best parameters selected: <<{'C': 0.0143}>> for score <<0.7980340673634575>>.\n",
      "       Final parameters selected: <<{'C': 0.02}>> for score <<0.7923294905799533>>.\n",
      "\n",
      "          *** Score on validation dataset (macro/weighted) <<0.7515681003584229>> / <<0.8972835314091681>>.\n",
      "[[2041  191]\n",
      " [  51   73]]\n",
      "\n",
      "-------------------------------------------------------------------\n",
      "    8. Fit model for class: <<search_and_rescue>> ((21203, 12005)).\n",
      "    Tuning hyper-parameters for class: <<search_and_rescue>> (Recall).\n",
      "       1. Grid Search model <<<class 'sklearn.svm.classes.LinearSVC'>>>; weight: <<balanced>>; parameters: <<{'C': [0.001, 0.01, 0.1, 1.0, 10.0]}>>\n",
      "Fitting 9 folds for each of 5 candidates, totalling 45 fits\n"
     ]
    },
    {
     "name": "stderr",
     "output_type": "stream",
     "text": [
      "[Parallel(n_jobs=1)]: Done  45 out of  45 | elapsed:   13.9s finished\n"
     ]
    },
    {
     "name": "stdout",
     "output_type": "stream",
     "text": [
      "       Best parameters selected: <<{'C': 0.01}>> for score <<0.7082265807666375>>.\n",
      "       2. Grid Search model <<<class 'sklearn.svm.classes.LinearSVC'>>>; weight: <<balanced>>; parameters: <<{'C': [0.0033, 0.0038, 0.0043, 0.0048, 0.0052, 0.0057, 0.0062, 0.0067, 0.0071, 0.0076, 0.0081, 0.0086, 0.009, 0.0095, 0.01, 0.0114, 0.0129, 0.0143, 0.0157, 0.0171, 0.0186, 0.02, 0.0214, 0.0229, 0.0243, 0.0257, 0.0271, 0.0286, 0.03]}>>\n",
      "Fitting 9 folds for each of 29 candidates, totalling 261 fits\n"
     ]
    },
    {
     "name": "stderr",
     "output_type": "stream",
     "text": [
      "[Parallel(n_jobs=1)]: Done 261 out of 261 | elapsed:   22.4s finished\n"
     ]
    },
    {
     "name": "stdout",
     "output_type": "stream",
     "text": [
      "       Best parameters selected: <<{'C': 0.0057}>> for score <<0.715071079899848>>.\n",
      "       3. Grid Search model <<<class 'sklearn.svm.classes.LinearSVC'>>>; weight: <<balanced>>; parameters: <<{'C': [0.0019, 0.0022, 0.0024, 0.0027, 0.003, 0.0033, 0.0035, 0.0038, 0.0041, 0.0043, 0.0046, 0.0049, 0.0052, 0.0054, 0.0057, 0.0065, 0.0073, 0.0081, 0.009, 0.0098, 0.0106, 0.0114, 0.0122, 0.013, 0.0138, 0.0147, 0.0155, 0.0163, 0.0171]}>>\n",
      "Fitting 9 folds for each of 29 candidates, totalling 261 fits\n"
     ]
    },
    {
     "name": "stderr",
     "output_type": "stream",
     "text": [
      "[Parallel(n_jobs=1)]: Done 261 out of 261 | elapsed:   16.9s finished\n"
     ]
    },
    {
     "name": "stdout",
     "output_type": "stream",
     "text": [
      "       Best parameters selected: <<{'C': 0.0057}>> for score <<0.715071079899848>>.\n",
      "       3. Grid Search model <<<class 'sklearn.svm.classes.LinearSVC'>>>; weight: <<{0: 1.0, 1: 70.61301369863014}>>; parameters: <<{'C': [0.001, 0.01, 0.1, 1.0, 10.0]}>>\n",
      "Fitting 9 folds for each of 5 candidates, totalling 45 fits\n"
     ]
    },
    {
     "name": "stderr",
     "output_type": "stream",
     "text": [
      "[Parallel(n_jobs=1)]: Done  45 out of  45 | elapsed:   14.9s finished\n"
     ]
    },
    {
     "name": "stdout",
     "output_type": "stream",
     "text": [
      "       Best parameters selected: <<{'C': 0.01}>> for score <<0.710618432777495>>.\n",
      "       4. Grid Search model <<<class 'sklearn.svm.classes.LinearSVC'>>>; weight: <<{0: 1.0, 1: 70.61301369863014}>>; parameters: <<{'C': [0.0033, 0.0038, 0.0043, 0.0048, 0.0052, 0.0057, 0.0062, 0.0067, 0.0071, 0.0076, 0.0081, 0.0086, 0.009, 0.0095, 0.01, 0.0114, 0.0129, 0.0143, 0.0157, 0.0171, 0.0186, 0.02, 0.0214, 0.0229, 0.0243, 0.0257, 0.0271, 0.0286, 0.03]}>>\n",
      "Fitting 9 folds for each of 29 candidates, totalling 261 fits\n"
     ]
    },
    {
     "name": "stderr",
     "output_type": "stream",
     "text": [
      "[Parallel(n_jobs=1)]: Done 261 out of 261 | elapsed:   48.4s finished\n"
     ]
    },
    {
     "name": "stdout",
     "output_type": "stream",
     "text": [
      "       Best parameters selected: <<{'C': 0.009}>> for score <<0.7159535680469208>>.\n",
      "       5. Grid Search model <<<class 'sklearn.svm.classes.LinearSVC'>>>; weight: <<{0: 1.0, 1: 70.61301369863014}>>; parameters: <<{'C': [0.003, 0.0034, 0.0039, 0.0043, 0.0047, 0.0051, 0.0056, 0.006, 0.0064, 0.0069, 0.0073, 0.0077, 0.0081, 0.0086, 0.009, 0.0103, 0.0116, 0.0129, 0.0141, 0.0154, 0.0167, 0.018, 0.0193, 0.0206, 0.0219, 0.0231, 0.0244, 0.0257, 0.027]}>>\n",
      "Fitting 9 folds for each of 29 candidates, totalling 261 fits\n"
     ]
    },
    {
     "name": "stderr",
     "output_type": "stream",
     "text": [
      "[Parallel(n_jobs=1)]: Done 261 out of 261 | elapsed:   45.2s finished\n"
     ]
    },
    {
     "name": "stdout",
     "output_type": "stream",
     "text": [
      "       Best parameters selected: <<{'C': 0.009}>> for score <<0.7159535680469208>>.\n",
      "       Final parameters selected: <<{'C': 0.0057}>> for score <<0.715071079899848>>.\n",
      "\n",
      "          *** Score on validation dataset (macro/weighted) <<0.6968278262957295>> / <<0.8675721561969439>>.\n",
      "[[2014  284]\n",
      " [  28   30]]\n",
      "\n",
      "-------------------------------------------------------------------\n",
      "    9. Fit model for class: <<security>> ((21203, 12005)).\n",
      "    Tuning hyper-parameters for class: <<security>> (Recall).\n",
      "       1. Grid Search model <<<class 'sklearn.svm.classes.LinearSVC'>>>; weight: <<balanced>>; parameters: <<{'C': [0.001, 0.01, 0.1, 1.0, 10.0]}>>\n",
      "Fitting 9 folds for each of 5 candidates, totalling 45 fits\n"
     ]
    },
    {
     "name": "stderr",
     "output_type": "stream",
     "text": [
      "[Parallel(n_jobs=1)]: Done  45 out of  45 | elapsed:   10.7s finished\n"
     ]
    },
    {
     "name": "stdout",
     "output_type": "stream",
     "text": [
      "       Best parameters selected: <<{'C': 0.01}>> for score <<0.6537980605869742>>.\n",
      "       2. Grid Search model <<<class 'sklearn.svm.classes.LinearSVC'>>>; weight: <<balanced>>; parameters: <<{'C': [0.0033, 0.0038, 0.0043, 0.0048, 0.0052, 0.0057, 0.0062, 0.0067, 0.0071, 0.0076, 0.0081, 0.0086, 0.009, 0.0095, 0.01, 0.0114, 0.0129, 0.0143, 0.0157, 0.0171, 0.0186, 0.02, 0.0214, 0.0229, 0.0243, 0.0257, 0.0271, 0.0286, 0.03]}>>\n",
      "Fitting 9 folds for each of 29 candidates, totalling 261 fits\n"
     ]
    },
    {
     "name": "stderr",
     "output_type": "stream",
     "text": [
      "[Parallel(n_jobs=1)]: Done 261 out of 261 | elapsed:   24.7s finished\n"
     ]
    },
    {
     "name": "stdout",
     "output_type": "stream",
     "text": [
      "       Best parameters selected: <<{'C': 0.0038}>> for score <<0.6625855925497343>>.\n",
      "       3. Grid Search model <<<class 'sklearn.svm.classes.LinearSVC'>>>; weight: <<balanced>>; parameters: <<{'C': [0.0013, 0.0014, 0.0016, 0.0018, 0.002, 0.0022, 0.0024, 0.0025, 0.0027, 0.0029, 0.0031, 0.0033, 0.0034, 0.0036, 0.0038, 0.0043, 0.0049, 0.0054, 0.006, 0.0065, 0.0071, 0.0076, 0.0081, 0.0087, 0.0092, 0.0098, 0.0103, 0.0109, 0.0114]}>>\n",
      "Fitting 9 folds for each of 29 candidates, totalling 261 fits\n"
     ]
    },
    {
     "name": "stderr",
     "output_type": "stream",
     "text": [
      "[Parallel(n_jobs=1)]: Done 261 out of 261 | elapsed:   16.3s finished\n"
     ]
    },
    {
     "name": "stdout",
     "output_type": "stream",
     "text": [
      "       Best parameters selected: <<{'C': 0.0038}>> for score <<0.6625855925497343>>.\n",
      "       3. Grid Search model <<<class 'sklearn.svm.classes.LinearSVC'>>>; weight: <<{0: 1.0, 1: 55.092592592592595}>>; parameters: <<{'C': [0.001, 0.01, 0.1, 1.0, 10.0]}>>\n",
      "Fitting 9 folds for each of 5 candidates, totalling 45 fits\n"
     ]
    },
    {
     "name": "stderr",
     "output_type": "stream",
     "text": [
      "[Parallel(n_jobs=1)]: Done  45 out of  45 | elapsed:   11.1s finished\n"
     ]
    },
    {
     "name": "stdout",
     "output_type": "stream",
     "text": [
      "       Best parameters selected: <<{'C': 0.01}>> for score <<0.6462584743980125>>.\n",
      "       4. Grid Search model <<<class 'sklearn.svm.classes.LinearSVC'>>>; weight: <<{0: 1.0, 1: 55.092592592592595}>>; parameters: <<{'C': [0.0033, 0.0038, 0.0043, 0.0048, 0.0052, 0.0057, 0.0062, 0.0067, 0.0071, 0.0076, 0.0081, 0.0086, 0.009, 0.0095, 0.01, 0.0114, 0.0129, 0.0143, 0.0157, 0.0171, 0.0186, 0.02, 0.0214, 0.0229, 0.0243, 0.0257, 0.0271, 0.0286, 0.03]}>>\n",
      "Fitting 9 folds for each of 29 candidates, totalling 261 fits\n"
     ]
    },
    {
     "name": "stderr",
     "output_type": "stream",
     "text": [
      "[Parallel(n_jobs=1)]: Done 261 out of 261 | elapsed:   34.1s finished\n"
     ]
    },
    {
     "name": "stdout",
     "output_type": "stream",
     "text": [
      "       Best parameters selected: <<{'C': 0.0038}>> for score <<0.6600348321586632>>.\n",
      "       5. Grid Search model <<<class 'sklearn.svm.classes.LinearSVC'>>>; weight: <<{0: 1.0, 1: 55.092592592592595}>>; parameters: <<{'C': [0.0013, 0.0014, 0.0016, 0.0018, 0.002, 0.0022, 0.0024, 0.0025, 0.0027, 0.0029, 0.0031, 0.0033, 0.0034, 0.0036, 0.0038, 0.0043, 0.0049, 0.0054, 0.006, 0.0065, 0.0071, 0.0076, 0.0081, 0.0087, 0.0092, 0.0098, 0.0103, 0.0109, 0.0114]}>>\n",
      "Fitting 9 folds for each of 29 candidates, totalling 261 fits\n"
     ]
    },
    {
     "name": "stderr",
     "output_type": "stream",
     "text": [
      "[Parallel(n_jobs=1)]: Done 261 out of 261 | elapsed:   21.7s finished\n"
     ]
    },
    {
     "name": "stdout",
     "output_type": "stream",
     "text": [
      "       Best parameters selected: <<{'C': 0.0022}>> for score <<0.6627713733916872>>.\n",
      "       6. Grid Search model <<<class 'sklearn.svm.classes.LinearSVC'>>>; weight: <<{0: 1.0, 1: 55.092592592592595}>>; parameters: <<{'C': [0.0007, 0.0008, 0.0009, 0.001, 0.0012, 0.0013, 0.0014, 0.0015, 0.0016, 0.0017, 0.0018, 0.0019, 0.002, 0.0021, 0.0022, 0.0025, 0.0028, 0.0031, 0.0035, 0.0038, 0.0041, 0.0044, 0.0047, 0.005, 0.0053, 0.0057, 0.006, 0.0063, 0.0066]}>>\n",
      "Fitting 9 folds for each of 29 candidates, totalling 261 fits\n"
     ]
    },
    {
     "name": "stderr",
     "output_type": "stream",
     "text": [
      "[Parallel(n_jobs=1)]: Done 261 out of 261 | elapsed:   16.7s finished\n"
     ]
    },
    {
     "name": "stdout",
     "output_type": "stream",
     "text": [
      "       Best parameters selected: <<{'C': 0.0022}>> for score <<0.6627713733916872>>.\n",
      "       Final parameters selected: <<{'C': 0.0038}>> for score <<0.6625855925497343>>.\n",
      "\n",
      "          *** Score on validation dataset (macro/weighted) <<0.6488327450616137>> / <<0.8599320882852292>>.\n",
      "[[2005  302]\n",
      " [  28   21]]\n",
      "\n",
      "-------------------------------------------------------------------\n",
      "    10. Fit model for class: <<military>> ((21203, 12005)).\n",
      "    Tuning hyper-parameters for class: <<military>> (Recall).\n",
      "       1. Grid Search model <<<class 'sklearn.svm.classes.LinearSVC'>>>; weight: <<balanced>>; parameters: <<{'C': [0.001, 0.01, 0.1, 1.0, 10.0]}>>\n",
      "Fitting 9 folds for each of 5 candidates, totalling 45 fits\n"
     ]
    },
    {
     "name": "stderr",
     "output_type": "stream",
     "text": [
      "[Parallel(n_jobs=1)]: Done  45 out of  45 | elapsed:    8.6s finished\n"
     ]
    },
    {
     "name": "stdout",
     "output_type": "stream",
     "text": [
      "       Best parameters selected: <<{'C': 0.01}>> for score <<0.8868319007463197>>.\n",
      "       2. Grid Search model <<<class 'sklearn.svm.classes.LinearSVC'>>>; weight: <<balanced>>; parameters: <<{'C': [0.0033, 0.0038, 0.0043, 0.0048, 0.0052, 0.0057, 0.0062, 0.0067, 0.0071, 0.0076, 0.0081, 0.0086, 0.009, 0.0095, 0.01, 0.0114, 0.0129, 0.0143, 0.0157, 0.0171, 0.0186, 0.02, 0.0214, 0.0229, 0.0243, 0.0257, 0.0271, 0.0286, 0.03]}>>\n",
      "Fitting 9 folds for each of 29 candidates, totalling 261 fits\n"
     ]
    },
    {
     "name": "stderr",
     "output_type": "stream",
     "text": [
      "[Parallel(n_jobs=1)]: Done 261 out of 261 | elapsed:   18.2s finished\n"
     ]
    },
    {
     "name": "stdout",
     "output_type": "stream",
     "text": [
      "       Best parameters selected: <<{'C': 0.0171}>> for score <<0.8869528523097604>>.\n",
      "       3. Grid Search model <<<class 'sklearn.svm.classes.LinearSVC'>>>; weight: <<balanced>>; parameters: <<{'C': [0.0057, 0.0065, 0.0073, 0.0081, 0.009, 0.0098, 0.0106, 0.0114, 0.0122, 0.013, 0.0138, 0.0147, 0.0155, 0.0163, 0.0171, 0.0195, 0.022, 0.0244, 0.0269, 0.0293, 0.0318, 0.0342, 0.0366, 0.0391, 0.0415, 0.044, 0.0464, 0.0489, 0.0513]}>>\n",
      "Fitting 9 folds for each of 29 candidates, totalling 261 fits\n"
     ]
    },
    {
     "name": "stderr",
     "output_type": "stream",
     "text": [
      "[Parallel(n_jobs=1)]: Done 261 out of 261 | elapsed:   22.6s finished\n"
     ]
    },
    {
     "name": "stdout",
     "output_type": "stream",
     "text": [
      "       Best parameters selected: <<{'C': 0.013}>> for score <<0.8871889999580584>>.\n",
      "       4. Grid Search model <<<class 'sklearn.svm.classes.LinearSVC'>>>; weight: <<balanced>>; parameters: <<{'C': [0.0043, 0.005, 0.0056, 0.0062, 0.0068, 0.0074, 0.008, 0.0087, 0.0093, 0.0099, 0.0105, 0.0111, 0.0118, 0.0124, 0.013, 0.0149, 0.0167, 0.0186, 0.0204, 0.0223, 0.0241, 0.026, 0.0279, 0.0297, 0.0316, 0.0334, 0.0353, 0.0371, 0.039]}>>\n",
      "Fitting 9 folds for each of 29 candidates, totalling 261 fits\n"
     ]
    },
    {
     "name": "stderr",
     "output_type": "stream",
     "text": [
      "[Parallel(n_jobs=1)]: Done 261 out of 261 | elapsed:   20.2s finished\n"
     ]
    },
    {
     "name": "stdout",
     "output_type": "stream",
     "text": [
      "       Best parameters selected: <<{'C': 0.0105}>> for score <<0.8873922610433181>>.\n",
      "       5. Grid Search model <<<class 'sklearn.svm.classes.LinearSVC'>>>; weight: <<balanced>>; parameters: <<{'C': [0.0035, 0.004, 0.0045, 0.005, 0.0055, 0.006, 0.0065, 0.007, 0.0075, 0.008, 0.0085, 0.009, 0.0095, 0.01, 0.0105, 0.012, 0.0135, 0.015, 0.0165, 0.018, 0.0195, 0.021, 0.0225, 0.024, 0.0255, 0.027, 0.0285, 0.03, 0.0315]}>>\n",
      "Fitting 9 folds for each of 29 candidates, totalling 261 fits\n"
     ]
    },
    {
     "name": "stderr",
     "output_type": "stream",
     "text": [
      "[Parallel(n_jobs=1)]: Done 261 out of 261 | elapsed:   18.6s finished\n"
     ]
    },
    {
     "name": "stdout",
     "output_type": "stream",
     "text": [
      "       Best parameters selected: <<{'C': 0.0105}>> for score <<0.8873922610433181>>.\n",
      "       Final parameters selected: <<{'C': 0.0105}>> for score <<0.8873922610433181>>.\n",
      "\n",
      "          *** Score on validation dataset (macro/weighted) <<0.8574517881067139>> / <<0.9134125636672326>>.\n",
      "[[2089  188]\n",
      " [  16   63]]\n",
      "\n",
      "-------------------------------------------------------------------\n",
      "    11. Fit model for class: <<water>> ((21203, 12005)).\n",
      "    Tuning hyper-parameters for class: <<water>> (Recall).\n",
      "       1. Grid Search model <<<class 'sklearn.svm.classes.LinearSVC'>>>; weight: <<balanced>>; parameters: <<{'C': [0.001, 0.01, 0.1, 1.0, 10.0]}>>\n",
      "Fitting 9 folds for each of 5 candidates, totalling 45 fits\n"
     ]
    },
    {
     "name": "stderr",
     "output_type": "stream",
     "text": [
      "[Parallel(n_jobs=1)]: Done  45 out of  45 | elapsed:   10.0s finished\n"
     ]
    },
    {
     "name": "stdout",
     "output_type": "stream",
     "text": [
      "       Best parameters selected: <<{'C': 0.1}>> for score <<0.8998766862191162>>.\n",
      "       2. Grid Search model <<<class 'sklearn.svm.classes.LinearSVC'>>>; weight: <<balanced>>; parameters: <<{'C': [0.0333, 0.0381, 0.0429, 0.0476, 0.0524, 0.0571, 0.0619, 0.0667, 0.0714, 0.0762, 0.081, 0.0857, 0.0905, 0.0952, 0.1, 0.1143, 0.1286, 0.1429, 0.1571, 0.1714, 0.1857, 0.2, 0.2143, 0.2286, 0.2429, 0.2571, 0.2714, 0.2857, 0.3]}>>\n",
      "Fitting 9 folds for each of 29 candidates, totalling 261 fits\n"
     ]
    },
    {
     "name": "stderr",
     "output_type": "stream",
     "text": [
      "[Parallel(n_jobs=1)]: Done 261 out of 261 | elapsed:   43.1s finished\n"
     ]
    },
    {
     "name": "stdout",
     "output_type": "stream",
     "text": [
      "       Best parameters selected: <<{'C': 0.0333}>> for score <<0.9032763526625359>>.\n",
      "       3. Grid Search model <<<class 'sklearn.svm.classes.LinearSVC'>>>; weight: <<balanced>>; parameters: <<{'C': [0.0111, 0.0127, 0.0143, 0.0159, 0.0174, 0.019, 0.0206, 0.0222, 0.0238, 0.0254, 0.027, 0.0285, 0.0301, 0.0317, 0.0333, 0.0381, 0.0428, 0.0476, 0.0523, 0.0571, 0.0618, 0.0666, 0.0714, 0.0761, 0.0809, 0.0856, 0.0904, 0.0951, 0.0999]}>>\n",
      "Fitting 9 folds for each of 29 candidates, totalling 261 fits\n"
     ]
    },
    {
     "name": "stderr",
     "output_type": "stream",
     "text": [
      "[Parallel(n_jobs=1)]: Done 261 out of 261 | elapsed:   26.0s finished\n"
     ]
    },
    {
     "name": "stdout",
     "output_type": "stream",
     "text": [
      "       Best parameters selected: <<{'C': 0.0333}>> for score <<0.9032763526625359>>.\n",
      "       Final parameters selected: <<{'C': 0.0333}>> for score <<0.9032763526625359>>.\n",
      "\n",
      "          *** Score on validation dataset (macro/weighted) <<0.9171686792785615>> / <<0.950339558573854>>.\n",
      "[[2108   99]\n",
      " [  18  131]]\n",
      "\n",
      "-------------------------------------------------------------------\n",
      "    12. Fit model for class: <<food>> ((21203, 12006)).\n",
      "    Tuning hyper-parameters for class: <<food>> (Recall).\n",
      "       1. Grid Search model <<<class 'sklearn.svm.classes.LinearSVC'>>>; weight: <<balanced>>; parameters: <<{'C': [0.001, 0.01, 0.1, 1.0, 10.0]}>>\n",
      "Fitting 9 folds for each of 5 candidates, totalling 45 fits\n"
     ]
    },
    {
     "name": "stderr",
     "output_type": "stream",
     "text": [
      "[Parallel(n_jobs=1)]: Done  45 out of  45 | elapsed:    9.6s finished\n"
     ]
    },
    {
     "name": "stdout",
     "output_type": "stream",
     "text": [
      "       Best parameters selected: <<{'C': 0.1}>> for score <<0.9117098030330357>>.\n",
      "       2. Grid Search model <<<class 'sklearn.svm.classes.LinearSVC'>>>; weight: <<balanced>>; parameters: <<{'C': [0.0333, 0.0381, 0.0429, 0.0476, 0.0524, 0.0571, 0.0619, 0.0667, 0.0714, 0.0762, 0.081, 0.0857, 0.0905, 0.0952, 0.1, 0.1143, 0.1286, 0.1429, 0.1571, 0.1714, 0.1857, 0.2, 0.2143, 0.2286, 0.2429, 0.2571, 0.2714, 0.2857, 0.3]}>>\n",
      "Fitting 9 folds for each of 29 candidates, totalling 261 fits\n"
     ]
    },
    {
     "name": "stderr",
     "output_type": "stream",
     "text": [
      "[Parallel(n_jobs=1)]: Done 261 out of 261 | elapsed:   33.7s finished\n"
     ]
    },
    {
     "name": "stdout",
     "output_type": "stream",
     "text": [
      "       Best parameters selected: <<{'C': 0.081}>> for score <<0.9121025176476366>>.\n",
      "       3. Grid Search model <<<class 'sklearn.svm.classes.LinearSVC'>>>; weight: <<balanced>>; parameters: <<{'C': [0.027, 0.0309, 0.0347, 0.0386, 0.0424, 0.0463, 0.0501, 0.054, 0.0579, 0.0617, 0.0656, 0.0694, 0.0733, 0.0771, 0.081, 0.0926, 0.1041, 0.1157, 0.1273, 0.1389, 0.1504, 0.162, 0.1736, 0.1851, 0.1967, 0.2083, 0.2199, 0.2314, 0.243]}>>\n",
      "Fitting 9 folds for each of 29 candidates, totalling 261 fits\n"
     ]
    },
    {
     "name": "stderr",
     "output_type": "stream",
     "text": [
      "[Parallel(n_jobs=1)]: Done 261 out of 261 | elapsed:   30.4s finished\n"
     ]
    },
    {
     "name": "stdout",
     "output_type": "stream",
     "text": [
      "       Best parameters selected: <<{'C': 0.1389}>> for score <<0.912189037985318>>.\n",
      "       4. Grid Search model <<<class 'sklearn.svm.classes.LinearSVC'>>>; weight: <<balanced>>; parameters: <<{'C': [0.0463, 0.0529, 0.0595, 0.0661, 0.0728, 0.0794, 0.086, 0.0926, 0.0992, 0.1058, 0.1124, 0.1191, 0.1257, 0.1323, 0.1389, 0.1587, 0.1786, 0.1984, 0.2183, 0.2381, 0.258, 0.2778, 0.2976, 0.3175, 0.3373, 0.3572, 0.377, 0.3969, 0.4167]}>>\n",
      "Fitting 9 folds for each of 29 candidates, totalling 261 fits\n"
     ]
    },
    {
     "name": "stderr",
     "output_type": "stream",
     "text": [
      "[Parallel(n_jobs=1)]: Done 261 out of 261 | elapsed:   38.6s finished\n"
     ]
    },
    {
     "name": "stdout",
     "output_type": "stream",
     "text": [
      "       Best parameters selected: <<{'C': 0.1323}>> for score <<0.9122940617075653>>.\n",
      "       5. Grid Search model <<<class 'sklearn.svm.classes.LinearSVC'>>>; weight: <<balanced>>; parameters: <<{'C': [0.0441, 0.0504, 0.0567, 0.063, 0.0693, 0.0756, 0.0819, 0.0882, 0.0945, 0.1008, 0.1071, 0.1134, 0.1197, 0.126, 0.1323, 0.1512, 0.1701, 0.189, 0.2079, 0.2268, 0.2457, 0.2646, 0.2835, 0.3024, 0.3213, 0.3402, 0.3591, 0.378, 0.3969]}>>\n",
      "Fitting 9 folds for each of 29 candidates, totalling 261 fits\n"
     ]
    },
    {
     "name": "stderr",
     "output_type": "stream",
     "text": [
      "[Parallel(n_jobs=1)]: Done 261 out of 261 | elapsed:   38.0s finished\n"
     ]
    },
    {
     "name": "stdout",
     "output_type": "stream",
     "text": [
      "       Best parameters selected: <<{'C': 0.1323}>> for score <<0.9122940617075653>>.\n",
      "       Final parameters selected: <<{'C': 0.1323}>> for score <<0.9122940617075653>>.\n",
      "\n",
      "          *** Score on validation dataset (macro/weighted) <<0.9008084577114428>> / <<0.9452461799660441>>.\n",
      "[[2001   87]\n",
      " [  42  226]]\n",
      "\n",
      "-------------------------------------------------------------------\n",
      "    13. Fit model for class: <<shelter>> ((21203, 12007)).\n",
      "    Tuning hyper-parameters for class: <<shelter>> (Recall).\n",
      "       1. Grid Search model <<<class 'sklearn.svm.classes.LinearSVC'>>>; weight: <<balanced>>; parameters: <<{'C': [0.001, 0.01, 0.1, 1.0, 10.0]}>>\n",
      "Fitting 9 folds for each of 5 candidates, totalling 45 fits\n"
     ]
    },
    {
     "name": "stderr",
     "output_type": "stream",
     "text": [
      "[Parallel(n_jobs=1)]: Done  45 out of  45 | elapsed:    9.8s finished\n"
     ]
    },
    {
     "name": "stdout",
     "output_type": "stream",
     "text": [
      "       Best parameters selected: <<{'C': 0.1}>> for score <<0.8807897451304743>>.\n",
      "       2. Grid Search model <<<class 'sklearn.svm.classes.LinearSVC'>>>; weight: <<balanced>>; parameters: <<{'C': [0.0333, 0.0381, 0.0429, 0.0476, 0.0524, 0.0571, 0.0619, 0.0667, 0.0714, 0.0762, 0.081, 0.0857, 0.0905, 0.0952, 0.1, 0.1143, 0.1286, 0.1429, 0.1571, 0.1714, 0.1857, 0.2, 0.2143, 0.2286, 0.2429, 0.2571, 0.2714, 0.2857, 0.3]}>>\n",
      "Fitting 9 folds for each of 29 candidates, totalling 261 fits\n"
     ]
    },
    {
     "name": "stderr",
     "output_type": "stream",
     "text": [
      "[Parallel(n_jobs=1)]: Done 261 out of 261 | elapsed:   36.9s finished\n"
     ]
    },
    {
     "name": "stdout",
     "output_type": "stream",
     "text": [
      "       Best parameters selected: <<{'C': 0.0714}>> for score <<0.8827984474532035>>.\n",
      "       3. Grid Search model <<<class 'sklearn.svm.classes.LinearSVC'>>>; weight: <<balanced>>; parameters: <<{'C': [0.0238, 0.0272, 0.0306, 0.034, 0.0374, 0.0408, 0.0442, 0.0476, 0.051, 0.0544, 0.0578, 0.0612, 0.0646, 0.068, 0.0714, 0.0816, 0.0918, 0.102, 0.1122, 0.1224, 0.1326, 0.1428, 0.153, 0.1632, 0.1734, 0.1836, 0.1938, 0.204, 0.2142]}>>\n",
      "Fitting 9 folds for each of 29 candidates, totalling 261 fits\n"
     ]
    },
    {
     "name": "stderr",
     "output_type": "stream",
     "text": [
      "[Parallel(n_jobs=1)]: Done 261 out of 261 | elapsed:   32.2s finished\n"
     ]
    },
    {
     "name": "stdout",
     "output_type": "stream",
     "text": [
      "       Best parameters selected: <<{'C': 0.0714}>> for score <<0.8827984474532035>>.\n",
      "       Final parameters selected: <<{'C': 0.0714}>> for score <<0.8827984474532035>>.\n",
      "\n",
      "          *** Score on validation dataset (macro/weighted) <<0.8991850964850001>> / <<0.931239388794567>>.\n",
      "[[2004  131]\n",
      " [  31  190]]\n",
      "\n",
      "-------------------------------------------------------------------\n",
      "    14. Fit model for class: <<clothing>> ((21203, 12007)).\n",
      "    Tuning hyper-parameters for class: <<clothing>> (Recall).\n",
      "       1. Grid Search model <<<class 'sklearn.svm.classes.LinearSVC'>>>; weight: <<balanced>>; parameters: <<{'C': [0.001, 0.01, 0.1, 1.0, 10.0]}>>\n",
      "Fitting 9 folds for each of 5 candidates, totalling 45 fits\n"
     ]
    },
    {
     "name": "stderr",
     "output_type": "stream",
     "text": [
      "[Parallel(n_jobs=1)]: Done  45 out of  45 | elapsed:    6.9s finished\n"
     ]
    },
    {
     "name": "stdout",
     "output_type": "stream",
     "text": [
      "       Best parameters selected: <<{'C': 0.01}>> for score <<0.863891049929278>>.\n",
      "       2. Grid Search model <<<class 'sklearn.svm.classes.LinearSVC'>>>; weight: <<balanced>>; parameters: <<{'C': [0.0033, 0.0038, 0.0043, 0.0048, 0.0052, 0.0057, 0.0062, 0.0067, 0.0071, 0.0076, 0.0081, 0.0086, 0.009, 0.0095, 0.01, 0.0114, 0.0129, 0.0143, 0.0157, 0.0171, 0.0186, 0.02, 0.0214, 0.0229, 0.0243, 0.0257, 0.0271, 0.0286, 0.03]}>>\n",
      "Fitting 9 folds for each of 29 candidates, totalling 261 fits\n"
     ]
    },
    {
     "name": "stderr",
     "output_type": "stream",
     "text": [
      "[Parallel(n_jobs=1)]: Done 261 out of 261 | elapsed:   26.3s finished\n"
     ]
    },
    {
     "name": "stdout",
     "output_type": "stream",
     "text": [
      "       Best parameters selected: <<{'C': 0.0186}>> for score <<0.8726160865725479>>.\n",
      "       3. Grid Search model <<<class 'sklearn.svm.classes.LinearSVC'>>>; weight: <<balanced>>; parameters: <<{'C': [0.0062, 0.0071, 0.008, 0.0089, 0.0097, 0.0106, 0.0115, 0.0124, 0.0133, 0.0142, 0.0151, 0.0159, 0.0168, 0.0177, 0.0186, 0.0213, 0.0239, 0.0266, 0.0292, 0.0319, 0.0345, 0.0372, 0.0399, 0.0425, 0.0452, 0.0478, 0.0505, 0.0531, 0.0558]}>>\n",
      "Fitting 9 folds for each of 29 candidates, totalling 261 fits\n"
     ]
    },
    {
     "name": "stderr",
     "output_type": "stream",
     "text": [
      "[Parallel(n_jobs=1)]: Done 261 out of 261 | elapsed:   32.5s finished\n"
     ]
    },
    {
     "name": "stdout",
     "output_type": "stream",
     "text": [
      "       Best parameters selected: <<{'C': 0.0186}>> for score <<0.8726160865725479>>.\n",
      "       Final parameters selected: <<{'C': 0.0186}>> for score <<0.8726160865725479>>.\n",
      "\n",
      "          *** Score on validation dataset (macro/weighted) <<0.9029421256454389>> / <<0.9605263157894737>>.\n",
      "[[2236   88]\n",
      " [   5   27]]\n",
      "\n",
      "-------------------------------------------------------------------\n",
      "    15. Fit model for class: <<money>> ((21203, 12007)).\n",
      "    Tuning hyper-parameters for class: <<money>> (Recall).\n",
      "       1. Grid Search model <<<class 'sklearn.svm.classes.LinearSVC'>>>; weight: <<balanced>>; parameters: <<{'C': [0.001, 0.01, 0.1, 1.0, 10.0]}>>\n",
      "Fitting 9 folds for each of 5 candidates, totalling 45 fits\n"
     ]
    },
    {
     "name": "stderr",
     "output_type": "stream",
     "text": [
      "[Parallel(n_jobs=1)]: Done  45 out of  45 | elapsed:    9.5s finished\n"
     ]
    },
    {
     "name": "stdout",
     "output_type": "stream",
     "text": [
      "       Best parameters selected: <<{'C': 0.01}>> for score <<0.8384869739691094>>.\n",
      "       2. Grid Search model <<<class 'sklearn.svm.classes.LinearSVC'>>>; weight: <<balanced>>; parameters: <<{'C': [0.0033, 0.0038, 0.0043, 0.0048, 0.0052, 0.0057, 0.0062, 0.0067, 0.0071, 0.0076, 0.0081, 0.0086, 0.009, 0.0095, 0.01, 0.0114, 0.0129, 0.0143, 0.0157, 0.0171, 0.0186, 0.02, 0.0214, 0.0229, 0.0243, 0.0257, 0.0271, 0.0286, 0.03]}>>\n",
      "Fitting 9 folds for each of 29 candidates, totalling 261 fits\n"
     ]
    },
    {
     "name": "stderr",
     "output_type": "stream",
     "text": [
      "[Parallel(n_jobs=1)]: Done 261 out of 261 | elapsed:   25.5s finished\n"
     ]
    },
    {
     "name": "stdout",
     "output_type": "stream",
     "text": [
      "       Best parameters selected: <<{'C': 0.0214}>> for score <<0.8469553630545064>>.\n",
      "       3. Grid Search model <<<class 'sklearn.svm.classes.LinearSVC'>>>; weight: <<balanced>>; parameters: <<{'C': [0.0071, 0.0082, 0.0092, 0.0102, 0.0112, 0.0122, 0.0132, 0.0143, 0.0153, 0.0163, 0.0173, 0.0183, 0.0194, 0.0204, 0.0214, 0.0245, 0.0275, 0.0306, 0.0336, 0.0367, 0.0397, 0.0428, 0.0459, 0.0489, 0.052, 0.055, 0.0581, 0.0611, 0.0642]}>>\n",
      "Fitting 9 folds for each of 29 candidates, totalling 261 fits\n"
     ]
    },
    {
     "name": "stderr",
     "output_type": "stream",
     "text": [
      "[Parallel(n_jobs=1)]: Done 261 out of 261 | elapsed:   37.4s finished\n"
     ]
    },
    {
     "name": "stdout",
     "output_type": "stream",
     "text": [
      "       Best parameters selected: <<{'C': 0.0214}>> for score <<0.8469553630545064>>.\n",
      "       3. Grid Search model <<<class 'sklearn.svm.classes.LinearSVC'>>>; weight: <<{0: 1.0, 1: 84.1910569105691}>>; parameters: <<{'C': [0.001, 0.01, 0.1, 1.0, 10.0]}>>\n",
      "Fitting 9 folds for each of 5 candidates, totalling 45 fits\n"
     ]
    },
    {
     "name": "stderr",
     "output_type": "stream",
     "text": [
      "[Parallel(n_jobs=1)]: Done  45 out of  45 | elapsed:   11.2s finished\n"
     ]
    },
    {
     "name": "stdout",
     "output_type": "stream",
     "text": [
      "       Best parameters selected: <<{'C': 0.01}>> for score <<0.8594565424300932>>.\n",
      "       4. Grid Search model <<<class 'sklearn.svm.classes.LinearSVC'>>>; weight: <<{0: 1.0, 1: 84.1910569105691}>>; parameters: <<{'C': [0.0033, 0.0038, 0.0043, 0.0048, 0.0052, 0.0057, 0.0062, 0.0067, 0.0071, 0.0076, 0.0081, 0.0086, 0.009, 0.0095, 0.01, 0.0114, 0.0129, 0.0143, 0.0157, 0.0171, 0.0186, 0.02, 0.0214, 0.0229, 0.0243, 0.0257, 0.0271, 0.0286, 0.03]}>>\n",
      "Fitting 9 folds for each of 29 candidates, totalling 261 fits\n"
     ]
    },
    {
     "name": "stderr",
     "output_type": "stream",
     "text": [
      "[Parallel(n_jobs=1)]: Done 261 out of 261 | elapsed:   50.0s finished\n"
     ]
    },
    {
     "name": "stdout",
     "output_type": "stream",
     "text": [
      "       Best parameters selected: <<{'C': 0.0062}>> for score <<0.86580642001667>>.\n",
      "       5. Grid Search model <<<class 'sklearn.svm.classes.LinearSVC'>>>; weight: <<{0: 1.0, 1: 84.1910569105691}>>; parameters: <<{'C': [0.0021, 0.0024, 0.0027, 0.003, 0.0032, 0.0035, 0.0038, 0.0041, 0.0044, 0.0047, 0.005, 0.0053, 0.0056, 0.0059, 0.0062, 0.0071, 0.008, 0.0089, 0.0097, 0.0106, 0.0115, 0.0124, 0.0133, 0.0142, 0.0151, 0.0159, 0.0168, 0.0177, 0.0186]}>>\n",
      "Fitting 9 folds for each of 29 candidates, totalling 261 fits\n"
     ]
    },
    {
     "name": "stderr",
     "output_type": "stream",
     "text": [
      "[Parallel(n_jobs=1)]: Done 261 out of 261 | elapsed:   40.4s finished\n"
     ]
    },
    {
     "name": "stdout",
     "output_type": "stream",
     "text": [
      "       Best parameters selected: <<{'C': 0.0062}>> for score <<0.86580642001667>>.\n",
      "       Final parameters selected: <<{'C': 0.0214}>> for score <<0.8469553630545064>>.\n",
      "\n",
      "          *** Score on validation dataset (macro/weighted) <<0.8042940320232896>> / <<0.9342105263157895>>.\n",
      "[[2157  133]\n",
      " [  22   44]]\n",
      "\n",
      "-------------------------------------------------------------------\n",
      "    16. Fit model for class: <<missing_people>> ((21203, 12007)).\n",
      "    Tuning hyper-parameters for class: <<missing_people>> (Recall).\n",
      "       1. Grid Search model <<<class 'sklearn.svm.classes.LinearSVC'>>>; weight: <<balanced>>; parameters: <<{'C': [0.001, 0.01, 0.1, 1.0, 10.0]}>>\n",
      "Fitting 9 folds for each of 5 candidates, totalling 45 fits\n"
     ]
    },
    {
     "name": "stderr",
     "output_type": "stream",
     "text": [
      "[Parallel(n_jobs=1)]: Done  45 out of  45 | elapsed:    9.4s finished\n"
     ]
    },
    {
     "name": "stdout",
     "output_type": "stream",
     "text": [
      "       Best parameters selected: <<{'C': 0.01}>> for score <<0.6695228171418175>>.\n",
      "       2. Grid Search model <<<class 'sklearn.svm.classes.LinearSVC'>>>; weight: <<balanced>>; parameters: <<{'C': [0.0033, 0.0038, 0.0043, 0.0048, 0.0052, 0.0057, 0.0062, 0.0067, 0.0071, 0.0076, 0.0081, 0.0086, 0.009, 0.0095, 0.01, 0.0114, 0.0129, 0.0143, 0.0157, 0.0171, 0.0186, 0.02, 0.0214, 0.0229, 0.0243, 0.0257, 0.0271, 0.0286, 0.03]}>>\n",
      "Fitting 9 folds for each of 29 candidates, totalling 261 fits\n"
     ]
    },
    {
     "name": "stderr",
     "output_type": "stream",
     "text": [
      "[Parallel(n_jobs=1)]: Done 261 out of 261 | elapsed:   33.7s finished\n"
     ]
    },
    {
     "name": "stdout",
     "output_type": "stream",
     "text": [
      "       Best parameters selected: <<{'C': 0.0038}>> for score <<0.6711667611663847>>.\n",
      "       3. Grid Search model <<<class 'sklearn.svm.classes.LinearSVC'>>>; weight: <<balanced>>; parameters: <<{'C': [0.0013, 0.0014, 0.0016, 0.0018, 0.002, 0.0022, 0.0024, 0.0025, 0.0027, 0.0029, 0.0031, 0.0033, 0.0034, 0.0036, 0.0038, 0.0043, 0.0049, 0.0054, 0.006, 0.0065, 0.0071, 0.0076, 0.0081, 0.0087, 0.0092, 0.0098, 0.0103, 0.0109, 0.0114]}>>\n",
      "Fitting 9 folds for each of 29 candidates, totalling 261 fits\n"
     ]
    },
    {
     "name": "stderr",
     "output_type": "stream",
     "text": [
      "[Parallel(n_jobs=1)]: Done 261 out of 261 | elapsed:   20.3s finished\n"
     ]
    },
    {
     "name": "stdout",
     "output_type": "stream",
     "text": [
      "       Best parameters selected: <<{'C': 0.0025}>> for score <<0.6746196645349004>>.\n",
      "       4. Grid Search model <<<class 'sklearn.svm.classes.LinearSVC'>>>; weight: <<balanced>>; parameters: <<{'C': [0.0008, 0.001, 0.0011, 0.0012, 0.0013, 0.0014, 0.0015, 0.0017, 0.0018, 0.0019, 0.002, 0.0021, 0.0023, 0.0024, 0.0025, 0.0029, 0.0032, 0.0036, 0.0039, 0.0043, 0.0046, 0.005, 0.0054, 0.0057, 0.0061, 0.0064, 0.0068, 0.0071, 0.0075]}>>\n",
      "Fitting 9 folds for each of 29 candidates, totalling 261 fits\n"
     ]
    },
    {
     "name": "stderr",
     "output_type": "stream",
     "text": [
      "[Parallel(n_jobs=1)]: Done 261 out of 261 | elapsed:   16.9s finished\n"
     ]
    },
    {
     "name": "stdout",
     "output_type": "stream",
     "text": [
      "       Best parameters selected: <<{'C': 0.0025}>> for score <<0.6746196645349004>>.\n",
      "       4. Grid Search model <<<class 'sklearn.svm.classes.LinearSVC'>>>; weight: <<{0: 1.0, 1: 91.18695652173913}>>; parameters: <<{'C': [0.001, 0.01, 0.1, 1.0, 10.0]}>>\n",
      "Fitting 9 folds for each of 5 candidates, totalling 45 fits\n"
     ]
    },
    {
     "name": "stderr",
     "output_type": "stream",
     "text": [
      "[Parallel(n_jobs=1)]: Done  45 out of  45 | elapsed:    9.4s finished\n"
     ]
    },
    {
     "name": "stdout",
     "output_type": "stream",
     "text": [
      "       Best parameters selected: <<{'C': 0.001}>> for score <<0.6696501461687334>>.\n",
      "       5. Grid Search model <<<class 'sklearn.svm.classes.LinearSVC'>>>; weight: <<{0: 1.0, 1: 91.18695652173913}>>; parameters: <<{'C': [0.0003, 0.0004, 0.0004, 0.0005, 0.0005, 0.0006, 0.0006, 0.0007, 0.0007, 0.0008, 0.0008, 0.0009, 0.0009, 0.001, 0.001, 0.0011, 0.0013, 0.0014, 0.0016, 0.0017, 0.0019, 0.002, 0.0021, 0.0023, 0.0024, 0.0026, 0.0027, 0.0029, 0.003]}>>\n",
      "Fitting 9 folds for each of 29 candidates, totalling 261 fits\n"
     ]
    },
    {
     "name": "stderr",
     "output_type": "stream",
     "text": [
      "[Parallel(n_jobs=1)]: Done 261 out of 261 | elapsed:   15.2s finished\n"
     ]
    },
    {
     "name": "stdout",
     "output_type": "stream",
     "text": [
      "       Best parameters selected: <<{'C': 0.0013}>> for score <<0.6753111397721268>>.\n",
      "       6. Grid Search model <<<class 'sklearn.svm.classes.LinearSVC'>>>; weight: <<{0: 1.0, 1: 91.18695652173913}>>; parameters: <<{'C': [0.0004, 0.0005, 0.0006, 0.0006, 0.0007, 0.0007, 0.0008, 0.0009, 0.0009, 0.001, 0.0011, 0.0011, 0.0012, 0.0012, 0.0013, 0.0015, 0.0017, 0.0019, 0.002, 0.0022, 0.0024, 0.0026, 0.0028, 0.003, 0.0032, 0.0033, 0.0035, 0.0037, 0.0039]}>>\n",
      "Fitting 9 folds for each of 29 candidates, totalling 261 fits\n"
     ]
    },
    {
     "name": "stderr",
     "output_type": "stream",
     "text": [
      "[Parallel(n_jobs=1)]: Done 261 out of 261 | elapsed:   16.7s finished\n"
     ]
    },
    {
     "name": "stdout",
     "output_type": "stream",
     "text": [
      "       Best parameters selected: <<{'C': 0.0013}>> for score <<0.6753111397721268>>.\n",
      "       Final parameters selected: <<{'C': 0.0025}>> for score <<0.6746196645349004>>.\n",
      "\n",
      "          *** Score on validation dataset (macro/weighted) <<0.6578557859282309>> / <<0.902376910016978>>.\n",
      "[[2111  208]\n",
      " [  22   15]]\n",
      "\n",
      "-------------------------------------------------------------------\n",
      "    17. Fit model for class: <<refugees>> ((21203, 12007)).\n",
      "    Tuning hyper-parameters for class: <<refugees>> (Recall).\n",
      "       1. Grid Search model <<<class 'sklearn.svm.classes.LinearSVC'>>>; weight: <<balanced>>; parameters: <<{'C': [0.001, 0.01, 0.1, 1.0, 10.0]}>>\n",
      "Fitting 9 folds for each of 5 candidates, totalling 45 fits\n"
     ]
    },
    {
     "name": "stderr",
     "output_type": "stream",
     "text": [
      "[Parallel(n_jobs=1)]: Done  45 out of  45 | elapsed:   11.2s finished\n"
     ]
    },
    {
     "name": "stdout",
     "output_type": "stream",
     "text": [
      "       Best parameters selected: <<{'C': 0.01}>> for score <<0.7896164673199872>>.\n",
      "       2. Grid Search model <<<class 'sklearn.svm.classes.LinearSVC'>>>; weight: <<balanced>>; parameters: <<{'C': [0.0033, 0.0038, 0.0043, 0.0048, 0.0052, 0.0057, 0.0062, 0.0067, 0.0071, 0.0076, 0.0081, 0.0086, 0.009, 0.0095, 0.01, 0.0114, 0.0129, 0.0143, 0.0157, 0.0171, 0.0186, 0.02, 0.0214, 0.0229, 0.0243, 0.0257, 0.0271, 0.0286, 0.03]}>>\n",
      "Fitting 9 folds for each of 29 candidates, totalling 261 fits\n"
     ]
    },
    {
     "name": "stderr",
     "output_type": "stream",
     "text": [
      "[Parallel(n_jobs=1)]: Done 261 out of 261 | elapsed:   19.7s finished\n"
     ]
    },
    {
     "name": "stdout",
     "output_type": "stream",
     "text": [
      "       Best parameters selected: <<{'C': 0.009}>> for score <<0.7920686595244534>>.\n",
      "       3. Grid Search model <<<class 'sklearn.svm.classes.LinearSVC'>>>; weight: <<balanced>>; parameters: <<{'C': [0.003, 0.0034, 0.0039, 0.0043, 0.0047, 0.0051, 0.0056, 0.006, 0.0064, 0.0069, 0.0073, 0.0077, 0.0081, 0.0086, 0.009, 0.0103, 0.0116, 0.0129, 0.0141, 0.0154, 0.0167, 0.018, 0.0193, 0.0206, 0.0219, 0.0231, 0.0244, 0.0257, 0.027]}>>\n",
      "Fitting 9 folds for each of 29 candidates, totalling 261 fits\n"
     ]
    },
    {
     "name": "stderr",
     "output_type": "stream",
     "text": [
      "[Parallel(n_jobs=1)]: Done 261 out of 261 | elapsed:   18.7s finished\n"
     ]
    },
    {
     "name": "stdout",
     "output_type": "stream",
     "text": [
      "       Best parameters selected: <<{'C': 0.009}>> for score <<0.7920686595244534>>.\n",
      "       3. Grid Search model <<<class 'sklearn.svm.classes.LinearSVC'>>>; weight: <<{0: 1.0, 1: 59.28034682080924}>>; parameters: <<{'C': [0.001, 0.01, 0.1, 1.0, 10.0]}>>\n",
      "Fitting 9 folds for each of 5 candidates, totalling 45 fits\n"
     ]
    },
    {
     "name": "stderr",
     "output_type": "stream",
     "text": [
      "[Parallel(n_jobs=1)]: Done  45 out of  45 | elapsed:   13.3s finished\n"
     ]
    },
    {
     "name": "stdout",
     "output_type": "stream",
     "text": [
      "       Best parameters selected: <<{'C': 0.01}>> for score <<0.7947198148034267>>.\n",
      "       4. Grid Search model <<<class 'sklearn.svm.classes.LinearSVC'>>>; weight: <<{0: 1.0, 1: 59.28034682080924}>>; parameters: <<{'C': [0.0033, 0.0038, 0.0043, 0.0048, 0.0052, 0.0057, 0.0062, 0.0067, 0.0071, 0.0076, 0.0081, 0.0086, 0.009, 0.0095, 0.01, 0.0114, 0.0129, 0.0143, 0.0157, 0.0171, 0.0186, 0.02, 0.0214, 0.0229, 0.0243, 0.0257, 0.0271, 0.0286, 0.03]}>>\n",
      "Fitting 9 folds for each of 29 candidates, totalling 261 fits\n"
     ]
    },
    {
     "name": "stderr",
     "output_type": "stream",
     "text": [
      "[Parallel(n_jobs=1)]: Done 261 out of 261 | elapsed:   37.7s finished\n"
     ]
    },
    {
     "name": "stdout",
     "output_type": "stream",
     "text": [
      "       Best parameters selected: <<{'C': 0.0086}>> for score <<0.7964057549899282>>.\n",
      "       5. Grid Search model <<<class 'sklearn.svm.classes.LinearSVC'>>>; weight: <<{0: 1.0, 1: 59.28034682080924}>>; parameters: <<{'C': [0.0029, 0.0033, 0.0037, 0.0041, 0.0045, 0.0049, 0.0053, 0.0057, 0.0061, 0.0066, 0.007, 0.0074, 0.0078, 0.0082, 0.0086, 0.0098, 0.0111, 0.0123, 0.0135, 0.0147, 0.016, 0.0172, 0.0184, 0.0197, 0.0209, 0.0221, 0.0233, 0.0246, 0.0258]}>>\n",
      "Fitting 9 folds for each of 29 candidates, totalling 261 fits\n"
     ]
    },
    {
     "name": "stderr",
     "output_type": "stream",
     "text": [
      "[Parallel(n_jobs=1)]: Done 261 out of 261 | elapsed:   34.2s finished\n"
     ]
    },
    {
     "name": "stdout",
     "output_type": "stream",
     "text": [
      "       Best parameters selected: <<{'C': 0.0086}>> for score <<0.7964057549899282>>.\n",
      "       Final parameters selected: <<{'C': 0.009}>> for score <<0.7920686595244534>>.\n",
      "\n",
      "          *** Score on validation dataset (macro/weighted) <<0.8027066989772866>> / <<0.8960101867572157>>.\n",
      "[[2043  216]\n",
      " [  29   68]]\n",
      "\n",
      "-------------------------------------------------------------------\n",
      "    18. Fit model for class: <<death>> ((21203, 12007)).\n",
      "    Tuning hyper-parameters for class: <<death>> (Recall).\n",
      "       1. Grid Search model <<<class 'sklearn.svm.classes.LinearSVC'>>>; weight: <<balanced>>; parameters: <<{'C': [0.001, 0.01, 0.1, 1.0, 10.0]}>>\n",
      "Fitting 9 folds for each of 5 candidates, totalling 45 fits\n"
     ]
    },
    {
     "name": "stderr",
     "output_type": "stream",
     "text": [
      "[Parallel(n_jobs=1)]: Done  45 out of  45 | elapsed:   10.3s finished\n"
     ]
    },
    {
     "name": "stdout",
     "output_type": "stream",
     "text": [
      "       Best parameters selected: <<{'C': 0.01}>> for score <<0.8566308810217316>>.\n",
      "       2. Grid Search model <<<class 'sklearn.svm.classes.LinearSVC'>>>; weight: <<balanced>>; parameters: <<{'C': [0.0033, 0.0038, 0.0043, 0.0048, 0.0052, 0.0057, 0.0062, 0.0067, 0.0071, 0.0076, 0.0081, 0.0086, 0.009, 0.0095, 0.01, 0.0114, 0.0129, 0.0143, 0.0157, 0.0171, 0.0186, 0.02, 0.0214, 0.0229, 0.0243, 0.0257, 0.0271, 0.0286, 0.03]}>>\n",
      "Fitting 9 folds for each of 29 candidates, totalling 261 fits\n"
     ]
    },
    {
     "name": "stderr",
     "output_type": "stream",
     "text": [
      "[Parallel(n_jobs=1)]: Done 261 out of 261 | elapsed:   18.2s finished\n"
     ]
    },
    {
     "name": "stdout",
     "output_type": "stream",
     "text": [
      "       Best parameters selected: <<{'C': 0.02}>> for score <<0.858579792233604>>.\n",
      "       3. Grid Search model <<<class 'sklearn.svm.classes.LinearSVC'>>>; weight: <<balanced>>; parameters: <<{'C': [0.0067, 0.0076, 0.0086, 0.0095, 0.0105, 0.0114, 0.0124, 0.0133, 0.0143, 0.0152, 0.0162, 0.0171, 0.0181, 0.019, 0.02, 0.0229, 0.0257, 0.0286, 0.0314, 0.0343, 0.0371, 0.04, 0.0429, 0.0457, 0.0486, 0.0514, 0.0543, 0.0571, 0.06]}>>\n",
      "Fitting 9 folds for each of 29 candidates, totalling 261 fits\n"
     ]
    },
    {
     "name": "stderr",
     "output_type": "stream",
     "text": [
      "[Parallel(n_jobs=1)]: Done 261 out of 261 | elapsed:   25.3s finished\n"
     ]
    },
    {
     "name": "stdout",
     "output_type": "stream",
     "text": [
      "       Best parameters selected: <<{'C': 0.02}>> for score <<0.858579792233604>>.\n",
      "       Final parameters selected: <<{'C': 0.02}>> for score <<0.858579792233604>>.\n",
      "\n",
      "          *** Score on validation dataset (macro/weighted) <<0.823036032594856>> / <<0.9376061120543294>>.\n",
      "[[2131  113]\n",
      " [  34   78]]\n",
      "\n",
      "-------------------------------------------------------------------\n",
      "    19. Fit model for class: <<other_aid>> ((21203, 12007)).\n",
      "    Tuning hyper-parameters for class: <<other_aid>> (Recall).\n",
      "       1. Grid Search model <<<class 'sklearn.svm.classes.LinearSVC'>>>; weight: <<balanced>>; parameters: <<{'C': [0.001, 0.01, 0.1, 1.0, 10.0]}>>\n",
      "Fitting 9 folds for each of 5 candidates, totalling 45 fits\n"
     ]
    },
    {
     "name": "stderr",
     "output_type": "stream",
     "text": [
      "[Parallel(n_jobs=1)]: Done  45 out of  45 | elapsed:   19.2s finished\n"
     ]
    },
    {
     "name": "stdout",
     "output_type": "stream",
     "text": [
      "       Best parameters selected: <<{'C': 0.01}>> for score <<0.7023842019835194>>.\n",
      "       2. Grid Search model <<<class 'sklearn.svm.classes.LinearSVC'>>>; weight: <<balanced>>; parameters: <<{'C': [0.0033, 0.0038, 0.0043, 0.0048, 0.0052, 0.0057, 0.0062, 0.0067, 0.0071, 0.0076, 0.0081, 0.0086, 0.009, 0.0095, 0.01, 0.0114, 0.0129, 0.0143, 0.0157, 0.0171, 0.0186, 0.02, 0.0214, 0.0229, 0.0243, 0.0257, 0.0271, 0.0286, 0.03]}>>\n",
      "Fitting 9 folds for each of 29 candidates, totalling 261 fits\n"
     ]
    },
    {
     "name": "stderr",
     "output_type": "stream",
     "text": [
      "[Parallel(n_jobs=1)]: Done 261 out of 261 | elapsed:   13.3s finished\n"
     ]
    },
    {
     "name": "stdout",
     "output_type": "stream",
     "text": [
      "       Best parameters selected: <<{'C': 0.03}>> for score <<0.7075403680795463>>.\n",
      "       3. Grid Search model <<<class 'sklearn.svm.classes.LinearSVC'>>>; weight: <<balanced>>; parameters: <<{'C': [0.01, 0.0114, 0.0129, 0.0143, 0.0157, 0.0171, 0.0186, 0.02, 0.0214, 0.0229, 0.0243, 0.0257, 0.0271, 0.0286, 0.03, 0.0343, 0.0386, 0.0429, 0.0471, 0.0514, 0.0557, 0.06, 0.0643, 0.0686, 0.0729, 0.0771, 0.0814, 0.0857, 0.09]}>>\n",
      "Fitting 9 folds for each of 29 candidates, totalling 261 fits\n"
     ]
    },
    {
     "name": "stderr",
     "output_type": "stream",
     "text": [
      "[Parallel(n_jobs=1)]: Done 261 out of 261 | elapsed:   20.8s finished\n"
     ]
    },
    {
     "name": "stdout",
     "output_type": "stream",
     "text": [
      "       Best parameters selected: <<{'C': 0.0343}>> for score <<0.7077704653300778>>.\n",
      "       4. Grid Search model <<<class 'sklearn.svm.classes.LinearSVC'>>>; weight: <<balanced>>; parameters: <<{'C': [0.0114, 0.0131, 0.0147, 0.0163, 0.018, 0.0196, 0.0212, 0.0229, 0.0245, 0.0261, 0.0278, 0.0294, 0.031, 0.0327, 0.0343, 0.0392, 0.0441, 0.049, 0.0539, 0.0588, 0.0637, 0.0686, 0.0735, 0.0784, 0.0833, 0.0882, 0.0931, 0.098, 0.1029]}>>\n",
      "Fitting 9 folds for each of 29 candidates, totalling 261 fits\n"
     ]
    },
    {
     "name": "stderr",
     "output_type": "stream",
     "text": [
      "[Parallel(n_jobs=1)]: Done 261 out of 261 | elapsed:   22.3s finished\n"
     ]
    },
    {
     "name": "stdout",
     "output_type": "stream",
     "text": [
      "       Best parameters selected: <<{'C': 0.0343}>> for score <<0.7077704653300778>>.\n",
      "       4. Grid Search model <<<class 'sklearn.svm.classes.LinearSVC'>>>; weight: <<{0: 1.0, 1: 13.493606138107415}>>; parameters: <<{'C': [0.001, 0.01, 0.1, 1.0, 10.0]}>>\n",
      "Fitting 9 folds for each of 5 candidates, totalling 45 fits\n"
     ]
    },
    {
     "name": "stderr",
     "output_type": "stream",
     "text": [
      "[Parallel(n_jobs=1)]: Done  45 out of  45 | elapsed:   27.2s finished\n"
     ]
    },
    {
     "name": "stdout",
     "output_type": "stream",
     "text": [
      "       Best parameters selected: <<{'C': 0.1}>> for score <<0.7004757050578867>>.\n",
      "       5. Grid Search model <<<class 'sklearn.svm.classes.LinearSVC'>>>; weight: <<{0: 1.0, 1: 13.493606138107415}>>; parameters: <<{'C': [0.0333, 0.0381, 0.0429, 0.0476, 0.0524, 0.0571, 0.0619, 0.0667, 0.0714, 0.0762, 0.081, 0.0857, 0.0905, 0.0952, 0.1, 0.1143, 0.1286, 0.1429, 0.1571, 0.1714, 0.1857, 0.2, 0.2143, 0.2286, 0.2429, 0.2571, 0.2714, 0.2857, 0.3]}>>\n",
      "Fitting 9 folds for each of 29 candidates, totalling 261 fits\n"
     ]
    },
    {
     "name": "stderr",
     "output_type": "stream",
     "text": [
      "[Parallel(n_jobs=1)]: Done 261 out of 261 | elapsed:  1.7min finished\n"
     ]
    },
    {
     "name": "stdout",
     "output_type": "stream",
     "text": [
      "       Best parameters selected: <<{'C': 0.0381}>> for score <<0.7093297744034772>>.\n",
      "       6. Grid Search model <<<class 'sklearn.svm.classes.LinearSVC'>>>; weight: <<{0: 1.0, 1: 13.493606138107415}>>; parameters: <<{'C': [0.0127, 0.0145, 0.0163, 0.0181, 0.02, 0.0218, 0.0236, 0.0254, 0.0272, 0.029, 0.0308, 0.0327, 0.0345, 0.0363, 0.0381, 0.0435, 0.049, 0.0544, 0.0599, 0.0653, 0.0708, 0.0762, 0.0816, 0.0871, 0.0925, 0.098, 0.1034, 0.1089, 0.1143]}>>\n",
      "Fitting 9 folds for each of 29 candidates, totalling 261 fits\n"
     ]
    },
    {
     "name": "stderr",
     "output_type": "stream",
     "text": [
      "[Parallel(n_jobs=1)]: Done 261 out of 261 | elapsed:   50.3s finished\n"
     ]
    },
    {
     "name": "stdout",
     "output_type": "stream",
     "text": [
      "       Best parameters selected: <<{'C': 0.0308}>> for score <<0.7095977724028065>>.\n",
      "       7. Grid Search model <<<class 'sklearn.svm.classes.LinearSVC'>>>; weight: <<{0: 1.0, 1: 13.493606138107415}>>; parameters: <<{'C': [0.0103, 0.0117, 0.0132, 0.0147, 0.0161, 0.0176, 0.0191, 0.0205, 0.022, 0.0235, 0.0249, 0.0264, 0.0279, 0.0293, 0.0308, 0.0352, 0.0396, 0.044, 0.0484, 0.0528, 0.0572, 0.0616, 0.066, 0.0704, 0.0748, 0.0792, 0.0836, 0.088, 0.0924]}>>\n",
      "Fitting 9 folds for each of 29 candidates, totalling 261 fits\n"
     ]
    },
    {
     "name": "stderr",
     "output_type": "stream",
     "text": [
      "[Parallel(n_jobs=1)]: Done 261 out of 261 | elapsed:   43.3s finished\n"
     ]
    },
    {
     "name": "stdout",
     "output_type": "stream",
     "text": [
      "       Best parameters selected: <<{'C': 0.044}>> for score <<0.7097782195009061>>.\n",
      "       8. Grid Search model <<<class 'sklearn.svm.classes.LinearSVC'>>>; weight: <<{0: 1.0, 1: 13.493606138107415}>>; parameters: <<{'C': [0.0147, 0.0168, 0.0189, 0.021, 0.023, 0.0251, 0.0272, 0.0293, 0.0314, 0.0335, 0.0356, 0.0377, 0.0398, 0.0419, 0.044, 0.0503, 0.0566, 0.0629, 0.0691, 0.0754, 0.0817, 0.088, 0.0943, 0.1006, 0.1069, 0.1131, 0.1194, 0.1257, 0.132]}>>\n",
      "Fitting 9 folds for each of 29 candidates, totalling 261 fits\n"
     ]
    },
    {
     "name": "stderr",
     "output_type": "stream",
     "text": [
      "[Parallel(n_jobs=1)]: Done 261 out of 261 | elapsed:   55.2s finished\n"
     ]
    },
    {
     "name": "stdout",
     "output_type": "stream",
     "text": [
      "       Best parameters selected: <<{'C': 0.044}>> for score <<0.7097782195009061>>.\n",
      "       Final parameters selected: <<{'C': 0.0343}>> for score <<0.7077704653300778>>.\n",
      "\n",
      "          *** Score on validation dataset (macro/weighted) <<0.7232358037442783>> / <<0.7924448217317487>>.\n",
      "[[1646  356]\n",
      " [ 133  221]]\n",
      "\n",
      "-------------------------------------------------------------------\n",
      "    20. Fit model for class: <<infrastructure_related>> ((21203, 12007)).\n",
      "    Tuning hyper-parameters for class: <<infrastructure_related>> (Recall).\n",
      "       1. Grid Search model <<<class 'sklearn.svm.classes.LinearSVC'>>>; weight: <<balanced>>; parameters: <<{'C': [0.001, 0.01, 0.1, 1.0, 10.0]}>>\n",
      "Fitting 9 folds for each of 5 candidates, totalling 45 fits\n"
     ]
    },
    {
     "name": "stderr",
     "output_type": "stream",
     "text": [
      "[Parallel(n_jobs=1)]: Done  45 out of  45 | elapsed:   15.0s finished\n"
     ]
    },
    {
     "name": "stdout",
     "output_type": "stream",
     "text": [
      "       Best parameters selected: <<{'C': 0.01}>> for score <<0.7256353965535025>>.\n",
      "       2. Grid Search model <<<class 'sklearn.svm.classes.LinearSVC'>>>; weight: <<balanced>>; parameters: <<{'C': [0.0033, 0.0038, 0.0043, 0.0048, 0.0052, 0.0057, 0.0062, 0.0067, 0.0071, 0.0076, 0.0081, 0.0086, 0.009, 0.0095, 0.01, 0.0114, 0.0129, 0.0143, 0.0157, 0.0171, 0.0186, 0.02, 0.0214, 0.0229, 0.0243, 0.0257, 0.0271, 0.0286, 0.03]}>>\n",
      "Fitting 9 folds for each of 29 candidates, totalling 261 fits\n"
     ]
    },
    {
     "name": "stderr",
     "output_type": "stream",
     "text": [
      "[Parallel(n_jobs=1)]: Done 261 out of 261 | elapsed:   16.5s finished\n"
     ]
    },
    {
     "name": "stdout",
     "output_type": "stream",
     "text": [
      "       Best parameters selected: <<{'C': 0.0171}>> for score <<0.7316188045049996>>.\n",
      "       3. Grid Search model <<<class 'sklearn.svm.classes.LinearSVC'>>>; weight: <<balanced>>; parameters: <<{'C': [0.0057, 0.0065, 0.0073, 0.0081, 0.009, 0.0098, 0.0106, 0.0114, 0.0122, 0.013, 0.0138, 0.0147, 0.0155, 0.0163, 0.0171, 0.0195, 0.022, 0.0244, 0.0269, 0.0293, 0.0318, 0.0342, 0.0366, 0.0391, 0.0415, 0.044, 0.0464, 0.0489, 0.0513]}>>\n",
      "Fitting 9 folds for each of 29 candidates, totalling 261 fits\n"
     ]
    },
    {
     "name": "stderr",
     "output_type": "stream",
     "text": [
      "[Parallel(n_jobs=1)]: Done 261 out of 261 | elapsed:   20.6s finished\n"
     ]
    },
    {
     "name": "stdout",
     "output_type": "stream",
     "text": [
      "       Best parameters selected: <<{'C': 0.0171}>> for score <<0.7316188045049996>>.\n",
      "       3. Grid Search model <<<class 'sklearn.svm.classes.LinearSVC'>>>; weight: <<{0: 1.0, 1: 28.618050541516244}>>; parameters: <<{'C': [0.001, 0.01, 0.1, 1.0, 10.0]}>>\n",
      "Fitting 9 folds for each of 5 candidates, totalling 45 fits\n"
     ]
    },
    {
     "name": "stderr",
     "output_type": "stream",
     "text": [
      "[Parallel(n_jobs=1)]: Done  45 out of  45 | elapsed:   19.9s finished\n"
     ]
    },
    {
     "name": "stdout",
     "output_type": "stream",
     "text": [
      "       Best parameters selected: <<{'C': 0.01}>> for score <<0.7114805802589987>>.\n",
      "       4. Grid Search model <<<class 'sklearn.svm.classes.LinearSVC'>>>; weight: <<{0: 1.0, 1: 28.618050541516244}>>; parameters: <<{'C': [0.0033, 0.0038, 0.0043, 0.0048, 0.0052, 0.0057, 0.0062, 0.0067, 0.0071, 0.0076, 0.0081, 0.0086, 0.009, 0.0095, 0.01, 0.0114, 0.0129, 0.0143, 0.0157, 0.0171, 0.0186, 0.02, 0.0214, 0.0229, 0.0243, 0.0257, 0.0271, 0.0286, 0.03]}>>\n",
      "Fitting 9 folds for each of 29 candidates, totalling 261 fits\n"
     ]
    },
    {
     "name": "stderr",
     "output_type": "stream",
     "text": [
      "[Parallel(n_jobs=1)]: Done 261 out of 261 | elapsed:   29.6s finished\n"
     ]
    },
    {
     "name": "stdout",
     "output_type": "stream",
     "text": [
      "       Best parameters selected: <<{'C': 0.0186}>> for score <<0.7271649000208125>>.\n",
      "       5. Grid Search model <<<class 'sklearn.svm.classes.LinearSVC'>>>; weight: <<{0: 1.0, 1: 28.618050541516244}>>; parameters: <<{'C': [0.0062, 0.0071, 0.008, 0.0089, 0.0097, 0.0106, 0.0115, 0.0124, 0.0133, 0.0142, 0.0151, 0.0159, 0.0168, 0.0177, 0.0186, 0.0213, 0.0239, 0.0266, 0.0292, 0.0319, 0.0345, 0.0372, 0.0399, 0.0425, 0.0452, 0.0478, 0.0505, 0.0531, 0.0558]}>>\n",
      "Fitting 9 folds for each of 29 candidates, totalling 261 fits\n"
     ]
    },
    {
     "name": "stderr",
     "output_type": "stream",
     "text": [
      "[Parallel(n_jobs=1)]: Done 261 out of 261 | elapsed:   43.1s finished\n"
     ]
    },
    {
     "name": "stdout",
     "output_type": "stream",
     "text": [
      "       Best parameters selected: <<{'C': 0.0186}>> for score <<0.7271649000208125>>.\n",
      "       Final parameters selected: <<{'C': 0.0171}>> for score <<0.7316188045049996>>.\n",
      "\n",
      "          *** Score on validation dataset (macro/weighted) <<0.671783196239718>> / <<0.7924448217317487>>.\n",
      "[[1788  420]\n",
      " [  69   79]]\n",
      "\n",
      "-------------------------------------------------------------------\n",
      "    21. Fit model for class: <<transport>> ((21203, 12007)).\n",
      "    Tuning hyper-parameters for class: <<transport>> (Recall).\n",
      "       1. Grid Search model <<<class 'sklearn.svm.classes.LinearSVC'>>>; weight: <<balanced>>; parameters: <<{'C': [0.001, 0.01, 0.1, 1.0, 10.0]}>>\n",
      "Fitting 9 folds for each of 5 candidates, totalling 45 fits\n"
     ]
    },
    {
     "name": "stderr",
     "output_type": "stream",
     "text": [
      "[Parallel(n_jobs=1)]: Done  45 out of  45 | elapsed:   17.0s finished\n"
     ]
    },
    {
     "name": "stdout",
     "output_type": "stream",
     "text": [
      "       Best parameters selected: <<{'C': 0.01}>> for score <<0.7193517022281468>>.\n",
      "       2. Grid Search model <<<class 'sklearn.svm.classes.LinearSVC'>>>; weight: <<balanced>>; parameters: <<{'C': [0.0033, 0.0038, 0.0043, 0.0048, 0.0052, 0.0057, 0.0062, 0.0067, 0.0071, 0.0076, 0.0081, 0.0086, 0.009, 0.0095, 0.01, 0.0114, 0.0129, 0.0143, 0.0157, 0.0171, 0.0186, 0.02, 0.0214, 0.0229, 0.0243, 0.0257, 0.0271, 0.0286, 0.03]}>>\n",
      "Fitting 9 folds for each of 29 candidates, totalling 261 fits\n"
     ]
    },
    {
     "name": "stderr",
     "output_type": "stream",
     "text": [
      "[Parallel(n_jobs=1)]: Done 261 out of 261 | elapsed:   18.4s finished\n"
     ]
    },
    {
     "name": "stdout",
     "output_type": "stream",
     "text": [
      "       Best parameters selected: <<{'C': 0.03}>> for score <<0.7205917599797111>>.\n",
      "       3. Grid Search model <<<class 'sklearn.svm.classes.LinearSVC'>>>; weight: <<balanced>>; parameters: <<{'C': [0.01, 0.0114, 0.0129, 0.0143, 0.0157, 0.0171, 0.0186, 0.02, 0.0214, 0.0229, 0.0243, 0.0257, 0.0271, 0.0286, 0.03, 0.0343, 0.0386, 0.0429, 0.0471, 0.0514, 0.0557, 0.06, 0.0643, 0.0686, 0.0729, 0.0771, 0.0814, 0.0857, 0.09]}>>\n",
      "Fitting 9 folds for each of 29 candidates, totalling 261 fits\n"
     ]
    },
    {
     "name": "stderr",
     "output_type": "stream",
     "text": [
      "[Parallel(n_jobs=1)]: Done 261 out of 261 | elapsed:   33.3s finished\n"
     ]
    },
    {
     "name": "stdout",
     "output_type": "stream",
     "text": [
      "       Best parameters selected: <<{'C': 0.03}>> for score <<0.7205917599797111>>.\n",
      "       3. Grid Search model <<<class 'sklearn.svm.classes.LinearSVC'>>>; weight: <<{0: 1.0, 1: 41.31562819203268}>>; parameters: <<{'C': [0.001, 0.01, 0.1, 1.0, 10.0]}>>\n",
      "Fitting 9 folds for each of 5 candidates, totalling 45 fits\n"
     ]
    },
    {
     "name": "stderr",
     "output_type": "stream",
     "text": [
      "[Parallel(n_jobs=1)]: Done  45 out of  45 | elapsed:   19.0s finished\n"
     ]
    },
    {
     "name": "stdout",
     "output_type": "stream",
     "text": [
      "       Best parameters selected: <<{'C': 0.01}>> for score <<0.7092903329007132>>.\n",
      "       4. Grid Search model <<<class 'sklearn.svm.classes.LinearSVC'>>>; weight: <<{0: 1.0, 1: 41.31562819203268}>>; parameters: <<{'C': [0.0033, 0.0038, 0.0043, 0.0048, 0.0052, 0.0057, 0.0062, 0.0067, 0.0071, 0.0076, 0.0081, 0.0086, 0.009, 0.0095, 0.01, 0.0114, 0.0129, 0.0143, 0.0157, 0.0171, 0.0186, 0.02, 0.0214, 0.0229, 0.0243, 0.0257, 0.0271, 0.0286, 0.03]}>>\n",
      "Fitting 9 folds for each of 29 candidates, totalling 261 fits\n"
     ]
    },
    {
     "name": "stderr",
     "output_type": "stream",
     "text": [
      "[Parallel(n_jobs=1)]: Done 261 out of 261 | elapsed:   37.0s finished\n"
     ]
    },
    {
     "name": "stdout",
     "output_type": "stream",
     "text": [
      "       Best parameters selected: <<{'C': 0.0129}>> for score <<0.7152126152127724>>.\n",
      "       5. Grid Search model <<<class 'sklearn.svm.classes.LinearSVC'>>>; weight: <<{0: 1.0, 1: 41.31562819203268}>>; parameters: <<{'C': [0.0043, 0.0049, 0.0055, 0.0061, 0.0068, 0.0074, 0.008, 0.0086, 0.0092, 0.0098, 0.0104, 0.0111, 0.0117, 0.0123, 0.0129, 0.0147, 0.0166, 0.0184, 0.0203, 0.0221, 0.024, 0.0258, 0.0276, 0.0295, 0.0313, 0.0332, 0.035, 0.0369, 0.0387]}>>\n",
      "Fitting 9 folds for each of 29 candidates, totalling 261 fits\n"
     ]
    },
    {
     "name": "stderr",
     "output_type": "stream",
     "text": [
      "[Parallel(n_jobs=1)]: Done 261 out of 261 | elapsed:   43.5s finished\n"
     ]
    },
    {
     "name": "stdout",
     "output_type": "stream",
     "text": [
      "       Best parameters selected: <<{'C': 0.0129}>> for score <<0.7152126152127724>>.\n",
      "       Final parameters selected: <<{'C': 0.03}>> for score <<0.7205917599797111>>.\n",
      "\n",
      "          *** Score on validation dataset (macro/weighted) <<0.6553249475890985>> / <<0.8739388794567062>>.\n",
      "[[2015  235]\n",
      " [  62   44]]\n",
      "\n",
      "-------------------------------------------------------------------\n",
      "    22. Fit model for class: <<buildings>> ((21203, 12007)).\n",
      "    Tuning hyper-parameters for class: <<buildings>> (Recall).\n",
      "       1. Grid Search model <<<class 'sklearn.svm.classes.LinearSVC'>>>; weight: <<balanced>>; parameters: <<{'C': [0.001, 0.01, 0.1, 1.0, 10.0]}>>\n",
      "Fitting 9 folds for each of 5 candidates, totalling 45 fits\n"
     ]
    },
    {
     "name": "stderr",
     "output_type": "stream",
     "text": [
      "[Parallel(n_jobs=1)]: Done  45 out of  45 | elapsed:   12.3s finished\n"
     ]
    },
    {
     "name": "stdout",
     "output_type": "stream",
     "text": [
      "       Best parameters selected: <<{'C': 0.01}>> for score <<0.8307587091930486>>.\n",
      "       2. Grid Search model <<<class 'sklearn.svm.classes.LinearSVC'>>>; weight: <<balanced>>; parameters: <<{'C': [0.0033, 0.0038, 0.0043, 0.0048, 0.0052, 0.0057, 0.0062, 0.0067, 0.0071, 0.0076, 0.0081, 0.0086, 0.009, 0.0095, 0.01, 0.0114, 0.0129, 0.0143, 0.0157, 0.0171, 0.0186, 0.02, 0.0214, 0.0229, 0.0243, 0.0257, 0.0271, 0.0286, 0.03]}>>\n",
      "Fitting 9 folds for each of 29 candidates, totalling 261 fits\n"
     ]
    },
    {
     "name": "stderr",
     "output_type": "stream",
     "text": [
      "[Parallel(n_jobs=1)]: Done 261 out of 261 | elapsed:   18.4s finished\n"
     ]
    },
    {
     "name": "stdout",
     "output_type": "stream",
     "text": [
      "       Best parameters selected: <<{'C': 0.0243}>> for score <<0.8327048880082416>>.\n",
      "       3. Grid Search model <<<class 'sklearn.svm.classes.LinearSVC'>>>; weight: <<balanced>>; parameters: <<{'C': [0.0081, 0.0093, 0.0104, 0.0116, 0.0127, 0.0139, 0.015, 0.0162, 0.0174, 0.0185, 0.0197, 0.0208, 0.022, 0.0231, 0.0243, 0.0278, 0.0312, 0.0347, 0.0382, 0.0417, 0.0451, 0.0486, 0.0521, 0.0555, 0.059, 0.0625, 0.066, 0.0694, 0.0729]}>>\n",
      "Fitting 9 folds for each of 29 candidates, totalling 261 fits\n"
     ]
    },
    {
     "name": "stderr",
     "output_type": "stream",
     "text": [
      "[Parallel(n_jobs=1)]: Done 261 out of 261 | elapsed:   29.4s finished\n"
     ]
    },
    {
     "name": "stdout",
     "output_type": "stream",
     "text": [
      "       Best parameters selected: <<{'C': 0.0197}>> for score <<0.8331290660386728>>.\n",
      "       4. Grid Search model <<<class 'sklearn.svm.classes.LinearSVC'>>>; weight: <<balanced>>; parameters: <<{'C': [0.0066, 0.0075, 0.0084, 0.0094, 0.0103, 0.0113, 0.0122, 0.0131, 0.0141, 0.015, 0.0159, 0.0169, 0.0178, 0.0188, 0.0197, 0.0225, 0.0253, 0.0281, 0.031, 0.0338, 0.0366, 0.0394, 0.0422, 0.045, 0.0478, 0.0507, 0.0535, 0.0563, 0.0591]}>>\n",
      "Fitting 9 folds for each of 29 candidates, totalling 261 fits\n"
     ]
    },
    {
     "name": "stderr",
     "output_type": "stream",
     "text": [
      "[Parallel(n_jobs=1)]: Done 261 out of 261 | elapsed:   26.9s finished\n"
     ]
    },
    {
     "name": "stdout",
     "output_type": "stream",
     "text": [
      "       Best parameters selected: <<{'C': 0.0197}>> for score <<0.8331290660386728>>.\n",
      "       4. Grid Search model <<<class 'sklearn.svm.classes.LinearSVC'>>>; weight: <<{0: 1.0, 1: 37.41078066914498}>>; parameters: <<{'C': [0.001, 0.01, 0.1, 1.0, 10.0]}>>\n",
      "Fitting 9 folds for each of 5 candidates, totalling 45 fits\n"
     ]
    },
    {
     "name": "stderr",
     "output_type": "stream",
     "text": [
      "[Parallel(n_jobs=1)]: Done  45 out of  45 | elapsed:   17.5s finished\n"
     ]
    },
    {
     "name": "stdout",
     "output_type": "stream",
     "text": [
      "       Best parameters selected: <<{'C': 0.01}>> for score <<0.848294644179342>>.\n",
      "       5. Grid Search model <<<class 'sklearn.svm.classes.LinearSVC'>>>; weight: <<{0: 1.0, 1: 37.41078066914498}>>; parameters: <<{'C': [0.0033, 0.0038, 0.0043, 0.0048, 0.0052, 0.0057, 0.0062, 0.0067, 0.0071, 0.0076, 0.0081, 0.0086, 0.009, 0.0095, 0.01, 0.0114, 0.0129, 0.0143, 0.0157, 0.0171, 0.0186, 0.02, 0.0214, 0.0229, 0.0243, 0.0257, 0.0271, 0.0286, 0.03]}>>\n",
      "Fitting 9 folds for each of 29 candidates, totalling 261 fits\n"
     ]
    },
    {
     "name": "stderr",
     "output_type": "stream",
     "text": [
      "[Parallel(n_jobs=1)]: Done 261 out of 261 | elapsed:   40.4s finished\n"
     ]
    },
    {
     "name": "stdout",
     "output_type": "stream",
     "text": [
      "       Best parameters selected: <<{'C': 0.0114}>> for score <<0.8495657439726356>>.\n",
      "       6. Grid Search model <<<class 'sklearn.svm.classes.LinearSVC'>>>; weight: <<{0: 1.0, 1: 37.41078066914498}>>; parameters: <<{'C': [0.0038, 0.0043, 0.0049, 0.0054, 0.006, 0.0065, 0.0071, 0.0076, 0.0081, 0.0087, 0.0092, 0.0098, 0.0103, 0.0109, 0.0114, 0.013, 0.0147, 0.0163, 0.0179, 0.0195, 0.0212, 0.0228, 0.0244, 0.0261, 0.0277, 0.0293, 0.0309, 0.0326, 0.0342]}>>\n",
      "Fitting 9 folds for each of 29 candidates, totalling 261 fits\n"
     ]
    },
    {
     "name": "stderr",
     "output_type": "stream",
     "text": [
      "[Parallel(n_jobs=1)]: Done 261 out of 261 | elapsed:   40.6s finished\n"
     ]
    },
    {
     "name": "stdout",
     "output_type": "stream",
     "text": [
      "       Best parameters selected: <<{'C': 0.0109}>> for score <<0.8495760102809291>>.\n",
      "       7. Grid Search model <<<class 'sklearn.svm.classes.LinearSVC'>>>; weight: <<{0: 1.0, 1: 37.41078066914498}>>; parameters: <<{'C': [0.0036, 0.0042, 0.0047, 0.0052, 0.0057, 0.0062, 0.0067, 0.0073, 0.0078, 0.0083, 0.0088, 0.0093, 0.0099, 0.0104, 0.0109, 0.0125, 0.014, 0.0156, 0.0171, 0.0187, 0.0202, 0.0218, 0.0234, 0.0249, 0.0265, 0.028, 0.0296, 0.0311, 0.0327]}>>\n",
      "Fitting 9 folds for each of 29 candidates, totalling 261 fits\n"
     ]
    },
    {
     "name": "stderr",
     "output_type": "stream",
     "text": [
      "[Parallel(n_jobs=1)]: Done 261 out of 261 | elapsed:   38.8s finished\n"
     ]
    },
    {
     "name": "stdout",
     "output_type": "stream",
     "text": [
      "       Best parameters selected: <<{'C': 0.0109}>> for score <<0.8495760102809291>>.\n",
      "       Final parameters selected: <<{'C': 0.0197}>> for score <<0.8331290660386728>>.\n",
      "\n",
      "          *** Score on validation dataset (macro/weighted) <<0.8107872563419646>> / <<0.9202037351443124>>.\n",
      "[[2086  151]\n",
      " [  37   82]]\n",
      "\n",
      "-------------------------------------------------------------------\n",
      "    23. Fit model for class: <<electricity>> ((21203, 12007)).\n",
      "    Tuning hyper-parameters for class: <<electricity>> (Recall).\n",
      "       1. Grid Search model <<<class 'sklearn.svm.classes.LinearSVC'>>>; weight: <<balanced>>; parameters: <<{'C': [0.001, 0.01, 0.1, 1.0, 10.0]}>>\n",
      "Fitting 9 folds for each of 5 candidates, totalling 45 fits\n"
     ]
    },
    {
     "name": "stderr",
     "output_type": "stream",
     "text": [
      "[Parallel(n_jobs=1)]: Done  45 out of  45 | elapsed:    9.6s finished\n"
     ]
    },
    {
     "name": "stdout",
     "output_type": "stream",
     "text": [
      "       Best parameters selected: <<{'C': 0.01}>> for score <<0.8357490007168132>>.\n",
      "       2. Grid Search model <<<class 'sklearn.svm.classes.LinearSVC'>>>; weight: <<balanced>>; parameters: <<{'C': [0.0033, 0.0038, 0.0043, 0.0048, 0.0052, 0.0057, 0.0062, 0.0067, 0.0071, 0.0076, 0.0081, 0.0086, 0.009, 0.0095, 0.01, 0.0114, 0.0129, 0.0143, 0.0157, 0.0171, 0.0186, 0.02, 0.0214, 0.0229, 0.0243, 0.0257, 0.0271, 0.0286, 0.03]}>>\n",
      "Fitting 9 folds for each of 29 candidates, totalling 261 fits\n"
     ]
    },
    {
     "name": "stderr",
     "output_type": "stream",
     "text": [
      "[Parallel(n_jobs=1)]: Done 261 out of 261 | elapsed:   27.5s finished\n"
     ]
    },
    {
     "name": "stdout",
     "output_type": "stream",
     "text": [
      "       Best parameters selected: <<{'C': 0.0114}>> for score <<0.8370013712418799>>.\n",
      "       3. Grid Search model <<<class 'sklearn.svm.classes.LinearSVC'>>>; weight: <<balanced>>; parameters: <<{'C': [0.0038, 0.0043, 0.0049, 0.0054, 0.006, 0.0065, 0.0071, 0.0076, 0.0081, 0.0087, 0.0092, 0.0098, 0.0103, 0.0109, 0.0114, 0.013, 0.0147, 0.0163, 0.0179, 0.0195, 0.0212, 0.0228, 0.0244, 0.0261, 0.0277, 0.0293, 0.0309, 0.0326, 0.0342]}>>\n",
      "Fitting 9 folds for each of 29 candidates, totalling 261 fits\n"
     ]
    },
    {
     "name": "stderr",
     "output_type": "stream",
     "text": [
      "[Parallel(n_jobs=1)]: Done 261 out of 261 | elapsed:   29.8s finished\n"
     ]
    },
    {
     "name": "stdout",
     "output_type": "stream",
     "text": [
      "       Best parameters selected: <<{'C': 0.0103}>> for score <<0.8371718615652308>>.\n",
      "       4. Grid Search model <<<class 'sklearn.svm.classes.LinearSVC'>>>; weight: <<balanced>>; parameters: <<{'C': [0.0034, 0.0039, 0.0044, 0.0049, 0.0054, 0.0059, 0.0064, 0.0069, 0.0074, 0.0078, 0.0083, 0.0088, 0.0093, 0.0098, 0.0103, 0.0118, 0.0132, 0.0147, 0.0162, 0.0177, 0.0191, 0.0206, 0.0221, 0.0235, 0.025, 0.0265, 0.028, 0.0294, 0.0309]}>>\n",
      "Fitting 9 folds for each of 29 candidates, totalling 261 fits\n"
     ]
    },
    {
     "name": "stderr",
     "output_type": "stream",
     "text": [
      "[Parallel(n_jobs=1)]: Done 261 out of 261 | elapsed:   27.1s finished\n"
     ]
    },
    {
     "name": "stdout",
     "output_type": "stream",
     "text": [
      "       Best parameters selected: <<{'C': 0.0118}>> for score <<0.8373626395063218>>.\n",
      "       5. Grid Search model <<<class 'sklearn.svm.classes.LinearSVC'>>>; weight: <<balanced>>; parameters: <<{'C': [0.0039, 0.0045, 0.0051, 0.0056, 0.0062, 0.0067, 0.0073, 0.0079, 0.0084, 0.009, 0.0096, 0.0101, 0.0107, 0.0112, 0.0118, 0.0135, 0.0152, 0.0169, 0.0185, 0.0202, 0.0219, 0.0236, 0.0253, 0.027, 0.0287, 0.0303, 0.032, 0.0337, 0.0354]}>>\n",
      "Fitting 9 folds for each of 29 candidates, totalling 261 fits\n"
     ]
    },
    {
     "name": "stderr",
     "output_type": "stream",
     "text": [
      "[Parallel(n_jobs=1)]: Done 261 out of 261 | elapsed:   29.3s finished\n"
     ]
    },
    {
     "name": "stdout",
     "output_type": "stream",
     "text": [
      "       Best parameters selected: <<{'C': 0.0118}>> for score <<0.8373626395063218>>.\n",
      "       5. Grid Search model <<<class 'sklearn.svm.classes.LinearSVC'>>>; weight: <<{0: 1.0, 1: 93.94117647058823}>>; parameters: <<{'C': [0.001, 0.01, 0.1, 1.0, 10.0]}>>\n",
      "Fitting 9 folds for each of 5 candidates, totalling 45 fits\n"
     ]
    },
    {
     "name": "stderr",
     "output_type": "stream",
     "text": [
      "[Parallel(n_jobs=1)]: Done  45 out of  45 | elapsed:   11.0s finished\n"
     ]
    },
    {
     "name": "stdout",
     "output_type": "stream",
     "text": [
      "       Best parameters selected: <<{'C': 0.01}>> for score <<0.8463598400431027>>.\n",
      "       6. Grid Search model <<<class 'sklearn.svm.classes.LinearSVC'>>>; weight: <<{0: 1.0, 1: 93.94117647058823}>>; parameters: <<{'C': [0.0033, 0.0038, 0.0043, 0.0048, 0.0052, 0.0057, 0.0062, 0.0067, 0.0071, 0.0076, 0.0081, 0.0086, 0.009, 0.0095, 0.01, 0.0114, 0.0129, 0.0143, 0.0157, 0.0171, 0.0186, 0.02, 0.0214, 0.0229, 0.0243, 0.0257, 0.0271, 0.0286, 0.03]}>>\n",
      "Fitting 9 folds for each of 29 candidates, totalling 261 fits\n"
     ]
    },
    {
     "name": "stderr",
     "output_type": "stream",
     "text": [
      "[Parallel(n_jobs=1)]: Done 261 out of 261 | elapsed:   48.9s finished\n"
     ]
    },
    {
     "name": "stdout",
     "output_type": "stream",
     "text": [
      "       Best parameters selected: <<{'C': 0.0057}>> for score <<0.8511314274388297>>.\n",
      "       7. Grid Search model <<<class 'sklearn.svm.classes.LinearSVC'>>>; weight: <<{0: 1.0, 1: 93.94117647058823}>>; parameters: <<{'C': [0.0019, 0.0022, 0.0024, 0.0027, 0.003, 0.0033, 0.0035, 0.0038, 0.0041, 0.0043, 0.0046, 0.0049, 0.0052, 0.0054, 0.0057, 0.0065, 0.0073, 0.0081, 0.009, 0.0098, 0.0106, 0.0114, 0.0122, 0.013, 0.0138, 0.0147, 0.0155, 0.0163, 0.0171]}>>\n",
      "Fitting 9 folds for each of 29 candidates, totalling 261 fits\n"
     ]
    },
    {
     "name": "stderr",
     "output_type": "stream",
     "text": [
      "[Parallel(n_jobs=1)]: Done 261 out of 261 | elapsed:   41.3s finished\n"
     ]
    },
    {
     "name": "stdout",
     "output_type": "stream",
     "text": [
      "       Best parameters selected: <<{'C': 0.0073}>> for score <<0.851555415652126>>.\n",
      "       8. Grid Search model <<<class 'sklearn.svm.classes.LinearSVC'>>>; weight: <<{0: 1.0, 1: 93.94117647058823}>>; parameters: <<{'C': [0.0024, 0.0028, 0.0031, 0.0035, 0.0038, 0.0042, 0.0045, 0.0049, 0.0052, 0.0056, 0.0059, 0.0063, 0.0066, 0.007, 0.0073, 0.0083, 0.0094, 0.0104, 0.0115, 0.0125, 0.0136, 0.0146, 0.0156, 0.0167, 0.0177, 0.0188, 0.0198, 0.0209, 0.0219]}>>\n",
      "Fitting 9 folds for each of 29 candidates, totalling 261 fits\n"
     ]
    },
    {
     "name": "stderr",
     "output_type": "stream",
     "text": [
      "[Parallel(n_jobs=1)]: Done 261 out of 261 | elapsed:   43.3s finished\n"
     ]
    },
    {
     "name": "stdout",
     "output_type": "stream",
     "text": [
      "       Best parameters selected: <<{'C': 0.0056}>> for score <<0.8518558446315241>>.\n",
      "       9. Grid Search model <<<class 'sklearn.svm.classes.LinearSVC'>>>; weight: <<{0: 1.0, 1: 93.94117647058823}>>; parameters: <<{'C': [0.0019, 0.0021, 0.0024, 0.0027, 0.0029, 0.0032, 0.0035, 0.0037, 0.004, 0.0043, 0.0045, 0.0048, 0.0051, 0.0053, 0.0056, 0.0064, 0.0072, 0.008, 0.0088, 0.0096, 0.0104, 0.0112, 0.012, 0.0128, 0.0136, 0.0144, 0.0152, 0.016, 0.0168]}>>\n",
      "Fitting 9 folds for each of 29 candidates, totalling 261 fits\n"
     ]
    },
    {
     "name": "stderr",
     "output_type": "stream",
     "text": [
      "[Parallel(n_jobs=1)]: Done 261 out of 261 | elapsed:   38.9s finished\n"
     ]
    },
    {
     "name": "stdout",
     "output_type": "stream",
     "text": [
      "       Best parameters selected: <<{'C': 0.0056}>> for score <<0.8518558446315241>>.\n",
      "       Final parameters selected: <<{'C': 0.0118}>> for score <<0.8373626395063218>>.\n",
      "\n",
      "          *** Score on validation dataset (macro/weighted) <<0.7727556078384058>> / <<0.9571307300509337>>.\n",
      "[[2230   83]\n",
      " [  18   25]]\n",
      "\n",
      "-------------------------------------------------------------------\n",
      "    24. Fit model for class: <<tools>> ((21203, 12007)).\n",
      "    Tuning hyper-parameters for class: <<tools>> (Recall).\n",
      "       1. Grid Search model <<<class 'sklearn.svm.classes.LinearSVC'>>>; weight: <<balanced>>; parameters: <<{'C': [0.001, 0.01, 0.1, 1.0, 10.0]}>>\n",
      "Fitting 9 folds for each of 5 candidates, totalling 45 fits\n"
     ]
    },
    {
     "name": "stderr",
     "output_type": "stream",
     "text": [
      "[Parallel(n_jobs=1)]: Done  45 out of  45 | elapsed:    9.4s finished\n"
     ]
    },
    {
     "name": "stdout",
     "output_type": "stream",
     "text": [
      "       Best parameters selected: <<{'C': 0.001}>> for score <<0.6367505288983519>>.\n",
      "       2. Grid Search model <<<class 'sklearn.svm.classes.LinearSVC'>>>; weight: <<balanced>>; parameters: <<{'C': [0.0003, 0.0004, 0.0004, 0.0005, 0.0005, 0.0006, 0.0006, 0.0007, 0.0007, 0.0008, 0.0008, 0.0009, 0.0009, 0.001, 0.001, 0.0011, 0.0013, 0.0014, 0.0016, 0.0017, 0.0019, 0.002, 0.0021, 0.0023, 0.0024, 0.0026, 0.0027, 0.0029, 0.003]}>>\n",
      "Fitting 9 folds for each of 29 candidates, totalling 261 fits\n"
     ]
    },
    {
     "name": "stderr",
     "output_type": "stream",
     "text": [
      "[Parallel(n_jobs=1)]: Done 261 out of 261 | elapsed:   15.4s finished\n"
     ]
    },
    {
     "name": "stdout",
     "output_type": "stream",
     "text": [
      "       Best parameters selected: <<{'C': 0.0008}>> for score <<0.6461049322741248>>.\n",
      "       3. Grid Search model <<<class 'sklearn.svm.classes.LinearSVC'>>>; weight: <<balanced>>; parameters: <<{'C': [0.0003, 0.0003, 0.0003, 0.0004, 0.0004, 0.0005, 0.0005, 0.0005, 0.0006, 0.0006, 0.0006, 0.0007, 0.0007, 0.0008, 0.0008, 0.0009, 0.001, 0.0011, 0.0013, 0.0014, 0.0015, 0.0016, 0.0017, 0.0018, 0.0019, 0.0021, 0.0022, 0.0023, 0.0024]}>>\n",
      "Fitting 9 folds for each of 29 candidates, totalling 261 fits\n"
     ]
    },
    {
     "name": "stderr",
     "output_type": "stream",
     "text": [
      "[Parallel(n_jobs=1)]: Done 261 out of 261 | elapsed:   14.8s finished\n"
     ]
    },
    {
     "name": "stdout",
     "output_type": "stream",
     "text": [
      "       Best parameters selected: <<{'C': 0.0008}>> for score <<0.6461049322741248>>.\n",
      "       3. Grid Search model <<<class 'sklearn.svm.classes.LinearSVC'>>>; weight: <<{0: 1.0, 1: 168.624}>>; parameters: <<{'C': [0.001, 0.01, 0.1, 1.0, 10.0]}>>\n",
      "Fitting 9 folds for each of 5 candidates, totalling 45 fits\n"
     ]
    },
    {
     "name": "stderr",
     "output_type": "stream",
     "text": [
      "[Parallel(n_jobs=1)]: Done  45 out of  45 | elapsed:    9.8s finished\n"
     ]
    },
    {
     "name": "stdout",
     "output_type": "stream",
     "text": [
      "       Best parameters selected: <<{'C': 0.001}>> for score <<0.6283122985981487>>.\n",
      "       4. Grid Search model <<<class 'sklearn.svm.classes.LinearSVC'>>>; weight: <<{0: 1.0, 1: 168.624}>>; parameters: <<{'C': [0.0003, 0.0004, 0.0004, 0.0005, 0.0005, 0.0006, 0.0006, 0.0007, 0.0007, 0.0008, 0.0008, 0.0009, 0.0009, 0.001, 0.001, 0.0011, 0.0013, 0.0014, 0.0016, 0.0017, 0.0019, 0.002, 0.0021, 0.0023, 0.0024, 0.0026, 0.0027, 0.0029, 0.003]}>>\n",
      "Fitting 9 folds for each of 29 candidates, totalling 261 fits\n"
     ]
    },
    {
     "name": "stderr",
     "output_type": "stream",
     "text": [
      "[Parallel(n_jobs=1)]: Done 261 out of 261 | elapsed:   20.6s finished\n"
     ]
    },
    {
     "name": "stdout",
     "output_type": "stream",
     "text": [
      "       Best parameters selected: <<{'C': 0.0003}>> for score <<0.6476457539080077>>.\n",
      "       5. Grid Search model <<<class 'sklearn.svm.classes.LinearSVC'>>>; weight: <<{0: 1.0, 1: 168.624}>>; parameters: <<{'C': [0.0001, 0.0001, 0.0001, 0.0001, 0.0002, 0.0002, 0.0002, 0.0002, 0.0002, 0.0002, 0.0002, 0.0003, 0.0003, 0.0003, 0.0003, 0.0003, 0.0004, 0.0004, 0.0005, 0.0005, 0.0006, 0.0006, 0.0006, 0.0007, 0.0007, 0.0008, 0.0008, 0.0009, 0.0009]}>>\n",
      "Fitting 9 folds for each of 29 candidates, totalling 261 fits\n"
     ]
    },
    {
     "name": "stderr",
     "output_type": "stream",
     "text": [
      "[Parallel(n_jobs=1)]: Done 261 out of 261 | elapsed:   12.7s finished\n"
     ]
    },
    {
     "name": "stdout",
     "output_type": "stream",
     "text": [
      "       Best parameters selected: <<{'C': 0.0003}>> for score <<0.6476457539080077>>.\n",
      "       Final parameters selected: <<{'C': 0.0008}>> for score <<0.6461049322741248>>.\n",
      "\n",
      "          *** Score on validation dataset (macro/weighted) <<0.584890476070719>> / <<0.7555178268251274>>.\n",
      "[[1773  566]\n",
      " [  10    7]]\n",
      "\n",
      "-------------------------------------------------------------------\n",
      "    25. Fit model for class: <<hospitals>> ((21203, 12007)).\n",
      "    Tuning hyper-parameters for class: <<hospitals>> (Recall).\n",
      "       1. Grid Search model <<<class 'sklearn.svm.classes.LinearSVC'>>>; weight: <<balanced>>; parameters: <<{'C': [0.001, 0.01, 0.1, 1.0, 10.0]}>>\n",
      "Fitting 9 folds for each of 5 candidates, totalling 45 fits\n"
     ]
    },
    {
     "name": "stderr",
     "output_type": "stream",
     "text": [
      "[Parallel(n_jobs=1)]: Done  45 out of  45 | elapsed:    7.8s finished\n"
     ]
    },
    {
     "name": "stdout",
     "output_type": "stream",
     "text": [
      "       Best parameters selected: <<{'C': 0.01}>> for score <<0.7410273571576258>>.\n",
      "       2. Grid Search model <<<class 'sklearn.svm.classes.LinearSVC'>>>; weight: <<balanced>>; parameters: <<{'C': [0.0033, 0.0038, 0.0043, 0.0048, 0.0052, 0.0057, 0.0062, 0.0067, 0.0071, 0.0076, 0.0081, 0.0086, 0.009, 0.0095, 0.01, 0.0114, 0.0129, 0.0143, 0.0157, 0.0171, 0.0186, 0.02, 0.0214, 0.0229, 0.0243, 0.0257, 0.0271, 0.0286, 0.03]}>>\n",
      "Fitting 9 folds for each of 29 candidates, totalling 261 fits\n"
     ]
    },
    {
     "name": "stderr",
     "output_type": "stream",
     "text": [
      "[Parallel(n_jobs=1)]: Done 261 out of 261 | elapsed:   34.9s finished\n"
     ]
    },
    {
     "name": "stdout",
     "output_type": "stream",
     "text": [
      "       Best parameters selected: <<{'C': 0.0067}>> for score <<0.7498427757883915>>.\n",
      "       3. Grid Search model <<<class 'sklearn.svm.classes.LinearSVC'>>>; weight: <<balanced>>; parameters: <<{'C': [0.0022, 0.0026, 0.0029, 0.0032, 0.0035, 0.0038, 0.0041, 0.0045, 0.0048, 0.0051, 0.0054, 0.0057, 0.0061, 0.0064, 0.0067, 0.0077, 0.0086, 0.0096, 0.0105, 0.0115, 0.0124, 0.0134, 0.0144, 0.0153, 0.0163, 0.0172, 0.0182, 0.0191, 0.0201]}>>\n",
      "Fitting 9 folds for each of 29 candidates, totalling 261 fits\n"
     ]
    },
    {
     "name": "stderr",
     "output_type": "stream",
     "text": [
      "[Parallel(n_jobs=1)]: Done 261 out of 261 | elapsed:   29.1s finished\n"
     ]
    },
    {
     "name": "stdout",
     "output_type": "stream",
     "text": [
      "       Best parameters selected: <<{'C': 0.0067}>> for score <<0.7498427757883915>>.\n",
      "       3. Grid Search model <<<class 'sklearn.svm.classes.LinearSVC'>>>; weight: <<{0: 1.0, 1: 90.0}>>; parameters: <<{'C': [0.001, 0.01, 0.1, 1.0, 10.0]}>>\n",
      "Fitting 9 folds for each of 5 candidates, totalling 45 fits\n"
     ]
    },
    {
     "name": "stderr",
     "output_type": "stream",
     "text": [
      "[Parallel(n_jobs=1)]: Done  45 out of  45 | elapsed:    9.5s finished\n"
     ]
    },
    {
     "name": "stdout",
     "output_type": "stream",
     "text": [
      "       Best parameters selected: <<{'C': 0.01}>> for score <<0.7339434819633386>>.\n",
      "       4. Grid Search model <<<class 'sklearn.svm.classes.LinearSVC'>>>; weight: <<{0: 1.0, 1: 90.0}>>; parameters: <<{'C': [0.0033, 0.0038, 0.0043, 0.0048, 0.0052, 0.0057, 0.0062, 0.0067, 0.0071, 0.0076, 0.0081, 0.0086, 0.009, 0.0095, 0.01, 0.0114, 0.0129, 0.0143, 0.0157, 0.0171, 0.0186, 0.02, 0.0214, 0.0229, 0.0243, 0.0257, 0.0271, 0.0286, 0.03]}>>\n",
      "Fitting 9 folds for each of 29 candidates, totalling 261 fits\n"
     ]
    },
    {
     "name": "stderr",
     "output_type": "stream",
     "text": [
      "[Parallel(n_jobs=1)]: Done 261 out of 261 | elapsed:   44.1s finished\n"
     ]
    },
    {
     "name": "stdout",
     "output_type": "stream",
     "text": [
      "       Best parameters selected: <<{'C': 0.0033}>> for score <<0.7494612806602629>>.\n",
      "       5. Grid Search model <<<class 'sklearn.svm.classes.LinearSVC'>>>; weight: <<{0: 1.0, 1: 90.0}>>; parameters: <<{'C': [0.0011, 0.0013, 0.0014, 0.0016, 0.0017, 0.0019, 0.002, 0.0022, 0.0024, 0.0025, 0.0027, 0.0028, 0.003, 0.0031, 0.0033, 0.0038, 0.0042, 0.0047, 0.0052, 0.0057, 0.0061, 0.0066, 0.0071, 0.0075, 0.008, 0.0085, 0.009, 0.0094, 0.0099]}>>\n",
      "Fitting 9 folds for each of 29 candidates, totalling 261 fits\n"
     ]
    },
    {
     "name": "stderr",
     "output_type": "stream",
     "text": [
      "[Parallel(n_jobs=1)]: Done 261 out of 261 | elapsed:   26.6s finished\n"
     ]
    },
    {
     "name": "stdout",
     "output_type": "stream",
     "text": [
      "       Best parameters selected: <<{'C': 0.0033}>> for score <<0.7494612806602629>>.\n",
      "       Final parameters selected: <<{'C': 0.0067}>> for score <<0.7498427757883915>>.\n",
      "\n",
      "          *** Score on validation dataset (macro/weighted) <<0.7123408934195569>> / <<0.9418505942275043>>.\n",
      "[[2208  125]\n",
      " [  12   11]]\n",
      "\n",
      "-------------------------------------------------------------------\n",
      "    26. Fit model for class: <<shops>> ((21203, 12007)).\n",
      "    Tuning hyper-parameters for class: <<shops>> (Recall).\n",
      "       1. Grid Search model <<<class 'sklearn.svm.classes.LinearSVC'>>>; weight: <<balanced>>; parameters: <<{'C': [0.001, 0.01, 0.1, 1.0, 10.0]}>>\n",
      "Fitting 9 folds for each of 5 candidates, totalling 45 fits\n"
     ]
    },
    {
     "name": "stderr",
     "output_type": "stream",
     "text": [
      "[Parallel(n_jobs=1)]: Done  45 out of  45 | elapsed:    6.4s finished\n"
     ]
    },
    {
     "name": "stdout",
     "output_type": "stream",
     "text": [
      "       Best parameters selected: <<{'C': 0.001}>> for score <<0.6277127646479195>>.\n",
      "       2. Grid Search model <<<class 'sklearn.svm.classes.LinearSVC'>>>; weight: <<balanced>>; parameters: <<{'C': [0.0003, 0.0004, 0.0004, 0.0005, 0.0005, 0.0006, 0.0006, 0.0007, 0.0007, 0.0008, 0.0008, 0.0009, 0.0009, 0.001, 0.001, 0.0011, 0.0013, 0.0014, 0.0016, 0.0017, 0.0019, 0.002, 0.0021, 0.0023, 0.0024, 0.0026, 0.0027, 0.0029, 0.003]}>>\n",
      "Fitting 9 folds for each of 29 candidates, totalling 261 fits\n"
     ]
    },
    {
     "name": "stderr",
     "output_type": "stream",
     "text": [
      "[Parallel(n_jobs=1)]: Done 261 out of 261 | elapsed:   17.0s finished\n"
     ]
    },
    {
     "name": "stdout",
     "output_type": "stream",
     "text": [
      "       Best parameters selected: <<{'C': 0.0019}>> for score <<0.6423151401658753>>.\n",
      "       3. Grid Search model <<<class 'sklearn.svm.classes.LinearSVC'>>>; weight: <<balanced>>; parameters: <<{'C': [0.0006, 0.0007, 0.0008, 0.0009, 0.001, 0.0011, 0.0012, 0.0013, 0.0014, 0.0014, 0.0015, 0.0016, 0.0017, 0.0018, 0.0019, 0.0022, 0.0024, 0.0027, 0.003, 0.0033, 0.0035, 0.0038, 0.0041, 0.0043, 0.0046, 0.0049, 0.0052, 0.0054, 0.0057]}>>\n",
      "Fitting 9 folds for each of 29 candidates, totalling 261 fits\n"
     ]
    },
    {
     "name": "stderr",
     "output_type": "stream",
     "text": [
      "[Parallel(n_jobs=1)]: Done 261 out of 261 | elapsed:   22.8s finished\n"
     ]
    },
    {
     "name": "stdout",
     "output_type": "stream",
     "text": [
      "       Best parameters selected: <<{'C': 0.0019}>> for score <<0.6423151401658753>>.\n",
      "       3. Grid Search model <<<class 'sklearn.svm.classes.LinearSVC'>>>; weight: <<{0: 1.0, 1: 234.5888888888889}>>; parameters: <<{'C': [0.001, 0.01, 0.1, 1.0, 10.0]}>>\n",
      "Fitting 9 folds for each of 5 candidates, totalling 45 fits\n"
     ]
    },
    {
     "name": "stderr",
     "output_type": "stream",
     "text": [
      "[Parallel(n_jobs=1)]: Done  45 out of  45 | elapsed:    6.7s finished\n"
     ]
    },
    {
     "name": "stdout",
     "output_type": "stream",
     "text": [
      "       Best parameters selected: <<{'C': 0.001}>> for score <<0.6375408315443852>>.\n",
      "       4. Grid Search model <<<class 'sklearn.svm.classes.LinearSVC'>>>; weight: <<{0: 1.0, 1: 234.5888888888889}>>; parameters: <<{'C': [0.0003, 0.0004, 0.0004, 0.0005, 0.0005, 0.0006, 0.0006, 0.0007, 0.0007, 0.0008, 0.0008, 0.0009, 0.0009, 0.001, 0.001, 0.0011, 0.0013, 0.0014, 0.0016, 0.0017, 0.0019, 0.002, 0.0021, 0.0023, 0.0024, 0.0026, 0.0027, 0.0029, 0.003]}>>\n",
      "Fitting 9 folds for each of 29 candidates, totalling 261 fits\n"
     ]
    },
    {
     "name": "stderr",
     "output_type": "stream",
     "text": [
      "[Parallel(n_jobs=1)]: Done 261 out of 261 | elapsed:   22.5s finished\n"
     ]
    },
    {
     "name": "stdout",
     "output_type": "stream",
     "text": [
      "       Best parameters selected: <<{'C': 0.0009}>> for score <<0.6408231685662744>>.\n",
      "       5. Grid Search model <<<class 'sklearn.svm.classes.LinearSVC'>>>; weight: <<{0: 1.0, 1: 234.5888888888889}>>; parameters: <<{'C': [0.0003, 0.0003, 0.0004, 0.0004, 0.0005, 0.0005, 0.0006, 0.0006, 0.0006, 0.0007, 0.0007, 0.0008, 0.0008, 0.0009, 0.0009, 0.001, 0.0012, 0.0013, 0.0014, 0.0015, 0.0017, 0.0018, 0.0019, 0.0021, 0.0022, 0.0023, 0.0024, 0.0026, 0.0027]}>>\n",
      "Fitting 9 folds for each of 29 candidates, totalling 261 fits\n"
     ]
    },
    {
     "name": "stderr",
     "output_type": "stream",
     "text": [
      "[Parallel(n_jobs=1)]: Done 261 out of 261 | elapsed:   22.0s finished\n"
     ]
    },
    {
     "name": "stdout",
     "output_type": "stream",
     "text": [
      "       Best parameters selected: <<{'C': 0.0009}>> for score <<0.6408231685662744>>.\n",
      "       Final parameters selected: <<{'C': 0.0019}>> for score <<0.6423151401658753>>.\n",
      "\n",
      "          *** Score on validation dataset (macro/weighted) <<0.647951613308855>> / <<0.8807300509337861>>.\n",
      "[[2068  271]\n",
      " [  10    7]]\n",
      "\n",
      "-------------------------------------------------------------------\n",
      "    27. Fit model for class: <<aid_centers>> ((21203, 12007)).\n",
      "    Tuning hyper-parameters for class: <<aid_centers>> (Recall).\n",
      "       1. Grid Search model <<<class 'sklearn.svm.classes.LinearSVC'>>>; weight: <<balanced>>; parameters: <<{'C': [0.001, 0.01, 0.1, 1.0, 10.0]}>>\n",
      "Fitting 9 folds for each of 5 candidates, totalling 45 fits\n"
     ]
    },
    {
     "name": "stderr",
     "output_type": "stream",
     "text": [
      "[Parallel(n_jobs=1)]: Done  45 out of  45 | elapsed:    9.3s finished\n"
     ]
    },
    {
     "name": "stdout",
     "output_type": "stream",
     "text": [
      "       Best parameters selected: <<{'C': 0.01}>> for score <<0.7352266547436346>>.\n",
      "       2. Grid Search model <<<class 'sklearn.svm.classes.LinearSVC'>>>; weight: <<balanced>>; parameters: <<{'C': [0.0033, 0.0038, 0.0043, 0.0048, 0.0052, 0.0057, 0.0062, 0.0067, 0.0071, 0.0076, 0.0081, 0.0086, 0.009, 0.0095, 0.01, 0.0114, 0.0129, 0.0143, 0.0157, 0.0171, 0.0186, 0.02, 0.0214, 0.0229, 0.0243, 0.0257, 0.0271, 0.0286, 0.03]}>>\n",
      "Fitting 9 folds for each of 29 candidates, totalling 261 fits\n"
     ]
    },
    {
     "name": "stderr",
     "output_type": "stream",
     "text": [
      "[Parallel(n_jobs=1)]: Done 261 out of 261 | elapsed:   29.5s finished\n"
     ]
    },
    {
     "name": "stdout",
     "output_type": "stream",
     "text": [
      "       Best parameters selected: <<{'C': 0.0033}>> for score <<0.7494288445380767>>.\n",
      "       3. Grid Search model <<<class 'sklearn.svm.classes.LinearSVC'>>>; weight: <<balanced>>; parameters: <<{'C': [0.0011, 0.0013, 0.0014, 0.0016, 0.0017, 0.0019, 0.002, 0.0022, 0.0024, 0.0025, 0.0027, 0.0028, 0.003, 0.0031, 0.0033, 0.0038, 0.0042, 0.0047, 0.0052, 0.0057, 0.0061, 0.0066, 0.0071, 0.0075, 0.008, 0.0085, 0.009, 0.0094, 0.0099]}>>\n",
      "Fitting 9 folds for each of 29 candidates, totalling 261 fits\n"
     ]
    },
    {
     "name": "stderr",
     "output_type": "stream",
     "text": [
      "[Parallel(n_jobs=1)]: Done 261 out of 261 | elapsed:   18.8s finished\n"
     ]
    },
    {
     "name": "stdout",
     "output_type": "stream",
     "text": [
      "       Best parameters selected: <<{'C': 0.0031}>> for score <<0.7501960833910093>>.\n",
      "       4. Grid Search model <<<class 'sklearn.svm.classes.LinearSVC'>>>; weight: <<balanced>>; parameters: <<{'C': [0.001, 0.0012, 0.0013, 0.0015, 0.0016, 0.0018, 0.0019, 0.0021, 0.0022, 0.0024, 0.0025, 0.0027, 0.0028, 0.003, 0.0031, 0.0035, 0.004, 0.0044, 0.0049, 0.0053, 0.0058, 0.0062, 0.0066, 0.0071, 0.0075, 0.008, 0.0084, 0.0089, 0.0093]}>>\n",
      "Fitting 9 folds for each of 29 candidates, totalling 261 fits\n"
     ]
    },
    {
     "name": "stderr",
     "output_type": "stream",
     "text": [
      "[Parallel(n_jobs=1)]: Done 261 out of 261 | elapsed:   18.5s finished\n"
     ]
    },
    {
     "name": "stdout",
     "output_type": "stream",
     "text": [
      "       Best parameters selected: <<{'C': 0.0031}>> for score <<0.7501960833910093>>.\n",
      "       4. Grid Search model <<<class 'sklearn.svm.classes.LinearSVC'>>>; weight: <<{0: 1.0, 1: 84.15261044176707}>>; parameters: <<{'C': [0.001, 0.01, 0.1, 1.0, 10.0]}>>\n",
      "Fitting 9 folds for each of 5 candidates, totalling 45 fits\n"
     ]
    },
    {
     "name": "stderr",
     "output_type": "stream",
     "text": [
      "[Parallel(n_jobs=1)]: Done  45 out of  45 | elapsed:    9.0s finished\n"
     ]
    },
    {
     "name": "stdout",
     "output_type": "stream",
     "text": [
      "       Best parameters selected: <<{'C': 0.001}>> for score <<0.7384365867278341>>.\n",
      "       5. Grid Search model <<<class 'sklearn.svm.classes.LinearSVC'>>>; weight: <<{0: 1.0, 1: 84.15261044176707}>>; parameters: <<{'C': [0.0003, 0.0004, 0.0004, 0.0005, 0.0005, 0.0006, 0.0006, 0.0007, 0.0007, 0.0008, 0.0008, 0.0009, 0.0009, 0.001, 0.001, 0.0011, 0.0013, 0.0014, 0.0016, 0.0017, 0.0019, 0.002, 0.0021, 0.0023, 0.0024, 0.0026, 0.0027, 0.0029, 0.003]}>>\n",
      "Fitting 9 folds for each of 29 candidates, totalling 261 fits\n"
     ]
    },
    {
     "name": "stderr",
     "output_type": "stream",
     "text": [
      "[Parallel(n_jobs=1)]: Done 261 out of 261 | elapsed:   15.0s finished\n"
     ]
    },
    {
     "name": "stdout",
     "output_type": "stream",
     "text": [
      "       Best parameters selected: <<{'C': 0.0016}>> for score <<0.748498244447668>>.\n",
      "       6. Grid Search model <<<class 'sklearn.svm.classes.LinearSVC'>>>; weight: <<{0: 1.0, 1: 84.15261044176707}>>; parameters: <<{'C': [0.0005, 0.0006, 0.0007, 0.0008, 0.0008, 0.0009, 0.001, 0.0011, 0.0011, 0.0012, 0.0013, 0.0014, 0.0014, 0.0015, 0.0016, 0.0018, 0.0021, 0.0023, 0.0025, 0.0027, 0.003, 0.0032, 0.0034, 0.0037, 0.0039, 0.0041, 0.0043, 0.0046, 0.0048]}>>\n",
      "Fitting 9 folds for each of 29 candidates, totalling 261 fits\n"
     ]
    },
    {
     "name": "stderr",
     "output_type": "stream",
     "text": [
      "[Parallel(n_jobs=1)]: Done 261 out of 261 | elapsed:   18.0s finished\n"
     ]
    },
    {
     "name": "stdout",
     "output_type": "stream",
     "text": [
      "       Best parameters selected: <<{'C': 0.0015}>> for score <<0.7493370488646041>>.\n",
      "       7. Grid Search model <<<class 'sklearn.svm.classes.LinearSVC'>>>; weight: <<{0: 1.0, 1: 84.15261044176707}>>; parameters: <<{'C': [0.0005, 0.0006, 0.0006, 0.0007, 0.0008, 0.0009, 0.0009, 0.001, 0.0011, 0.0011, 0.0012, 0.0013, 0.0014, 0.0014, 0.0015, 0.0017, 0.0019, 0.0021, 0.0024, 0.0026, 0.0028, 0.003, 0.0032, 0.0034, 0.0036, 0.0039, 0.0041, 0.0043, 0.0045]}>>\n",
      "Fitting 9 folds for each of 29 candidates, totalling 261 fits\n"
     ]
    },
    {
     "name": "stderr",
     "output_type": "stream",
     "text": [
      "[Parallel(n_jobs=1)]: Done 261 out of 261 | elapsed:   17.8s finished\n"
     ]
    },
    {
     "name": "stdout",
     "output_type": "stream",
     "text": [
      "       Best parameters selected: <<{'C': 0.0015}>> for score <<0.7493370488646041>>.\n",
      "       Final parameters selected: <<{'C': 0.0031}>> for score <<0.7501960833910093>>.\n",
      "\n",
      "          *** Score on validation dataset (macro/weighted) <<0.7297642807759037>> / <<0.8794567062818336>>.\n",
      "[[2053  270]\n",
      " [  14   19]]\n",
      "\n",
      "-------------------------------------------------------------------\n",
      "    28. Fit model for class: <<other_infrastructure>> ((21203, 12007)).\n",
      "    Tuning hyper-parameters for class: <<other_infrastructure>> (Recall).\n",
      "       1. Grid Search model <<<class 'sklearn.svm.classes.LinearSVC'>>>; weight: <<balanced>>; parameters: <<{'C': [0.001, 0.01, 0.1, 1.0, 10.0]}>>\n",
      "Fitting 9 folds for each of 5 candidates, totalling 45 fits\n"
     ]
    },
    {
     "name": "stderr",
     "output_type": "stream",
     "text": [
      "[Parallel(n_jobs=1)]: Done  45 out of  45 | elapsed:   14.1s finished\n"
     ]
    },
    {
     "name": "stdout",
     "output_type": "stream",
     "text": [
      "       Best parameters selected: <<{'C': 0.01}>> for score <<0.7498970177609087>>.\n",
      "       2. Grid Search model <<<class 'sklearn.svm.classes.LinearSVC'>>>; weight: <<balanced>>; parameters: <<{'C': [0.0033, 0.0038, 0.0043, 0.0048, 0.0052, 0.0057, 0.0062, 0.0067, 0.0071, 0.0076, 0.0081, 0.0086, 0.009, 0.0095, 0.01, 0.0114, 0.0129, 0.0143, 0.0157, 0.0171, 0.0186, 0.02, 0.0214, 0.0229, 0.0243, 0.0257, 0.0271, 0.0286, 0.03]}>>\n",
      "Fitting 9 folds for each of 29 candidates, totalling 261 fits\n"
     ]
    },
    {
     "name": "stderr",
     "output_type": "stream",
     "text": [
      "[Parallel(n_jobs=1)]: Done 261 out of 261 | elapsed:   19.3s finished\n"
     ]
    },
    {
     "name": "stdout",
     "output_type": "stream",
     "text": [
      "       Best parameters selected: <<{'C': 0.01}>> for score <<0.7498970177609087>>.\n",
      "       2. Grid Search model <<<class 'sklearn.svm.classes.LinearSVC'>>>; weight: <<{0: 1.0, 1: 43.2089552238806}>>; parameters: <<{'C': [0.001, 0.01, 0.1, 1.0, 10.0]}>>\n",
      "Fitting 9 folds for each of 5 candidates, totalling 45 fits\n"
     ]
    },
    {
     "name": "stderr",
     "output_type": "stream",
     "text": [
      "[Parallel(n_jobs=1)]: Done  45 out of  45 | elapsed:   16.6s finished\n"
     ]
    },
    {
     "name": "stdout",
     "output_type": "stream",
     "text": [
      "       Best parameters selected: <<{'C': 0.01}>> for score <<0.7525034461342368>>.\n",
      "       3. Grid Search model <<<class 'sklearn.svm.classes.LinearSVC'>>>; weight: <<{0: 1.0, 1: 43.2089552238806}>>; parameters: <<{'C': [0.0033, 0.0038, 0.0043, 0.0048, 0.0052, 0.0057, 0.0062, 0.0067, 0.0071, 0.0076, 0.0081, 0.0086, 0.009, 0.0095, 0.01, 0.0114, 0.0129, 0.0143, 0.0157, 0.0171, 0.0186, 0.02, 0.0214, 0.0229, 0.0243, 0.0257, 0.0271, 0.0286, 0.03]}>>\n",
      "Fitting 9 folds for each of 29 candidates, totalling 261 fits\n"
     ]
    },
    {
     "name": "stderr",
     "output_type": "stream",
     "text": [
      "[Parallel(n_jobs=1)]: Done 261 out of 261 | elapsed:   36.8s finished\n"
     ]
    },
    {
     "name": "stdout",
     "output_type": "stream",
     "text": [
      "       Best parameters selected: <<{'C': 0.0143}>> for score <<0.7525183341205564>>.\n",
      "       4. Grid Search model <<<class 'sklearn.svm.classes.LinearSVC'>>>; weight: <<{0: 1.0, 1: 43.2089552238806}>>; parameters: <<{'C': [0.0048, 0.0054, 0.0061, 0.0068, 0.0075, 0.0082, 0.0089, 0.0095, 0.0102, 0.0109, 0.0116, 0.0123, 0.0129, 0.0136, 0.0143, 0.0163, 0.0184, 0.0204, 0.0225, 0.0245, 0.0266, 0.0286, 0.0306, 0.0327, 0.0347, 0.0368, 0.0388, 0.0409, 0.0429]}>>\n",
      "Fitting 9 folds for each of 29 candidates, totalling 261 fits\n"
     ]
    },
    {
     "name": "stderr",
     "output_type": "stream",
     "text": [
      "[Parallel(n_jobs=1)]: Done 261 out of 261 | elapsed:   45.7s finished\n"
     ]
    },
    {
     "name": "stdout",
     "output_type": "stream",
     "text": [
      "       Best parameters selected: <<{'C': 0.0109}>> for score <<0.7528913008719691>>.\n",
      "       5. Grid Search model <<<class 'sklearn.svm.classes.LinearSVC'>>>; weight: <<{0: 1.0, 1: 43.2089552238806}>>; parameters: <<{'C': [0.0036, 0.0042, 0.0047, 0.0052, 0.0057, 0.0062, 0.0067, 0.0073, 0.0078, 0.0083, 0.0088, 0.0093, 0.0099, 0.0104, 0.0109, 0.0125, 0.014, 0.0156, 0.0171, 0.0187, 0.0202, 0.0218, 0.0234, 0.0249, 0.0265, 0.028, 0.0296, 0.0311, 0.0327]}>>\n",
      "Fitting 9 folds for each of 29 candidates, totalling 261 fits\n"
     ]
    },
    {
     "name": "stderr",
     "output_type": "stream",
     "text": [
      "[Parallel(n_jobs=1)]: Done 261 out of 261 | elapsed:   39.0s finished\n"
     ]
    },
    {
     "name": "stdout",
     "output_type": "stream",
     "text": [
      "       Best parameters selected: <<{'C': 0.0109}>> for score <<0.7528913008719691>>.\n",
      "       Final parameters selected: <<{'C': 0.01}>> for score <<0.7498970177609087>>.\n",
      "\n",
      "          *** Score on validation dataset (macro/weighted) <<0.7135807924583886>> / <<0.816213921901528>>.\n",
      "[[1867  396]\n",
      " [  37   56]]\n",
      "\n",
      "-------------------------------------------------------------------\n",
      "    29. Fit model for class: <<weather_related>> ((21203, 12007)).\n",
      "    Tuning hyper-parameters for class: <<weather_related>> (Recall).\n",
      "       1. Grid Search model <<<class 'sklearn.svm.classes.LinearSVC'>>>; weight: <<balanced>>; parameters: <<{'C': [0.001, 0.01, 0.1, 1.0, 10.0]}>>\n",
      "Fitting 9 folds for each of 5 candidates, totalling 45 fits\n"
     ]
    },
    {
     "name": "stderr",
     "output_type": "stream",
     "text": [
      "[Parallel(n_jobs=1)]: Done  45 out of  45 | elapsed:   14.4s finished\n"
     ]
    },
    {
     "name": "stdout",
     "output_type": "stream",
     "text": [
      "       Best parameters selected: <<{'C': 0.1}>> for score <<0.8581009419838841>>.\n",
      "       2. Grid Search model <<<class 'sklearn.svm.classes.LinearSVC'>>>; weight: <<balanced>>; parameters: <<{'C': [0.0333, 0.0381, 0.0429, 0.0476, 0.0524, 0.0571, 0.0619, 0.0667, 0.0714, 0.0762, 0.081, 0.0857, 0.0905, 0.0952, 0.1, 0.1143, 0.1286, 0.1429, 0.1571, 0.1714, 0.1857, 0.2, 0.2143, 0.2286, 0.2429, 0.2571, 0.2714, 0.2857, 0.3]}>>\n",
      "Fitting 9 folds for each of 29 candidates, totalling 261 fits\n"
     ]
    },
    {
     "name": "stderr",
     "output_type": "stream",
     "text": [
      "[Parallel(n_jobs=1)]: Done 261 out of 261 | elapsed:   25.7s finished\n"
     ]
    },
    {
     "name": "stdout",
     "output_type": "stream",
     "text": [
      "       Best parameters selected: <<{'C': 0.1571}>> for score <<0.8596433059765777>>.\n",
      "       3. Grid Search model <<<class 'sklearn.svm.classes.LinearSVC'>>>; weight: <<balanced>>; parameters: <<{'C': [0.0524, 0.0598, 0.0673, 0.0748, 0.0823, 0.0898, 0.0973, 0.1047, 0.1122, 0.1197, 0.1272, 0.1347, 0.1421, 0.1496, 0.1571, 0.1795, 0.202, 0.2244, 0.2469, 0.2693, 0.2918, 0.3142, 0.3366, 0.3591, 0.3815, 0.404, 0.4264, 0.4489, 0.4713]}>>\n",
      "Fitting 9 folds for each of 29 candidates, totalling 261 fits\n"
     ]
    },
    {
     "name": "stderr",
     "output_type": "stream",
     "text": [
      "[Parallel(n_jobs=1)]: Done 261 out of 261 | elapsed:   32.5s finished\n"
     ]
    },
    {
     "name": "stdout",
     "output_type": "stream",
     "text": [
      "       Best parameters selected: <<{'C': 0.1421}>> for score <<0.8596478892735766>>.\n",
      "       4. Grid Search model <<<class 'sklearn.svm.classes.LinearSVC'>>>; weight: <<balanced>>; parameters: <<{'C': [0.0474, 0.0541, 0.0609, 0.0677, 0.0744, 0.0812, 0.088, 0.0947, 0.1015, 0.1083, 0.115, 0.1218, 0.1286, 0.1353, 0.1421, 0.1624, 0.1827, 0.203, 0.2233, 0.2436, 0.2639, 0.2842, 0.3045, 0.3248, 0.3451, 0.3654, 0.3857, 0.406, 0.4263]}>>\n",
      "Fitting 9 folds for each of 29 candidates, totalling 261 fits\n"
     ]
    },
    {
     "name": "stderr",
     "output_type": "stream",
     "text": [
      "[Parallel(n_jobs=1)]: Done 261 out of 261 | elapsed:   30.7s finished\n"
     ]
    },
    {
     "name": "stdout",
     "output_type": "stream",
     "text": [
      "       Best parameters selected: <<{'C': 0.1421}>> for score <<0.8596478892735766>>.\n",
      "       Final parameters selected: <<{'C': 0.1421}>> for score <<0.8596478892735766>>.\n",
      "\n",
      "          *** Score on validation dataset (macro/weighted) <<0.8511954042409394>> / <<0.8820033955857386>>.\n",
      "[[1559  132]\n",
      " [ 146  519]]\n",
      "\n",
      "-------------------------------------------------------------------\n",
      "    30. Fit model for class: <<floods>> ((21203, 12007)).\n",
      "    Tuning hyper-parameters for class: <<floods>> (Recall).\n",
      "       1. Grid Search model <<<class 'sklearn.svm.classes.LinearSVC'>>>; weight: <<balanced>>; parameters: <<{'C': [0.001, 0.01, 0.1, 1.0, 10.0]}>>\n",
      "Fitting 9 folds for each of 5 candidates, totalling 45 fits\n"
     ]
    },
    {
     "name": "stderr",
     "output_type": "stream",
     "text": [
      "[Parallel(n_jobs=1)]: Done  45 out of  45 | elapsed:   12.7s finished\n"
     ]
    },
    {
     "name": "stdout",
     "output_type": "stream",
     "text": [
      "       Best parameters selected: <<{'C': 0.01}>> for score <<0.8379574900916374>>.\n",
      "       2. Grid Search model <<<class 'sklearn.svm.classes.LinearSVC'>>>; weight: <<balanced>>; parameters: <<{'C': [0.0033, 0.0038, 0.0043, 0.0048, 0.0052, 0.0057, 0.0062, 0.0067, 0.0071, 0.0076, 0.0081, 0.0086, 0.009, 0.0095, 0.01, 0.0114, 0.0129, 0.0143, 0.0157, 0.0171, 0.0186, 0.02, 0.0214, 0.0229, 0.0243, 0.0257, 0.0271, 0.0286, 0.03]}>>\n",
      "Fitting 9 folds for each of 29 candidates, totalling 261 fits\n"
     ]
    },
    {
     "name": "stderr",
     "output_type": "stream",
     "text": [
      "[Parallel(n_jobs=1)]: Done 261 out of 261 | elapsed:   15.2s finished\n"
     ]
    },
    {
     "name": "stdout",
     "output_type": "stream",
     "text": [
      "       Best parameters selected: <<{'C': 0.0114}>> for score <<0.8392256642182937>>.\n",
      "       3. Grid Search model <<<class 'sklearn.svm.classes.LinearSVC'>>>; weight: <<balanced>>; parameters: <<{'C': [0.0038, 0.0043, 0.0049, 0.0054, 0.006, 0.0065, 0.0071, 0.0076, 0.0081, 0.0087, 0.0092, 0.0098, 0.0103, 0.0109, 0.0114, 0.013, 0.0147, 0.0163, 0.0179, 0.0195, 0.0212, 0.0228, 0.0244, 0.0261, 0.0277, 0.0293, 0.0309, 0.0326, 0.0342]}>>\n",
      "Fitting 9 folds for each of 29 candidates, totalling 261 fits\n"
     ]
    },
    {
     "name": "stderr",
     "output_type": "stream",
     "text": [
      "[Parallel(n_jobs=1)]: Done 261 out of 261 | elapsed:   15.8s finished\n"
     ]
    },
    {
     "name": "stdout",
     "output_type": "stream",
     "text": [
      "       Best parameters selected: <<{'C': 0.0114}>> for score <<0.8392256642182937>>.\n",
      "       3. Grid Search model <<<class 'sklearn.svm.classes.LinearSVC'>>>; weight: <<{0: 1.0, 1: 22.315366972477065}>>; parameters: <<{'C': [0.001, 0.01, 0.1, 1.0, 10.0]}>>\n",
      "Fitting 9 folds for each of 5 candidates, totalling 45 fits\n"
     ]
    },
    {
     "name": "stderr",
     "output_type": "stream",
     "text": [
      "[Parallel(n_jobs=1)]: Done  45 out of  45 | elapsed:   17.0s finished\n"
     ]
    },
    {
     "name": "stdout",
     "output_type": "stream",
     "text": [
      "       Best parameters selected: <<{'C': 0.1}>> for score <<0.821562749821447>>.\n",
      "       4. Grid Search model <<<class 'sklearn.svm.classes.LinearSVC'>>>; weight: <<{0: 1.0, 1: 22.315366972477065}>>; parameters: <<{'C': [0.0333, 0.0381, 0.0429, 0.0476, 0.0524, 0.0571, 0.0619, 0.0667, 0.0714, 0.0762, 0.081, 0.0857, 0.0905, 0.0952, 0.1, 0.1143, 0.1286, 0.1429, 0.1571, 0.1714, 0.1857, 0.2, 0.2143, 0.2286, 0.2429, 0.2571, 0.2714, 0.2857, 0.3]}>>\n",
      "Fitting 9 folds for each of 29 candidates, totalling 261 fits\n"
     ]
    },
    {
     "name": "stderr",
     "output_type": "stream",
     "text": [
      "[Parallel(n_jobs=1)]: Done 261 out of 261 | elapsed:  1.7min finished\n"
     ]
    },
    {
     "name": "stdout",
     "output_type": "stream",
     "text": [
      "       Best parameters selected: <<{'C': 0.0381}>> for score <<0.8303814219258763>>.\n",
      "       5. Grid Search model <<<class 'sklearn.svm.classes.LinearSVC'>>>; weight: <<{0: 1.0, 1: 22.315366972477065}>>; parameters: <<{'C': [0.0127, 0.0145, 0.0163, 0.0181, 0.02, 0.0218, 0.0236, 0.0254, 0.0272, 0.029, 0.0308, 0.0327, 0.0345, 0.0363, 0.0381, 0.0435, 0.049, 0.0544, 0.0599, 0.0653, 0.0708, 0.0762, 0.0816, 0.0871, 0.0925, 0.098, 0.1034, 0.1089, 0.1143]}>>\n",
      "Fitting 9 folds for each of 29 candidates, totalling 261 fits\n"
     ]
    },
    {
     "name": "stderr",
     "output_type": "stream",
     "text": [
      "[Parallel(n_jobs=1)]: Done 261 out of 261 | elapsed:   56.7s finished\n"
     ]
    },
    {
     "name": "stdout",
     "output_type": "stream",
     "text": [
      "       Best parameters selected: <<{'C': 0.0308}>> for score <<0.8310279234257171>>.\n",
      "       6. Grid Search model <<<class 'sklearn.svm.classes.LinearSVC'>>>; weight: <<{0: 1.0, 1: 22.315366972477065}>>; parameters: <<{'C': [0.0103, 0.0117, 0.0132, 0.0147, 0.0161, 0.0176, 0.0191, 0.0205, 0.022, 0.0235, 0.0249, 0.0264, 0.0279, 0.0293, 0.0308, 0.0352, 0.0396, 0.044, 0.0484, 0.0528, 0.0572, 0.0616, 0.066, 0.0704, 0.0748, 0.0792, 0.0836, 0.088, 0.0924]}>>\n",
      "Fitting 9 folds for each of 29 candidates, totalling 261 fits\n"
     ]
    },
    {
     "name": "stderr",
     "output_type": "stream",
     "text": [
      "[Parallel(n_jobs=1)]: Done 261 out of 261 | elapsed:   56.5s finished\n"
     ]
    },
    {
     "name": "stdout",
     "output_type": "stream",
     "text": [
      "       Best parameters selected: <<{'C': 0.0308}>> for score <<0.8310279234257171>>.\n",
      "       Final parameters selected: <<{'C': 0.0114}>> for score <<0.8392256642182937>>.\n",
      "\n",
      "          *** Score on validation dataset (macro/weighted) <<0.8186392814342838>> / <<0.919779286926995>>.\n",
      "[[2031  130]\n",
      " [  59  136]]\n",
      "\n",
      "-------------------------------------------------------------------\n",
      "    31. Fit model for class: <<storm>> ((21203, 12007)).\n",
      "    Tuning hyper-parameters for class: <<storm>> (Recall).\n",
      "       1. Grid Search model <<<class 'sklearn.svm.classes.LinearSVC'>>>; weight: <<balanced>>; parameters: <<{'C': [0.001, 0.01, 0.1, 1.0, 10.0]}>>\n",
      "Fitting 9 folds for each of 5 candidates, totalling 45 fits\n"
     ]
    },
    {
     "name": "stderr",
     "output_type": "stream",
     "text": [
      "[Parallel(n_jobs=1)]: Done  45 out of  45 | elapsed:   16.7s finished\n"
     ]
    },
    {
     "name": "stdout",
     "output_type": "stream",
     "text": [
      "       Best parameters selected: <<{'C': 0.1}>> for score <<0.8965744675690018>>.\n",
      "       2. Grid Search model <<<class 'sklearn.svm.classes.LinearSVC'>>>; weight: <<balanced>>; parameters: <<{'C': [0.0333, 0.0381, 0.0429, 0.0476, 0.0524, 0.0571, 0.0619, 0.0667, 0.0714, 0.0762, 0.081, 0.0857, 0.0905, 0.0952, 0.1, 0.1143, 0.1286, 0.1429, 0.1571, 0.1714, 0.1857, 0.2, 0.2143, 0.2286, 0.2429, 0.2571, 0.2714, 0.2857, 0.3]}>>\n",
      "Fitting 9 folds for each of 29 candidates, totalling 261 fits\n"
     ]
    },
    {
     "name": "stderr",
     "output_type": "stream",
     "text": [
      "[Parallel(n_jobs=1)]: Done 261 out of 261 | elapsed:   50.8s finished\n"
     ]
    },
    {
     "name": "stdout",
     "output_type": "stream",
     "text": [
      "       Best parameters selected: <<{'C': 0.0476}>> for score <<0.8997033516987268>>.\n",
      "       3. Grid Search model <<<class 'sklearn.svm.classes.LinearSVC'>>>; weight: <<balanced>>; parameters: <<{'C': [0.0159, 0.0181, 0.0204, 0.0227, 0.0249, 0.0272, 0.0295, 0.0317, 0.034, 0.0363, 0.0385, 0.0408, 0.0431, 0.0453, 0.0476, 0.0544, 0.0612, 0.068, 0.0748, 0.0816, 0.0884, 0.0952, 0.102, 0.1088, 0.1156, 0.1224, 0.1292, 0.136, 0.1428]}>>\n",
      "Fitting 9 folds for each of 29 candidates, totalling 261 fits\n"
     ]
    },
    {
     "name": "stderr",
     "output_type": "stream",
     "text": [
      "[Parallel(n_jobs=1)]: Done 261 out of 261 | elapsed:   35.5s finished\n"
     ]
    },
    {
     "name": "stdout",
     "output_type": "stream",
     "text": [
      "       Best parameters selected: <<{'C': 0.0476}>> for score <<0.8997033516987268>>.\n",
      "       Final parameters selected: <<{'C': 0.0476}>> for score <<0.8997033516987268>>.\n",
      "\n",
      "          *** Score on validation dataset (macro/weighted) <<0.8965694841983501>> / <<0.9405772495755518>>.\n",
      "[[2029  105]\n",
      " [  35  187]]\n",
      "\n",
      "-------------------------------------------------------------------\n",
      "    32. Fit model for class: <<fire>> ((21203, 12007)).\n",
      "    Tuning hyper-parameters for class: <<fire>> (Recall).\n",
      "       1. Grid Search model <<<class 'sklearn.svm.classes.LinearSVC'>>>; weight: <<balanced>>; parameters: <<{'C': [0.001, 0.01, 0.1, 1.0, 10.0]}>>\n",
      "Fitting 9 folds for each of 5 candidates, totalling 45 fits\n"
     ]
    },
    {
     "name": "stderr",
     "output_type": "stream",
     "text": [
      "[Parallel(n_jobs=1)]: Done  45 out of  45 | elapsed:    9.0s finished\n"
     ]
    },
    {
     "name": "stdout",
     "output_type": "stream",
     "text": [
      "       Best parameters selected: <<{'C': 0.01}>> for score <<0.7515401792794012>>.\n",
      "       2. Grid Search model <<<class 'sklearn.svm.classes.LinearSVC'>>>; weight: <<balanced>>; parameters: <<{'C': [0.0033, 0.0038, 0.0043, 0.0048, 0.0052, 0.0057, 0.0062, 0.0067, 0.0071, 0.0076, 0.0081, 0.0086, 0.009, 0.0095, 0.01, 0.0114, 0.0129, 0.0143, 0.0157, 0.0171, 0.0186, 0.02, 0.0214, 0.0229, 0.0243, 0.0257, 0.0271, 0.0286, 0.03]}>>\n",
      "Fitting 9 folds for each of 29 candidates, totalling 261 fits\n"
     ]
    },
    {
     "name": "stderr",
     "output_type": "stream",
     "text": [
      "[Parallel(n_jobs=1)]: Done 261 out of 261 | elapsed:   35.5s finished\n"
     ]
    },
    {
     "name": "stdout",
     "output_type": "stream",
     "text": [
      "       Best parameters selected: <<{'C': 0.0038}>> for score <<0.7641421033890397>>.\n",
      "       3. Grid Search model <<<class 'sklearn.svm.classes.LinearSVC'>>>; weight: <<balanced>>; parameters: <<{'C': [0.0013, 0.0014, 0.0016, 0.0018, 0.002, 0.0022, 0.0024, 0.0025, 0.0027, 0.0029, 0.0031, 0.0033, 0.0034, 0.0036, 0.0038, 0.0043, 0.0049, 0.0054, 0.006, 0.0065, 0.0071, 0.0076, 0.0081, 0.0087, 0.0092, 0.0098, 0.0103, 0.0109, 0.0114]}>>\n",
      "Fitting 9 folds for each of 29 candidates, totalling 261 fits\n"
     ]
    },
    {
     "name": "stderr",
     "output_type": "stream",
     "text": [
      "[Parallel(n_jobs=1)]: Done 261 out of 261 | elapsed:   22.9s finished\n"
     ]
    },
    {
     "name": "stdout",
     "output_type": "stream",
     "text": [
      "       Best parameters selected: <<{'C': 0.0038}>> for score <<0.7641421033890397>>.\n",
      "       3. Grid Search model <<<class 'sklearn.svm.classes.LinearSVC'>>>; weight: <<{0: 1.0, 1: 90.0}>>; parameters: <<{'C': [0.001, 0.01, 0.1, 1.0, 10.0]}>>\n",
      "Fitting 9 folds for each of 5 candidates, totalling 45 fits\n"
     ]
    },
    {
     "name": "stderr",
     "output_type": "stream",
     "text": [
      "[Parallel(n_jobs=1)]: Done  45 out of  45 | elapsed:    8.5s finished\n"
     ]
    },
    {
     "name": "stdout",
     "output_type": "stream",
     "text": [
      "       Best parameters selected: <<{'C': 0.001}>> for score <<0.7504278820744688>>.\n",
      "       4. Grid Search model <<<class 'sklearn.svm.classes.LinearSVC'>>>; weight: <<{0: 1.0, 1: 90.0}>>; parameters: <<{'C': [0.0003, 0.0004, 0.0004, 0.0005, 0.0005, 0.0006, 0.0006, 0.0007, 0.0007, 0.0008, 0.0008, 0.0009, 0.0009, 0.001, 0.001, 0.0011, 0.0013, 0.0014, 0.0016, 0.0017, 0.0019, 0.002, 0.0021, 0.0023, 0.0024, 0.0026, 0.0027, 0.0029, 0.003]}>>\n",
      "Fitting 9 folds for each of 29 candidates, totalling 261 fits\n"
     ]
    },
    {
     "name": "stderr",
     "output_type": "stream",
     "text": [
      "[Parallel(n_jobs=1)]: Done 261 out of 261 | elapsed:   16.3s finished\n"
     ]
    },
    {
     "name": "stdout",
     "output_type": "stream",
     "text": [
      "       Best parameters selected: <<{'C': 0.0021}>> for score <<0.7643418904246639>>.\n",
      "       5. Grid Search model <<<class 'sklearn.svm.classes.LinearSVC'>>>; weight: <<{0: 1.0, 1: 90.0}>>; parameters: <<{'C': [0.0007, 0.0008, 0.0009, 0.001, 0.0011, 0.0012, 0.0013, 0.0014, 0.0015, 0.0016, 0.0017, 0.0018, 0.0019, 0.002, 0.0021, 0.0024, 0.0027, 0.003, 0.0033, 0.0036, 0.0039, 0.0042, 0.0045, 0.0048, 0.0051, 0.0054, 0.0057, 0.006, 0.0063]}>>\n",
      "Fitting 9 folds for each of 29 candidates, totalling 261 fits\n"
     ]
    },
    {
     "name": "stderr",
     "output_type": "stream",
     "text": [
      "[Parallel(n_jobs=1)]: Done 261 out of 261 | elapsed:   22.5s finished\n"
     ]
    },
    {
     "name": "stdout",
     "output_type": "stream",
     "text": [
      "       Best parameters selected: <<{'C': 0.0021}>> for score <<0.7643418904246639>>.\n",
      "       Final parameters selected: <<{'C': 0.0038}>> for score <<0.7641421033890397>>.\n",
      "\n",
      "          *** Score on validation dataset (macro/weighted) <<0.7176988016921673>> / <<0.9524617996604414>>.\n",
      "[[2233  100]\n",
      " [  12   11]]\n",
      "\n",
      "-------------------------------------------------------------------\n",
      "    33. Fit model for class: <<earthquake>> ((21203, 12007)).\n",
      "    Tuning hyper-parameters for class: <<earthquake>> (Recall).\n",
      "       1. Grid Search model <<<class 'sklearn.svm.classes.LinearSVC'>>>; weight: <<balanced>>; parameters: <<{'C': [0.001, 0.01, 0.1, 1.0, 10.0]}>>\n",
      "Fitting 9 folds for each of 5 candidates, totalling 45 fits\n"
     ]
    },
    {
     "name": "stderr",
     "output_type": "stream",
     "text": [
      "[Parallel(n_jobs=1)]: Done  45 out of  45 | elapsed:   12.3s finished\n"
     ]
    },
    {
     "name": "stdout",
     "output_type": "stream",
     "text": [
      "       Best parameters selected: <<{'C': 0.1}>> for score <<0.9138641015209595>>.\n",
      "       2. Grid Search model <<<class 'sklearn.svm.classes.LinearSVC'>>>; weight: <<balanced>>; parameters: <<{'C': [0.0333, 0.0381, 0.0429, 0.0476, 0.0524, 0.0571, 0.0619, 0.0667, 0.0714, 0.0762, 0.081, 0.0857, 0.0905, 0.0952, 0.1, 0.1143, 0.1286, 0.1429, 0.1571, 0.1714, 0.1857, 0.2, 0.2143, 0.2286, 0.2429, 0.2571, 0.2714, 0.2857, 0.3]}>>\n",
      "Fitting 9 folds for each of 29 candidates, totalling 261 fits\n"
     ]
    },
    {
     "name": "stderr",
     "output_type": "stream",
     "text": [
      "[Parallel(n_jobs=1)]: Done 261 out of 261 | elapsed:   44.7s finished\n"
     ]
    },
    {
     "name": "stdout",
     "output_type": "stream",
     "text": [
      "       Best parameters selected: <<{'C': 0.1}>> for score <<0.9138641015209595>>.\n",
      "       Final parameters selected: <<{'C': 0.1}>> for score <<0.9138641015209595>>.\n",
      "\n",
      "          *** Score on validation dataset (macro/weighted) <<0.9072970342198927>> / <<0.9702886247877759>>.\n",
      "[[2101   32]\n",
      " [  38  185]]\n",
      "\n",
      "-------------------------------------------------------------------\n",
      "    34. Fit model for class: <<cold>> ((21203, 12008)).\n",
      "    Tuning hyper-parameters for class: <<cold>> (Recall).\n",
      "       1. Grid Search model <<<class 'sklearn.svm.classes.LinearSVC'>>>; weight: <<balanced>>; parameters: <<{'C': [0.001, 0.01, 0.1, 1.0, 10.0]}>>\n",
      "Fitting 9 folds for each of 5 candidates, totalling 45 fits\n"
     ]
    },
    {
     "name": "stderr",
     "output_type": "stream",
     "text": [
      "[Parallel(n_jobs=1)]: Done  45 out of  45 | elapsed:   10.2s finished\n"
     ]
    },
    {
     "name": "stdout",
     "output_type": "stream",
     "text": [
      "       Best parameters selected: <<{'C': 0.01}>> for score <<0.8279404323780201>>.\n",
      "       2. Grid Search model <<<class 'sklearn.svm.classes.LinearSVC'>>>; weight: <<balanced>>; parameters: <<{'C': [0.0033, 0.0038, 0.0043, 0.0048, 0.0052, 0.0057, 0.0062, 0.0067, 0.0071, 0.0076, 0.0081, 0.0086, 0.009, 0.0095, 0.01, 0.0114, 0.0129, 0.0143, 0.0157, 0.0171, 0.0186, 0.02, 0.0214, 0.0229, 0.0243, 0.0257, 0.0271, 0.0286, 0.03]}>>\n",
      "Fitting 9 folds for each of 29 candidates, totalling 261 fits\n"
     ]
    },
    {
     "name": "stderr",
     "output_type": "stream",
     "text": [
      "[Parallel(n_jobs=1)]: Done 261 out of 261 | elapsed:   27.8s finished\n"
     ]
    },
    {
     "name": "stdout",
     "output_type": "stream",
     "text": [
      "       Best parameters selected: <<{'C': 0.0095}>> for score <<0.8286895485324022>>.\n",
      "       3. Grid Search model <<<class 'sklearn.svm.classes.LinearSVC'>>>; weight: <<balanced>>; parameters: <<{'C': [0.0032, 0.0036, 0.0041, 0.0045, 0.005, 0.0054, 0.0059, 0.0063, 0.0068, 0.0072, 0.0077, 0.0081, 0.0086, 0.009, 0.0095, 0.0109, 0.0122, 0.0136, 0.0149, 0.0163, 0.0176, 0.019, 0.0204, 0.0217, 0.0231, 0.0244, 0.0258, 0.0271, 0.0285]}>>\n",
      "Fitting 9 folds for each of 29 candidates, totalling 261 fits\n"
     ]
    },
    {
     "name": "stderr",
     "output_type": "stream",
     "text": [
      "[Parallel(n_jobs=1)]: Done 261 out of 261 | elapsed:   26.2s finished\n"
     ]
    },
    {
     "name": "stdout",
     "output_type": "stream",
     "text": [
      "       Best parameters selected: <<{'C': 0.0095}>> for score <<0.8286895485324022>>.\n",
      "       3. Grid Search model <<<class 'sklearn.svm.classes.LinearSVC'>>>; weight: <<{0: 1.0, 1: 95.26146788990826}>>; parameters: <<{'C': [0.001, 0.01, 0.1, 1.0, 10.0]}>>\n",
      "Fitting 9 folds for each of 5 candidates, totalling 45 fits\n"
     ]
    },
    {
     "name": "stderr",
     "output_type": "stream",
     "text": [
      "[Parallel(n_jobs=1)]: Done  45 out of  45 | elapsed:   11.9s finished\n"
     ]
    },
    {
     "name": "stdout",
     "output_type": "stream",
     "text": [
      "       Best parameters selected: <<{'C': 0.01}>> for score <<0.8308989478058917>>.\n",
      "       4. Grid Search model <<<class 'sklearn.svm.classes.LinearSVC'>>>; weight: <<{0: 1.0, 1: 95.26146788990826}>>; parameters: <<{'C': [0.0033, 0.0038, 0.0043, 0.0048, 0.0052, 0.0057, 0.0062, 0.0067, 0.0071, 0.0076, 0.0081, 0.0086, 0.009, 0.0095, 0.01, 0.0114, 0.0129, 0.0143, 0.0157, 0.0171, 0.0186, 0.02, 0.0214, 0.0229, 0.0243, 0.0257, 0.0271, 0.0286, 0.03]}>>\n",
      "Fitting 9 folds for each of 29 candidates, totalling 261 fits\n"
     ]
    },
    {
     "name": "stderr",
     "output_type": "stream",
     "text": [
      "[Parallel(n_jobs=1)]: Done 261 out of 261 | elapsed:   49.7s finished\n"
     ]
    },
    {
     "name": "stdout",
     "output_type": "stream",
     "text": [
      "       Best parameters selected: <<{'C': 0.0086}>> for score <<0.8315075325394526>>.\n",
      "       5. Grid Search model <<<class 'sklearn.svm.classes.LinearSVC'>>>; weight: <<{0: 1.0, 1: 95.26146788990826}>>; parameters: <<{'C': [0.0029, 0.0033, 0.0037, 0.0041, 0.0045, 0.0049, 0.0053, 0.0057, 0.0061, 0.0066, 0.007, 0.0074, 0.0078, 0.0082, 0.0086, 0.0098, 0.0111, 0.0123, 0.0135, 0.0147, 0.016, 0.0172, 0.0184, 0.0197, 0.0209, 0.0221, 0.0233, 0.0246, 0.0258]}>>\n",
      "Fitting 9 folds for each of 29 candidates, totalling 261 fits\n"
     ]
    },
    {
     "name": "stderr",
     "output_type": "stream",
     "text": [
      "[Parallel(n_jobs=1)]: Done 261 out of 261 | elapsed:   46.8s finished\n"
     ]
    },
    {
     "name": "stdout",
     "output_type": "stream",
     "text": [
      "       Best parameters selected: <<{'C': 0.0086}>> for score <<0.8315075325394526>>.\n",
      "       Final parameters selected: <<{'C': 0.0095}>> for score <<0.8286895485324022>>.\n",
      "\n",
      "          *** Score on validation dataset (macro/weighted) <<0.8039549002601908>> / <<0.9609507640067911>>.\n",
      "[[2232   74]\n",
      " [  18   32]]\n",
      "\n",
      "-------------------------------------------------------------------\n",
      "    35. Fit model for class: <<other_weather>> ((21203, 12008)).\n",
      "    Tuning hyper-parameters for class: <<other_weather>> (Recall).\n",
      "       1. Grid Search model <<<class 'sklearn.svm.classes.LinearSVC'>>>; weight: <<balanced>>; parameters: <<{'C': [0.001, 0.01, 0.1, 1.0, 10.0]}>>\n",
      "Fitting 9 folds for each of 5 candidates, totalling 45 fits\n"
     ]
    },
    {
     "name": "stderr",
     "output_type": "stream",
     "text": [
      "[Parallel(n_jobs=1)]: Done  45 out of  45 | elapsed:   14.6s finished\n"
     ]
    },
    {
     "name": "stdout",
     "output_type": "stream",
     "text": [
      "       Best parameters selected: <<{'C': 0.01}>> for score <<0.7493418603417658>>.\n",
      "       2. Grid Search model <<<class 'sklearn.svm.classes.LinearSVC'>>>; weight: <<balanced>>; parameters: <<{'C': [0.0033, 0.0038, 0.0043, 0.0048, 0.0052, 0.0057, 0.0062, 0.0067, 0.0071, 0.0076, 0.0081, 0.0086, 0.009, 0.0095, 0.01, 0.0114, 0.0129, 0.0143, 0.0157, 0.0171, 0.0186, 0.02, 0.0214, 0.0229, 0.0243, 0.0257, 0.0271, 0.0286, 0.03]}>>\n",
      "Fitting 9 folds for each of 29 candidates, totalling 261 fits\n"
     ]
    },
    {
     "name": "stderr",
     "output_type": "stream",
     "text": [
      "[Parallel(n_jobs=1)]: Done 261 out of 261 | elapsed:   18.1s finished\n"
     ]
    },
    {
     "name": "stdout",
     "output_type": "stream",
     "text": [
      "       Best parameters selected: <<{'C': 0.0229}>> for score <<0.75162640582913>>.\n",
      "       3. Grid Search model <<<class 'sklearn.svm.classes.LinearSVC'>>>; weight: <<balanced>>; parameters: <<{'C': [0.0076, 0.0087, 0.0098, 0.0109, 0.012, 0.0131, 0.0142, 0.0153, 0.0164, 0.0174, 0.0185, 0.0196, 0.0207, 0.0218, 0.0229, 0.0262, 0.0294, 0.0327, 0.036, 0.0393, 0.0425, 0.0458, 0.0491, 0.0523, 0.0556, 0.0589, 0.0622, 0.0654, 0.0687]}>>\n",
      "Fitting 9 folds for each of 29 candidates, totalling 261 fits\n"
     ]
    },
    {
     "name": "stderr",
     "output_type": "stream",
     "text": [
      "[Parallel(n_jobs=1)]: Done 261 out of 261 | elapsed:   29.9s finished\n"
     ]
    },
    {
     "name": "stdout",
     "output_type": "stream",
     "text": [
      "       Best parameters selected: <<{'C': 0.0229}>> for score <<0.75162640582913>>.\n",
      "       3. Grid Search model <<<class 'sklearn.svm.classes.LinearSVC'>>>; weight: <<{0: 1.0, 1: 36.34177215189874}>>; parameters: <<{'C': [0.001, 0.01, 0.1, 1.0, 10.0]}>>\n",
      "Fitting 9 folds for each of 5 candidates, totalling 45 fits\n"
     ]
    },
    {
     "name": "stderr",
     "output_type": "stream",
     "text": [
      "[Parallel(n_jobs=1)]: Done  45 out of  45 | elapsed:   18.6s finished\n"
     ]
    },
    {
     "name": "stdout",
     "output_type": "stream",
     "text": [
      "       Best parameters selected: <<{'C': 0.01}>> for score <<0.7492180980854435>>.\n",
      "       4. Grid Search model <<<class 'sklearn.svm.classes.LinearSVC'>>>; weight: <<{0: 1.0, 1: 36.34177215189874}>>; parameters: <<{'C': [0.0033, 0.0038, 0.0043, 0.0048, 0.0052, 0.0057, 0.0062, 0.0067, 0.0071, 0.0076, 0.0081, 0.0086, 0.009, 0.0095, 0.01, 0.0114, 0.0129, 0.0143, 0.0157, 0.0171, 0.0186, 0.02, 0.0214, 0.0229, 0.0243, 0.0257, 0.0271, 0.0286, 0.03]}>>\n",
      "Fitting 9 folds for each of 29 candidates, totalling 261 fits\n"
     ]
    },
    {
     "name": "stderr",
     "output_type": "stream",
     "text": [
      "[Parallel(n_jobs=1)]: Done 261 out of 261 | elapsed:   39.6s finished\n"
     ]
    },
    {
     "name": "stdout",
     "output_type": "stream",
     "text": [
      "       Best parameters selected: <<{'C': 0.0243}>> for score <<0.7587218636310871>>.\n",
      "       5. Grid Search model <<<class 'sklearn.svm.classes.LinearSVC'>>>; weight: <<{0: 1.0, 1: 36.34177215189874}>>; parameters: <<{'C': [0.0081, 0.0093, 0.0104, 0.0116, 0.0127, 0.0139, 0.015, 0.0162, 0.0174, 0.0185, 0.0197, 0.0208, 0.022, 0.0231, 0.0243, 0.0278, 0.0312, 0.0347, 0.0382, 0.0417, 0.0451, 0.0486, 0.0521, 0.0555, 0.059, 0.0625, 0.066, 0.0694, 0.0729]}>>\n",
      "Fitting 9 folds for each of 29 candidates, totalling 261 fits\n"
     ]
    },
    {
     "name": "stderr",
     "output_type": "stream",
     "text": [
      "[Parallel(n_jobs=1)]: Done 261 out of 261 | elapsed:  1.2min finished\n"
     ]
    },
    {
     "name": "stdout",
     "output_type": "stream",
     "text": [
      "       Best parameters selected: <<{'C': 0.0243}>> for score <<0.7587218636310871>>.\n",
      "       Final parameters selected: <<{'C': 0.0229}>> for score <<0.75162640582913>>.\n",
      "\n",
      "          *** Score on validation dataset (macro/weighted) <<0.7384486858171069>> / <<0.8599320882852292>>.\n",
      "[[1946  277]\n",
      " [  53   80]]\n",
      "\n",
      "-------------------------------------------------------------------\n",
      "    36. Fit model for class: <<direct_report>> ((21203, 12008)).\n",
      "    Tuning hyper-parameters for class: <<direct_report>> (Recall).\n",
      "       1. Grid Search model <<<class 'sklearn.svm.classes.LinearSVC'>>>; weight: <<balanced>>; parameters: <<{'C': [0.001, 0.01, 0.1, 1.0, 10.0]}>>\n",
      "Fitting 9 folds for each of 5 candidates, totalling 45 fits\n"
     ]
    },
    {
     "name": "stderr",
     "output_type": "stream",
     "text": [
      "[Parallel(n_jobs=1)]: Done  45 out of  45 | elapsed:   19.4s finished\n"
     ]
    },
    {
     "name": "stdout",
     "output_type": "stream",
     "text": [
      "       Best parameters selected: <<{'C': 0.1}>> for score <<0.7922406970715685>>.\n",
      "       2. Grid Search model <<<class 'sklearn.svm.classes.LinearSVC'>>>; weight: <<balanced>>; parameters: <<{'C': [0.0333, 0.0381, 0.0429, 0.0476, 0.0524, 0.0571, 0.0619, 0.0667, 0.0714, 0.0762, 0.081, 0.0857, 0.0905, 0.0952, 0.1, 0.1143, 0.1286, 0.1429, 0.1571, 0.1714, 0.1857, 0.2, 0.2143, 0.2286, 0.2429, 0.2571, 0.2714, 0.2857, 0.3]}>>\n",
      "Fitting 9 folds for each of 29 candidates, totalling 261 fits\n"
     ]
    },
    {
     "name": "stderr",
     "output_type": "stream",
     "text": [
      "[Parallel(n_jobs=1)]: Done 261 out of 261 | elapsed:   38.4s finished\n"
     ]
    },
    {
     "name": "stdout",
     "output_type": "stream",
     "text": [
      "       Best parameters selected: <<{'C': 0.0571}>> for score <<0.7947837778170324>>.\n",
      "       3. Grid Search model <<<class 'sklearn.svm.classes.LinearSVC'>>>; weight: <<balanced>>; parameters: <<{'C': [0.019, 0.0218, 0.0245, 0.0272, 0.0299, 0.0326, 0.0353, 0.0381, 0.0408, 0.0435, 0.0462, 0.0489, 0.0517, 0.0544, 0.0571, 0.0653, 0.0734, 0.0816, 0.0897, 0.0979, 0.106, 0.1142, 0.1224, 0.1305, 0.1387, 0.1468, 0.155, 0.1631, 0.1713]}>>\n",
      "Fitting 9 folds for each of 29 candidates, totalling 261 fits\n"
     ]
    },
    {
     "name": "stderr",
     "output_type": "stream",
     "text": [
      "[Parallel(n_jobs=1)]: Done 261 out of 261 | elapsed:   26.7s finished\n"
     ]
    },
    {
     "name": "stdout",
     "output_type": "stream",
     "text": [
      "       Best parameters selected: <<{'C': 0.0517}>> for score <<0.7948146646321971>>.\n",
      "       4. Grid Search model <<<class 'sklearn.svm.classes.LinearSVC'>>>; weight: <<balanced>>; parameters: <<{'C': [0.0172, 0.0197, 0.0222, 0.0246, 0.0271, 0.0295, 0.032, 0.0345, 0.0369, 0.0394, 0.0419, 0.0443, 0.0468, 0.0492, 0.0517, 0.0591, 0.0665, 0.0739, 0.0812, 0.0886, 0.096, 0.1034, 0.1108, 0.1182, 0.1256, 0.1329, 0.1403, 0.1477, 0.1551]}>>\n",
      "Fitting 9 folds for each of 29 candidates, totalling 261 fits\n"
     ]
    },
    {
     "name": "stderr",
     "output_type": "stream",
     "text": [
      "[Parallel(n_jobs=1)]: Done 261 out of 261 | elapsed:   25.4s finished\n"
     ]
    },
    {
     "name": "stdout",
     "output_type": "stream",
     "text": [
      "       Best parameters selected: <<{'C': 0.0517}>> for score <<0.7948146646321971>>.\n",
      "       4. Grid Search model <<<class 'sklearn.svm.classes.LinearSVC'>>>; weight: <<{0: 1.0, 1: 8.350500366121553}>>; parameters: <<{'C': [0.001, 0.01, 0.1, 1.0, 10.0]}>>\n",
      "Fitting 9 folds for each of 5 candidates, totalling 45 fits\n"
     ]
    },
    {
     "name": "stderr",
     "output_type": "stream",
     "text": [
      "[Parallel(n_jobs=1)]: Done  45 out of  45 | elapsed:   28.7s finished\n"
     ]
    },
    {
     "name": "stdout",
     "output_type": "stream",
     "text": [
      "       Best parameters selected: <<{'C': 0.1}>> for score <<0.7778954024869795>>.\n",
      "       5. Grid Search model <<<class 'sklearn.svm.classes.LinearSVC'>>>; weight: <<{0: 1.0, 1: 8.350500366121553}>>; parameters: <<{'C': [0.0333, 0.0381, 0.0429, 0.0476, 0.0524, 0.0571, 0.0619, 0.0667, 0.0714, 0.0762, 0.081, 0.0857, 0.0905, 0.0952, 0.1, 0.1143, 0.1286, 0.1429, 0.1571, 0.1714, 0.1857, 0.2, 0.2143, 0.2286, 0.2429, 0.2571, 0.2714, 0.2857, 0.3]}>>\n",
      "Fitting 9 folds for each of 29 candidates, totalling 261 fits\n"
     ]
    },
    {
     "name": "stderr",
     "output_type": "stream",
     "text": [
      "[Parallel(n_jobs=1)]: Done 261 out of 261 | elapsed:  1.6min finished\n"
     ]
    },
    {
     "name": "stdout",
     "output_type": "stream",
     "text": [
      "       Best parameters selected: <<{'C': 0.0952}>> for score <<0.7778966068451715>>.\n",
      "       6. Grid Search model <<<class 'sklearn.svm.classes.LinearSVC'>>>; weight: <<{0: 1.0, 1: 8.350500366121553}>>; parameters: <<{'C': [0.0317, 0.0363, 0.0408, 0.0453, 0.0499, 0.0544, 0.0589, 0.0635, 0.068, 0.0725, 0.0771, 0.0816, 0.0861, 0.0907, 0.0952, 0.1088, 0.1224, 0.136, 0.1496, 0.1632, 0.1768, 0.1904, 0.204, 0.2176, 0.2312, 0.2448, 0.2584, 0.272, 0.2856]}>>\n",
      "Fitting 9 folds for each of 29 candidates, totalling 261 fits\n"
     ]
    },
    {
     "name": "stderr",
     "output_type": "stream",
     "text": [
      "[Parallel(n_jobs=1)]: Done 261 out of 261 | elapsed:  1.4min finished\n"
     ]
    },
    {
     "name": "stdout",
     "output_type": "stream",
     "text": [
      "       Best parameters selected: <<{'C': 0.0952}>> for score <<0.7778966068451715>>.\n",
      "       Final parameters selected: <<{'C': 0.0517}>> for score <<0.7948146646321971>>.\n",
      "\n",
      "          *** Score on validation dataset (macro/weighted) <<0.7735026677688435>> / <<0.8098471986417657>>.\n",
      "[[1583  318]\n",
      " [ 130  325]]\n",
      "\n",
      "-------------------------------------------------------------------\n",
      "    37. ReFit model for class: <<related>> ((20025, 12008)).\n",
      "    Tuning hyper-parameters for class: <<related>> (Recall).\n",
      "       1. Grid Search model <<<class 'sklearn.svm.classes.LinearSVC'>>>; weight: <<balanced>>; parameters: <<{'C': [0.001, 0.01, 0.1, 1.0, 10.0]}>>\n",
      "Fitting 9 folds for each of 5 candidates, totalling 45 fits\n"
     ]
    },
    {
     "name": "stderr",
     "output_type": "stream",
     "text": [
      "[Parallel(n_jobs=1)]: Done  45 out of  45 | elapsed:   30.9s finished\n"
     ]
    },
    {
     "name": "stdout",
     "output_type": "stream",
     "text": [
      "       Best parameters selected: <<{'C': 0.1}>> for score <<0.6864633470788439>>.\n",
      "       2. Grid Search model <<<class 'sklearn.svm.classes.LinearSVC'>>>; weight: <<balanced>>; parameters: <<{'C': [0.0333, 0.0381, 0.0429, 0.0476, 0.0524, 0.0571, 0.0619, 0.0667, 0.0714, 0.0762, 0.081, 0.0857, 0.0905, 0.0952, 0.1, 0.1143, 0.1286, 0.1429, 0.1571, 0.1714, 0.1857, 0.2, 0.2143, 0.2286, 0.2429, 0.2571, 0.2714, 0.2857, 0.3]}>>\n",
      "Fitting 9 folds for each of 29 candidates, totalling 261 fits\n"
     ]
    },
    {
     "name": "stderr",
     "output_type": "stream",
     "text": [
      "[Parallel(n_jobs=1)]: Done 261 out of 261 | elapsed:  1.6min finished\n"
     ]
    },
    {
     "name": "stdout",
     "output_type": "stream",
     "text": [
      "       Best parameters selected: <<{'C': 0.1286}>> for score <<0.6879205769437052>>.\n",
      "       3. Grid Search model <<<class 'sklearn.svm.classes.LinearSVC'>>>; weight: <<balanced>>; parameters: <<{'C': [0.0429, 0.049, 0.0551, 0.0612, 0.0674, 0.0735, 0.0796, 0.0857, 0.0919, 0.098, 0.1041, 0.1102, 0.1164, 0.1225, 0.1286, 0.147, 0.1653, 0.1837, 0.2021, 0.2205, 0.2388, 0.2572, 0.2756, 0.2939, 0.3123, 0.3307, 0.3491, 0.3674, 0.3858]}>>\n",
      "Fitting 9 folds for each of 29 candidates, totalling 261 fits\n"
     ]
    },
    {
     "name": "stderr",
     "output_type": "stream",
     "text": [
      "[Parallel(n_jobs=1)]: Done 261 out of 261 | elapsed:  1.7min finished\n"
     ]
    },
    {
     "name": "stdout",
     "output_type": "stream",
     "text": [
      "       Best parameters selected: <<{'C': 0.3674}>> for score <<0.6889313611063258>>.\n",
      "       4. Grid Search model <<<class 'sklearn.svm.classes.LinearSVC'>>>; weight: <<balanced>>; parameters: <<{'C': [0.1225, 0.14, 0.1575, 0.175, 0.1924, 0.2099, 0.2274, 0.2449, 0.2624, 0.2799, 0.2974, 0.3149, 0.3324, 0.3499, 0.3674, 0.4199, 0.4724, 0.5249, 0.5773, 0.6298, 0.6823, 0.7348, 0.7873, 0.8398, 0.8923, 0.9447, 0.9972, 1.0497, 1.1022]}>>\n",
      "Fitting 9 folds for each of 29 candidates, totalling 261 fits\n"
     ]
    },
    {
     "name": "stderr",
     "output_type": "stream",
     "text": [
      "[Parallel(n_jobs=1)]: Done 261 out of 261 | elapsed:  2.8min finished\n"
     ]
    },
    {
     "name": "stdout",
     "output_type": "stream",
     "text": [
      "       Best parameters selected: <<{'C': 0.5773}>> for score <<0.6913304086911186>>.\n",
      "       5. Grid Search model <<<class 'sklearn.svm.classes.LinearSVC'>>>; weight: <<balanced>>; parameters: <<{'C': [0.1924, 0.2199, 0.2474, 0.2749, 0.3024, 0.3299, 0.3574, 0.3849, 0.4124, 0.4398, 0.4673, 0.4948, 0.5223, 0.5498, 0.5773, 0.6598, 0.7422, 0.8247, 0.9072, 0.9897, 1.0721, 1.1546, 1.2371, 1.3195, 1.402, 1.4845, 1.567, 1.6494, 1.7319]}>>\n",
      "Fitting 9 folds for each of 29 candidates, totalling 261 fits\n"
     ]
    },
    {
     "name": "stderr",
     "output_type": "stream",
     "text": [
      "[Parallel(n_jobs=1)]: Done 261 out of 261 | elapsed:  2.8min finished\n"
     ]
    },
    {
     "name": "stdout",
     "output_type": "stream",
     "text": [
      "       Best parameters selected: <<{'C': 0.5773}>> for score <<0.6913304086911186>>.\n",
      "       5. Grid Search model <<<class 'sklearn.svm.classes.LinearSVC'>>>; weight: <<{1: 1.0, 0: 6.565273588970271, 2: 105.08965517241379}>>; parameters: <<{'C': [0.001, 0.01, 0.1, 1.0, 10.0]}>>\n",
      "Fitting 9 folds for each of 5 candidates, totalling 45 fits\n"
     ]
    },
    {
     "name": "stderr",
     "output_type": "stream",
     "text": [
      "[Parallel(n_jobs=1)]: Done  45 out of  45 | elapsed:   39.0s finished\n"
     ]
    },
    {
     "name": "stdout",
     "output_type": "stream",
     "text": [
      "       Best parameters selected: <<{'C': 1.0}>> for score <<0.669676343389119>>.\n",
      "       6. Grid Search model <<<class 'sklearn.svm.classes.LinearSVC'>>>; weight: <<{1: 1.0, 0: 6.565273588970271, 2: 105.08965517241379}>>; parameters: <<{'C': [0.3333, 0.381, 0.4286, 0.4762, 0.5238, 0.5714, 0.619, 0.6667, 0.7143, 0.7619, 0.8095, 0.8571, 0.9048, 0.9524, 1.0, 1.1429, 1.2857, 1.4286, 1.5714, 1.7143, 1.8571, 2.0, 2.1429, 2.2857, 2.4286, 2.5714, 2.7143, 2.8571, 3.0]}>>\n",
      "Fitting 9 folds for each of 29 candidates, totalling 261 fits\n"
     ]
    },
    {
     "name": "stderr",
     "output_type": "stream",
     "text": [
      "[Parallel(n_jobs=1)]: Done 261 out of 261 | elapsed:  5.9min finished\n"
     ]
    },
    {
     "name": "stdout",
     "output_type": "stream",
     "text": [
      "       Best parameters selected: <<{'C': 0.3333}>> for score <<0.6785625850973804>>.\n",
      "       7. Grid Search model <<<class 'sklearn.svm.classes.LinearSVC'>>>; weight: <<{1: 1.0, 0: 6.565273588970271, 2: 105.08965517241379}>>; parameters: <<{'C': [0.1111, 0.127, 0.1428, 0.1587, 0.1746, 0.1905, 0.2063, 0.2222, 0.2381, 0.2539, 0.2698, 0.2857, 0.3016, 0.3174, 0.3333, 0.3809, 0.4285, 0.4761, 0.5238, 0.5714, 0.619, 0.6666, 0.7142, 0.7618, 0.8094, 0.8571, 0.9047, 0.9523, 0.9999]}>>\n",
      "Fitting 9 folds for each of 29 candidates, totalling 261 fits\n"
     ]
    },
    {
     "name": "stderr",
     "output_type": "stream",
     "text": [
      "[Parallel(n_jobs=1)]: Done 261 out of 261 | elapsed:  4.5min finished\n"
     ]
    },
    {
     "name": "stdout",
     "output_type": "stream",
     "text": [
      "       Best parameters selected: <<{'C': 0.3174}>> for score <<0.6788900424397745>>.\n",
      "       8. Grid Search model <<<class 'sklearn.svm.classes.LinearSVC'>>>; weight: <<{1: 1.0, 0: 6.565273588970271, 2: 105.08965517241379}>>; parameters: <<{'C': [0.1058, 0.1209, 0.136, 0.1511, 0.1663, 0.1814, 0.1965, 0.2116, 0.2267, 0.2418, 0.2569, 0.2721, 0.2872, 0.3023, 0.3174, 0.3627, 0.4081, 0.4534, 0.4988, 0.5441, 0.5895, 0.6348, 0.6801, 0.7255, 0.7708, 0.8162, 0.8615, 0.9069, 0.9522]}>>\n",
      "Fitting 9 folds for each of 29 candidates, totalling 261 fits\n"
     ]
    },
    {
     "name": "stderr",
     "output_type": "stream",
     "text": [
      "[Parallel(n_jobs=1)]: Done 261 out of 261 | elapsed:  4.7min finished\n"
     ]
    },
    {
     "name": "stdout",
     "output_type": "stream",
     "text": [
      "       Best parameters selected: <<{'C': 0.3174}>> for score <<0.6788900424397745>>.\n",
      "       Final parameters selected: <<{'C': 0.5773}>> for score <<0.6913304086911186>>.\n",
      "\n",
      "          *** Prev Score on validation dataset (macro/weighted) <<0.6344079993165584>> / <<0.8089983022071308>>.\n",
      "\n",
      "          *** Score on validation dataset (macro/weighted) <<0.6804921875527755>> / <<0.8138087153367289>>.\n",
      "[[ 567  249   11]\n",
      " [ 362 2298   25]\n",
      " [   6    5   11]]\n",
      "\n",
      "          *** Model has been refitted from <<0.6827438538399414>> to <<0.6913304086911186>>.\n",
      "\n",
      "-------------------------------------------------------------------\n",
      "    38. ReFit model for class: <<offer>> ((20025, 12008)).\n",
      "    Tuning hyper-parameters for class: <<offer>> (Recall).\n",
      "       1. Grid Search model <<<class 'sklearn.svm.classes.LinearSVC'>>>; weight: <<balanced>>; parameters: <<{'C': [0.001, 0.01, 0.1, 1.0, 10.0]}>>\n",
      "Fitting 9 folds for each of 5 candidates, totalling 45 fits\n"
     ]
    },
    {
     "name": "stderr",
     "output_type": "stream",
     "text": [
      "[Parallel(n_jobs=1)]: Done  45 out of  45 | elapsed:    7.5s finished\n"
     ]
    },
    {
     "name": "stdout",
     "output_type": "stream",
     "text": [
      "       Best parameters selected: <<{'C': 0.01}>> for score <<0.6709871430480376>>.\n",
      "       2. Grid Search model <<<class 'sklearn.svm.classes.LinearSVC'>>>; weight: <<balanced>>; parameters: <<{'C': [0.0033, 0.0038, 0.0043, 0.0048, 0.0052, 0.0057, 0.0062, 0.0067, 0.0071, 0.0076, 0.0081, 0.0086, 0.009, 0.0095, 0.01, 0.0114, 0.0129, 0.0143, 0.0157, 0.0171, 0.0186, 0.02, 0.0214, 0.0229, 0.0243, 0.0257, 0.0271, 0.0286, 0.03]}>>\n",
      "Fitting 9 folds for each of 29 candidates, totalling 261 fits\n"
     ]
    },
    {
     "name": "stderr",
     "output_type": "stream",
     "text": [
      "[Parallel(n_jobs=1)]: Done 261 out of 261 | elapsed:   51.7s finished\n"
     ]
    },
    {
     "name": "stdout",
     "output_type": "stream",
     "text": [
      "       Best parameters selected: <<{'C': 0.0038}>> for score <<0.6789635623213327>>.\n",
      "       3. Grid Search model <<<class 'sklearn.svm.classes.LinearSVC'>>>; weight: <<balanced>>; parameters: <<{'C': [0.0013, 0.0014, 0.0016, 0.0018, 0.002, 0.0022, 0.0024, 0.0025, 0.0027, 0.0029, 0.0031, 0.0033, 0.0034, 0.0036, 0.0038, 0.0043, 0.0049, 0.0054, 0.006, 0.0065, 0.0071, 0.0076, 0.0081, 0.0087, 0.0092, 0.0098, 0.0103, 0.0109, 0.0114]}>>\n",
      "Fitting 9 folds for each of 29 candidates, totalling 261 fits\n"
     ]
    },
    {
     "name": "stderr",
     "output_type": "stream",
     "text": [
      "[Parallel(n_jobs=1)]: Done 261 out of 261 | elapsed:   35.5s finished\n"
     ]
    },
    {
     "name": "stdout",
     "output_type": "stream",
     "text": [
      "       Best parameters selected: <<{'C': 0.0038}>> for score <<0.6789635623213327>>.\n",
      "       3. Grid Search model <<<class 'sklearn.svm.classes.LinearSVC'>>>; weight: <<{0: 1.0, 1: 249.31250000000003}>>; parameters: <<{'C': [0.001, 0.01, 0.1, 1.0, 10.0]}>>\n",
      "Fitting 9 folds for each of 5 candidates, totalling 45 fits\n"
     ]
    },
    {
     "name": "stderr",
     "output_type": "stream",
     "text": [
      "[Parallel(n_jobs=1)]: Done  45 out of  45 | elapsed:    7.7s finished\n"
     ]
    },
    {
     "name": "stdout",
     "output_type": "stream",
     "text": [
      "       Best parameters selected: <<{'C': 0.001}>> for score <<0.6689108101085917>>.\n",
      "       4. Grid Search model <<<class 'sklearn.svm.classes.LinearSVC'>>>; weight: <<{0: 1.0, 1: 249.31250000000003}>>; parameters: <<{'C': [0.0003, 0.0004, 0.0004, 0.0005, 0.0005, 0.0006, 0.0006, 0.0007, 0.0007, 0.0008, 0.0008, 0.0009, 0.0009, 0.001, 0.001, 0.0011, 0.0013, 0.0014, 0.0016, 0.0017, 0.0019, 0.002, 0.0021, 0.0023, 0.0024, 0.0026, 0.0027, 0.0029, 0.003]}>>\n",
      "Fitting 9 folds for each of 29 candidates, totalling 261 fits\n"
     ]
    },
    {
     "name": "stderr",
     "output_type": "stream",
     "text": [
      "[Parallel(n_jobs=1)]: Done 261 out of 261 | elapsed:   27.9s finished\n"
     ]
    },
    {
     "name": "stdout",
     "output_type": "stream",
     "text": [
      "       Best parameters selected: <<{'C': 0.002}>> for score <<0.6799412434663121>>.\n",
      "       5. Grid Search model <<<class 'sklearn.svm.classes.LinearSVC'>>>; weight: <<{0: 1.0, 1: 249.31250000000003}>>; parameters: <<{'C': [0.0007, 0.0008, 0.0009, 0.001, 0.001, 0.0011, 0.0012, 0.0013, 0.0014, 0.0015, 0.0016, 0.0017, 0.0018, 0.0019, 0.002, 0.0023, 0.0026, 0.0029, 0.0031, 0.0034, 0.0037, 0.004, 0.0043, 0.0046, 0.0049, 0.0051, 0.0054, 0.0057, 0.006]}>>\n",
      "Fitting 9 folds for each of 29 candidates, totalling 261 fits\n"
     ]
    },
    {
     "name": "stderr",
     "output_type": "stream",
     "text": [
      "[Parallel(n_jobs=1)]: Done 261 out of 261 | elapsed:   36.3s finished\n"
     ]
    },
    {
     "name": "stdout",
     "output_type": "stream",
     "text": [
      "       Best parameters selected: <<{'C': 0.002}>> for score <<0.6799412434663121>>.\n",
      "       Final parameters selected: <<{'C': 0.0038}>> for score <<0.6789635623213327>>.\n",
      "\n",
      "          *** Prev Score on validation dataset (macro/weighted) <<0.6081782067697561>> / <<0.9053480475382003>>.\n",
      "\n",
      "          *** Score on validation dataset (macro/weighted) <<0.6298947068867388>> / <<0.9066213921901528>>.\n",
      "[[3197  317]\n",
      " [  13    7]]\n",
      "\n",
      "          *** Model has been refitted from <<0.6764977662044952>> to <<0.6789635623213327>>.\n",
      "\n",
      "-------------------------------------------------------------------\n",
      "    39. ReFit model for class: <<aid_related>> ((20025, 12008)).\n",
      "    Tuning hyper-parameters for class: <<aid_related>> (Recall).\n",
      "       1. Grid Search model <<<class 'sklearn.svm.classes.LinearSVC'>>>; weight: <<balanced>>; parameters: <<{'C': [0.001, 0.01, 0.1, 1.0, 10.0]}>>\n",
      "Fitting 9 folds for each of 5 candidates, totalling 45 fits\n"
     ]
    },
    {
     "name": "stderr",
     "output_type": "stream",
     "text": [
      "[Parallel(n_jobs=1)]: Done  45 out of  45 | elapsed:   19.2s finished\n"
     ]
    },
    {
     "name": "stdout",
     "output_type": "stream",
     "text": [
      "       Best parameters selected: <<{'C': 0.1}>> for score <<0.8126942501110502>>.\n",
      "       2. Grid Search model <<<class 'sklearn.svm.classes.LinearSVC'>>>; weight: <<balanced>>; parameters: <<{'C': [0.0333, 0.0381, 0.0429, 0.0476, 0.0524, 0.0571, 0.0619, 0.0667, 0.0714, 0.0762, 0.081, 0.0857, 0.0905, 0.0952, 0.1, 0.1143, 0.1286, 0.1429, 0.1571, 0.1714, 0.1857, 0.2, 0.2143, 0.2286, 0.2429, 0.2571, 0.2714, 0.2857, 0.3]}>>\n",
      "Fitting 9 folds for each of 29 candidates, totalling 261 fits\n"
     ]
    },
    {
     "name": "stderr",
     "output_type": "stream",
     "text": [
      "[Parallel(n_jobs=1)]: Done 261 out of 261 | elapsed:   29.0s finished\n"
     ]
    },
    {
     "name": "stdout",
     "output_type": "stream",
     "text": [
      "       Best parameters selected: <<{'C': 0.1714}>> for score <<0.8132831156580088>>.\n",
      "       3. Grid Search model <<<class 'sklearn.svm.classes.LinearSVC'>>>; weight: <<balanced>>; parameters: <<{'C': [0.0571, 0.0653, 0.0735, 0.0816, 0.0898, 0.0979, 0.1061, 0.1143, 0.1224, 0.1306, 0.1388, 0.1469, 0.1551, 0.1632, 0.1714, 0.1959, 0.2204, 0.2449, 0.2693, 0.2938, 0.3183, 0.3428, 0.3673, 0.3918, 0.4163, 0.4407, 0.4652, 0.4897, 0.5142]}>>\n",
      "Fitting 9 folds for each of 29 candidates, totalling 261 fits\n"
     ]
    },
    {
     "name": "stderr",
     "output_type": "stream",
     "text": [
      "[Parallel(n_jobs=1)]: Done 261 out of 261 | elapsed:   44.7s finished\n"
     ]
    },
    {
     "name": "stdout",
     "output_type": "stream",
     "text": [
      "       Best parameters selected: <<{'C': 0.1388}>> for score <<0.8134145069065764>>.\n",
      "       4. Grid Search model <<<class 'sklearn.svm.classes.LinearSVC'>>>; weight: <<balanced>>; parameters: <<{'C': [0.0463, 0.0529, 0.0595, 0.0661, 0.0727, 0.0793, 0.0859, 0.0925, 0.0991, 0.1058, 0.1124, 0.119, 0.1256, 0.1322, 0.1388, 0.1586, 0.1785, 0.1983, 0.2181, 0.2379, 0.2578, 0.2776, 0.2974, 0.3173, 0.3371, 0.3569, 0.3767, 0.3966, 0.4164]}>>\n",
      "Fitting 9 folds for each of 29 candidates, totalling 261 fits\n"
     ]
    },
    {
     "name": "stderr",
     "output_type": "stream",
     "text": [
      "[Parallel(n_jobs=1)]: Done 261 out of 261 | elapsed:   37.5s finished\n"
     ]
    },
    {
     "name": "stdout",
     "output_type": "stream",
     "text": [
      "       Best parameters selected: <<{'C': 0.1388}>> for score <<0.8134145069065764>>.\n",
      "       4. Grid Search model <<<class 'sklearn.svm.classes.LinearSVC'>>>; weight: <<{0: 1.0, 1: 2.843976777939042}>>; parameters: <<{'C': [0.001, 0.01, 0.1, 1.0, 10.0]}>>\n",
      "Fitting 9 folds for each of 5 candidates, totalling 45 fits\n"
     ]
    },
    {
     "name": "stderr",
     "output_type": "stream",
     "text": [
      "[Parallel(n_jobs=1)]: Done  45 out of  45 | elapsed:   31.7s finished\n"
     ]
    },
    {
     "name": "stdout",
     "output_type": "stream",
     "text": [
      "       Best parameters selected: <<{'C': 0.1}>> for score <<0.8035793359064373>>.\n",
      "       5. Grid Search model <<<class 'sklearn.svm.classes.LinearSVC'>>>; weight: <<{0: 1.0, 1: 2.843976777939042}>>; parameters: <<{'C': [0.0333, 0.0381, 0.0429, 0.0476, 0.0524, 0.0571, 0.0619, 0.0667, 0.0714, 0.0762, 0.081, 0.0857, 0.0905, 0.0952, 0.1, 0.1143, 0.1286, 0.1429, 0.1571, 0.1714, 0.1857, 0.2, 0.2143, 0.2286, 0.2429, 0.2571, 0.2714, 0.2857, 0.3]}>>\n",
      "Fitting 9 folds for each of 29 candidates, totalling 261 fits\n"
     ]
    },
    {
     "name": "stderr",
     "output_type": "stream",
     "text": [
      "[Parallel(n_jobs=1)]: Done 261 out of 261 | elapsed:   46.9s finished\n"
     ]
    },
    {
     "name": "stdout",
     "output_type": "stream",
     "text": [
      "       Best parameters selected: <<{'C': 0.1286}>> for score <<0.8041619874411732>>.\n",
      "       6. Grid Search model <<<class 'sklearn.svm.classes.LinearSVC'>>>; weight: <<{0: 1.0, 1: 2.843976777939042}>>; parameters: <<{'C': [0.0429, 0.049, 0.0551, 0.0612, 0.0674, 0.0735, 0.0796, 0.0857, 0.0919, 0.098, 0.1041, 0.1102, 0.1164, 0.1225, 0.1286, 0.147, 0.1653, 0.1837, 0.2021, 0.2205, 0.2388, 0.2572, 0.2756, 0.2939, 0.3123, 0.3307, 0.3491, 0.3674, 0.3858]}>>\n",
      "Fitting 9 folds for each of 29 candidates, totalling 261 fits\n"
     ]
    },
    {
     "name": "stderr",
     "output_type": "stream",
     "text": [
      "[Parallel(n_jobs=1)]: Done 261 out of 261 | elapsed:   54.7s finished\n"
     ]
    },
    {
     "name": "stdout",
     "output_type": "stream",
     "text": [
      "       Best parameters selected: <<{'C': 0.1286}>> for score <<0.8041619874411732>>.\n",
      "       Final parameters selected: <<{'C': 0.1388}>> for score <<0.8134145069065764>>.\n",
      "\n",
      "          *** Prev Score on validation dataset (macro/weighted) <<0.7735499391582863>> / <<0.7780135823429541>>.\n",
      "\n",
      "          *** Score on validation dataset (macro/weighted) <<0.8146393113970044>> / <<0.8248443689869835>>.\n",
      "[[1797  244]\n",
      " [ 375 1118]]\n",
      "\n",
      "          *** Model has been refitted from <<0.7734473813225269>> to <<0.8134145069065764>>.\n",
      "\n",
      "-------------------------------------------------------------------\n",
      "    40. ReFit model for class: <<medical_help>> ((20025, 12008)).\n",
      "    Tuning hyper-parameters for class: <<medical_help>> (Recall).\n",
      "       1. Grid Search model <<<class 'sklearn.svm.classes.LinearSVC'>>>; weight: <<balanced>>; parameters: <<{'C': [0.001, 0.01, 0.1, 1.0, 10.0]}>>\n",
      "Fitting 9 folds for each of 5 candidates, totalling 45 fits\n"
     ]
    },
    {
     "name": "stderr",
     "output_type": "stream",
     "text": [
      "[Parallel(n_jobs=1)]: Done  45 out of  45 | elapsed:   23.2s finished\n"
     ]
    },
    {
     "name": "stdout",
     "output_type": "stream",
     "text": [
      "       Best parameters selected: <<{'C': 0.1}>> for score <<0.7791974548848509>>.\n",
      "       2. Grid Search model <<<class 'sklearn.svm.classes.LinearSVC'>>>; weight: <<balanced>>; parameters: <<{'C': [0.0333, 0.0381, 0.0429, 0.0476, 0.0524, 0.0571, 0.0619, 0.0667, 0.0714, 0.0762, 0.081, 0.0857, 0.0905, 0.0952, 0.1, 0.1143, 0.1286, 0.1429, 0.1571, 0.1714, 0.1857, 0.2, 0.2143, 0.2286, 0.2429, 0.2571, 0.2714, 0.2857, 0.3]}>>\n",
      "Fitting 9 folds for each of 29 candidates, totalling 261 fits\n"
     ]
    },
    {
     "name": "stderr",
     "output_type": "stream",
     "text": [
      "[Parallel(n_jobs=1)]: Done 261 out of 261 | elapsed:  1.4min finished\n"
     ]
    },
    {
     "name": "stdout",
     "output_type": "stream",
     "text": [
      "       Best parameters selected: <<{'C': 0.0333}>> for score <<0.7868336020847996>>.\n",
      "       3. Grid Search model <<<class 'sklearn.svm.classes.LinearSVC'>>>; weight: <<balanced>>; parameters: <<{'C': [0.0111, 0.0127, 0.0143, 0.0159, 0.0174, 0.019, 0.0206, 0.0222, 0.0238, 0.0254, 0.027, 0.0285, 0.0301, 0.0317, 0.0333, 0.0381, 0.0428, 0.0476, 0.0523, 0.0571, 0.0618, 0.0666, 0.0714, 0.0761, 0.0809, 0.0856, 0.0904, 0.0951, 0.0999]}>>\n",
      "Fitting 9 folds for each of 29 candidates, totalling 261 fits\n"
     ]
    },
    {
     "name": "stderr",
     "output_type": "stream",
     "text": [
      "[Parallel(n_jobs=1)]: Done 261 out of 261 | elapsed:   49.4s finished\n"
     ]
    },
    {
     "name": "stdout",
     "output_type": "stream",
     "text": [
      "       Best parameters selected: <<{'C': 0.0333}>> for score <<0.7868336020847996>>.\n",
      "       3. Grid Search model <<<class 'sklearn.svm.classes.LinearSVC'>>>; weight: <<{0: 1.0, 1: 23.558391831525206}>>; parameters: <<{'C': [0.001, 0.01, 0.1, 1.0, 10.0]}>>\n",
      "Fitting 9 folds for each of 5 candidates, totalling 45 fits\n"
     ]
    },
    {
     "name": "stderr",
     "output_type": "stream",
     "text": [
      "[Parallel(n_jobs=1)]: Done  45 out of  45 | elapsed:   29.6s finished\n"
     ]
    },
    {
     "name": "stdout",
     "output_type": "stream",
     "text": [
      "       Best parameters selected: <<{'C': 0.1}>> for score <<0.7726376580872157>>.\n",
      "       4. Grid Search model <<<class 'sklearn.svm.classes.LinearSVC'>>>; weight: <<{0: 1.0, 1: 23.558391831525206}>>; parameters: <<{'C': [0.0333, 0.0381, 0.0429, 0.0476, 0.0524, 0.0571, 0.0619, 0.0667, 0.0714, 0.0762, 0.081, 0.0857, 0.0905, 0.0952, 0.1, 0.1143, 0.1286, 0.1429, 0.1571, 0.1714, 0.1857, 0.2, 0.2143, 0.2286, 0.2429, 0.2571, 0.2714, 0.2857, 0.3]}>>\n",
      "Fitting 9 folds for each of 29 candidates, totalling 261 fits\n"
     ]
    },
    {
     "name": "stderr",
     "output_type": "stream",
     "text": [
      "[Parallel(n_jobs=1)]: Done 261 out of 261 | elapsed:  3.4min finished\n"
     ]
    },
    {
     "name": "stdout",
     "output_type": "stream",
     "text": [
      "       Best parameters selected: <<{'C': 0.0429}>> for score <<0.7819829447221376>>.\n",
      "       5. Grid Search model <<<class 'sklearn.svm.classes.LinearSVC'>>>; weight: <<{0: 1.0, 1: 23.558391831525206}>>; parameters: <<{'C': [0.0143, 0.0163, 0.0184, 0.0204, 0.0225, 0.0245, 0.0266, 0.0286, 0.0306, 0.0327, 0.0347, 0.0368, 0.0388, 0.0409, 0.0429, 0.049, 0.0552, 0.0613, 0.0674, 0.0735, 0.0797, 0.0858, 0.0919, 0.0981, 0.1042, 0.1103, 0.1164, 0.1226, 0.1287]}>>\n",
      "Fitting 9 folds for each of 29 candidates, totalling 261 fits\n"
     ]
    },
    {
     "name": "stderr",
     "output_type": "stream",
     "text": [
      "[Parallel(n_jobs=1)]: Done 261 out of 261 | elapsed:  2.1min finished\n"
     ]
    },
    {
     "name": "stdout",
     "output_type": "stream",
     "text": [
      "       Best parameters selected: <<{'C': 0.049}>> for score <<0.782191852095232>>.\n",
      "       6. Grid Search model <<<class 'sklearn.svm.classes.LinearSVC'>>>; weight: <<{0: 1.0, 1: 23.558391831525206}>>; parameters: <<{'C': [0.0163, 0.0187, 0.021, 0.0233, 0.0257, 0.028, 0.0303, 0.0327, 0.035, 0.0373, 0.0397, 0.042, 0.0443, 0.0467, 0.049, 0.056, 0.063, 0.07, 0.077, 0.084, 0.091, 0.098, 0.105, 0.112, 0.119, 0.126, 0.133, 0.14, 0.147]}>>\n",
      "Fitting 9 folds for each of 29 candidates, totalling 261 fits\n"
     ]
    },
    {
     "name": "stderr",
     "output_type": "stream",
     "text": [
      "[Parallel(n_jobs=1)]: Done 261 out of 261 | elapsed:  2.3min finished\n"
     ]
    },
    {
     "name": "stdout",
     "output_type": "stream",
     "text": [
      "       Best parameters selected: <<{'C': 0.0467}>> for score <<0.7825208844437824>>.\n",
      "       7. Grid Search model <<<class 'sklearn.svm.classes.LinearSVC'>>>; weight: <<{0: 1.0, 1: 23.558391831525206}>>; parameters: <<{'C': [0.0156, 0.0178, 0.02, 0.0222, 0.0245, 0.0267, 0.0289, 0.0311, 0.0334, 0.0356, 0.0378, 0.04, 0.0423, 0.0445, 0.0467, 0.0534, 0.06, 0.0667, 0.0734, 0.0801, 0.0867, 0.0934, 0.1001, 0.1067, 0.1134, 0.1201, 0.1268, 0.1334, 0.1401]}>>\n",
      "Fitting 9 folds for each of 29 candidates, totalling 261 fits\n"
     ]
    },
    {
     "name": "stderr",
     "output_type": "stream",
     "text": [
      "[Parallel(n_jobs=1)]: Done 261 out of 261 | elapsed:  2.1min finished\n"
     ]
    },
    {
     "name": "stdout",
     "output_type": "stream",
     "text": [
      "       Best parameters selected: <<{'C': 0.0467}>> for score <<0.7825208844437824>>.\n",
      "       Final parameters selected: <<{'C': 0.0333}>> for score <<0.7868336020847996>>.\n",
      "\n",
      "          *** Prev Score on validation dataset (macro/weighted) <<0.7797452721325233>> / <<0.8756366723259762>>.\n",
      "\n",
      "          *** Score on validation dataset (macro/weighted) <<0.7724758480597385>> / <<0.8752122241086587>>.\n",
      "[[2904  339]\n",
      " [ 102  189]]\n",
      "\n",
      "-------------------------------------------------------------------\n",
      "    41. ReFit model for class: <<medical_products>> ((20025, 12008)).\n",
      "    Tuning hyper-parameters for class: <<medical_products>> (Recall).\n",
      "       1. Grid Search model <<<class 'sklearn.svm.classes.LinearSVC'>>>; weight: <<balanced>>; parameters: <<{'C': [0.001, 0.01, 0.1, 1.0, 10.0]}>>\n",
      "Fitting 9 folds for each of 5 candidates, totalling 45 fits\n"
     ]
    },
    {
     "name": "stderr",
     "output_type": "stream",
     "text": [
      "[Parallel(n_jobs=1)]: Done  45 out of  45 | elapsed:   18.9s finished\n"
     ]
    },
    {
     "name": "stdout",
     "output_type": "stream",
     "text": [
      "       Best parameters selected: <<{'C': 0.01}>> for score <<0.7980162278603441>>.\n",
      "       2. Grid Search model <<<class 'sklearn.svm.classes.LinearSVC'>>>; weight: <<balanced>>; parameters: <<{'C': [0.0033, 0.0038, 0.0043, 0.0048, 0.0052, 0.0057, 0.0062, 0.0067, 0.0071, 0.0076, 0.0081, 0.0086, 0.009, 0.0095, 0.01, 0.0114, 0.0129, 0.0143, 0.0157, 0.0171, 0.0186, 0.02, 0.0214, 0.0229, 0.0243, 0.0257, 0.0271, 0.0286, 0.03]}>>\n",
      "Fitting 9 folds for each of 29 candidates, totalling 261 fits\n"
     ]
    },
    {
     "name": "stderr",
     "output_type": "stream",
     "text": [
      "[Parallel(n_jobs=1)]: Done 261 out of 261 | elapsed:   29.0s finished\n"
     ]
    },
    {
     "name": "stdout",
     "output_type": "stream",
     "text": [
      "       Best parameters selected: <<{'C': 0.0286}>> for score <<0.8101843652306152>>.\n",
      "       3. Grid Search model <<<class 'sklearn.svm.classes.LinearSVC'>>>; weight: <<balanced>>; parameters: <<{'C': [0.0095, 0.0109, 0.0123, 0.0136, 0.015, 0.0163, 0.0177, 0.0191, 0.0204, 0.0218, 0.0232, 0.0245, 0.0259, 0.0272, 0.0286, 0.0327, 0.0368, 0.0409, 0.0449, 0.049, 0.0531, 0.0572, 0.0613, 0.0654, 0.0695, 0.0735, 0.0776, 0.0817, 0.0858]}>>\n",
      "Fitting 9 folds for each of 29 candidates, totalling 261 fits\n"
     ]
    },
    {
     "name": "stderr",
     "output_type": "stream",
     "text": [
      "[Parallel(n_jobs=1)]: Done 261 out of 261 | elapsed:   55.7s finished\n"
     ]
    },
    {
     "name": "stdout",
     "output_type": "stream",
     "text": [
      "       Best parameters selected: <<{'C': 0.0286}>> for score <<0.8101843652306152>>.\n",
      "       3. Grid Search model <<<class 'sklearn.svm.classes.LinearSVC'>>>; weight: <<{0: 1.0, 1: 38.41372351160444}>>; parameters: <<{'C': [0.001, 0.01, 0.1, 1.0, 10.0]}>>\n",
      "Fitting 9 folds for each of 5 candidates, totalling 45 fits\n"
     ]
    },
    {
     "name": "stderr",
     "output_type": "stream",
     "text": [
      "[Parallel(n_jobs=1)]: Done  45 out of  45 | elapsed:   24.2s finished\n"
     ]
    },
    {
     "name": "stdout",
     "output_type": "stream",
     "text": [
      "       Best parameters selected: <<{'C': 0.01}>> for score <<0.8178086626833785>>.\n",
      "       4. Grid Search model <<<class 'sklearn.svm.classes.LinearSVC'>>>; weight: <<{0: 1.0, 1: 38.41372351160444}>>; parameters: <<{'C': [0.0033, 0.0038, 0.0043, 0.0048, 0.0052, 0.0057, 0.0062, 0.0067, 0.0071, 0.0076, 0.0081, 0.0086, 0.009, 0.0095, 0.01, 0.0114, 0.0129, 0.0143, 0.0157, 0.0171, 0.0186, 0.02, 0.0214, 0.0229, 0.0243, 0.0257, 0.0271, 0.0286, 0.03]}>>\n",
      "Fitting 9 folds for each of 29 candidates, totalling 261 fits\n"
     ]
    },
    {
     "name": "stderr",
     "output_type": "stream",
     "text": [
      "[Parallel(n_jobs=1)]: Done 261 out of 261 | elapsed:  1.1min finished\n"
     ]
    },
    {
     "name": "stdout",
     "output_type": "stream",
     "text": [
      "       Best parameters selected: <<{'C': 0.0171}>> for score <<0.8200061271428654>>.\n",
      "       5. Grid Search model <<<class 'sklearn.svm.classes.LinearSVC'>>>; weight: <<{0: 1.0, 1: 38.41372351160444}>>; parameters: <<{'C': [0.0057, 0.0065, 0.0073, 0.0081, 0.009, 0.0098, 0.0106, 0.0114, 0.0122, 0.013, 0.0138, 0.0147, 0.0155, 0.0163, 0.0171, 0.0195, 0.022, 0.0244, 0.0269, 0.0293, 0.0318, 0.0342, 0.0366, 0.0391, 0.0415, 0.044, 0.0464, 0.0489, 0.0513]}>>\n",
      "Fitting 9 folds for each of 29 candidates, totalling 261 fits\n"
     ]
    },
    {
     "name": "stderr",
     "output_type": "stream",
     "text": [
      "[Parallel(n_jobs=1)]: Done 261 out of 261 | elapsed:  1.4min finished\n"
     ]
    },
    {
     "name": "stdout",
     "output_type": "stream",
     "text": [
      "       Best parameters selected: <<{'C': 0.0171}>> for score <<0.8200061271428654>>.\n",
      "       Final parameters selected: <<{'C': 0.0286}>> for score <<0.8101843652306152>>.\n",
      "\n",
      "          *** Prev Score on validation dataset (macro/weighted) <<0.7515681003584229>> / <<0.8972835314091681>>.\n",
      "\n",
      "          *** Score on validation dataset (macro/weighted) <<0.774167956148863>> / <<0.9018109790605546>>.\n",
      "[[3072  280]\n",
      " [  67  115]]\n",
      "\n",
      "          *** Model has been refitted from <<0.7923294905799533>> to <<0.8101843652306152>>.\n",
      "\n",
      "-------------------------------------------------------------------\n",
      "    42. ReFit model for class: <<search_and_rescue>> ((20025, 12008)).\n",
      "    Tuning hyper-parameters for class: <<search_and_rescue>> (Recall).\n",
      "       1. Grid Search model <<<class 'sklearn.svm.classes.LinearSVC'>>>; weight: <<balanced>>; parameters: <<{'C': [0.001, 0.01, 0.1, 1.0, 10.0]}>>\n",
      "Fitting 9 folds for each of 5 candidates, totalling 45 fits\n"
     ]
    },
    {
     "name": "stderr",
     "output_type": "stream",
     "text": [
      "[Parallel(n_jobs=1)]: Done  45 out of  45 | elapsed:   24.9s finished\n"
     ]
    },
    {
     "name": "stdout",
     "output_type": "stream",
     "text": [
      "       Best parameters selected: <<{'C': 0.01}>> for score <<0.7272624735277382>>.\n",
      "       2. Grid Search model <<<class 'sklearn.svm.classes.LinearSVC'>>>; weight: <<balanced>>; parameters: <<{'C': [0.0033, 0.0038, 0.0043, 0.0048, 0.0052, 0.0057, 0.0062, 0.0067, 0.0071, 0.0076, 0.0081, 0.0086, 0.009, 0.0095, 0.01, 0.0114, 0.0129, 0.0143, 0.0157, 0.0171, 0.0186, 0.02, 0.0214, 0.0229, 0.0243, 0.0257, 0.0271, 0.0286, 0.03]}>>\n",
      "Fitting 9 folds for each of 29 candidates, totalling 261 fits\n"
     ]
    },
    {
     "name": "stderr",
     "output_type": "stream",
     "text": [
      "[Parallel(n_jobs=1)]: Done 261 out of 261 | elapsed:   33.3s finished\n"
     ]
    },
    {
     "name": "stdout",
     "output_type": "stream",
     "text": [
      "       Best parameters selected: <<{'C': 0.0071}>> for score <<0.7310178311094951>>.\n",
      "       3. Grid Search model <<<class 'sklearn.svm.classes.LinearSVC'>>>; weight: <<balanced>>; parameters: <<{'C': [0.0024, 0.0027, 0.003, 0.0034, 0.0037, 0.0041, 0.0044, 0.0047, 0.0051, 0.0054, 0.0057, 0.0061, 0.0064, 0.0068, 0.0071, 0.0081, 0.0091, 0.0101, 0.0112, 0.0122, 0.0132, 0.0142, 0.0152, 0.0162, 0.0172, 0.0183, 0.0193, 0.0203, 0.0213]}>>\n",
      "Fitting 9 folds for each of 29 candidates, totalling 261 fits\n"
     ]
    },
    {
     "name": "stderr",
     "output_type": "stream",
     "text": [
      "[Parallel(n_jobs=1)]: Done 261 out of 261 | elapsed:   27.1s finished\n"
     ]
    },
    {
     "name": "stdout",
     "output_type": "stream",
     "text": [
      "       Best parameters selected: <<{'C': 0.0071}>> for score <<0.7310178311094951>>.\n",
      "       3. Grid Search model <<<class 'sklearn.svm.classes.LinearSVC'>>>; weight: <<{0: 1.0, 1: 70.95081967213115}>>; parameters: <<{'C': [0.001, 0.01, 0.1, 1.0, 10.0]}>>\n",
      "Fitting 9 folds for each of 5 candidates, totalling 45 fits\n"
     ]
    },
    {
     "name": "stderr",
     "output_type": "stream",
     "text": [
      "[Parallel(n_jobs=1)]: Done  45 out of  45 | elapsed:   24.0s finished\n"
     ]
    },
    {
     "name": "stdout",
     "output_type": "stream",
     "text": [
      "       Best parameters selected: <<{'C': 0.01}>> for score <<0.7329803137278669>>.\n",
      "       4. Grid Search model <<<class 'sklearn.svm.classes.LinearSVC'>>>; weight: <<{0: 1.0, 1: 70.95081967213115}>>; parameters: <<{'C': [0.0033, 0.0038, 0.0043, 0.0048, 0.0052, 0.0057, 0.0062, 0.0067, 0.0071, 0.0076, 0.0081, 0.0086, 0.009, 0.0095, 0.01, 0.0114, 0.0129, 0.0143, 0.0157, 0.0171, 0.0186, 0.02, 0.0214, 0.0229, 0.0243, 0.0257, 0.0271, 0.0286, 0.03]}>>\n",
      "Fitting 9 folds for each of 29 candidates, totalling 261 fits\n"
     ]
    },
    {
     "name": "stderr",
     "output_type": "stream",
     "text": [
      "[Parallel(n_jobs=1)]: Done 261 out of 261 | elapsed:  1.5min finished\n"
     ]
    },
    {
     "name": "stdout",
     "output_type": "stream",
     "text": [
      "       Best parameters selected: <<{'C': 0.0071}>> for score <<0.7368025884737499>>.\n",
      "       5. Grid Search model <<<class 'sklearn.svm.classes.LinearSVC'>>>; weight: <<{0: 1.0, 1: 70.95081967213115}>>; parameters: <<{'C': [0.0024, 0.0027, 0.003, 0.0034, 0.0037, 0.0041, 0.0044, 0.0047, 0.0051, 0.0054, 0.0057, 0.0061, 0.0064, 0.0068, 0.0071, 0.0081, 0.0091, 0.0101, 0.0112, 0.0122, 0.0132, 0.0142, 0.0152, 0.0162, 0.0172, 0.0183, 0.0193, 0.0203, 0.0213]}>>\n",
      "Fitting 9 folds for each of 29 candidates, totalling 261 fits\n"
     ]
    },
    {
     "name": "stderr",
     "output_type": "stream",
     "text": [
      "[Parallel(n_jobs=1)]: Done 261 out of 261 | elapsed:  1.2min finished\n"
     ]
    },
    {
     "name": "stdout",
     "output_type": "stream",
     "text": [
      "       Best parameters selected: <<{'C': 0.0071}>> for score <<0.7368025884737499>>.\n",
      "       Final parameters selected: <<{'C': 0.0071}>> for score <<0.7310178311094951>>.\n",
      "\n",
      "          *** Prev Score on validation dataset (macro/weighted) <<0.6968278262957295>> / <<0.8675721561969439>>.\n",
      "\n",
      "          *** Score on validation dataset (macro/weighted) <<0.7048823016564951>> / <<0.8633276740237691>>.\n",
      "[[3001  440]\n",
      " [  43   50]]\n",
      "\n",
      "          *** Model has been refitted from <<0.715071079899848>> to <<0.7310178311094951>>.\n",
      "\n",
      "-------------------------------------------------------------------\n",
      "    43. ReFit model for class: <<security>> ((20025, 12008)).\n",
      "    Tuning hyper-parameters for class: <<security>> (Recall).\n",
      "       1. Grid Search model <<<class 'sklearn.svm.classes.LinearSVC'>>>; weight: <<balanced>>; parameters: <<{'C': [0.001, 0.01, 0.1, 1.0, 10.0]}>>\n",
      "Fitting 9 folds for each of 5 candidates, totalling 45 fits\n"
     ]
    },
    {
     "name": "stderr",
     "output_type": "stream",
     "text": [
      "[Parallel(n_jobs=1)]: Done  45 out of  45 | elapsed:   18.0s finished\n"
     ]
    },
    {
     "name": "stdout",
     "output_type": "stream",
     "text": [
      "       Best parameters selected: <<{'C': 0.01}>> for score <<0.6455091533180778>>.\n",
      "       2. Grid Search model <<<class 'sklearn.svm.classes.LinearSVC'>>>; weight: <<balanced>>; parameters: <<{'C': [0.0033, 0.0038, 0.0043, 0.0048, 0.0052, 0.0057, 0.0062, 0.0067, 0.0071, 0.0076, 0.0081, 0.0086, 0.009, 0.0095, 0.01, 0.0114, 0.0129, 0.0143, 0.0157, 0.0171, 0.0186, 0.02, 0.0214, 0.0229, 0.0243, 0.0257, 0.0271, 0.0286, 0.03]}>>\n",
      "Fitting 9 folds for each of 29 candidates, totalling 261 fits\n"
     ]
    },
    {
     "name": "stderr",
     "output_type": "stream",
     "text": [
      "[Parallel(n_jobs=1)]: Done 261 out of 261 | elapsed:   52.7s finished\n"
     ]
    },
    {
     "name": "stdout",
     "output_type": "stream",
     "text": [
      "       Best parameters selected: <<{'C': 0.0048}>> for score <<0.654811848461734>>.\n",
      "       3. Grid Search model <<<class 'sklearn.svm.classes.LinearSVC'>>>; weight: <<balanced>>; parameters: <<{'C': [0.0016, 0.0018, 0.0021, 0.0023, 0.0025, 0.0027, 0.003, 0.0032, 0.0034, 0.0037, 0.0039, 0.0041, 0.0043, 0.0046, 0.0048, 0.0055, 0.0062, 0.0069, 0.0075, 0.0082, 0.0089, 0.0096, 0.0103, 0.011, 0.0117, 0.0123, 0.013, 0.0137, 0.0144]}>>\n",
      "Fitting 9 folds for each of 29 candidates, totalling 261 fits\n"
     ]
    },
    {
     "name": "stderr",
     "output_type": "stream",
     "text": [
      "[Parallel(n_jobs=1)]: Done 261 out of 261 | elapsed:   28.7s finished\n"
     ]
    },
    {
     "name": "stdout",
     "output_type": "stream",
     "text": [
      "       Best parameters selected: <<{'C': 0.0037}>> for score <<0.6553394355453851>>.\n",
      "       4. Grid Search model <<<class 'sklearn.svm.classes.LinearSVC'>>>; weight: <<balanced>>; parameters: <<{'C': [0.0012, 0.0014, 0.0016, 0.0018, 0.0019, 0.0021, 0.0023, 0.0025, 0.0026, 0.0028, 0.003, 0.0032, 0.0033, 0.0035, 0.0037, 0.0042, 0.0048, 0.0053, 0.0058, 0.0063, 0.0069, 0.0074, 0.0079, 0.0085, 0.009, 0.0095, 0.01, 0.0106, 0.0111]}>>\n",
      "Fitting 9 folds for each of 29 candidates, totalling 261 fits\n"
     ]
    },
    {
     "name": "stderr",
     "output_type": "stream",
     "text": [
      "[Parallel(n_jobs=1)]: Done 261 out of 261 | elapsed:   25.7s finished\n"
     ]
    },
    {
     "name": "stdout",
     "output_type": "stream",
     "text": [
      "       Best parameters selected: <<{'C': 0.0037}>> for score <<0.6553394355453851>>.\n",
      "       4. Grid Search model <<<class 'sklearn.svm.classes.LinearSVC'>>>; weight: <<{0: 1.0, 1: 54.625}>>; parameters: <<{'C': [0.001, 0.01, 0.1, 1.0, 10.0]}>>\n",
      "Fitting 9 folds for each of 5 candidates, totalling 45 fits\n"
     ]
    },
    {
     "name": "stderr",
     "output_type": "stream",
     "text": [
      "[Parallel(n_jobs=1)]: Done  45 out of  45 | elapsed:   18.6s finished\n"
     ]
    },
    {
     "name": "stdout",
     "output_type": "stream",
     "text": [
      "       Best parameters selected: <<{'C': 0.001}>> for score <<0.6417588354945335>>.\n",
      "       5. Grid Search model <<<class 'sklearn.svm.classes.LinearSVC'>>>; weight: <<{0: 1.0, 1: 54.625}>>; parameters: <<{'C': [0.0003, 0.0004, 0.0004, 0.0005, 0.0005, 0.0006, 0.0006, 0.0007, 0.0007, 0.0008, 0.0008, 0.0009, 0.0009, 0.001, 0.001, 0.0011, 0.0013, 0.0014, 0.0016, 0.0017, 0.0019, 0.002, 0.0021, 0.0023, 0.0024, 0.0026, 0.0027, 0.0029, 0.003]}>>\n",
      "Fitting 9 folds for each of 29 candidates, totalling 261 fits\n"
     ]
    },
    {
     "name": "stderr",
     "output_type": "stream",
     "text": [
      "[Parallel(n_jobs=1)]: Done 261 out of 261 | elapsed:   19.1s finished\n"
     ]
    },
    {
     "name": "stdout",
     "output_type": "stream",
     "text": [
      "       Best parameters selected: <<{'C': 0.0021}>> for score <<0.6546052631578947>>.\n",
      "       6. Grid Search model <<<class 'sklearn.svm.classes.LinearSVC'>>>; weight: <<{0: 1.0, 1: 54.625}>>; parameters: <<{'C': [0.0007, 0.0008, 0.0009, 0.001, 0.0011, 0.0012, 0.0013, 0.0014, 0.0015, 0.0016, 0.0017, 0.0018, 0.0019, 0.002, 0.0021, 0.0024, 0.0027, 0.003, 0.0033, 0.0036, 0.0039, 0.0042, 0.0045, 0.0048, 0.0051, 0.0054, 0.0057, 0.006, 0.0063]}>>\n",
      "Fitting 9 folds for each of 29 candidates, totalling 261 fits\n"
     ]
    },
    {
     "name": "stderr",
     "output_type": "stream",
     "text": [
      "[Parallel(n_jobs=1)]: Done 261 out of 261 | elapsed:   25.8s finished\n"
     ]
    },
    {
     "name": "stdout",
     "output_type": "stream",
     "text": [
      "       Best parameters selected: <<{'C': 0.0021}>> for score <<0.6546052631578947>>.\n",
      "       Final parameters selected: <<{'C': 0.0037}>> for score <<0.6553394355453851>>.\n",
      "\n",
      "          *** Prev Score on validation dataset (macro/weighted) <<0.6488327450616137>> / <<0.8599320882852292>>.\n",
      "\n",
      "          *** Score on validation dataset (macro/weighted) <<0.6745928563126106>> / <<0.8497453310696095>>.\n",
      "[[2970  497]\n",
      " [  34   33]]\n",
      "\n",
      "-------------------------------------------------------------------\n",
      "    44. ReFit model for class: <<missing_people>> ((20025, 12008)).\n",
      "    Tuning hyper-parameters for class: <<missing_people>> (Recall).\n",
      "       1. Grid Search model <<<class 'sklearn.svm.classes.LinearSVC'>>>; weight: <<balanced>>; parameters: <<{'C': [0.001, 0.01, 0.1, 1.0, 10.0]}>>\n",
      "Fitting 9 folds for each of 5 candidates, totalling 45 fits\n"
     ]
    },
    {
     "name": "stderr",
     "output_type": "stream",
     "text": [
      "[Parallel(n_jobs=1)]: Done  45 out of  45 | elapsed:   14.7s finished\n"
     ]
    },
    {
     "name": "stdout",
     "output_type": "stream",
     "text": [
      "       Best parameters selected: <<{'C': 0.001}>> for score <<0.6677330498287923>>.\n",
      "       2. Grid Search model <<<class 'sklearn.svm.classes.LinearSVC'>>>; weight: <<balanced>>; parameters: <<{'C': [0.0003, 0.0004, 0.0004, 0.0005, 0.0005, 0.0006, 0.0006, 0.0007, 0.0007, 0.0008, 0.0008, 0.0009, 0.0009, 0.001, 0.001, 0.0011, 0.0013, 0.0014, 0.0016, 0.0017, 0.0019, 0.002, 0.0021, 0.0023, 0.0024, 0.0026, 0.0027, 0.0029, 0.003]}>>\n",
      "Fitting 9 folds for each of 29 candidates, totalling 261 fits\n"
     ]
    },
    {
     "name": "stderr",
     "output_type": "stream",
     "text": [
      "[Parallel(n_jobs=1)]: Done 261 out of 261 | elapsed:   18.8s finished\n"
     ]
    },
    {
     "name": "stdout",
     "output_type": "stream",
     "text": [
      "       Best parameters selected: <<{'C': 0.0024}>> for score <<0.6752998352553813>>.\n",
      "       3. Grid Search model <<<class 'sklearn.svm.classes.LinearSVC'>>>; weight: <<balanced>>; parameters: <<{'C': [0.0008, 0.0009, 0.001, 0.0011, 0.0013, 0.0014, 0.0015, 0.0016, 0.0017, 0.0018, 0.0019, 0.0021, 0.0022, 0.0023, 0.0024, 0.0027, 0.0031, 0.0034, 0.0038, 0.0041, 0.0045, 0.0048, 0.0051, 0.0055, 0.0058, 0.0062, 0.0065, 0.0069, 0.0072]}>>\n",
      "Fitting 9 folds for each of 29 candidates, totalling 261 fits\n"
     ]
    },
    {
     "name": "stderr",
     "output_type": "stream",
     "text": [
      "[Parallel(n_jobs=1)]: Done 261 out of 261 | elapsed:   26.0s finished\n"
     ]
    },
    {
     "name": "stdout",
     "output_type": "stream",
     "text": [
      "       Best parameters selected: <<{'C': 0.0038}>> for score <<0.6782842748968032>>.\n",
      "       4. Grid Search model <<<class 'sklearn.svm.classes.LinearSVC'>>>; weight: <<balanced>>; parameters: <<{'C': [0.0013, 0.0014, 0.0016, 0.0018, 0.002, 0.0022, 0.0024, 0.0025, 0.0027, 0.0029, 0.0031, 0.0033, 0.0034, 0.0036, 0.0038, 0.0043, 0.0049, 0.0054, 0.006, 0.0065, 0.0071, 0.0076, 0.0081, 0.0087, 0.0092, 0.0098, 0.0103, 0.0109, 0.0114]}>>\n",
      "Fitting 9 folds for each of 29 candidates, totalling 261 fits\n"
     ]
    },
    {
     "name": "stderr",
     "output_type": "stream",
     "text": [
      "[Parallel(n_jobs=1)]: Done 261 out of 261 | elapsed:   31.9s finished\n"
     ]
    },
    {
     "name": "stdout",
     "output_type": "stream",
     "text": [
      "       Best parameters selected: <<{'C': 0.0038}>> for score <<0.6782842748968032>>.\n",
      "       4. Grid Search model <<<class 'sklearn.svm.classes.LinearSVC'>>>; weight: <<{0: 1.0, 1: 94.35714285714286}>>; parameters: <<{'C': [0.001, 0.01, 0.1, 1.0, 10.0]}>>\n",
      "Fitting 9 folds for each of 5 candidates, totalling 45 fits\n"
     ]
    },
    {
     "name": "stderr",
     "output_type": "stream",
     "text": [
      "[Parallel(n_jobs=1)]: Done  45 out of  45 | elapsed:   13.3s finished\n"
     ]
    },
    {
     "name": "stdout",
     "output_type": "stream",
     "text": [
      "       Best parameters selected: <<{'C': 0.001}>> for score <<0.6737858644089337>>.\n",
      "       5. Grid Search model <<<class 'sklearn.svm.classes.LinearSVC'>>>; weight: <<{0: 1.0, 1: 94.35714285714286}>>; parameters: <<{'C': [0.0003, 0.0004, 0.0004, 0.0005, 0.0005, 0.0006, 0.0006, 0.0007, 0.0007, 0.0008, 0.0008, 0.0009, 0.0009, 0.001, 0.001, 0.0011, 0.0013, 0.0014, 0.0016, 0.0017, 0.0019, 0.002, 0.0021, 0.0023, 0.0024, 0.0026, 0.0027, 0.0029, 0.003]}>>\n",
      "Fitting 9 folds for each of 29 candidates, totalling 261 fits\n"
     ]
    },
    {
     "name": "stderr",
     "output_type": "stream",
     "text": [
      "[Parallel(n_jobs=1)]: Done 261 out of 261 | elapsed:   22.5s finished\n"
     ]
    },
    {
     "name": "stdout",
     "output_type": "stream",
     "text": [
      "       Best parameters selected: <<{'C': 0.002}>> for score <<0.6788394288607782>>.\n",
      "       6. Grid Search model <<<class 'sklearn.svm.classes.LinearSVC'>>>; weight: <<{0: 1.0, 1: 94.35714285714286}>>; parameters: <<{'C': [0.0007, 0.0008, 0.0009, 0.001, 0.001, 0.0011, 0.0012, 0.0013, 0.0014, 0.0015, 0.0016, 0.0017, 0.0018, 0.0019, 0.002, 0.0023, 0.0026, 0.0029, 0.0031, 0.0034, 0.0037, 0.004, 0.0043, 0.0046, 0.0049, 0.0051, 0.0054, 0.0057, 0.006]}>>\n",
      "Fitting 9 folds for each of 29 candidates, totalling 261 fits\n"
     ]
    },
    {
     "name": "stderr",
     "output_type": "stream",
     "text": [
      "[Parallel(n_jobs=1)]: Done 261 out of 261 | elapsed:   33.9s finished\n"
     ]
    },
    {
     "name": "stdout",
     "output_type": "stream",
     "text": [
      "       Best parameters selected: <<{'C': 0.002}>> for score <<0.6788394288607782>>.\n",
      "       Final parameters selected: <<{'C': 0.0038}>> for score <<0.6782842748968032>>.\n",
      "\n",
      "          *** Prev Score on validation dataset (macro/weighted) <<0.6578557859282309>> / <<0.902376910016978>>.\n",
      "\n",
      "          *** Score on validation dataset (macro/weighted) <<0.6578947368421053>> / <<0.8870967741935484>>.\n",
      "[[3111  366]\n",
      " [  33   24]]\n",
      "\n",
      "-------------------------------------------------------------------\n",
      "    45. ReFit model for class: <<refugees>> ((20025, 12008)).\n",
      "    Tuning hyper-parameters for class: <<refugees>> (Recall).\n",
      "       1. Grid Search model <<<class 'sklearn.svm.classes.LinearSVC'>>>; weight: <<balanced>>; parameters: <<{'C': [0.001, 0.01, 0.1, 1.0, 10.0]}>>\n",
      "Fitting 9 folds for each of 5 candidates, totalling 45 fits\n"
     ]
    },
    {
     "name": "stderr",
     "output_type": "stream",
     "text": [
      "[Parallel(n_jobs=1)]: Done  45 out of  45 | elapsed:   17.3s finished\n"
     ]
    },
    {
     "name": "stdout",
     "output_type": "stream",
     "text": [
      "       Best parameters selected: <<{'C': 0.01}>> for score <<0.7959875226859837>>.\n",
      "       2. Grid Search model <<<class 'sklearn.svm.classes.LinearSVC'>>>; weight: <<balanced>>; parameters: <<{'C': [0.0033, 0.0038, 0.0043, 0.0048, 0.0052, 0.0057, 0.0062, 0.0067, 0.0071, 0.0076, 0.0081, 0.0086, 0.009, 0.0095, 0.01, 0.0114, 0.0129, 0.0143, 0.0157, 0.0171, 0.0186, 0.02, 0.0214, 0.0229, 0.0243, 0.0257, 0.0271, 0.0286, 0.03]}>>\n",
      "Fitting 9 folds for each of 29 candidates, totalling 261 fits\n"
     ]
    },
    {
     "name": "stderr",
     "output_type": "stream",
     "text": [
      "[Parallel(n_jobs=1)]: Done 261 out of 261 | elapsed:   33.6s finished\n"
     ]
    },
    {
     "name": "stdout",
     "output_type": "stream",
     "text": [
      "       Best parameters selected: <<{'C': 0.0129}>> for score <<0.7984556852007769>>.\n",
      "       3. Grid Search model <<<class 'sklearn.svm.classes.LinearSVC'>>>; weight: <<balanced>>; parameters: <<{'C': [0.0043, 0.0049, 0.0055, 0.0061, 0.0068, 0.0074, 0.008, 0.0086, 0.0092, 0.0098, 0.0104, 0.0111, 0.0117, 0.0123, 0.0129, 0.0147, 0.0166, 0.0184, 0.0203, 0.0221, 0.024, 0.0258, 0.0276, 0.0295, 0.0313, 0.0332, 0.035, 0.0369, 0.0387]}>>\n",
      "Fitting 9 folds for each of 29 candidates, totalling 261 fits\n"
     ]
    },
    {
     "name": "stderr",
     "output_type": "stream",
     "text": [
      "[Parallel(n_jobs=1)]: Done 261 out of 261 | elapsed:   39.2s finished\n"
     ]
    },
    {
     "name": "stdout",
     "output_type": "stream",
     "text": [
      "       Best parameters selected: <<{'C': 0.0129}>> for score <<0.7984556852007769>>.\n",
      "       3. Grid Search model <<<class 'sklearn.svm.classes.LinearSVC'>>>; weight: <<{0: 1.0, 1: 58.68181818181818}>>; parameters: <<{'C': [0.001, 0.01, 0.1, 1.0, 10.0]}>>\n",
      "Fitting 9 folds for each of 5 candidates, totalling 45 fits\n"
     ]
    },
    {
     "name": "stderr",
     "output_type": "stream",
     "text": [
      "[Parallel(n_jobs=1)]: Done  45 out of  45 | elapsed:   20.5s finished\n"
     ]
    },
    {
     "name": "stdout",
     "output_type": "stream",
     "text": [
      "       Best parameters selected: <<{'C': 0.01}>> for score <<0.8002471958014226>>.\n",
      "       4. Grid Search model <<<class 'sklearn.svm.classes.LinearSVC'>>>; weight: <<{0: 1.0, 1: 58.68181818181818}>>; parameters: <<{'C': [0.0033, 0.0038, 0.0043, 0.0048, 0.0052, 0.0057, 0.0062, 0.0067, 0.0071, 0.0076, 0.0081, 0.0086, 0.009, 0.0095, 0.01, 0.0114, 0.0129, 0.0143, 0.0157, 0.0171, 0.0186, 0.02, 0.0214, 0.0229, 0.0243, 0.0257, 0.0271, 0.0286, 0.03]}>>\n",
      "Fitting 9 folds for each of 29 candidates, totalling 261 fits\n"
     ]
    },
    {
     "name": "stderr",
     "output_type": "stream",
     "text": [
      "[Parallel(n_jobs=1)]: Done 261 out of 261 | elapsed:  1.0min finished\n"
     ]
    },
    {
     "name": "stdout",
     "output_type": "stream",
     "text": [
      "       Best parameters selected: <<{'C': 0.0129}>> for score <<0.8032061919228287>>.\n",
      "       5. Grid Search model <<<class 'sklearn.svm.classes.LinearSVC'>>>; weight: <<{0: 1.0, 1: 58.68181818181818}>>; parameters: <<{'C': [0.0043, 0.0049, 0.0055, 0.0061, 0.0068, 0.0074, 0.008, 0.0086, 0.0092, 0.0098, 0.0104, 0.0111, 0.0117, 0.0123, 0.0129, 0.0147, 0.0166, 0.0184, 0.0203, 0.0221, 0.024, 0.0258, 0.0276, 0.0295, 0.0313, 0.0332, 0.035, 0.0369, 0.0387]}>>\n",
      "Fitting 9 folds for each of 29 candidates, totalling 261 fits\n"
     ]
    },
    {
     "name": "stderr",
     "output_type": "stream",
     "text": [
      "[Parallel(n_jobs=1)]: Done 261 out of 261 | elapsed:  1.1min finished\n"
     ]
    },
    {
     "name": "stdout",
     "output_type": "stream",
     "text": [
      "       Best parameters selected: <<{'C': 0.0129}>> for score <<0.8032061919228287>>.\n",
      "       Final parameters selected: <<{'C': 0.0129}>> for score <<0.7984556852007769>>.\n",
      "\n",
      "          *** Prev Score on validation dataset (macro/weighted) <<0.8027066989772866>> / <<0.8960101867572157>>.\n",
      "\n",
      "          *** Score on validation dataset (macro/weighted) <<0.771809582351535>> / <<0.9052065647990946>>.\n",
      "[[3118  287]\n",
      " [  48   81]]\n",
      "\n",
      "-------------------------------------------------------------------\n",
      "    46. ReFit model for class: <<other_aid>> ((20025, 12008)).\n",
      "    Tuning hyper-parameters for class: <<other_aid>> (Recall).\n",
      "       1. Grid Search model <<<class 'sklearn.svm.classes.LinearSVC'>>>; weight: <<balanced>>; parameters: <<{'C': [0.001, 0.01, 0.1, 1.0, 10.0]}>>\n",
      "Fitting 9 folds for each of 5 candidates, totalling 45 fits\n"
     ]
    },
    {
     "name": "stderr",
     "output_type": "stream",
     "text": [
      "[Parallel(n_jobs=1)]: Done  45 out of  45 | elapsed:   32.0s finished\n"
     ]
    },
    {
     "name": "stdout",
     "output_type": "stream",
     "text": [
      "       Best parameters selected: <<{'C': 0.1}>> for score <<0.706720447350764>>.\n",
      "       2. Grid Search model <<<class 'sklearn.svm.classes.LinearSVC'>>>; weight: <<balanced>>; parameters: <<{'C': [0.0333, 0.0381, 0.0429, 0.0476, 0.0524, 0.0571, 0.0619, 0.0667, 0.0714, 0.0762, 0.081, 0.0857, 0.0905, 0.0952, 0.1, 0.1143, 0.1286, 0.1429, 0.1571, 0.1714, 0.1857, 0.2, 0.2143, 0.2286, 0.2429, 0.2571, 0.2714, 0.2857, 0.3]}>>\n",
      "Fitting 9 folds for each of 29 candidates, totalling 261 fits\n"
     ]
    },
    {
     "name": "stderr",
     "output_type": "stream",
     "text": [
      "[Parallel(n_jobs=1)]: Done 261 out of 261 | elapsed:  1.2min finished\n"
     ]
    },
    {
     "name": "stdout",
     "output_type": "stream",
     "text": [
      "       Best parameters selected: <<{'C': 0.0524}>> for score <<0.7110287563339207>>.\n",
      "       3. Grid Search model <<<class 'sklearn.svm.classes.LinearSVC'>>>; weight: <<balanced>>; parameters: <<{'C': [0.0175, 0.02, 0.0225, 0.025, 0.0274, 0.0299, 0.0324, 0.0349, 0.0374, 0.0399, 0.0424, 0.0449, 0.0474, 0.0499, 0.0524, 0.0599, 0.0674, 0.0749, 0.0823, 0.0898, 0.0973, 0.1048, 0.1123, 0.1198, 0.1273, 0.1347, 0.1422, 0.1497, 0.1572]}>>\n",
      "Fitting 9 folds for each of 29 candidates, totalling 261 fits\n"
     ]
    },
    {
     "name": "stderr",
     "output_type": "stream",
     "text": [
      "[Parallel(n_jobs=1)]: Done 261 out of 261 | elapsed:   44.8s finished\n"
     ]
    },
    {
     "name": "stdout",
     "output_type": "stream",
     "text": [
      "       Best parameters selected: <<{'C': 0.0524}>> for score <<0.7110287563339207>>.\n",
      "       3. Grid Search model <<<class 'sklearn.svm.classes.LinearSVC'>>>; weight: <<{0: 1.0, 1: 13.481252415925782}>>; parameters: <<{'C': [0.001, 0.01, 0.1, 1.0, 10.0]}>>\n",
      "Fitting 9 folds for each of 5 candidates, totalling 45 fits\n"
     ]
    },
    {
     "name": "stderr",
     "output_type": "stream",
     "text": [
      "[Parallel(n_jobs=1)]: Done  45 out of  45 | elapsed:   44.5s finished\n"
     ]
    },
    {
     "name": "stdout",
     "output_type": "stream",
     "text": [
      "       Best parameters selected: <<{'C': 0.1}>> for score <<0.7049869804058214>>.\n",
      "       4. Grid Search model <<<class 'sklearn.svm.classes.LinearSVC'>>>; weight: <<{0: 1.0, 1: 13.481252415925782}>>; parameters: <<{'C': [0.0333, 0.0381, 0.0429, 0.0476, 0.0524, 0.0571, 0.0619, 0.0667, 0.0714, 0.0762, 0.081, 0.0857, 0.0905, 0.0952, 0.1, 0.1143, 0.1286, 0.1429, 0.1571, 0.1714, 0.1857, 0.2, 0.2143, 0.2286, 0.2429, 0.2571, 0.2714, 0.2857, 0.3]}>>\n",
      "Fitting 9 folds for each of 29 candidates, totalling 261 fits\n"
     ]
    },
    {
     "name": "stderr",
     "output_type": "stream",
     "text": [
      "[Parallel(n_jobs=1)]: Done 261 out of 261 | elapsed:  2.6min finished\n"
     ]
    },
    {
     "name": "stdout",
     "output_type": "stream",
     "text": [
      "       Best parameters selected: <<{'C': 0.0429}>> for score <<0.7099634622925741>>.\n",
      "       5. Grid Search model <<<class 'sklearn.svm.classes.LinearSVC'>>>; weight: <<{0: 1.0, 1: 13.481252415925782}>>; parameters: <<{'C': [0.0143, 0.0163, 0.0184, 0.0204, 0.0225, 0.0245, 0.0266, 0.0286, 0.0306, 0.0327, 0.0347, 0.0368, 0.0388, 0.0409, 0.0429, 0.049, 0.0552, 0.0613, 0.0674, 0.0735, 0.0797, 0.0858, 0.0919, 0.0981, 0.1042, 0.1103, 0.1164, 0.1226, 0.1287]}>>\n",
      "Fitting 9 folds for each of 29 candidates, totalling 261 fits\n"
     ]
    },
    {
     "name": "stderr",
     "output_type": "stream",
     "text": [
      "[Parallel(n_jobs=1)]: Done 261 out of 261 | elapsed:  1.4min finished\n"
     ]
    },
    {
     "name": "stdout",
     "output_type": "stream",
     "text": [
      "       Best parameters selected: <<{'C': 0.049}>> for score <<0.7101767821369995>>.\n",
      "       6. Grid Search model <<<class 'sklearn.svm.classes.LinearSVC'>>>; weight: <<{0: 1.0, 1: 13.481252415925782}>>; parameters: <<{'C': [0.0163, 0.0187, 0.021, 0.0233, 0.0257, 0.028, 0.0303, 0.0327, 0.035, 0.0373, 0.0397, 0.042, 0.0443, 0.0467, 0.049, 0.056, 0.063, 0.07, 0.077, 0.084, 0.091, 0.098, 0.105, 0.112, 0.119, 0.126, 0.133, 0.14, 0.147]}>>\n",
      "Fitting 9 folds for each of 29 candidates, totalling 261 fits\n"
     ]
    },
    {
     "name": "stderr",
     "output_type": "stream",
     "text": [
      "[Parallel(n_jobs=1)]: Done 261 out of 261 | elapsed:  1.8min finished\n"
     ]
    },
    {
     "name": "stdout",
     "output_type": "stream",
     "text": [
      "       Best parameters selected: <<{'C': 0.049}>> for score <<0.7101767821369995>>.\n",
      "       Final parameters selected: <<{'C': 0.0524}>> for score <<0.7110287563339207>>.\n",
      "\n",
      "          *** Prev Score on validation dataset (macro/weighted) <<0.7232358037442783>> / <<0.7924448217317487>>.\n",
      "\n",
      "          *** Score on validation dataset (macro/weighted) <<0.7005873801665881>> / <<0.777306168647425>>.\n",
      "[[2448  582]\n",
      " [ 205  299]]\n",
      "\n",
      "-------------------------------------------------------------------\n",
      "    47. ReFit model for class: <<infrastructure_related>> ((20025, 12008)).\n",
      "    Tuning hyper-parameters for class: <<infrastructure_related>> (Recall).\n",
      "       1. Grid Search model <<<class 'sklearn.svm.classes.LinearSVC'>>>; weight: <<balanced>>; parameters: <<{'C': [0.001, 0.01, 0.1, 1.0, 10.0]}>>\n",
      "Fitting 9 folds for each of 5 candidates, totalling 45 fits\n"
     ]
    },
    {
     "name": "stderr",
     "output_type": "stream",
     "text": [
      "[Parallel(n_jobs=1)]: Done  45 out of  45 | elapsed:   25.4s finished\n"
     ]
    },
    {
     "name": "stdout",
     "output_type": "stream",
     "text": [
      "       Best parameters selected: <<{'C': 0.01}>> for score <<0.732738326459197>>.\n",
      "       2. Grid Search model <<<class 'sklearn.svm.classes.LinearSVC'>>>; weight: <<balanced>>; parameters: <<{'C': [0.0033, 0.0038, 0.0043, 0.0048, 0.0052, 0.0057, 0.0062, 0.0067, 0.0071, 0.0076, 0.0081, 0.0086, 0.009, 0.0095, 0.01, 0.0114, 0.0129, 0.0143, 0.0157, 0.0171, 0.0186, 0.02, 0.0214, 0.0229, 0.0243, 0.0257, 0.0271, 0.0286, 0.03]}>>\n",
      "Fitting 9 folds for each of 29 candidates, totalling 261 fits\n"
     ]
    },
    {
     "name": "stderr",
     "output_type": "stream",
     "text": [
      "[Parallel(n_jobs=1)]: Done 261 out of 261 | elapsed:   26.9s finished\n"
     ]
    },
    {
     "name": "stdout",
     "output_type": "stream",
     "text": [
      "       Best parameters selected: <<{'C': 0.0157}>> for score <<0.7372091658790311>>.\n",
      "       3. Grid Search model <<<class 'sklearn.svm.classes.LinearSVC'>>>; weight: <<balanced>>; parameters: <<{'C': [0.0052, 0.006, 0.0067, 0.0075, 0.0082, 0.009, 0.0097, 0.0105, 0.0112, 0.012, 0.0127, 0.0135, 0.0142, 0.015, 0.0157, 0.0179, 0.0202, 0.0224, 0.0247, 0.0269, 0.0292, 0.0314, 0.0336, 0.0359, 0.0381, 0.0404, 0.0426, 0.0449, 0.0471]}>>\n",
      "Fitting 9 folds for each of 29 candidates, totalling 261 fits\n"
     ]
    },
    {
     "name": "stderr",
     "output_type": "stream",
     "text": [
      "[Parallel(n_jobs=1)]: Done 261 out of 261 | elapsed:   33.4s finished\n"
     ]
    },
    {
     "name": "stdout",
     "output_type": "stream",
     "text": [
      "       Best parameters selected: <<{'C': 0.0135}>> for score <<0.7376756360545164>>.\n",
      "       4. Grid Search model <<<class 'sklearn.svm.classes.LinearSVC'>>>; weight: <<balanced>>; parameters: <<{'C': [0.0045, 0.0051, 0.0058, 0.0064, 0.0071, 0.0077, 0.0084, 0.009, 0.0096, 0.0103, 0.0109, 0.0116, 0.0122, 0.0129, 0.0135, 0.0154, 0.0174, 0.0193, 0.0212, 0.0231, 0.0251, 0.027, 0.0289, 0.0309, 0.0328, 0.0347, 0.0366, 0.0386, 0.0405]}>>\n",
      "Fitting 9 folds for each of 29 candidates, totalling 261 fits\n"
     ]
    },
    {
     "name": "stderr",
     "output_type": "stream",
     "text": [
      "[Parallel(n_jobs=1)]: Done 261 out of 261 | elapsed:   29.1s finished\n"
     ]
    },
    {
     "name": "stdout",
     "output_type": "stream",
     "text": [
      "       Best parameters selected: <<{'C': 0.0135}>> for score <<0.7376756360545164>>.\n",
      "       4. Grid Search model <<<class 'sklearn.svm.classes.LinearSVC'>>>; weight: <<{0: 1.0, 1: 28.76036866359447}>>; parameters: <<{'C': [0.001, 0.01, 0.1, 1.0, 10.0]}>>\n",
      "Fitting 9 folds for each of 5 candidates, totalling 45 fits\n"
     ]
    },
    {
     "name": "stderr",
     "output_type": "stream",
     "text": [
      "[Parallel(n_jobs=1)]: Done  45 out of  45 | elapsed:   31.3s finished\n"
     ]
    },
    {
     "name": "stdout",
     "output_type": "stream",
     "text": [
      "       Best parameters selected: <<{'C': 0.01}>> for score <<0.7349349226715085>>.\n",
      "       5. Grid Search model <<<class 'sklearn.svm.classes.LinearSVC'>>>; weight: <<{0: 1.0, 1: 28.76036866359447}>>; parameters: <<{'C': [0.0033, 0.0038, 0.0043, 0.0048, 0.0052, 0.0057, 0.0062, 0.0067, 0.0071, 0.0076, 0.0081, 0.0086, 0.009, 0.0095, 0.01, 0.0114, 0.0129, 0.0143, 0.0157, 0.0171, 0.0186, 0.02, 0.0214, 0.0229, 0.0243, 0.0257, 0.0271, 0.0286, 0.03]}>>\n",
      "Fitting 9 folds for each of 29 candidates, totalling 261 fits\n"
     ]
    },
    {
     "name": "stderr",
     "output_type": "stream",
     "text": [
      "[Parallel(n_jobs=1)]: Done 261 out of 261 | elapsed:   51.3s finished\n"
     ]
    },
    {
     "name": "stdout",
     "output_type": "stream",
     "text": [
      "       Best parameters selected: <<{'C': 0.0229}>> for score <<0.7441219899497141>>.\n",
      "       6. Grid Search model <<<class 'sklearn.svm.classes.LinearSVC'>>>; weight: <<{0: 1.0, 1: 28.76036866359447}>>; parameters: <<{'C': [0.0076, 0.0087, 0.0098, 0.0109, 0.012, 0.0131, 0.0142, 0.0153, 0.0164, 0.0174, 0.0185, 0.0196, 0.0207, 0.0218, 0.0229, 0.0262, 0.0294, 0.0327, 0.036, 0.0393, 0.0425, 0.0458, 0.0491, 0.0523, 0.0556, 0.0589, 0.0622, 0.0654, 0.0687]}>>\n",
      "Fitting 9 folds for each of 29 candidates, totalling 261 fits\n"
     ]
    },
    {
     "name": "stderr",
     "output_type": "stream",
     "text": [
      "[Parallel(n_jobs=1)]: Done 261 out of 261 | elapsed:  1.4min finished\n"
     ]
    },
    {
     "name": "stdout",
     "output_type": "stream",
     "text": [
      "       Best parameters selected: <<{'C': 0.0229}>> for score <<0.7441219899497141>>.\n",
      "       Final parameters selected: <<{'C': 0.0135}>> for score <<0.7376756360545164>>.\n",
      "\n",
      "          *** Prev Score on validation dataset (macro/weighted) <<0.671783196239718>> / <<0.7924448217317487>>.\n",
      "\n",
      "          *** Score on validation dataset (macro/weighted) <<0.7016388092682371>> / <<0.8073005093378608>>.\n",
      "[[2719  584]\n",
      " [  97  134]]\n",
      "\n",
      "          *** Model has been refitted from <<0.7316188045049996>> to <<0.7376756360545164>>.\n",
      "\n",
      "-------------------------------------------------------------------\n",
      "    48. ReFit model for class: <<transport>> ((20025, 12008)).\n",
      "    Tuning hyper-parameters for class: <<transport>> (Recall).\n",
      "       1. Grid Search model <<<class 'sklearn.svm.classes.LinearSVC'>>>; weight: <<balanced>>; parameters: <<{'C': [0.001, 0.01, 0.1, 1.0, 10.0]}>>\n",
      "Fitting 9 folds for each of 5 candidates, totalling 45 fits\n"
     ]
    },
    {
     "name": "stderr",
     "output_type": "stream",
     "text": [
      "[Parallel(n_jobs=1)]: Done  45 out of  45 | elapsed:   29.7s finished\n"
     ]
    },
    {
     "name": "stdout",
     "output_type": "stream",
     "text": [
      "       Best parameters selected: <<{'C': 0.01}>> for score <<0.7214881997599932>>.\n",
      "       2. Grid Search model <<<class 'sklearn.svm.classes.LinearSVC'>>>; weight: <<balanced>>; parameters: <<{'C': [0.0033, 0.0038, 0.0043, 0.0048, 0.0052, 0.0057, 0.0062, 0.0067, 0.0071, 0.0076, 0.0081, 0.0086, 0.009, 0.0095, 0.01, 0.0114, 0.0129, 0.0143, 0.0157, 0.0171, 0.0186, 0.02, 0.0214, 0.0229, 0.0243, 0.0257, 0.0271, 0.0286, 0.03]}>>\n",
      "Fitting 9 folds for each of 29 candidates, totalling 261 fits\n"
     ]
    },
    {
     "name": "stderr",
     "output_type": "stream",
     "text": [
      "[Parallel(n_jobs=1)]: Done 261 out of 261 | elapsed:   28.8s finished\n"
     ]
    },
    {
     "name": "stdout",
     "output_type": "stream",
     "text": [
      "       Best parameters selected: <<{'C': 0.0171}>> for score <<0.7260604649183056>>.\n",
      "       3. Grid Search model <<<class 'sklearn.svm.classes.LinearSVC'>>>; weight: <<balanced>>; parameters: <<{'C': [0.0057, 0.0065, 0.0073, 0.0081, 0.009, 0.0098, 0.0106, 0.0114, 0.0122, 0.013, 0.0138, 0.0147, 0.0155, 0.0163, 0.0171, 0.0195, 0.022, 0.0244, 0.0269, 0.0293, 0.0318, 0.0342, 0.0366, 0.0391, 0.0415, 0.044, 0.0464, 0.0489, 0.0513]}>>\n",
      "Fitting 9 folds for each of 29 candidates, totalling 261 fits\n"
     ]
    },
    {
     "name": "stderr",
     "output_type": "stream",
     "text": [
      "[Parallel(n_jobs=1)]: Done 261 out of 261 | elapsed:   38.6s finished\n"
     ]
    },
    {
     "name": "stdout",
     "output_type": "stream",
     "text": [
      "       Best parameters selected: <<{'C': 0.0171}>> for score <<0.7260604649183056>>.\n",
      "       3. Grid Search model <<<class 'sklearn.svm.classes.LinearSVC'>>>; weight: <<{0: 1.0, 1: 41.77049180327869}>>; parameters: <<{'C': [0.001, 0.01, 0.1, 1.0, 10.0]}>>\n",
      "Fitting 9 folds for each of 5 candidates, totalling 45 fits\n"
     ]
    },
    {
     "name": "stderr",
     "output_type": "stream",
     "text": [
      "[Parallel(n_jobs=1)]: Done  45 out of  45 | elapsed:   33.0s finished\n"
     ]
    },
    {
     "name": "stdout",
     "output_type": "stream",
     "text": [
      "       Best parameters selected: <<{'C': 0.01}>> for score <<0.7107912593130291>>.\n",
      "       4. Grid Search model <<<class 'sklearn.svm.classes.LinearSVC'>>>; weight: <<{0: 1.0, 1: 41.77049180327869}>>; parameters: <<{'C': [0.0033, 0.0038, 0.0043, 0.0048, 0.0052, 0.0057, 0.0062, 0.0067, 0.0071, 0.0076, 0.0081, 0.0086, 0.009, 0.0095, 0.01, 0.0114, 0.0129, 0.0143, 0.0157, 0.0171, 0.0186, 0.02, 0.0214, 0.0229, 0.0243, 0.0257, 0.0271, 0.0286, 0.03]}>>\n",
      "Fitting 9 folds for each of 29 candidates, totalling 261 fits\n"
     ]
    },
    {
     "name": "stderr",
     "output_type": "stream",
     "text": [
      "[Parallel(n_jobs=1)]: Done 261 out of 261 | elapsed:  1.0min finished\n"
     ]
    },
    {
     "name": "stdout",
     "output_type": "stream",
     "text": [
      "       Best parameters selected: <<{'C': 0.0143}>> for score <<0.7159490669727332>>.\n",
      "       5. Grid Search model <<<class 'sklearn.svm.classes.LinearSVC'>>>; weight: <<{0: 1.0, 1: 41.77049180327869}>>; parameters: <<{'C': [0.0048, 0.0054, 0.0061, 0.0068, 0.0075, 0.0082, 0.0089, 0.0095, 0.0102, 0.0109, 0.0116, 0.0123, 0.0129, 0.0136, 0.0143, 0.0163, 0.0184, 0.0204, 0.0225, 0.0245, 0.0266, 0.0286, 0.0306, 0.0327, 0.0347, 0.0368, 0.0388, 0.0409, 0.0429]}>>\n",
      "Fitting 9 folds for each of 29 candidates, totalling 261 fits\n"
     ]
    },
    {
     "name": "stderr",
     "output_type": "stream",
     "text": [
      "[Parallel(n_jobs=1)]: Done 261 out of 261 | elapsed:  1.4min finished\n"
     ]
    },
    {
     "name": "stdout",
     "output_type": "stream",
     "text": [
      "       Best parameters selected: <<{'C': 0.0143}>> for score <<0.7159490669727332>>.\n",
      "       Final parameters selected: <<{'C': 0.0171}>> for score <<0.7260604649183056>>.\n",
      "\n",
      "          *** Prev Score on validation dataset (macro/weighted) <<0.6553249475890985>> / <<0.8739388794567062>>.\n",
      "\n",
      "          *** Score on validation dataset (macro/weighted) <<0.6930422466251661>> / <<0.8621958121109224>>.\n",
      "[[2961  403]\n",
      " [  84   86]]\n",
      "\n",
      "          *** Model has been refitted from <<0.7205917599797111>> to <<0.7260604649183056>>.\n",
      "\n",
      "-------------------------------------------------------------------\n",
      "    49. ReFit model for class: <<tools>> ((20025, 12008)).\n",
      "    Tuning hyper-parameters for class: <<tools>> (Recall).\n",
      "       1. Grid Search model <<<class 'sklearn.svm.classes.LinearSVC'>>>; weight: <<balanced>>; parameters: <<{'C': [0.001, 0.01, 0.1, 1.0, 10.0]}>>\n",
      "Fitting 9 folds for each of 5 candidates, totalling 45 fits\n"
     ]
    },
    {
     "name": "stderr",
     "output_type": "stream",
     "text": [
      "[Parallel(n_jobs=1)]: Done  45 out of  45 | elapsed:   12.8s finished\n"
     ]
    },
    {
     "name": "stdout",
     "output_type": "stream",
     "text": [
      "       Best parameters selected: <<{'C': 0.001}>> for score <<0.6717677180280629>>.\n",
      "       2. Grid Search model <<<class 'sklearn.svm.classes.LinearSVC'>>>; weight: <<balanced>>; parameters: <<{'C': [0.0003, 0.0004, 0.0004, 0.0005, 0.0005, 0.0006, 0.0006, 0.0007, 0.0007, 0.0008, 0.0008, 0.0009, 0.0009, 0.001, 0.001, 0.0011, 0.0013, 0.0014, 0.0016, 0.0017, 0.0019, 0.002, 0.0021, 0.0023, 0.0024, 0.0026, 0.0027, 0.0029, 0.003]}>>\n",
      "Fitting 9 folds for each of 29 candidates, totalling 261 fits\n"
     ]
    },
    {
     "name": "stderr",
     "output_type": "stream",
     "text": [
      "[Parallel(n_jobs=1)]: Done 261 out of 261 | elapsed:   22.3s finished\n"
     ]
    },
    {
     "name": "stdout",
     "output_type": "stream",
     "text": [
      "       Best parameters selected: <<{'C': 0.0017}>> for score <<0.6822648651892287>>.\n",
      "       3. Grid Search model <<<class 'sklearn.svm.classes.LinearSVC'>>>; weight: <<balanced>>; parameters: <<{'C': [0.0006, 0.0006, 0.0007, 0.0008, 0.0009, 0.001, 0.0011, 0.0011, 0.0012, 0.0013, 0.0014, 0.0015, 0.0015, 0.0016, 0.0017, 0.0019, 0.0022, 0.0024, 0.0027, 0.0029, 0.0032, 0.0034, 0.0036, 0.0039, 0.0041, 0.0044, 0.0046, 0.0049, 0.0051]}>>\n",
      "Fitting 9 folds for each of 29 candidates, totalling 261 fits\n"
     ]
    },
    {
     "name": "stderr",
     "output_type": "stream",
     "text": [
      "[Parallel(n_jobs=1)]: Done 261 out of 261 | elapsed:   28.1s finished\n"
     ]
    },
    {
     "name": "stdout",
     "output_type": "stream",
     "text": [
      "       Best parameters selected: <<{'C': 0.0034}>> for score <<0.6844343860907295>>.\n",
      "       4. Grid Search model <<<class 'sklearn.svm.classes.LinearSVC'>>>; weight: <<balanced>>; parameters: <<{'C': [0.0011, 0.0013, 0.0015, 0.0016, 0.0018, 0.0019, 0.0021, 0.0023, 0.0024, 0.0026, 0.0028, 0.0029, 0.0031, 0.0032, 0.0034, 0.0039, 0.0044, 0.0049, 0.0053, 0.0058, 0.0063, 0.0068, 0.0073, 0.0078, 0.0083, 0.0087, 0.0092, 0.0097, 0.0102]}>>\n",
      "Fitting 9 folds for each of 29 candidates, totalling 261 fits\n"
     ]
    },
    {
     "name": "stderr",
     "output_type": "stream",
     "text": [
      "[Parallel(n_jobs=1)]: Done 261 out of 261 | elapsed:   40.7s finished\n"
     ]
    },
    {
     "name": "stdout",
     "output_type": "stream",
     "text": [
      "       Best parameters selected: <<{'C': 0.0034}>> for score <<0.6844343860907295>>.\n",
      "       4. Grid Search model <<<class 'sklearn.svm.classes.LinearSVC'>>>; weight: <<{0: 1.0, 1: 173.1304347826087}>>; parameters: <<{'C': [0.001, 0.01, 0.1, 1.0, 10.0]}>>\n",
      "Fitting 9 folds for each of 5 candidates, totalling 45 fits\n"
     ]
    },
    {
     "name": "stderr",
     "output_type": "stream",
     "text": [
      "[Parallel(n_jobs=1)]: Done  45 out of  45 | elapsed:   14.7s finished\n"
     ]
    },
    {
     "name": "stdout",
     "output_type": "stream",
     "text": [
      "       Best parameters selected: <<{'C': 0.001}>> for score <<0.6715765742494882>>.\n",
      "       5. Grid Search model <<<class 'sklearn.svm.classes.LinearSVC'>>>; weight: <<{0: 1.0, 1: 173.1304347826087}>>; parameters: <<{'C': [0.0003, 0.0004, 0.0004, 0.0005, 0.0005, 0.0006, 0.0006, 0.0007, 0.0007, 0.0008, 0.0008, 0.0009, 0.0009, 0.001, 0.001, 0.0011, 0.0013, 0.0014, 0.0016, 0.0017, 0.0019, 0.002, 0.0021, 0.0023, 0.0024, 0.0026, 0.0027, 0.0029, 0.003]}>>\n",
      "Fitting 9 folds for each of 29 candidates, totalling 261 fits\n"
     ]
    },
    {
     "name": "stderr",
     "output_type": "stream",
     "text": [
      "[Parallel(n_jobs=1)]: Done 261 out of 261 | elapsed:   33.8s finished\n"
     ]
    },
    {
     "name": "stdout",
     "output_type": "stream",
     "text": [
      "       Best parameters selected: <<{'C': 0.0017}>> for score <<0.684233552208516>>.\n",
      "       6. Grid Search model <<<class 'sklearn.svm.classes.LinearSVC'>>>; weight: <<{0: 1.0, 1: 173.1304347826087}>>; parameters: <<{'C': [0.0006, 0.0006, 0.0007, 0.0008, 0.0009, 0.001, 0.0011, 0.0011, 0.0012, 0.0013, 0.0014, 0.0015, 0.0015, 0.0016, 0.0017, 0.0019, 0.0022, 0.0024, 0.0027, 0.0029, 0.0032, 0.0034, 0.0036, 0.0039, 0.0041, 0.0044, 0.0046, 0.0049, 0.0051]}>>\n",
      "Fitting 9 folds for each of 29 candidates, totalling 261 fits\n"
     ]
    },
    {
     "name": "stderr",
     "output_type": "stream",
     "text": [
      "[Parallel(n_jobs=1)]: Done 261 out of 261 | elapsed:   41.1s finished\n"
     ]
    },
    {
     "name": "stdout",
     "output_type": "stream",
     "text": [
      "       Best parameters selected: <<{'C': 0.0017}>> for score <<0.684233552208516>>.\n",
      "       Final parameters selected: <<{'C': 0.0034}>> for score <<0.6844343860907295>>.\n",
      "\n",
      "          *** Prev Score on validation dataset (macro/weighted) <<0.584890476070719>> / <<0.7555178268251274>>.\n",
      "\n",
      "          *** Score on validation dataset (macro/weighted) <<0.6110635871114913>> / <<0.8845500848896435>>.\n",
      "[[3117  390]\n",
      " [  18    9]]\n",
      "\n",
      "          *** Model has been refitted from <<0.6461049322741248>> to <<0.6844343860907295>>.\n",
      "\n",
      "-------------------------------------------------------------------\n",
      "    50. ReFit model for class: <<hospitals>> ((20025, 12008)).\n",
      "    Tuning hyper-parameters for class: <<hospitals>> (Recall).\n",
      "       1. Grid Search model <<<class 'sklearn.svm.classes.LinearSVC'>>>; weight: <<balanced>>; parameters: <<{'C': [0.001, 0.01, 0.1, 1.0, 10.0]}>>\n",
      "Fitting 9 folds for each of 5 candidates, totalling 45 fits\n"
     ]
    },
    {
     "name": "stderr",
     "output_type": "stream",
     "text": [
      "[Parallel(n_jobs=1)]: Done  45 out of  45 | elapsed:   10.2s finished\n"
     ]
    },
    {
     "name": "stdout",
     "output_type": "stream",
     "text": [
      "       Best parameters selected: <<{'C': 0.01}>> for score <<0.7451525177639732>>.\n",
      "       2. Grid Search model <<<class 'sklearn.svm.classes.LinearSVC'>>>; weight: <<balanced>>; parameters: <<{'C': [0.0033, 0.0038, 0.0043, 0.0048, 0.0052, 0.0057, 0.0062, 0.0067, 0.0071, 0.0076, 0.0081, 0.0086, 0.009, 0.0095, 0.01, 0.0114, 0.0129, 0.0143, 0.0157, 0.0171, 0.0186, 0.02, 0.0214, 0.0229, 0.0243, 0.0257, 0.0271, 0.0286, 0.03]}>>\n",
      "Fitting 9 folds for each of 29 candidates, totalling 261 fits\n"
     ]
    },
    {
     "name": "stderr",
     "output_type": "stream",
     "text": [
      "[Parallel(n_jobs=1)]: Done 261 out of 261 | elapsed:   52.0s finished\n"
     ]
    },
    {
     "name": "stdout",
     "output_type": "stream",
     "text": [
      "       Best parameters selected: <<{'C': 0.0043}>> for score <<0.7701811477675601>>.\n",
      "       3. Grid Search model <<<class 'sklearn.svm.classes.LinearSVC'>>>; weight: <<balanced>>; parameters: <<{'C': [0.0014, 0.0016, 0.0018, 0.002, 0.0023, 0.0025, 0.0027, 0.0029, 0.0031, 0.0033, 0.0035, 0.0037, 0.0039, 0.0041, 0.0043, 0.0049, 0.0055, 0.0061, 0.0068, 0.0074, 0.008, 0.0086, 0.0092, 0.0098, 0.0104, 0.0111, 0.0117, 0.0123, 0.0129]}>>\n",
      "Fitting 9 folds for each of 29 candidates, totalling 261 fits\n"
     ]
    },
    {
     "name": "stderr",
     "output_type": "stream",
     "text": [
      "[Parallel(n_jobs=1)]: Done 261 out of 261 | elapsed:   35.3s finished\n"
     ]
    },
    {
     "name": "stdout",
     "output_type": "stream",
     "text": [
      "       Best parameters selected: <<{'C': 0.0043}>> for score <<0.7701811477675601>>.\n",
      "       3. Grid Search model <<<class 'sklearn.svm.classes.LinearSVC'>>>; weight: <<{0: 1.0, 1: 92.13953488372093}>>; parameters: <<{'C': [0.001, 0.01, 0.1, 1.0, 10.0]}>>\n",
      "Fitting 9 folds for each of 5 candidates, totalling 45 fits\n"
     ]
    },
    {
     "name": "stderr",
     "output_type": "stream",
     "text": [
      "[Parallel(n_jobs=1)]: Done  45 out of  45 | elapsed:   11.8s finished\n"
     ]
    },
    {
     "name": "stdout",
     "output_type": "stream",
     "text": [
      "       Best parameters selected: <<{'C': 0.001}>> for score <<0.7587147613051758>>.\n",
      "       4. Grid Search model <<<class 'sklearn.svm.classes.LinearSVC'>>>; weight: <<{0: 1.0, 1: 92.13953488372093}>>; parameters: <<{'C': [0.0003, 0.0004, 0.0004, 0.0005, 0.0005, 0.0006, 0.0006, 0.0007, 0.0007, 0.0008, 0.0008, 0.0009, 0.0009, 0.001, 0.001, 0.0011, 0.0013, 0.0014, 0.0016, 0.0017, 0.0019, 0.002, 0.0021, 0.0023, 0.0024, 0.0026, 0.0027, 0.0029, 0.003]}>>\n",
      "Fitting 9 folds for each of 29 candidates, totalling 261 fits\n"
     ]
    },
    {
     "name": "stderr",
     "output_type": "stream",
     "text": [
      "[Parallel(n_jobs=1)]: Done 261 out of 261 | elapsed:   25.8s finished\n"
     ]
    },
    {
     "name": "stdout",
     "output_type": "stream",
     "text": [
      "       Best parameters selected: <<{'C': 0.0023}>> for score <<0.7708626105483709>>.\n",
      "       5. Grid Search model <<<class 'sklearn.svm.classes.LinearSVC'>>>; weight: <<{0: 1.0, 1: 92.13953488372093}>>; parameters: <<{'C': [0.0008, 0.0009, 0.001, 0.0011, 0.0012, 0.0013, 0.0014, 0.0015, 0.0016, 0.0018, 0.0019, 0.002, 0.0021, 0.0022, 0.0023, 0.0026, 0.003, 0.0033, 0.0036, 0.0039, 0.0043, 0.0046, 0.0049, 0.0053, 0.0056, 0.0059, 0.0062, 0.0066, 0.0069]}>>\n",
      "Fitting 9 folds for each of 29 candidates, totalling 261 fits\n"
     ]
    },
    {
     "name": "stderr",
     "output_type": "stream",
     "text": [
      "[Parallel(n_jobs=1)]: Done 261 out of 261 | elapsed:   38.7s finished\n"
     ]
    },
    {
     "name": "stdout",
     "output_type": "stream",
     "text": [
      "       Best parameters selected: <<{'C': 0.0023}>> for score <<0.7708626105483709>>.\n",
      "       Final parameters selected: <<{'C': 0.0043}>> for score <<0.7701811477675601>>.\n",
      "\n",
      "          *** Prev Score on validation dataset (macro/weighted) <<0.7123408934195569>> / <<0.9418505942275043>>.\n",
      "\n",
      "          *** Score on validation dataset (macro/weighted) <<0.7870409809165368>> / <<0.9125636672325976>>.\n",
      "[[3198  295]\n",
      " [  14   27]]\n",
      "\n",
      "          *** Model has been refitted from <<0.7498427757883915>> to <<0.7701811477675601>>.\n",
      "\n",
      "-------------------------------------------------------------------\n",
      "    51. ReFit model for class: <<shops>> ((20025, 12008)).\n",
      "    Tuning hyper-parameters for class: <<shops>> (Recall).\n",
      "       1. Grid Search model <<<class 'sklearn.svm.classes.LinearSVC'>>>; weight: <<balanced>>; parameters: <<{'C': [0.001, 0.01, 0.1, 1.0, 10.0]}>>\n",
      "Fitting 9 folds for each of 5 candidates, totalling 45 fits\n"
     ]
    },
    {
     "name": "stderr",
     "output_type": "stream",
     "text": [
      "[Parallel(n_jobs=1)]: Done  45 out of  45 | elapsed:    8.7s finished\n"
     ]
    },
    {
     "name": "stdout",
     "output_type": "stream",
     "text": [
      "       Best parameters selected: <<{'C': 0.001}>> for score <<0.6429751222717494>>.\n",
      "       2. Grid Search model <<<class 'sklearn.svm.classes.LinearSVC'>>>; weight: <<balanced>>; parameters: <<{'C': [0.0003, 0.0004, 0.0004, 0.0005, 0.0005, 0.0006, 0.0006, 0.0007, 0.0007, 0.0008, 0.0008, 0.0009, 0.0009, 0.001, 0.001, 0.0011, 0.0013, 0.0014, 0.0016, 0.0017, 0.0019, 0.002, 0.0021, 0.0023, 0.0024, 0.0026, 0.0027, 0.0029, 0.003]}>>\n",
      "Fitting 9 folds for each of 29 candidates, totalling 261 fits\n"
     ]
    },
    {
     "name": "stderr",
     "output_type": "stream",
     "text": [
      "[Parallel(n_jobs=1)]: Done 261 out of 261 | elapsed:   23.9s finished\n"
     ]
    },
    {
     "name": "stdout",
     "output_type": "stream",
     "text": [
      "       Best parameters selected: <<{'C': 0.002}>> for score <<0.6489112643834183>>.\n",
      "       3. Grid Search model <<<class 'sklearn.svm.classes.LinearSVC'>>>; weight: <<balanced>>; parameters: <<{'C': [0.0007, 0.0008, 0.0009, 0.001, 0.001, 0.0011, 0.0012, 0.0013, 0.0014, 0.0015, 0.0016, 0.0017, 0.0018, 0.0019, 0.002, 0.0023, 0.0026, 0.0029, 0.0031, 0.0034, 0.0037, 0.004, 0.0043, 0.0046, 0.0049, 0.0051, 0.0054, 0.0057, 0.006]}>>\n",
      "Fitting 9 folds for each of 29 candidates, totalling 261 fits\n"
     ]
    }
   ],
   "source": [
    "from models.train_classifier import executeMain\n",
    "g_train = True\n",
    "g_debug = False\n",
    "\n",
    "if g_train:\n",
    "    v_model, X_train, X_test, y_train, y_test, y_pred_test = executeMain( 'data/DisasterResponse.db', \n",
    "                                                                          'models/savedModel.pkl',\n",
    "                                                                           p_maxCateg    = 2 if g_debug else None,\n",
    "                                                                           p_CVSplits    = 9,\n",
    "                                                                           p_pointsBin   = 2 if g_debug else 15,\n",
    "                                                                           p_maxFeatures = 12000 )"
   ]
  },
  {
   "cell_type": "code",
   "execution_count": null,
   "metadata": {},
   "outputs": [],
   "source": [
    "from sklearn.externals import joblib\n",
    "from models.HMsgClasses import getTokenizedMessage\n",
    "\n",
    "v_model = joblib.load(\"models/savedModel.pkl\")\n",
    "display(v_model.predict(getTokenizedMessage('We+are+more+than+50+peoples+on+the+street.+please+hlp+us+find+tent+and+food')))"
   ]
  },
  {
   "cell_type": "code",
   "execution_count": null,
   "metadata": {},
   "outputs": [],
   "source": []
  }
 ],
 "metadata": {
  "kernelspec": {
   "display_name": "Python 3",
   "language": "python",
   "name": "python3"
  },
  "language_info": {
   "codemirror_mode": {
    "name": "ipython",
    "version": 3
   },
   "file_extension": ".py",
   "mimetype": "text/x-python",
   "name": "python",
   "nbconvert_exporter": "python",
   "pygments_lexer": "ipython3",
   "version": "3.6.6"
  }
 },
 "nbformat": 4,
 "nbformat_minor": 2
}
