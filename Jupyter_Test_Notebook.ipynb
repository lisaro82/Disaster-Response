{
 "cells": [
  {
   "cell_type": "code",
   "execution_count": 1,
   "metadata": {
    "scrolled": false
   },
   "outputs": [
    {
     "name": "stdout",
     "output_type": "stream",
     "text": [
      "Loading data.\n",
      "    Database filepath <<data/DisasterResponse.db>>\n",
      "    Columns with null values.\n"
     ]
    },
    {
     "data": {
      "text/plain": [
       "original    16024\n",
       "dtype: int64"
      ]
     },
     "metadata": {},
     "output_type": "display_data"
    },
    {
     "name": "stdout",
     "output_type": "stream",
     "text": [
      "    Target created.\n",
      "    Target replace genre column.\n",
      "    Data loaded.\n",
      "Testing dataset created.\n",
      "Validation dataset created.\n",
      "Building model.\n",
      "Check fit_transform method on train data.\n",
      "    Call HMsgExtractMessage ==> fit_transform.\n",
      "    Call HMsgExtractMessage ==> transform.\n",
      "    Call HMsgCountVectorizer ==> fit_transform.\n",
      "    Call HMsgCountVectorizer ==> fitData => (20941,).\n",
      "    Call HMsgCountVectorizer ==> transform.\n",
      "------------------------------------------------------------------\n",
      "Top 100 words are the following: \n",
      "['water', 'peopl', 'food', 'help', 'need', 'pleas', 'earthquak', 'say', 'area', 'like', 'would', 'flood', 'countri', '000', 'know', 'find', 'thank', 'govern', 'also', 'get', 'hous', 'haiti', 'go', 'one', 'rain', 'work', 'inform', 'year', 'sandi', 'provid', 'make', 'affect', 'tent', 'includ', 'aid', 'give', 'nation', 'region', 'famili', 'suppli', 'good', 'relief', 'urlplacehold', 'live', 'child', 'commun', 'come', 'day', 'two', 'send', 'health', 'take', 'messag', 'report', 'distribut', 'school', 'well', 'villag', 'state', 'mani', 'caus', 'use', 'power', 'assist', 'want', 'new', 'support', 'emerg', 'provinc', 'disast', 'million', 'home', 'damag', 'sever', 'sinc', 'time', 'local', 'shelter', 'intern', 'build', 'citi', 'unit', 'continu', 'district', 'victim', 'storm', 'road', 'even', 'hit', 'last', 'receiv', 'call', 'part', 'hurrican', 'leav', 'system', 'crop', 'medic', 'destroy', 'diseas']\n",
      "    Call HMsgTfidfTransformer ==> fit_transform.\n",
      "    Call HMsgTfidfTransformer ==> fit.\n",
      "    Call HMsgTfidfTransformer ==> transform.\n",
      "Check transform method on train data.\n",
      "    Call HMsgExtractMessage ==> transform.\n",
      "    Call HMsgCountVectorizer ==> transform.\n",
      "    Call HMsgTfidfTransformer ==> transform.\n",
      "Transform validation dataset.\n",
      "    Call HMsgExtractMessage ==> transform.\n",
      "    Call HMsgCountVectorizer ==> transform.\n",
      "    Call HMsgTfidfTransformer ==> transform.\n",
      "Training model.\n",
      "    Call HMsgExtractMessage ==> fit_transform.\n",
      "    Call HMsgExtractMessage ==> transform.\n",
      "    Call HMsgCountVectorizer ==> fit_transform.\n",
      "    Call HMsgCountVectorizer ==> fitData => (20941,).\n",
      "    Call HMsgCountVectorizer ==> transform.\n",
      "------------------------------------------------------------------\n",
      "Top 100 words are the following: \n",
      "['water', 'peopl', 'food', 'help', 'need', 'pleas', 'earthquak', 'say', 'area', 'like', 'would', 'flood', 'countri', '000', 'know', 'find', 'thank', 'govern', 'also', 'get', 'hous', 'haiti', 'go', 'one', 'rain', 'work', 'inform', 'year', 'sandi', 'provid', 'make', 'affect', 'tent', 'includ', 'aid', 'give', 'nation', 'region', 'famili', 'suppli', 'good', 'relief', 'urlplacehold', 'live', 'child', 'commun', 'come', 'day', 'two', 'send', 'health', 'take', 'messag', 'report', 'distribut', 'school', 'well', 'villag', 'state', 'mani', 'caus', 'use', 'power', 'assist', 'want', 'new', 'support', 'emerg', 'provinc', 'disast', 'million', 'home', 'damag', 'sever', 'sinc', 'time', 'local', 'shelter', 'intern', 'build', 'citi', 'unit', 'continu', 'district', 'victim', 'storm', 'road', 'even', 'hit', 'last', 'receiv', 'call', 'part', 'hurrican', 'leav', 'system', 'crop', 'medic', 'destroy', 'diseas']\n",
      "    Call HMsgTfidfTransformer ==> fit_transform.\n",
      "    Call HMsgTfidfTransformer ==> fit.\n",
      "    Call HMsgTfidfTransformer ==> transform.\n",
      "\n",
      "-------------------------------------------------------------------\n",
      "    1. Fit model for class: <<genre>> ((20941, 12005)).\n",
      "    Tuning hyper-parameters for class: <<genre>> (Recall).\n",
      "       1. Grid Search model <<<class 'sklearn.svm.classes.LinearSVC'>>>; weight: <<balanced>>; parameters: <<{'C': [0.001, 0.01, 0.1, 1.0, 10.0]}>>\n",
      "Fitting 3 folds for each of 5 candidates, totalling 15 fits\n"
     ]
    },
    {
     "name": "stderr",
     "output_type": "stream",
     "text": [
      "[Parallel(n_jobs=1)]: Done  15 out of  15 | elapsed:    2.9s finished\n"
     ]
    },
    {
     "name": "stdout",
     "output_type": "stream",
     "text": [
      "       Best parameters selected: <<{'C': 1.0}>> for score <<0.943362437640111>>.\n",
      "       2. Grid Search model <<<class 'sklearn.svm.classes.LinearSVC'>>>; weight: <<balanced>>; parameters: <<{'C': [0.3333, 0.5, 0.6667, 0.8333, 1.0, 1.5, 2.0, 2.5, 3.0]}>>\n",
      "Fitting 3 folds for each of 9 candidates, totalling 27 fits\n"
     ]
    },
    {
     "name": "stderr",
     "output_type": "stream",
     "text": [
      "[Parallel(n_jobs=1)]: Done  27 out of  27 | elapsed:    5.2s finished\n"
     ]
    },
    {
     "name": "stdout",
     "output_type": "stream",
     "text": [
      "       Best parameters selected: <<{'C': 0.5}>> for score <<0.9457040990309528>>.\n",
      "       3. Grid Search model <<<class 'sklearn.svm.classes.LinearSVC'>>>; weight: <<balanced>>; parameters: <<{'C': [0.1667, 0.25, 0.3333, 0.4167, 0.5, 0.75, 1.0, 1.25, 1.5]}>>\n",
      "Fitting 3 folds for each of 9 candidates, totalling 27 fits\n"
     ]
    },
    {
     "name": "stderr",
     "output_type": "stream",
     "text": [
      "[Parallel(n_jobs=1)]: Done  27 out of  27 | elapsed:    3.8s finished\n"
     ]
    },
    {
     "name": "stdout",
     "output_type": "stream",
     "text": [
      "       Best parameters selected: <<{'C': 0.4167}>> for score <<0.9459108698179168>>.\n",
      "       4. Grid Search model <<<class 'sklearn.svm.classes.LinearSVC'>>>; weight: <<balanced>>; parameters: <<{'C': [0.1389, 0.2084, 0.2778, 0.3473, 0.4167, 0.625, 0.8334, 1.0418, 1.2501]}>>\n",
      "Fitting 3 folds for each of 9 candidates, totalling 27 fits\n"
     ]
    },
    {
     "name": "stderr",
     "output_type": "stream",
     "text": [
      "[Parallel(n_jobs=1)]: Done  27 out of  27 | elapsed:    3.7s finished\n"
     ]
    },
    {
     "name": "stdout",
     "output_type": "stream",
     "text": [
      "       Best parameters selected: <<{'C': 0.4167}>> for score <<0.9459108698179168>>.\n",
      "       Final parameters selected: <<{'C': 0.4167}>> for score <<0.9459108698179168>> (balanced).\n",
      "\n",
      "          *** Score on validation dataset (macro/weighted) <<0.95021563112804>> / <<0.9614209320091673>>.\n",
      "[[1273   24    3]\n",
      " [  45 1039   12]\n",
      " [   2   15  205]]\n",
      "\n",
      "-------------------------------------------------------------------\n",
      "    2. Fit model for class: <<related>> ((20941, 12006)).\n",
      "    Tuning hyper-parameters for class: <<related>> (Recall).\n",
      "       1. Grid Search model <<<class 'sklearn.svm.classes.LinearSVC'>>>; weight: <<balanced>>; parameters: <<{'C': [0.001, 0.01, 0.1, 1.0, 10.0]}>>\n",
      "Fitting 3 folds for each of 5 candidates, totalling 15 fits\n"
     ]
    },
    {
     "name": "stderr",
     "output_type": "stream",
     "text": [
      "[Parallel(n_jobs=1)]: Done  15 out of  15 | elapsed:    7.8s finished\n"
     ]
    },
    {
     "name": "stdout",
     "output_type": "stream",
     "text": [
      "       Best parameters selected: <<{'C': 0.1}>> for score <<0.6261543147427859>>.\n",
      "       2. Grid Search model <<<class 'sklearn.svm.classes.LinearSVC'>>>; weight: <<balanced>>; parameters: <<{'C': [0.0333, 0.05, 0.0667, 0.0833, 0.1, 0.15, 0.2, 0.25, 0.3]}>>\n",
      "Fitting 3 folds for each of 9 candidates, totalling 27 fits\n"
     ]
    },
    {
     "name": "stderr",
     "output_type": "stream",
     "text": [
      "[Parallel(n_jobs=1)]: Done  27 out of  27 | elapsed:    7.1s finished\n"
     ]
    },
    {
     "name": "stdout",
     "output_type": "stream",
     "text": [
      "       Best parameters selected: <<{'C': 0.2}>> for score <<0.6338745551411261>>.\n",
      "       3. Grid Search model <<<class 'sklearn.svm.classes.LinearSVC'>>>; weight: <<balanced>>; parameters: <<{'C': [0.0667, 0.1, 0.1333, 0.1667, 0.2, 0.3, 0.4, 0.5, 0.6]}>>\n",
      "Fitting 3 folds for each of 9 candidates, totalling 27 fits\n"
     ]
    },
    {
     "name": "stderr",
     "output_type": "stream",
     "text": [
      "[Parallel(n_jobs=1)]: Done  27 out of  27 | elapsed:    9.5s finished\n"
     ]
    },
    {
     "name": "stdout",
     "output_type": "stream",
     "text": [
      "       Best parameters selected: <<{'C': 0.2}>> for score <<0.6338745551411261>>.\n",
      "       3. Grid Search model <<<class 'sklearn.svm.classes.LinearSVC'>>>; weight: <<{1: 1.0, 0: 6.541795029780242, 2: 109.08219178082192}>>; parameters: <<{'C': [0.001, 0.01, 0.1, 1.0, 10.0]}>>\n",
      "Fitting 3 folds for each of 5 candidates, totalling 15 fits\n"
     ]
    },
    {
     "name": "stderr",
     "output_type": "stream",
     "text": [
      "[Parallel(n_jobs=1)]: Done  15 out of  15 | elapsed:   10.1s finished\n"
     ]
    },
    {
     "name": "stdout",
     "output_type": "stream",
     "text": [
      "       Best parameters selected: <<{'C': 1.0}>> for score <<0.6157792935025679>>.\n",
      "       4. Grid Search model <<<class 'sklearn.svm.classes.LinearSVC'>>>; weight: <<{1: 1.0, 0: 6.541795029780242, 2: 109.08219178082192}>>; parameters: <<{'C': [0.3333, 0.5, 0.6667, 0.8333, 1.0, 1.5, 2.0, 2.5, 3.0]}>>\n",
      "Fitting 3 folds for each of 9 candidates, totalling 27 fits\n"
     ]
    },
    {
     "name": "stderr",
     "output_type": "stream",
     "text": [
      "[Parallel(n_jobs=1)]: Done  27 out of  27 | elapsed:   28.9s finished\n"
     ]
    },
    {
     "name": "stdout",
     "output_type": "stream",
     "text": [
      "       Best parameters selected: <<{'C': 0.3333}>> for score <<0.6160637666573706>>.\n",
      "       5. Grid Search model <<<class 'sklearn.svm.classes.LinearSVC'>>>; weight: <<{1: 1.0, 0: 6.541795029780242, 2: 109.08219178082192}>>; parameters: <<{'C': [0.1111, 0.1666, 0.2222, 0.2778, 0.3333, 0.5, 0.6666, 0.8332, 0.9999]}>>\n",
      "Fitting 3 folds for each of 9 candidates, totalling 27 fits\n"
     ]
    },
    {
     "name": "stderr",
     "output_type": "stream",
     "text": [
      "[Parallel(n_jobs=1)]: Done  27 out of  27 | elapsed:   21.4s finished\n"
     ]
    },
    {
     "name": "stdout",
     "output_type": "stream",
     "text": [
      "       Best parameters selected: <<{'C': 0.3333}>> for score <<0.6160637666573706>>.\n",
      "       Final parameters selected: <<{'C': 0.2}>> for score <<0.6338745551411261>> (balanced).\n",
      "\n",
      "          *** Score on validation dataset (macro/weighted) <<0.7490602857904699>> / <<0.833842627960275>>.\n",
      "[[ 410  205    4]\n",
      " [ 215 1757    4]\n",
      " [   3    4   16]]\n",
      "\n",
      "-------------------------------------------------------------------\n",
      "    3. Fit model for class: <<request>> ((20941, 12006)).\n",
      "    Tuning hyper-parameters for class: <<request>> (Recall).\n",
      "       1. Grid Search model <<<class 'sklearn.svm.classes.LinearSVC'>>>; weight: <<balanced>>; parameters: <<{'C': [0.001, 0.01, 0.1, 1.0, 10.0]}>>\n",
      "Fitting 3 folds for each of 5 candidates, totalling 15 fits\n"
     ]
    },
    {
     "name": "stderr",
     "output_type": "stream",
     "text": [
      "[Parallel(n_jobs=1)]: Done  15 out of  15 | elapsed:    3.1s finished\n"
     ]
    },
    {
     "name": "stdout",
     "output_type": "stream",
     "text": [
      "       Best parameters selected: <<{'C': 0.1}>> for score <<0.8275065999054602>>.\n",
      "       2. Grid Search model <<<class 'sklearn.svm.classes.LinearSVC'>>>; weight: <<balanced>>; parameters: <<{'C': [0.0333, 0.05, 0.0667, 0.0833, 0.1, 0.15, 0.2, 0.25, 0.3]}>>\n",
      "Fitting 3 folds for each of 9 candidates, totalling 27 fits\n"
     ]
    },
    {
     "name": "stderr",
     "output_type": "stream",
     "text": [
      "[Parallel(n_jobs=1)]: Done  27 out of  27 | elapsed:    2.3s finished\n"
     ]
    },
    {
     "name": "stdout",
     "output_type": "stream",
     "text": [
      "       Best parameters selected: <<{'C': 0.0833}>> for score <<0.8275625971062974>>.\n",
      "       3. Grid Search model <<<class 'sklearn.svm.classes.LinearSVC'>>>; weight: <<balanced>>; parameters: <<{'C': [0.0278, 0.0416, 0.0555, 0.0694, 0.0833, 0.125, 0.1666, 0.2082, 0.2499]}>>\n",
      "Fitting 3 folds for each of 9 candidates, totalling 27 fits\n"
     ]
    },
    {
     "name": "stderr",
     "output_type": "stream",
     "text": [
      "[Parallel(n_jobs=1)]: Done  27 out of  27 | elapsed:    2.1s finished\n"
     ]
    },
    {
     "name": "stdout",
     "output_type": "stream",
     "text": [
      "       Best parameters selected: <<{'C': 0.125}>> for score <<0.8279629353547983>>.\n",
      "       4. Grid Search model <<<class 'sklearn.svm.classes.LinearSVC'>>>; weight: <<balanced>>; parameters: <<{'C': [0.0417, 0.0625, 0.0833, 0.1042, 0.125, 0.1875, 0.25, 0.3125, 0.375]}>>\n",
      "Fitting 3 folds for each of 9 candidates, totalling 27 fits\n"
     ]
    },
    {
     "name": "stderr",
     "output_type": "stream",
     "text": [
      "[Parallel(n_jobs=1)]: Done  27 out of  27 | elapsed:    2.7s finished\n"
     ]
    },
    {
     "name": "stdout",
     "output_type": "stream",
     "text": [
      "       Best parameters selected: <<{'C': 0.125}>> for score <<0.8279629353547983>>.\n",
      "       4. Grid Search model <<<class 'sklearn.svm.classes.LinearSVC'>>>; weight: <<{0: 1.0, 1: 9.901676612674054}>>; parameters: <<{'C': [0.001, 0.01, 0.1, 1.0, 10.0]}>>\n",
      "Fitting 3 folds for each of 5 candidates, totalling 15 fits\n"
     ]
    },
    {
     "name": "stderr",
     "output_type": "stream",
     "text": [
      "[Parallel(n_jobs=1)]: Done  15 out of  15 | elapsed:    4.9s finished\n"
     ]
    },
    {
     "name": "stdout",
     "output_type": "stream",
     "text": [
      "       Best parameters selected: <<{'C': 0.1}>> for score <<0.8222057957401675>>.\n",
      "       5. Grid Search model <<<class 'sklearn.svm.classes.LinearSVC'>>>; weight: <<{0: 1.0, 1: 9.901676612674054}>>; parameters: <<{'C': [0.0333, 0.05, 0.0667, 0.0833, 0.1, 0.15, 0.2, 0.25, 0.3]}>>\n",
      "Fitting 3 folds for each of 9 candidates, totalling 27 fits\n"
     ]
    },
    {
     "name": "stderr",
     "output_type": "stream",
     "text": [
      "[Parallel(n_jobs=1)]: Done  27 out of  27 | elapsed:    5.2s finished\n"
     ]
    },
    {
     "name": "stdout",
     "output_type": "stream",
     "text": [
      "       Best parameters selected: <<{'C': 0.1}>> for score <<0.8222057957401675>>.\n",
      "       Final parameters selected: <<{'C': 0.125}>> for score <<0.8279629353547983>> (balanced).\n",
      "\n",
      "          *** Score on validation dataset (macro/weighted) <<0.8007956408134118>> / <<0.8567608861726509>>.\n",
      "[[1917  245]\n",
      " [ 130  326]]\n",
      "\n",
      "-------------------------------------------------------------------\n",
      "    4. Fit model for class: <<offer>> ((20941, 12006)).\n",
      "    Tuning hyper-parameters for class: <<offer>> (Recall).\n",
      "       1. Grid Search model <<<class 'sklearn.svm.classes.LinearSVC'>>>; weight: <<balanced>>; parameters: <<{'C': [0.001, 0.01, 0.1, 1.0, 10.0]}>>\n",
      "Fitting 3 folds for each of 5 candidates, totalling 15 fits\n"
     ]
    },
    {
     "name": "stderr",
     "output_type": "stream",
     "text": [
      "[Parallel(n_jobs=1)]: Done  15 out of  15 | elapsed:    1.3s finished\n"
     ]
    },
    {
     "name": "stdout",
     "output_type": "stream",
     "text": [
      "       Best parameters selected: <<{'C': 0.001}>> for score <<0.6514445397283831>>.\n",
      "       2. Grid Search model <<<class 'sklearn.svm.classes.LinearSVC'>>>; weight: <<balanced>>; parameters: <<{'C': [0.0003, 0.0005, 0.0007, 0.0008, 0.001, 0.0015, 0.002, 0.0025, 0.003]}>>\n",
      "Fitting 3 folds for each of 9 candidates, totalling 27 fits\n"
     ]
    },
    {
     "name": "stderr",
     "output_type": "stream",
     "text": [
      "[Parallel(n_jobs=1)]: Done  27 out of  27 | elapsed:    1.1s finished\n"
     ]
    },
    {
     "name": "stdout",
     "output_type": "stream",
     "text": [
      "       Best parameters selected: <<{'C': 0.001}>> for score <<0.6514445397283831>>.\n",
      "       2. Grid Search model <<<class 'sklearn.svm.classes.LinearSVC'>>>; weight: <<{0: 1.0, 1: 226.61956521739128}>>; parameters: <<{'C': [0.001, 0.01, 0.1, 1.0, 10.0]}>>\n",
      "Fitting 3 folds for each of 5 candidates, totalling 15 fits\n"
     ]
    },
    {
     "name": "stderr",
     "output_type": "stream",
     "text": [
      "[Parallel(n_jobs=1)]: Done  15 out of  15 | elapsed:    1.4s finished\n"
     ]
    },
    {
     "name": "stdout",
     "output_type": "stream",
     "text": [
      "       Best parameters selected: <<{'C': 0.001}>> for score <<0.6098614405613811>>.\n",
      "       3. Grid Search model <<<class 'sklearn.svm.classes.LinearSVC'>>>; weight: <<{0: 1.0, 1: 226.61956521739128}>>; parameters: <<{'C': [0.0003, 0.0005, 0.0007, 0.0008, 0.001, 0.0015, 0.002, 0.0025, 0.003]}>>\n",
      "Fitting 3 folds for each of 9 candidates, totalling 27 fits\n"
     ]
    },
    {
     "name": "stderr",
     "output_type": "stream",
     "text": [
      "[Parallel(n_jobs=1)]: Done  27 out of  27 | elapsed:    1.6s finished\n"
     ]
    },
    {
     "name": "stdout",
     "output_type": "stream",
     "text": [
      "       Best parameters selected: <<{'C': 0.0005}>> for score <<0.6386286572102625>>.\n",
      "       4. Grid Search model <<<class 'sklearn.svm.classes.LinearSVC'>>>; weight: <<{0: 1.0, 1: 226.61956521739128}>>; parameters: <<{'C': [0.0002, 0.0002, 0.0003, 0.0004, 0.0005, 0.0008, 0.001, 0.0012, 0.0015]}>>\n",
      "Fitting 3 folds for each of 9 candidates, totalling 27 fits\n"
     ]
    },
    {
     "name": "stderr",
     "output_type": "stream",
     "text": [
      "[Parallel(n_jobs=1)]: Done  27 out of  27 | elapsed:    1.4s finished\n"
     ]
    },
    {
     "name": "stdout",
     "output_type": "stream",
     "text": [
      "       Best parameters selected: <<{'C': 0.0002}>> for score <<0.6415286750958836>>.\n",
      "       5. Grid Search model <<<class 'sklearn.svm.classes.LinearSVC'>>>; weight: <<{0: 1.0, 1: 226.61956521739128}>>; parameters: <<{'C': [0.0001, 0.0001, 0.0001, 0.0002, 0.0002, 0.0003, 0.0004, 0.0005, 0.0006]}>>\n",
      "Fitting 3 folds for each of 9 candidates, totalling 27 fits\n"
     ]
    },
    {
     "name": "stderr",
     "output_type": "stream",
     "text": [
      "[Parallel(n_jobs=1)]: Done  27 out of  27 | elapsed:    0.8s finished\n"
     ]
    },
    {
     "name": "stdout",
     "output_type": "stream",
     "text": [
      "       Best parameters selected: <<{'C': 0.0002}>> for score <<0.6415286750958836>>.\n",
      "       Final parameters selected: <<{'C': 0.001}>> for score <<0.6514445397283831>> (balanced).\n",
      "\n",
      "          *** Score on validation dataset (macro/weighted) <<0.8071620068939104>> / <<0.8995416348357524>>.\n",
      "[[2350  261]\n",
      " [   2    5]]\n",
      "\n",
      "-------------------------------------------------------------------\n",
      "    5. Fit model for class: <<aid_related>> ((20941, 12006)).\n",
      "    Tuning hyper-parameters for class: <<aid_related>> (Recall).\n",
      "       1. Grid Search model <<<class 'sklearn.svm.classes.LinearSVC'>>>; weight: <<balanced>>; parameters: <<{'C': [0.001, 0.01, 0.1, 1.0, 10.0]}>>\n",
      "Fitting 3 folds for each of 5 candidates, totalling 15 fits\n"
     ]
    },
    {
     "name": "stderr",
     "output_type": "stream",
     "text": [
      "[Parallel(n_jobs=1)]: Done  15 out of  15 | elapsed:    3.9s finished\n"
     ]
    },
    {
     "name": "stdout",
     "output_type": "stream",
     "text": [
      "       Best parameters selected: <<{'C': 0.1}>> for score <<0.7734587555520649>>.\n",
      "       2. Grid Search model <<<class 'sklearn.svm.classes.LinearSVC'>>>; weight: <<balanced>>; parameters: <<{'C': [0.0333, 0.05, 0.0667, 0.0833, 0.1, 0.15, 0.2, 0.25, 0.3]}>>\n",
      "Fitting 3 folds for each of 9 candidates, totalling 27 fits\n"
     ]
    },
    {
     "name": "stderr",
     "output_type": "stream",
     "text": [
      "[Parallel(n_jobs=1)]: Done  27 out of  27 | elapsed:    1.6s finished\n"
     ]
    },
    {
     "name": "stdout",
     "output_type": "stream",
     "text": [
      "       Best parameters selected: <<{'C': 0.1}>> for score <<0.7734587555520649>>.\n",
      "       2. Grid Search model <<<class 'sklearn.svm.classes.LinearSVC'>>>; weight: <<{0: 1.0, 1: 2.8519462465245597}>>; parameters: <<{'C': [0.001, 0.01, 0.1, 1.0, 10.0]}>>\n",
      "Fitting 3 folds for each of 5 candidates, totalling 15 fits\n"
     ]
    },
    {
     "name": "stderr",
     "output_type": "stream",
     "text": [
      "[Parallel(n_jobs=1)]: Done  15 out of  15 | elapsed:    4.9s finished\n"
     ]
    },
    {
     "name": "stdout",
     "output_type": "stream",
     "text": [
      "       Best parameters selected: <<{'C': 0.1}>> for score <<0.7595336678416058>>.\n",
      "       3. Grid Search model <<<class 'sklearn.svm.classes.LinearSVC'>>>; weight: <<{0: 1.0, 1: 2.8519462465245597}>>; parameters: <<{'C': [0.0333, 0.05, 0.0667, 0.0833, 0.1, 0.15, 0.2, 0.25, 0.3]}>>\n",
      "Fitting 3 folds for each of 9 candidates, totalling 27 fits\n"
     ]
    },
    {
     "name": "stderr",
     "output_type": "stream",
     "text": [
      "[Parallel(n_jobs=1)]: Done  27 out of  27 | elapsed:    2.6s finished\n"
     ]
    },
    {
     "name": "stdout",
     "output_type": "stream",
     "text": [
      "       Best parameters selected: <<{'C': 0.15}>> for score <<0.7602668185807772>>.\n",
      "       4. Grid Search model <<<class 'sklearn.svm.classes.LinearSVC'>>>; weight: <<{0: 1.0, 1: 2.8519462465245597}>>; parameters: <<{'C': [0.05, 0.075, 0.1, 0.125, 0.15, 0.225, 0.3, 0.375, 0.45]}>>\n",
      "Fitting 3 folds for each of 9 candidates, totalling 27 fits\n"
     ]
    },
    {
     "name": "stderr",
     "output_type": "stream",
     "text": [
      "[Parallel(n_jobs=1)]: Done  27 out of  27 | elapsed:    3.6s finished\n"
     ]
    },
    {
     "name": "stdout",
     "output_type": "stream",
     "text": [
      "       Best parameters selected: <<{'C': 0.15}>> for score <<0.7602668185807772>>.\n",
      "       Final parameters selected: <<{'C': 0.1}>> for score <<0.7734587555520649>> (balanced).\n",
      "\n",
      "          *** Score on validation dataset (macro/weighted) <<0.7653087963254452>> / <<0.771581359816654>>.\n",
      "[[1224  299]\n",
      " [ 299  796]]\n",
      "\n",
      "-------------------------------------------------------------------\n",
      "    6. Fit model for class: <<medical_help>> ((20941, 12006)).\n",
      "    Tuning hyper-parameters for class: <<medical_help>> (Recall).\n",
      "       1. Grid Search model <<<class 'sklearn.svm.classes.LinearSVC'>>>; weight: <<balanced>>; parameters: <<{'C': [0.001, 0.01, 0.1, 1.0, 10.0]}>>\n",
      "Fitting 3 folds for each of 5 candidates, totalling 15 fits\n"
     ]
    },
    {
     "name": "stderr",
     "output_type": "stream",
     "text": [
      "[Parallel(n_jobs=1)]: Done  15 out of  15 | elapsed:    3.6s finished\n"
     ]
    },
    {
     "name": "stdout",
     "output_type": "stream",
     "text": [
      "       Best parameters selected: <<{'C': 0.01}>> for score <<0.7707583872129355>>.\n",
      "       2. Grid Search model <<<class 'sklearn.svm.classes.LinearSVC'>>>; weight: <<balanced>>; parameters: <<{'C': [0.0033, 0.005, 0.0067, 0.0083, 0.01, 0.015, 0.02, 0.025, 0.03]}>>\n",
      "Fitting 3 folds for each of 9 candidates, totalling 27 fits\n"
     ]
    },
    {
     "name": "stderr",
     "output_type": "stream",
     "text": [
      "[Parallel(n_jobs=1)]: Done  27 out of  27 | elapsed:    1.1s finished\n"
     ]
    },
    {
     "name": "stdout",
     "output_type": "stream",
     "text": [
      "       Best parameters selected: <<{'C': 0.025}>> for score <<0.7802241392948639>>.\n",
      "       3. Grid Search model <<<class 'sklearn.svm.classes.LinearSVC'>>>; weight: <<balanced>>; parameters: <<{'C': [0.0083, 0.0125, 0.0167, 0.0208, 0.025, 0.0375, 0.05, 0.0625, 0.075]}>>\n",
      "Fitting 3 folds for each of 9 candidates, totalling 27 fits\n"
     ]
    },
    {
     "name": "stderr",
     "output_type": "stream",
     "text": [
      "[Parallel(n_jobs=1)]: Done  27 out of  27 | elapsed:    1.7s finished\n"
     ]
    },
    {
     "name": "stdout",
     "output_type": "stream",
     "text": [
      "       Best parameters selected: <<{'C': 0.025}>> for score <<0.7802241392948639>>.\n",
      "       3. Grid Search model <<<class 'sklearn.svm.classes.LinearSVC'>>>; weight: <<{0: 1.0, 1: 23.662990196078432}>>; parameters: <<{'C': [0.001, 0.01, 0.1, 1.0, 10.0]}>>\n",
      "Fitting 3 folds for each of 5 candidates, totalling 15 fits\n"
     ]
    },
    {
     "name": "stderr",
     "output_type": "stream",
     "text": [
      "[Parallel(n_jobs=1)]: Done  15 out of  15 | elapsed:    4.5s finished\n"
     ]
    },
    {
     "name": "stdout",
     "output_type": "stream",
     "text": [
      "       Best parameters selected: <<{'C': 0.1}>> for score <<0.7565447551557163>>.\n",
      "       4. Grid Search model <<<class 'sklearn.svm.classes.LinearSVC'>>>; weight: <<{0: 1.0, 1: 23.662990196078432}>>; parameters: <<{'C': [0.0333, 0.05, 0.0667, 0.0833, 0.1, 0.15, 0.2, 0.25, 0.3]}>>\n",
      "Fitting 3 folds for each of 9 candidates, totalling 27 fits\n"
     ]
    },
    {
     "name": "stderr",
     "output_type": "stream",
     "text": [
      "[Parallel(n_jobs=1)]: Done  27 out of  27 | elapsed:    8.2s finished\n"
     ]
    },
    {
     "name": "stdout",
     "output_type": "stream",
     "text": [
      "       Best parameters selected: <<{'C': 0.0333}>> for score <<0.7741678979863277>>.\n",
      "       5. Grid Search model <<<class 'sklearn.svm.classes.LinearSVC'>>>; weight: <<{0: 1.0, 1: 23.662990196078432}>>; parameters: <<{'C': [0.0111, 0.0167, 0.0222, 0.0278, 0.0333, 0.05, 0.0666, 0.0833, 0.0999]}>>\n",
      "Fitting 3 folds for each of 9 candidates, totalling 27 fits\n"
     ]
    },
    {
     "name": "stderr",
     "output_type": "stream",
     "text": [
      "[Parallel(n_jobs=1)]: Done  27 out of  27 | elapsed:    4.0s finished\n"
     ]
    },
    {
     "name": "stdout",
     "output_type": "stream",
     "text": [
      "       Best parameters selected: <<{'C': 0.0333}>> for score <<0.7741678979863277>>.\n",
      "       Final parameters selected: <<{'C': 0.025}>> for score <<0.7802241392948639>> (balanced).\n",
      "\n",
      "          *** Score on validation dataset (macro/weighted) <<0.7813773627290523>> / <<0.8666921313980137>>.\n",
      "[[2119  278]\n",
      " [  71  150]]\n",
      "\n",
      "-------------------------------------------------------------------\n",
      "    7. Fit model for class: <<medical_products>> ((20941, 12006)).\n",
      "    Tuning hyper-parameters for class: <<medical_products>> (Recall).\n",
      "       1. Grid Search model <<<class 'sklearn.svm.classes.LinearSVC'>>>; weight: <<balanced>>; parameters: <<{'C': [0.001, 0.01, 0.1, 1.0, 10.0]}>>\n",
      "Fitting 3 folds for each of 5 candidates, totalling 15 fits\n"
     ]
    },
    {
     "name": "stderr",
     "output_type": "stream",
     "text": [
      "[Parallel(n_jobs=1)]: Done  15 out of  15 | elapsed:    2.5s finished\n"
     ]
    },
    {
     "name": "stdout",
     "output_type": "stream",
     "text": [
      "       Best parameters selected: <<{'C': 0.01}>> for score <<0.7794964976891723>>.\n",
      "       2. Grid Search model <<<class 'sklearn.svm.classes.LinearSVC'>>>; weight: <<balanced>>; parameters: <<{'C': [0.0033, 0.005, 0.0067, 0.0083, 0.01, 0.015, 0.02, 0.025, 0.03]}>>\n",
      "Fitting 3 folds for each of 9 candidates, totalling 27 fits\n"
     ]
    },
    {
     "name": "stderr",
     "output_type": "stream",
     "text": [
      "[Parallel(n_jobs=1)]: Done  27 out of  27 | elapsed:    1.2s finished\n"
     ]
    },
    {
     "name": "stdout",
     "output_type": "stream",
     "text": [
      "       Best parameters selected: <<{'C': 0.025}>> for score <<0.7835321013893888>>.\n",
      "       3. Grid Search model <<<class 'sklearn.svm.classes.LinearSVC'>>>; weight: <<balanced>>; parameters: <<{'C': [0.0083, 0.0125, 0.0167, 0.0208, 0.025, 0.0375, 0.05, 0.0625, 0.075]}>>\n",
      "Fitting 3 folds for each of 9 candidates, totalling 27 fits\n"
     ]
    },
    {
     "name": "stderr",
     "output_type": "stream",
     "text": [
      "[Parallel(n_jobs=1)]: Done  27 out of  27 | elapsed:    1.9s finished\n"
     ]
    },
    {
     "name": "stdout",
     "output_type": "stream",
     "text": [
      "       Best parameters selected: <<{'C': 0.025}>> for score <<0.7835321013893888>>.\n",
      "       3. Grid Search model <<<class 'sklearn.svm.classes.LinearSVC'>>>; weight: <<{0: 1.0, 1: 38.504835589941976}>>; parameters: <<{'C': [0.001, 0.01, 0.1, 1.0, 10.0]}>>\n",
      "Fitting 3 folds for each of 5 candidates, totalling 15 fits\n"
     ]
    },
    {
     "name": "stderr",
     "output_type": "stream",
     "text": [
      "[Parallel(n_jobs=1)]: Done  15 out of  15 | elapsed:    3.4s finished\n"
     ]
    },
    {
     "name": "stdout",
     "output_type": "stream",
     "text": [
      "       Best parameters selected: <<{'C': 0.01}>> for score <<0.7861596086776271>>.\n",
      "       4. Grid Search model <<<class 'sklearn.svm.classes.LinearSVC'>>>; weight: <<{0: 1.0, 1: 38.504835589941976}>>; parameters: <<{'C': [0.0033, 0.005, 0.0067, 0.0083, 0.01, 0.015, 0.02, 0.025, 0.03]}>>\n",
      "Fitting 3 folds for each of 9 candidates, totalling 27 fits\n"
     ]
    },
    {
     "name": "stderr",
     "output_type": "stream",
     "text": [
      "[Parallel(n_jobs=1)]: Done  27 out of  27 | elapsed:    2.5s finished\n"
     ]
    },
    {
     "name": "stdout",
     "output_type": "stream",
     "text": [
      "       Best parameters selected: <<{'C': 0.015}>> for score <<0.7902569147362997>>.\n",
      "       5. Grid Search model <<<class 'sklearn.svm.classes.LinearSVC'>>>; weight: <<{0: 1.0, 1: 38.504835589941976}>>; parameters: <<{'C': [0.005, 0.0075, 0.01, 0.0125, 0.015, 0.0225, 0.03, 0.0375, 0.045]}>>\n",
      "Fitting 3 folds for each of 9 candidates, totalling 27 fits\n"
     ]
    },
    {
     "name": "stderr",
     "output_type": "stream",
     "text": [
      "[Parallel(n_jobs=1)]: Done  27 out of  27 | elapsed:    2.7s finished\n"
     ]
    },
    {
     "name": "stdout",
     "output_type": "stream",
     "text": [
      "       Best parameters selected: <<{'C': 0.015}>> for score <<0.7902569147362997>>.\n",
      "       Final parameters selected: <<{'C': 0.025}>> for score <<0.7835321013893888>> (balanced).\n",
      "\n",
      "          *** Score on validation dataset (macro/weighted) <<0.8050660450660451>> / <<0.893048128342246>>.\n",
      "[[2237  238]\n",
      " [  42  101]]\n",
      "\n",
      "-------------------------------------------------------------------\n",
      "    8. Fit model for class: <<search_and_rescue>> ((20941, 12006)).\n",
      "    Tuning hyper-parameters for class: <<search_and_rescue>> (Recall).\n",
      "       1. Grid Search model <<<class 'sklearn.svm.classes.LinearSVC'>>>; weight: <<balanced>>; parameters: <<{'C': [0.001, 0.01, 0.1, 1.0, 10.0]}>>\n",
      "Fitting 3 folds for each of 5 candidates, totalling 15 fits\n"
     ]
    },
    {
     "name": "stderr",
     "output_type": "stream",
     "text": [
      "[Parallel(n_jobs=1)]: Done  15 out of  15 | elapsed:    2.9s finished\n"
     ]
    },
    {
     "name": "stdout",
     "output_type": "stream",
     "text": [
      "       Best parameters selected: <<{'C': 0.01}>> for score <<0.7110913506571269>>.\n",
      "       2. Grid Search model <<<class 'sklearn.svm.classes.LinearSVC'>>>; weight: <<balanced>>; parameters: <<{'C': [0.0033, 0.005, 0.0067, 0.0083, 0.01, 0.015, 0.02, 0.025, 0.03]}>>\n",
      "Fitting 3 folds for each of 9 candidates, totalling 27 fits\n"
     ]
    },
    {
     "name": "stderr",
     "output_type": "stream",
     "text": [
      "[Parallel(n_jobs=1)]: Done  27 out of  27 | elapsed:    1.7s finished\n"
     ]
    },
    {
     "name": "stdout",
     "output_type": "stream",
     "text": [
      "       Best parameters selected: <<{'C': 0.015}>> for score <<0.7113683098738596>>.\n",
      "       3. Grid Search model <<<class 'sklearn.svm.classes.LinearSVC'>>>; weight: <<balanced>>; parameters: <<{'C': [0.005, 0.0075, 0.01, 0.0125, 0.015, 0.0225, 0.03, 0.0375, 0.045]}>>\n",
      "Fitting 3 folds for each of 9 candidates, totalling 27 fits\n"
     ]
    },
    {
     "name": "stderr",
     "output_type": "stream",
     "text": [
      "[Parallel(n_jobs=1)]: Done  27 out of  27 | elapsed:    2.1s finished\n"
     ]
    },
    {
     "name": "stdout",
     "output_type": "stream",
     "text": [
      "       Best parameters selected: <<{'C': 0.015}>> for score <<0.7113683098738596>>.\n",
      "       3. Grid Search model <<<class 'sklearn.svm.classes.LinearSVC'>>>; weight: <<{0: 1.0, 1: 70.96515679442508}>>; parameters: <<{'C': [0.001, 0.01, 0.1, 1.0, 10.0]}>>\n",
      "Fitting 3 folds for each of 5 candidates, totalling 15 fits\n"
     ]
    },
    {
     "name": "stderr",
     "output_type": "stream",
     "text": [
      "[Parallel(n_jobs=1)]: Done  15 out of  15 | elapsed:    3.6s finished\n"
     ]
    },
    {
     "name": "stdout",
     "output_type": "stream",
     "text": [
      "       Best parameters selected: <<{'C': 0.01}>> for score <<0.7131637492593321>>.\n",
      "       4. Grid Search model <<<class 'sklearn.svm.classes.LinearSVC'>>>; weight: <<{0: 1.0, 1: 70.96515679442508}>>; parameters: <<{'C': [0.0033, 0.005, 0.0067, 0.0083, 0.01, 0.015, 0.02, 0.025, 0.03]}>>\n",
      "Fitting 3 folds for each of 9 candidates, totalling 27 fits\n"
     ]
    },
    {
     "name": "stderr",
     "output_type": "stream",
     "text": [
      "[Parallel(n_jobs=1)]: Done  27 out of  27 | elapsed:    3.9s finished\n"
     ]
    },
    {
     "name": "stdout",
     "output_type": "stream",
     "text": [
      "       Best parameters selected: <<{'C': 0.01}>> for score <<0.7131637492593321>>.\n",
      "       Final parameters selected: <<{'C': 0.015}>> for score <<0.7113683098738596>> (balanced).\n",
      "\n",
      "          *** Score on validation dataset (macro/weighted) <<0.7193752150004238>> / <<0.8838808250572956>>.\n",
      "[[2271  268]\n",
      " [  36   43]]\n",
      "\n",
      "-------------------------------------------------------------------\n",
      "    9. Fit model for class: <<security>> ((20941, 12006)).\n",
      "    Tuning hyper-parameters for class: <<security>> (Recall).\n",
      "       1. Grid Search model <<<class 'sklearn.svm.classes.LinearSVC'>>>; weight: <<balanced>>; parameters: <<{'C': [0.001, 0.01, 0.1, 1.0, 10.0]}>>\n",
      "Fitting 3 folds for each of 5 candidates, totalling 15 fits\n"
     ]
    },
    {
     "name": "stderr",
     "output_type": "stream",
     "text": [
      "[Parallel(n_jobs=1)]: Done  15 out of  15 | elapsed:    2.5s finished\n"
     ]
    },
    {
     "name": "stdout",
     "output_type": "stream",
     "text": [
      "       Best parameters selected: <<{'C': 0.01}>> for score <<0.6410446193354212>>.\n",
      "       2. Grid Search model <<<class 'sklearn.svm.classes.LinearSVC'>>>; weight: <<balanced>>; parameters: <<{'C': [0.0033, 0.005, 0.0067, 0.0083, 0.01, 0.015, 0.02, 0.025, 0.03]}>>\n",
      "Fitting 3 folds for each of 9 candidates, totalling 27 fits\n"
     ]
    },
    {
     "name": "stderr",
     "output_type": "stream",
     "text": [
      "[Parallel(n_jobs=1)]: Done  27 out of  27 | elapsed:    1.8s finished\n"
     ]
    },
    {
     "name": "stdout",
     "output_type": "stream",
     "text": [
      "       Best parameters selected: <<{'C': 0.0083}>> for score <<0.6441350474461893>>.\n",
      "       3. Grid Search model <<<class 'sklearn.svm.classes.LinearSVC'>>>; weight: <<balanced>>; parameters: <<{'C': [0.0028, 0.0042, 0.0055, 0.0069, 0.0083, 0.0124, 0.0166, 0.0207, 0.0249]}>>\n",
      "Fitting 3 folds for each of 9 candidates, totalling 27 fits\n"
     ]
    },
    {
     "name": "stderr",
     "output_type": "stream",
     "text": [
      "[Parallel(n_jobs=1)]: Done  27 out of  27 | elapsed:    1.8s finished\n"
     ]
    },
    {
     "name": "stdout",
     "output_type": "stream",
     "text": [
      "       Best parameters selected: <<{'C': 0.0055}>> for score <<0.6478261690963336>>.\n",
      "       4. Grid Search model <<<class 'sklearn.svm.classes.LinearSVC'>>>; weight: <<balanced>>; parameters: <<{'C': [0.0018, 0.0028, 0.0037, 0.0046, 0.0055, 0.0082, 0.011, 0.0138, 0.0165]}>>\n",
      "Fitting 3 folds for each of 9 candidates, totalling 27 fits\n"
     ]
    },
    {
     "name": "stderr",
     "output_type": "stream",
     "text": [
      "[Parallel(n_jobs=1)]: Done  27 out of  27 | elapsed:    1.6s finished\n"
     ]
    },
    {
     "name": "stdout",
     "output_type": "stream",
     "text": [
      "       Best parameters selected: <<{'C': 0.0055}>> for score <<0.6478261690963336>>.\n",
      "       4. Grid Search model <<<class 'sklearn.svm.classes.LinearSVC'>>>; weight: <<{0: 1.0, 1: 53.67624020887728}>>; parameters: <<{'C': [0.001, 0.01, 0.1, 1.0, 10.0]}>>\n",
      "Fitting 3 folds for each of 5 candidates, totalling 15 fits\n"
     ]
    },
    {
     "name": "stderr",
     "output_type": "stream",
     "text": [
      "[Parallel(n_jobs=1)]: Done  15 out of  15 | elapsed:    3.1s finished\n"
     ]
    },
    {
     "name": "stdout",
     "output_type": "stream",
     "text": [
      "       Best parameters selected: <<{'C': 0.01}>> for score <<0.6313995308147435>>.\n",
      "       5. Grid Search model <<<class 'sklearn.svm.classes.LinearSVC'>>>; weight: <<{0: 1.0, 1: 53.67624020887728}>>; parameters: <<{'C': [0.0033, 0.005, 0.0067, 0.0083, 0.01, 0.015, 0.02, 0.025, 0.03]}>>\n",
      "Fitting 3 folds for each of 9 candidates, totalling 27 fits\n"
     ]
    },
    {
     "name": "stderr",
     "output_type": "stream",
     "text": [
      "[Parallel(n_jobs=1)]: Done  27 out of  27 | elapsed:    2.5s finished\n"
     ]
    },
    {
     "name": "stdout",
     "output_type": "stream",
     "text": [
      "       Best parameters selected: <<{'C': 0.0033}>> for score <<0.6435044264131493>>.\n",
      "       6. Grid Search model <<<class 'sklearn.svm.classes.LinearSVC'>>>; weight: <<{0: 1.0, 1: 53.67624020887728}>>; parameters: <<{'C': [0.0011, 0.0016, 0.0022, 0.0028, 0.0033, 0.0049, 0.0066, 0.0082, 0.0099]}>>\n",
      "Fitting 3 folds for each of 9 candidates, totalling 27 fits\n"
     ]
    },
    {
     "name": "stderr",
     "output_type": "stream",
     "text": [
      "[Parallel(n_jobs=1)]: Done  27 out of  27 | elapsed:    1.6s finished\n"
     ]
    },
    {
     "name": "stdout",
     "output_type": "stream",
     "text": [
      "       Best parameters selected: <<{'C': 0.0028}>> for score <<0.6466455982013062>>.\n",
      "       7. Grid Search model <<<class 'sklearn.svm.classes.LinearSVC'>>>; weight: <<{0: 1.0, 1: 53.67624020887728}>>; parameters: <<{'C': [0.0009, 0.0014, 0.0019, 0.0023, 0.0028, 0.0042, 0.0056, 0.007, 0.0084]}>>\n",
      "Fitting 3 folds for each of 9 candidates, totalling 27 fits\n"
     ]
    },
    {
     "name": "stderr",
     "output_type": "stream",
     "text": [
      "[Parallel(n_jobs=1)]: Done  27 out of  27 | elapsed:    1.4s finished\n"
     ]
    },
    {
     "name": "stdout",
     "output_type": "stream",
     "text": [
      "       Best parameters selected: <<{'C': 0.0028}>> for score <<0.6466455982013062>>.\n",
      "       Final parameters selected: <<{'C': 0.0055}>> for score <<0.6478261690963336>> (balanced).\n",
      "\n",
      "          *** Score on validation dataset (macro/weighted) <<0.6366326199740596>> / <<0.868601986249045>>.\n",
      "[[2255  315]\n",
      " [  29   19]]\n",
      "\n",
      "-------------------------------------------------------------------\n",
      "    10. Fit model for class: <<military>> ((20941, 12006)).\n",
      "    Tuning hyper-parameters for class: <<military>> (Recall).\n",
      "       1. Grid Search model <<<class 'sklearn.svm.classes.LinearSVC'>>>; weight: <<balanced>>; parameters: <<{'C': [0.001, 0.01, 0.1, 1.0, 10.0]}>>\n",
      "Fitting 3 folds for each of 5 candidates, totalling 15 fits\n"
     ]
    },
    {
     "name": "stderr",
     "output_type": "stream",
     "text": [
      "[Parallel(n_jobs=1)]: Done  15 out of  15 | elapsed:    1.8s finished\n"
     ]
    },
    {
     "name": "stdout",
     "output_type": "stream",
     "text": [
      "       Best parameters selected: <<{'C': 0.01}>> for score <<0.8505262290911991>>.\n",
      "       2. Grid Search model <<<class 'sklearn.svm.classes.LinearSVC'>>>; weight: <<balanced>>; parameters: <<{'C': [0.0033, 0.005, 0.0067, 0.0083, 0.01, 0.015, 0.02, 0.025, 0.03]}>>\n",
      "Fitting 3 folds for each of 9 candidates, totalling 27 fits\n"
     ]
    },
    {
     "name": "stderr",
     "output_type": "stream",
     "text": [
      "[Parallel(n_jobs=1)]: Done  27 out of  27 | elapsed:    1.4s finished\n"
     ]
    },
    {
     "name": "stdout",
     "output_type": "stream",
     "text": [
      "       Best parameters selected: <<{'C': 0.015}>> for score <<0.8734188287464352>>.\n",
      "       3. Grid Search model <<<class 'sklearn.svm.classes.LinearSVC'>>>; weight: <<balanced>>; parameters: <<{'C': [0.005, 0.0075, 0.01, 0.0125, 0.015, 0.0225, 0.03, 0.0375, 0.045]}>>\n",
      "Fitting 3 folds for each of 9 candidates, totalling 27 fits\n"
     ]
    },
    {
     "name": "stderr",
     "output_type": "stream",
     "text": [
      "[Parallel(n_jobs=1)]: Done  27 out of  27 | elapsed:    1.6s finished\n"
     ]
    },
    {
     "name": "stdout",
     "output_type": "stream",
     "text": [
      "       Best parameters selected: <<{'C': 0.015}>> for score <<0.8734188287464352>>.\n",
      "       Final parameters selected: <<{'C': 0.015}>> for score <<0.8734188287464352>> (balanced).\n",
      "\n",
      "          *** Score on validation dataset (macro/weighted) <<0.8544553286375383>> / <<0.9224598930481284>>.\n",
      "[[2347  184]\n",
      " [  19   68]]\n",
      "\n",
      "-------------------------------------------------------------------\n",
      "    11. Fit model for class: <<water>> ((20941, 12006)).\n",
      "    Tuning hyper-parameters for class: <<water>> (Recall).\n",
      "       1. Grid Search model <<<class 'sklearn.svm.classes.LinearSVC'>>>; weight: <<balanced>>; parameters: <<{'C': [0.001, 0.01, 0.1, 1.0, 10.0]}>>\n",
      "Fitting 3 folds for each of 5 candidates, totalling 15 fits\n"
     ]
    },
    {
     "name": "stderr",
     "output_type": "stream",
     "text": [
      "[Parallel(n_jobs=1)]: Done  15 out of  15 | elapsed:    2.3s finished\n"
     ]
    },
    {
     "name": "stdout",
     "output_type": "stream",
     "text": [
      "       Best parameters selected: <<{'C': 0.1}>> for score <<0.9000414623008698>>.\n",
      "       2. Grid Search model <<<class 'sklearn.svm.classes.LinearSVC'>>>; weight: <<balanced>>; parameters: <<{'C': [0.0333, 0.05, 0.0667, 0.0833, 0.1, 0.15, 0.2, 0.25, 0.3]}>>\n",
      "Fitting 3 folds for each of 9 candidates, totalling 27 fits\n"
     ]
    },
    {
     "name": "stderr",
     "output_type": "stream",
     "text": [
      "[Parallel(n_jobs=1)]: Done  27 out of  27 | elapsed:    3.3s finished\n"
     ]
    },
    {
     "name": "stdout",
     "output_type": "stream",
     "text": [
      "       Best parameters selected: <<{'C': 0.0333}>> for score <<0.9052260482369626>>.\n",
      "       3. Grid Search model <<<class 'sklearn.svm.classes.LinearSVC'>>>; weight: <<balanced>>; parameters: <<{'C': [0.0111, 0.0167, 0.0222, 0.0278, 0.0333, 0.05, 0.0666, 0.0833, 0.0999]}>>\n",
      "Fitting 3 folds for each of 9 candidates, totalling 27 fits\n"
     ]
    },
    {
     "name": "stderr",
     "output_type": "stream",
     "text": [
      "[Parallel(n_jobs=1)]: Done  27 out of  27 | elapsed:    2.2s finished\n"
     ]
    },
    {
     "name": "stdout",
     "output_type": "stream",
     "text": [
      "       Best parameters selected: <<{'C': 0.0333}>> for score <<0.9052260482369626>>.\n",
      "       Final parameters selected: <<{'C': 0.0333}>> for score <<0.9052260482369626>> (balanced).\n",
      "\n",
      "          *** Score on validation dataset (macro/weighted) <<0.9014808720691074>> / <<0.9499618029029794>>.\n",
      "[[2329  102]\n",
      " [  29  158]]\n",
      "\n",
      "-------------------------------------------------------------------\n",
      "    12. Fit model for class: <<food>> ((20941, 12007)).\n",
      "    Tuning hyper-parameters for class: <<food>> (Recall).\n",
      "       1. Grid Search model <<<class 'sklearn.svm.classes.LinearSVC'>>>; weight: <<balanced>>; parameters: <<{'C': [0.001, 0.01, 0.1, 1.0, 10.0]}>>\n",
      "Fitting 3 folds for each of 5 candidates, totalling 15 fits\n"
     ]
    },
    {
     "name": "stderr",
     "output_type": "stream",
     "text": [
      "[Parallel(n_jobs=1)]: Done  15 out of  15 | elapsed:    3.2s finished\n"
     ]
    },
    {
     "name": "stdout",
     "output_type": "stream",
     "text": [
      "       Best parameters selected: <<{'C': 0.1}>> for score <<0.909070843457646>>.\n",
      "       2. Grid Search model <<<class 'sklearn.svm.classes.LinearSVC'>>>; weight: <<balanced>>; parameters: <<{'C': [0.0333, 0.05, 0.0667, 0.0833, 0.1, 0.15, 0.2, 0.25, 0.3]}>>\n",
      "Fitting 3 folds for each of 9 candidates, totalling 27 fits\n"
     ]
    },
    {
     "name": "stderr",
     "output_type": "stream",
     "text": [
      "[Parallel(n_jobs=1)]: Done  27 out of  27 | elapsed:    3.3s finished\n"
     ]
    },
    {
     "name": "stdout",
     "output_type": "stream",
     "text": [
      "       Best parameters selected: <<{'C': 0.0833}>> for score <<0.9099273607952564>>.\n",
      "       3. Grid Search model <<<class 'sklearn.svm.classes.LinearSVC'>>>; weight: <<balanced>>; parameters: <<{'C': [0.0278, 0.0416, 0.0555, 0.0694, 0.0833, 0.125, 0.1666, 0.2082, 0.2499]}>>\n",
      "Fitting 3 folds for each of 9 candidates, totalling 27 fits\n"
     ]
    },
    {
     "name": "stderr",
     "output_type": "stream",
     "text": [
      "[Parallel(n_jobs=1)]: Done  27 out of  27 | elapsed:    2.5s finished\n"
     ]
    },
    {
     "name": "stdout",
     "output_type": "stream",
     "text": [
      "       Best parameters selected: <<{'C': 0.0833}>> for score <<0.9099273607952564>>.\n",
      "       Final parameters selected: <<{'C': 0.0833}>> for score <<0.9099273607952564>> (balanced).\n",
      "\n",
      "          *** Score on validation dataset (macro/weighted) <<0.9076135550786839>> / <<0.9411764705882353>>.\n",
      "[[2215  115]\n",
      " [  39  249]]\n",
      "\n",
      "-------------------------------------------------------------------\n",
      "    13. Fit model for class: <<shelter>> ((20941, 12008)).\n",
      "    Tuning hyper-parameters for class: <<shelter>> (Recall).\n",
      "       1. Grid Search model <<<class 'sklearn.svm.classes.LinearSVC'>>>; weight: <<balanced>>; parameters: <<{'C': [0.001, 0.01, 0.1, 1.0, 10.0]}>>\n",
      "Fitting 3 folds for each of 5 candidates, totalling 15 fits\n"
     ]
    },
    {
     "name": "stderr",
     "output_type": "stream",
     "text": [
      "[Parallel(n_jobs=1)]: Done  15 out of  15 | elapsed:    2.8s finished\n"
     ]
    },
    {
     "name": "stdout",
     "output_type": "stream",
     "text": [
      "       Best parameters selected: <<{'C': 0.1}>> for score <<0.8763524791340428>>.\n",
      "       2. Grid Search model <<<class 'sklearn.svm.classes.LinearSVC'>>>; weight: <<balanced>>; parameters: <<{'C': [0.0333, 0.05, 0.0667, 0.0833, 0.1, 0.15, 0.2, 0.25, 0.3]}>>\n",
      "Fitting 3 folds for each of 9 candidates, totalling 27 fits\n"
     ]
    },
    {
     "name": "stderr",
     "output_type": "stream",
     "text": [
      "[Parallel(n_jobs=1)]: Done  27 out of  27 | elapsed:    2.9s finished\n"
     ]
    },
    {
     "name": "stdout",
     "output_type": "stream",
     "text": [
      "       Best parameters selected: <<{'C': 0.05}>> for score <<0.8780099511463675>>.\n",
      "       3. Grid Search model <<<class 'sklearn.svm.classes.LinearSVC'>>>; weight: <<balanced>>; parameters: <<{'C': [0.0167, 0.025, 0.0333, 0.0417, 0.05, 0.075, 0.1, 0.125, 0.15]}>>\n",
      "Fitting 3 folds for each of 9 candidates, totalling 27 fits\n"
     ]
    },
    {
     "name": "stderr",
     "output_type": "stream",
     "text": [
      "[Parallel(n_jobs=1)]: Done  27 out of  27 | elapsed:    2.2s finished\n"
     ]
    },
    {
     "name": "stdout",
     "output_type": "stream",
     "text": [
      "       Best parameters selected: <<{'C': 0.05}>> for score <<0.8780099511463675>>.\n",
      "       Final parameters selected: <<{'C': 0.05}>> for score <<0.8780099511463675>> (balanced).\n",
      "\n",
      "          *** Score on validation dataset (macro/weighted) <<0.8751042535446205>> / <<0.9224598930481284>>.\n",
      "[[2235  163]\n",
      " [  40  180]]\n",
      "\n",
      "-------------------------------------------------------------------\n",
      "    14. Fit model for class: <<clothing>> ((20941, 12008)).\n",
      "    Tuning hyper-parameters for class: <<clothing>> (Recall).\n",
      "       1. Grid Search model <<<class 'sklearn.svm.classes.LinearSVC'>>>; weight: <<balanced>>; parameters: <<{'C': [0.001, 0.01, 0.1, 1.0, 10.0]}>>\n",
      "Fitting 3 folds for each of 5 candidates, totalling 15 fits\n"
     ]
    },
    {
     "name": "stderr",
     "output_type": "stream",
     "text": [
      "[Parallel(n_jobs=1)]: Done  15 out of  15 | elapsed:    1.7s finished\n"
     ]
    },
    {
     "name": "stdout",
     "output_type": "stream",
     "text": [
      "       Best parameters selected: <<{'C': 0.01}>> for score <<0.8614572768040665>>.\n",
      "       2. Grid Search model <<<class 'sklearn.svm.classes.LinearSVC'>>>; weight: <<balanced>>; parameters: <<{'C': [0.0033, 0.005, 0.0067, 0.0083, 0.01, 0.015, 0.02, 0.025, 0.03]}>>\n",
      "Fitting 3 folds for each of 9 candidates, totalling 27 fits\n"
     ]
    },
    {
     "name": "stderr",
     "output_type": "stream",
     "text": [
      "[Parallel(n_jobs=1)]: Done  27 out of  27 | elapsed:    2.1s finished\n"
     ]
    },
    {
     "name": "stdout",
     "output_type": "stream",
     "text": [
      "       Best parameters selected: <<{'C': 0.03}>> for score <<0.8699170098918443>>.\n",
      "       3. Grid Search model <<<class 'sklearn.svm.classes.LinearSVC'>>>; weight: <<balanced>>; parameters: <<{'C': [0.01, 0.015, 0.02, 0.025, 0.03, 0.045, 0.06, 0.075, 0.09]}>>\n",
      "Fitting 3 folds for each of 9 candidates, totalling 27 fits\n"
     ]
    },
    {
     "name": "stderr",
     "output_type": "stream",
     "text": [
      "[Parallel(n_jobs=1)]: Done  27 out of  27 | elapsed:    2.7s finished\n"
     ]
    },
    {
     "name": "stdout",
     "output_type": "stream",
     "text": [
      "       Best parameters selected: <<{'C': 0.03}>> for score <<0.8699170098918443>>.\n",
      "       Final parameters selected: <<{'C': 0.03}>> for score <<0.8699170098918443>> (balanced).\n",
      "\n",
      "          *** Score on validation dataset (macro/weighted) <<0.8382352941176471>> / <<0.9671504965622613>>.\n",
      "[[2508   76]\n",
      " [  10   24]]\n",
      "\n",
      "-------------------------------------------------------------------\n",
      "    15. Fit model for class: <<money>> ((20941, 12008)).\n",
      "    Tuning hyper-parameters for class: <<money>> (Recall).\n",
      "       1. Grid Search model <<<class 'sklearn.svm.classes.LinearSVC'>>>; weight: <<balanced>>; parameters: <<{'C': [0.001, 0.01, 0.1, 1.0, 10.0]}>>\n",
      "Fitting 3 folds for each of 5 candidates, totalling 15 fits\n"
     ]
    },
    {
     "name": "stderr",
     "output_type": "stream",
     "text": [
      "[Parallel(n_jobs=1)]: Done  15 out of  15 | elapsed:    2.6s finished\n"
     ]
    },
    {
     "name": "stdout",
     "output_type": "stream",
     "text": [
      "       Best parameters selected: <<{'C': 0.01}>> for score <<0.8315105975840734>>.\n",
      "       2. Grid Search model <<<class 'sklearn.svm.classes.LinearSVC'>>>; weight: <<balanced>>; parameters: <<{'C': [0.0033, 0.005, 0.0067, 0.0083, 0.01, 0.015, 0.02, 0.025, 0.03]}>>\n",
      "Fitting 3 folds for each of 9 candidates, totalling 27 fits\n"
     ]
    },
    {
     "name": "stderr",
     "output_type": "stream",
     "text": [
      "[Parallel(n_jobs=1)]: Done  27 out of  27 | elapsed:    2.2s finished\n"
     ]
    },
    {
     "name": "stdout",
     "output_type": "stream",
     "text": [
      "       Best parameters selected: <<{'C': 0.015}>> for score <<0.8346371605477481>>.\n",
      "       3. Grid Search model <<<class 'sklearn.svm.classes.LinearSVC'>>>; weight: <<balanced>>; parameters: <<{'C': [0.005, 0.0075, 0.01, 0.0125, 0.015, 0.0225, 0.03, 0.0375, 0.045]}>>\n",
      "Fitting 3 folds for each of 9 candidates, totalling 27 fits\n"
     ]
    },
    {
     "name": "stderr",
     "output_type": "stream",
     "text": [
      "[Parallel(n_jobs=1)]: Done  27 out of  27 | elapsed:    2.9s finished\n"
     ]
    },
    {
     "name": "stdout",
     "output_type": "stream",
     "text": [
      "       Best parameters selected: <<{'C': 0.015}>> for score <<0.8346371605477481>>.\n",
      "       3. Grid Search model <<<class 'sklearn.svm.classes.LinearSVC'>>>; weight: <<{0: 1.0, 1: 82.78137651821862}>>; parameters: <<{'C': [0.001, 0.01, 0.1, 1.0, 10.0]}>>\n",
      "Fitting 3 folds for each of 5 candidates, totalling 15 fits\n"
     ]
    },
    {
     "name": "stderr",
     "output_type": "stream",
     "text": [
      "[Parallel(n_jobs=1)]: Done  15 out of  15 | elapsed:    2.8s finished\n"
     ]
    },
    {
     "name": "stdout",
     "output_type": "stream",
     "text": [
      "       Best parameters selected: <<{'C': 0.01}>> for score <<0.8518973195763895>>.\n",
      "       4. Grid Search model <<<class 'sklearn.svm.classes.LinearSVC'>>>; weight: <<{0: 1.0, 1: 82.78137651821862}>>; parameters: <<{'C': [0.0033, 0.005, 0.0067, 0.0083, 0.01, 0.015, 0.02, 0.025, 0.03]}>>\n",
      "Fitting 3 folds for each of 9 candidates, totalling 27 fits\n"
     ]
    },
    {
     "name": "stderr",
     "output_type": "stream",
     "text": [
      "[Parallel(n_jobs=1)]: Done  27 out of  27 | elapsed:    4.5s finished\n"
     ]
    },
    {
     "name": "stdout",
     "output_type": "stream",
     "text": [
      "       Best parameters selected: <<{'C': 0.0067}>> for score <<0.8542491073706356>>.\n",
      "       5. Grid Search model <<<class 'sklearn.svm.classes.LinearSVC'>>>; weight: <<{0: 1.0, 1: 82.78137651821862}>>; parameters: <<{'C': [0.0022, 0.0034, 0.0045, 0.0056, 0.0067, 0.01, 0.0134, 0.0168, 0.0201]}>>\n",
      "Fitting 3 folds for each of 9 candidates, totalling 27 fits\n"
     ]
    },
    {
     "name": "stderr",
     "output_type": "stream",
     "text": [
      "[Parallel(n_jobs=1)]: Done  27 out of  27 | elapsed:    3.8s finished\n"
     ]
    },
    {
     "name": "stdout",
     "output_type": "stream",
     "text": [
      "       Best parameters selected: <<{'C': 0.0056}>> for score <<0.855142143261874>>.\n",
      "       6. Grid Search model <<<class 'sklearn.svm.classes.LinearSVC'>>>; weight: <<{0: 1.0, 1: 82.78137651821862}>>; parameters: <<{'C': [0.0019, 0.0028, 0.0037, 0.0047, 0.0056, 0.0084, 0.0112, 0.014, 0.0168]}>>\n",
      "Fitting 3 folds for each of 9 candidates, totalling 27 fits\n"
     ]
    },
    {
     "name": "stderr",
     "output_type": "stream",
     "text": [
      "[Parallel(n_jobs=1)]: Done  27 out of  27 | elapsed:    3.4s finished\n"
     ]
    },
    {
     "name": "stdout",
     "output_type": "stream",
     "text": [
      "       Best parameters selected: <<{'C': 0.0056}>> for score <<0.855142143261874>>.\n",
      "       Final parameters selected: <<{'C': 0.0056}>> for score <<0.855142143261874>> ({0: 1.0, 1: 82.78137651821862}).\n",
      "\n",
      "          *** Score on validation dataset (macro/weighted) <<0.8640390731485688>> / <<0.872803666921314>>.\n",
      "[[2232  324]\n",
      " [   9   53]]\n",
      "\n",
      "-------------------------------------------------------------------\n",
      "    16. Fit model for class: <<missing_people>> ((20941, 12008)).\n",
      "    Tuning hyper-parameters for class: <<missing_people>> (Recall).\n",
      "       1. Grid Search model <<<class 'sklearn.svm.classes.LinearSVC'>>>; weight: <<balanced>>; parameters: <<{'C': [0.001, 0.01, 0.1, 1.0, 10.0]}>>\n",
      "Fitting 3 folds for each of 5 candidates, totalling 15 fits\n"
     ]
    },
    {
     "name": "stderr",
     "output_type": "stream",
     "text": [
      "[Parallel(n_jobs=1)]: Done  15 out of  15 | elapsed:    2.5s finished\n"
     ]
    },
    {
     "name": "stdout",
     "output_type": "stream",
     "text": [
      "       Best parameters selected: <<{'C': 0.01}>> for score <<0.6687733407126171>>.\n",
      "       2. Grid Search model <<<class 'sklearn.svm.classes.LinearSVC'>>>; weight: <<balanced>>; parameters: <<{'C': [0.0033, 0.005, 0.0067, 0.0083, 0.01, 0.015, 0.02, 0.025, 0.03]}>>\n",
      "Fitting 3 folds for each of 9 candidates, totalling 27 fits\n"
     ]
    },
    {
     "name": "stderr",
     "output_type": "stream",
     "text": [
      "[Parallel(n_jobs=1)]: Done  27 out of  27 | elapsed:    2.8s finished\n"
     ]
    },
    {
     "name": "stdout",
     "output_type": "stream",
     "text": [
      "       Best parameters selected: <<{'C': 0.005}>> for score <<0.6711950107787679>>.\n",
      "       3. Grid Search model <<<class 'sklearn.svm.classes.LinearSVC'>>>; weight: <<balanced>>; parameters: <<{'C': [0.0017, 0.0025, 0.0033, 0.0042, 0.005, 0.0075, 0.01, 0.0125, 0.015]}>>\n",
      "Fitting 3 folds for each of 9 candidates, totalling 27 fits\n"
     ]
    },
    {
     "name": "stderr",
     "output_type": "stream",
     "text": [
      "[Parallel(n_jobs=1)]: Done  27 out of  27 | elapsed:    2.0s finished\n"
     ]
    },
    {
     "name": "stdout",
     "output_type": "stream",
     "text": [
      "       Best parameters selected: <<{'C': 0.0025}>> for score <<0.6724064882512362>>.\n",
      "       4. Grid Search model <<<class 'sklearn.svm.classes.LinearSVC'>>>; weight: <<balanced>>; parameters: <<{'C': [0.0008, 0.0012, 0.0017, 0.0021, 0.0025, 0.0038, 0.005, 0.0062, 0.0075]}>>\n",
      "Fitting 3 folds for each of 9 candidates, totalling 27 fits\n"
     ]
    },
    {
     "name": "stderr",
     "output_type": "stream",
     "text": [
      "[Parallel(n_jobs=1)]: Done  27 out of  27 | elapsed:    1.5s finished\n"
     ]
    },
    {
     "name": "stdout",
     "output_type": "stream",
     "text": [
      "       Best parameters selected: <<{'C': 0.0025}>> for score <<0.6724064882512362>>.\n",
      "       4. Grid Search model <<<class 'sklearn.svm.classes.LinearSVC'>>>; weight: <<{0: 1.0, 1: 85.53305785123966}>>; parameters: <<{'C': [0.001, 0.01, 0.1, 1.0, 10.0]}>>\n",
      "Fitting 3 folds for each of 5 candidates, totalling 15 fits\n"
     ]
    },
    {
     "name": "stderr",
     "output_type": "stream",
     "text": [
      "[Parallel(n_jobs=1)]: Done  15 out of  15 | elapsed:    3.1s finished\n"
     ]
    },
    {
     "name": "stdout",
     "output_type": "stream",
     "text": [
      "       Best parameters selected: <<{'C': 0.001}>> for score <<0.6630593264797245>>.\n",
      "       5. Grid Search model <<<class 'sklearn.svm.classes.LinearSVC'>>>; weight: <<{0: 1.0, 1: 85.53305785123966}>>; parameters: <<{'C': [0.0003, 0.0005, 0.0007, 0.0008, 0.001, 0.0015, 0.002, 0.0025, 0.003]}>>\n",
      "Fitting 3 folds for each of 9 candidates, totalling 27 fits\n"
     ]
    },
    {
     "name": "stderr",
     "output_type": "stream",
     "text": [
      "[Parallel(n_jobs=1)]: Done  27 out of  27 | elapsed:    1.2s finished\n"
     ]
    },
    {
     "name": "stdout",
     "output_type": "stream",
     "text": [
      "       Best parameters selected: <<{'C': 0.0015}>> for score <<0.6741366462514353>>.\n",
      "       6. Grid Search model <<<class 'sklearn.svm.classes.LinearSVC'>>>; weight: <<{0: 1.0, 1: 85.53305785123966}>>; parameters: <<{'C': [0.0005, 0.0008, 0.001, 0.0012, 0.0015, 0.0023, 0.003, 0.0038, 0.0045]}>>\n",
      "Fitting 3 folds for each of 9 candidates, totalling 27 fits\n"
     ]
    },
    {
     "name": "stderr",
     "output_type": "stream",
     "text": [
      "[Parallel(n_jobs=1)]: Done  27 out of  27 | elapsed:    1.6s finished\n"
     ]
    },
    {
     "name": "stdout",
     "output_type": "stream",
     "text": [
      "       Best parameters selected: <<{'C': 0.0015}>> for score <<0.6741366462514353>>.\n",
      "       Final parameters selected: <<{'C': 0.0025}>> for score <<0.6724064882512362>> (balanced).\n",
      "\n",
      "          *** Score on validation dataset (macro/weighted) <<0.7121844410097888>> / <<0.8869365928189458>>.\n",
      "[[2306  282]\n",
      " [  14   16]]\n",
      "\n",
      "-------------------------------------------------------------------\n",
      "    17. Fit model for class: <<refugees>> ((20941, 12008)).\n",
      "    Tuning hyper-parameters for class: <<refugees>> (Recall).\n",
      "       1. Grid Search model <<<class 'sklearn.svm.classes.LinearSVC'>>>; weight: <<balanced>>; parameters: <<{'C': [0.001, 0.01, 0.1, 1.0, 10.0]}>>\n",
      "Fitting 3 folds for each of 5 candidates, totalling 15 fits\n"
     ]
    },
    {
     "name": "stderr",
     "output_type": "stream",
     "text": [
      "[Parallel(n_jobs=1)]: Done  15 out of  15 | elapsed:    2.9s finished\n"
     ]
    },
    {
     "name": "stdout",
     "output_type": "stream",
     "text": [
      "       Best parameters selected: <<{'C': 0.01}>> for score <<0.7832225229454928>>.\n",
      "       2. Grid Search model <<<class 'sklearn.svm.classes.LinearSVC'>>>; weight: <<balanced>>; parameters: <<{'C': [0.0033, 0.005, 0.0067, 0.0083, 0.01, 0.015, 0.02, 0.025, 0.03]}>>\n",
      "Fitting 3 folds for each of 9 candidates, totalling 27 fits\n"
     ]
    },
    {
     "name": "stderr",
     "output_type": "stream",
     "text": [
      "[Parallel(n_jobs=1)]: Done  27 out of  27 | elapsed:    1.5s finished\n"
     ]
    },
    {
     "name": "stdout",
     "output_type": "stream",
     "text": [
      "       Best parameters selected: <<{'C': 0.015}>> for score <<0.7843045976418366>>.\n",
      "       3. Grid Search model <<<class 'sklearn.svm.classes.LinearSVC'>>>; weight: <<balanced>>; parameters: <<{'C': [0.005, 0.0075, 0.01, 0.0125, 0.015, 0.0225, 0.03, 0.0375, 0.045]}>>\n",
      "Fitting 3 folds for each of 9 candidates, totalling 27 fits\n"
     ]
    },
    {
     "name": "stderr",
     "output_type": "stream",
     "text": [
      "[Parallel(n_jobs=1)]: Done  27 out of  27 | elapsed:    1.9s finished\n"
     ]
    },
    {
     "name": "stdout",
     "output_type": "stream",
     "text": [
      "       Best parameters selected: <<{'C': 0.0125}>> for score <<0.7865266441874522>>.\n",
      "       4. Grid Search model <<<class 'sklearn.svm.classes.LinearSVC'>>>; weight: <<balanced>>; parameters: <<{'C': [0.0042, 0.0062, 0.0083, 0.0104, 0.0125, 0.0188, 0.025, 0.0312, 0.0375]}>>\n",
      "Fitting 3 folds for each of 9 candidates, totalling 27 fits\n"
     ]
    },
    {
     "name": "stderr",
     "output_type": "stream",
     "text": [
      "[Parallel(n_jobs=1)]: Done  27 out of  27 | elapsed:    1.7s finished\n"
     ]
    },
    {
     "name": "stdout",
     "output_type": "stream",
     "text": [
      "       Best parameters selected: <<{'C': 0.0125}>> for score <<0.7865266441874522>>.\n",
      "       4. Grid Search model <<<class 'sklearn.svm.classes.LinearSVC'>>>; weight: <<{0: 1.0, 1: 59.95562130177515}>>; parameters: <<{'C': [0.001, 0.01, 0.1, 1.0, 10.0]}>>\n",
      "Fitting 3 folds for each of 5 candidates, totalling 15 fits\n"
     ]
    },
    {
     "name": "stderr",
     "output_type": "stream",
     "text": [
      "[Parallel(n_jobs=1)]: Done  15 out of  15 | elapsed:    3.5s finished\n"
     ]
    },
    {
     "name": "stdout",
     "output_type": "stream",
     "text": [
      "       Best parameters selected: <<{'C': 0.01}>> for score <<0.7934860289361089>>.\n",
      "       5. Grid Search model <<<class 'sklearn.svm.classes.LinearSVC'>>>; weight: <<{0: 1.0, 1: 59.95562130177515}>>; parameters: <<{'C': [0.0033, 0.005, 0.0067, 0.0083, 0.01, 0.015, 0.02, 0.025, 0.03]}>>\n",
      "Fitting 3 folds for each of 9 candidates, totalling 27 fits\n"
     ]
    },
    {
     "name": "stderr",
     "output_type": "stream",
     "text": [
      "[Parallel(n_jobs=1)]: Done  27 out of  27 | elapsed:    3.3s finished\n"
     ]
    },
    {
     "name": "stdout",
     "output_type": "stream",
     "text": [
      "       Best parameters selected: <<{'C': 0.01}>> for score <<0.7934860289361089>>.\n",
      "       Final parameters selected: <<{'C': 0.0125}>> for score <<0.7865266441874522>> (balanced).\n",
      "\n",
      "          *** Score on validation dataset (macro/weighted) <<0.7761658717541071>> / <<0.8861726508785333>>.\n",
      "[[2253  263]\n",
      " [  35   67]]\n",
      "\n",
      "-------------------------------------------------------------------\n",
      "    18. Fit model for class: <<death>> ((20941, 12008)).\n",
      "    Tuning hyper-parameters for class: <<death>> (Recall).\n",
      "       1. Grid Search model <<<class 'sklearn.svm.classes.LinearSVC'>>>; weight: <<balanced>>; parameters: <<{'C': [0.001, 0.01, 0.1, 1.0, 10.0]}>>\n",
      "Fitting 3 folds for each of 5 candidates, totalling 15 fits\n"
     ]
    },
    {
     "name": "stderr",
     "output_type": "stream",
     "text": [
      "[Parallel(n_jobs=1)]: Done  15 out of  15 | elapsed:    2.6s finished\n"
     ]
    },
    {
     "name": "stdout",
     "output_type": "stream",
     "text": [
      "       Best parameters selected: <<{'C': 0.01}>> for score <<0.8454603170774952>>.\n",
      "       2. Grid Search model <<<class 'sklearn.svm.classes.LinearSVC'>>>; weight: <<balanced>>; parameters: <<{'C': [0.0033, 0.005, 0.0067, 0.0083, 0.01, 0.015, 0.02, 0.025, 0.03]}>>\n",
      "Fitting 3 folds for each of 9 candidates, totalling 27 fits\n"
     ]
    },
    {
     "name": "stderr",
     "output_type": "stream",
     "text": [
      "[Parallel(n_jobs=1)]: Done  27 out of  27 | elapsed:    1.6s finished\n"
     ]
    },
    {
     "name": "stdout",
     "output_type": "stream",
     "text": [
      "       Best parameters selected: <<{'C': 0.03}>> for score <<0.850777673052658>>.\n",
      "       3. Grid Search model <<<class 'sklearn.svm.classes.LinearSVC'>>>; weight: <<balanced>>; parameters: <<{'C': [0.01, 0.015, 0.02, 0.025, 0.03, 0.045, 0.06, 0.075, 0.09]}>>\n",
      "Fitting 3 folds for each of 9 candidates, totalling 27 fits\n"
     ]
    },
    {
     "name": "stderr",
     "output_type": "stream",
     "text": [
      "[Parallel(n_jobs=1)]: Done  27 out of  27 | elapsed:    2.7s finished\n"
     ]
    },
    {
     "name": "stdout",
     "output_type": "stream",
     "text": [
      "       Best parameters selected: <<{'C': 0.03}>> for score <<0.850777673052658>>.\n",
      "       Final parameters selected: <<{'C': 0.03}>> for score <<0.850777673052658>> (balanced).\n",
      "\n",
      "          *** Score on validation dataset (macro/weighted) <<0.8638271837349398>> / <<0.9453781512605042>>.\n",
      "[[2376  114]\n",
      " [  29   99]]\n",
      "\n",
      "-------------------------------------------------------------------\n",
      "    19. Fit model for class: <<other_aid>> ((20941, 12008)).\n",
      "    Tuning hyper-parameters for class: <<other_aid>> (Recall).\n",
      "       1. Grid Search model <<<class 'sklearn.svm.classes.LinearSVC'>>>; weight: <<balanced>>; parameters: <<{'C': [0.001, 0.01, 0.1, 1.0, 10.0]}>>\n",
      "Fitting 3 folds for each of 5 candidates, totalling 15 fits\n"
     ]
    },
    {
     "name": "stderr",
     "output_type": "stream",
     "text": [
      "[Parallel(n_jobs=1)]: Done  15 out of  15 | elapsed:    4.4s finished\n"
     ]
    },
    {
     "name": "stdout",
     "output_type": "stream",
     "text": [
      "       Best parameters selected: <<{'C': 0.01}>> for score <<0.701375100846053>>.\n",
      "       2. Grid Search model <<<class 'sklearn.svm.classes.LinearSVC'>>>; weight: <<balanced>>; parameters: <<{'C': [0.0033, 0.005, 0.0067, 0.0083, 0.01, 0.015, 0.02, 0.025, 0.03]}>>\n",
      "Fitting 3 folds for each of 9 candidates, totalling 27 fits\n"
     ]
    },
    {
     "name": "stderr",
     "output_type": "stream",
     "text": [
      "[Parallel(n_jobs=1)]: Done  27 out of  27 | elapsed:    1.1s finished\n"
     ]
    },
    {
     "name": "stdout",
     "output_type": "stream",
     "text": [
      "       Best parameters selected: <<{'C': 0.02}>> for score <<0.7083141937798972>>.\n",
      "       3. Grid Search model <<<class 'sklearn.svm.classes.LinearSVC'>>>; weight: <<balanced>>; parameters: <<{'C': [0.0067, 0.01, 0.0133, 0.0167, 0.02, 0.03, 0.04, 0.05, 0.06]}>>\n",
      "Fitting 3 folds for each of 9 candidates, totalling 27 fits\n"
     ]
    },
    {
     "name": "stderr",
     "output_type": "stream",
     "text": [
      "[Parallel(n_jobs=1)]: Done  27 out of  27 | elapsed:    1.6s finished\n"
     ]
    },
    {
     "name": "stdout",
     "output_type": "stream",
     "text": [
      "       Best parameters selected: <<{'C': 0.02}>> for score <<0.7083141937798972>>.\n",
      "       3. Grid Search model <<<class 'sklearn.svm.classes.LinearSVC'>>>; weight: <<{0: 1.0, 1: 13.263119533527698}>>; parameters: <<{'C': [0.001, 0.01, 0.1, 1.0, 10.0]}>>\n",
      "Fitting 3 folds for each of 5 candidates, totalling 15 fits\n"
     ]
    },
    {
     "name": "stderr",
     "output_type": "stream",
     "text": [
      "[Parallel(n_jobs=1)]: Done  15 out of  15 | elapsed:    7.0s finished\n"
     ]
    },
    {
     "name": "stdout",
     "output_type": "stream",
     "text": [
      "       Best parameters selected: <<{'C': 0.1}>> for score <<0.6947609999568471>>.\n",
      "       4. Grid Search model <<<class 'sklearn.svm.classes.LinearSVC'>>>; weight: <<{0: 1.0, 1: 13.263119533527698}>>; parameters: <<{'C': [0.0333, 0.05, 0.0667, 0.0833, 0.1, 0.15, 0.2, 0.25, 0.3]}>>\n",
      "Fitting 3 folds for each of 9 candidates, totalling 27 fits\n"
     ]
    },
    {
     "name": "stderr",
     "output_type": "stream",
     "text": [
      "[Parallel(n_jobs=1)]: Done  27 out of  27 | elapsed:    7.4s finished\n"
     ]
    },
    {
     "name": "stdout",
     "output_type": "stream",
     "text": [
      "       Best parameters selected: <<{'C': 0.05}>> for score <<0.702208187192261>>.\n",
      "       5. Grid Search model <<<class 'sklearn.svm.classes.LinearSVC'>>>; weight: <<{0: 1.0, 1: 13.263119533527698}>>; parameters: <<{'C': [0.0167, 0.025, 0.0333, 0.0417, 0.05, 0.075, 0.1, 0.125, 0.15]}>>\n",
      "Fitting 3 folds for each of 9 candidates, totalling 27 fits\n"
     ]
    },
    {
     "name": "stderr",
     "output_type": "stream",
     "text": [
      "[Parallel(n_jobs=1)]: Done  27 out of  27 | elapsed:    4.4s finished\n"
     ]
    },
    {
     "name": "stdout",
     "output_type": "stream",
     "text": [
      "       Best parameters selected: <<{'C': 0.05}>> for score <<0.702208187192261>>.\n",
      "       Final parameters selected: <<{'C': 0.02}>> for score <<0.7083141937798972>> (balanced).\n",
      "\n",
      "          *** Score on validation dataset (macro/weighted) <<0.7151883491294431>> / <<0.7799847211611919>>.\n",
      "[[1828  449]\n",
      " [ 127  214]]\n",
      "\n",
      "-------------------------------------------------------------------\n",
      "    20. Fit model for class: <<infrastructure_related>> ((20941, 12008)).\n",
      "    Tuning hyper-parameters for class: <<infrastructure_related>> (Recall).\n",
      "       1. Grid Search model <<<class 'sklearn.svm.classes.LinearSVC'>>>; weight: <<balanced>>; parameters: <<{'C': [0.001, 0.01, 0.1, 1.0, 10.0]}>>\n",
      "Fitting 3 folds for each of 5 candidates, totalling 15 fits\n"
     ]
    },
    {
     "name": "stderr",
     "output_type": "stream",
     "text": [
      "[Parallel(n_jobs=1)]: Done  15 out of  15 | elapsed:    3.7s finished\n"
     ]
    },
    {
     "name": "stdout",
     "output_type": "stream",
     "text": [
      "       Best parameters selected: <<{'C': 0.01}>> for score <<0.7144588215146442>>.\n",
      "       2. Grid Search model <<<class 'sklearn.svm.classes.LinearSVC'>>>; weight: <<balanced>>; parameters: <<{'C': [0.0033, 0.005, 0.0067, 0.0083, 0.01, 0.015, 0.02, 0.025, 0.03]}>>\n",
      "Fitting 3 folds for each of 9 candidates, totalling 27 fits\n"
     ]
    },
    {
     "name": "stderr",
     "output_type": "stream",
     "text": [
      "[Parallel(n_jobs=1)]: Done  27 out of  27 | elapsed:    1.2s finished\n"
     ]
    },
    {
     "name": "stdout",
     "output_type": "stream",
     "text": [
      "       Best parameters selected: <<{'C': 0.015}>> for score <<0.7203609557563796>>.\n",
      "       3. Grid Search model <<<class 'sklearn.svm.classes.LinearSVC'>>>; weight: <<balanced>>; parameters: <<{'C': [0.005, 0.0075, 0.01, 0.0125, 0.015, 0.0225, 0.03, 0.0375, 0.045]}>>\n",
      "Fitting 3 folds for each of 9 candidates, totalling 27 fits\n"
     ]
    },
    {
     "name": "stderr",
     "output_type": "stream",
     "text": [
      "[Parallel(n_jobs=1)]: Done  27 out of  27 | elapsed:    1.4s finished\n"
     ]
    },
    {
     "name": "stdout",
     "output_type": "stream",
     "text": [
      "       Best parameters selected: <<{'C': 0.015}>> for score <<0.7203609557563796>>.\n",
      "       3. Grid Search model <<<class 'sklearn.svm.classes.LinearSVC'>>>; weight: <<{0: 1.0, 1: 29.023703703703706}>>; parameters: <<{'C': [0.001, 0.01, 0.1, 1.0, 10.0]}>>\n",
      "Fitting 3 folds for each of 5 candidates, totalling 15 fits\n"
     ]
    },
    {
     "name": "stderr",
     "output_type": "stream",
     "text": [
      "[Parallel(n_jobs=1)]: Done  15 out of  15 | elapsed:    4.5s finished\n"
     ]
    },
    {
     "name": "stdout",
     "output_type": "stream",
     "text": [
      "       Best parameters selected: <<{'C': 0.01}>> for score <<0.7117226428556322>>.\n",
      "       4. Grid Search model <<<class 'sklearn.svm.classes.LinearSVC'>>>; weight: <<{0: 1.0, 1: 29.023703703703706}>>; parameters: <<{'C': [0.0033, 0.005, 0.0067, 0.0083, 0.01, 0.015, 0.02, 0.025, 0.03]}>>\n",
      "Fitting 3 folds for each of 9 candidates, totalling 27 fits\n"
     ]
    },
    {
     "name": "stderr",
     "output_type": "stream",
     "text": [
      "[Parallel(n_jobs=1)]: Done  27 out of  27 | elapsed:    2.3s finished\n"
     ]
    },
    {
     "name": "stdout",
     "output_type": "stream",
     "text": [
      "       Best parameters selected: <<{'C': 0.025}>> for score <<0.7219494412001098>>.\n",
      "       5. Grid Search model <<<class 'sklearn.svm.classes.LinearSVC'>>>; weight: <<{0: 1.0, 1: 29.023703703703706}>>; parameters: <<{'C': [0.0083, 0.0125, 0.0167, 0.0208, 0.025, 0.0375, 0.05, 0.0625, 0.075]}>>\n",
      "Fitting 3 folds for each of 9 candidates, totalling 27 fits\n"
     ]
    },
    {
     "name": "stderr",
     "output_type": "stream",
     "text": [
      "[Parallel(n_jobs=1)]: Done  27 out of  27 | elapsed:    3.9s finished\n"
     ]
    },
    {
     "name": "stdout",
     "output_type": "stream",
     "text": [
      "       Best parameters selected: <<{'C': 0.0167}>> for score <<0.7227741074657476>>.\n",
      "       6. Grid Search model <<<class 'sklearn.svm.classes.LinearSVC'>>>; weight: <<{0: 1.0, 1: 29.023703703703706}>>; parameters: <<{'C': [0.0056, 0.0084, 0.0111, 0.0139, 0.0167, 0.025, 0.0334, 0.0417, 0.0501]}>>\n",
      "Fitting 3 folds for each of 9 candidates, totalling 27 fits\n"
     ]
    },
    {
     "name": "stderr",
     "output_type": "stream",
     "text": [
      "[Parallel(n_jobs=1)]: Done  27 out of  27 | elapsed:    3.1s finished\n"
     ]
    },
    {
     "name": "stdout",
     "output_type": "stream",
     "text": [
      "       Best parameters selected: <<{'C': 0.0167}>> for score <<0.7227741074657476>>.\n",
      "       Final parameters selected: <<{'C': 0.015}>> for score <<0.7203609557563796>> (balanced).\n",
      "\n",
      "          *** Score on validation dataset (macro/weighted) <<0.7196125103659572>> / <<0.7910618792971734>>.\n",
      "[[1962  485]\n",
      " [  62  109]]\n",
      "\n",
      "-------------------------------------------------------------------\n",
      "    21. Fit model for class: <<transport>> ((20941, 12008)).\n",
      "    Tuning hyper-parameters for class: <<transport>> (Recall).\n",
      "       1. Grid Search model <<<class 'sklearn.svm.classes.LinearSVC'>>>; weight: <<balanced>>; parameters: <<{'C': [0.001, 0.01, 0.1, 1.0, 10.0]}>>\n",
      "Fitting 3 folds for each of 5 candidates, totalling 15 fits\n"
     ]
    },
    {
     "name": "stderr",
     "output_type": "stream",
     "text": [
      "[Parallel(n_jobs=1)]: Done  15 out of  15 | elapsed:    3.5s finished\n"
     ]
    },
    {
     "name": "stdout",
     "output_type": "stream",
     "text": [
      "       Best parameters selected: <<{'C': 0.01}>> for score <<0.7081725864019774>>.\n",
      "       2. Grid Search model <<<class 'sklearn.svm.classes.LinearSVC'>>>; weight: <<balanced>>; parameters: <<{'C': [0.0033, 0.005, 0.0067, 0.0083, 0.01, 0.015, 0.02, 0.025, 0.03]}>>\n",
      "Fitting 3 folds for each of 9 candidates, totalling 27 fits\n"
     ]
    },
    {
     "name": "stderr",
     "output_type": "stream",
     "text": [
      "[Parallel(n_jobs=1)]: Done  27 out of  27 | elapsed:    1.4s finished\n"
     ]
    },
    {
     "name": "stdout",
     "output_type": "stream",
     "text": [
      "       Best parameters selected: <<{'C': 0.025}>> for score <<0.7138612979406965>>.\n",
      "       3. Grid Search model <<<class 'sklearn.svm.classes.LinearSVC'>>>; weight: <<balanced>>; parameters: <<{'C': [0.0083, 0.0125, 0.0167, 0.0208, 0.025, 0.0375, 0.05, 0.0625, 0.075]}>>\n",
      "Fitting 3 folds for each of 9 candidates, totalling 27 fits\n"
     ]
    },
    {
     "name": "stderr",
     "output_type": "stream",
     "text": [
      "[Parallel(n_jobs=1)]: Done  27 out of  27 | elapsed:    2.2s finished\n"
     ]
    },
    {
     "name": "stdout",
     "output_type": "stream",
     "text": [
      "       Best parameters selected: <<{'C': 0.025}>> for score <<0.7138612979406965>>.\n",
      "       3. Grid Search model <<<class 'sklearn.svm.classes.LinearSVC'>>>; weight: <<{0: 1.0, 1: 41.76384535005224}>>; parameters: <<{'C': [0.001, 0.01, 0.1, 1.0, 10.0]}>>\n",
      "Fitting 3 folds for each of 5 candidates, totalling 15 fits\n"
     ]
    },
    {
     "name": "stderr",
     "output_type": "stream",
     "text": [
      "[Parallel(n_jobs=1)]: Done  15 out of  15 | elapsed:    4.1s finished\n"
     ]
    },
    {
     "name": "stdout",
     "output_type": "stream",
     "text": [
      "       Best parameters selected: <<{'C': 0.01}>> for score <<0.6930943689368044>>.\n",
      "       4. Grid Search model <<<class 'sklearn.svm.classes.LinearSVC'>>>; weight: <<{0: 1.0, 1: 41.76384535005224}>>; parameters: <<{'C': [0.0033, 0.005, 0.0067, 0.0083, 0.01, 0.015, 0.02, 0.025, 0.03]}>>\n",
      "Fitting 3 folds for each of 9 candidates, totalling 27 fits\n"
     ]
    },
    {
     "name": "stderr",
     "output_type": "stream",
     "text": [
      "[Parallel(n_jobs=1)]: Done  27 out of  27 | elapsed:    2.6s finished\n"
     ]
    },
    {
     "name": "stdout",
     "output_type": "stream",
     "text": [
      "       Best parameters selected: <<{'C': 0.025}>> for score <<0.7043895515208092>>.\n",
      "       5. Grid Search model <<<class 'sklearn.svm.classes.LinearSVC'>>>; weight: <<{0: 1.0, 1: 41.76384535005224}>>; parameters: <<{'C': [0.0083, 0.0125, 0.0167, 0.0208, 0.025, 0.0375, 0.05, 0.0625, 0.075]}>>\n",
      "Fitting 3 folds for each of 9 candidates, totalling 27 fits\n"
     ]
    },
    {
     "name": "stderr",
     "output_type": "stream",
     "text": [
      "[Parallel(n_jobs=1)]: Done  27 out of  27 | elapsed:    4.5s finished\n"
     ]
    },
    {
     "name": "stdout",
     "output_type": "stream",
     "text": [
      "       Best parameters selected: <<{'C': 0.0125}>> for score <<0.7047318182135205>>.\n",
      "       6. Grid Search model <<<class 'sklearn.svm.classes.LinearSVC'>>>; weight: <<{0: 1.0, 1: 41.76384535005224}>>; parameters: <<{'C': [0.0042, 0.0062, 0.0083, 0.0104, 0.0125, 0.0188, 0.025, 0.0312, 0.0375]}>>\n",
      "Fitting 3 folds for each of 9 candidates, totalling 27 fits\n"
     ]
    },
    {
     "name": "stderr",
     "output_type": "stream",
     "text": [
      "[Parallel(n_jobs=1)]: Done  27 out of  27 | elapsed:    3.1s finished\n"
     ]
    },
    {
     "name": "stdout",
     "output_type": "stream",
     "text": [
      "       Best parameters selected: <<{'C': 0.0125}>> for score <<0.7047318182135205>>.\n",
      "       Final parameters selected: <<{'C': 0.025}>> for score <<0.7138612979406965>> (balanced).\n",
      "\n",
      "          *** Score on validation dataset (macro/weighted) <<0.7125491525423728>> / <<0.8750954927425516>>.\n",
      "[[2228  272]\n",
      " [  55   63]]\n",
      "\n",
      "-------------------------------------------------------------------\n",
      "    22. Fit model for class: <<buildings>> ((20941, 12008)).\n",
      "    Tuning hyper-parameters for class: <<buildings>> (Recall).\n",
      "       1. Grid Search model <<<class 'sklearn.svm.classes.LinearSVC'>>>; weight: <<balanced>>; parameters: <<{'C': [0.001, 0.01, 0.1, 1.0, 10.0]}>>\n",
      "Fitting 3 folds for each of 5 candidates, totalling 15 fits\n"
     ]
    },
    {
     "name": "stderr",
     "output_type": "stream",
     "text": [
      "[Parallel(n_jobs=1)]: Done  15 out of  15 | elapsed:    2.6s finished\n"
     ]
    },
    {
     "name": "stdout",
     "output_type": "stream",
     "text": [
      "       Best parameters selected: <<{'C': 0.01}>> for score <<0.8237499976868459>>.\n",
      "       2. Grid Search model <<<class 'sklearn.svm.classes.LinearSVC'>>>; weight: <<balanced>>; parameters: <<{'C': [0.0033, 0.005, 0.0067, 0.0083, 0.01, 0.015, 0.02, 0.025, 0.03]}>>\n",
      "Fitting 3 folds for each of 9 candidates, totalling 27 fits\n"
     ]
    },
    {
     "name": "stderr",
     "output_type": "stream",
     "text": [
      "[Parallel(n_jobs=1)]: Done  27 out of  27 | elapsed:    1.3s finished\n"
     ]
    },
    {
     "name": "stdout",
     "output_type": "stream",
     "text": [
      "       Best parameters selected: <<{'C': 0.025}>> for score <<0.8287045135204061>>.\n",
      "       3. Grid Search model <<<class 'sklearn.svm.classes.LinearSVC'>>>; weight: <<balanced>>; parameters: <<{'C': [0.0083, 0.0125, 0.0167, 0.0208, 0.025, 0.0375, 0.05, 0.0625, 0.075]}>>\n",
      "Fitting 3 folds for each of 9 candidates, totalling 27 fits\n"
     ]
    },
    {
     "name": "stderr",
     "output_type": "stream",
     "text": [
      "[Parallel(n_jobs=1)]: Done  27 out of  27 | elapsed:    2.1s finished\n"
     ]
    },
    {
     "name": "stdout",
     "output_type": "stream",
     "text": [
      "       Best parameters selected: <<{'C': 0.025}>> for score <<0.8287045135204061>>.\n",
      "       3. Grid Search model <<<class 'sklearn.svm.classes.LinearSVC'>>>; weight: <<{0: 1.0, 1: 38.19385796545106}>>; parameters: <<{'C': [0.001, 0.01, 0.1, 1.0, 10.0]}>>\n",
      "Fitting 3 folds for each of 5 candidates, totalling 15 fits\n"
     ]
    },
    {
     "name": "stderr",
     "output_type": "stream",
     "text": [
      "[Parallel(n_jobs=1)]: Done  15 out of  15 | elapsed:    3.1s finished\n"
     ]
    },
    {
     "name": "stdout",
     "output_type": "stream",
     "text": [
      "       Best parameters selected: <<{'C': 0.01}>> for score <<0.8475900295737703>>.\n",
      "       4. Grid Search model <<<class 'sklearn.svm.classes.LinearSVC'>>>; weight: <<{0: 1.0, 1: 38.19385796545106}>>; parameters: <<{'C': [0.0033, 0.005, 0.0067, 0.0083, 0.01, 0.015, 0.02, 0.025, 0.03]}>>\n",
      "Fitting 3 folds for each of 9 candidates, totalling 27 fits\n"
     ]
    },
    {
     "name": "stderr",
     "output_type": "stream",
     "text": [
      "[Parallel(n_jobs=1)]: Done  27 out of  27 | elapsed:    2.5s finished\n"
     ]
    },
    {
     "name": "stdout",
     "output_type": "stream",
     "text": [
      "       Best parameters selected: <<{'C': 0.01}>> for score <<0.8475900295737703>>.\n",
      "       Final parameters selected: <<{'C': 0.01}>> for score <<0.8475900295737703>> ({0: 1.0, 1: 38.19385796545106}).\n",
      "\n",
      "          *** Score on validation dataset (macro/weighted) <<0.8617001517785368>> / <<0.8666921313980137>>.\n",
      "[[2150  329]\n",
      " [  20  119]]\n",
      "\n",
      "-------------------------------------------------------------------\n",
      "    23. Fit model for class: <<electricity>> ((20941, 12008)).\n",
      "    Tuning hyper-parameters for class: <<electricity>> (Recall).\n",
      "       1. Grid Search model <<<class 'sklearn.svm.classes.LinearSVC'>>>; weight: <<balanced>>; parameters: <<{'C': [0.001, 0.01, 0.1, 1.0, 10.0]}>>\n",
      "Fitting 3 folds for each of 5 candidates, totalling 15 fits\n"
     ]
    },
    {
     "name": "stderr",
     "output_type": "stream",
     "text": [
      "[Parallel(n_jobs=1)]: Done  15 out of  15 | elapsed:    2.1s finished\n"
     ]
    },
    {
     "name": "stdout",
     "output_type": "stream",
     "text": [
      "       Best parameters selected: <<{'C': 0.01}>> for score <<0.8197462644109489>>.\n",
      "       2. Grid Search model <<<class 'sklearn.svm.classes.LinearSVC'>>>; weight: <<balanced>>; parameters: <<{'C': [0.0033, 0.005, 0.0067, 0.0083, 0.01, 0.015, 0.02, 0.025, 0.03]}>>\n",
      "Fitting 3 folds for each of 9 candidates, totalling 27 fits\n"
     ]
    },
    {
     "name": "stderr",
     "output_type": "stream",
     "text": [
      "[Parallel(n_jobs=1)]: Done  27 out of  27 | elapsed:    2.1s finished\n"
     ]
    },
    {
     "name": "stdout",
     "output_type": "stream",
     "text": [
      "       Best parameters selected: <<{'C': 0.02}>> for score <<0.8276501431650936>>.\n",
      "       3. Grid Search model <<<class 'sklearn.svm.classes.LinearSVC'>>>; weight: <<balanced>>; parameters: <<{'C': [0.0067, 0.01, 0.0133, 0.0167, 0.02, 0.03, 0.04, 0.05, 0.06]}>>\n",
      "Fitting 3 folds for each of 9 candidates, totalling 27 fits\n"
     ]
    },
    {
     "name": "stderr",
     "output_type": "stream",
     "text": [
      "[Parallel(n_jobs=1)]: Done  27 out of  27 | elapsed:    2.9s finished\n"
     ]
    },
    {
     "name": "stdout",
     "output_type": "stream",
     "text": [
      "       Best parameters selected: <<{'C': 0.02}>> for score <<0.8276501431650936>>.\n",
      "       3. Grid Search model <<<class 'sklearn.svm.classes.LinearSVC'>>>; weight: <<{0: 1.0, 1: 94.05963302752293}>>; parameters: <<{'C': [0.001, 0.01, 0.1, 1.0, 10.0]}>>\n",
      "Fitting 3 folds for each of 5 candidates, totalling 15 fits\n"
     ]
    },
    {
     "name": "stderr",
     "output_type": "stream",
     "text": [
      "[Parallel(n_jobs=1)]: Done  15 out of  15 | elapsed:    2.6s finished\n"
     ]
    },
    {
     "name": "stdout",
     "output_type": "stream",
     "text": [
      "       Best parameters selected: <<{'C': 0.01}>> for score <<0.8322290395670399>>.\n",
      "       4. Grid Search model <<<class 'sklearn.svm.classes.LinearSVC'>>>; weight: <<{0: 1.0, 1: 94.05963302752293}>>; parameters: <<{'C': [0.0033, 0.005, 0.0067, 0.0083, 0.01, 0.015, 0.02, 0.025, 0.03]}>>\n",
      "Fitting 3 folds for each of 9 candidates, totalling 27 fits\n"
     ]
    },
    {
     "name": "stderr",
     "output_type": "stream",
     "text": [
      "[Parallel(n_jobs=1)]: Done  27 out of  27 | elapsed:    4.0s finished\n"
     ]
    },
    {
     "name": "stdout",
     "output_type": "stream",
     "text": [
      "       Best parameters selected: <<{'C': 0.0083}>> for score <<0.8352904238569883>>.\n",
      "       5. Grid Search model <<<class 'sklearn.svm.classes.LinearSVC'>>>; weight: <<{0: 1.0, 1: 94.05963302752293}>>; parameters: <<{'C': [0.0028, 0.0042, 0.0055, 0.0069, 0.0083, 0.0124, 0.0166, 0.0207, 0.0249]}>>\n",
      "Fitting 3 folds for each of 9 candidates, totalling 27 fits\n"
     ]
    },
    {
     "name": "stderr",
     "output_type": "stream",
     "text": [
      "[Parallel(n_jobs=1)]: Done  27 out of  27 | elapsed:    3.9s finished\n"
     ]
    },
    {
     "name": "stdout",
     "output_type": "stream",
     "text": [
      "       Best parameters selected: <<{'C': 0.0055}>> for score <<0.8361006749272613>>.\n",
      "       6. Grid Search model <<<class 'sklearn.svm.classes.LinearSVC'>>>; weight: <<{0: 1.0, 1: 94.05963302752293}>>; parameters: <<{'C': [0.0018, 0.0028, 0.0037, 0.0046, 0.0055, 0.0082, 0.011, 0.0138, 0.0165]}>>\n",
      "Fitting 3 folds for each of 9 candidates, totalling 27 fits\n"
     ]
    },
    {
     "name": "stderr",
     "output_type": "stream",
     "text": [
      "[Parallel(n_jobs=1)]: Done  27 out of  27 | elapsed:    3.3s finished\n"
     ]
    },
    {
     "name": "stdout",
     "output_type": "stream",
     "text": [
      "       Best parameters selected: <<{'C': 0.0055}>> for score <<0.8361006749272613>>.\n",
      "       Final parameters selected: <<{'C': 0.02}>> for score <<0.8276501431650936>> (balanced).\n",
      "\n",
      "          *** Score on validation dataset (macro/weighted) <<0.8009190031152649>> / <<0.9556913674560733>>.\n",
      "[[2470   98]\n",
      " [  18   32]]\n",
      "\n",
      "-------------------------------------------------------------------\n",
      "    24. Fit model for class: <<tools>> ((20941, 12008)).\n",
      "    Tuning hyper-parameters for class: <<tools>> (Recall).\n",
      "       1. Grid Search model <<<class 'sklearn.svm.classes.LinearSVC'>>>; weight: <<balanced>>; parameters: <<{'C': [0.001, 0.01, 0.1, 1.0, 10.0]}>>\n",
      "Fitting 3 folds for each of 5 candidates, totalling 15 fits\n"
     ]
    },
    {
     "name": "stderr",
     "output_type": "stream",
     "text": [
      "[Parallel(n_jobs=1)]: Done  15 out of  15 | elapsed:    2.3s finished\n"
     ]
    },
    {
     "name": "stdout",
     "output_type": "stream",
     "text": [
      "       Best parameters selected: <<{'C': 0.001}>> for score <<0.5906140734414017>>.\n",
      "       2. Grid Search model <<<class 'sklearn.svm.classes.LinearSVC'>>>; weight: <<balanced>>; parameters: <<{'C': [0.0003, 0.0005, 0.0007, 0.0008, 0.001, 0.0015, 0.002, 0.0025, 0.003]}>>\n",
      "Fitting 3 folds for each of 9 candidates, totalling 27 fits\n"
     ]
    },
    {
     "name": "stderr",
     "output_type": "stream",
     "text": [
      "[Parallel(n_jobs=1)]: Done  27 out of  27 | elapsed:    1.1s finished\n"
     ]
    },
    {
     "name": "stdout",
     "output_type": "stream",
     "text": [
      "       Best parameters selected: <<{'C': 0.0025}>> for score <<0.6049762828261146>>.\n",
      "       3. Grid Search model <<<class 'sklearn.svm.classes.LinearSVC'>>>; weight: <<balanced>>; parameters: <<{'C': [0.0008, 0.0012, 0.0017, 0.0021, 0.0025, 0.0038, 0.005, 0.0062, 0.0075]}>>\n",
      "Fitting 3 folds for each of 9 candidates, totalling 27 fits\n"
     ]
    },
    {
     "name": "stderr",
     "output_type": "stream",
     "text": [
      "[Parallel(n_jobs=1)]: Done  27 out of  27 | elapsed:    1.7s finished\n"
     ]
    },
    {
     "name": "stdout",
     "output_type": "stream",
     "text": [
      "       Best parameters selected: <<{'C': 0.0038}>> for score <<0.6075461035866272>>.\n",
      "       4. Grid Search model <<<class 'sklearn.svm.classes.LinearSVC'>>>; weight: <<balanced>>; parameters: <<{'C': [0.0013, 0.0019, 0.0025, 0.0032, 0.0038, 0.0057, 0.0076, 0.0095, 0.0114]}>>\n",
      "Fitting 3 folds for each of 9 candidates, totalling 27 fits\n"
     ]
    },
    {
     "name": "stderr",
     "output_type": "stream",
     "text": [
      "[Parallel(n_jobs=1)]: Done  27 out of  27 | elapsed:    2.3s finished\n"
     ]
    },
    {
     "name": "stdout",
     "output_type": "stream",
     "text": [
      "       Best parameters selected: <<{'C': 0.0038}>> for score <<0.6075461035866272>>.\n",
      "       4. Grid Search model <<<class 'sklearn.svm.classes.LinearSVC'>>>; weight: <<{0: 1.0, 1: 160.08461538461538}>>; parameters: <<{'C': [0.001, 0.01, 0.1, 1.0, 10.0]}>>\n",
      "Fitting 3 folds for each of 5 candidates, totalling 15 fits\n"
     ]
    },
    {
     "name": "stderr",
     "output_type": "stream",
     "text": [
      "[Parallel(n_jobs=1)]: Done  15 out of  15 | elapsed:    2.2s finished\n"
     ]
    },
    {
     "name": "stdout",
     "output_type": "stream",
     "text": [
      "       Best parameters selected: <<{'C': 0.001}>> for score <<0.5991855835469896>>.\n",
      "       5. Grid Search model <<<class 'sklearn.svm.classes.LinearSVC'>>>; weight: <<{0: 1.0, 1: 160.08461538461538}>>; parameters: <<{'C': [0.0003, 0.0005, 0.0007, 0.0008, 0.001, 0.0015, 0.002, 0.0025, 0.003]}>>\n",
      "Fitting 3 folds for each of 9 candidates, totalling 27 fits\n"
     ]
    },
    {
     "name": "stderr",
     "output_type": "stream",
     "text": [
      "[Parallel(n_jobs=1)]: Done  27 out of  27 | elapsed:    1.6s finished\n"
     ]
    },
    {
     "name": "stdout",
     "output_type": "stream",
     "text": [
      "       Best parameters selected: <<{'C': 0.002}>> for score <<0.6093480903281135>>.\n",
      "       6. Grid Search model <<<class 'sklearn.svm.classes.LinearSVC'>>>; weight: <<{0: 1.0, 1: 160.08461538461538}>>; parameters: <<{'C': [0.0007, 0.001, 0.0013, 0.0017, 0.002, 0.003, 0.004, 0.005, 0.006]}>>\n",
      "Fitting 3 folds for each of 9 candidates, totalling 27 fits\n"
     ]
    },
    {
     "name": "stderr",
     "output_type": "stream",
     "text": [
      "[Parallel(n_jobs=1)]: Done  27 out of  27 | elapsed:    2.1s finished\n"
     ]
    },
    {
     "name": "stdout",
     "output_type": "stream",
     "text": [
      "       Best parameters selected: <<{'C': 0.002}>> for score <<0.6093480903281135>>.\n",
      "       Final parameters selected: <<{'C': 0.0038}>> for score <<0.6075461035866272>> (balanced).\n",
      "\n",
      "          *** Score on validation dataset (macro/weighted) <<0.8564805918524212>> / <<0.8999236058059588>>.\n",
      "[[2343  259]\n",
      " [   3   13]]\n",
      "\n",
      "-------------------------------------------------------------------\n",
      "    25. Fit model for class: <<hospitals>> ((20941, 12008)).\n",
      "    Tuning hyper-parameters for class: <<hospitals>> (Recall).\n",
      "       1. Grid Search model <<<class 'sklearn.svm.classes.LinearSVC'>>>; weight: <<balanced>>; parameters: <<{'C': [0.001, 0.01, 0.1, 1.0, 10.0]}>>\n",
      "Fitting 3 folds for each of 5 candidates, totalling 15 fits\n"
     ]
    },
    {
     "name": "stderr",
     "output_type": "stream",
     "text": [
      "[Parallel(n_jobs=1)]: Done  15 out of  15 | elapsed:    1.7s finished\n"
     ]
    },
    {
     "name": "stdout",
     "output_type": "stream",
     "text": [
      "       Best parameters selected: <<{'C': 0.01}>> for score <<0.7333174915929602>>.\n",
      "       2. Grid Search model <<<class 'sklearn.svm.classes.LinearSVC'>>>; weight: <<balanced>>; parameters: <<{'C': [0.0033, 0.005, 0.0067, 0.0083, 0.01, 0.015, 0.02, 0.025, 0.03]}>>\n",
      "Fitting 3 folds for each of 9 candidates, totalling 27 fits\n"
     ]
    },
    {
     "name": "stderr",
     "output_type": "stream",
     "text": [
      "[Parallel(n_jobs=1)]: Done  27 out of  27 | elapsed:    2.4s finished\n"
     ]
    },
    {
     "name": "stdout",
     "output_type": "stream",
     "text": [
      "       Best parameters selected: <<{'C': 0.0083}>> for score <<0.7374181445953196>>.\n",
      "       3. Grid Search model <<<class 'sklearn.svm.classes.LinearSVC'>>>; weight: <<balanced>>; parameters: <<{'C': [0.0028, 0.0042, 0.0055, 0.0069, 0.0083, 0.0124, 0.0166, 0.0207, 0.0249]}>>\n",
      "Fitting 3 folds for each of 9 candidates, totalling 27 fits\n"
     ]
    },
    {
     "name": "stderr",
     "output_type": "stream",
     "text": [
      "[Parallel(n_jobs=1)]: Done  27 out of  27 | elapsed:    2.2s finished\n"
     ]
    },
    {
     "name": "stdout",
     "output_type": "stream",
     "text": [
      "       Best parameters selected: <<{'C': 0.0083}>> for score <<0.7374181445953196>>.\n",
      "       3. Grid Search model <<<class 'sklearn.svm.classes.LinearSVC'>>>; weight: <<{0: 1.0, 1: 92.48660714285715}>>; parameters: <<{'C': [0.001, 0.01, 0.1, 1.0, 10.0]}>>\n",
      "Fitting 3 folds for each of 5 candidates, totalling 15 fits\n"
     ]
    },
    {
     "name": "stderr",
     "output_type": "stream",
     "text": [
      "[Parallel(n_jobs=1)]: Done  15 out of  15 | elapsed:    1.8s finished\n"
     ]
    },
    {
     "name": "stdout",
     "output_type": "stream",
     "text": [
      "       Best parameters selected: <<{'C': 0.01}>> for score <<0.7296042080996302>>.\n",
      "       4. Grid Search model <<<class 'sklearn.svm.classes.LinearSVC'>>>; weight: <<{0: 1.0, 1: 92.48660714285715}>>; parameters: <<{'C': [0.0033, 0.005, 0.0067, 0.0083, 0.01, 0.015, 0.02, 0.025, 0.03]}>>\n",
      "Fitting 3 folds for each of 9 candidates, totalling 27 fits\n"
     ]
    },
    {
     "name": "stderr",
     "output_type": "stream",
     "text": [
      "[Parallel(n_jobs=1)]: Done  27 out of  27 | elapsed:    3.0s finished\n"
     ]
    },
    {
     "name": "stdout",
     "output_type": "stream",
     "text": [
      "       Best parameters selected: <<{'C': 0.005}>> for score <<0.7354245118661138>>.\n",
      "       5. Grid Search model <<<class 'sklearn.svm.classes.LinearSVC'>>>; weight: <<{0: 1.0, 1: 92.48660714285715}>>; parameters: <<{'C': [0.0017, 0.0025, 0.0033, 0.0042, 0.005, 0.0075, 0.01, 0.0125, 0.015]}>>\n",
      "Fitting 3 folds for each of 9 candidates, totalling 27 fits\n"
     ]
    },
    {
     "name": "stderr",
     "output_type": "stream",
     "text": [
      "[Parallel(n_jobs=1)]: Done  27 out of  27 | elapsed:    2.3s finished\n"
     ]
    },
    {
     "name": "stdout",
     "output_type": "stream",
     "text": [
      "       Best parameters selected: <<{'C': 0.0042}>> for score <<0.7374422873445015>>.\n",
      "       6. Grid Search model <<<class 'sklearn.svm.classes.LinearSVC'>>>; weight: <<{0: 1.0, 1: 92.48660714285715}>>; parameters: <<{'C': [0.0014, 0.0021, 0.0028, 0.0035, 0.0042, 0.0063, 0.0084, 0.0105, 0.0126]}>>\n",
      "Fitting 3 folds for each of 9 candidates, totalling 27 fits\n"
     ]
    },
    {
     "name": "stderr",
     "output_type": "stream",
     "text": [
      "[Parallel(n_jobs=1)]: Done  27 out of  27 | elapsed:    2.1s finished\n"
     ]
    },
    {
     "name": "stdout",
     "output_type": "stream",
     "text": [
      "       Best parameters selected: <<{'C': 0.0042}>> for score <<0.7374422873445015>>.\n",
      "       Final parameters selected: <<{'C': 0.0083}>> for score <<0.7374181445953196>> (balanced).\n",
      "\n",
      "          *** Score on validation dataset (macro/weighted) <<0.8309587986137852>> / <<0.9457601222307105>>.\n",
      "[[2461  136]\n",
      " [   6   15]]\n",
      "\n",
      "-------------------------------------------------------------------\n",
      "    26. Fit model for class: <<shops>> ((20941, 12008)).\n",
      "    Tuning hyper-parameters for class: <<shops>> (Recall).\n",
      "       1. Grid Search model <<<class 'sklearn.svm.classes.LinearSVC'>>>; weight: <<balanced>>; parameters: <<{'C': [0.001, 0.01, 0.1, 1.0, 10.0]}>>\n",
      "Fitting 3 folds for each of 5 candidates, totalling 15 fits\n"
     ]
    },
    {
     "name": "stderr",
     "output_type": "stream",
     "text": [
      "[Parallel(n_jobs=1)]: Done  15 out of  15 | elapsed:    1.5s finished\n"
     ]
    },
    {
     "name": "stdout",
     "output_type": "stream",
     "text": [
      "       Best parameters selected: <<{'C': 0.001}>> for score <<0.5954365573540839>>.\n",
      "       2. Grid Search model <<<class 'sklearn.svm.classes.LinearSVC'>>>; weight: <<balanced>>; parameters: <<{'C': [0.0003, 0.0005, 0.0007, 0.0008, 0.001, 0.0015, 0.002, 0.0025, 0.003]}>>\n",
      "Fitting 3 folds for each of 9 candidates, totalling 27 fits\n"
     ]
    },
    {
     "name": "stderr",
     "output_type": "stream",
     "text": [
      "[Parallel(n_jobs=1)]: Done  27 out of  27 | elapsed:    1.3s finished\n"
     ]
    },
    {
     "name": "stdout",
     "output_type": "stream",
     "text": [
      "       Best parameters selected: <<{'C': 0.003}>> for score <<0.611640633362762>>.\n",
      "       3. Grid Search model <<<class 'sklearn.svm.classes.LinearSVC'>>>; weight: <<balanced>>; parameters: <<{'C': [0.001, 0.0015, 0.002, 0.0025, 0.003, 0.0045, 0.006, 0.0075, 0.009]}>>\n",
      "Fitting 3 folds for each of 9 candidates, totalling 27 fits\n"
     ]
    },
    {
     "name": "stderr",
     "output_type": "stream",
     "text": [
      "[Parallel(n_jobs=1)]: Done  27 out of  27 | elapsed:    1.9s finished\n"
     ]
    },
    {
     "name": "stdout",
     "output_type": "stream",
     "text": [
      "       Best parameters selected: <<{'C': 0.003}>> for score <<0.611640633362762>>.\n",
      "       3. Grid Search model <<<class 'sklearn.svm.classes.LinearSVC'>>>; weight: <<{0: 1.0, 1: 224.1720430107527}>>; parameters: <<{'C': [0.001, 0.01, 0.1, 1.0, 10.0]}>>\n",
      "Fitting 3 folds for each of 5 candidates, totalling 15 fits\n"
     ]
    },
    {
     "name": "stderr",
     "output_type": "stream",
     "text": [
      "[Parallel(n_jobs=1)]: Done  15 out of  15 | elapsed:    1.6s finished\n"
     ]
    },
    {
     "name": "stdout",
     "output_type": "stream",
     "text": [
      "       Best parameters selected: <<{'C': 0.001}>> for score <<0.6080478059860551>>.\n",
      "       4. Grid Search model <<<class 'sklearn.svm.classes.LinearSVC'>>>; weight: <<{0: 1.0, 1: 224.1720430107527}>>; parameters: <<{'C': [0.0003, 0.0005, 0.0007, 0.0008, 0.001, 0.0015, 0.002, 0.0025, 0.003]}>>\n",
      "Fitting 3 folds for each of 9 candidates, totalling 27 fits\n"
     ]
    },
    {
     "name": "stderr",
     "output_type": "stream",
     "text": [
      "[Parallel(n_jobs=1)]: Done  27 out of  27 | elapsed:    1.7s finished\n"
     ]
    },
    {
     "name": "stdout",
     "output_type": "stream",
     "text": [
      "       Best parameters selected: <<{'C': 0.0015}>> for score <<0.6115686840151012>>.\n",
      "       5. Grid Search model <<<class 'sklearn.svm.classes.LinearSVC'>>>; weight: <<{0: 1.0, 1: 224.1720430107527}>>; parameters: <<{'C': [0.0005, 0.0008, 0.001, 0.0012, 0.0015, 0.0023, 0.003, 0.0038, 0.0045]}>>\n",
      "Fitting 3 folds for each of 9 candidates, totalling 27 fits\n"
     ]
    },
    {
     "name": "stderr",
     "output_type": "stream",
     "text": [
      "[Parallel(n_jobs=1)]: Done  27 out of  27 | elapsed:    2.2s finished\n"
     ]
    },
    {
     "name": "stdout",
     "output_type": "stream",
     "text": [
      "       Best parameters selected: <<{'C': 0.0023}>> for score <<0.6116081412084925>>.\n",
      "       6. Grid Search model <<<class 'sklearn.svm.classes.LinearSVC'>>>; weight: <<{0: 1.0, 1: 224.1720430107527}>>; parameters: <<{'C': [0.0008, 0.0012, 0.0015, 0.0019, 0.0023, 0.0034, 0.0046, 0.0058, 0.0069]}>>\n",
      "Fitting 3 folds for each of 9 candidates, totalling 27 fits\n"
     ]
    },
    {
     "name": "stderr",
     "output_type": "stream",
     "text": [
      "[Parallel(n_jobs=1)]: Done  27 out of  27 | elapsed:    2.6s finished\n"
     ]
    },
    {
     "name": "stdout",
     "output_type": "stream",
     "text": [
      "       Best parameters selected: <<{'C': 0.0023}>> for score <<0.6116081412084925>>.\n",
      "       Final parameters selected: <<{'C': 0.003}>> for score <<0.611640633362762>> (balanced).\n",
      "\n",
      "          *** Score on validation dataset (macro/weighted) <<0.7874247662953002>> / <<0.9067990832696715>>.\n",
      "[[2364  239]\n",
      " [   5   10]]\n",
      "\n",
      "-------------------------------------------------------------------\n",
      "    27. Fit model for class: <<aid_centers>> ((20941, 12008)).\n",
      "    Tuning hyper-parameters for class: <<aid_centers>> (Recall).\n",
      "       1. Grid Search model <<<class 'sklearn.svm.classes.LinearSVC'>>>; weight: <<balanced>>; parameters: <<{'C': [0.001, 0.01, 0.1, 1.0, 10.0]}>>\n",
      "Fitting 3 folds for each of 5 candidates, totalling 15 fits\n"
     ]
    },
    {
     "name": "stderr",
     "output_type": "stream",
     "text": [
      "[Parallel(n_jobs=1)]: Done  15 out of  15 | elapsed:    2.1s finished\n"
     ]
    },
    {
     "name": "stdout",
     "output_type": "stream",
     "text": [
      "       Best parameters selected: <<{'C': 0.01}>> for score <<0.7230036746360405>>.\n",
      "       2. Grid Search model <<<class 'sklearn.svm.classes.LinearSVC'>>>; weight: <<balanced>>; parameters: <<{'C': [0.0033, 0.005, 0.0067, 0.0083, 0.01, 0.015, 0.02, 0.025, 0.03]}>>\n",
      "Fitting 3 folds for each of 9 candidates, totalling 27 fits\n"
     ]
    },
    {
     "name": "stderr",
     "output_type": "stream",
     "text": [
      "[Parallel(n_jobs=1)]: Done  27 out of  27 | elapsed:    2.4s finished\n"
     ]
    },
    {
     "name": "stdout",
     "output_type": "stream",
     "text": [
      "       Best parameters selected: <<{'C': 0.0033}>> for score <<0.740099833215771>>.\n",
      "       3. Grid Search model <<<class 'sklearn.svm.classes.LinearSVC'>>>; weight: <<balanced>>; parameters: <<{'C': [0.0011, 0.0016, 0.0022, 0.0028, 0.0033, 0.0049, 0.0066, 0.0082, 0.0099]}>>\n",
      "Fitting 3 folds for each of 9 candidates, totalling 27 fits\n"
     ]
    },
    {
     "name": "stderr",
     "output_type": "stream",
     "text": [
      "[Parallel(n_jobs=1)]: Done  27 out of  27 | elapsed:    1.5s finished\n"
     ]
    },
    {
     "name": "stdout",
     "output_type": "stream",
     "text": [
      "       Best parameters selected: <<{'C': 0.0049}>> for score <<0.7413166978145759>>.\n",
      "       4. Grid Search model <<<class 'sklearn.svm.classes.LinearSVC'>>>; weight: <<balanced>>; parameters: <<{'C': [0.0016, 0.0024, 0.0033, 0.0041, 0.0049, 0.0074, 0.0098, 0.0122, 0.0147]}>>\n",
      "Fitting 3 folds for each of 9 candidates, totalling 27 fits\n"
     ]
    },
    {
     "name": "stderr",
     "output_type": "stream",
     "text": [
      "[Parallel(n_jobs=1)]: Done  27 out of  27 | elapsed:    1.7s finished\n"
     ]
    },
    {
     "name": "stdout",
     "output_type": "stream",
     "text": [
      "       Best parameters selected: <<{'C': 0.0041}>> for score <<0.7425580121680448>>.\n",
      "       5. Grid Search model <<<class 'sklearn.svm.classes.LinearSVC'>>>; weight: <<balanced>>; parameters: <<{'C': [0.0014, 0.002, 0.0027, 0.0034, 0.0041, 0.0062, 0.0082, 0.0103, 0.0123]}>>\n",
      "Fitting 3 folds for each of 9 candidates, totalling 27 fits\n"
     ]
    },
    {
     "name": "stderr",
     "output_type": "stream",
     "text": [
      "[Parallel(n_jobs=1)]: Done  27 out of  27 | elapsed:    1.7s finished\n"
     ]
    },
    {
     "name": "stdout",
     "output_type": "stream",
     "text": [
      "       Best parameters selected: <<{'C': 0.0041}>> for score <<0.7425580121680448>>.\n",
      "       5. Grid Search model <<<class 'sklearn.svm.classes.LinearSVC'>>>; weight: <<{0: 1.0, 1: 84.1260162601626}>>; parameters: <<{'C': [0.001, 0.01, 0.1, 1.0, 10.0]}>>\n",
      "Fitting 3 folds for each of 5 candidates, totalling 15 fits\n"
     ]
    },
    {
     "name": "stderr",
     "output_type": "stream",
     "text": [
      "[Parallel(n_jobs=1)]: Done  15 out of  15 | elapsed:    2.0s finished\n"
     ]
    },
    {
     "name": "stdout",
     "output_type": "stream",
     "text": [
      "       Best parameters selected: <<{'C': 0.001}>> for score <<0.7262579794192842>>.\n",
      "       6. Grid Search model <<<class 'sklearn.svm.classes.LinearSVC'>>>; weight: <<{0: 1.0, 1: 84.1260162601626}>>; parameters: <<{'C': [0.0003, 0.0005, 0.0007, 0.0008, 0.001, 0.0015, 0.002, 0.0025, 0.003]}>>\n",
      "Fitting 3 folds for each of 9 candidates, totalling 27 fits\n"
     ]
    },
    {
     "name": "stderr",
     "output_type": "stream",
     "text": [
      "[Parallel(n_jobs=1)]: Done  27 out of  27 | elapsed:    1.4s finished\n"
     ]
    },
    {
     "name": "stdout",
     "output_type": "stream",
     "text": [
      "       Best parameters selected: <<{'C': 0.002}>> for score <<0.741664076174166>>.\n",
      "       7. Grid Search model <<<class 'sklearn.svm.classes.LinearSVC'>>>; weight: <<{0: 1.0, 1: 84.1260162601626}>>; parameters: <<{'C': [0.0007, 0.001, 0.0013, 0.0017, 0.002, 0.003, 0.004, 0.005, 0.006]}>>\n",
      "Fitting 3 folds for each of 9 candidates, totalling 27 fits\n"
     ]
    },
    {
     "name": "stderr",
     "output_type": "stream",
     "text": [
      "[Parallel(n_jobs=1)]: Done  27 out of  27 | elapsed:    1.6s finished\n"
     ]
    },
    {
     "name": "stdout",
     "output_type": "stream",
     "text": [
      "       Best parameters selected: <<{'C': 0.002}>> for score <<0.741664076174166>>.\n",
      "       Final parameters selected: <<{'C': 0.0041}>> for score <<0.7425580121680448>> (balanced).\n",
      "\n",
      "          *** Score on validation dataset (macro/weighted) <<0.7236491580799196>> / <<0.8792971734148205>>.\n",
      "[[2289  306]\n",
      " [  10   13]]\n",
      "\n",
      "-------------------------------------------------------------------\n",
      "    28. Fit model for class: <<other_infrastructure>> ((20941, 12008)).\n",
      "    Tuning hyper-parameters for class: <<other_infrastructure>> (Recall).\n",
      "       1. Grid Search model <<<class 'sklearn.svm.classes.LinearSVC'>>>; weight: <<balanced>>; parameters: <<{'C': [0.001, 0.01, 0.1, 1.0, 10.0]}>>\n",
      "Fitting 3 folds for each of 5 candidates, totalling 15 fits\n"
     ]
    },
    {
     "name": "stderr",
     "output_type": "stream",
     "text": [
      "[Parallel(n_jobs=1)]: Done  15 out of  15 | elapsed:    3.2s finished\n"
     ]
    },
    {
     "name": "stdout",
     "output_type": "stream",
     "text": [
      "       Best parameters selected: <<{'C': 0.01}>> for score <<0.7297787288752254>>.\n",
      "       2. Grid Search model <<<class 'sklearn.svm.classes.LinearSVC'>>>; weight: <<balanced>>; parameters: <<{'C': [0.0033, 0.005, 0.0067, 0.0083, 0.01, 0.015, 0.02, 0.025, 0.03]}>>\n",
      "Fitting 3 folds for each of 9 candidates, totalling 27 fits\n"
     ]
    },
    {
     "name": "stderr",
     "output_type": "stream",
     "text": [
      "[Parallel(n_jobs=1)]: Done  27 out of  27 | elapsed:    1.5s finished\n"
     ]
    },
    {
     "name": "stdout",
     "output_type": "stream",
     "text": [
      "       Best parameters selected: <<{'C': 0.02}>> for score <<0.7343608389461461>>.\n",
      "       3. Grid Search model <<<class 'sklearn.svm.classes.LinearSVC'>>>; weight: <<balanced>>; parameters: <<{'C': [0.0067, 0.01, 0.0133, 0.0167, 0.02, 0.03, 0.04, 0.05, 0.06]}>>\n",
      "Fitting 3 folds for each of 9 candidates, totalling 27 fits\n"
     ]
    },
    {
     "name": "stderr",
     "output_type": "stream",
     "text": [
      "[Parallel(n_jobs=1)]: Done  27 out of  27 | elapsed:    2.0s finished\n"
     ]
    },
    {
     "name": "stdout",
     "output_type": "stream",
     "text": [
      "       Best parameters selected: <<{'C': 0.0167}>> for score <<0.7353412235375875>>.\n",
      "       4. Grid Search model <<<class 'sklearn.svm.classes.LinearSVC'>>>; weight: <<balanced>>; parameters: <<{'C': [0.0056, 0.0084, 0.0111, 0.0139, 0.0167, 0.025, 0.0334, 0.0417, 0.0501]}>>\n",
      "Fitting 3 folds for each of 9 candidates, totalling 27 fits\n"
     ]
    },
    {
     "name": "stderr",
     "output_type": "stream",
     "text": [
      "[Parallel(n_jobs=1)]: Done  27 out of  27 | elapsed:    1.8s finished\n"
     ]
    },
    {
     "name": "stdout",
     "output_type": "stream",
     "text": [
      "       Best parameters selected: <<{'C': 0.0167}>> for score <<0.7353412235375875>>.\n",
      "       4. Grid Search model <<<class 'sklearn.svm.classes.LinearSVC'>>>; weight: <<{0: 1.0, 1: 43.822757111597376}>>; parameters: <<{'C': [0.001, 0.01, 0.1, 1.0, 10.0]}>>\n",
      "Fitting 3 folds for each of 5 candidates, totalling 15 fits\n"
     ]
    },
    {
     "name": "stderr",
     "output_type": "stream",
     "text": [
      "[Parallel(n_jobs=1)]: Done  15 out of  15 | elapsed:    3.9s finished\n"
     ]
    },
    {
     "name": "stdout",
     "output_type": "stream",
     "text": [
      "       Best parameters selected: <<{'C': 0.01}>> for score <<0.7467042049770543>>.\n",
      "       5. Grid Search model <<<class 'sklearn.svm.classes.LinearSVC'>>>; weight: <<{0: 1.0, 1: 43.822757111597376}>>; parameters: <<{'C': [0.0033, 0.005, 0.0067, 0.0083, 0.01, 0.015, 0.02, 0.025, 0.03]}>>\n",
      "Fitting 3 folds for each of 9 candidates, totalling 27 fits\n"
     ]
    },
    {
     "name": "stderr",
     "output_type": "stream",
     "text": [
      "[Parallel(n_jobs=1)]: Done  27 out of  27 | elapsed:    2.7s finished\n"
     ]
    },
    {
     "name": "stdout",
     "output_type": "stream",
     "text": [
      "       Best parameters selected: <<{'C': 0.01}>> for score <<0.7467042049770543>>.\n",
      "       Final parameters selected: <<{'C': 0.01}>> for score <<0.7467042049770543>> ({0: 1.0, 1: 43.822757111597376}).\n",
      "\n",
      "          *** Score on validation dataset (macro/weighted) <<0.7454007220216607>> / <<0.7177234530175708>>.\n",
      "[[1782  711]\n",
      " [  28   97]]\n",
      "\n",
      "-------------------------------------------------------------------\n",
      "    29. Fit model for class: <<weather_related>> ((20941, 12008)).\n",
      "    Tuning hyper-parameters for class: <<weather_related>> (Recall).\n",
      "       1. Grid Search model <<<class 'sklearn.svm.classes.LinearSVC'>>>; weight: <<balanced>>; parameters: <<{'C': [0.001, 0.01, 0.1, 1.0, 10.0]}>>\n",
      "Fitting 3 folds for each of 5 candidates, totalling 15 fits\n"
     ]
    },
    {
     "name": "stderr",
     "output_type": "stream",
     "text": [
      "[Parallel(n_jobs=1)]: Done  15 out of  15 | elapsed:    3.4s finished\n"
     ]
    },
    {
     "name": "stdout",
     "output_type": "stream",
     "text": [
      "       Best parameters selected: <<{'C': 0.1}>> for score <<0.8520923010050684>>.\n",
      "       2. Grid Search model <<<class 'sklearn.svm.classes.LinearSVC'>>>; weight: <<balanced>>; parameters: <<{'C': [0.0333, 0.05, 0.0667, 0.0833, 0.1, 0.15, 0.2, 0.25, 0.3]}>>\n",
      "Fitting 3 folds for each of 9 candidates, totalling 27 fits\n"
     ]
    },
    {
     "name": "stderr",
     "output_type": "stream",
     "text": [
      "[Parallel(n_jobs=1)]: Done  27 out of  27 | elapsed:    1.8s finished\n"
     ]
    },
    {
     "name": "stdout",
     "output_type": "stream",
     "text": [
      "       Best parameters selected: <<{'C': 0.1}>> for score <<0.8520923010050684>>.\n",
      "       Final parameters selected: <<{'C': 0.1}>> for score <<0.8520923010050684>> (balanced).\n",
      "\n",
      "          *** Score on validation dataset (macro/weighted) <<0.8640637080792994>> / <<0.8903743315508021>>.\n",
      "[[1765  152]\n",
      " [ 135  566]]\n",
      "\n",
      "-------------------------------------------------------------------\n",
      "    30. Fit model for class: <<floods>> ((20941, 12008)).\n",
      "    Tuning hyper-parameters for class: <<floods>> (Recall).\n",
      "       1. Grid Search model <<<class 'sklearn.svm.classes.LinearSVC'>>>; weight: <<balanced>>; parameters: <<{'C': [0.001, 0.01, 0.1, 1.0, 10.0]}>>\n",
      "Fitting 3 folds for each of 5 candidates, totalling 15 fits\n"
     ]
    },
    {
     "name": "stderr",
     "output_type": "stream",
     "text": [
      "[Parallel(n_jobs=1)]: Done  15 out of  15 | elapsed:    2.8s finished\n"
     ]
    },
    {
     "name": "stdout",
     "output_type": "stream",
     "text": [
      "       Best parameters selected: <<{'C': 0.1}>> for score <<0.8279125820874496>>.\n",
      "       2. Grid Search model <<<class 'sklearn.svm.classes.LinearSVC'>>>; weight: <<balanced>>; parameters: <<{'C': [0.0333, 0.05, 0.0667, 0.0833, 0.1, 0.15, 0.2, 0.25, 0.3]}>>\n",
      "Fitting 3 folds for each of 9 candidates, totalling 27 fits\n"
     ]
    },
    {
     "name": "stderr",
     "output_type": "stream",
     "text": [
      "[Parallel(n_jobs=1)]: Done  27 out of  27 | elapsed:    3.2s finished\n"
     ]
    },
    {
     "name": "stdout",
     "output_type": "stream",
     "text": [
      "       Best parameters selected: <<{'C': 0.0333}>> for score <<0.8339547760773055>>.\n",
      "       3. Grid Search model <<<class 'sklearn.svm.classes.LinearSVC'>>>; weight: <<balanced>>; parameters: <<{'C': [0.0111, 0.0167, 0.0222, 0.0278, 0.0333, 0.05, 0.0666, 0.0833, 0.0999]}>>\n",
      "Fitting 3 folds for each of 9 candidates, totalling 27 fits\n"
     ]
    },
    {
     "name": "stderr",
     "output_type": "stream",
     "text": [
      "[Parallel(n_jobs=1)]: Done  27 out of  27 | elapsed:    2.0s finished\n"
     ]
    },
    {
     "name": "stdout",
     "output_type": "stream",
     "text": [
      "       Best parameters selected: <<{'C': 0.0222}>> for score <<0.8351259941431503>>.\n",
      "       4. Grid Search model <<<class 'sklearn.svm.classes.LinearSVC'>>>; weight: <<balanced>>; parameters: <<{'C': [0.0074, 0.0111, 0.0148, 0.0185, 0.0222, 0.0333, 0.0444, 0.0555, 0.0666]}>>\n",
      "Fitting 3 folds for each of 9 candidates, totalling 27 fits\n"
     ]
    },
    {
     "name": "stderr",
     "output_type": "stream",
     "text": [
      "[Parallel(n_jobs=1)]: Done  27 out of  27 | elapsed:    1.7s finished\n"
     ]
    },
    {
     "name": "stdout",
     "output_type": "stream",
     "text": [
      "       Best parameters selected: <<{'C': 0.0222}>> for score <<0.8351259941431503>>.\n",
      "       4. Grid Search model <<<class 'sklearn.svm.classes.LinearSVC'>>>; weight: <<{0: 1.0, 1: 22.139481268011526}>>; parameters: <<{'C': [0.001, 0.01, 0.1, 1.0, 10.0]}>>\n",
      "Fitting 3 folds for each of 5 candidates, totalling 15 fits\n"
     ]
    },
    {
     "name": "stderr",
     "output_type": "stream",
     "text": [
      "[Parallel(n_jobs=1)]: Done  15 out of  15 | elapsed:    4.1s finished\n"
     ]
    },
    {
     "name": "stdout",
     "output_type": "stream",
     "text": [
      "       Best parameters selected: <<{'C': 0.1}>> for score <<0.8196364060285256>>.\n",
      "       5. Grid Search model <<<class 'sklearn.svm.classes.LinearSVC'>>>; weight: <<{0: 1.0, 1: 22.139481268011526}>>; parameters: <<{'C': [0.0333, 0.05, 0.0667, 0.0833, 0.1, 0.15, 0.2, 0.25, 0.3]}>>\n",
      "Fitting 3 folds for each of 9 candidates, totalling 27 fits\n"
     ]
    },
    {
     "name": "stderr",
     "output_type": "stream",
     "text": [
      "[Parallel(n_jobs=1)]: Done  27 out of  27 | elapsed:    7.5s finished\n"
     ]
    },
    {
     "name": "stdout",
     "output_type": "stream",
     "text": [
      "       Best parameters selected: <<{'C': 0.05}>> for score <<0.8267065994152>>.\n",
      "       6. Grid Search model <<<class 'sklearn.svm.classes.LinearSVC'>>>; weight: <<{0: 1.0, 1: 22.139481268011526}>>; parameters: <<{'C': [0.0167, 0.025, 0.0333, 0.0417, 0.05, 0.075, 0.1, 0.125, 0.15]}>>\n",
      "Fitting 3 folds for each of 9 candidates, totalling 27 fits\n"
     ]
    },
    {
     "name": "stderr",
     "output_type": "stream",
     "text": [
      "[Parallel(n_jobs=1)]: Done  27 out of  27 | elapsed:    5.1s finished\n"
     ]
    },
    {
     "name": "stdout",
     "output_type": "stream",
     "text": [
      "       Best parameters selected: <<{'C': 0.05}>> for score <<0.8267065994152>>.\n",
      "       Final parameters selected: <<{'C': 0.0222}>> for score <<0.8351259941431503>> (balanced).\n",
      "\n",
      "          *** Score on validation dataset (macro/weighted) <<0.8442807921681161>> / <<0.9300993124522536>>.\n",
      "[[2277  128]\n",
      " [  55  158]]\n",
      "\n",
      "-------------------------------------------------------------------\n",
      "    31. Fit model for class: <<storm>> ((20941, 12008)).\n",
      "    Tuning hyper-parameters for class: <<storm>> (Recall).\n",
      "       1. Grid Search model <<<class 'sklearn.svm.classes.LinearSVC'>>>; weight: <<balanced>>; parameters: <<{'C': [0.001, 0.01, 0.1, 1.0, 10.0]}>>\n",
      "Fitting 3 folds for each of 5 candidates, totalling 15 fits\n"
     ]
    },
    {
     "name": "stderr",
     "output_type": "stream",
     "text": [
      "[Parallel(n_jobs=1)]: Done  15 out of  15 | elapsed:    2.9s finished\n"
     ]
    },
    {
     "name": "stdout",
     "output_type": "stream",
     "text": [
      "       Best parameters selected: <<{'C': 0.1}>> for score <<0.8920539987620851>>.\n",
      "       2. Grid Search model <<<class 'sklearn.svm.classes.LinearSVC'>>>; weight: <<balanced>>; parameters: <<{'C': [0.0333, 0.05, 0.0667, 0.0833, 0.1, 0.15, 0.2, 0.25, 0.3]}>>\n",
      "Fitting 3 folds for each of 9 candidates, totalling 27 fits\n"
     ]
    },
    {
     "name": "stderr",
     "output_type": "stream",
     "text": [
      "[Parallel(n_jobs=1)]: Done  27 out of  27 | elapsed:    3.1s finished\n"
     ]
    },
    {
     "name": "stdout",
     "output_type": "stream",
     "text": [
      "       Best parameters selected: <<{'C': 0.0667}>> for score <<0.8945265194892746>>.\n",
      "       3. Grid Search model <<<class 'sklearn.svm.classes.LinearSVC'>>>; weight: <<balanced>>; parameters: <<{'C': [0.0222, 0.0334, 0.0445, 0.0556, 0.0667, 0.1, 0.1334, 0.1668, 0.2001]}>>\n",
      "Fitting 3 folds for each of 9 candidates, totalling 27 fits\n"
     ]
    },
    {
     "name": "stderr",
     "output_type": "stream",
     "text": [
      "[Parallel(n_jobs=1)]: Done  27 out of  27 | elapsed:    2.6s finished\n"
     ]
    },
    {
     "name": "stdout",
     "output_type": "stream",
     "text": [
      "       Best parameters selected: <<{'C': 0.0667}>> for score <<0.8945265194892746>>.\n",
      "       Final parameters selected: <<{'C': 0.0667}>> for score <<0.8945265194892746>> (balanced).\n",
      "\n",
      "          *** Score on validation dataset (macro/weighted) <<0.9019912473793634>> / <<0.9472880061115355>>.\n",
      "[[2276  101]\n",
      " [  37  204]]\n",
      "\n",
      "-------------------------------------------------------------------\n",
      "    32. Fit model for class: <<fire>> ((20941, 12008)).\n",
      "    Tuning hyper-parameters for class: <<fire>> (Recall).\n",
      "       1. Grid Search model <<<class 'sklearn.svm.classes.LinearSVC'>>>; weight: <<balanced>>; parameters: <<{'C': [0.001, 0.01, 0.1, 1.0, 10.0]}>>\n",
      "Fitting 3 folds for each of 5 candidates, totalling 15 fits\n"
     ]
    },
    {
     "name": "stderr",
     "output_type": "stream",
     "text": [
      "[Parallel(n_jobs=1)]: Done  15 out of  15 | elapsed:    1.8s finished\n"
     ]
    },
    {
     "name": "stdout",
     "output_type": "stream",
     "text": [
      "       Best parameters selected: <<{'C': 0.01}>> for score <<0.7450967607039762>>.\n",
      "       2. Grid Search model <<<class 'sklearn.svm.classes.LinearSVC'>>>; weight: <<balanced>>; parameters: <<{'C': [0.0033, 0.005, 0.0067, 0.0083, 0.01, 0.015, 0.02, 0.025, 0.03]}>>\n",
      "Fitting 3 folds for each of 9 candidates, totalling 27 fits\n"
     ]
    },
    {
     "name": "stderr",
     "output_type": "stream",
     "text": [
      "[Parallel(n_jobs=1)]: Done  27 out of  27 | elapsed:    2.3s finished\n"
     ]
    },
    {
     "name": "stdout",
     "output_type": "stream",
     "text": [
      "       Best parameters selected: <<{'C': 0.005}>> for score <<0.7473555403976908>>.\n",
      "       3. Grid Search model <<<class 'sklearn.svm.classes.LinearSVC'>>>; weight: <<balanced>>; parameters: <<{'C': [0.0017, 0.0025, 0.0033, 0.0042, 0.005, 0.0075, 0.01, 0.0125, 0.015]}>>\n",
      "Fitting 3 folds for each of 9 candidates, totalling 27 fits\n"
     ]
    },
    {
     "name": "stderr",
     "output_type": "stream",
     "text": [
      "[Parallel(n_jobs=1)]: Done  27 out of  27 | elapsed:    1.7s finished\n"
     ]
    },
    {
     "name": "stdout",
     "output_type": "stream",
     "text": [
      "       Best parameters selected: <<{'C': 0.005}>> for score <<0.7473555403976908>>.\n",
      "       3. Grid Search model <<<class 'sklearn.svm.classes.LinearSVC'>>>; weight: <<{0: 1.0, 1: 89.65367965367965}>>; parameters: <<{'C': [0.001, 0.01, 0.1, 1.0, 10.0]}>>\n",
      "Fitting 3 folds for each of 5 candidates, totalling 15 fits\n"
     ]
    },
    {
     "name": "stderr",
     "output_type": "stream",
     "text": [
      "[Parallel(n_jobs=1)]: Done  15 out of  15 | elapsed:    1.9s finished\n"
     ]
    },
    {
     "name": "stdout",
     "output_type": "stream",
     "text": [
      "       Best parameters selected: <<{'C': 0.01}>> for score <<0.7408328676409724>>.\n",
      "       4. Grid Search model <<<class 'sklearn.svm.classes.LinearSVC'>>>; weight: <<{0: 1.0, 1: 89.65367965367965}>>; parameters: <<{'C': [0.0033, 0.005, 0.0067, 0.0083, 0.01, 0.015, 0.02, 0.025, 0.03]}>>\n",
      "Fitting 3 folds for each of 9 candidates, totalling 27 fits\n"
     ]
    },
    {
     "name": "stderr",
     "output_type": "stream",
     "text": [
      "[Parallel(n_jobs=1)]: Done  27 out of  27 | elapsed:    2.8s finished\n"
     ]
    },
    {
     "name": "stdout",
     "output_type": "stream",
     "text": [
      "       Best parameters selected: <<{'C': 0.0033}>> for score <<0.745892226636469>>.\n",
      "       5. Grid Search model <<<class 'sklearn.svm.classes.LinearSVC'>>>; weight: <<{0: 1.0, 1: 89.65367965367965}>>; parameters: <<{'C': [0.0011, 0.0016, 0.0022, 0.0028, 0.0033, 0.0049, 0.0066, 0.0082, 0.0099]}>>\n",
      "Fitting 3 folds for each of 9 candidates, totalling 27 fits\n"
     ]
    },
    {
     "name": "stderr",
     "output_type": "stream",
     "text": [
      "[Parallel(n_jobs=1)]: Done  27 out of  27 | elapsed:    2.0s finished\n"
     ]
    },
    {
     "name": "stdout",
     "output_type": "stream",
     "text": [
      "       Best parameters selected: <<{'C': 0.0028}>> for score <<0.7464550381992664>>.\n",
      "       6. Grid Search model <<<class 'sklearn.svm.classes.LinearSVC'>>>; weight: <<{0: 1.0, 1: 89.65367965367965}>>; parameters: <<{'C': [0.0009, 0.0014, 0.0019, 0.0023, 0.0028, 0.0042, 0.0056, 0.007, 0.0084]}>>\n",
      "Fitting 3 folds for each of 9 candidates, totalling 27 fits\n"
     ]
    },
    {
     "name": "stderr",
     "output_type": "stream",
     "text": [
      "[Parallel(n_jobs=1)]: Done  27 out of  27 | elapsed:    2.0s finished\n"
     ]
    },
    {
     "name": "stdout",
     "output_type": "stream",
     "text": [
      "       Best parameters selected: <<{'C': 0.0028}>> for score <<0.7464550381992664>>.\n",
      "       Final parameters selected: <<{'C': 0.005}>> for score <<0.7473555403976908>> (balanced).\n",
      "\n",
      "          *** Score on validation dataset (macro/weighted) <<0.8280600461893763>> / <<0.9541634835752483>>.\n",
      "[[2484  114]\n",
      " [   6   14]]\n",
      "\n",
      "-------------------------------------------------------------------\n",
      "    33. Fit model for class: <<earthquake>> ((20941, 12008)).\n",
      "    Tuning hyper-parameters for class: <<earthquake>> (Recall).\n",
      "       1. Grid Search model <<<class 'sklearn.svm.classes.LinearSVC'>>>; weight: <<balanced>>; parameters: <<{'C': [0.001, 0.01, 0.1, 1.0, 10.0]}>>\n",
      "Fitting 3 folds for each of 5 candidates, totalling 15 fits\n"
     ]
    },
    {
     "name": "stderr",
     "output_type": "stream",
     "text": [
      "[Parallel(n_jobs=1)]: Done  15 out of  15 | elapsed:    2.6s finished\n"
     ]
    },
    {
     "name": "stdout",
     "output_type": "stream",
     "text": [
      "       Best parameters selected: <<{'C': 0.1}>> for score <<0.9093166013944958>>.\n",
      "       2. Grid Search model <<<class 'sklearn.svm.classes.LinearSVC'>>>; weight: <<balanced>>; parameters: <<{'C': [0.0333, 0.05, 0.0667, 0.0833, 0.1, 0.15, 0.2, 0.25, 0.3]}>>\n",
      "Fitting 3 folds for each of 9 candidates, totalling 27 fits\n"
     ]
    },
    {
     "name": "stderr",
     "output_type": "stream",
     "text": [
      "[Parallel(n_jobs=1)]: Done  27 out of  27 | elapsed:    3.0s finished\n"
     ]
    },
    {
     "name": "stdout",
     "output_type": "stream",
     "text": [
      "       Best parameters selected: <<{'C': 0.1}>> for score <<0.9093166013944958>>.\n",
      "       Final parameters selected: <<{'C': 0.1}>> for score <<0.9093166013944958>> (balanced).\n",
      "\n",
      "          *** Score on validation dataset (macro/weighted) <<0.929955527609257>> / <<0.9694423223834988>>.\n",
      "[[2336   53]\n",
      " [  27  202]]\n",
      "\n",
      "-------------------------------------------------------------------\n",
      "    34. Fit model for class: <<cold>> ((20941, 12009)).\n",
      "    Tuning hyper-parameters for class: <<cold>> (Recall).\n",
      "       1. Grid Search model <<<class 'sklearn.svm.classes.LinearSVC'>>>; weight: <<balanced>>; parameters: <<{'C': [0.001, 0.01, 0.1, 1.0, 10.0]}>>\n",
      "Fitting 3 folds for each of 5 candidates, totalling 15 fits\n"
     ]
    },
    {
     "name": "stderr",
     "output_type": "stream",
     "text": [
      "[Parallel(n_jobs=1)]: Done  15 out of  15 | elapsed:    2.3s finished\n"
     ]
    },
    {
     "name": "stdout",
     "output_type": "stream",
     "text": [
      "       Best parameters selected: <<{'C': 0.01}>> for score <<0.820246774717078>>.\n",
      "       2. Grid Search model <<<class 'sklearn.svm.classes.LinearSVC'>>>; weight: <<balanced>>; parameters: <<{'C': [0.0033, 0.005, 0.0067, 0.0083, 0.01, 0.015, 0.02, 0.025, 0.03]}>>\n",
      "Fitting 3 folds for each of 9 candidates, totalling 27 fits\n"
     ]
    },
    {
     "name": "stderr",
     "output_type": "stream",
     "text": [
      "[Parallel(n_jobs=1)]: Done  27 out of  27 | elapsed:    2.0s finished\n"
     ]
    },
    {
     "name": "stdout",
     "output_type": "stream",
     "text": [
      "       Best parameters selected: <<{'C': 0.025}>> for score <<0.825993120487948>>.\n",
      "       3. Grid Search model <<<class 'sklearn.svm.classes.LinearSVC'>>>; weight: <<balanced>>; parameters: <<{'C': [0.0083, 0.0125, 0.0167, 0.0208, 0.025, 0.0375, 0.05, 0.0625, 0.075]}>>\n",
      "Fitting 3 folds for each of 9 candidates, totalling 27 fits\n"
     ]
    },
    {
     "name": "stderr",
     "output_type": "stream",
     "text": [
      "[Parallel(n_jobs=1)]: Done  27 out of  27 | elapsed:    2.9s finished\n"
     ]
    },
    {
     "name": "stdout",
     "output_type": "stream",
     "text": [
      "       Best parameters selected: <<{'C': 0.025}>> for score <<0.825993120487948>>.\n",
      "       3. Grid Search model <<<class 'sklearn.svm.classes.LinearSVC'>>>; weight: <<{0: 1.0, 1: 97.24644549763033}>>; parameters: <<{'C': [0.001, 0.01, 0.1, 1.0, 10.0]}>>\n",
      "Fitting 3 folds for each of 5 candidates, totalling 15 fits\n"
     ]
    },
    {
     "name": "stderr",
     "output_type": "stream",
     "text": [
      "[Parallel(n_jobs=1)]: Done  15 out of  15 | elapsed:    2.6s finished\n"
     ]
    },
    {
     "name": "stdout",
     "output_type": "stream",
     "text": [
      "       Best parameters selected: <<{'C': 0.01}>> for score <<0.8217893105006263>>.\n",
      "       4. Grid Search model <<<class 'sklearn.svm.classes.LinearSVC'>>>; weight: <<{0: 1.0, 1: 97.24644549763033}>>; parameters: <<{'C': [0.0033, 0.005, 0.0067, 0.0083, 0.01, 0.015, 0.02, 0.025, 0.03]}>>\n",
      "Fitting 3 folds for each of 9 candidates, totalling 27 fits\n"
     ]
    },
    {
     "name": "stderr",
     "output_type": "stream",
     "text": [
      "[Parallel(n_jobs=1)]: Done  27 out of  27 | elapsed:    3.4s finished\n"
     ]
    },
    {
     "name": "stdout",
     "output_type": "stream",
     "text": [
      "       Best parameters selected: <<{'C': 0.015}>> for score <<0.8266090960744253>>.\n",
      "       5. Grid Search model <<<class 'sklearn.svm.classes.LinearSVC'>>>; weight: <<{0: 1.0, 1: 97.24644549763033}>>; parameters: <<{'C': [0.005, 0.0075, 0.01, 0.0125, 0.015, 0.0225, 0.03, 0.0375, 0.045]}>>\n",
      "Fitting 3 folds for each of 9 candidates, totalling 27 fits\n"
     ]
    },
    {
     "name": "stderr",
     "output_type": "stream",
     "text": [
      "[Parallel(n_jobs=1)]: Done  27 out of  27 | elapsed:    3.9s finished\n"
     ]
    },
    {
     "name": "stdout",
     "output_type": "stream",
     "text": [
      "       Best parameters selected: <<{'C': 0.0125}>> for score <<0.8269552223232963>>.\n",
      "       6. Grid Search model <<<class 'sklearn.svm.classes.LinearSVC'>>>; weight: <<{0: 1.0, 1: 97.24644549763033}>>; parameters: <<{'C': [0.0042, 0.0062, 0.0083, 0.0104, 0.0125, 0.0188, 0.025, 0.0312, 0.0375]}>>\n",
      "Fitting 3 folds for each of 9 candidates, totalling 27 fits\n"
     ]
    },
    {
     "name": "stderr",
     "output_type": "stream",
     "text": [
      "[Parallel(n_jobs=1)]: Done  27 out of  27 | elapsed:    3.7s finished\n"
     ]
    },
    {
     "name": "stdout",
     "output_type": "stream",
     "text": [
      "       Best parameters selected: <<{'C': 0.0125}>> for score <<0.8269552223232963>>.\n",
      "       Final parameters selected: <<{'C': 0.025}>> for score <<0.825993120487948>> (balanced).\n",
      "\n",
      "          *** Score on validation dataset (macro/weighted) <<0.7752860905989549>> / <<0.9660045836516424>>.\n",
      "[[2503   70]\n",
      " [  19   26]]\n",
      "\n",
      "-------------------------------------------------------------------\n",
      "    35. Fit model for class: <<other_weather>> ((20941, 12009)).\n",
      "    Tuning hyper-parameters for class: <<other_weather>> (Recall).\n",
      "       1. Grid Search model <<<class 'sklearn.svm.classes.LinearSVC'>>>; weight: <<balanced>>; parameters: <<{'C': [0.001, 0.01, 0.1, 1.0, 10.0]}>>\n",
      "Fitting 3 folds for each of 5 candidates, totalling 15 fits\n"
     ]
    },
    {
     "name": "stderr",
     "output_type": "stream",
     "text": [
      "[Parallel(n_jobs=1)]: Done  15 out of  15 | elapsed:    3.3s finished\n"
     ]
    },
    {
     "name": "stdout",
     "output_type": "stream",
     "text": [
      "       Best parameters selected: <<{'C': 0.01}>> for score <<0.7368297625297279>>.\n",
      "       2. Grid Search model <<<class 'sklearn.svm.classes.LinearSVC'>>>; weight: <<balanced>>; parameters: <<{'C': [0.0033, 0.005, 0.0067, 0.0083, 0.01, 0.015, 0.02, 0.025, 0.03]}>>\n",
      "Fitting 3 folds for each of 9 candidates, totalling 27 fits\n"
     ]
    },
    {
     "name": "stderr",
     "output_type": "stream",
     "text": [
      "[Parallel(n_jobs=1)]: Done  27 out of  27 | elapsed:    1.3s finished\n"
     ]
    },
    {
     "name": "stdout",
     "output_type": "stream",
     "text": [
      "       Best parameters selected: <<{'C': 0.02}>> for score <<0.7378601032519297>>.\n",
      "       3. Grid Search model <<<class 'sklearn.svm.classes.LinearSVC'>>>; weight: <<balanced>>; parameters: <<{'C': [0.0067, 0.01, 0.0133, 0.0167, 0.02, 0.03, 0.04, 0.05, 0.06]}>>\n",
      "Fitting 3 folds for each of 9 candidates, totalling 27 fits\n"
     ]
    },
    {
     "name": "stderr",
     "output_type": "stream",
     "text": [
      "[Parallel(n_jobs=1)]: Done  27 out of  27 | elapsed:    1.8s finished\n"
     ]
    },
    {
     "name": "stdout",
     "output_type": "stream",
     "text": [
      "       Best parameters selected: <<{'C': 0.02}>> for score <<0.7378601032519297>>.\n",
      "       3. Grid Search model <<<class 'sklearn.svm.classes.LinearSVC'>>>; weight: <<{0: 1.0, 1: 36.005444646098006}>>; parameters: <<{'C': [0.001, 0.01, 0.1, 1.0, 10.0]}>>\n",
      "Fitting 3 folds for each of 5 candidates, totalling 15 fits\n"
     ]
    },
    {
     "name": "stderr",
     "output_type": "stream",
     "text": [
      "[Parallel(n_jobs=1)]: Done  15 out of  15 | elapsed:    4.1s finished\n"
     ]
    },
    {
     "name": "stdout",
     "output_type": "stream",
     "text": [
      "       Best parameters selected: <<{'C': 0.01}>> for score <<0.7378239583839522>>.\n",
      "       4. Grid Search model <<<class 'sklearn.svm.classes.LinearSVC'>>>; weight: <<{0: 1.0, 1: 36.005444646098006}>>; parameters: <<{'C': [0.0033, 0.005, 0.0067, 0.0083, 0.01, 0.015, 0.02, 0.025, 0.03]}>>\n",
      "Fitting 3 folds for each of 9 candidates, totalling 27 fits\n"
     ]
    },
    {
     "name": "stderr",
     "output_type": "stream",
     "text": [
      "[Parallel(n_jobs=1)]: Done  27 out of  27 | elapsed:    2.5s finished\n"
     ]
    },
    {
     "name": "stdout",
     "output_type": "stream",
     "text": [
      "       Best parameters selected: <<{'C': 0.015}>> for score <<0.7496394123113927>>.\n",
      "       5. Grid Search model <<<class 'sklearn.svm.classes.LinearSVC'>>>; weight: <<{0: 1.0, 1: 36.005444646098006}>>; parameters: <<{'C': [0.005, 0.0075, 0.01, 0.0125, 0.015, 0.0225, 0.03, 0.0375, 0.045]}>>\n",
      "Fitting 3 folds for each of 9 candidates, totalling 27 fits\n"
     ]
    },
    {
     "name": "stderr",
     "output_type": "stream",
     "text": [
      "[Parallel(n_jobs=1)]: Done  27 out of  27 | elapsed:    3.2s finished\n"
     ]
    },
    {
     "name": "stdout",
     "output_type": "stream",
     "text": [
      "       Best parameters selected: <<{'C': 0.015}>> for score <<0.7496394123113927>>.\n",
      "       Final parameters selected: <<{'C': 0.015}>> for score <<0.7496394123113927>> ({0: 1.0, 1: 36.005444646098006}).\n",
      "\n",
      "          *** Score on validation dataset (macro/weighted) <<0.761903482458109>> / <<0.7459893048128342>>.\n",
      "[[1854  637]\n",
      " [  28   99]]\n",
      "\n",
      "-------------------------------------------------------------------\n",
      "    36. Fit model for class: <<direct_report>> ((20941, 12009)).\n",
      "    Tuning hyper-parameters for class: <<direct_report>> (Recall).\n",
      "       1. Grid Search model <<<class 'sklearn.svm.classes.LinearSVC'>>>; weight: <<balanced>>; parameters: <<{'C': [0.001, 0.01, 0.1, 1.0, 10.0]}>>\n",
      "Fitting 3 folds for each of 5 candidates, totalling 15 fits\n"
     ]
    },
    {
     "name": "stderr",
     "output_type": "stream",
     "text": [
      "[Parallel(n_jobs=1)]: Done  15 out of  15 | elapsed:    3.7s finished\n"
     ]
    },
    {
     "name": "stdout",
     "output_type": "stream",
     "text": [
      "       Best parameters selected: <<{'C': 0.1}>> for score <<0.7881728620864754>>.\n",
      "       2. Grid Search model <<<class 'sklearn.svm.classes.LinearSVC'>>>; weight: <<balanced>>; parameters: <<{'C': [0.0333, 0.05, 0.0667, 0.0833, 0.1, 0.15, 0.2, 0.25, 0.3]}>>\n",
      "Fitting 3 folds for each of 9 candidates, totalling 27 fits\n"
     ]
    },
    {
     "name": "stderr",
     "output_type": "stream",
     "text": [
      "[Parallel(n_jobs=1)]: Done  27 out of  27 | elapsed:    2.5s finished\n"
     ]
    },
    {
     "name": "stdout",
     "output_type": "stream",
     "text": [
      "       Best parameters selected: <<{'C': 0.05}>> for score <<0.789409518137779>>.\n",
      "       3. Grid Search model <<<class 'sklearn.svm.classes.LinearSVC'>>>; weight: <<balanced>>; parameters: <<{'C': [0.0167, 0.025, 0.0333, 0.0417, 0.05, 0.075, 0.1, 0.125, 0.15]}>>\n",
      "Fitting 3 folds for each of 9 candidates, totalling 27 fits\n"
     ]
    },
    {
     "name": "stderr",
     "output_type": "stream",
     "text": [
      "[Parallel(n_jobs=1)]: Done  27 out of  27 | elapsed:    1.7s finished\n"
     ]
    },
    {
     "name": "stdout",
     "output_type": "stream",
     "text": [
      "       Best parameters selected: <<{'C': 0.05}>> for score <<0.789409518137779>>.\n",
      "       3. Grid Search model <<<class 'sklearn.svm.classes.LinearSVC'>>>; weight: <<{0: 1.0, 1: 8.392555831265508}>>; parameters: <<{'C': [0.001, 0.01, 0.1, 1.0, 10.0]}>>\n",
      "Fitting 3 folds for each of 5 candidates, totalling 15 fits\n"
     ]
    },
    {
     "name": "stderr",
     "output_type": "stream",
     "text": [
      "[Parallel(n_jobs=1)]: Done  15 out of  15 | elapsed:    5.6s finished\n"
     ]
    },
    {
     "name": "stdout",
     "output_type": "stream",
     "text": [
      "       Best parameters selected: <<{'C': 0.1}>> for score <<0.7740004568141013>>.\n",
      "       4. Grid Search model <<<class 'sklearn.svm.classes.LinearSVC'>>>; weight: <<{0: 1.0, 1: 8.392555831265508}>>; parameters: <<{'C': [0.0333, 0.05, 0.0667, 0.0833, 0.1, 0.15, 0.2, 0.25, 0.3]}>>\n",
      "Fitting 3 folds for each of 9 candidates, totalling 27 fits\n"
     ]
    },
    {
     "name": "stderr",
     "output_type": "stream",
     "text": [
      "[Parallel(n_jobs=1)]: Done  27 out of  27 | elapsed:    5.8s finished\n"
     ]
    },
    {
     "name": "stdout",
     "output_type": "stream",
     "text": [
      "       Best parameters selected: <<{'C': 0.0667}>> for score <<0.7761693528593834>>.\n",
      "       5. Grid Search model <<<class 'sklearn.svm.classes.LinearSVC'>>>; weight: <<{0: 1.0, 1: 8.392555831265508}>>; parameters: <<{'C': [0.0222, 0.0334, 0.0445, 0.0556, 0.0667, 0.1, 0.1334, 0.1668, 0.2001]}>>\n",
      "Fitting 3 folds for each of 9 candidates, totalling 27 fits\n"
     ]
    },
    {
     "name": "stderr",
     "output_type": "stream",
     "text": [
      "[Parallel(n_jobs=1)]: Done  27 out of  27 | elapsed:    4.7s finished\n"
     ]
    },
    {
     "name": "stdout",
     "output_type": "stream",
     "text": [
      "       Best parameters selected: <<{'C': 0.0667}>> for score <<0.7761693528593834>>.\n",
      "       Final parameters selected: <<{'C': 0.05}>> for score <<0.789409518137779>> (balanced).\n",
      "\n",
      "          *** Score on validation dataset (macro/weighted) <<0.7896286231884058>> / <<0.8181818181818182>>.\n",
      "[[1766  346]\n",
      " [ 130  376]]\n",
      "\n",
      "-------------------------------------------------------------------\n",
      "    37. ReFit model for class: <<related>> ((20941, 12009)).\n",
      "    Tuning hyper-parameters for class: <<related>> (Recall).\n",
      "       1. Grid Search model <<<class 'sklearn.svm.classes.LinearSVC'>>>; weight: <<balanced>>; parameters: <<{'C': [0.001, 0.01, 0.1, 1.0, 10.0]}>>\n",
      "Fitting 3 folds for each of 5 candidates, totalling 15 fits\n"
     ]
    },
    {
     "name": "stderr",
     "output_type": "stream",
     "text": [
      "[Parallel(n_jobs=1)]: Done  15 out of  15 | elapsed:    7.0s finished\n"
     ]
    },
    {
     "name": "stdout",
     "output_type": "stream",
     "text": [
      "       Best parameters selected: <<{'C': 0.1}>> for score <<0.6485581642401106>>.\n",
      "       2. Grid Search model <<<class 'sklearn.svm.classes.LinearSVC'>>>; weight: <<balanced>>; parameters: <<{'C': [0.0333, 0.05, 0.0667, 0.0833, 0.1, 0.15, 0.2, 0.25, 0.3]}>>\n",
      "Fitting 3 folds for each of 9 candidates, totalling 27 fits\n"
     ]
    },
    {
     "name": "stderr",
     "output_type": "stream",
     "text": [
      "[Parallel(n_jobs=1)]: Done  27 out of  27 | elapsed:    6.2s finished\n"
     ]
    },
    {
     "name": "stdout",
     "output_type": "stream",
     "text": [
      "       Best parameters selected: <<{'C': 0.3}>> for score <<0.653781856280831>>.\n",
      "       3. Grid Search model <<<class 'sklearn.svm.classes.LinearSVC'>>>; weight: <<balanced>>; parameters: <<{'C': [0.1, 0.15, 0.2, 0.25, 0.3, 0.45, 0.6, 0.75, 0.9]}>>\n",
      "Fitting 3 folds for each of 9 candidates, totalling 27 fits\n"
     ]
    },
    {
     "name": "stderr",
     "output_type": "stream",
     "text": [
      "[Parallel(n_jobs=1)]: Done  27 out of  27 | elapsed:    9.8s finished\n"
     ]
    },
    {
     "name": "stdout",
     "output_type": "stream",
     "text": [
      "       Best parameters selected: <<{'C': 0.3}>> for score <<0.653781856280831>>.\n",
      "       3. Grid Search model <<<class 'sklearn.svm.classes.LinearSVC'>>>; weight: <<{1: 1.0, 0: 6.541795029780242, 2: 109.08219178082192}>>; parameters: <<{'C': [0.001, 0.01, 0.1, 1.0, 10.0]}>>\n",
      "Fitting 3 folds for each of 5 candidates, totalling 15 fits\n"
     ]
    },
    {
     "name": "stderr",
     "output_type": "stream",
     "text": [
      "[Parallel(n_jobs=1)]: Done  15 out of  15 | elapsed:    9.5s finished\n"
     ]
    },
    {
     "name": "stdout",
     "output_type": "stream",
     "text": [
      "       Best parameters selected: <<{'C': 0.1}>> for score <<0.630018656890466>>.\n",
      "       4. Grid Search model <<<class 'sklearn.svm.classes.LinearSVC'>>>; weight: <<{1: 1.0, 0: 6.541795029780242, 2: 109.08219178082192}>>; parameters: <<{'C': [0.0333, 0.05, 0.0667, 0.0833, 0.1, 0.15, 0.2, 0.25, 0.3]}>>\n",
      "Fitting 3 folds for each of 9 candidates, totalling 27 fits\n"
     ]
    },
    {
     "name": "stderr",
     "output_type": "stream",
     "text": [
      "[Parallel(n_jobs=1)]: Done  27 out of  27 | elapsed:   12.5s finished\n"
     ]
    },
    {
     "name": "stdout",
     "output_type": "stream",
     "text": [
      "       Best parameters selected: <<{'C': 0.1}>> for score <<0.630018656890466>>.\n",
      "       Final parameters selected: <<{'C': 0.3}>> for score <<0.653781856280831>> (balanced).\n",
      "\n",
      "          *** Prev Score on validation dataset (macro/weighted) <<0.7490602857904699>> / <<0.833842627960275>>.\n",
      "\n",
      "          *** Score on validation dataset (macro/weighted) <<0.7845596077089813>> / <<0.8292589763177999>>.\n",
      "[[ 434  181    4]\n",
      " [ 254 1719    3]\n",
      " [   3    2   18]]\n",
      "\n",
      "          *** Model has been refitted from <<0.6338745551411261>> to <<0.653781856280831>>.\n",
      "\n",
      "-------------------------------------------------------------------\n",
      "    38. ReFit model for class: <<offer>> ((20941, 12009)).\n",
      "    Tuning hyper-parameters for class: <<offer>> (Recall).\n",
      "       1. Grid Search model <<<class 'sklearn.svm.classes.LinearSVC'>>>; weight: <<balanced>>; parameters: <<{'C': [0.001, 0.01, 0.1, 1.0, 10.0]}>>\n",
      "Fitting 3 folds for each of 5 candidates, totalling 15 fits\n"
     ]
    },
    {
     "name": "stderr",
     "output_type": "stream",
     "text": [
      "[Parallel(n_jobs=1)]: Done  15 out of  15 | elapsed:    1.5s finished\n"
     ]
    },
    {
     "name": "stdout",
     "output_type": "stream",
     "text": [
      "       Best parameters selected: <<{'C': 0.001}>> for score <<0.6471459170113634>>.\n",
      "       2. Grid Search model <<<class 'sklearn.svm.classes.LinearSVC'>>>; weight: <<balanced>>; parameters: <<{'C': [0.0003, 0.0005, 0.0007, 0.0008, 0.001, 0.0015, 0.002, 0.0025, 0.003]}>>\n",
      "Fitting 3 folds for each of 9 candidates, totalling 27 fits\n"
     ]
    },
    {
     "name": "stderr",
     "output_type": "stream",
     "text": [
      "[Parallel(n_jobs=1)]: Done  27 out of  27 | elapsed:    1.1s finished\n"
     ]
    },
    {
     "name": "stdout",
     "output_type": "stream",
     "text": [
      "       Best parameters selected: <<{'C': 0.001}>> for score <<0.6471459170113634>>.\n",
      "       2. Grid Search model <<<class 'sklearn.svm.classes.LinearSVC'>>>; weight: <<{0: 1.0, 1: 226.61956521739128}>>; parameters: <<{'C': [0.001, 0.01, 0.1, 1.0, 10.0]}>>\n",
      "Fitting 3 folds for each of 5 candidates, totalling 15 fits\n"
     ]
    },
    {
     "name": "stderr",
     "output_type": "stream",
     "text": [
      "[Parallel(n_jobs=1)]: Done  15 out of  15 | elapsed:    1.5s finished\n"
     ]
    },
    {
     "name": "stdout",
     "output_type": "stream",
     "text": [
      "       Best parameters selected: <<{'C': 0.001}>> for score <<0.6467951818991743>>.\n",
      "       3. Grid Search model <<<class 'sklearn.svm.classes.LinearSVC'>>>; weight: <<{0: 1.0, 1: 226.61956521739128}>>; parameters: <<{'C': [0.0003, 0.0005, 0.0007, 0.0008, 0.001, 0.0015, 0.002, 0.0025, 0.003]}>>\n",
      "Fitting 3 folds for each of 9 candidates, totalling 27 fits\n"
     ]
    },
    {
     "name": "stderr",
     "output_type": "stream",
     "text": [
      "[Parallel(n_jobs=1)]: Done  27 out of  27 | elapsed:    1.6s finished\n"
     ]
    },
    {
     "name": "stdout",
     "output_type": "stream",
     "text": [
      "       Best parameters selected: <<{'C': 0.003}>> for score <<0.651533180039958>>.\n",
      "       4. Grid Search model <<<class 'sklearn.svm.classes.LinearSVC'>>>; weight: <<{0: 1.0, 1: 226.61956521739128}>>; parameters: <<{'C': [0.001, 0.0015, 0.002, 0.0025, 0.003, 0.0045, 0.006, 0.0075, 0.009]}>>\n",
      "Fitting 3 folds for each of 9 candidates, totalling 27 fits\n"
     ]
    },
    {
     "name": "stderr",
     "output_type": "stream",
     "text": [
      "[Parallel(n_jobs=1)]: Done  27 out of  27 | elapsed:    2.5s finished\n"
     ]
    },
    {
     "name": "stdout",
     "output_type": "stream",
     "text": [
      "       Best parameters selected: <<{'C': 0.003}>> for score <<0.651533180039958>>.\n",
      "       Final parameters selected: <<{'C': 0.001}>> for score <<0.6471459170113634>> (balanced).\n",
      "\n",
      "          *** Prev Score on validation dataset (macro/weighted) <<0.8071620068939104>> / <<0.8995416348357524>>.\n",
      "\n",
      "          *** Score on validation dataset (macro/weighted) <<0.7253925698965913>> / <<0.878533231474408>>.\n",
      "[[2296  315]\n",
      " [   3    4]]\n",
      "\n",
      "-------------------------------------------------------------------\n",
      "    39. ReFit model for class: <<aid_related>> ((20941, 12009)).\n",
      "    Tuning hyper-parameters for class: <<aid_related>> (Recall).\n",
      "       1. Grid Search model <<<class 'sklearn.svm.classes.LinearSVC'>>>; weight: <<balanced>>; parameters: <<{'C': [0.001, 0.01, 0.1, 1.0, 10.0]}>>\n",
      "Fitting 3 folds for each of 5 candidates, totalling 15 fits\n"
     ]
    },
    {
     "name": "stderr",
     "output_type": "stream",
     "text": [
      "[Parallel(n_jobs=1)]: Done  15 out of  15 | elapsed:    3.1s finished\n"
     ]
    },
    {
     "name": "stdout",
     "output_type": "stream",
     "text": [
      "       Best parameters selected: <<{'C': 0.1}>> for score <<0.8095439672522864>>.\n",
      "       2. Grid Search model <<<class 'sklearn.svm.classes.LinearSVC'>>>; weight: <<balanced>>; parameters: <<{'C': [0.0333, 0.05, 0.0667, 0.0833, 0.1, 0.15, 0.2, 0.25, 0.3]}>>\n",
      "Fitting 3 folds for each of 9 candidates, totalling 27 fits\n"
     ]
    },
    {
     "name": "stderr",
     "output_type": "stream",
     "text": [
      "[Parallel(n_jobs=1)]: Done  27 out of  27 | elapsed:    1.5s finished\n"
     ]
    },
    {
     "name": "stdout",
     "output_type": "stream",
     "text": [
      "       Best parameters selected: <<{'C': 0.15}>> for score <<0.8099969454376659>>.\n",
      "       3. Grid Search model <<<class 'sklearn.svm.classes.LinearSVC'>>>; weight: <<balanced>>; parameters: <<{'C': [0.05, 0.075, 0.1, 0.125, 0.15, 0.225, 0.3, 0.375, 0.45]}>>\n",
      "Fitting 3 folds for each of 9 candidates, totalling 27 fits\n"
     ]
    },
    {
     "name": "stderr",
     "output_type": "stream",
     "text": [
      "[Parallel(n_jobs=1)]: Done  27 out of  27 | elapsed:    1.8s finished\n"
     ]
    },
    {
     "name": "stdout",
     "output_type": "stream",
     "text": [
      "       Best parameters selected: <<{'C': 0.125}>> for score <<0.810010470537531>>.\n",
      "       4. Grid Search model <<<class 'sklearn.svm.classes.LinearSVC'>>>; weight: <<balanced>>; parameters: <<{'C': [0.0417, 0.0625, 0.0833, 0.1042, 0.125, 0.1875, 0.25, 0.3125, 0.375]}>>\n",
      "Fitting 3 folds for each of 9 candidates, totalling 27 fits\n"
     ]
    },
    {
     "name": "stderr",
     "output_type": "stream",
     "text": [
      "[Parallel(n_jobs=1)]: Done  27 out of  27 | elapsed:    1.6s finished\n"
     ]
    },
    {
     "name": "stdout",
     "output_type": "stream",
     "text": [
      "       Best parameters selected: <<{'C': 0.125}>> for score <<0.810010470537531>>.\n",
      "       4. Grid Search model <<<class 'sklearn.svm.classes.LinearSVC'>>>; weight: <<{0: 1.0, 1: 2.8519462465245597}>>; parameters: <<{'C': [0.001, 0.01, 0.1, 1.0, 10.0]}>>\n",
      "Fitting 3 folds for each of 5 candidates, totalling 15 fits\n"
     ]
    },
    {
     "name": "stderr",
     "output_type": "stream",
     "text": [
      "[Parallel(n_jobs=1)]: Done  15 out of  15 | elapsed:    4.1s finished\n"
     ]
    },
    {
     "name": "stdout",
     "output_type": "stream",
     "text": [
      "       Best parameters selected: <<{'C': 0.1}>> for score <<0.8016422552597972>>.\n",
      "       5. Grid Search model <<<class 'sklearn.svm.classes.LinearSVC'>>>; weight: <<{0: 1.0, 1: 2.8519462465245597}>>; parameters: <<{'C': [0.0333, 0.05, 0.0667, 0.0833, 0.1, 0.15, 0.2, 0.25, 0.3]}>>\n",
      "Fitting 3 folds for each of 9 candidates, totalling 27 fits\n"
     ]
    },
    {
     "name": "stderr",
     "output_type": "stream",
     "text": [
      "[Parallel(n_jobs=1)]: Done  27 out of  27 | elapsed:    3.1s finished\n"
     ]
    },
    {
     "name": "stdout",
     "output_type": "stream",
     "text": [
      "       Best parameters selected: <<{'C': 0.1}>> for score <<0.8016422552597972>>.\n",
      "       Final parameters selected: <<{'C': 0.125}>> for score <<0.810010470537531>> (balanced).\n",
      "\n",
      "          *** Prev Score on validation dataset (macro/weighted) <<0.7653087963254452>> / <<0.771581359816654>>.\n",
      "\n",
      "          *** Score on validation dataset (macro/weighted) <<0.8133355519777417>> / <<0.8223834988540871>>.\n",
      "[[1323  200]\n",
      " [ 265  830]]\n",
      "\n",
      "          *** Model has been refitted from <<0.7734587555520649>> to <<0.810010470537531>>.\n",
      "\n",
      "-------------------------------------------------------------------\n",
      "    40. ReFit model for class: <<medical_help>> ((20941, 12009)).\n",
      "    Tuning hyper-parameters for class: <<medical_help>> (Recall).\n",
      "       1. Grid Search model <<<class 'sklearn.svm.classes.LinearSVC'>>>; weight: <<balanced>>; parameters: <<{'C': [0.001, 0.01, 0.1, 1.0, 10.0]}>>\n",
      "Fitting 3 folds for each of 5 candidates, totalling 15 fits\n"
     ]
    },
    {
     "name": "stderr",
     "output_type": "stream",
     "text": [
      "[Parallel(n_jobs=1)]: Done  15 out of  15 | elapsed:    4.4s finished\n"
     ]
    },
    {
     "name": "stdout",
     "output_type": "stream",
     "text": [
      "       Best parameters selected: <<{'C': 0.1}>> for score <<0.7723369813772761>>.\n",
      "       2. Grid Search model <<<class 'sklearn.svm.classes.LinearSVC'>>>; weight: <<balanced>>; parameters: <<{'C': [0.0333, 0.05, 0.0667, 0.0833, 0.1, 0.15, 0.2, 0.25, 0.3]}>>\n",
      "Fitting 3 folds for each of 9 candidates, totalling 27 fits\n"
     ]
    },
    {
     "name": "stderr",
     "output_type": "stream",
     "text": [
      "[Parallel(n_jobs=1)]: Done  27 out of  27 | elapsed:    4.1s finished\n"
     ]
    },
    {
     "name": "stdout",
     "output_type": "stream",
     "text": [
      "       Best parameters selected: <<{'C': 0.05}>> for score <<0.7800903973978845>>.\n",
      "       3. Grid Search model <<<class 'sklearn.svm.classes.LinearSVC'>>>; weight: <<balanced>>; parameters: <<{'C': [0.0167, 0.025, 0.0333, 0.0417, 0.05, 0.075, 0.1, 0.125, 0.15]}>>\n",
      "Fitting 3 folds for each of 9 candidates, totalling 27 fits\n"
     ]
    },
    {
     "name": "stderr",
     "output_type": "stream",
     "text": [
      "[Parallel(n_jobs=1)]: Done  27 out of  27 | elapsed:    2.8s finished\n"
     ]
    },
    {
     "name": "stdout",
     "output_type": "stream",
     "text": [
      "       Best parameters selected: <<{'C': 0.05}>> for score <<0.7800903973978845>>.\n",
      "       3. Grid Search model <<<class 'sklearn.svm.classes.LinearSVC'>>>; weight: <<{0: 1.0, 1: 23.662990196078432}>>; parameters: <<{'C': [0.001, 0.01, 0.1, 1.0, 10.0]}>>\n",
      "Fitting 3 folds for each of 5 candidates, totalling 15 fits\n"
     ]
    },
    {
     "name": "stderr",
     "output_type": "stream",
     "text": [
      "[Parallel(n_jobs=1)]: Done  15 out of  15 | elapsed:    4.7s finished\n"
     ]
    },
    {
     "name": "stdout",
     "output_type": "stream",
     "text": [
      "       Best parameters selected: <<{'C': 0.1}>> for score <<0.7654599557890405>>.\n",
      "       4. Grid Search model <<<class 'sklearn.svm.classes.LinearSVC'>>>; weight: <<{0: 1.0, 1: 23.662990196078432}>>; parameters: <<{'C': [0.0333, 0.05, 0.0667, 0.0833, 0.1, 0.15, 0.2, 0.25, 0.3]}>>\n",
      "Fitting 3 folds for each of 9 candidates, totalling 27 fits\n"
     ]
    },
    {
     "name": "stderr",
     "output_type": "stream",
     "text": [
      "[Parallel(n_jobs=1)]: Done  27 out of  27 | elapsed:    9.0s finished\n"
     ]
    },
    {
     "name": "stdout",
     "output_type": "stream",
     "text": [
      "       Best parameters selected: <<{'C': 0.0333}>> for score <<0.7800453696793577>>.\n",
      "       5. Grid Search model <<<class 'sklearn.svm.classes.LinearSVC'>>>; weight: <<{0: 1.0, 1: 23.662990196078432}>>; parameters: <<{'C': [0.0111, 0.0167, 0.0222, 0.0278, 0.0333, 0.05, 0.0666, 0.0833, 0.0999]}>>\n",
      "Fitting 3 folds for each of 9 candidates, totalling 27 fits\n"
     ]
    },
    {
     "name": "stderr",
     "output_type": "stream",
     "text": [
      "[Parallel(n_jobs=1)]: Done  27 out of  27 | elapsed:    5.1s finished\n"
     ]
    },
    {
     "name": "stdout",
     "output_type": "stream",
     "text": [
      "       Best parameters selected: <<{'C': 0.0333}>> for score <<0.7800453696793577>>.\n",
      "       Final parameters selected: <<{'C': 0.05}>> for score <<0.7800903973978845>> (balanced).\n",
      "\n",
      "          *** Prev Score on validation dataset (macro/weighted) <<0.7813773627290523>> / <<0.8666921313980137>>.\n",
      "\n",
      "          *** Score on validation dataset (macro/weighted) <<0.7775424408716023>> / <<0.8747135217723453>>.\n",
      "[[2144  253]\n",
      " [  75  146]]\n",
      "\n",
      "-------------------------------------------------------------------\n",
      "    41. ReFit model for class: <<medical_products>> ((20941, 12009)).\n",
      "    Tuning hyper-parameters for class: <<medical_products>> (Recall).\n",
      "       1. Grid Search model <<<class 'sklearn.svm.classes.LinearSVC'>>>; weight: <<balanced>>; parameters: <<{'C': [0.001, 0.01, 0.1, 1.0, 10.0]}>>\n",
      "Fitting 3 folds for each of 5 candidates, totalling 15 fits\n"
     ]
    },
    {
     "name": "stderr",
     "output_type": "stream",
     "text": [
      "[Parallel(n_jobs=1)]: Done  15 out of  15 | elapsed:    2.5s finished\n"
     ]
    },
    {
     "name": "stdout",
     "output_type": "stream",
     "text": [
      "       Best parameters selected: <<{'C': 0.1}>> for score <<0.7888288557448988>>.\n",
      "       2. Grid Search model <<<class 'sklearn.svm.classes.LinearSVC'>>>; weight: <<balanced>>; parameters: <<{'C': [0.0333, 0.05, 0.0667, 0.0833, 0.1, 0.15, 0.2, 0.25, 0.3]}>>\n",
      "Fitting 3 folds for each of 9 candidates, totalling 27 fits\n"
     ]
    },
    {
     "name": "stderr",
     "output_type": "stream",
     "text": [
      "[Parallel(n_jobs=1)]: Done  27 out of  27 | elapsed:    3.7s finished\n"
     ]
    },
    {
     "name": "stdout",
     "output_type": "stream",
     "text": [
      "       Best parameters selected: <<{'C': 0.0333}>> for score <<0.797015943138541>>.\n",
      "       3. Grid Search model <<<class 'sklearn.svm.classes.LinearSVC'>>>; weight: <<balanced>>; parameters: <<{'C': [0.0111, 0.0167, 0.0222, 0.0278, 0.0333, 0.05, 0.0666, 0.0833, 0.0999]}>>\n",
      "Fitting 3 folds for each of 9 candidates, totalling 27 fits\n"
     ]
    },
    {
     "name": "stderr",
     "output_type": "stream",
     "text": [
      "[Parallel(n_jobs=1)]: Done  27 out of  27 | elapsed:    2.3s finished\n"
     ]
    },
    {
     "name": "stdout",
     "output_type": "stream",
     "text": [
      "       Best parameters selected: <<{'C': 0.0278}>> for score <<0.7976951842252407>>.\n",
      "       4. Grid Search model <<<class 'sklearn.svm.classes.LinearSVC'>>>; weight: <<balanced>>; parameters: <<{'C': [0.0093, 0.0139, 0.0185, 0.0232, 0.0278, 0.0417, 0.0556, 0.0695, 0.0834]}>>\n",
      "Fitting 3 folds for each of 9 candidates, totalling 27 fits\n"
     ]
    },
    {
     "name": "stderr",
     "output_type": "stream",
     "text": [
      "[Parallel(n_jobs=1)]: Done  27 out of  27 | elapsed:    2.6s finished\n"
     ]
    },
    {
     "name": "stdout",
     "output_type": "stream",
     "text": [
      "       Best parameters selected: <<{'C': 0.0278}>> for score <<0.7976951842252407>>.\n",
      "       4. Grid Search model <<<class 'sklearn.svm.classes.LinearSVC'>>>; weight: <<{0: 1.0, 1: 38.504835589941976}>>; parameters: <<{'C': [0.001, 0.01, 0.1, 1.0, 10.0]}>>\n",
      "Fitting 3 folds for each of 5 candidates, totalling 15 fits\n"
     ]
    },
    {
     "name": "stderr",
     "output_type": "stream",
     "text": [
      "[Parallel(n_jobs=1)]: Done  15 out of  15 | elapsed:    3.5s finished\n"
     ]
    },
    {
     "name": "stdout",
     "output_type": "stream",
     "text": [
      "       Best parameters selected: <<{'C': 0.01}>> for score <<0.8009713394214957>>.\n",
      "       5. Grid Search model <<<class 'sklearn.svm.classes.LinearSVC'>>>; weight: <<{0: 1.0, 1: 38.504835589941976}>>; parameters: <<{'C': [0.0033, 0.005, 0.0067, 0.0083, 0.01, 0.015, 0.02, 0.025, 0.03]}>>\n",
      "Fitting 3 folds for each of 9 candidates, totalling 27 fits\n"
     ]
    },
    {
     "name": "stderr",
     "output_type": "stream",
     "text": [
      "[Parallel(n_jobs=1)]: Done  27 out of  27 | elapsed:    2.6s finished\n"
     ]
    },
    {
     "name": "stdout",
     "output_type": "stream",
     "text": [
      "       Best parameters selected: <<{'C': 0.02}>> for score <<0.8067802666550421>>.\n",
      "       6. Grid Search model <<<class 'sklearn.svm.classes.LinearSVC'>>>; weight: <<{0: 1.0, 1: 38.504835589941976}>>; parameters: <<{'C': [0.0067, 0.01, 0.0133, 0.0167, 0.02, 0.03, 0.04, 0.05, 0.06]}>>\n",
      "Fitting 3 folds for each of 9 candidates, totalling 27 fits\n"
     ]
    },
    {
     "name": "stderr",
     "output_type": "stream",
     "text": [
      "[Parallel(n_jobs=1)]: Done  27 out of  27 | elapsed:    3.9s finished\n"
     ]
    },
    {
     "name": "stdout",
     "output_type": "stream",
     "text": [
      "       Best parameters selected: <<{'C': 0.02}>> for score <<0.8067802666550421>>.\n",
      "       Final parameters selected: <<{'C': 0.0278}>> for score <<0.7976951842252407>> (balanced).\n",
      "\n",
      "          *** Prev Score on validation dataset (macro/weighted) <<0.8050660450660451>> / <<0.893048128342246>>.\n",
      "\n",
      "          *** Score on validation dataset (macro/weighted) <<0.8111888111888113>> / <<0.8983957219251337>>.\n",
      "[[2250  225]\n",
      " [  41  102]]\n",
      "\n",
      "          *** Model has been refitted from <<0.7835321013893888>> to <<0.7976951842252407>>.\n",
      "\n",
      "-------------------------------------------------------------------\n",
      "    42. ReFit model for class: <<search_and_rescue>> ((20941, 12009)).\n",
      "    Tuning hyper-parameters for class: <<search_and_rescue>> (Recall).\n",
      "       1. Grid Search model <<<class 'sklearn.svm.classes.LinearSVC'>>>; weight: <<balanced>>; parameters: <<{'C': [0.001, 0.01, 0.1, 1.0, 10.0]}>>\n",
      "Fitting 3 folds for each of 5 candidates, totalling 15 fits\n"
     ]
    },
    {
     "name": "stderr",
     "output_type": "stream",
     "text": [
      "[Parallel(n_jobs=1)]: Done  15 out of  15 | elapsed:    4.7s finished\n"
     ]
    },
    {
     "name": "stdout",
     "output_type": "stream",
     "text": [
      "       Best parameters selected: <<{'C': 0.01}>> for score <<0.7214365524816146>>.\n",
      "       2. Grid Search model <<<class 'sklearn.svm.classes.LinearSVC'>>>; weight: <<balanced>>; parameters: <<{'C': [0.0033, 0.005, 0.0067, 0.0083, 0.01, 0.015, 0.02, 0.025, 0.03]}>>\n",
      "Fitting 3 folds for each of 9 candidates, totalling 27 fits\n"
     ]
    },
    {
     "name": "stderr",
     "output_type": "stream",
     "text": [
      "[Parallel(n_jobs=1)]: Done  27 out of  27 | elapsed:    2.6s finished\n"
     ]
    },
    {
     "name": "stdout",
     "output_type": "stream",
     "text": [
      "       Best parameters selected: <<{'C': 0.0083}>> for score <<0.7253998610677262>>.\n",
      "       3. Grid Search model <<<class 'sklearn.svm.classes.LinearSVC'>>>; weight: <<balanced>>; parameters: <<{'C': [0.0028, 0.0042, 0.0055, 0.0069, 0.0083, 0.0124, 0.0166, 0.0207, 0.0249]}>>\n",
      "Fitting 3 folds for each of 9 candidates, totalling 27 fits\n"
     ]
    },
    {
     "name": "stderr",
     "output_type": "stream",
     "text": [
      "[Parallel(n_jobs=1)]: Done  27 out of  27 | elapsed:    2.1s finished\n"
     ]
    },
    {
     "name": "stdout",
     "output_type": "stream",
     "text": [
      "       Best parameters selected: <<{'C': 0.0083}>> for score <<0.7253998610677262>>.\n",
      "       3. Grid Search model <<<class 'sklearn.svm.classes.LinearSVC'>>>; weight: <<{0: 1.0, 1: 70.96515679442508}>>; parameters: <<{'C': [0.001, 0.01, 0.1, 1.0, 10.0]}>>\n",
      "Fitting 3 folds for each of 5 candidates, totalling 15 fits\n"
     ]
    },
    {
     "name": "stderr",
     "output_type": "stream",
     "text": [
      "[Parallel(n_jobs=1)]: Done  15 out of  15 | elapsed:    4.2s finished\n"
     ]
    },
    {
     "name": "stdout",
     "output_type": "stream",
     "text": [
      "       Best parameters selected: <<{'C': 0.01}>> for score <<0.7246947424090605>>.\n",
      "       4. Grid Search model <<<class 'sklearn.svm.classes.LinearSVC'>>>; weight: <<{0: 1.0, 1: 70.96515679442508}>>; parameters: <<{'C': [0.0033, 0.005, 0.0067, 0.0083, 0.01, 0.015, 0.02, 0.025, 0.03]}>>\n",
      "Fitting 3 folds for each of 9 candidates, totalling 27 fits\n"
     ]
    },
    {
     "name": "stderr",
     "output_type": "stream",
     "text": [
      "[Parallel(n_jobs=1)]: Done  27 out of  27 | elapsed:    4.2s finished\n"
     ]
    },
    {
     "name": "stdout",
     "output_type": "stream",
     "text": [
      "       Best parameters selected: <<{'C': 0.0083}>> for score <<0.7267784307182104>>.\n",
      "       5. Grid Search model <<<class 'sklearn.svm.classes.LinearSVC'>>>; weight: <<{0: 1.0, 1: 70.96515679442508}>>; parameters: <<{'C': [0.0028, 0.0042, 0.0055, 0.0069, 0.0083, 0.0124, 0.0166, 0.0207, 0.0249]}>>\n",
      "Fitting 3 folds for each of 9 candidates, totalling 27 fits\n"
     ]
    },
    {
     "name": "stderr",
     "output_type": "stream",
     "text": [
      "[Parallel(n_jobs=1)]: Done  27 out of  27 | elapsed:    3.7s finished\n"
     ]
    },
    {
     "name": "stdout",
     "output_type": "stream",
     "text": [
      "       Best parameters selected: <<{'C': 0.0083}>> for score <<0.7267784307182104>>.\n",
      "       Final parameters selected: <<{'C': 0.0083}>> for score <<0.7253998610677262>> (balanced).\n",
      "\n",
      "          *** Prev Score on validation dataset (macro/weighted) <<0.7193752150004238>> / <<0.8838808250572956>>.\n",
      "\n",
      "          *** Score on validation dataset (macro/weighted) <<0.7318913556119473>> / <<0.8605805958747135>>.\n",
      "[[2206  333]\n",
      " [  32   47]]\n",
      "\n",
      "          *** Model has been refitted from <<0.7113683098738596>> to <<0.7253998610677262>>.\n",
      "\n",
      "-------------------------------------------------------------------\n",
      "    43. ReFit model for class: <<security>> ((20941, 12009)).\n",
      "    Tuning hyper-parameters for class: <<security>> (Recall).\n",
      "       1. Grid Search model <<<class 'sklearn.svm.classes.LinearSVC'>>>; weight: <<balanced>>; parameters: <<{'C': [0.001, 0.01, 0.1, 1.0, 10.0]}>>\n",
      "Fitting 3 folds for each of 5 candidates, totalling 15 fits\n"
     ]
    },
    {
     "name": "stderr",
     "output_type": "stream",
     "text": [
      "[Parallel(n_jobs=1)]: Done  15 out of  15 | elapsed:    2.7s finished\n"
     ]
    },
    {
     "name": "stdout",
     "output_type": "stream",
     "text": [
      "       Best parameters selected: <<{'C': 0.01}>> for score <<0.6361711359483372>>.\n",
      "       2. Grid Search model <<<class 'sklearn.svm.classes.LinearSVC'>>>; weight: <<balanced>>; parameters: <<{'C': [0.0033, 0.005, 0.0067, 0.0083, 0.01, 0.015, 0.02, 0.025, 0.03]}>>\n",
      "Fitting 3 folds for each of 9 candidates, totalling 27 fits\n"
     ]
    },
    {
     "name": "stderr",
     "output_type": "stream",
     "text": [
      "[Parallel(n_jobs=1)]: Done  27 out of  27 | elapsed:    2.0s finished\n"
     ]
    },
    {
     "name": "stdout",
     "output_type": "stream",
     "text": [
      "       Best parameters selected: <<{'C': 0.005}>> for score <<0.6486537387229451>>.\n",
      "       3. Grid Search model <<<class 'sklearn.svm.classes.LinearSVC'>>>; weight: <<balanced>>; parameters: <<{'C': [0.0017, 0.0025, 0.0033, 0.0042, 0.005, 0.0075, 0.01, 0.0125, 0.015]}>>\n",
      "Fitting 3 folds for each of 9 candidates, totalling 27 fits\n"
     ]
    },
    {
     "name": "stderr",
     "output_type": "stream",
     "text": [
      "[Parallel(n_jobs=1)]: Done  27 out of  27 | elapsed:    1.4s finished\n"
     ]
    },
    {
     "name": "stdout",
     "output_type": "stream",
     "text": [
      "       Best parameters selected: <<{'C': 0.005}>> for score <<0.6486537387229451>>.\n",
      "       3. Grid Search model <<<class 'sklearn.svm.classes.LinearSVC'>>>; weight: <<{0: 1.0, 1: 53.67624020887728}>>; parameters: <<{'C': [0.001, 0.01, 0.1, 1.0, 10.0]}>>\n",
      "Fitting 3 folds for each of 5 candidates, totalling 15 fits\n"
     ]
    },
    {
     "name": "stderr",
     "output_type": "stream",
     "text": [
      "[Parallel(n_jobs=1)]: Done  15 out of  15 | elapsed:    2.9s finished\n"
     ]
    },
    {
     "name": "stdout",
     "output_type": "stream",
     "text": [
      "       Best parameters selected: <<{'C': 0.01}>> for score <<0.6268757342162294>>.\n",
      "       4. Grid Search model <<<class 'sklearn.svm.classes.LinearSVC'>>>; weight: <<{0: 1.0, 1: 53.67624020887728}>>; parameters: <<{'C': [0.0033, 0.005, 0.0067, 0.0083, 0.01, 0.015, 0.02, 0.025, 0.03]}>>\n",
      "Fitting 3 folds for each of 9 candidates, totalling 27 fits\n"
     ]
    },
    {
     "name": "stderr",
     "output_type": "stream",
     "text": [
      "[Parallel(n_jobs=1)]: Done  27 out of  27 | elapsed:    3.0s finished\n"
     ]
    },
    {
     "name": "stdout",
     "output_type": "stream",
     "text": [
      "       Best parameters selected: <<{'C': 0.0033}>> for score <<0.6413180019645949>>.\n",
      "       5. Grid Search model <<<class 'sklearn.svm.classes.LinearSVC'>>>; weight: <<{0: 1.0, 1: 53.67624020887728}>>; parameters: <<{'C': [0.0011, 0.0016, 0.0022, 0.0028, 0.0033, 0.0049, 0.0066, 0.0082, 0.0099]}>>\n",
      "Fitting 3 folds for each of 9 candidates, totalling 27 fits\n"
     ]
    },
    {
     "name": "stderr",
     "output_type": "stream",
     "text": [
      "[Parallel(n_jobs=1)]: Done  27 out of  27 | elapsed:    1.5s finished\n"
     ]
    },
    {
     "name": "stdout",
     "output_type": "stream",
     "text": [
      "       Best parameters selected: <<{'C': 0.0028}>> for score <<0.6490177781615805>>.\n",
      "       6. Grid Search model <<<class 'sklearn.svm.classes.LinearSVC'>>>; weight: <<{0: 1.0, 1: 53.67624020887728}>>; parameters: <<{'C': [0.0009, 0.0014, 0.0019, 0.0023, 0.0028, 0.0042, 0.0056, 0.007, 0.0084]}>>\n",
      "Fitting 3 folds for each of 9 candidates, totalling 27 fits\n"
     ]
    },
    {
     "name": "stderr",
     "output_type": "stream",
     "text": [
      "[Parallel(n_jobs=1)]: Done  27 out of  27 | elapsed:    1.4s finished\n"
     ]
    },
    {
     "name": "stdout",
     "output_type": "stream",
     "text": [
      "       Best parameters selected: <<{'C': 0.0028}>> for score <<0.6490177781615805>>.\n",
      "       Final parameters selected: <<{'C': 0.005}>> for score <<0.6486537387229451>> (balanced).\n",
      "\n",
      "          *** Prev Score on validation dataset (macro/weighted) <<0.6366326199740596>> / <<0.868601986249045>>.\n",
      "\n",
      "          *** Score on validation dataset (macro/weighted) <<0.6473492217898833>> / <<0.8495034377387318>>.\n",
      "[[2203  367]\n",
      " [  27   21]]\n",
      "\n",
      "          *** Model has been refitted from <<0.6478261690963336>> to <<0.6486537387229451>>.\n",
      "\n",
      "-------------------------------------------------------------------\n",
      "    44. ReFit model for class: <<missing_people>> ((20941, 12009)).\n",
      "    Tuning hyper-parameters for class: <<missing_people>> (Recall).\n",
      "       1. Grid Search model <<<class 'sklearn.svm.classes.LinearSVC'>>>; weight: <<balanced>>; parameters: <<{'C': [0.001, 0.01, 0.1, 1.0, 10.0]}>>\n",
      "Fitting 3 folds for each of 5 candidates, totalling 15 fits\n"
     ]
    },
    {
     "name": "stderr",
     "output_type": "stream",
     "text": [
      "[Parallel(n_jobs=1)]: Done  15 out of  15 | elapsed:    2.5s finished\n"
     ]
    },
    {
     "name": "stdout",
     "output_type": "stream",
     "text": [
      "       Best parameters selected: <<{'C': 0.01}>> for score <<0.6691633183904454>>.\n",
      "       2. Grid Search model <<<class 'sklearn.svm.classes.LinearSVC'>>>; weight: <<balanced>>; parameters: <<{'C': [0.0033, 0.005, 0.0067, 0.0083, 0.01, 0.015, 0.02, 0.025, 0.03]}>>\n",
      "Fitting 3 folds for each of 9 candidates, totalling 27 fits\n"
     ]
    },
    {
     "name": "stderr",
     "output_type": "stream",
     "text": [
      "[Parallel(n_jobs=1)]: Done  27 out of  27 | elapsed:    2.7s finished\n"
     ]
    },
    {
     "name": "stdout",
     "output_type": "stream",
     "text": [
      "       Best parameters selected: <<{'C': 0.005}>> for score <<0.6710366525806745>>.\n",
      "       3. Grid Search model <<<class 'sklearn.svm.classes.LinearSVC'>>>; weight: <<balanced>>; parameters: <<{'C': [0.0017, 0.0025, 0.0033, 0.0042, 0.005, 0.0075, 0.01, 0.0125, 0.015]}>>\n",
      "Fitting 3 folds for each of 9 candidates, totalling 27 fits\n"
     ]
    },
    {
     "name": "stderr",
     "output_type": "stream",
     "text": [
      "[Parallel(n_jobs=1)]: Done  27 out of  27 | elapsed:    1.8s finished\n"
     ]
    },
    {
     "name": "stdout",
     "output_type": "stream",
     "text": [
      "       Best parameters selected: <<{'C': 0.005}>> for score <<0.6710366525806745>>.\n",
      "       3. Grid Search model <<<class 'sklearn.svm.classes.LinearSVC'>>>; weight: <<{0: 1.0, 1: 85.53305785123966}>>; parameters: <<{'C': [0.001, 0.01, 0.1, 1.0, 10.0]}>>\n",
      "Fitting 3 folds for each of 5 candidates, totalling 15 fits\n"
     ]
    },
    {
     "name": "stderr",
     "output_type": "stream",
     "text": [
      "[Parallel(n_jobs=1)]: Done  15 out of  15 | elapsed:    2.5s finished\n"
     ]
    },
    {
     "name": "stdout",
     "output_type": "stream",
     "text": [
      "       Best parameters selected: <<{'C': 0.01}>> for score <<0.6625749432862861>>.\n",
      "       4. Grid Search model <<<class 'sklearn.svm.classes.LinearSVC'>>>; weight: <<{0: 1.0, 1: 85.53305785123966}>>; parameters: <<{'C': [0.0033, 0.005, 0.0067, 0.0083, 0.01, 0.015, 0.02, 0.025, 0.03]}>>\n",
      "Fitting 3 folds for each of 9 candidates, totalling 27 fits\n"
     ]
    },
    {
     "name": "stderr",
     "output_type": "stream",
     "text": [
      "[Parallel(n_jobs=1)]: Done  27 out of  27 | elapsed:    4.0s finished\n"
     ]
    },
    {
     "name": "stdout",
     "output_type": "stream",
     "text": [
      "       Best parameters selected: <<{'C': 0.005}>> for score <<0.668994230377167>>.\n",
      "       5. Grid Search model <<<class 'sklearn.svm.classes.LinearSVC'>>>; weight: <<{0: 1.0, 1: 85.53305785123966}>>; parameters: <<{'C': [0.0017, 0.0025, 0.0033, 0.0042, 0.005, 0.0075, 0.01, 0.0125, 0.015]}>>\n",
      "Fitting 3 folds for each of 9 candidates, totalling 27 fits\n"
     ]
    },
    {
     "name": "stderr",
     "output_type": "stream",
     "text": [
      "[Parallel(n_jobs=1)]: Done  27 out of  27 | elapsed:    2.8s finished\n"
     ]
    },
    {
     "name": "stdout",
     "output_type": "stream",
     "text": [
      "       Best parameters selected: <<{'C': 0.0025}>> for score <<0.6708675748281506>>.\n",
      "       6. Grid Search model <<<class 'sklearn.svm.classes.LinearSVC'>>>; weight: <<{0: 1.0, 1: 85.53305785123966}>>; parameters: <<{'C': [0.0008, 0.0012, 0.0017, 0.0021, 0.0025, 0.0038, 0.005, 0.0062, 0.0075]}>>\n",
      "Fitting 3 folds for each of 9 candidates, totalling 27 fits\n"
     ]
    },
    {
     "name": "stderr",
     "output_type": "stream",
     "text": [
      "[Parallel(n_jobs=1)]: Done  27 out of  27 | elapsed:    1.9s finished\n"
     ]
    },
    {
     "name": "stdout",
     "output_type": "stream",
     "text": [
      "       Best parameters selected: <<{'C': 0.0025}>> for score <<0.6708675748281506>>.\n",
      "       Final parameters selected: <<{'C': 0.005}>> for score <<0.6710366525806745>> (balanced).\n",
      "\n",
      "          *** Prev Score on validation dataset (macro/weighted) <<0.7121844410097888>> / <<0.8869365928189458>>.\n",
      "\n",
      "          *** Score on validation dataset (macro/weighted) <<0.7348402885110767>> / <<0.8991596638655462>>.\n",
      "[[2337  251]\n",
      " [  13   17]]\n",
      "\n",
      "-------------------------------------------------------------------\n",
      "    45. ReFit model for class: <<refugees>> ((20941, 12009)).\n",
      "    Tuning hyper-parameters for class: <<refugees>> (Recall).\n",
      "       1. Grid Search model <<<class 'sklearn.svm.classes.LinearSVC'>>>; weight: <<balanced>>; parameters: <<{'C': [0.001, 0.01, 0.1, 1.0, 10.0]}>>\n",
      "Fitting 3 folds for each of 5 candidates, totalling 15 fits\n"
     ]
    },
    {
     "name": "stderr",
     "output_type": "stream",
     "text": [
      "[Parallel(n_jobs=1)]: Done  15 out of  15 | elapsed:    2.9s finished\n"
     ]
    },
    {
     "name": "stdout",
     "output_type": "stream",
     "text": [
      "       Best parameters selected: <<{'C': 0.01}>> for score <<0.7864793001672967>>.\n",
      "       2. Grid Search model <<<class 'sklearn.svm.classes.LinearSVC'>>>; weight: <<balanced>>; parameters: <<{'C': [0.0033, 0.005, 0.0067, 0.0083, 0.01, 0.015, 0.02, 0.025, 0.03]}>>\n",
      "Fitting 3 folds for each of 9 candidates, totalling 27 fits\n"
     ]
    },
    {
     "name": "stderr",
     "output_type": "stream",
     "text": [
      "[Parallel(n_jobs=1)]: Done  27 out of  27 | elapsed:    1.8s finished\n"
     ]
    },
    {
     "name": "stdout",
     "output_type": "stream",
     "text": [
      "       Best parameters selected: <<{'C': 0.01}>> for score <<0.7864793001672967>>.\n",
      "       2. Grid Search model <<<class 'sklearn.svm.classes.LinearSVC'>>>; weight: <<{0: 1.0, 1: 59.95562130177515}>>; parameters: <<{'C': [0.001, 0.01, 0.1, 1.0, 10.0]}>>\n",
      "Fitting 3 folds for each of 5 candidates, totalling 15 fits\n"
     ]
    },
    {
     "name": "stderr",
     "output_type": "stream",
     "text": [
      "[Parallel(n_jobs=1)]: Done  15 out of  15 | elapsed:    3.9s finished\n"
     ]
    },
    {
     "name": "stdout",
     "output_type": "stream",
     "text": [
      "       Best parameters selected: <<{'C': 0.01}>> for score <<0.7927484777035168>>.\n",
      "       3. Grid Search model <<<class 'sklearn.svm.classes.LinearSVC'>>>; weight: <<{0: 1.0, 1: 59.95562130177515}>>; parameters: <<{'C': [0.0033, 0.005, 0.0067, 0.0083, 0.01, 0.015, 0.02, 0.025, 0.03]}>>\n",
      "Fitting 3 folds for each of 9 candidates, totalling 27 fits\n"
     ]
    },
    {
     "name": "stderr",
     "output_type": "stream",
     "text": [
      "[Parallel(n_jobs=1)]: Done  27 out of  27 | elapsed:    3.2s finished\n"
     ]
    },
    {
     "name": "stdout",
     "output_type": "stream",
     "text": [
      "       Best parameters selected: <<{'C': 0.015}>> for score <<0.7972806887372624>>.\n",
      "       4. Grid Search model <<<class 'sklearn.svm.classes.LinearSVC'>>>; weight: <<{0: 1.0, 1: 59.95562130177515}>>; parameters: <<{'C': [0.005, 0.0075, 0.01, 0.0125, 0.015, 0.0225, 0.03, 0.0375, 0.045]}>>\n",
      "Fitting 3 folds for each of 9 candidates, totalling 27 fits\n"
     ]
    },
    {
     "name": "stderr",
     "output_type": "stream",
     "text": [
      "[Parallel(n_jobs=1)]: Done  27 out of  27 | elapsed:    4.0s finished\n"
     ]
    },
    {
     "name": "stdout",
     "output_type": "stream",
     "text": [
      "       Best parameters selected: <<{'C': 0.015}>> for score <<0.7972806887372624>>.\n",
      "       Final parameters selected: <<{'C': 0.015}>> for score <<0.7972806887372624>> ({0: 1.0, 1: 59.95562130177515}).\n",
      "\n",
      "          *** Prev Score on validation dataset (macro/weighted) <<0.7761658717541071>> / <<0.8861726508785333>>.\n",
      "\n",
      "          *** Score on validation dataset (macro/weighted) <<0.774311075781664>> / <<0.8464476699770818>>.\n",
      "[[2145  371]\n",
      " [  31   71]]\n",
      "\n",
      "-------------------------------------------------------------------\n",
      "    46. ReFit model for class: <<other_aid>> ((20941, 12009)).\n",
      "    Tuning hyper-parameters for class: <<other_aid>> (Recall).\n",
      "       1. Grid Search model <<<class 'sklearn.svm.classes.LinearSVC'>>>; weight: <<balanced>>; parameters: <<{'C': [0.001, 0.01, 0.1, 1.0, 10.0]}>>\n",
      "Fitting 3 folds for each of 5 candidates, totalling 15 fits\n"
     ]
    },
    {
     "name": "stderr",
     "output_type": "stream",
     "text": [
      "[Parallel(n_jobs=1)]: Done  15 out of  15 | elapsed:    4.4s finished\n"
     ]
    },
    {
     "name": "stdout",
     "output_type": "stream",
     "text": [
      "       Best parameters selected: <<{'C': 0.1}>> for score <<0.7033593576392172>>.\n",
      "       2. Grid Search model <<<class 'sklearn.svm.classes.LinearSVC'>>>; weight: <<balanced>>; parameters: <<{'C': [0.0333, 0.05, 0.0667, 0.0833, 0.1, 0.15, 0.2, 0.25, 0.3]}>>\n",
      "Fitting 3 folds for each of 9 candidates, totalling 27 fits\n"
     ]
    },
    {
     "name": "stderr",
     "output_type": "stream",
     "text": [
      "[Parallel(n_jobs=1)]: Done  27 out of  27 | elapsed:    3.3s finished\n"
     ]
    },
    {
     "name": "stdout",
     "output_type": "stream",
     "text": [
      "       Best parameters selected: <<{'C': 0.0333}>> for score <<0.7087221117365672>>.\n",
      "       3. Grid Search model <<<class 'sklearn.svm.classes.LinearSVC'>>>; weight: <<balanced>>; parameters: <<{'C': [0.0111, 0.0167, 0.0222, 0.0278, 0.0333, 0.05, 0.0666, 0.0833, 0.0999]}>>\n",
      "Fitting 3 folds for each of 9 candidates, totalling 27 fits\n"
     ]
    },
    {
     "name": "stderr",
     "output_type": "stream",
     "text": [
      "[Parallel(n_jobs=1)]: Done  27 out of  27 | elapsed:    1.8s finished\n"
     ]
    },
    {
     "name": "stdout",
     "output_type": "stream",
     "text": [
      "       Best parameters selected: <<{'C': 0.0278}>> for score <<0.7095890637260795>>.\n",
      "       4. Grid Search model <<<class 'sklearn.svm.classes.LinearSVC'>>>; weight: <<balanced>>; parameters: <<{'C': [0.0093, 0.0139, 0.0185, 0.0232, 0.0278, 0.0417, 0.0556, 0.0695, 0.0834]}>>\n",
      "Fitting 3 folds for each of 9 candidates, totalling 27 fits\n"
     ]
    },
    {
     "name": "stderr",
     "output_type": "stream",
     "text": [
      "[Parallel(n_jobs=1)]: Done  27 out of  27 | elapsed:    2.4s finished\n"
     ]
    },
    {
     "name": "stdout",
     "output_type": "stream",
     "text": [
      "       Best parameters selected: <<{'C': 0.0278}>> for score <<0.7095890637260795>>.\n",
      "       4. Grid Search model <<<class 'sklearn.svm.classes.LinearSVC'>>>; weight: <<{0: 1.0, 1: 13.263119533527698}>>; parameters: <<{'C': [0.001, 0.01, 0.1, 1.0, 10.0]}>>\n",
      "Fitting 3 folds for each of 5 candidates, totalling 15 fits\n"
     ]
    },
    {
     "name": "stderr",
     "output_type": "stream",
     "text": [
      "[Parallel(n_jobs=1)]: Done  15 out of  15 | elapsed:    7.2s finished\n"
     ]
    },
    {
     "name": "stdout",
     "output_type": "stream",
     "text": [
      "       Best parameters selected: <<{'C': 0.1}>> for score <<0.6992474185156116>>.\n",
      "       5. Grid Search model <<<class 'sklearn.svm.classes.LinearSVC'>>>; weight: <<{0: 1.0, 1: 13.263119533527698}>>; parameters: <<{'C': [0.0333, 0.05, 0.0667, 0.0833, 0.1, 0.15, 0.2, 0.25, 0.3]}>>\n",
      "Fitting 3 folds for each of 9 candidates, totalling 27 fits\n"
     ]
    },
    {
     "name": "stderr",
     "output_type": "stream",
     "text": [
      "[Parallel(n_jobs=1)]: Done  27 out of  27 | elapsed:    9.7s finished\n"
     ]
    },
    {
     "name": "stdout",
     "output_type": "stream",
     "text": [
      "       Best parameters selected: <<{'C': 0.05}>> for score <<0.7045331332074711>>.\n",
      "       6. Grid Search model <<<class 'sklearn.svm.classes.LinearSVC'>>>; weight: <<{0: 1.0, 1: 13.263119533527698}>>; parameters: <<{'C': [0.0167, 0.025, 0.0333, 0.0417, 0.05, 0.075, 0.1, 0.125, 0.15]}>>\n",
      "Fitting 3 folds for each of 9 candidates, totalling 27 fits\n"
     ]
    },
    {
     "name": "stderr",
     "output_type": "stream",
     "text": [
      "[Parallel(n_jobs=1)]: Done  27 out of  27 | elapsed:    7.7s finished\n"
     ]
    },
    {
     "name": "stdout",
     "output_type": "stream",
     "text": [
      "       Best parameters selected: <<{'C': 0.05}>> for score <<0.7045331332074711>>.\n",
      "       Final parameters selected: <<{'C': 0.0278}>> for score <<0.7095890637260795>> (balanced).\n",
      "\n",
      "          *** Prev Score on validation dataset (macro/weighted) <<0.7151883491294431>> / <<0.7799847211611919>>.\n",
      "\n",
      "          *** Score on validation dataset (macro/weighted) <<0.7223709748253928>> / <<0.7838044308632544>>.\n",
      "[[1834  443]\n",
      " [ 123  218]]\n",
      "\n",
      "          *** Model has been refitted from <<0.7083141937798972>> to <<0.7095890637260795>>.\n",
      "\n",
      "-------------------------------------------------------------------\n",
      "    47. ReFit model for class: <<infrastructure_related>> ((20941, 12009)).\n",
      "    Tuning hyper-parameters for class: <<infrastructure_related>> (Recall).\n",
      "       1. Grid Search model <<<class 'sklearn.svm.classes.LinearSVC'>>>; weight: <<balanced>>; parameters: <<{'C': [0.001, 0.01, 0.1, 1.0, 10.0]}>>\n",
      "Fitting 3 folds for each of 5 candidates, totalling 15 fits\n"
     ]
    },
    {
     "name": "stderr",
     "output_type": "stream",
     "text": [
      "[Parallel(n_jobs=1)]: Done  15 out of  15 | elapsed:    4.4s finished\n"
     ]
    },
    {
     "name": "stdout",
     "output_type": "stream",
     "text": [
      "       Best parameters selected: <<{'C': 0.01}>> for score <<0.7179228586862002>>.\n",
      "       2. Grid Search model <<<class 'sklearn.svm.classes.LinearSVC'>>>; weight: <<balanced>>; parameters: <<{'C': [0.0033, 0.005, 0.0067, 0.0083, 0.01, 0.015, 0.02, 0.025, 0.03]}>>\n",
      "Fitting 3 folds for each of 9 candidates, totalling 27 fits\n"
     ]
    },
    {
     "name": "stderr",
     "output_type": "stream",
     "text": [
      "[Parallel(n_jobs=1)]: Done  27 out of  27 | elapsed:    1.3s finished\n"
     ]
    },
    {
     "name": "stdout",
     "output_type": "stream",
     "text": [
      "       Best parameters selected: <<{'C': 0.025}>> for score <<0.7243715577544444>>.\n",
      "       3. Grid Search model <<<class 'sklearn.svm.classes.LinearSVC'>>>; weight: <<balanced>>; parameters: <<{'C': [0.0083, 0.0125, 0.0167, 0.0208, 0.025, 0.0375, 0.05, 0.0625, 0.075]}>>\n",
      "Fitting 3 folds for each of 9 candidates, totalling 27 fits\n"
     ]
    },
    {
     "name": "stderr",
     "output_type": "stream",
     "text": [
      "[Parallel(n_jobs=1)]: Done  27 out of  27 | elapsed:    2.4s finished\n"
     ]
    },
    {
     "name": "stdout",
     "output_type": "stream",
     "text": [
      "       Best parameters selected: <<{'C': 0.025}>> for score <<0.7243715577544444>>.\n",
      "       3. Grid Search model <<<class 'sklearn.svm.classes.LinearSVC'>>>; weight: <<{0: 1.0, 1: 29.023703703703706}>>; parameters: <<{'C': [0.001, 0.01, 0.1, 1.0, 10.0]}>>\n",
      "Fitting 3 folds for each of 5 candidates, totalling 15 fits\n"
     ]
    },
    {
     "name": "stderr",
     "output_type": "stream",
     "text": [
      "[Parallel(n_jobs=1)]: Done  15 out of  15 | elapsed:    4.5s finished\n"
     ]
    },
    {
     "name": "stdout",
     "output_type": "stream",
     "text": [
      "       Best parameters selected: <<{'C': 0.01}>> for score <<0.7286943511351741>>.\n",
      "       4. Grid Search model <<<class 'sklearn.svm.classes.LinearSVC'>>>; weight: <<{0: 1.0, 1: 29.023703703703706}>>; parameters: <<{'C': [0.0033, 0.005, 0.0067, 0.0083, 0.01, 0.015, 0.02, 0.025, 0.03]}>>\n",
      "Fitting 3 folds for each of 9 candidates, totalling 27 fits\n"
     ]
    },
    {
     "name": "stderr",
     "output_type": "stream",
     "text": [
      "[Parallel(n_jobs=1)]: Done  27 out of  27 | elapsed:    2.3s finished\n"
     ]
    },
    {
     "name": "stdout",
     "output_type": "stream",
     "text": [
      "       Best parameters selected: <<{'C': 0.02}>> for score <<0.7317729619984178>>.\n",
      "       5. Grid Search model <<<class 'sklearn.svm.classes.LinearSVC'>>>; weight: <<{0: 1.0, 1: 29.023703703703706}>>; parameters: <<{'C': [0.0067, 0.01, 0.0133, 0.0167, 0.02, 0.03, 0.04, 0.05, 0.06]}>>\n",
      "Fitting 3 folds for each of 9 candidates, totalling 27 fits\n"
     ]
    },
    {
     "name": "stderr",
     "output_type": "stream",
     "text": [
      "[Parallel(n_jobs=1)]: Done  27 out of  27 | elapsed:    3.7s finished\n"
     ]
    },
    {
     "name": "stdout",
     "output_type": "stream",
     "text": [
      "       Best parameters selected: <<{'C': 0.02}>> for score <<0.7317729619984178>>.\n",
      "       Final parameters selected: <<{'C': 0.025}>> for score <<0.7243715577544444>> (balanced).\n",
      "\n",
      "          *** Prev Score on validation dataset (macro/weighted) <<0.7196125103659572>> / <<0.7910618792971734>>.\n",
      "\n",
      "          *** Score on validation dataset (macro/weighted) <<0.7384110391767458>> / <<0.8262032085561497>>.\n",
      "[[2054  393]\n",
      " [  62  109]]\n",
      "\n",
      "          *** Model has been refitted from <<0.7203609557563796>> to <<0.7243715577544444>>.\n",
      "\n",
      "-------------------------------------------------------------------\n",
      "    48. ReFit model for class: <<transport>> ((20941, 12009)).\n",
      "    Tuning hyper-parameters for class: <<transport>> (Recall).\n",
      "       1. Grid Search model <<<class 'sklearn.svm.classes.LinearSVC'>>>; weight: <<balanced>>; parameters: <<{'C': [0.001, 0.01, 0.1, 1.0, 10.0]}>>\n",
      "Fitting 3 folds for each of 5 candidates, totalling 15 fits\n"
     ]
    },
    {
     "name": "stderr",
     "output_type": "stream",
     "text": [
      "[Parallel(n_jobs=1)]: Done  15 out of  15 | elapsed:    3.9s finished\n"
     ]
    },
    {
     "name": "stdout",
     "output_type": "stream",
     "text": [
      "       Best parameters selected: <<{'C': 0.01}>> for score <<0.7107760038116064>>.\n",
      "       2. Grid Search model <<<class 'sklearn.svm.classes.LinearSVC'>>>; weight: <<balanced>>; parameters: <<{'C': [0.0033, 0.005, 0.0067, 0.0083, 0.01, 0.015, 0.02, 0.025, 0.03]}>>\n",
      "Fitting 3 folds for each of 9 candidates, totalling 27 fits\n"
     ]
    },
    {
     "name": "stderr",
     "output_type": "stream",
     "text": [
      "[Parallel(n_jobs=1)]: Done  27 out of  27 | elapsed:    1.4s finished\n"
     ]
    },
    {
     "name": "stdout",
     "output_type": "stream",
     "text": [
      "       Best parameters selected: <<{'C': 0.01}>> for score <<0.7107760038116064>>.\n",
      "       2. Grid Search model <<<class 'sklearn.svm.classes.LinearSVC'>>>; weight: <<{0: 1.0, 1: 41.76384535005224}>>; parameters: <<{'C': [0.001, 0.01, 0.1, 1.0, 10.0]}>>\n",
      "Fitting 3 folds for each of 5 candidates, totalling 15 fits\n"
     ]
    },
    {
     "name": "stderr",
     "output_type": "stream",
     "text": [
      "[Parallel(n_jobs=1)]: Done  15 out of  15 | elapsed:    4.6s finished\n"
     ]
    },
    {
     "name": "stdout",
     "output_type": "stream",
     "text": [
      "       Best parameters selected: <<{'C': 0.01}>> for score <<0.6987061476190854>>.\n",
      "       3. Grid Search model <<<class 'sklearn.svm.classes.LinearSVC'>>>; weight: <<{0: 1.0, 1: 41.76384535005224}>>; parameters: <<{'C': [0.0033, 0.005, 0.0067, 0.0083, 0.01, 0.015, 0.02, 0.025, 0.03]}>>\n",
      "Fitting 3 folds for each of 9 candidates, totalling 27 fits\n"
     ]
    },
    {
     "name": "stderr",
     "output_type": "stream",
     "text": [
      "[Parallel(n_jobs=1)]: Done  27 out of  27 | elapsed:    2.8s finished\n"
     ]
    },
    {
     "name": "stdout",
     "output_type": "stream",
     "text": [
      "       Best parameters selected: <<{'C': 0.02}>> for score <<0.7072652022387681>>.\n",
      "       4. Grid Search model <<<class 'sklearn.svm.classes.LinearSVC'>>>; weight: <<{0: 1.0, 1: 41.76384535005224}>>; parameters: <<{'C': [0.0067, 0.01, 0.0133, 0.0167, 0.02, 0.03, 0.04, 0.05, 0.06]}>>\n",
      "Fitting 3 folds for each of 9 candidates, totalling 27 fits\n"
     ]
    },
    {
     "name": "stderr",
     "output_type": "stream",
     "text": [
      "[Parallel(n_jobs=1)]: Done  27 out of  27 | elapsed:    4.7s finished\n"
     ]
    },
    {
     "name": "stdout",
     "output_type": "stream",
     "text": [
      "       Best parameters selected: <<{'C': 0.0133}>> for score <<0.709016198586715>>.\n",
      "       5. Grid Search model <<<class 'sklearn.svm.classes.LinearSVC'>>>; weight: <<{0: 1.0, 1: 41.76384535005224}>>; parameters: <<{'C': [0.0044, 0.0066, 0.0089, 0.0111, 0.0133, 0.02, 0.0266, 0.0332, 0.0399]}>>\n",
      "Fitting 3 folds for each of 9 candidates, totalling 27 fits\n"
     ]
    },
    {
     "name": "stderr",
     "output_type": "stream",
     "text": [
      "[Parallel(n_jobs=1)]: Done  27 out of  27 | elapsed:    3.4s finished\n"
     ]
    },
    {
     "name": "stdout",
     "output_type": "stream",
     "text": [
      "       Best parameters selected: <<{'C': 0.0133}>> for score <<0.709016198586715>>.\n",
      "       Final parameters selected: <<{'C': 0.01}>> for score <<0.7107760038116064>> (balanced).\n",
      "\n",
      "          *** Prev Score on validation dataset (macro/weighted) <<0.7125491525423728>> / <<0.8750954927425516>>.\n",
      "\n",
      "          *** Score on validation dataset (macro/weighted) <<0.7186983050847457>> / <<0.8559969442322384>>.\n",
      "[[2174  326]\n",
      " [  51   67]]\n",
      "\n",
      "-------------------------------------------------------------------\n",
      "    49. ReFit model for class: <<tools>> ((20941, 12009)).\n",
      "    Tuning hyper-parameters for class: <<tools>> (Recall).\n",
      "       1. Grid Search model <<<class 'sklearn.svm.classes.LinearSVC'>>>; weight: <<balanced>>; parameters: <<{'C': [0.001, 0.01, 0.1, 1.0, 10.0]}>>\n",
      "Fitting 3 folds for each of 5 candidates, totalling 15 fits\n"
     ]
    },
    {
     "name": "stderr",
     "output_type": "stream",
     "text": [
      "[Parallel(n_jobs=1)]: Done  15 out of  15 | elapsed:    2.3s finished\n"
     ]
    },
    {
     "name": "stdout",
     "output_type": "stream",
     "text": [
      "       Best parameters selected: <<{'C': 0.01}>> for score <<0.6331187636718886>>.\n",
      "       2. Grid Search model <<<class 'sklearn.svm.classes.LinearSVC'>>>; weight: <<balanced>>; parameters: <<{'C': [0.0033, 0.005, 0.0067, 0.0083, 0.01, 0.015, 0.02, 0.025, 0.03]}>>\n",
      "Fitting 3 folds for each of 9 candidates, totalling 27 fits\n"
     ]
    },
    {
     "name": "stderr",
     "output_type": "stream",
     "text": [
      "[Parallel(n_jobs=1)]: Done  27 out of  27 | elapsed:    3.6s finished\n"
     ]
    },
    {
     "name": "stdout",
     "output_type": "stream",
     "text": [
      "       Best parameters selected: <<{'C': 0.0067}>> for score <<0.6353520495244452>>.\n",
      "       3. Grid Search model <<<class 'sklearn.svm.classes.LinearSVC'>>>; weight: <<balanced>>; parameters: <<{'C': [0.0022, 0.0034, 0.0045, 0.0056, 0.0067, 0.01, 0.0134, 0.0168, 0.0201]}>>\n",
      "Fitting 3 folds for each of 9 candidates, totalling 27 fits\n"
     ]
    },
    {
     "name": "stderr",
     "output_type": "stream",
     "text": [
      "[Parallel(n_jobs=1)]: Done  27 out of  27 | elapsed:    2.7s finished\n"
     ]
    },
    {
     "name": "stdout",
     "output_type": "stream",
     "text": [
      "       Best parameters selected: <<{'C': 0.0067}>> for score <<0.6353520495244452>>.\n",
      "       3. Grid Search model <<<class 'sklearn.svm.classes.LinearSVC'>>>; weight: <<{0: 1.0, 1: 160.08461538461538}>>; parameters: <<{'C': [0.001, 0.01, 0.1, 1.0, 10.0]}>>\n",
      "Fitting 3 folds for each of 5 candidates, totalling 15 fits\n"
     ]
    },
    {
     "name": "stderr",
     "output_type": "stream",
     "text": [
      "[Parallel(n_jobs=1)]: Done  15 out of  15 | elapsed:    2.4s finished\n"
     ]
    },
    {
     "name": "stdout",
     "output_type": "stream",
     "text": [
      "       Best parameters selected: <<{'C': 0.001}>> for score <<0.6265354543060396>>.\n",
      "       4. Grid Search model <<<class 'sklearn.svm.classes.LinearSVC'>>>; weight: <<{0: 1.0, 1: 160.08461538461538}>>; parameters: <<{'C': [0.0003, 0.0005, 0.0007, 0.0008, 0.001, 0.0015, 0.002, 0.0025, 0.003]}>>\n",
      "Fitting 3 folds for each of 9 candidates, totalling 27 fits\n"
     ]
    },
    {
     "name": "stderr",
     "output_type": "stream",
     "text": [
      "[Parallel(n_jobs=1)]: Done  27 out of  27 | elapsed:    1.5s finished\n"
     ]
    },
    {
     "name": "stdout",
     "output_type": "stream",
     "text": [
      "       Best parameters selected: <<{'C': 0.0015}>> for score <<0.6335659384960334>>.\n",
      "       5. Grid Search model <<<class 'sklearn.svm.classes.LinearSVC'>>>; weight: <<{0: 1.0, 1: 160.08461538461538}>>; parameters: <<{'C': [0.0005, 0.0008, 0.001, 0.0012, 0.0015, 0.0023, 0.003, 0.0038, 0.0045]}>>\n",
      "Fitting 3 folds for each of 9 candidates, totalling 27 fits\n"
     ]
    },
    {
     "name": "stderr",
     "output_type": "stream",
     "text": [
      "[Parallel(n_jobs=1)]: Done  27 out of  27 | elapsed:    1.7s finished\n"
     ]
    },
    {
     "name": "stdout",
     "output_type": "stream",
     "text": [
      "       Best parameters selected: <<{'C': 0.0015}>> for score <<0.6335659384960334>>.\n",
      "       Final parameters selected: <<{'C': 0.0067}>> for score <<0.6353520495244452>> (balanced).\n",
      "\n",
      "          *** Prev Score on validation dataset (macro/weighted) <<0.8564805918524212>> / <<0.8999236058059588>>.\n",
      "\n",
      "          *** Score on validation dataset (macro/weighted) <<0.7713777863182167>> / <<0.9159663865546218>>.\n",
      "[[2388  214]\n",
      " [   6   10]]\n",
      "\n",
      "-------------------------------------------------------------------\n",
      "    50. ReFit model for class: <<hospitals>> ((20941, 12009)).\n",
      "    Tuning hyper-parameters for class: <<hospitals>> (Recall).\n",
      "       1. Grid Search model <<<class 'sklearn.svm.classes.LinearSVC'>>>; weight: <<balanced>>; parameters: <<{'C': [0.001, 0.01, 0.1, 1.0, 10.0]}>>\n",
      "Fitting 3 folds for each of 5 candidates, totalling 15 fits\n"
     ]
    },
    {
     "name": "stderr",
     "output_type": "stream",
     "text": [
      "[Parallel(n_jobs=1)]: Done  15 out of  15 | elapsed:    1.7s finished\n"
     ]
    },
    {
     "name": "stdout",
     "output_type": "stream",
     "text": [
      "       Best parameters selected: <<{'C': 0.01}>> for score <<0.7538901588251586>>.\n",
      "       2. Grid Search model <<<class 'sklearn.svm.classes.LinearSVC'>>>; weight: <<balanced>>; parameters: <<{'C': [0.0033, 0.005, 0.0067, 0.0083, 0.01, 0.015, 0.02, 0.025, 0.03]}>>\n",
      "Fitting 3 folds for each of 9 candidates, totalling 27 fits\n"
     ]
    },
    {
     "name": "stderr",
     "output_type": "stream",
     "text": [
      "[Parallel(n_jobs=1)]: Done  27 out of  27 | elapsed:    2.8s finished\n"
     ]
    },
    {
     "name": "stdout",
     "output_type": "stream",
     "text": [
      "       Best parameters selected: <<{'C': 0.0083}>> for score <<0.7571974526302786>>.\n",
      "       3. Grid Search model <<<class 'sklearn.svm.classes.LinearSVC'>>>; weight: <<balanced>>; parameters: <<{'C': [0.0028, 0.0042, 0.0055, 0.0069, 0.0083, 0.0124, 0.0166, 0.0207, 0.0249]}>>\n",
      "Fitting 3 folds for each of 9 candidates, totalling 27 fits\n"
     ]
    },
    {
     "name": "stderr",
     "output_type": "stream",
     "text": [
      "[Parallel(n_jobs=1)]: Done  27 out of  27 | elapsed:    2.2s finished\n"
     ]
    },
    {
     "name": "stdout",
     "output_type": "stream",
     "text": [
      "       Best parameters selected: <<{'C': 0.0083}>> for score <<0.7571974526302786>>.\n",
      "       3. Grid Search model <<<class 'sklearn.svm.classes.LinearSVC'>>>; weight: <<{0: 1.0, 1: 92.48660714285715}>>; parameters: <<{'C': [0.001, 0.01, 0.1, 1.0, 10.0]}>>\n",
      "Fitting 3 folds for each of 5 candidates, totalling 15 fits\n"
     ]
    },
    {
     "name": "stderr",
     "output_type": "stream",
     "text": [
      "[Parallel(n_jobs=1)]: Done  15 out of  15 | elapsed:    1.7s finished\n"
     ]
    },
    {
     "name": "stdout",
     "output_type": "stream",
     "text": [
      "       Best parameters selected: <<{'C': 0.001}>> for score <<0.7367543087611809>>.\n",
      "       4. Grid Search model <<<class 'sklearn.svm.classes.LinearSVC'>>>; weight: <<{0: 1.0, 1: 92.48660714285715}>>; parameters: <<{'C': [0.0003, 0.0005, 0.0007, 0.0008, 0.001, 0.0015, 0.002, 0.0025, 0.003]}>>\n",
      "Fitting 3 folds for each of 9 candidates, totalling 27 fits\n"
     ]
    },
    {
     "name": "stderr",
     "output_type": "stream",
     "text": [
      "[Parallel(n_jobs=1)]: Done  27 out of  27 | elapsed:    1.2s finished\n"
     ]
    },
    {
     "name": "stdout",
     "output_type": "stream",
     "text": [
      "       Best parameters selected: <<{'C': 0.002}>> for score <<0.7548530129954719>>.\n",
      "       5. Grid Search model <<<class 'sklearn.svm.classes.LinearSVC'>>>; weight: <<{0: 1.0, 1: 92.48660714285715}>>; parameters: <<{'C': [0.0007, 0.001, 0.0013, 0.0017, 0.002, 0.003, 0.004, 0.005, 0.006]}>>\n",
      "Fitting 3 folds for each of 9 candidates, totalling 27 fits\n"
     ]
    },
    {
     "name": "stderr",
     "output_type": "stream",
     "text": [
      "[Parallel(n_jobs=1)]: Done  27 out of  27 | elapsed:    1.7s finished\n"
     ]
    },
    {
     "name": "stdout",
     "output_type": "stream",
     "text": [
      "       Best parameters selected: <<{'C': 0.002}>> for score <<0.7548530129954719>>.\n",
      "       Final parameters selected: <<{'C': 0.0083}>> for score <<0.7571974526302786>> (balanced).\n",
      "\n",
      "          *** Prev Score on validation dataset (macro/weighted) <<0.8309587986137852>> / <<0.9457601222307105>>.\n",
      "\n",
      "          *** Score on validation dataset (macro/weighted) <<0.8513027852650494>> / <<0.9392666157372039>>.\n",
      "[[2443  154]\n",
      " [   5   16]]\n",
      "\n",
      "          *** Model has been refitted from <<0.7374181445953196>> to <<0.7571974526302786>>.\n",
      "\n",
      "-------------------------------------------------------------------\n",
      "    51. ReFit model for class: <<shops>> ((20941, 12009)).\n",
      "    Tuning hyper-parameters for class: <<shops>> (Recall).\n",
      "       1. Grid Search model <<<class 'sklearn.svm.classes.LinearSVC'>>>; weight: <<balanced>>; parameters: <<{'C': [0.001, 0.01, 0.1, 1.0, 10.0]}>>\n",
      "Fitting 3 folds for each of 5 candidates, totalling 15 fits\n"
     ]
    },
    {
     "name": "stderr",
     "output_type": "stream",
     "text": [
      "[Parallel(n_jobs=1)]: Done  15 out of  15 | elapsed:    1.7s finished\n"
     ]
    },
    {
     "name": "stdout",
     "output_type": "stream",
     "text": [
      "       Best parameters selected: <<{'C': 0.001}>> for score <<0.645966657159974>>.\n",
      "       2. Grid Search model <<<class 'sklearn.svm.classes.LinearSVC'>>>; weight: <<balanced>>; parameters: <<{'C': [0.0003, 0.0005, 0.0007, 0.0008, 0.001, 0.0015, 0.002, 0.0025, 0.003]}>>\n",
      "Fitting 3 folds for each of 9 candidates, totalling 27 fits\n"
     ]
    },
    {
     "name": "stderr",
     "output_type": "stream",
     "text": [
      "[Parallel(n_jobs=1)]: Done  27 out of  27 | elapsed:    1.6s finished\n"
     ]
    },
    {
     "name": "stdout",
     "output_type": "stream",
     "text": [
      "       Best parameters selected: <<{'C': 0.001}>> for score <<0.645966657159974>>.\n",
      "       2. Grid Search model <<<class 'sklearn.svm.classes.LinearSVC'>>>; weight: <<{0: 1.0, 1: 224.1720430107527}>>; parameters: <<{'C': [0.001, 0.01, 0.1, 1.0, 10.0]}>>\n",
      "Fitting 3 folds for each of 5 candidates, totalling 15 fits\n"
     ]
    },
    {
     "name": "stderr",
     "output_type": "stream",
     "text": [
      "[Parallel(n_jobs=1)]: Done  15 out of  15 | elapsed:    1.7s finished\n"
     ]
    },
    {
     "name": "stdout",
     "output_type": "stream",
     "text": [
      "       Best parameters selected: <<{'C': 0.001}>> for score <<0.6278833852656501>>.\n",
      "       3. Grid Search model <<<class 'sklearn.svm.classes.LinearSVC'>>>; weight: <<{0: 1.0, 1: 224.1720430107527}>>; parameters: <<{'C': [0.0003, 0.0005, 0.0007, 0.0008, 0.001, 0.0015, 0.002, 0.0025, 0.003]}>>\n",
      "Fitting 3 folds for each of 9 candidates, totalling 27 fits\n"
     ]
    },
    {
     "name": "stderr",
     "output_type": "stream",
     "text": [
      "[Parallel(n_jobs=1)]: Done  27 out of  27 | elapsed:    1.8s finished\n"
     ]
    },
    {
     "name": "stdout",
     "output_type": "stream",
     "text": [
      "       Best parameters selected: <<{'C': 0.0005}>> for score <<0.6458707247066436>>.\n",
      "       4. Grid Search model <<<class 'sklearn.svm.classes.LinearSVC'>>>; weight: <<{0: 1.0, 1: 224.1720430107527}>>; parameters: <<{'C': [0.0002, 0.0002, 0.0003, 0.0004, 0.0005, 0.0008, 0.001, 0.0012, 0.0015]}>>\n",
      "Fitting 3 folds for each of 9 candidates, totalling 27 fits\n"
     ]
    },
    {
     "name": "stderr",
     "output_type": "stream",
     "text": [
      "[Parallel(n_jobs=1)]: Done  27 out of  27 | elapsed:    1.2s finished\n"
     ]
    },
    {
     "name": "stdout",
     "output_type": "stream",
     "text": [
      "       Best parameters selected: <<{'C': 0.0002}>> for score <<0.6462660625969858>>.\n",
      "       5. Grid Search model <<<class 'sklearn.svm.classes.LinearSVC'>>>; weight: <<{0: 1.0, 1: 224.1720430107527}>>; parameters: <<{'C': [0.0001, 0.0001, 0.0001, 0.0002, 0.0002, 0.0003, 0.0004, 0.0005, 0.0006]}>>\n",
      "Fitting 3 folds for each of 9 candidates, totalling 27 fits\n"
     ]
    },
    {
     "name": "stderr",
     "output_type": "stream",
     "text": [
      "[Parallel(n_jobs=1)]: Done  27 out of  27 | elapsed:    0.9s finished\n"
     ]
    },
    {
     "name": "stdout",
     "output_type": "stream",
     "text": [
      "       Best parameters selected: <<{'C': 0.0002}>> for score <<0.6462660625969858>>.\n",
      "       Final parameters selected: <<{'C': 0.001}>> for score <<0.645966657159974>> (balanced).\n",
      "\n",
      "          *** Prev Score on validation dataset (macro/weighted) <<0.7874247662953002>> / <<0.9067990832696715>>.\n",
      "\n",
      "          *** Score on validation dataset (macro/weighted) <<0.8183634268152132>> / <<0.8365164247517188>>.\n",
      "[[2178  425]\n",
      " [   3   12]]\n",
      "\n",
      "-------------------------------------------------------------------\n",
      "    52. ReFit model for class: <<aid_centers>> ((20941, 12009)).\n",
      "    Tuning hyper-parameters for class: <<aid_centers>> (Recall).\n",
      "       1. Grid Search model <<<class 'sklearn.svm.classes.LinearSVC'>>>; weight: <<balanced>>; parameters: <<{'C': [0.001, 0.01, 0.1, 1.0, 10.0]}>>\n",
      "Fitting 3 folds for each of 5 candidates, totalling 15 fits\n"
     ]
    },
    {
     "name": "stderr",
     "output_type": "stream",
     "text": [
      "[Parallel(n_jobs=1)]: Done  15 out of  15 | elapsed:    1.9s finished\n"
     ]
    },
    {
     "name": "stdout",
     "output_type": "stream",
     "text": [
      "       Best parameters selected: <<{'C': 0.01}>> for score <<0.7279724652142939>>.\n",
      "       2. Grid Search model <<<class 'sklearn.svm.classes.LinearSVC'>>>; weight: <<balanced>>; parameters: <<{'C': [0.0033, 0.005, 0.0067, 0.0083, 0.01, 0.015, 0.02, 0.025, 0.03]}>>\n",
      "Fitting 3 folds for each of 9 candidates, totalling 27 fits\n"
     ]
    },
    {
     "name": "stderr",
     "output_type": "stream",
     "text": [
      "[Parallel(n_jobs=1)]: Done  27 out of  27 | elapsed:    2.2s finished\n"
     ]
    },
    {
     "name": "stdout",
     "output_type": "stream",
     "text": [
      "       Best parameters selected: <<{'C': 0.0033}>> for score <<0.7423797574871049>>.\n",
      "       3. Grid Search model <<<class 'sklearn.svm.classes.LinearSVC'>>>; weight: <<balanced>>; parameters: <<{'C': [0.0011, 0.0016, 0.0022, 0.0028, 0.0033, 0.0049, 0.0066, 0.0082, 0.0099]}>>\n",
      "Fitting 3 folds for each of 9 candidates, totalling 27 fits\n"
     ]
    },
    {
     "name": "stderr",
     "output_type": "stream",
     "text": [
      "[Parallel(n_jobs=1)]: Done  27 out of  27 | elapsed:    1.4s finished\n"
     ]
    },
    {
     "name": "stdout",
     "output_type": "stream",
     "text": [
      "       Best parameters selected: <<{'C': 0.0033}>> for score <<0.7423797574871049>>.\n",
      "       3. Grid Search model <<<class 'sklearn.svm.classes.LinearSVC'>>>; weight: <<{0: 1.0, 1: 84.1260162601626}>>; parameters: <<{'C': [0.001, 0.01, 0.1, 1.0, 10.0]}>>\n",
      "Fitting 3 folds for each of 5 candidates, totalling 15 fits\n"
     ]
    },
    {
     "name": "stderr",
     "output_type": "stream",
     "text": [
      "[Parallel(n_jobs=1)]: Done  15 out of  15 | elapsed:    1.9s finished\n"
     ]
    },
    {
     "name": "stdout",
     "output_type": "stream",
     "text": [
      "       Best parameters selected: <<{'C': 0.001}>> for score <<0.7335880146994201>>.\n",
      "       4. Grid Search model <<<class 'sklearn.svm.classes.LinearSVC'>>>; weight: <<{0: 1.0, 1: 84.1260162601626}>>; parameters: <<{'C': [0.0003, 0.0005, 0.0007, 0.0008, 0.001, 0.0015, 0.002, 0.0025, 0.003]}>>\n",
      "Fitting 3 folds for each of 9 candidates, totalling 27 fits\n"
     ]
    },
    {
     "name": "stderr",
     "output_type": "stream",
     "text": [
      "[Parallel(n_jobs=1)]: Done  27 out of  27 | elapsed:    1.1s finished\n"
     ]
    },
    {
     "name": "stdout",
     "output_type": "stream",
     "text": [
      "       Best parameters selected: <<{'C': 0.002}>> for score <<0.7400031941341958>>.\n",
      "       5. Grid Search model <<<class 'sklearn.svm.classes.LinearSVC'>>>; weight: <<{0: 1.0, 1: 84.1260162601626}>>; parameters: <<{'C': [0.0007, 0.001, 0.0013, 0.0017, 0.002, 0.003, 0.004, 0.005, 0.006]}>>\n",
      "Fitting 3 folds for each of 9 candidates, totalling 27 fits\n"
     ]
    },
    {
     "name": "stderr",
     "output_type": "stream",
     "text": [
      "[Parallel(n_jobs=1)]: Done  27 out of  27 | elapsed:    1.5s finished\n"
     ]
    },
    {
     "name": "stdout",
     "output_type": "stream",
     "text": [
      "       Best parameters selected: <<{'C': 0.0017}>> for score <<0.7426696827543675>>.\n",
      "       6. Grid Search model <<<class 'sklearn.svm.classes.LinearSVC'>>>; weight: <<{0: 1.0, 1: 84.1260162601626}>>; parameters: <<{'C': [0.0006, 0.0008, 0.0011, 0.0014, 0.0017, 0.0025, 0.0034, 0.0042, 0.0051]}>>\n",
      "Fitting 3 folds for each of 9 candidates, totalling 27 fits\n"
     ]
    },
    {
     "name": "stderr",
     "output_type": "stream",
     "text": [
      "[Parallel(n_jobs=1)]: Done  27 out of  27 | elapsed:    1.4s finished\n"
     ]
    },
    {
     "name": "stdout",
     "output_type": "stream",
     "text": [
      "       Best parameters selected: <<{'C': 0.0017}>> for score <<0.7426696827543675>>.\n",
      "       Final parameters selected: <<{'C': 0.0033}>> for score <<0.7423797574871049>> (balanced).\n",
      "\n",
      "          *** Prev Score on validation dataset (macro/weighted) <<0.7236491580799196>> / <<0.8792971734148205>>.\n",
      "\n",
      "          *** Score on validation dataset (macro/weighted) <<0.7178688112591103>> / <<0.8678380443086325>>.\n",
      "[[2259  336]\n",
      " [  10   13]]\n",
      "\n",
      "-------------------------------------------------------------------\n",
      "    53. ReFit model for class: <<other_infrastructure>> ((20941, 12009)).\n",
      "    Tuning hyper-parameters for class: <<other_infrastructure>> (Recall).\n",
      "       1. Grid Search model <<<class 'sklearn.svm.classes.LinearSVC'>>>; weight: <<balanced>>; parameters: <<{'C': [0.001, 0.01, 0.1, 1.0, 10.0]}>>\n",
      "Fitting 3 folds for each of 5 candidates, totalling 15 fits\n"
     ]
    },
    {
     "name": "stderr",
     "output_type": "stream",
     "text": [
      "[Parallel(n_jobs=1)]: Done  15 out of  15 | elapsed:    3.0s finished\n"
     ]
    },
    {
     "name": "stdout",
     "output_type": "stream",
     "text": [
      "       Best parameters selected: <<{'C': 0.01}>> for score <<0.7388150907402917>>.\n",
      "       2. Grid Search model <<<class 'sklearn.svm.classes.LinearSVC'>>>; weight: <<balanced>>; parameters: <<{'C': [0.0033, 0.005, 0.0067, 0.0083, 0.01, 0.015, 0.02, 0.025, 0.03]}>>\n",
      "Fitting 3 folds for each of 9 candidates, totalling 27 fits\n"
     ]
    },
    {
     "name": "stderr",
     "output_type": "stream",
     "text": [
      "[Parallel(n_jobs=1)]: Done  27 out of  27 | elapsed:    1.4s finished\n"
     ]
    },
    {
     "name": "stdout",
     "output_type": "stream",
     "text": [
      "       Best parameters selected: <<{'C': 0.015}>> for score <<0.7415891155522404>>.\n",
      "       3. Grid Search model <<<class 'sklearn.svm.classes.LinearSVC'>>>; weight: <<balanced>>; parameters: <<{'C': [0.005, 0.0075, 0.01, 0.0125, 0.015, 0.0225, 0.03, 0.0375, 0.045]}>>\n",
      "Fitting 3 folds for each of 9 candidates, totalling 27 fits\n"
     ]
    },
    {
     "name": "stderr",
     "output_type": "stream",
     "text": [
      "[Parallel(n_jobs=1)]: Done  27 out of  27 | elapsed:    1.7s finished\n"
     ]
    },
    {
     "name": "stdout",
     "output_type": "stream",
     "text": [
      "       Best parameters selected: <<{'C': 0.015}>> for score <<0.7415891155522404>>.\n",
      "       3. Grid Search model <<<class 'sklearn.svm.classes.LinearSVC'>>>; weight: <<{0: 1.0, 1: 43.822757111597376}>>; parameters: <<{'C': [0.001, 0.01, 0.1, 1.0, 10.0]}>>\n",
      "Fitting 3 folds for each of 5 candidates, totalling 15 fits\n"
     ]
    },
    {
     "name": "stderr",
     "output_type": "stream",
     "text": [
      "[Parallel(n_jobs=1)]: Done  15 out of  15 | elapsed:    3.8s finished\n"
     ]
    },
    {
     "name": "stdout",
     "output_type": "stream",
     "text": [
      "       Best parameters selected: <<{'C': 0.01}>> for score <<0.7495880728029299>>.\n",
      "       4. Grid Search model <<<class 'sklearn.svm.classes.LinearSVC'>>>; weight: <<{0: 1.0, 1: 43.822757111597376}>>; parameters: <<{'C': [0.0033, 0.005, 0.0067, 0.0083, 0.01, 0.015, 0.02, 0.025, 0.03]}>>\n",
      "Fitting 3 folds for each of 9 candidates, totalling 27 fits\n"
     ]
    },
    {
     "name": "stderr",
     "output_type": "stream",
     "text": [
      "[Parallel(n_jobs=1)]: Done  27 out of  27 | elapsed:    2.8s finished\n"
     ]
    },
    {
     "name": "stdout",
     "output_type": "stream",
     "text": [
      "       Best parameters selected: <<{'C': 0.015}>> for score <<0.7531480732228761>>.\n",
      "       5. Grid Search model <<<class 'sklearn.svm.classes.LinearSVC'>>>; weight: <<{0: 1.0, 1: 43.822757111597376}>>; parameters: <<{'C': [0.005, 0.0075, 0.01, 0.0125, 0.015, 0.0225, 0.03, 0.0375, 0.045]}>>\n",
      "Fitting 3 folds for each of 9 candidates, totalling 27 fits\n"
     ]
    },
    {
     "name": "stderr",
     "output_type": "stream",
     "text": [
      "[Parallel(n_jobs=1)]: Done  27 out of  27 | elapsed:    3.4s finished\n"
     ]
    },
    {
     "name": "stdout",
     "output_type": "stream",
     "text": [
      "       Best parameters selected: <<{'C': 0.015}>> for score <<0.7531480732228761>>.\n",
      "       Final parameters selected: <<{'C': 0.015}>> for score <<0.7531480732228761>> ({0: 1.0, 1: 43.822757111597376}).\n",
      "\n",
      "          *** Prev Score on validation dataset (macro/weighted) <<0.7454007220216607>> / <<0.7177234530175708>>.\n",
      "\n",
      "          *** Score on validation dataset (macro/weighted) <<0.7380810268752507>> / <<0.7689075630252101>>.\n",
      "[[1925  568]\n",
      " [  37   88]]\n",
      "\n",
      "          *** Model has been refitted from <<0.7467042049770543>> to <<0.7531480732228761>>.\n",
      "\n",
      "-------------------------------------------------------------------\n",
      "    54. ReFit model for class: <<fire>> ((20941, 12009)).\n",
      "    Tuning hyper-parameters for class: <<fire>> (Recall).\n",
      "       1. Grid Search model <<<class 'sklearn.svm.classes.LinearSVC'>>>; weight: <<balanced>>; parameters: <<{'C': [0.001, 0.01, 0.1, 1.0, 10.0]}>>\n",
      "Fitting 3 folds for each of 5 candidates, totalling 15 fits\n"
     ]
    },
    {
     "name": "stderr",
     "output_type": "stream",
     "text": [
      "[Parallel(n_jobs=1)]: Done  15 out of  15 | elapsed:    1.8s finished\n"
     ]
    },
    {
     "name": "stdout",
     "output_type": "stream",
     "text": [
      "       Best parameters selected: <<{'C': 0.01}>> for score <<0.7426824682330352>>.\n",
      "       2. Grid Search model <<<class 'sklearn.svm.classes.LinearSVC'>>>; weight: <<balanced>>; parameters: <<{'C': [0.0033, 0.005, 0.0067, 0.0083, 0.01, 0.015, 0.02, 0.025, 0.03]}>>\n",
      "Fitting 3 folds for each of 9 candidates, totalling 27 fits\n"
     ]
    },
    {
     "name": "stderr",
     "output_type": "stream",
     "text": [
      "[Parallel(n_jobs=1)]: Done  27 out of  27 | elapsed:    2.3s finished\n"
     ]
    },
    {
     "name": "stdout",
     "output_type": "stream",
     "text": [
      "       Best parameters selected: <<{'C': 0.0067}>> for score <<0.7494161529081241>>.\n",
      "       3. Grid Search model <<<class 'sklearn.svm.classes.LinearSVC'>>>; weight: <<balanced>>; parameters: <<{'C': [0.0022, 0.0034, 0.0045, 0.0056, 0.0067, 0.01, 0.0134, 0.0168, 0.0201]}>>\n",
      "Fitting 3 folds for each of 9 candidates, totalling 27 fits\n"
     ]
    },
    {
     "name": "stderr",
     "output_type": "stream",
     "text": [
      "[Parallel(n_jobs=1)]: Done  27 out of  27 | elapsed:    2.2s finished\n"
     ]
    },
    {
     "name": "stdout",
     "output_type": "stream",
     "text": [
      "       Best parameters selected: <<{'C': 0.0045}>> for score <<0.751756136091729>>.\n",
      "       4. Grid Search model <<<class 'sklearn.svm.classes.LinearSVC'>>>; weight: <<balanced>>; parameters: <<{'C': [0.0015, 0.0022, 0.003, 0.0038, 0.0045, 0.0067, 0.009, 0.0112, 0.0135]}>>\n",
      "Fitting 3 folds for each of 9 candidates, totalling 27 fits\n"
     ]
    },
    {
     "name": "stderr",
     "output_type": "stream",
     "text": [
      "[Parallel(n_jobs=1)]: Done  27 out of  27 | elapsed:    2.2s finished\n"
     ]
    },
    {
     "name": "stdout",
     "output_type": "stream",
     "text": [
      "       Best parameters selected: <<{'C': 0.0045}>> for score <<0.751756136091729>>.\n",
      "       4. Grid Search model <<<class 'sklearn.svm.classes.LinearSVC'>>>; weight: <<{0: 1.0, 1: 89.65367965367965}>>; parameters: <<{'C': [0.001, 0.01, 0.1, 1.0, 10.0]}>>\n",
      "Fitting 3 folds for each of 5 candidates, totalling 15 fits\n"
     ]
    },
    {
     "name": "stderr",
     "output_type": "stream",
     "text": [
      "[Parallel(n_jobs=1)]: Done  15 out of  15 | elapsed:    2.1s finished\n"
     ]
    },
    {
     "name": "stdout",
     "output_type": "stream",
     "text": [
      "       Best parameters selected: <<{'C': 0.01}>> for score <<0.7447753783381236>>.\n",
      "       5. Grid Search model <<<class 'sklearn.svm.classes.LinearSVC'>>>; weight: <<{0: 1.0, 1: 89.65367965367965}>>; parameters: <<{'C': [0.0033, 0.005, 0.0067, 0.0083, 0.01, 0.015, 0.02, 0.025, 0.03]}>>\n",
      "Fitting 3 folds for each of 9 candidates, totalling 27 fits\n"
     ]
    },
    {
     "name": "stderr",
     "output_type": "stream",
     "text": [
      "[Parallel(n_jobs=1)]: Done  27 out of  27 | elapsed:    3.3s finished\n"
     ]
    },
    {
     "name": "stdout",
     "output_type": "stream",
     "text": [
      "       Best parameters selected: <<{'C': 0.0033}>> for score <<0.7486918652015607>>.\n",
      "       6. Grid Search model <<<class 'sklearn.svm.classes.LinearSVC'>>>; weight: <<{0: 1.0, 1: 89.65367965367965}>>; parameters: <<{'C': [0.0011, 0.0016, 0.0022, 0.0028, 0.0033, 0.0049, 0.0066, 0.0082, 0.0099]}>>\n",
      "Fitting 3 folds for each of 9 candidates, totalling 27 fits\n"
     ]
    },
    {
     "name": "stderr",
     "output_type": "stream",
     "text": [
      "[Parallel(n_jobs=1)]: Done  27 out of  27 | elapsed:    1.9s finished\n"
     ]
    },
    {
     "name": "stdout",
     "output_type": "stream",
     "text": [
      "       Best parameters selected: <<{'C': 0.0022}>> for score <<0.7507179902941198>>.\n",
      "       7. Grid Search model <<<class 'sklearn.svm.classes.LinearSVC'>>>; weight: <<{0: 1.0, 1: 89.65367965367965}>>; parameters: <<{'C': [0.0007, 0.0011, 0.0015, 0.0018, 0.0022, 0.0033, 0.0044, 0.0055, 0.0066]}>>\n",
      "Fitting 3 folds for each of 9 candidates, totalling 27 fits\n"
     ]
    },
    {
     "name": "stderr",
     "output_type": "stream",
     "text": [
      "[Parallel(n_jobs=1)]: Done  27 out of  27 | elapsed:    1.8s finished\n"
     ]
    },
    {
     "name": "stdout",
     "output_type": "stream",
     "text": [
      "       Best parameters selected: <<{'C': 0.0022}>> for score <<0.7507179902941198>>.\n",
      "       Final parameters selected: <<{'C': 0.0045}>> for score <<0.751756136091729>> (balanced).\n",
      "\n",
      "          *** Prev Score on validation dataset (macro/weighted) <<0.8280600461893763>> / <<0.9541634835752483>>.\n",
      "\n",
      "          *** Score on validation dataset (macro/weighted) <<0.8242109314857582>> / <<0.946524064171123>>.\n",
      "[[2464  134]\n",
      " [   6   14]]\n",
      "\n",
      "-------------------------------------------------------------------\n",
      "    55. ReFit model for class: <<other_weather>> ((20941, 12009)).\n",
      "    Tuning hyper-parameters for class: <<other_weather>> (Recall).\n",
      "       1. Grid Search model <<<class 'sklearn.svm.classes.LinearSVC'>>>; weight: <<balanced>>; parameters: <<{'C': [0.001, 0.01, 0.1, 1.0, 10.0]}>>\n",
      "Fitting 3 folds for each of 5 candidates, totalling 15 fits\n"
     ]
    },
    {
     "name": "stderr",
     "output_type": "stream",
     "text": [
      "[Parallel(n_jobs=1)]: Done  15 out of  15 | elapsed:    3.5s finished\n"
     ]
    },
    {
     "name": "stdout",
     "output_type": "stream",
     "text": [
      "       Best parameters selected: <<{'C': 0.01}>> for score <<0.7368297625297279>>.\n",
      "       2. Grid Search model <<<class 'sklearn.svm.classes.LinearSVC'>>>; weight: <<balanced>>; parameters: <<{'C': [0.0033, 0.005, 0.0067, 0.0083, 0.01, 0.015, 0.02, 0.025, 0.03]}>>\n",
      "Fitting 3 folds for each of 9 candidates, totalling 27 fits\n"
     ]
    },
    {
     "name": "stderr",
     "output_type": "stream",
     "text": [
      "[Parallel(n_jobs=1)]: Done  27 out of  27 | elapsed:    1.4s finished\n"
     ]
    },
    {
     "name": "stdout",
     "output_type": "stream",
     "text": [
      "       Best parameters selected: <<{'C': 0.02}>> for score <<0.7378601032519297>>.\n",
      "       3. Grid Search model <<<class 'sklearn.svm.classes.LinearSVC'>>>; weight: <<balanced>>; parameters: <<{'C': [0.0067, 0.01, 0.0133, 0.0167, 0.02, 0.03, 0.04, 0.05, 0.06]}>>\n",
      "Fitting 3 folds for each of 9 candidates, totalling 27 fits\n"
     ]
    },
    {
     "name": "stderr",
     "output_type": "stream",
     "text": [
      "[Parallel(n_jobs=1)]: Done  27 out of  27 | elapsed:    2.0s finished\n"
     ]
    },
    {
     "name": "stdout",
     "output_type": "stream",
     "text": [
      "       Best parameters selected: <<{'C': 0.02}>> for score <<0.7378601032519297>>.\n",
      "       3. Grid Search model <<<class 'sklearn.svm.classes.LinearSVC'>>>; weight: <<{0: 1.0, 1: 36.005444646098006}>>; parameters: <<{'C': [0.001, 0.01, 0.1, 1.0, 10.0]}>>\n",
      "Fitting 3 folds for each of 5 candidates, totalling 15 fits\n"
     ]
    },
    {
     "name": "stderr",
     "output_type": "stream",
     "text": [
      "[Parallel(n_jobs=1)]: Done  15 out of  15 | elapsed:    4.4s finished\n"
     ]
    },
    {
     "name": "stdout",
     "output_type": "stream",
     "text": [
      "       Best parameters selected: <<{'C': 0.01}>> for score <<0.7378239583839522>>.\n",
      "       4. Grid Search model <<<class 'sklearn.svm.classes.LinearSVC'>>>; weight: <<{0: 1.0, 1: 36.005444646098006}>>; parameters: <<{'C': [0.0033, 0.005, 0.0067, 0.0083, 0.01, 0.015, 0.02, 0.025, 0.03]}>>\n",
      "Fitting 3 folds for each of 9 candidates, totalling 27 fits\n"
     ]
    },
    {
     "name": "stderr",
     "output_type": "stream",
     "text": [
      "[Parallel(n_jobs=1)]: Done  27 out of  27 | elapsed:    3.1s finished\n"
     ]
    },
    {
     "name": "stdout",
     "output_type": "stream",
     "text": [
      "       Best parameters selected: <<{'C': 0.015}>> for score <<0.7496394123113927>>.\n",
      "       5. Grid Search model <<<class 'sklearn.svm.classes.LinearSVC'>>>; weight: <<{0: 1.0, 1: 36.005444646098006}>>; parameters: <<{'C': [0.005, 0.0075, 0.01, 0.0125, 0.015, 0.0225, 0.03, 0.0375, 0.045]}>>\n",
      "Fitting 3 folds for each of 9 candidates, totalling 27 fits\n"
     ]
    },
    {
     "name": "stderr",
     "output_type": "stream",
     "text": [
      "[Parallel(n_jobs=1)]: Done  27 out of  27 | elapsed:    4.0s finished\n"
     ]
    },
    {
     "name": "stdout",
     "output_type": "stream",
     "text": [
      "       Best parameters selected: <<{'C': 0.015}>> for score <<0.7496394123113927>>.\n",
      "       Final parameters selected: <<{'C': 0.015}>> for score <<0.7496394123113927>> ({0: 1.0, 1: 36.005444646098006}).\n",
      "\n",
      "          *** Prev Score on validation dataset (macro/weighted) <<0.761903482458109>> / <<0.7459893048128342>>.\n",
      "\n",
      "          *** Score on validation dataset (macro/weighted) <<0.761903482458109>> / <<0.7459893048128342>>.\n",
      "[[1854  637]\n",
      " [  28   99]]\n",
      "\n",
      "-------------------------------------------------------------------\n",
      "    56. ReFit model for class: <<direct_report>> ((20941, 12009)).\n",
      "    Tuning hyper-parameters for class: <<direct_report>> (Recall).\n",
      "       1. Grid Search model <<<class 'sklearn.svm.classes.LinearSVC'>>>; weight: <<balanced>>; parameters: <<{'C': [0.001, 0.01, 0.1, 1.0, 10.0]}>>\n",
      "Fitting 3 folds for each of 5 candidates, totalling 15 fits\n"
     ]
    },
    {
     "name": "stderr",
     "output_type": "stream",
     "text": [
      "[Parallel(n_jobs=1)]: Done  15 out of  15 | elapsed:    4.5s finished\n"
     ]
    },
    {
     "name": "stdout",
     "output_type": "stream",
     "text": [
      "       Best parameters selected: <<{'C': 0.1}>> for score <<0.7881728620864754>>.\n",
      "       2. Grid Search model <<<class 'sklearn.svm.classes.LinearSVC'>>>; weight: <<balanced>>; parameters: <<{'C': [0.0333, 0.05, 0.0667, 0.0833, 0.1, 0.15, 0.2, 0.25, 0.3]}>>\n",
      "Fitting 3 folds for each of 9 candidates, totalling 27 fits\n"
     ]
    },
    {
     "name": "stderr",
     "output_type": "stream",
     "text": [
      "[Parallel(n_jobs=1)]: Done  27 out of  27 | elapsed:    3.2s finished\n"
     ]
    },
    {
     "name": "stdout",
     "output_type": "stream",
     "text": [
      "       Best parameters selected: <<{'C': 0.05}>> for score <<0.789409518137779>>.\n",
      "       3. Grid Search model <<<class 'sklearn.svm.classes.LinearSVC'>>>; weight: <<balanced>>; parameters: <<{'C': [0.0167, 0.025, 0.0333, 0.0417, 0.05, 0.075, 0.1, 0.125, 0.15]}>>\n",
      "Fitting 3 folds for each of 9 candidates, totalling 27 fits\n"
     ]
    },
    {
     "name": "stderr",
     "output_type": "stream",
     "text": [
      "[Parallel(n_jobs=1)]: Done  27 out of  27 | elapsed:    2.0s finished\n"
     ]
    },
    {
     "name": "stdout",
     "output_type": "stream",
     "text": [
      "       Best parameters selected: <<{'C': 0.05}>> for score <<0.789409518137779>>.\n",
      "       3. Grid Search model <<<class 'sklearn.svm.classes.LinearSVC'>>>; weight: <<{0: 1.0, 1: 8.392555831265508}>>; parameters: <<{'C': [0.001, 0.01, 0.1, 1.0, 10.0]}>>\n",
      "Fitting 3 folds for each of 5 candidates, totalling 15 fits\n"
     ]
    },
    {
     "name": "stderr",
     "output_type": "stream",
     "text": [
      "[Parallel(n_jobs=1)]: Done  15 out of  15 | elapsed:    7.0s finished\n"
     ]
    },
    {
     "name": "stdout",
     "output_type": "stream",
     "text": [
      "       Best parameters selected: <<{'C': 0.1}>> for score <<0.7740004568141013>>.\n",
      "       4. Grid Search model <<<class 'sklearn.svm.classes.LinearSVC'>>>; weight: <<{0: 1.0, 1: 8.392555831265508}>>; parameters: <<{'C': [0.0333, 0.05, 0.0667, 0.0833, 0.1, 0.15, 0.2, 0.25, 0.3]}>>\n",
      "Fitting 3 folds for each of 9 candidates, totalling 27 fits\n"
     ]
    },
    {
     "name": "stderr",
     "output_type": "stream",
     "text": [
      "[Parallel(n_jobs=1)]: Done  27 out of  27 | elapsed:    6.5s finished\n"
     ]
    },
    {
     "name": "stdout",
     "output_type": "stream",
     "text": [
      "       Best parameters selected: <<{'C': 0.0667}>> for score <<0.7761693528593834>>.\n",
      "       5. Grid Search model <<<class 'sklearn.svm.classes.LinearSVC'>>>; weight: <<{0: 1.0, 1: 8.392555831265508}>>; parameters: <<{'C': [0.0222, 0.0334, 0.0445, 0.0556, 0.0667, 0.1, 0.1334, 0.1668, 0.2001]}>>\n",
      "Fitting 3 folds for each of 9 candidates, totalling 27 fits\n"
     ]
    },
    {
     "name": "stderr",
     "output_type": "stream",
     "text": [
      "[Parallel(n_jobs=1)]: Done  27 out of  27 | elapsed:    4.7s finished\n"
     ]
    },
    {
     "name": "stdout",
     "output_type": "stream",
     "text": [
      "       Best parameters selected: <<{'C': 0.0667}>> for score <<0.7761693528593834>>.\n",
      "       Final parameters selected: <<{'C': 0.05}>> for score <<0.789409518137779>> (balanced).\n",
      "\n",
      "          *** Prev Score on validation dataset (macro/weighted) <<0.7896286231884058>> / <<0.8181818181818182>>.\n",
      "\n",
      "          *** Score on validation dataset (macro/weighted) <<0.7896286231884058>> / <<0.8181818181818182>>.\n",
      "[[1766  346]\n",
      " [ 130  376]]\n",
      "\n",
      "-------------------------------------------------------------------\n",
      "    57. ReFit model for class: <<related>> ((20941, 12009)).\n",
      "    Tuning hyper-parameters for class: <<related>> (Recall).\n",
      "       1. Grid Search model <<<class 'sklearn.svm.classes.LinearSVC'>>>; weight: <<balanced>>; parameters: <<{'C': [0.001, 0.01, 0.1, 1.0, 10.0]}>>\n",
      "Fitting 3 folds for each of 5 candidates, totalling 15 fits\n"
     ]
    },
    {
     "name": "stderr",
     "output_type": "stream",
     "text": [
      "[Parallel(n_jobs=1)]: Done  15 out of  15 | elapsed:    7.1s finished\n"
     ]
    },
    {
     "name": "stdout",
     "output_type": "stream",
     "text": [
      "       Best parameters selected: <<{'C': 0.1}>> for score <<0.6485581642401106>>.\n",
      "       2. Grid Search model <<<class 'sklearn.svm.classes.LinearSVC'>>>; weight: <<balanced>>; parameters: <<{'C': [0.0333, 0.05, 0.0667, 0.0833, 0.1, 0.15, 0.2, 0.25, 0.3]}>>\n",
      "Fitting 3 folds for each of 9 candidates, totalling 27 fits\n"
     ]
    },
    {
     "name": "stderr",
     "output_type": "stream",
     "text": [
      "[Parallel(n_jobs=1)]: Done  27 out of  27 | elapsed:    6.8s finished\n"
     ]
    },
    {
     "name": "stdout",
     "output_type": "stream",
     "text": [
      "       Best parameters selected: <<{'C': 0.3}>> for score <<0.653781856280831>>.\n",
      "       3. Grid Search model <<<class 'sklearn.svm.classes.LinearSVC'>>>; weight: <<balanced>>; parameters: <<{'C': [0.1, 0.15, 0.2, 0.25, 0.3, 0.45, 0.6, 0.75, 0.9]}>>\n",
      "Fitting 3 folds for each of 9 candidates, totalling 27 fits\n"
     ]
    },
    {
     "name": "stderr",
     "output_type": "stream",
     "text": [
      "[Parallel(n_jobs=1)]: Done  27 out of  27 | elapsed:   10.5s finished\n"
     ]
    },
    {
     "name": "stdout",
     "output_type": "stream",
     "text": [
      "       Best parameters selected: <<{'C': 0.3}>> for score <<0.653781856280831>>.\n",
      "       3. Grid Search model <<<class 'sklearn.svm.classes.LinearSVC'>>>; weight: <<{1: 1.0, 0: 6.541795029780242, 2: 109.08219178082192}>>; parameters: <<{'C': [0.001, 0.01, 0.1, 1.0, 10.0]}>>\n",
      "Fitting 3 folds for each of 5 candidates, totalling 15 fits\n"
     ]
    },
    {
     "name": "stderr",
     "output_type": "stream",
     "text": [
      "[Parallel(n_jobs=1)]: Done  15 out of  15 | elapsed:    8.9s finished\n"
     ]
    },
    {
     "name": "stdout",
     "output_type": "stream",
     "text": [
      "       Best parameters selected: <<{'C': 0.1}>> for score <<0.630018656890466>>.\n",
      "       4. Grid Search model <<<class 'sklearn.svm.classes.LinearSVC'>>>; weight: <<{1: 1.0, 0: 6.541795029780242, 2: 109.08219178082192}>>; parameters: <<{'C': [0.0333, 0.05, 0.0667, 0.0833, 0.1, 0.15, 0.2, 0.25, 0.3]}>>\n",
      "Fitting 3 folds for each of 9 candidates, totalling 27 fits\n"
     ]
    },
    {
     "name": "stderr",
     "output_type": "stream",
     "text": [
      "[Parallel(n_jobs=1)]: Done  27 out of  27 | elapsed:   12.0s finished\n"
     ]
    },
    {
     "name": "stdout",
     "output_type": "stream",
     "text": [
      "       Best parameters selected: <<{'C': 0.1}>> for score <<0.630018656890466>>.\n",
      "       Final parameters selected: <<{'C': 0.3}>> for score <<0.653781856280831>> (balanced).\n",
      "\n",
      "          *** Prev Score on validation dataset (macro/weighted) <<0.7845596077089813>> / <<0.8292589763177999>>.\n",
      "\n",
      "          *** Score on validation dataset (macro/weighted) <<0.7845596077089813>> / <<0.8292589763177999>>.\n",
      "[[ 434  181    4]\n",
      " [ 254 1719    3]\n",
      " [   3    2   18]]\n",
      "\n",
      "-------------------------------------------------------------------\n",
      "    58. ReFit model for class: <<medical_products>> ((20941, 12009)).\n",
      "    Tuning hyper-parameters for class: <<medical_products>> (Recall).\n",
      "       1. Grid Search model <<<class 'sklearn.svm.classes.LinearSVC'>>>; weight: <<balanced>>; parameters: <<{'C': [0.001, 0.01, 0.1, 1.0, 10.0]}>>\n",
      "Fitting 3 folds for each of 5 candidates, totalling 15 fits\n"
     ]
    },
    {
     "name": "stderr",
     "output_type": "stream",
     "text": [
      "[Parallel(n_jobs=1)]: Done  15 out of  15 | elapsed:    2.8s finished\n"
     ]
    },
    {
     "name": "stdout",
     "output_type": "stream",
     "text": [
      "       Best parameters selected: <<{'C': 0.1}>> for score <<0.7888288557448988>>.\n",
      "       2. Grid Search model <<<class 'sklearn.svm.classes.LinearSVC'>>>; weight: <<balanced>>; parameters: <<{'C': [0.0333, 0.05, 0.0667, 0.0833, 0.1, 0.15, 0.2, 0.25, 0.3]}>>\n",
      "Fitting 3 folds for each of 9 candidates, totalling 27 fits\n"
     ]
    },
    {
     "name": "stderr",
     "output_type": "stream",
     "text": [
      "[Parallel(n_jobs=1)]: Done  27 out of  27 | elapsed:    5.0s finished\n"
     ]
    },
    {
     "name": "stdout",
     "output_type": "stream",
     "text": [
      "       Best parameters selected: <<{'C': 0.0333}>> for score <<0.797015943138541>>.\n",
      "       3. Grid Search model <<<class 'sklearn.svm.classes.LinearSVC'>>>; weight: <<balanced>>; parameters: <<{'C': [0.0111, 0.0167, 0.0222, 0.0278, 0.0333, 0.05, 0.0666, 0.0833, 0.0999]}>>\n",
      "Fitting 3 folds for each of 9 candidates, totalling 27 fits\n"
     ]
    },
    {
     "name": "stderr",
     "output_type": "stream",
     "text": [
      "[Parallel(n_jobs=1)]: Done  27 out of  27 | elapsed:    2.8s finished\n"
     ]
    },
    {
     "name": "stdout",
     "output_type": "stream",
     "text": [
      "       Best parameters selected: <<{'C': 0.0278}>> for score <<0.7976951842252407>>.\n",
      "       4. Grid Search model <<<class 'sklearn.svm.classes.LinearSVC'>>>; weight: <<balanced>>; parameters: <<{'C': [0.0093, 0.0139, 0.0185, 0.0232, 0.0278, 0.0417, 0.0556, 0.0695, 0.0834]}>>\n",
      "Fitting 3 folds for each of 9 candidates, totalling 27 fits\n"
     ]
    },
    {
     "name": "stderr",
     "output_type": "stream",
     "text": [
      "[Parallel(n_jobs=1)]: Done  27 out of  27 | elapsed:    2.4s finished\n"
     ]
    },
    {
     "name": "stdout",
     "output_type": "stream",
     "text": [
      "       Best parameters selected: <<{'C': 0.0278}>> for score <<0.7976951842252407>>.\n",
      "       4. Grid Search model <<<class 'sklearn.svm.classes.LinearSVC'>>>; weight: <<{0: 1.0, 1: 38.504835589941976}>>; parameters: <<{'C': [0.001, 0.01, 0.1, 1.0, 10.0]}>>\n",
      "Fitting 3 folds for each of 5 candidates, totalling 15 fits\n"
     ]
    },
    {
     "name": "stderr",
     "output_type": "stream",
     "text": [
      "[Parallel(n_jobs=1)]: Done  15 out of  15 | elapsed:    4.3s finished\n"
     ]
    },
    {
     "name": "stdout",
     "output_type": "stream",
     "text": [
      "       Best parameters selected: <<{'C': 0.01}>> for score <<0.8009713394214957>>.\n",
      "       5. Grid Search model <<<class 'sklearn.svm.classes.LinearSVC'>>>; weight: <<{0: 1.0, 1: 38.504835589941976}>>; parameters: <<{'C': [0.0033, 0.005, 0.0067, 0.0083, 0.01, 0.015, 0.02, 0.025, 0.03]}>>\n",
      "Fitting 3 folds for each of 9 candidates, totalling 27 fits\n"
     ]
    },
    {
     "name": "stderr",
     "output_type": "stream",
     "text": [
      "[Parallel(n_jobs=1)]: Done  27 out of  27 | elapsed:    2.6s finished\n"
     ]
    },
    {
     "name": "stdout",
     "output_type": "stream",
     "text": [
      "       Best parameters selected: <<{'C': 0.02}>> for score <<0.8067802666550421>>.\n",
      "       6. Grid Search model <<<class 'sklearn.svm.classes.LinearSVC'>>>; weight: <<{0: 1.0, 1: 38.504835589941976}>>; parameters: <<{'C': [0.0067, 0.01, 0.0133, 0.0167, 0.02, 0.03, 0.04, 0.05, 0.06]}>>\n",
      "Fitting 3 folds for each of 9 candidates, totalling 27 fits\n"
     ]
    },
    {
     "name": "stderr",
     "output_type": "stream",
     "text": [
      "[Parallel(n_jobs=1)]: Done  27 out of  27 | elapsed:    4.1s finished\n"
     ]
    },
    {
     "name": "stdout",
     "output_type": "stream",
     "text": [
      "       Best parameters selected: <<{'C': 0.02}>> for score <<0.8067802666550421>>.\n",
      "       Final parameters selected: <<{'C': 0.0278}>> for score <<0.7976951842252407>> (balanced).\n",
      "\n",
      "          *** Prev Score on validation dataset (macro/weighted) <<0.8111888111888113>> / <<0.8983957219251337>>.\n",
      "\n",
      "          *** Score on validation dataset (macro/weighted) <<0.8111888111888113>> / <<0.8983957219251337>>.\n",
      "[[2250  225]\n",
      " [  41  102]]\n",
      "\n",
      "-------------------------------------------------------------------\n",
      "    59. ReFit model for class: <<search_and_rescue>> ((20941, 12009)).\n",
      "    Tuning hyper-parameters for class: <<search_and_rescue>> (Recall).\n",
      "       1. Grid Search model <<<class 'sklearn.svm.classes.LinearSVC'>>>; weight: <<balanced>>; parameters: <<{'C': [0.001, 0.01, 0.1, 1.0, 10.0]}>>\n",
      "Fitting 3 folds for each of 5 candidates, totalling 15 fits\n"
     ]
    },
    {
     "name": "stderr",
     "output_type": "stream",
     "text": [
      "[Parallel(n_jobs=1)]: Done  15 out of  15 | elapsed:    4.6s finished\n"
     ]
    },
    {
     "name": "stdout",
     "output_type": "stream",
     "text": [
      "       Best parameters selected: <<{'C': 0.01}>> for score <<0.7214365524816146>>.\n",
      "       2. Grid Search model <<<class 'sklearn.svm.classes.LinearSVC'>>>; weight: <<balanced>>; parameters: <<{'C': [0.0033, 0.005, 0.0067, 0.0083, 0.01, 0.015, 0.02, 0.025, 0.03]}>>\n",
      "Fitting 3 folds for each of 9 candidates, totalling 27 fits\n"
     ]
    },
    {
     "name": "stderr",
     "output_type": "stream",
     "text": [
      "[Parallel(n_jobs=1)]: Done  27 out of  27 | elapsed:    5.9s finished\n"
     ]
    },
    {
     "name": "stdout",
     "output_type": "stream",
     "text": [
      "       Best parameters selected: <<{'C': 0.0083}>> for score <<0.7253998610677262>>.\n",
      "       3. Grid Search model <<<class 'sklearn.svm.classes.LinearSVC'>>>; weight: <<balanced>>; parameters: <<{'C': [0.0028, 0.0042, 0.0055, 0.0069, 0.0083, 0.0124, 0.0166, 0.0207, 0.0249]}>>\n",
      "Fitting 3 folds for each of 9 candidates, totalling 27 fits\n"
     ]
    },
    {
     "name": "stderr",
     "output_type": "stream",
     "text": [
      "[Parallel(n_jobs=1)]: Done  27 out of  27 | elapsed:    4.3s finished\n"
     ]
    },
    {
     "name": "stdout",
     "output_type": "stream",
     "text": [
      "       Best parameters selected: <<{'C': 0.0083}>> for score <<0.7253998610677262>>.\n",
      "       3. Grid Search model <<<class 'sklearn.svm.classes.LinearSVC'>>>; weight: <<{0: 1.0, 1: 70.96515679442508}>>; parameters: <<{'C': [0.001, 0.01, 0.1, 1.0, 10.0]}>>\n",
      "Fitting 3 folds for each of 5 candidates, totalling 15 fits\n"
     ]
    },
    {
     "name": "stderr",
     "output_type": "stream",
     "text": [
      "[Parallel(n_jobs=1)]: Done  15 out of  15 | elapsed:    4.0s finished\n"
     ]
    },
    {
     "name": "stdout",
     "output_type": "stream",
     "text": [
      "       Best parameters selected: <<{'C': 0.01}>> for score <<0.7246947424090605>>.\n",
      "       4. Grid Search model <<<class 'sklearn.svm.classes.LinearSVC'>>>; weight: <<{0: 1.0, 1: 70.96515679442508}>>; parameters: <<{'C': [0.0033, 0.005, 0.0067, 0.0083, 0.01, 0.015, 0.02, 0.025, 0.03]}>>\n",
      "Fitting 3 folds for each of 9 candidates, totalling 27 fits\n"
     ]
    },
    {
     "name": "stderr",
     "output_type": "stream",
     "text": [
      "[Parallel(n_jobs=1)]: Done  27 out of  27 | elapsed:    4.1s finished\n"
     ]
    },
    {
     "name": "stdout",
     "output_type": "stream",
     "text": [
      "       Best parameters selected: <<{'C': 0.0083}>> for score <<0.7267784307182104>>.\n",
      "       5. Grid Search model <<<class 'sklearn.svm.classes.LinearSVC'>>>; weight: <<{0: 1.0, 1: 70.96515679442508}>>; parameters: <<{'C': [0.0028, 0.0042, 0.0055, 0.0069, 0.0083, 0.0124, 0.0166, 0.0207, 0.0249]}>>\n",
      "Fitting 3 folds for each of 9 candidates, totalling 27 fits\n"
     ]
    },
    {
     "name": "stderr",
     "output_type": "stream",
     "text": [
      "[Parallel(n_jobs=1)]: Done  27 out of  27 | elapsed:    4.2s finished\n"
     ]
    },
    {
     "name": "stdout",
     "output_type": "stream",
     "text": [
      "       Best parameters selected: <<{'C': 0.0083}>> for score <<0.7267784307182104>>.\n",
      "       Final parameters selected: <<{'C': 0.0083}>> for score <<0.7253998610677262>> (balanced).\n",
      "\n",
      "          *** Prev Score on validation dataset (macro/weighted) <<0.7318913556119473>> / <<0.8605805958747135>>.\n",
      "\n",
      "          *** Score on validation dataset (macro/weighted) <<0.7318913556119473>> / <<0.8605805958747135>>.\n",
      "[[2206  333]\n",
      " [  32   47]]\n",
      "\n",
      "-------------------------------------------------------------------\n",
      "    60. ReFit model for class: <<security>> ((20941, 12009)).\n",
      "    Tuning hyper-parameters for class: <<security>> (Recall).\n",
      "       1. Grid Search model <<<class 'sklearn.svm.classes.LinearSVC'>>>; weight: <<balanced>>; parameters: <<{'C': [0.001, 0.01, 0.1, 1.0, 10.0]}>>\n",
      "Fitting 3 folds for each of 5 candidates, totalling 15 fits\n"
     ]
    },
    {
     "name": "stderr",
     "output_type": "stream",
     "text": [
      "[Parallel(n_jobs=1)]: Done  15 out of  15 | elapsed:    2.8s finished\n"
     ]
    },
    {
     "name": "stdout",
     "output_type": "stream",
     "text": [
      "       Best parameters selected: <<{'C': 0.01}>> for score <<0.6361711359483372>>.\n",
      "       2. Grid Search model <<<class 'sklearn.svm.classes.LinearSVC'>>>; weight: <<balanced>>; parameters: <<{'C': [0.0033, 0.005, 0.0067, 0.0083, 0.01, 0.015, 0.02, 0.025, 0.03]}>>\n",
      "Fitting 3 folds for each of 9 candidates, totalling 27 fits\n"
     ]
    },
    {
     "name": "stderr",
     "output_type": "stream",
     "text": [
      "[Parallel(n_jobs=1)]: Done  27 out of  27 | elapsed:    2.0s finished\n"
     ]
    },
    {
     "name": "stdout",
     "output_type": "stream",
     "text": [
      "       Best parameters selected: <<{'C': 0.005}>> for score <<0.6486537387229451>>.\n",
      "       3. Grid Search model <<<class 'sklearn.svm.classes.LinearSVC'>>>; weight: <<balanced>>; parameters: <<{'C': [0.0017, 0.0025, 0.0033, 0.0042, 0.005, 0.0075, 0.01, 0.0125, 0.015]}>>\n",
      "Fitting 3 folds for each of 9 candidates, totalling 27 fits\n"
     ]
    },
    {
     "name": "stderr",
     "output_type": "stream",
     "text": [
      "[Parallel(n_jobs=1)]: Done  27 out of  27 | elapsed:    1.5s finished\n"
     ]
    },
    {
     "name": "stdout",
     "output_type": "stream",
     "text": [
      "       Best parameters selected: <<{'C': 0.005}>> for score <<0.6486537387229451>>.\n",
      "       3. Grid Search model <<<class 'sklearn.svm.classes.LinearSVC'>>>; weight: <<{0: 1.0, 1: 53.67624020887728}>>; parameters: <<{'C': [0.001, 0.01, 0.1, 1.0, 10.0]}>>\n",
      "Fitting 3 folds for each of 5 candidates, totalling 15 fits\n"
     ]
    },
    {
     "name": "stderr",
     "output_type": "stream",
     "text": [
      "[Parallel(n_jobs=1)]: Done  15 out of  15 | elapsed:    2.8s finished\n"
     ]
    },
    {
     "name": "stdout",
     "output_type": "stream",
     "text": [
      "       Best parameters selected: <<{'C': 0.01}>> for score <<0.6268757342162294>>.\n",
      "       4. Grid Search model <<<class 'sklearn.svm.classes.LinearSVC'>>>; weight: <<{0: 1.0, 1: 53.67624020887728}>>; parameters: <<{'C': [0.0033, 0.005, 0.0067, 0.0083, 0.01, 0.015, 0.02, 0.025, 0.03]}>>\n",
      "Fitting 3 folds for each of 9 candidates, totalling 27 fits\n"
     ]
    },
    {
     "name": "stderr",
     "output_type": "stream",
     "text": [
      "[Parallel(n_jobs=1)]: Done  27 out of  27 | elapsed:    3.9s finished\n"
     ]
    },
    {
     "name": "stdout",
     "output_type": "stream",
     "text": [
      "       Best parameters selected: <<{'C': 0.0033}>> for score <<0.6413180019645949>>.\n",
      "       5. Grid Search model <<<class 'sklearn.svm.classes.LinearSVC'>>>; weight: <<{0: 1.0, 1: 53.67624020887728}>>; parameters: <<{'C': [0.0011, 0.0016, 0.0022, 0.0028, 0.0033, 0.0049, 0.0066, 0.0082, 0.0099]}>>\n",
      "Fitting 3 folds for each of 9 candidates, totalling 27 fits\n"
     ]
    },
    {
     "name": "stderr",
     "output_type": "stream",
     "text": [
      "[Parallel(n_jobs=1)]: Done  27 out of  27 | elapsed:    2.2s finished\n"
     ]
    },
    {
     "name": "stdout",
     "output_type": "stream",
     "text": [
      "       Best parameters selected: <<{'C': 0.0028}>> for score <<0.6490177781615805>>.\n",
      "       6. Grid Search model <<<class 'sklearn.svm.classes.LinearSVC'>>>; weight: <<{0: 1.0, 1: 53.67624020887728}>>; parameters: <<{'C': [0.0009, 0.0014, 0.0019, 0.0023, 0.0028, 0.0042, 0.0056, 0.007, 0.0084]}>>\n",
      "Fitting 3 folds for each of 9 candidates, totalling 27 fits\n"
     ]
    },
    {
     "name": "stderr",
     "output_type": "stream",
     "text": [
      "[Parallel(n_jobs=1)]: Done  27 out of  27 | elapsed:    1.5s finished\n"
     ]
    },
    {
     "name": "stdout",
     "output_type": "stream",
     "text": [
      "       Best parameters selected: <<{'C': 0.0028}>> for score <<0.6490177781615805>>.\n",
      "       Final parameters selected: <<{'C': 0.005}>> for score <<0.6486537387229451>> (balanced).\n",
      "\n",
      "          *** Prev Score on validation dataset (macro/weighted) <<0.6473492217898833>> / <<0.8495034377387318>>.\n",
      "\n",
      "          *** Score on validation dataset (macro/weighted) <<0.6473492217898833>> / <<0.8495034377387318>>.\n",
      "[[2203  367]\n",
      " [  27   21]]\n",
      "\n",
      "-------------------------------------------------------------------\n",
      "    61. ReFit model for class: <<other_aid>> ((20941, 12009)).\n",
      "    Tuning hyper-parameters for class: <<other_aid>> (Recall).\n",
      "       1. Grid Search model <<<class 'sklearn.svm.classes.LinearSVC'>>>; weight: <<balanced>>; parameters: <<{'C': [0.001, 0.01, 0.1, 1.0, 10.0]}>>\n",
      "Fitting 3 folds for each of 5 candidates, totalling 15 fits\n"
     ]
    },
    {
     "name": "stderr",
     "output_type": "stream",
     "text": [
      "[Parallel(n_jobs=1)]: Done  15 out of  15 | elapsed:    4.8s finished\n"
     ]
    },
    {
     "name": "stdout",
     "output_type": "stream",
     "text": [
      "       Best parameters selected: <<{'C': 0.1}>> for score <<0.7033593576392172>>.\n",
      "       2. Grid Search model <<<class 'sklearn.svm.classes.LinearSVC'>>>; weight: <<balanced>>; parameters: <<{'C': [0.0333, 0.05, 0.0667, 0.0833, 0.1, 0.15, 0.2, 0.25, 0.3]}>>\n",
      "Fitting 3 folds for each of 9 candidates, totalling 27 fits\n"
     ]
    },
    {
     "name": "stderr",
     "output_type": "stream",
     "text": [
      "[Parallel(n_jobs=1)]: Done  27 out of  27 | elapsed:    4.3s finished\n"
     ]
    },
    {
     "name": "stdout",
     "output_type": "stream",
     "text": [
      "       Best parameters selected: <<{'C': 0.0333}>> for score <<0.7087221117365672>>.\n",
      "       3. Grid Search model <<<class 'sklearn.svm.classes.LinearSVC'>>>; weight: <<balanced>>; parameters: <<{'C': [0.0111, 0.0167, 0.0222, 0.0278, 0.0333, 0.05, 0.0666, 0.0833, 0.0999]}>>\n",
      "Fitting 3 folds for each of 9 candidates, totalling 27 fits\n"
     ]
    },
    {
     "name": "stderr",
     "output_type": "stream",
     "text": [
      "[Parallel(n_jobs=1)]: Done  27 out of  27 | elapsed:    1.7s finished\n"
     ]
    },
    {
     "name": "stdout",
     "output_type": "stream",
     "text": [
      "       Best parameters selected: <<{'C': 0.0278}>> for score <<0.7095890637260795>>.\n",
      "       4. Grid Search model <<<class 'sklearn.svm.classes.LinearSVC'>>>; weight: <<balanced>>; parameters: <<{'C': [0.0093, 0.0139, 0.0185, 0.0232, 0.0278, 0.0417, 0.0556, 0.0695, 0.0834]}>>\n",
      "Fitting 3 folds for each of 9 candidates, totalling 27 fits\n"
     ]
    },
    {
     "name": "stderr",
     "output_type": "stream",
     "text": [
      "[Parallel(n_jobs=1)]: Done  27 out of  27 | elapsed:    1.6s finished\n"
     ]
    },
    {
     "name": "stdout",
     "output_type": "stream",
     "text": [
      "       Best parameters selected: <<{'C': 0.0278}>> for score <<0.7095890637260795>>.\n",
      "       4. Grid Search model <<<class 'sklearn.svm.classes.LinearSVC'>>>; weight: <<{0: 1.0, 1: 13.263119533527698}>>; parameters: <<{'C': [0.001, 0.01, 0.1, 1.0, 10.0]}>>\n",
      "Fitting 3 folds for each of 5 candidates, totalling 15 fits\n"
     ]
    },
    {
     "name": "stderr",
     "output_type": "stream",
     "text": [
      "[Parallel(n_jobs=1)]: Done  15 out of  15 | elapsed:    6.8s finished\n"
     ]
    },
    {
     "name": "stdout",
     "output_type": "stream",
     "text": [
      "       Best parameters selected: <<{'C': 0.1}>> for score <<0.6992474185156116>>.\n",
      "       5. Grid Search model <<<class 'sklearn.svm.classes.LinearSVC'>>>; weight: <<{0: 1.0, 1: 13.263119533527698}>>; parameters: <<{'C': [0.0333, 0.05, 0.0667, 0.0833, 0.1, 0.15, 0.2, 0.25, 0.3]}>>\n",
      "Fitting 3 folds for each of 9 candidates, totalling 27 fits\n"
     ]
    },
    {
     "name": "stderr",
     "output_type": "stream",
     "text": [
      "[Parallel(n_jobs=1)]: Done  27 out of  27 | elapsed:    8.2s finished\n"
     ]
    },
    {
     "name": "stdout",
     "output_type": "stream",
     "text": [
      "       Best parameters selected: <<{'C': 0.05}>> for score <<0.7045331332074711>>.\n",
      "       6. Grid Search model <<<class 'sklearn.svm.classes.LinearSVC'>>>; weight: <<{0: 1.0, 1: 13.263119533527698}>>; parameters: <<{'C': [0.0167, 0.025, 0.0333, 0.0417, 0.05, 0.075, 0.1, 0.125, 0.15]}>>\n",
      "Fitting 3 folds for each of 9 candidates, totalling 27 fits\n"
     ]
    },
    {
     "name": "stderr",
     "output_type": "stream",
     "text": [
      "[Parallel(n_jobs=1)]: Done  27 out of  27 | elapsed:    4.8s finished\n"
     ]
    },
    {
     "name": "stdout",
     "output_type": "stream",
     "text": [
      "       Best parameters selected: <<{'C': 0.05}>> for score <<0.7045331332074711>>.\n",
      "       Final parameters selected: <<{'C': 0.0278}>> for score <<0.7095890637260795>> (balanced).\n",
      "\n",
      "          *** Prev Score on validation dataset (macro/weighted) <<0.7223709748253928>> / <<0.7838044308632544>>.\n",
      "\n",
      "          *** Score on validation dataset (macro/weighted) <<0.7223709748253928>> / <<0.7838044308632544>>.\n",
      "[[1834  443]\n",
      " [ 123  218]]\n",
      "\n",
      "-------------------------------------------------------------------\n",
      "    62. ReFit model for class: <<infrastructure_related>> ((20941, 12009)).\n",
      "    Tuning hyper-parameters for class: <<infrastructure_related>> (Recall).\n",
      "       1. Grid Search model <<<class 'sklearn.svm.classes.LinearSVC'>>>; weight: <<balanced>>; parameters: <<{'C': [0.001, 0.01, 0.1, 1.0, 10.0]}>>\n",
      "Fitting 3 folds for each of 5 candidates, totalling 15 fits\n"
     ]
    },
    {
     "name": "stderr",
     "output_type": "stream",
     "text": [
      "[Parallel(n_jobs=1)]: Done  15 out of  15 | elapsed:    3.8s finished\n"
     ]
    },
    {
     "name": "stdout",
     "output_type": "stream",
     "text": [
      "       Best parameters selected: <<{'C': 0.01}>> for score <<0.7179228586862002>>.\n",
      "       2. Grid Search model <<<class 'sklearn.svm.classes.LinearSVC'>>>; weight: <<balanced>>; parameters: <<{'C': [0.0033, 0.005, 0.0067, 0.0083, 0.01, 0.015, 0.02, 0.025, 0.03]}>>\n",
      "Fitting 3 folds for each of 9 candidates, totalling 27 fits\n"
     ]
    },
    {
     "name": "stderr",
     "output_type": "stream",
     "text": [
      "[Parallel(n_jobs=1)]: Done  27 out of  27 | elapsed:    1.2s finished\n"
     ]
    },
    {
     "name": "stdout",
     "output_type": "stream",
     "text": [
      "       Best parameters selected: <<{'C': 0.025}>> for score <<0.7243715577544444>>.\n",
      "       3. Grid Search model <<<class 'sklearn.svm.classes.LinearSVC'>>>; weight: <<balanced>>; parameters: <<{'C': [0.0083, 0.0125, 0.0167, 0.0208, 0.025, 0.0375, 0.05, 0.0625, 0.075]}>>\n",
      "Fitting 3 folds for each of 9 candidates, totalling 27 fits\n"
     ]
    },
    {
     "name": "stderr",
     "output_type": "stream",
     "text": [
      "[Parallel(n_jobs=1)]: Done  27 out of  27 | elapsed:    2.0s finished\n"
     ]
    },
    {
     "name": "stdout",
     "output_type": "stream",
     "text": [
      "       Best parameters selected: <<{'C': 0.025}>> for score <<0.7243715577544444>>.\n",
      "       3. Grid Search model <<<class 'sklearn.svm.classes.LinearSVC'>>>; weight: <<{0: 1.0, 1: 29.023703703703706}>>; parameters: <<{'C': [0.001, 0.01, 0.1, 1.0, 10.0]}>>\n",
      "Fitting 3 folds for each of 5 candidates, totalling 15 fits\n"
     ]
    },
    {
     "name": "stderr",
     "output_type": "stream",
     "text": [
      "[Parallel(n_jobs=1)]: Done  15 out of  15 | elapsed:    4.4s finished\n"
     ]
    },
    {
     "name": "stdout",
     "output_type": "stream",
     "text": [
      "       Best parameters selected: <<{'C': 0.01}>> for score <<0.7286943511351741>>.\n",
      "       4. Grid Search model <<<class 'sklearn.svm.classes.LinearSVC'>>>; weight: <<{0: 1.0, 1: 29.023703703703706}>>; parameters: <<{'C': [0.0033, 0.005, 0.0067, 0.0083, 0.01, 0.015, 0.02, 0.025, 0.03]}>>\n",
      "Fitting 3 folds for each of 9 candidates, totalling 27 fits\n"
     ]
    },
    {
     "name": "stderr",
     "output_type": "stream",
     "text": [
      "[Parallel(n_jobs=1)]: Done  27 out of  27 | elapsed:    2.3s finished\n"
     ]
    },
    {
     "name": "stdout",
     "output_type": "stream",
     "text": [
      "       Best parameters selected: <<{'C': 0.02}>> for score <<0.7317729619984178>>.\n",
      "       5. Grid Search model <<<class 'sklearn.svm.classes.LinearSVC'>>>; weight: <<{0: 1.0, 1: 29.023703703703706}>>; parameters: <<{'C': [0.0067, 0.01, 0.0133, 0.0167, 0.02, 0.03, 0.04, 0.05, 0.06]}>>\n",
      "Fitting 3 folds for each of 9 candidates, totalling 27 fits\n"
     ]
    },
    {
     "name": "stderr",
     "output_type": "stream",
     "text": [
      "[Parallel(n_jobs=1)]: Done  27 out of  27 | elapsed:    3.5s finished\n"
     ]
    },
    {
     "name": "stdout",
     "output_type": "stream",
     "text": [
      "       Best parameters selected: <<{'C': 0.02}>> for score <<0.7317729619984178>>.\n",
      "       Final parameters selected: <<{'C': 0.025}>> for score <<0.7243715577544444>> (balanced).\n",
      "\n",
      "          *** Prev Score on validation dataset (macro/weighted) <<0.7384110391767458>> / <<0.8262032085561497>>.\n",
      "\n",
      "          *** Score on validation dataset (macro/weighted) <<0.7384110391767458>> / <<0.8262032085561497>>.\n",
      "[[2054  393]\n",
      " [  62  109]]\n",
      "\n",
      "-------------------------------------------------------------------\n",
      "    63. ReFit model for class: <<hospitals>> ((20941, 12009)).\n",
      "    Tuning hyper-parameters for class: <<hospitals>> (Recall).\n",
      "       1. Grid Search model <<<class 'sklearn.svm.classes.LinearSVC'>>>; weight: <<balanced>>; parameters: <<{'C': [0.001, 0.01, 0.1, 1.0, 10.0]}>>\n",
      "Fitting 3 folds for each of 5 candidates, totalling 15 fits\n"
     ]
    },
    {
     "name": "stderr",
     "output_type": "stream",
     "text": [
      "[Parallel(n_jobs=1)]: Done  15 out of  15 | elapsed:    1.7s finished\n"
     ]
    },
    {
     "name": "stdout",
     "output_type": "stream",
     "text": [
      "       Best parameters selected: <<{'C': 0.01}>> for score <<0.7538901588251586>>.\n",
      "       2. Grid Search model <<<class 'sklearn.svm.classes.LinearSVC'>>>; weight: <<balanced>>; parameters: <<{'C': [0.0033, 0.005, 0.0067, 0.0083, 0.01, 0.015, 0.02, 0.025, 0.03]}>>\n",
      "Fitting 3 folds for each of 9 candidates, totalling 27 fits\n"
     ]
    },
    {
     "name": "stderr",
     "output_type": "stream",
     "text": [
      "[Parallel(n_jobs=1)]: Done  27 out of  27 | elapsed:    2.5s finished\n"
     ]
    },
    {
     "name": "stdout",
     "output_type": "stream",
     "text": [
      "       Best parameters selected: <<{'C': 0.0083}>> for score <<0.7571974526302786>>.\n",
      "       3. Grid Search model <<<class 'sklearn.svm.classes.LinearSVC'>>>; weight: <<balanced>>; parameters: <<{'C': [0.0028, 0.0042, 0.0055, 0.0069, 0.0083, 0.0124, 0.0166, 0.0207, 0.0249]}>>\n",
      "Fitting 3 folds for each of 9 candidates, totalling 27 fits\n"
     ]
    },
    {
     "name": "stderr",
     "output_type": "stream",
     "text": [
      "[Parallel(n_jobs=1)]: Done  27 out of  27 | elapsed:    2.2s finished\n"
     ]
    },
    {
     "name": "stdout",
     "output_type": "stream",
     "text": [
      "       Best parameters selected: <<{'C': 0.0083}>> for score <<0.7571974526302786>>.\n",
      "       3. Grid Search model <<<class 'sklearn.svm.classes.LinearSVC'>>>; weight: <<{0: 1.0, 1: 92.48660714285715}>>; parameters: <<{'C': [0.001, 0.01, 0.1, 1.0, 10.0]}>>\n",
      "Fitting 3 folds for each of 5 candidates, totalling 15 fits\n"
     ]
    },
    {
     "name": "stderr",
     "output_type": "stream",
     "text": [
      "[Parallel(n_jobs=1)]: Done  15 out of  15 | elapsed:    1.7s finished\n"
     ]
    },
    {
     "name": "stdout",
     "output_type": "stream",
     "text": [
      "       Best parameters selected: <<{'C': 0.001}>> for score <<0.7367543087611809>>.\n",
      "       4. Grid Search model <<<class 'sklearn.svm.classes.LinearSVC'>>>; weight: <<{0: 1.0, 1: 92.48660714285715}>>; parameters: <<{'C': [0.0003, 0.0005, 0.0007, 0.0008, 0.001, 0.0015, 0.002, 0.0025, 0.003]}>>\n",
      "Fitting 3 folds for each of 9 candidates, totalling 27 fits\n"
     ]
    },
    {
     "name": "stderr",
     "output_type": "stream",
     "text": [
      "[Parallel(n_jobs=1)]: Done  27 out of  27 | elapsed:    1.2s finished\n"
     ]
    },
    {
     "name": "stdout",
     "output_type": "stream",
     "text": [
      "       Best parameters selected: <<{'C': 0.002}>> for score <<0.7548530129954719>>.\n",
      "       5. Grid Search model <<<class 'sklearn.svm.classes.LinearSVC'>>>; weight: <<{0: 1.0, 1: 92.48660714285715}>>; parameters: <<{'C': [0.0007, 0.001, 0.0013, 0.0017, 0.002, 0.003, 0.004, 0.005, 0.006]}>>\n",
      "Fitting 3 folds for each of 9 candidates, totalling 27 fits\n"
     ]
    },
    {
     "name": "stderr",
     "output_type": "stream",
     "text": [
      "[Parallel(n_jobs=1)]: Done  27 out of  27 | elapsed:    1.6s finished\n"
     ]
    },
    {
     "name": "stdout",
     "output_type": "stream",
     "text": [
      "       Best parameters selected: <<{'C': 0.002}>> for score <<0.7548530129954719>>.\n",
      "       Final parameters selected: <<{'C': 0.0083}>> for score <<0.7571974526302786>> (balanced).\n",
      "\n",
      "          *** Prev Score on validation dataset (macro/weighted) <<0.8513027852650494>> / <<0.9392666157372039>>.\n",
      "\n",
      "          *** Score on validation dataset (macro/weighted) <<0.8513027852650494>> / <<0.9392666157372039>>.\n",
      "[[2443  154]\n",
      " [   5   16]]\n",
      "\n",
      "-------------------------------------------------------------------\n",
      "    64. ReFit model for class: <<other_infrastructure>> ((20941, 12009)).\n",
      "    Tuning hyper-parameters for class: <<other_infrastructure>> (Recall).\n",
      "       1. Grid Search model <<<class 'sklearn.svm.classes.LinearSVC'>>>; weight: <<balanced>>; parameters: <<{'C': [0.001, 0.01, 0.1, 1.0, 10.0]}>>\n",
      "Fitting 3 folds for each of 5 candidates, totalling 15 fits\n"
     ]
    },
    {
     "name": "stderr",
     "output_type": "stream",
     "text": [
      "[Parallel(n_jobs=1)]: Done  15 out of  15 | elapsed:    3.1s finished\n"
     ]
    },
    {
     "name": "stdout",
     "output_type": "stream",
     "text": [
      "       Best parameters selected: <<{'C': 0.01}>> for score <<0.7388150907402917>>.\n",
      "       2. Grid Search model <<<class 'sklearn.svm.classes.LinearSVC'>>>; weight: <<balanced>>; parameters: <<{'C': [0.0033, 0.005, 0.0067, 0.0083, 0.01, 0.015, 0.02, 0.025, 0.03]}>>\n",
      "Fitting 3 folds for each of 9 candidates, totalling 27 fits\n"
     ]
    },
    {
     "name": "stderr",
     "output_type": "stream",
     "text": [
      "[Parallel(n_jobs=1)]: Done  27 out of  27 | elapsed:    1.5s finished\n"
     ]
    },
    {
     "name": "stdout",
     "output_type": "stream",
     "text": [
      "       Best parameters selected: <<{'C': 0.015}>> for score <<0.7415891155522404>>.\n",
      "       3. Grid Search model <<<class 'sklearn.svm.classes.LinearSVC'>>>; weight: <<balanced>>; parameters: <<{'C': [0.005, 0.0075, 0.01, 0.0125, 0.015, 0.0225, 0.03, 0.0375, 0.045]}>>\n",
      "Fitting 3 folds for each of 9 candidates, totalling 27 fits\n"
     ]
    },
    {
     "name": "stderr",
     "output_type": "stream",
     "text": [
      "[Parallel(n_jobs=1)]: Done  27 out of  27 | elapsed:    2.0s finished\n"
     ]
    },
    {
     "name": "stdout",
     "output_type": "stream",
     "text": [
      "       Best parameters selected: <<{'C': 0.015}>> for score <<0.7415891155522404>>.\n",
      "       3. Grid Search model <<<class 'sklearn.svm.classes.LinearSVC'>>>; weight: <<{0: 1.0, 1: 43.822757111597376}>>; parameters: <<{'C': [0.001, 0.01, 0.1, 1.0, 10.0]}>>\n",
      "Fitting 3 folds for each of 5 candidates, totalling 15 fits\n"
     ]
    },
    {
     "name": "stderr",
     "output_type": "stream",
     "text": [
      "[Parallel(n_jobs=1)]: Done  15 out of  15 | elapsed:    4.0s finished\n"
     ]
    },
    {
     "name": "stdout",
     "output_type": "stream",
     "text": [
      "       Best parameters selected: <<{'C': 0.01}>> for score <<0.7495880728029299>>.\n",
      "       4. Grid Search model <<<class 'sklearn.svm.classes.LinearSVC'>>>; weight: <<{0: 1.0, 1: 43.822757111597376}>>; parameters: <<{'C': [0.0033, 0.005, 0.0067, 0.0083, 0.01, 0.015, 0.02, 0.025, 0.03]}>>\n",
      "Fitting 3 folds for each of 9 candidates, totalling 27 fits\n"
     ]
    },
    {
     "name": "stderr",
     "output_type": "stream",
     "text": [
      "[Parallel(n_jobs=1)]: Done  27 out of  27 | elapsed:    3.2s finished\n"
     ]
    },
    {
     "name": "stdout",
     "output_type": "stream",
     "text": [
      "       Best parameters selected: <<{'C': 0.015}>> for score <<0.7531480732228761>>.\n",
      "       5. Grid Search model <<<class 'sklearn.svm.classes.LinearSVC'>>>; weight: <<{0: 1.0, 1: 43.822757111597376}>>; parameters: <<{'C': [0.005, 0.0075, 0.01, 0.0125, 0.015, 0.0225, 0.03, 0.0375, 0.045]}>>\n",
      "Fitting 3 folds for each of 9 candidates, totalling 27 fits\n"
     ]
    },
    {
     "name": "stderr",
     "output_type": "stream",
     "text": [
      "[Parallel(n_jobs=1)]: Done  27 out of  27 | elapsed:    3.5s finished\n"
     ]
    },
    {
     "name": "stdout",
     "output_type": "stream",
     "text": [
      "       Best parameters selected: <<{'C': 0.015}>> for score <<0.7531480732228761>>.\n",
      "       Final parameters selected: <<{'C': 0.015}>> for score <<0.7531480732228761>> ({0: 1.0, 1: 43.822757111597376}).\n",
      "\n",
      "          *** Prev Score on validation dataset (macro/weighted) <<0.7380810268752507>> / <<0.7689075630252101>>.\n",
      "\n",
      "          *** Score on validation dataset (macro/weighted) <<0.7380810268752507>> / <<0.7689075630252101>>.\n",
      "[[1925  568]\n",
      " [  37   88]]\n",
      "Evaluating model.\n",
      "    Call HMsgExtractMessage ==> transform.\n",
      "    Call HMsgCountVectorizer ==> transform.\n",
      "    Call HMsgTfidfTransformer ==> transform.\n",
      "\n",
      "-------------------------------------------------------------------\n"
     ]
    },
    {
     "data": {
      "text/html": [
       "<div>\n",
       "<style scoped>\n",
       "    .dataframe tbody tr th:only-of-type {\n",
       "        vertical-align: middle;\n",
       "    }\n",
       "\n",
       "    .dataframe tbody tr th {\n",
       "        vertical-align: top;\n",
       "    }\n",
       "\n",
       "    .dataframe thead th {\n",
       "        text-align: right;\n",
       "    }\n",
       "</style>\n",
       "<table border=\"1\" class=\"dataframe\">\n",
       "  <thead>\n",
       "    <tr style=\"text-align: right;\">\n",
       "      <th></th>\n",
       "      <th>__True Sum</th>\n",
       "      <th>__Pred Sum</th>\n",
       "      <th>Precision</th>\n",
       "      <th>Recall_We</th>\n",
       "      <th>Recall_Ma</th>\n",
       "      <th>F-score</th>\n",
       "      <th>__Diff</th>\n",
       "    </tr>\n",
       "  </thead>\n",
       "  <tbody>\n",
       "    <tr>\n",
       "      <th>genre</th>\n",
       "      <td>1577</td>\n",
       "      <td>1561</td>\n",
       "      <td>0.9607</td>\n",
       "      <td>0.9607</td>\n",
       "      <td>0.9512</td>\n",
       "      <td>0.9606</td>\n",
       "      <td>16</td>\n",
       "    </tr>\n",
       "    <tr>\n",
       "      <th>related</th>\n",
       "      <td>2010</td>\n",
       "      <td>1980</td>\n",
       "      <td>0.8392</td>\n",
       "      <td>0.8377</td>\n",
       "      <td>0.6656</td>\n",
       "      <td>0.8382</td>\n",
       "      <td>30</td>\n",
       "    </tr>\n",
       "    <tr>\n",
       "      <th>request</th>\n",
       "      <td>489</td>\n",
       "      <td>604</td>\n",
       "      <td>0.8803</td>\n",
       "      <td>0.8659</td>\n",
       "      <td>0.8246</td>\n",
       "      <td>0.8711</td>\n",
       "      <td>-115</td>\n",
       "    </tr>\n",
       "    <tr>\n",
       "      <th>offer</th>\n",
       "      <td>18</td>\n",
       "      <td>244</td>\n",
       "      <td>0.9887</td>\n",
       "      <td>0.9053</td>\n",
       "      <td>0.6489</td>\n",
       "      <td>0.9440</td>\n",
       "      <td>-226</td>\n",
       "    </tr>\n",
       "    <tr>\n",
       "      <th>aid_related</th>\n",
       "      <td>1113</td>\n",
       "      <td>1122</td>\n",
       "      <td>0.7699</td>\n",
       "      <td>0.7697</td>\n",
       "      <td>0.7649</td>\n",
       "      <td>0.7698</td>\n",
       "      <td>-9</td>\n",
       "    </tr>\n",
       "    <tr>\n",
       "      <th>medical_help</th>\n",
       "      <td>227</td>\n",
       "      <td>399</td>\n",
       "      <td>0.9180</td>\n",
       "      <td>0.8801</td>\n",
       "      <td>0.7928</td>\n",
       "      <td>0.8943</td>\n",
       "      <td>-172</td>\n",
       "    </tr>\n",
       "    <tr>\n",
       "      <th>medical_products</th>\n",
       "      <td>133</td>\n",
       "      <td>357</td>\n",
       "      <td>0.9423</td>\n",
       "      <td>0.8793</td>\n",
       "      <td>0.7727</td>\n",
       "      <td>0.9040</td>\n",
       "      <td>-224</td>\n",
       "    </tr>\n",
       "    <tr>\n",
       "      <th>search_and_rescue</th>\n",
       "      <td>71</td>\n",
       "      <td>376</td>\n",
       "      <td>0.9588</td>\n",
       "      <td>0.8545</td>\n",
       "      <td>0.6651</td>\n",
       "      <td>0.8995</td>\n",
       "      <td>-305</td>\n",
       "    </tr>\n",
       "    <tr>\n",
       "      <th>security</th>\n",
       "      <td>40</td>\n",
       "      <td>395</td>\n",
       "      <td>0.9762</td>\n",
       "      <td>0.8484</td>\n",
       "      <td>0.6646</td>\n",
       "      <td>0.9046</td>\n",
       "      <td>-355</td>\n",
       "    </tr>\n",
       "    <tr>\n",
       "      <th>military</th>\n",
       "      <td>82</td>\n",
       "      <td>251</td>\n",
       "      <td>0.9709</td>\n",
       "      <td>0.9240</td>\n",
       "      <td>0.8723</td>\n",
       "      <td>0.9420</td>\n",
       "      <td>-169</td>\n",
       "    </tr>\n",
       "    <tr>\n",
       "      <th>water</th>\n",
       "      <td>171</td>\n",
       "      <td>246</td>\n",
       "      <td>0.9616</td>\n",
       "      <td>0.9500</td>\n",
       "      <td>0.8971</td>\n",
       "      <td>0.9541</td>\n",
       "      <td>-75</td>\n",
       "    </tr>\n",
       "    <tr>\n",
       "      <th>food</th>\n",
       "      <td>293</td>\n",
       "      <td>376</td>\n",
       "      <td>0.9441</td>\n",
       "      <td>0.9339</td>\n",
       "      <td>0.8957</td>\n",
       "      <td>0.9374</td>\n",
       "      <td>-83</td>\n",
       "    </tr>\n",
       "    <tr>\n",
       "      <th>shelter</th>\n",
       "      <td>260</td>\n",
       "      <td>406</td>\n",
       "      <td>0.9363</td>\n",
       "      <td>0.9114</td>\n",
       "      <td>0.8772</td>\n",
       "      <td>0.9197</td>\n",
       "      <td>-146</td>\n",
       "    </tr>\n",
       "    <tr>\n",
       "      <th>clothing</th>\n",
       "      <td>40</td>\n",
       "      <td>119</td>\n",
       "      <td>0.9831</td>\n",
       "      <td>0.9599</td>\n",
       "      <td>0.8197</td>\n",
       "      <td>0.9695</td>\n",
       "      <td>-79</td>\n",
       "    </tr>\n",
       "    <tr>\n",
       "      <th>money</th>\n",
       "      <td>47</td>\n",
       "      <td>403</td>\n",
       "      <td>0.9793</td>\n",
       "      <td>0.8564</td>\n",
       "      <td>0.8224</td>\n",
       "      <td>0.9078</td>\n",
       "      <td>-356</td>\n",
       "    </tr>\n",
       "    <tr>\n",
       "      <th>missing_people</th>\n",
       "      <td>26</td>\n",
       "      <td>283</td>\n",
       "      <td>0.9841</td>\n",
       "      <td>0.8904</td>\n",
       "      <td>0.6591</td>\n",
       "      <td>0.9331</td>\n",
       "      <td>-257</td>\n",
       "    </tr>\n",
       "    <tr>\n",
       "      <th>refugees</th>\n",
       "      <td>96</td>\n",
       "      <td>336</td>\n",
       "      <td>0.9605</td>\n",
       "      <td>0.8892</td>\n",
       "      <td>0.8173</td>\n",
       "      <td>0.9172</td>\n",
       "      <td>-240</td>\n",
       "    </tr>\n",
       "    <tr>\n",
       "      <th>death</th>\n",
       "      <td>110</td>\n",
       "      <td>202</td>\n",
       "      <td>0.9664</td>\n",
       "      <td>0.9465</td>\n",
       "      <td>0.8678</td>\n",
       "      <td>0.9539</td>\n",
       "      <td>-92</td>\n",
       "    </tr>\n",
       "    <tr>\n",
       "      <th>other_aid</th>\n",
       "      <td>356</td>\n",
       "      <td>717</td>\n",
       "      <td>0.8471</td>\n",
       "      <td>0.7620</td>\n",
       "      <td>0.7073</td>\n",
       "      <td>0.7917</td>\n",
       "      <td>-361</td>\n",
       "    </tr>\n",
       "    <tr>\n",
       "      <th>infrastructure_related</th>\n",
       "      <td>184</td>\n",
       "      <td>586</td>\n",
       "      <td>0.9096</td>\n",
       "      <td>0.7907</td>\n",
       "      <td>0.7041</td>\n",
       "      <td>0.8359</td>\n",
       "      <td>-402</td>\n",
       "    </tr>\n",
       "    <tr>\n",
       "      <th>transport</th>\n",
       "      <td>124</td>\n",
       "      <td>346</td>\n",
       "      <td>0.9351</td>\n",
       "      <td>0.8678</td>\n",
       "      <td>0.6931</td>\n",
       "      <td>0.8960</td>\n",
       "      <td>-222</td>\n",
       "    </tr>\n",
       "    <tr>\n",
       "      <th>buildings</th>\n",
       "      <td>150</td>\n",
       "      <td>498</td>\n",
       "      <td>0.9421</td>\n",
       "      <td>0.8426</td>\n",
       "      <td>0.8163</td>\n",
       "      <td>0.8789</td>\n",
       "      <td>-348</td>\n",
       "    </tr>\n",
       "    <tr>\n",
       "      <th>electricity</th>\n",
       "      <td>46</td>\n",
       "      <td>150</td>\n",
       "      <td>0.9796</td>\n",
       "      <td>0.9481</td>\n",
       "      <td>0.8028</td>\n",
       "      <td>0.9613</td>\n",
       "      <td>-104</td>\n",
       "    </tr>\n",
       "    <tr>\n",
       "      <th>tools</th>\n",
       "      <td>13</td>\n",
       "      <td>337</td>\n",
       "      <td>0.9916</td>\n",
       "      <td>0.8701</td>\n",
       "      <td>0.6286</td>\n",
       "      <td>0.9259</td>\n",
       "      <td>-324</td>\n",
       "    </tr>\n",
       "    <tr>\n",
       "      <th>hospitals</th>\n",
       "      <td>38</td>\n",
       "      <td>213</td>\n",
       "      <td>0.9804</td>\n",
       "      <td>0.9209</td>\n",
       "      <td>0.7525</td>\n",
       "      <td>0.9471</td>\n",
       "      <td>-175</td>\n",
       "    </tr>\n",
       "    <tr>\n",
       "      <th>shops</th>\n",
       "      <td>12</td>\n",
       "      <td>314</td>\n",
       "      <td>0.9916</td>\n",
       "      <td>0.8778</td>\n",
       "      <td>0.5653</td>\n",
       "      <td>0.9306</td>\n",
       "      <td>-302</td>\n",
       "    </tr>\n",
       "    <tr>\n",
       "      <th>aid_centers</th>\n",
       "      <td>40</td>\n",
       "      <td>409</td>\n",
       "      <td>0.9775</td>\n",
       "      <td>0.8453</td>\n",
       "      <td>0.6999</td>\n",
       "      <td>0.9029</td>\n",
       "      <td>-369</td>\n",
       "    </tr>\n",
       "    <tr>\n",
       "      <th>other_infrastructure</th>\n",
       "      <td>112</td>\n",
       "      <td>723</td>\n",
       "      <td>0.9475</td>\n",
       "      <td>0.7445</td>\n",
       "      <td>0.7428</td>\n",
       "      <td>0.8202</td>\n",
       "      <td>-611</td>\n",
       "    </tr>\n",
       "    <tr>\n",
       "      <th>weather_related</th>\n",
       "      <td>731</td>\n",
       "      <td>751</td>\n",
       "      <td>0.8766</td>\n",
       "      <td>0.8755</td>\n",
       "      <td>0.8495</td>\n",
       "      <td>0.8760</td>\n",
       "      <td>-20</td>\n",
       "    </tr>\n",
       "    <tr>\n",
       "      <th>floods</th>\n",
       "      <td>201</td>\n",
       "      <td>285</td>\n",
       "      <td>0.9375</td>\n",
       "      <td>0.9221</td>\n",
       "      <td>0.8210</td>\n",
       "      <td>0.9281</td>\n",
       "      <td>-84</td>\n",
       "    </tr>\n",
       "    <tr>\n",
       "      <th>storm</th>\n",
       "      <td>262</td>\n",
       "      <td>343</td>\n",
       "      <td>0.9475</td>\n",
       "      <td>0.9370</td>\n",
       "      <td>0.8937</td>\n",
       "      <td>0.9406</td>\n",
       "      <td>-81</td>\n",
       "    </tr>\n",
       "    <tr>\n",
       "      <th>fire</th>\n",
       "      <td>31</td>\n",
       "      <td>155</td>\n",
       "      <td>0.9834</td>\n",
       "      <td>0.9412</td>\n",
       "      <td>0.7312</td>\n",
       "      <td>0.9601</td>\n",
       "      <td>-124</td>\n",
       "    </tr>\n",
       "    <tr>\n",
       "      <th>earthquake</th>\n",
       "      <td>223</td>\n",
       "      <td>242</td>\n",
       "      <td>0.9660</td>\n",
       "      <td>0.9645</td>\n",
       "      <td>0.9053</td>\n",
       "      <td>0.9651</td>\n",
       "      <td>-19</td>\n",
       "    </tr>\n",
       "    <tr>\n",
       "      <th>cold</th>\n",
       "      <td>61</td>\n",
       "      <td>110</td>\n",
       "      <td>0.9788</td>\n",
       "      <td>0.9675</td>\n",
       "      <td>0.8394</td>\n",
       "      <td>0.9720</td>\n",
       "      <td>-49</td>\n",
       "    </tr>\n",
       "    <tr>\n",
       "      <th>other_weather</th>\n",
       "      <td>147</td>\n",
       "      <td>793</td>\n",
       "      <td>0.9337</td>\n",
       "      <td>0.7265</td>\n",
       "      <td>0.7432</td>\n",
       "      <td>0.7999</td>\n",
       "      <td>-646</td>\n",
       "    </tr>\n",
       "    <tr>\n",
       "      <th>direct_report</th>\n",
       "      <td>527</td>\n",
       "      <td>770</td>\n",
       "      <td>0.8449</td>\n",
       "      <td>0.8063</td>\n",
       "      <td>0.7851</td>\n",
       "      <td>0.8185</td>\n",
       "      <td>-243</td>\n",
       "    </tr>\n",
       "  </tbody>\n",
       "</table>\n",
       "</div>"
      ],
      "text/plain": [
       "                        __True Sum  __Pred Sum  Precision  Recall_We  \\\n",
       "genre                         1577        1561     0.9607     0.9607   \n",
       "related                       2010        1980     0.8392     0.8377   \n",
       "request                        489         604     0.8803     0.8659   \n",
       "offer                           18         244     0.9887     0.9053   \n",
       "aid_related                   1113        1122     0.7699     0.7697   \n",
       "medical_help                   227         399     0.9180     0.8801   \n",
       "medical_products               133         357     0.9423     0.8793   \n",
       "search_and_rescue               71         376     0.9588     0.8545   \n",
       "security                        40         395     0.9762     0.8484   \n",
       "military                        82         251     0.9709     0.9240   \n",
       "water                          171         246     0.9616     0.9500   \n",
       "food                           293         376     0.9441     0.9339   \n",
       "shelter                        260         406     0.9363     0.9114   \n",
       "clothing                        40         119     0.9831     0.9599   \n",
       "money                           47         403     0.9793     0.8564   \n",
       "missing_people                  26         283     0.9841     0.8904   \n",
       "refugees                        96         336     0.9605     0.8892   \n",
       "death                          110         202     0.9664     0.9465   \n",
       "other_aid                      356         717     0.8471     0.7620   \n",
       "infrastructure_related         184         586     0.9096     0.7907   \n",
       "transport                      124         346     0.9351     0.8678   \n",
       "buildings                      150         498     0.9421     0.8426   \n",
       "electricity                     46         150     0.9796     0.9481   \n",
       "tools                           13         337     0.9916     0.8701   \n",
       "hospitals                       38         213     0.9804     0.9209   \n",
       "shops                           12         314     0.9916     0.8778   \n",
       "aid_centers                     40         409     0.9775     0.8453   \n",
       "other_infrastructure           112         723     0.9475     0.7445   \n",
       "weather_related                731         751     0.8766     0.8755   \n",
       "floods                         201         285     0.9375     0.9221   \n",
       "storm                          262         343     0.9475     0.9370   \n",
       "fire                            31         155     0.9834     0.9412   \n",
       "earthquake                     223         242     0.9660     0.9645   \n",
       "cold                            61         110     0.9788     0.9675   \n",
       "other_weather                  147         793     0.9337     0.7265   \n",
       "direct_report                  527         770     0.8449     0.8063   \n",
       "\n",
       "                        Recall_Ma  F-score  __Diff  \n",
       "genre                      0.9512   0.9606      16  \n",
       "related                    0.6656   0.8382      30  \n",
       "request                    0.8246   0.8711    -115  \n",
       "offer                      0.6489   0.9440    -226  \n",
       "aid_related                0.7649   0.7698      -9  \n",
       "medical_help               0.7928   0.8943    -172  \n",
       "medical_products           0.7727   0.9040    -224  \n",
       "search_and_rescue          0.6651   0.8995    -305  \n",
       "security                   0.6646   0.9046    -355  \n",
       "military                   0.8723   0.9420    -169  \n",
       "water                      0.8971   0.9541     -75  \n",
       "food                       0.8957   0.9374     -83  \n",
       "shelter                    0.8772   0.9197    -146  \n",
       "clothing                   0.8197   0.9695     -79  \n",
       "money                      0.8224   0.9078    -356  \n",
       "missing_people             0.6591   0.9331    -257  \n",
       "refugees                   0.8173   0.9172    -240  \n",
       "death                      0.8678   0.9539     -92  \n",
       "other_aid                  0.7073   0.7917    -361  \n",
       "infrastructure_related     0.7041   0.8359    -402  \n",
       "transport                  0.6931   0.8960    -222  \n",
       "buildings                  0.8163   0.8789    -348  \n",
       "electricity                0.8028   0.9613    -104  \n",
       "tools                      0.6286   0.9259    -324  \n",
       "hospitals                  0.7525   0.9471    -175  \n",
       "shops                      0.5653   0.9306    -302  \n",
       "aid_centers                0.6999   0.9029    -369  \n",
       "other_infrastructure       0.7428   0.8202    -611  \n",
       "weather_related            0.8495   0.8760     -20  \n",
       "floods                     0.8210   0.9281     -84  \n",
       "storm                      0.8937   0.9406     -81  \n",
       "fire                       0.7312   0.9601    -124  \n",
       "earthquake                 0.9053   0.9651     -19  \n",
       "cold                       0.8394   0.9720     -49  \n",
       "other_weather              0.7432   0.7999    -646  \n",
       "direct_report              0.7851   0.8185    -243  "
      ]
     },
     "metadata": {},
     "output_type": "display_data"
    },
    {
     "name": "stdout",
     "output_type": "stream",
     "text": [
      " \n",
      "\n",
      "-------------------------------------------------------------------\n",
      "Details for class: <<genre>>.\n",
      "Classification Report:\n",
      "             precision    recall  f1-score   support\n",
      "\n",
      "          0       0.97      0.97      0.97      1286\n",
      "          1       0.95      0.96      0.95      1087\n",
      "          2       0.97      0.93      0.95       245\n",
      "\n",
      "avg / total       0.96      0.96      0.96      2618\n",
      "\n",
      "Confusion Matrix:\n",
      "[[1249   36    1]\n",
      " [  41 1039    7]\n",
      " [   2   16  227]]\n",
      " \n",
      "\n",
      "-------------------------------------------------------------------\n",
      "Details for class: <<related>>.\n",
      "Classification Report:\n",
      "             precision    recall  f1-score   support\n",
      "\n",
      "          0       0.66      0.69      0.67       627\n",
      "          1       0.90      0.89      0.89      1972\n",
      "          2       0.62      0.42      0.50        19\n",
      "\n",
      "avg / total       0.84      0.84      0.84      2618\n",
      "\n",
      "Confusion Matrix:\n",
      "[[ 430  194    3]\n",
      " [ 215 1755    2]\n",
      " [   6    5    8]]\n",
      " \n",
      "\n",
      "-------------------------------------------------------------------\n",
      "Details for class: <<request>>.\n",
      "Classification Report:\n",
      "             precision    recall  f1-score   support\n",
      "\n",
      "          0       0.94      0.89      0.92      2129\n",
      "          1       0.61      0.76      0.68       489\n",
      "\n",
      "avg / total       0.88      0.87      0.87      2618\n",
      "\n",
      "Confusion Matrix:\n",
      "[[1896  233]\n",
      " [ 118  371]]\n",
      " \n",
      "\n",
      "-------------------------------------------------------------------\n",
      "Details for class: <<offer>>.\n",
      "Classification Report:\n",
      "             precision    recall  f1-score   support\n",
      "\n",
      "          0       1.00      0.91      0.95      2600\n",
      "          1       0.03      0.39      0.05        18\n",
      "\n",
      "avg / total       0.99      0.91      0.94      2618\n",
      "\n",
      "Confusion Matrix:\n",
      "[[2363  237]\n",
      " [  11    7]]\n",
      " \n",
      "\n",
      "-------------------------------------------------------------------\n",
      "Details for class: <<aid_related>>.\n",
      "Classification Report:\n",
      "             precision    recall  f1-score   support\n",
      "\n",
      "          0       0.80      0.80      0.80      1505\n",
      "          1       0.73      0.73      0.73      1113\n",
      "\n",
      "avg / total       0.77      0.77      0.77      2618\n",
      "\n",
      "Confusion Matrix:\n",
      "[[1199  306]\n",
      " [ 297  816]]\n",
      " \n",
      "\n",
      "-------------------------------------------------------------------\n",
      "Details for class: <<medical_help>>.\n",
      "Classification Report:\n",
      "             precision    recall  f1-score   support\n",
      "\n",
      "          0       0.97      0.90      0.93      2391\n",
      "          1       0.39      0.69      0.50       227\n",
      "\n",
      "avg / total       0.92      0.88      0.89      2618\n",
      "\n",
      "Confusion Matrix:\n",
      "[[2148  243]\n",
      " [  71  156]]\n",
      " \n",
      "\n",
      "-------------------------------------------------------------------\n",
      "Details for class: <<medical_products>>.\n",
      "Classification Report:\n",
      "             precision    recall  f1-score   support\n",
      "\n",
      "          0       0.98      0.89      0.93      2485\n",
      "          1       0.24      0.65      0.36       133\n",
      "\n",
      "avg / total       0.94      0.88      0.90      2618\n",
      "\n",
      "Confusion Matrix:\n",
      "[[2215  270]\n",
      " [  46   87]]\n",
      " \n",
      "\n",
      "-------------------------------------------------------------------\n",
      "Details for class: <<search_and_rescue>>.\n",
      "Classification Report:\n",
      "             precision    recall  f1-score   support\n",
      "\n",
      "          0       0.98      0.87      0.92      2547\n",
      "          1       0.09      0.46      0.15        71\n",
      "\n",
      "avg / total       0.96      0.85      0.90      2618\n",
      "\n",
      "Confusion Matrix:\n",
      "[[2204  343]\n",
      " [  38   33]]\n",
      " \n",
      "\n",
      "-------------------------------------------------------------------\n",
      "Details for class: <<security>>.\n",
      "Classification Report:\n",
      "             precision    recall  f1-score   support\n",
      "\n",
      "          0       0.99      0.85      0.92      2578\n",
      "          1       0.05      0.47      0.09        40\n",
      "\n",
      "avg / total       0.98      0.85      0.90      2618\n",
      "\n",
      "Confusion Matrix:\n",
      "[[2202  376]\n",
      " [  21   19]]\n",
      " \n",
      "\n",
      "-------------------------------------------------------------------\n",
      "Details for class: <<military>>.\n",
      "Classification Report:\n",
      "             precision    recall  f1-score   support\n",
      "\n",
      "          0       0.99      0.93      0.96      2536\n",
      "          1       0.27      0.82      0.40        82\n",
      "\n",
      "avg / total       0.97      0.92      0.94      2618\n",
      "\n",
      "Confusion Matrix:\n",
      "[[2352  184]\n",
      " [  15   67]]\n",
      " \n",
      "\n",
      "-------------------------------------------------------------------\n",
      "Details for class: <<water>>.\n",
      "Classification Report:\n",
      "             precision    recall  f1-score   support\n",
      "\n",
      "          0       0.99      0.96      0.97      2447\n",
      "          1       0.58      0.84      0.69       171\n",
      "\n",
      "avg / total       0.96      0.95      0.95      2618\n",
      "\n",
      "Confusion Matrix:\n",
      "[[2344  103]\n",
      " [  28  143]]\n",
      " \n",
      "\n",
      "-------------------------------------------------------------------\n",
      "Details for class: <<food>>.\n",
      "Classification Report:\n",
      "             precision    recall  f1-score   support\n",
      "\n",
      "          0       0.98      0.94      0.96      2325\n",
      "          1       0.66      0.85      0.74       293\n",
      "\n",
      "avg / total       0.94      0.93      0.94      2618\n",
      "\n",
      "Confusion Matrix:\n",
      "[[2197  128]\n",
      " [  45  248]]\n",
      " \n",
      "\n",
      "-------------------------------------------------------------------\n",
      "Details for class: <<shelter>>.\n",
      "Classification Report:\n",
      "             precision    recall  f1-score   support\n",
      "\n",
      "          0       0.98      0.92      0.95      2358\n",
      "          1       0.53      0.83      0.65       260\n",
      "\n",
      "avg / total       0.94      0.91      0.92      2618\n",
      "\n",
      "Confusion Matrix:\n",
      "[[2169  189]\n",
      " [  43  217]]\n",
      " \n",
      "\n",
      "-------------------------------------------------------------------\n",
      "Details for class: <<clothing>>.\n",
      "Classification Report:\n",
      "             precision    recall  f1-score   support\n",
      "\n",
      "          0       0.99      0.96      0.98      2578\n",
      "          1       0.23      0.68      0.34        40\n",
      "\n",
      "avg / total       0.98      0.96      0.97      2618\n",
      "\n",
      "Confusion Matrix:\n",
      "[[2486   92]\n",
      " [  13   27]]\n",
      " \n",
      "\n",
      "-------------------------------------------------------------------\n",
      "Details for class: <<money>>.\n",
      "Classification Report:\n",
      "             precision    recall  f1-score   support\n",
      "\n",
      "          0       1.00      0.86      0.92      2571\n",
      "          1       0.09      0.79      0.16        47\n",
      "\n",
      "avg / total       0.98      0.86      0.91      2618\n",
      "\n",
      "Confusion Matrix:\n",
      "[[2205  366]\n",
      " [  10   37]]\n",
      " \n",
      "\n",
      "-------------------------------------------------------------------\n",
      "Details for class: <<missing_people>>.\n",
      "Classification Report:\n",
      "             precision    recall  f1-score   support\n",
      "\n",
      "          0       0.99      0.90      0.94      2592\n",
      "          1       0.04      0.42      0.07        26\n",
      "\n",
      "avg / total       0.98      0.89      0.93      2618\n",
      "\n",
      "Confusion Matrix:\n",
      "[[2320  272]\n",
      " [  15   11]]\n",
      " \n",
      "\n",
      "-------------------------------------------------------------------\n",
      "Details for class: <<refugees>>.\n",
      "Classification Report:\n",
      "             precision    recall  f1-score   support\n",
      "\n",
      "          0       0.99      0.89      0.94      2522\n",
      "          1       0.21      0.74      0.33        96\n",
      "\n",
      "avg / total       0.96      0.89      0.92      2618\n",
      "\n",
      "Confusion Matrix:\n",
      "[[2257  265]\n",
      " [  25   71]]\n",
      " \n",
      "\n",
      "-------------------------------------------------------------------\n",
      "Details for class: <<death>>.\n",
      "Classification Report:\n",
      "             precision    recall  f1-score   support\n",
      "\n",
      "          0       0.99      0.95      0.97      2508\n",
      "          1       0.43      0.78      0.55       110\n",
      "\n",
      "avg / total       0.97      0.95      0.95      2618\n",
      "\n",
      "Confusion Matrix:\n",
      "[[2392  116]\n",
      " [  24   86]]\n",
      " \n",
      "\n",
      "-------------------------------------------------------------------\n",
      "Details for class: <<other_aid>>.\n",
      "Classification Report:\n",
      "             precision    recall  f1-score   support\n",
      "\n",
      "          0       0.93      0.78      0.85      2262\n",
      "          1       0.31      0.63      0.42       356\n",
      "\n",
      "avg / total       0.85      0.76      0.79      2618\n",
      "\n",
      "Confusion Matrix:\n",
      "[[1770  492]\n",
      " [ 131  225]]\n",
      " \n",
      "\n",
      "-------------------------------------------------------------------\n",
      "Details for class: <<infrastructure_related>>.\n",
      "Classification Report:\n",
      "             precision    recall  f1-score   support\n",
      "\n",
      "          0       0.96      0.80      0.88      2434\n",
      "          1       0.19      0.60      0.29       184\n",
      "\n",
      "avg / total       0.91      0.79      0.84      2618\n",
      "\n",
      "Confusion Matrix:\n",
      "[[1959  475]\n",
      " [  73  111]]\n",
      " \n",
      "\n",
      "-------------------------------------------------------------------\n",
      "Details for class: <<transport>>.\n",
      "Classification Report:\n",
      "             precision    recall  f1-score   support\n",
      "\n",
      "          0       0.97      0.89      0.93      2494\n",
      "          1       0.18      0.50      0.26       124\n",
      "\n",
      "avg / total       0.94      0.87      0.90      2618\n",
      "\n",
      "Confusion Matrix:\n",
      "[[2210  284]\n",
      " [  62   62]]\n",
      " \n",
      "\n",
      "-------------------------------------------------------------------\n",
      "Details for class: <<buildings>>.\n",
      "Classification Report:\n",
      "             precision    recall  f1-score   support\n",
      "\n",
      "          0       0.98      0.85      0.91      2468\n",
      "          1       0.24      0.79      0.36       150\n",
      "\n",
      "avg / total       0.94      0.84      0.88      2618\n",
      "\n",
      "Confusion Matrix:\n",
      "[[2088  380]\n",
      " [  32  118]]\n",
      " \n",
      "\n",
      "-------------------------------------------------------------------\n",
      "Details for class: <<electricity>>.\n",
      "Classification Report:\n",
      "             precision    recall  f1-score   support\n",
      "\n",
      "          0       0.99      0.95      0.97      2572\n",
      "          1       0.20      0.65      0.31        46\n",
      "\n",
      "avg / total       0.98      0.95      0.96      2618\n",
      "\n",
      "Confusion Matrix:\n",
      "[[2452  120]\n",
      " [  16   30]]\n",
      " \n",
      "\n",
      "-------------------------------------------------------------------\n",
      "Details for class: <<tools>>.\n",
      "Classification Report:\n",
      "             precision    recall  f1-score   support\n",
      "\n",
      "          0       1.00      0.87      0.93      2605\n",
      "          1       0.01      0.38      0.03        13\n",
      "\n",
      "avg / total       0.99      0.87      0.93      2618\n",
      "\n",
      "Confusion Matrix:\n",
      "[[2273  332]\n",
      " [   8    5]]\n",
      " \n",
      "\n",
      "-------------------------------------------------------------------\n",
      "Details for class: <<hospitals>>.\n",
      "Classification Report:\n",
      "             precision    recall  f1-score   support\n",
      "\n",
      "          0       0.99      0.93      0.96      2580\n",
      "          1       0.10      0.58      0.18        38\n",
      "\n",
      "avg / total       0.98      0.92      0.95      2618\n",
      "\n",
      "Confusion Matrix:\n",
      "[[2389  191]\n",
      " [  16   22]]\n",
      " \n",
      "\n",
      "-------------------------------------------------------------------\n",
      "Details for class: <<shops>>.\n",
      "Classification Report:\n",
      "             precision    recall  f1-score   support\n",
      "\n",
      "          0       1.00      0.88      0.93      2606\n",
      "          1       0.01      0.25      0.02        12\n",
      "\n",
      "avg / total       0.99      0.88      0.93      2618\n",
      "\n",
      "Confusion Matrix:\n",
      "[[2295  311]\n",
      " [   9    3]]\n",
      " \n",
      "\n",
      "-------------------------------------------------------------------\n",
      "Details for class: <<aid_centers>>.\n",
      "Classification Report:\n",
      "             precision    recall  f1-score   support\n",
      "\n",
      "          0       0.99      0.85      0.92      2578\n",
      "          1       0.05      0.55      0.10        40\n",
      "\n",
      "avg / total       0.98      0.85      0.90      2618\n",
      "\n",
      "Confusion Matrix:\n",
      "[[2191  387]\n",
      " [  18   22]]\n",
      " \n",
      "\n",
      "-------------------------------------------------------------------\n",
      "Details for class: <<other_infrastructure>>.\n",
      "Classification Report:\n",
      "             precision    recall  f1-score   support\n",
      "\n",
      "          0       0.98      0.74      0.85      2506\n",
      "          1       0.11      0.74      0.20       112\n",
      "\n",
      "avg / total       0.95      0.74      0.82      2618\n",
      "\n",
      "Confusion Matrix:\n",
      "[[1866  640]\n",
      " [  29   83]]\n",
      " \n",
      "\n",
      "-------------------------------------------------------------------\n",
      "Details for class: <<weather_related>>.\n",
      "Classification Report:\n",
      "             precision    recall  f1-score   support\n",
      "\n",
      "          0       0.92      0.91      0.91      1887\n",
      "          1       0.77      0.79      0.78       731\n",
      "\n",
      "avg / total       0.88      0.88      0.88      2618\n",
      "\n",
      "Confusion Matrix:\n",
      "[[1714  173]\n",
      " [ 153  578]]\n",
      " \n",
      "\n",
      "-------------------------------------------------------------------\n",
      "Details for class: <<floods>>.\n",
      "Classification Report:\n",
      "             precision    recall  f1-score   support\n",
      "\n",
      "          0       0.97      0.94      0.96      2417\n",
      "          1       0.49      0.70      0.58       201\n",
      "\n",
      "avg / total       0.94      0.92      0.93      2618\n",
      "\n",
      "Confusion Matrix:\n",
      "[[2273  144]\n",
      " [  60  141]]\n",
      " \n",
      "\n",
      "-------------------------------------------------------------------\n",
      "Details for class: <<storm>>.\n",
      "Classification Report:\n",
      "             precision    recall  f1-score   support\n",
      "\n",
      "          0       0.98      0.95      0.96      2356\n",
      "          1       0.64      0.84      0.73       262\n",
      "\n",
      "avg / total       0.95      0.94      0.94      2618\n",
      "\n",
      "Confusion Matrix:\n",
      "[[2233  123]\n",
      " [  42  220]]\n",
      " \n",
      "\n",
      "-------------------------------------------------------------------\n",
      "Details for class: <<fire>>.\n",
      "Classification Report:\n",
      "             precision    recall  f1-score   support\n",
      "\n",
      "          0       0.99      0.95      0.97      2587\n",
      "          1       0.10      0.52      0.17        31\n",
      "\n",
      "avg / total       0.98      0.94      0.96      2618\n",
      "\n",
      "Confusion Matrix:\n",
      "[[2448  139]\n",
      " [  15   16]]\n",
      " \n",
      "\n",
      "-------------------------------------------------------------------\n",
      "Details for class: <<earthquake>>.\n",
      "Classification Report:\n",
      "             precision    recall  f1-score   support\n",
      "\n",
      "          0       0.98      0.98      0.98      2395\n",
      "          1       0.77      0.83      0.80       223\n",
      "\n",
      "avg / total       0.97      0.96      0.97      2618\n",
      "\n",
      "Confusion Matrix:\n",
      "[[2339   56]\n",
      " [  37  186]]\n",
      " \n",
      "\n",
      "-------------------------------------------------------------------\n",
      "Details for class: <<cold>>.\n",
      "Classification Report:\n",
      "             precision    recall  f1-score   support\n",
      "\n",
      "          0       0.99      0.97      0.98      2557\n",
      "          1       0.39      0.70      0.50        61\n",
      "\n",
      "avg / total       0.98      0.97      0.97      2618\n",
      "\n",
      "Confusion Matrix:\n",
      "[[2490   67]\n",
      " [  18   43]]\n",
      " \n",
      "\n",
      "-------------------------------------------------------------------\n",
      "Details for class: <<other_weather>>.\n",
      "Classification Report:\n",
      "             precision    recall  f1-score   support\n",
      "\n",
      "          0       0.98      0.72      0.83      2471\n",
      "          1       0.14      0.76      0.24       147\n",
      "\n",
      "avg / total       0.93      0.73      0.80      2618\n",
      "\n",
      "Confusion Matrix:\n",
      "[[1790  681]\n",
      " [  35  112]]\n",
      " \n",
      "\n",
      "-------------------------------------------------------------------\n",
      "Details for class: <<direct_report>>.\n",
      "Classification Report:\n",
      "             precision    recall  f1-score   support\n",
      "\n",
      "          0       0.93      0.82      0.87      2091\n",
      "          1       0.51      0.75      0.61       527\n",
      "\n",
      "avg / total       0.84      0.81      0.82      2618\n",
      "\n",
      "Confusion Matrix:\n",
      "[[1716  375]\n",
      " [ 132  395]]\n",
      " \n",
      "Saving model.\n",
      "    Model filepath <<models/savedModel.pkl>>\n"
     ]
    },
    {
     "name": "stdout",
     "output_type": "stream",
     "text": [
      "Trained model saved!\n"
     ]
    }
   ],
   "source": [
    "from models.train_classifier import executeMain\n",
    "g_train = True\n",
    "g_debug = False\n",
    "\n",
    "if g_train:\n",
    "    v_model, X_train, X_test, y_train, y_test, y_pred_test = executeMain( 'data/DisasterResponse.db', \n",
    "                                                                          'models/savedModel.pkl',\n",
    "                                                                           p_maxCateg    = 6 if g_debug else None,\n",
    "                                                                           p_CVSplits    = 3,\n",
    "                                                                           p_pointsBin   = 5,\n",
    "                                                                           p_maxFeatures = 12000,\n",
    "                                                                           p_reloadData  = False )"
   ]
  },
  {
   "cell_type": "code",
   "execution_count": 2,
   "metadata": {},
   "outputs": [
    {
     "name": "stdout",
     "output_type": "stream",
     "text": [
      "    Call HMsgExtractMessage ==> transform.\n",
      "    Call HMsgCountVectorizer ==> transform.\n",
      "    Call HMsgTfidfTransformer ==> transform.\n"
     ]
    },
    {
     "data": {
      "text/plain": [
       "array([[1., 1., 1., 0., 1., 0., 0., 0., 0., 0., 0., 1., 1., 0., 0., 0.,\n",
       "        0., 0., 0., 0., 0., 0., 0., 0., 0., 0., 1., 0., 0., 0., 0., 0.,\n",
       "        0., 0., 1., 1.]])"
      ]
     },
     "metadata": {},
     "output_type": "display_data"
    }
   ],
   "source": [
    "from sklearn.externals import joblib\n",
    "from models.HMsgClasses import getTokenizedMessage\n",
    "\n",
    "v_model = joblib.load(\"models/savedModel.pkl\")\n",
    "display(v_model.predict(getTokenizedMessage('We+are+more+than+50+peoples+on+the+street.+please+hlp+us+find+tent+and+food')))"
   ]
  },
  {
   "cell_type": "code",
   "execution_count": null,
   "metadata": {},
   "outputs": [],
   "source": []
  }
 ],
 "metadata": {
  "kernelspec": {
   "display_name": "Python 3",
   "language": "python",
   "name": "python3"
  },
  "language_info": {
   "codemirror_mode": {
    "name": "ipython",
    "version": 3
   },
   "file_extension": ".py",
   "mimetype": "text/x-python",
   "name": "python",
   "nbconvert_exporter": "python",
   "pygments_lexer": "ipython3",
   "version": "3.6.6"
  }
 },
 "nbformat": 4,
 "nbformat_minor": 2
}
