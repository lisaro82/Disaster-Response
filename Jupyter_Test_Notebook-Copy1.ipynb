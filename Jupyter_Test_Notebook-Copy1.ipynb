{
 "cells": [
  {
   "cell_type": "code",
   "execution_count": null,
   "metadata": {
    "scrolled": false
   },
   "outputs": [
    {
     "name": "stdout",
     "output_type": "stream",
     "text": [
      "Loading data...\n",
      "    Database filepath <<data/DisasterResponse.db>>\n",
      "Rows processed: 600 / 26177\n",
      "Rows processed: 1200 / 26177\n",
      "Rows processed: 1800 / 26177\n",
      "Rows processed: 2400 / 26177\n",
      "Rows processed: 3000 / 26177\n",
      "Rows processed: 3600 / 26177\n",
      "Rows processed: 4200 / 26177\n",
      "Rows processed: 4800 / 26177\n",
      "Rows processed: 5400 / 26177\n",
      "Rows processed: 6000 / 26177\n",
      "Rows processed: 6600 / 26177\n",
      "Rows processed: 7200 / 26177\n",
      "Rows processed: 7800 / 26177\n",
      "Rows processed: 8400 / 26177\n",
      "Rows processed: 9000 / 26177\n",
      "Rows processed: 9600 / 26177\n",
      "Rows processed: 10200 / 26177\n",
      "Rows processed: 10800 / 26177\n",
      "Rows processed: 11400 / 26177\n",
      "Rows processed: 12000 / 26177\n",
      "Rows processed: 12600 / 26177\n",
      "Rows processed: 13200 / 26177\n",
      "Rows processed: 13800 / 26177\n",
      "Rows processed: 14400 / 26177\n",
      "Rows processed: 15000 / 26177\n",
      "Rows processed: 15600 / 26177\n",
      "Rows processed: 16200 / 26177\n",
      "Rows processed: 16800 / 26177\n",
      "Rows processed: 17400 / 26177\n",
      "Rows processed: 18000 / 26177\n",
      "Rows processed: 18600 / 26177\n",
      "Rows processed: 19200 / 26177\n",
      "Rows processed: 19800 / 26177\n",
      "Rows processed: 20400 / 26177\n",
      "Rows processed: 21000 / 26177\n",
      "Rows processed: 21600 / 26177\n",
      "Rows processed: 22200 / 26177\n",
      "Rows processed: 22800 / 26177\n",
      "Rows processed: 23400 / 26177\n",
      "Rows processed: 24000 / 26177\n",
      "Rows processed: 24600 / 26177\n",
      "Rows processed: 25200 / 26177\n",
      "Rows processed: 25800 / 26177\n",
      "    Database loaded.\n",
      "Building model...\n",
      "Training model...\n",
      "------------------------------------------------------------------\n",
      "Top 100 words are the following: \n",
      "['water', 'peopl', 'food', 'help', 'need', 'pleas', 'earthquak', 'say', 'area', 'like', 'would', 'flood', 'countri', 'know', '000', 'find', 'thank', 'govern', 'also', 'get', 'hous', 'rain', 'go', 'haiti', 'one', 'inform', 'work', 'year', 'sandi', 'provid', 'make', 'affect', 'tent', 'give', 'includ', 'aid', 'famili', 'region', 'nation', 'good', 'suppli', 'relief', 'live', 'come', 'commun', 'urlplacehold', 'child', 'day', 'two', 'send', 'health', 'take', 'report', 'distribut', 'messag', 'well', 'villag', 'school', 'mani', 'state', 'caus', 'use', 'power', 'sever', 'want', 'support', 'emerg', 'assist', 'new', 'provinc', 'time', 'disast', 'million', 'damag', 'home', 'sinc', 'shelter', 'local', 'build', 'intern', 'continu', 'unit', 'citi', 'district', 'road', 'victim', 'storm', 'hit', 'receiv', 'even', 'last', 'diseas', 'part', 'call', 'crop', 'hurrican', 'leav', 'medic', 'system', 'river']\n",
      "\n",
      "-------------------------------------------------------------------\n",
      "    1. Fit model for class: <<genre>> ((21203, 12004)).\n",
      "    Tuning hyper-parameters for class: <<genre>> (Recall).\n",
      "       1. Grid Search model <<<class 'sklearn.svm.classes.LinearSVC'>>>; weight: <<balanced>>; parameters: <<{'C': [0.001, 0.01, 0.1, 1.0, 10.0]}>>\n",
      "Fitting 9 folds for each of 5 candidates, totalling 45 fits\n"
     ]
    },
    {
     "name": "stderr",
     "output_type": "stream",
     "text": [
      "[Parallel(n_jobs=1)]: Done  45 out of  45 | elapsed:   16.7s finished\n"
     ]
    },
    {
     "name": "stdout",
     "output_type": "stream",
     "text": [
      "       Best parameters selected: <<{'C': 1.0}>> for score <<0.9472789201788301>>.\n",
      "       2. Grid Search model <<<class 'sklearn.svm.classes.LinearSVC'>>>; weight: <<balanced>>; parameters: <<{'C': [0.3333, 0.381, 0.4286, 0.4762, 0.5238, 0.5714, 0.619, 0.6667, 0.7143, 0.7619, 0.8095, 0.8571, 0.9048, 0.9524, 1.0, 1.1429, 1.2857, 1.4286, 1.5714, 1.7143, 1.8571, 2.0, 2.1429, 2.2857, 2.4286, 2.5714, 2.7143, 2.8571, 3.0]}>>\n",
      "Fitting 9 folds for each of 29 candidates, totalling 261 fits\n"
     ]
    },
    {
     "name": "stderr",
     "output_type": "stream",
     "text": [
      "[Parallel(n_jobs=1)]: Done 261 out of 261 | elapsed:  1.9min finished\n"
     ]
    },
    {
     "name": "stdout",
     "output_type": "stream",
     "text": [
      "       Best parameters selected: <<{'C': 0.4762}>> for score <<0.9511822762393709>>.\n",
      "       3. Grid Search model <<<class 'sklearn.svm.classes.LinearSVC'>>>; weight: <<balanced>>; parameters: <<{'C': [0.1587, 0.1814, 0.2041, 0.2268, 0.2494, 0.2721, 0.2948, 0.3175, 0.3401, 0.3628, 0.3855, 0.4082, 0.4308, 0.4535, 0.4762, 0.5442, 0.6123, 0.6803, 0.7483, 0.8163, 0.8844, 0.9524, 1.0204, 1.0885, 1.1565, 1.2245, 1.2925, 1.3606, 1.4286]}>>\n",
      "Fitting 9 folds for each of 29 candidates, totalling 261 fits\n"
     ]
    },
    {
     "name": "stderr",
     "output_type": "stream",
     "text": [
      "[Parallel(n_jobs=1)]: Done 261 out of 261 | elapsed:  1.4min finished\n"
     ]
    },
    {
     "name": "stdout",
     "output_type": "stream",
     "text": [
      "       Best parameters selected: <<{'C': 0.4762}>> for score <<0.9511822762393709>>.\n",
      "       Final parameters selected: <<{'C': 0.4762}>> for score <<0.9511822762393709>>.\n",
      "\n",
      "          *** Score on validation dataset (macro/weighted) <<0.9498266364289162>> / <<0.9609507640067911>>.\n",
      "[[1124   30    0]\n",
      " [  39  952    7]\n",
      " [   1   15  188]]\n",
      "\n",
      "-------------------------------------------------------------------\n",
      "    2. Fit model for class: <<related>> ((21203, 12005)).\n",
      "    Tuning hyper-parameters for class: <<related>> (Recall).\n",
      "       1. Grid Search model <<<class 'sklearn.svm.classes.LinearSVC'>>>; weight: <<balanced>>; parameters: <<{'C': [0.001, 0.01, 0.1, 1.0, 10.0]}>>\n",
      "Fitting 9 folds for each of 5 candidates, totalling 45 fits\n"
     ]
    },
    {
     "name": "stderr",
     "output_type": "stream",
     "text": [
      "[Parallel(n_jobs=1)]: Done  45 out of  45 | elapsed:  1.1min finished\n"
     ]
    },
    {
     "name": "stdout",
     "output_type": "stream",
     "text": [
      "       Best parameters selected: <<{'C': 1.0}>> for score <<0.666347797971013>>.\n",
      "       2. Grid Search model <<<class 'sklearn.svm.classes.LinearSVC'>>>; weight: <<balanced>>; parameters: <<{'C': [0.3333, 0.381, 0.4286, 0.4762, 0.5238, 0.5714, 0.619, 0.6667, 0.7143, 0.7619, 0.8095, 0.8571, 0.9048, 0.9524, 1.0, 1.1429, 1.2857, 1.4286, 1.5714, 1.7143, 1.8571, 2.0, 2.1429, 2.2857, 2.4286, 2.5714, 2.7143, 2.8571, 3.0]}>>\n",
      "Fitting 9 folds for each of 29 candidates, totalling 261 fits\n"
     ]
    },
    {
     "name": "stderr",
     "output_type": "stream",
     "text": [
      "[Parallel(n_jobs=1)]: Done 261 out of 261 | elapsed:  7.6min finished\n"
     ]
    },
    {
     "name": "stdout",
     "output_type": "stream",
     "text": [
      "       Best parameters selected: <<{'C': 1.5714}>> for score <<0.6762501890995067>>.\n",
      "       3. Grid Search model <<<class 'sklearn.svm.classes.LinearSVC'>>>; weight: <<balanced>>; parameters: <<{'C': [0.5238, 0.5986, 0.6735, 0.7483, 0.8231, 0.8979, 0.9728, 1.0476, 1.1224, 1.1973, 1.2721, 1.3469, 1.4217, 1.4966, 1.5714, 1.7959, 2.0204, 2.2449, 2.4693, 2.6938, 2.9183, 3.1428, 3.3673, 3.5918, 3.8163, 4.0407, 4.2652, 4.4897, 4.7142]}>>\n",
      "Fitting 9 folds for each of 29 candidates, totalling 261 fits\n"
     ]
    },
    {
     "name": "stderr",
     "output_type": "stream",
     "text": [
      "[Parallel(n_jobs=1)]: Done 261 out of 261 | elapsed:  9.6min finished\n"
     ]
    },
    {
     "name": "stdout",
     "output_type": "stream",
     "text": [
      "       Best parameters selected: <<{'C': 1.5714}>> for score <<0.6762501890995067>>.\n",
      "       3. Grid Search model <<<class 'sklearn.svm.classes.LinearSVC'>>>; weight: <<{1: 1.0, 0: 6.557723577235772, 2: 106.8344370860927}>>; parameters: <<{'C': [0.001, 0.01, 0.1, 1.0, 10.0]}>>\n",
      "Fitting 9 folds for each of 5 candidates, totalling 45 fits\n"
     ]
    },
    {
     "name": "stderr",
     "output_type": "stream",
     "text": [
      "[Parallel(n_jobs=1)]: Done  45 out of  45 | elapsed:  1.4min finished\n"
     ]
    },
    {
     "name": "stdout",
     "output_type": "stream",
     "text": [
      "       Best parameters selected: <<{'C': 1.0}>> for score <<0.6500406031151366>>.\n",
      "       4. Grid Search model <<<class 'sklearn.svm.classes.LinearSVC'>>>; weight: <<{1: 1.0, 0: 6.557723577235772, 2: 106.8344370860927}>>; parameters: <<{'C': [0.3333, 0.381, 0.4286, 0.4762, 0.5238, 0.5714, 0.619, 0.6667, 0.7143, 0.7619, 0.8095, 0.8571, 0.9048, 0.9524, 1.0, 1.1429, 1.2857, 1.4286, 1.5714, 1.7143, 1.8571, 2.0, 2.1429, 2.2857, 2.4286, 2.5714, 2.7143, 2.8571, 3.0]}>>\n",
      "Fitting 9 folds for each of 29 candidates, totalling 261 fits\n"
     ]
    },
    {
     "name": "stderr",
     "output_type": "stream",
     "text": [
      "[Parallel(n_jobs=1)]: Done 261 out of 261 | elapsed: 11.2min finished\n"
     ]
    },
    {
     "name": "stdout",
     "output_type": "stream",
     "text": [
      "       Best parameters selected: <<{'C': 0.6667}>> for score <<0.6600225671468186>>.\n",
      "       5. Grid Search model <<<class 'sklearn.svm.classes.LinearSVC'>>>; weight: <<{1: 1.0, 0: 6.557723577235772, 2: 106.8344370860927}>>; parameters: <<{'C': [0.2222, 0.254, 0.2857, 0.3175, 0.3492, 0.381, 0.4127, 0.4445, 0.4762, 0.508, 0.5397, 0.5715, 0.6032, 0.635, 0.6667, 0.7619, 0.8572, 0.9524, 1.0477, 1.1429, 1.2382, 1.3334, 1.4286, 1.5239, 1.6191, 1.7144, 1.8096, 1.9049, 2.0001]}>>\n",
      "Fitting 9 folds for each of 29 candidates, totalling 261 fits\n"
     ]
    },
    {
     "name": "stderr",
     "output_type": "stream",
     "text": [
      "[Parallel(n_jobs=1)]: Done 261 out of 261 | elapsed:  8.7min finished\n"
     ]
    },
    {
     "name": "stdout",
     "output_type": "stream",
     "text": [
      "       Best parameters selected: <<{'C': 0.6667}>> for score <<0.6600225671468186>>.\n",
      "       Final parameters selected: <<{'C': 1.5714}>> for score <<0.6762501890995067>>.\n",
      "\n",
      "          *** Score on validation dataset (macro/weighted) <<0.6359457426781754>> / <<0.8115449915110357>>.\n",
      "[[ 371  169    9]\n",
      " [ 245 1535   11]\n",
      " [   4    6    6]]\n",
      "\n",
      "-------------------------------------------------------------------\n",
      "    3. Fit model for class: <<request>> ((21203, 12005)).\n",
      "    Tuning hyper-parameters for class: <<request>> (Recall).\n",
      "       1. Grid Search model <<<class 'sklearn.svm.classes.LinearSVC'>>>; weight: <<balanced>>; parameters: <<{'C': [0.001, 0.01, 0.1, 1.0, 10.0]}>>\n",
      "Fitting 9 folds for each of 5 candidates, totalling 45 fits\n"
     ]
    },
    {
     "name": "stderr",
     "output_type": "stream",
     "text": [
      "[Parallel(n_jobs=1)]: Done  45 out of  45 | elapsed:   15.9s finished\n"
     ]
    },
    {
     "name": "stdout",
     "output_type": "stream",
     "text": [
      "       Best parameters selected: <<{'C': 0.1}>> for score <<0.8294254777933429>>.\n",
      "       2. Grid Search model <<<class 'sklearn.svm.classes.LinearSVC'>>>; weight: <<balanced>>; parameters: <<{'C': [0.0333, 0.0381, 0.0429, 0.0476, 0.0524, 0.0571, 0.0619, 0.0667, 0.0714, 0.0762, 0.081, 0.0857, 0.0905, 0.0952, 0.1, 0.1143, 0.1286, 0.1429, 0.1571, 0.1714, 0.1857, 0.2, 0.2143, 0.2286, 0.2429, 0.2571, 0.2714, 0.2857, 0.3]}>>\n",
      "Fitting 9 folds for each of 29 candidates, totalling 261 fits\n"
     ]
    },
    {
     "name": "stderr",
     "output_type": "stream",
     "text": [
      "[Parallel(n_jobs=1)]: Done 261 out of 261 | elapsed:   38.3s finished\n"
     ]
    },
    {
     "name": "stdout",
     "output_type": "stream",
     "text": [
      "       Best parameters selected: <<{'C': 0.0667}>> for score <<0.8309667041398224>>.\n",
      "       3. Grid Search model <<<class 'sklearn.svm.classes.LinearSVC'>>>; weight: <<balanced>>; parameters: <<{'C': [0.0222, 0.0254, 0.0286, 0.0318, 0.0349, 0.0381, 0.0413, 0.0445, 0.0476, 0.0508, 0.054, 0.0572, 0.0603, 0.0635, 0.0667, 0.0762, 0.0858, 0.0953, 0.1048, 0.1143, 0.1239, 0.1334, 0.1429, 0.1525, 0.162, 0.1715, 0.181, 0.1906, 0.2001]}>>\n",
      "Fitting 9 folds for each of 29 candidates, totalling 261 fits\n"
     ]
    },
    {
     "name": "stderr",
     "output_type": "stream",
     "text": [
      "[Parallel(n_jobs=1)]: Done 261 out of 261 | elapsed:   30.5s finished\n"
     ]
    },
    {
     "name": "stdout",
     "output_type": "stream",
     "text": [
      "       Best parameters selected: <<{'C': 0.0667}>> for score <<0.8309667041398224>>.\n",
      "       3. Grid Search model <<<class 'sklearn.svm.classes.LinearSVC'>>>; weight: <<{0: 1.0, 1: 9.895091164095373}>>; parameters: <<{'C': [0.001, 0.01, 0.1, 1.0, 10.0]}>>\n",
      "Fitting 9 folds for each of 5 candidates, totalling 45 fits\n"
     ]
    },
    {
     "name": "stderr",
     "output_type": "stream",
     "text": [
      "[Parallel(n_jobs=1)]: Done  45 out of  45 | elapsed:   24.4s finished\n"
     ]
    },
    {
     "name": "stdout",
     "output_type": "stream",
     "text": [
      "       Best parameters selected: <<{'C': 0.1}>> for score <<0.8198426949650284>>.\n",
      "       4. Grid Search model <<<class 'sklearn.svm.classes.LinearSVC'>>>; weight: <<{0: 1.0, 1: 9.895091164095373}>>; parameters: <<{'C': [0.0333, 0.0381, 0.0429, 0.0476, 0.0524, 0.0571, 0.0619, 0.0667, 0.0714, 0.0762, 0.081, 0.0857, 0.0905, 0.0952, 0.1, 0.1143, 0.1286, 0.1429, 0.1571, 0.1714, 0.1857, 0.2, 0.2143, 0.2286, 0.2429, 0.2571, 0.2714, 0.2857, 0.3]}>>\n",
      "Fitting 9 folds for each of 29 candidates, totalling 261 fits\n"
     ]
    },
    {
     "name": "stderr",
     "output_type": "stream",
     "text": [
      "[Parallel(n_jobs=1)]: Done 261 out of 261 | elapsed:  1.4min finished\n"
     ]
    },
    {
     "name": "stdout",
     "output_type": "stream",
     "text": [
      "       Best parameters selected: <<{'C': 0.0429}>> for score <<0.8246460001259186>>.\n",
      "       5. Grid Search model <<<class 'sklearn.svm.classes.LinearSVC'>>>; weight: <<{0: 1.0, 1: 9.895091164095373}>>; parameters: <<{'C': [0.0143, 0.0163, 0.0184, 0.0204, 0.0225, 0.0245, 0.0266, 0.0286, 0.0306, 0.0327, 0.0347, 0.0368, 0.0388, 0.0409, 0.0429, 0.049, 0.0552, 0.0613, 0.0674, 0.0735, 0.0797, 0.0858, 0.0919, 0.0981, 0.1042, 0.1103, 0.1164, 0.1226, 0.1287]}>>\n",
      "Fitting 9 folds for each of 29 candidates, totalling 261 fits\n"
     ]
    },
    {
     "name": "stderr",
     "output_type": "stream",
     "text": [
      "[Parallel(n_jobs=1)]: Done 261 out of 261 | elapsed:   49.2s finished\n"
     ]
    },
    {
     "name": "stdout",
     "output_type": "stream",
     "text": [
      "       Best parameters selected: <<{'C': 0.0409}>> for score <<0.8251191685999631>>.\n",
      "       6. Grid Search model <<<class 'sklearn.svm.classes.LinearSVC'>>>; weight: <<{0: 1.0, 1: 9.895091164095373}>>; parameters: <<{'C': [0.0136, 0.0156, 0.0175, 0.0195, 0.0214, 0.0234, 0.0253, 0.0273, 0.0292, 0.0312, 0.0331, 0.0351, 0.037, 0.039, 0.0409, 0.0467, 0.0526, 0.0584, 0.0643, 0.0701, 0.076, 0.0818, 0.0876, 0.0935, 0.0993, 0.1052, 0.111, 0.1169, 0.1227]}>>\n",
      "Fitting 9 folds for each of 29 candidates, totalling 261 fits\n"
     ]
    },
    {
     "name": "stderr",
     "output_type": "stream",
     "text": [
      "[Parallel(n_jobs=1)]: Done 261 out of 261 | elapsed:   47.4s finished\n"
     ]
    },
    {
     "name": "stdout",
     "output_type": "stream",
     "text": [
      "       Best parameters selected: <<{'C': 0.0409}>> for score <<0.8251191685999631>>.\n",
      "       Final parameters selected: <<{'C': 0.0667}>> for score <<0.8309667041398224>>.\n",
      "\n",
      "          *** Score on validation dataset (macro/weighted) <<0.8158040209916358>> / <<0.8629032258064516>>.\n",
      "[[1719  214]\n",
      " [ 109  314]]\n",
      "\n",
      "-------------------------------------------------------------------\n",
      "    4. Fit model for class: <<offer>> ((21203, 12005)).\n",
      "    Tuning hyper-parameters for class: <<offer>> (Recall).\n",
      "       1. Grid Search model <<<class 'sklearn.svm.classes.LinearSVC'>>>; weight: <<balanced>>; parameters: <<{'C': [0.001, 0.01, 0.1, 1.0, 10.0]}>>\n",
      "Fitting 9 folds for each of 5 candidates, totalling 45 fits\n"
     ]
    },
    {
     "name": "stderr",
     "output_type": "stream",
     "text": [
      "[Parallel(n_jobs=1)]: Done  45 out of  45 | elapsed:    6.8s finished\n"
     ]
    },
    {
     "name": "stdout",
     "output_type": "stream",
     "text": [
      "       Best parameters selected: <<{'C': 0.001}>> for score <<0.6666288124445031>>.\n",
      "       2. Grid Search model <<<class 'sklearn.svm.classes.LinearSVC'>>>; weight: <<balanced>>; parameters: <<{'C': [0.0003, 0.0004, 0.0004, 0.0005, 0.0005, 0.0006, 0.0006, 0.0007, 0.0007, 0.0008, 0.0008, 0.0009, 0.0009, 0.001, 0.001, 0.0011, 0.0013, 0.0014, 0.0016, 0.0017, 0.0019, 0.002, 0.0021, 0.0023, 0.0024, 0.0026, 0.0027, 0.0029, 0.003]}>>\n",
      "Fitting 9 folds for each of 29 candidates, totalling 261 fits\n"
     ]
    },
    {
     "name": "stderr",
     "output_type": "stream",
     "text": [
      "[Parallel(n_jobs=1)]: Done 261 out of 261 | elapsed:   19.1s finished\n"
     ]
    },
    {
     "name": "stdout",
     "output_type": "stream",
     "text": [
      "       Best parameters selected: <<{'C': 0.0016}>> for score <<0.675592259924199>>.\n",
      "       3. Grid Search model <<<class 'sklearn.svm.classes.LinearSVC'>>>; weight: <<balanced>>; parameters: <<{'C': [0.0005, 0.0006, 0.0007, 0.0008, 0.0008, 0.0009, 0.001, 0.0011, 0.0011, 0.0012, 0.0013, 0.0014, 0.0014, 0.0015, 0.0016, 0.0018, 0.0021, 0.0023, 0.0025, 0.0027, 0.003, 0.0032, 0.0034, 0.0037, 0.0039, 0.0041, 0.0043, 0.0046, 0.0048]}>>\n",
      "Fitting 9 folds for each of 29 candidates, totalling 261 fits\n"
     ]
    },
    {
     "name": "stderr",
     "output_type": "stream",
     "text": [
      "[Parallel(n_jobs=1)]: Done 261 out of 261 | elapsed:   23.7s finished\n"
     ]
    },
    {
     "name": "stdout",
     "output_type": "stream",
     "text": [
      "       Best parameters selected: <<{'C': 0.0016}>> for score <<0.675592259924199>>.\n",
      "       3. Grid Search model <<<class 'sklearn.svm.classes.LinearSVC'>>>; weight: <<{0: 1.0, 1: 242.71264367816093}>>; parameters: <<{'C': [0.001, 0.01, 0.1, 1.0, 10.0]}>>\n",
      "Fitting 9 folds for each of 5 candidates, totalling 45 fits\n"
     ]
    },
    {
     "name": "stderr",
     "output_type": "stream",
     "text": [
      "[Parallel(n_jobs=1)]: Done  45 out of  45 | elapsed:    7.1s finished\n"
     ]
    },
    {
     "name": "stdout",
     "output_type": "stream",
     "text": [
      "       Best parameters selected: <<{'C': 0.001}>> for score <<0.6692153905216266>>.\n",
      "       4. Grid Search model <<<class 'sklearn.svm.classes.LinearSVC'>>>; weight: <<{0: 1.0, 1: 242.71264367816093}>>; parameters: <<{'C': [0.0003, 0.0004, 0.0004, 0.0005, 0.0005, 0.0006, 0.0006, 0.0007, 0.0007, 0.0008, 0.0008, 0.0009, 0.0009, 0.001, 0.001, 0.0011, 0.0013, 0.0014, 0.0016, 0.0017, 0.0019, 0.002, 0.0021, 0.0023, 0.0024, 0.0026, 0.0027, 0.0029, 0.003]}>>\n",
      "Fitting 9 folds for each of 29 candidates, totalling 261 fits\n"
     ]
    },
    {
     "name": "stderr",
     "output_type": "stream",
     "text": [
      "[Parallel(n_jobs=1)]: Done 261 out of 261 | elapsed:   26.0s finished\n"
     ]
    },
    {
     "name": "stdout",
     "output_type": "stream",
     "text": [
      "       Best parameters selected: <<{'C': 0.0004}>> for score <<0.6786917564174092>>.\n",
      "       5. Grid Search model <<<class 'sklearn.svm.classes.LinearSVC'>>>; weight: <<{0: 1.0, 1: 242.71264367816093}>>; parameters: <<{'C': [0.0001, 0.0002, 0.0002, 0.0002, 0.0002, 0.0002, 0.0002, 0.0003, 0.0003, 0.0003, 0.0003, 0.0003, 0.0004, 0.0004, 0.0004, 0.0005, 0.0005, 0.0006, 0.0006, 0.0007, 0.0007, 0.0008, 0.0009, 0.0009, 0.001, 0.001, 0.0011, 0.0011, 0.0012]}>>\n",
      "Fitting 9 folds for each of 29 candidates, totalling 261 fits\n"
     ]
    },
    {
     "name": "stderr",
     "output_type": "stream",
     "text": [
      "[Parallel(n_jobs=1)]: Done 261 out of 261 | elapsed:   17.4s finished\n"
     ]
    },
    {
     "name": "stdout",
     "output_type": "stream",
     "text": [
      "       Best parameters selected: <<{'C': 0.0004}>> for score <<0.6786917564174092>>.\n",
      "       Final parameters selected: <<{'C': 0.0016}>> for score <<0.675592259924199>>.\n",
      "\n",
      "          *** Score on validation dataset (macro/weighted) <<0.6169276732657014>> / <<0.9227504244482173>>.\n",
      "[[2170  173]\n",
      " [   9    4]]\n",
      "\n",
      "-------------------------------------------------------------------\n",
      "    5. Fit model for class: <<aid_related>> ((21203, 12005)).\n",
      "    Tuning hyper-parameters for class: <<aid_related>> (Recall).\n",
      "       1. Grid Search model <<<class 'sklearn.svm.classes.LinearSVC'>>>; weight: <<balanced>>; parameters: <<{'C': [0.001, 0.01, 0.1, 1.0, 10.0]}>>\n",
      "Fitting 9 folds for each of 5 candidates, totalling 45 fits\n"
     ]
    },
    {
     "name": "stderr",
     "output_type": "stream",
     "text": [
      "[Parallel(n_jobs=1)]: Done  45 out of  45 | elapsed:   19.6s finished\n"
     ]
    },
    {
     "name": "stdout",
     "output_type": "stream",
     "text": [
      "       Best parameters selected: <<{'C': 0.1}>> for score <<0.7734464532268543>>.\n",
      "       2. Grid Search model <<<class 'sklearn.svm.classes.LinearSVC'>>>; weight: <<balanced>>; parameters: <<{'C': [0.0333, 0.0381, 0.0429, 0.0476, 0.0524, 0.0571, 0.0619, 0.0667, 0.0714, 0.0762, 0.081, 0.0857, 0.0905, 0.0952, 0.1, 0.1143, 0.1286, 0.1429, 0.1571, 0.1714, 0.1857, 0.2, 0.2143, 0.2286, 0.2429, 0.2571, 0.2714, 0.2857, 0.3]}>>\n",
      "Fitting 9 folds for each of 29 candidates, totalling 261 fits\n"
     ]
    },
    {
     "name": "stderr",
     "output_type": "stream",
     "text": [
      "[Parallel(n_jobs=1)]: Done 261 out of 261 | elapsed:   25.8s finished\n"
     ]
    },
    {
     "name": "stdout",
     "output_type": "stream",
     "text": [
      "       Best parameters selected: <<{'C': 0.081}>> for score <<0.7745478751190874>>.\n",
      "       3. Grid Search model <<<class 'sklearn.svm.classes.LinearSVC'>>>; weight: <<balanced>>; parameters: <<{'C': [0.027, 0.0309, 0.0347, 0.0386, 0.0424, 0.0463, 0.0501, 0.054, 0.0579, 0.0617, 0.0656, 0.0694, 0.0733, 0.0771, 0.081, 0.0926, 0.1041, 0.1157, 0.1273, 0.1389, 0.1504, 0.162, 0.1736, 0.1851, 0.1967, 0.2083, 0.2199, 0.2314, 0.243]}>>\n",
      "Fitting 9 folds for each of 29 candidates, totalling 261 fits\n"
     ]
    },
    {
     "name": "stderr",
     "output_type": "stream",
     "text": [
      "[Parallel(n_jobs=1)]: Done 261 out of 261 | elapsed:   22.9s finished\n"
     ]
    },
    {
     "name": "stdout",
     "output_type": "stream",
     "text": [
      "       Best parameters selected: <<{'C': 0.081}>> for score <<0.7745478751190874>>.\n",
      "       3. Grid Search model <<<class 'sklearn.svm.classes.LinearSVC'>>>; weight: <<{0: 1.0, 1: 2.844185515193055}>>; parameters: <<{'C': [0.001, 0.01, 0.1, 1.0, 10.0]}>>\n",
      "Fitting 9 folds for each of 5 candidates, totalling 45 fits\n"
     ]
    },
    {
     "name": "stderr",
     "output_type": "stream",
     "text": [
      "[Parallel(n_jobs=1)]: Done  45 out of  45 | elapsed:   23.6s finished\n"
     ]
    },
    {
     "name": "stdout",
     "output_type": "stream",
     "text": [
      "       Best parameters selected: <<{'C': 0.1}>> for score <<0.7630201936910235>>.\n",
      "       4. Grid Search model <<<class 'sklearn.svm.classes.LinearSVC'>>>; weight: <<{0: 1.0, 1: 2.844185515193055}>>; parameters: <<{'C': [0.0333, 0.0381, 0.0429, 0.0476, 0.0524, 0.0571, 0.0619, 0.0667, 0.0714, 0.0762, 0.081, 0.0857, 0.0905, 0.0952, 0.1, 0.1143, 0.1286, 0.1429, 0.1571, 0.1714, 0.1857, 0.2, 0.2143, 0.2286, 0.2429, 0.2571, 0.2714, 0.2857, 0.3]}>>\n",
      "Fitting 9 folds for each of 29 candidates, totalling 261 fits\n"
     ]
    },
    {
     "name": "stderr",
     "output_type": "stream",
     "text": [
      "[Parallel(n_jobs=1)]: Done 261 out of 261 | elapsed:   41.9s finished\n"
     ]
    },
    {
     "name": "stdout",
     "output_type": "stream",
     "text": [
      "       Best parameters selected: <<{'C': 0.1143}>> for score <<0.7635513004912967>>.\n",
      "       5. Grid Search model <<<class 'sklearn.svm.classes.LinearSVC'>>>; weight: <<{0: 1.0, 1: 2.844185515193055}>>; parameters: <<{'C': [0.0381, 0.0435, 0.049, 0.0544, 0.0599, 0.0653, 0.0708, 0.0762, 0.0816, 0.0871, 0.0925, 0.098, 0.1034, 0.1089, 0.1143, 0.1306, 0.147, 0.1633, 0.1796, 0.1959, 0.2123, 0.2286, 0.2449, 0.2613, 0.2776, 0.2939, 0.3102, 0.3266, 0.3429]}>>\n",
      "Fitting 9 folds for each of 29 candidates, totalling 261 fits\n"
     ]
    },
    {
     "name": "stderr",
     "output_type": "stream",
     "text": [
      "[Parallel(n_jobs=1)]: Done 261 out of 261 | elapsed:   45.6s finished\n"
     ]
    },
    {
     "name": "stdout",
     "output_type": "stream",
     "text": [
      "       Best parameters selected: <<{'C': 0.1306}>> for score <<0.7636363687251194>>.\n",
      "       6. Grid Search model <<<class 'sklearn.svm.classes.LinearSVC'>>>; weight: <<{0: 1.0, 1: 2.844185515193055}>>; parameters: <<{'C': [0.0435, 0.0498, 0.056, 0.0622, 0.0684, 0.0746, 0.0808, 0.0871, 0.0933, 0.0995, 0.1057, 0.1119, 0.1182, 0.1244, 0.1306, 0.1493, 0.1679, 0.1866, 0.2052, 0.2239, 0.2425, 0.2612, 0.2799, 0.2985, 0.3172, 0.3358, 0.3545, 0.3731, 0.3918]}>>\n",
      "Fitting 9 folds for each of 29 candidates, totalling 261 fits\n"
     ]
    },
    {
     "name": "stderr",
     "output_type": "stream",
     "text": [
      "[Parallel(n_jobs=1)]: Done 261 out of 261 | elapsed:   50.2s finished\n"
     ]
    },
    {
     "name": "stdout",
     "output_type": "stream",
     "text": [
      "       Best parameters selected: <<{'C': 0.1119}>> for score <<0.7636468058699657>>.\n",
      "       7. Grid Search model <<<class 'sklearn.svm.classes.LinearSVC'>>>; weight: <<{0: 1.0, 1: 2.844185515193055}>>; parameters: <<{'C': [0.0373, 0.0426, 0.048, 0.0533, 0.0586, 0.0639, 0.0693, 0.0746, 0.0799, 0.0853, 0.0906, 0.0959, 0.1012, 0.1066, 0.1119, 0.1279, 0.1439, 0.1599, 0.1758, 0.1918, 0.2078, 0.2238, 0.2398, 0.2558, 0.2718, 0.2877, 0.3037, 0.3197, 0.3357]}>>\n",
      "Fitting 9 folds for each of 29 candidates, totalling 261 fits\n"
     ]
    },
    {
     "name": "stderr",
     "output_type": "stream",
     "text": [
      "[Parallel(n_jobs=1)]: Done 261 out of 261 | elapsed:   45.5s finished\n"
     ]
    },
    {
     "name": "stdout",
     "output_type": "stream",
     "text": [
      "       Best parameters selected: <<{'C': 0.1119}>> for score <<0.7636468058699657>>.\n",
      "       Final parameters selected: <<{'C': 0.081}>> for score <<0.7745478751190874>>.\n",
      "\n",
      "          *** Score on validation dataset (macro/weighted) <<0.776277326321384>> / <<0.780560271646859>>.\n",
      "[[1087  262]\n",
      " [ 255  752]]\n",
      "\n",
      "-------------------------------------------------------------------\n",
      "    6. Fit model for class: <<medical_help>> ((21203, 12005)).\n",
      "    Tuning hyper-parameters for class: <<medical_help>> (Recall).\n",
      "       1. Grid Search model <<<class 'sklearn.svm.classes.LinearSVC'>>>; weight: <<balanced>>; parameters: <<{'C': [0.001, 0.01, 0.1, 1.0, 10.0]}>>\n",
      "Fitting 9 folds for each of 5 candidates, totalling 45 fits\n"
     ]
    },
    {
     "name": "stderr",
     "output_type": "stream",
     "text": [
      "[Parallel(n_jobs=1)]: Done  45 out of  45 | elapsed:   18.7s finished\n"
     ]
    },
    {
     "name": "stdout",
     "output_type": "stream",
     "text": [
      "       Best parameters selected: <<{'C': 0.01}>> for score <<0.7777215932326893>>.\n",
      "       2. Grid Search model <<<class 'sklearn.svm.classes.LinearSVC'>>>; weight: <<balanced>>; parameters: <<{'C': [0.0033, 0.0038, 0.0043, 0.0048, 0.0052, 0.0057, 0.0062, 0.0067, 0.0071, 0.0076, 0.0081, 0.0086, 0.009, 0.0095, 0.01, 0.0114, 0.0129, 0.0143, 0.0157, 0.0171, 0.0186, 0.02, 0.0214, 0.0229, 0.0243, 0.0257, 0.0271, 0.0286, 0.03]}>>\n",
      "Fitting 9 folds for each of 29 candidates, totalling 261 fits\n"
     ]
    },
    {
     "name": "stderr",
     "output_type": "stream",
     "text": [
      "[Parallel(n_jobs=1)]: Done 261 out of 261 | elapsed:   17.5s finished\n"
     ]
    },
    {
     "name": "stdout",
     "output_type": "stream",
     "text": [
      "       Best parameters selected: <<{'C': 0.0257}>> for score <<0.7852501427173945>>.\n",
      "       3. Grid Search model <<<class 'sklearn.svm.classes.LinearSVC'>>>; weight: <<balanced>>; parameters: <<{'C': [0.0086, 0.0098, 0.011, 0.0122, 0.0135, 0.0147, 0.0159, 0.0171, 0.0184, 0.0196, 0.0208, 0.022, 0.0233, 0.0245, 0.0257, 0.0294, 0.033, 0.0367, 0.0404, 0.0441, 0.0477, 0.0514, 0.0551, 0.0587, 0.0624, 0.0661, 0.0698, 0.0734, 0.0771]}>>\n",
      "Fitting 9 folds for each of 29 candidates, totalling 261 fits\n"
     ]
    },
    {
     "name": "stderr",
     "output_type": "stream",
     "text": [
      "[Parallel(n_jobs=1)]: Done 261 out of 261 | elapsed:   27.8s finished\n"
     ]
    },
    {
     "name": "stdout",
     "output_type": "stream",
     "text": [
      "       Best parameters selected: <<{'C': 0.0257}>> for score <<0.7852501427173945>>.\n",
      "       3. Grid Search model <<<class 'sklearn.svm.classes.LinearSVC'>>>; weight: <<{0: 1.0, 1: 23.484375}>>; parameters: <<{'C': [0.001, 0.01, 0.1, 1.0, 10.0]}>>\n",
      "Fitting 9 folds for each of 5 candidates, totalling 45 fits\n"
     ]
    },
    {
     "name": "stderr",
     "output_type": "stream",
     "text": [
      "[Parallel(n_jobs=1)]: Done  45 out of  45 | elapsed:   23.5s finished\n"
     ]
    },
    {
     "name": "stdout",
     "output_type": "stream",
     "text": [
      "       Best parameters selected: <<{'C': 0.1}>> for score <<0.7635575455196484>>.\n",
      "       4. Grid Search model <<<class 'sklearn.svm.classes.LinearSVC'>>>; weight: <<{0: 1.0, 1: 23.484375}>>; parameters: <<{'C': [0.0333, 0.0381, 0.0429, 0.0476, 0.0524, 0.0571, 0.0619, 0.0667, 0.0714, 0.0762, 0.081, 0.0857, 0.0905, 0.0952, 0.1, 0.1143, 0.1286, 0.1429, 0.1571, 0.1714, 0.1857, 0.2, 0.2143, 0.2286, 0.2429, 0.2571, 0.2714, 0.2857, 0.3]}>>\n",
      "Fitting 9 folds for each of 29 candidates, totalling 261 fits\n"
     ]
    },
    {
     "name": "stderr",
     "output_type": "stream",
     "text": [
      "[Parallel(n_jobs=1)]: Done 261 out of 261 | elapsed:  2.8min finished\n"
     ]
    },
    {
     "name": "stdout",
     "output_type": "stream",
     "text": [
      "       Best parameters selected: <<{'C': 0.0333}>> for score <<0.7777038899899166>>.\n",
      "       5. Grid Search model <<<class 'sklearn.svm.classes.LinearSVC'>>>; weight: <<{0: 1.0, 1: 23.484375}>>; parameters: <<{'C': [0.0111, 0.0127, 0.0143, 0.0159, 0.0174, 0.019, 0.0206, 0.0222, 0.0238, 0.0254, 0.027, 0.0285, 0.0301, 0.0317, 0.0333, 0.0381, 0.0428, 0.0476, 0.0523, 0.0571, 0.0618, 0.0666, 0.0714, 0.0761, 0.0809, 0.0856, 0.0904, 0.0951, 0.0999]}>>\n",
      "Fitting 9 folds for each of 29 candidates, totalling 261 fits\n"
     ]
    },
    {
     "name": "stderr",
     "output_type": "stream",
     "text": [
      "[Parallel(n_jobs=1)]: Done 261 out of 261 | elapsed:  1.3min finished\n"
     ]
    },
    {
     "name": "stdout",
     "output_type": "stream",
     "text": [
      "       Best parameters selected: <<{'C': 0.0222}>> for score <<0.7786165187812484>>.\n",
      "       6. Grid Search model <<<class 'sklearn.svm.classes.LinearSVC'>>>; weight: <<{0: 1.0, 1: 23.484375}>>; parameters: <<{'C': [0.0074, 0.0085, 0.0095, 0.0106, 0.0116, 0.0127, 0.0137, 0.0148, 0.0159, 0.0169, 0.018, 0.019, 0.0201, 0.0211, 0.0222, 0.0254, 0.0285, 0.0317, 0.0349, 0.0381, 0.0412, 0.0444, 0.0476, 0.0507, 0.0539, 0.0571, 0.0603, 0.0634, 0.0666]}>>\n",
      "Fitting 9 folds for each of 29 candidates, totalling 261 fits\n"
     ]
    },
    {
     "name": "stderr",
     "output_type": "stream",
     "text": [
      "[Parallel(n_jobs=1)]: Done 261 out of 261 | elapsed:   58.5s finished\n"
     ]
    },
    {
     "name": "stdout",
     "output_type": "stream",
     "text": [
      "       Best parameters selected: <<{'C': 0.0201}>> for score <<0.7793023170875973>>.\n",
      "       7. Grid Search model <<<class 'sklearn.svm.classes.LinearSVC'>>>; weight: <<{0: 1.0, 1: 23.484375}>>; parameters: <<{'C': [0.0067, 0.0077, 0.0086, 0.0096, 0.0105, 0.0115, 0.0124, 0.0134, 0.0144, 0.0153, 0.0163, 0.0172, 0.0182, 0.0191, 0.0201, 0.023, 0.0258, 0.0287, 0.0316, 0.0345, 0.0373, 0.0402, 0.0431, 0.0459, 0.0488, 0.0517, 0.0546, 0.0574, 0.0603]}>>\n",
      "Fitting 9 folds for each of 29 candidates, totalling 261 fits\n"
     ]
    },
    {
     "name": "stderr",
     "output_type": "stream",
     "text": [
      "[Parallel(n_jobs=1)]: Done 261 out of 261 | elapsed:   54.0s finished\n"
     ]
    },
    {
     "name": "stdout",
     "output_type": "stream",
     "text": [
      "       Best parameters selected: <<{'C': 0.0201}>> for score <<0.7793023170875973>>.\n",
      "       Final parameters selected: <<{'C': 0.0257}>> for score <<0.7852501427173945>>.\n",
      "\n",
      "          *** Score on validation dataset (macro/weighted) <<0.7710548651973641>> / <<0.8769100169779287>>.\n",
      "[[1941  221]\n",
      " [  69  125]]\n",
      "\n",
      "-------------------------------------------------------------------\n",
      "    7. Fit model for class: <<medical_products>> ((21203, 12005)).\n",
      "    Tuning hyper-parameters for class: <<medical_products>> (Recall).\n",
      "       1. Grid Search model <<<class 'sklearn.svm.classes.LinearSVC'>>>; weight: <<balanced>>; parameters: <<{'C': [0.001, 0.01, 0.1, 1.0, 10.0]}>>\n",
      "Fitting 9 folds for each of 5 candidates, totalling 45 fits\n"
     ]
    },
    {
     "name": "stderr",
     "output_type": "stream",
     "text": [
      "[Parallel(n_jobs=1)]: Done  45 out of  45 | elapsed:   13.4s finished\n"
     ]
    },
    {
     "name": "stdout",
     "output_type": "stream",
     "text": [
      "       Best parameters selected: <<{'C': 0.01}>> for score <<0.7918975619144512>>.\n",
      "       2. Grid Search model <<<class 'sklearn.svm.classes.LinearSVC'>>>; weight: <<balanced>>; parameters: <<{'C': [0.0033, 0.0038, 0.0043, 0.0048, 0.0052, 0.0057, 0.0062, 0.0067, 0.0071, 0.0076, 0.0081, 0.0086, 0.009, 0.0095, 0.01, 0.0114, 0.0129, 0.0143, 0.0157, 0.0171, 0.0186, 0.02, 0.0214, 0.0229, 0.0243, 0.0257, 0.0271, 0.0286, 0.03]}>>\n",
      "Fitting 9 folds for each of 29 candidates, totalling 261 fits\n"
     ]
    },
    {
     "name": "stderr",
     "output_type": "stream",
     "text": [
      "[Parallel(n_jobs=1)]: Done 261 out of 261 | elapsed:   20.1s finished\n"
     ]
    },
    {
     "name": "stdout",
     "output_type": "stream",
     "text": [
      "       Best parameters selected: <<{'C': 0.0229}>> for score <<0.7955935745836528>>.\n",
      "       3. Grid Search model <<<class 'sklearn.svm.classes.LinearSVC'>>>; weight: <<balanced>>; parameters: <<{'C': [0.0076, 0.0087, 0.0098, 0.0109, 0.012, 0.0131, 0.0142, 0.0153, 0.0164, 0.0174, 0.0185, 0.0196, 0.0207, 0.0218, 0.0229, 0.0262, 0.0294, 0.0327, 0.036, 0.0393, 0.0425, 0.0458, 0.0491, 0.0523, 0.0556, 0.0589, 0.0622, 0.0654, 0.0687]}>>\n",
      "Fitting 9 folds for each of 29 candidates, totalling 261 fits\n"
     ]
    },
    {
     "name": "stderr",
     "output_type": "stream",
     "text": [
      "[Parallel(n_jobs=1)]: Done 261 out of 261 | elapsed:   29.3s finished\n"
     ]
    },
    {
     "name": "stdout",
     "output_type": "stream",
     "text": [
      "       Best parameters selected: <<{'C': 0.0229}>> for score <<0.7955935745836528>>.\n",
      "       3. Grid Search model <<<class 'sklearn.svm.classes.LinearSVC'>>>; weight: <<{0: 1.0, 1: 38.42516682554814}>>; parameters: <<{'C': [0.001, 0.01, 0.1, 1.0, 10.0]}>>\n",
      "Fitting 9 folds for each of 5 candidates, totalling 45 fits\n"
     ]
    },
    {
     "name": "stderr",
     "output_type": "stream",
     "text": [
      "[Parallel(n_jobs=1)]: Done  45 out of  45 | elapsed:   17.4s finished\n"
     ]
    },
    {
     "name": "stdout",
     "output_type": "stream",
     "text": [
      "       Best parameters selected: <<{'C': 0.01}>> for score <<0.7966763047987856>>.\n",
      "       4. Grid Search model <<<class 'sklearn.svm.classes.LinearSVC'>>>; weight: <<{0: 1.0, 1: 38.42516682554814}>>; parameters: <<{'C': [0.0033, 0.0038, 0.0043, 0.0048, 0.0052, 0.0057, 0.0062, 0.0067, 0.0071, 0.0076, 0.0081, 0.0086, 0.009, 0.0095, 0.01, 0.0114, 0.0129, 0.0143, 0.0157, 0.0171, 0.0186, 0.02, 0.0214, 0.0229, 0.0243, 0.0257, 0.0271, 0.0286, 0.03]}>>\n",
      "Fitting 9 folds for each of 29 candidates, totalling 261 fits\n"
     ]
    },
    {
     "name": "stderr",
     "output_type": "stream",
     "text": [
      "[Parallel(n_jobs=1)]: Done 261 out of 261 | elapsed:   37.1s finished\n"
     ]
    },
    {
     "name": "stdout",
     "output_type": "stream",
     "text": [
      "       Best parameters selected: <<{'C': 0.0171}>> for score <<0.8014602312657121>>.\n",
      "       5. Grid Search model <<<class 'sklearn.svm.classes.LinearSVC'>>>; weight: <<{0: 1.0, 1: 38.42516682554814}>>; parameters: <<{'C': [0.0057, 0.0065, 0.0073, 0.0081, 0.009, 0.0098, 0.0106, 0.0114, 0.0122, 0.013, 0.0138, 0.0147, 0.0155, 0.0163, 0.0171, 0.0195, 0.022, 0.0244, 0.0269, 0.0293, 0.0318, 0.0342, 0.0366, 0.0391, 0.0415, 0.044, 0.0464, 0.0489, 0.0513]}>>\n",
      "Fitting 9 folds for each of 29 candidates, totalling 261 fits\n"
     ]
    },
    {
     "name": "stderr",
     "output_type": "stream",
     "text": [
      "[Parallel(n_jobs=1)]: Done 261 out of 261 | elapsed:   49.9s finished\n"
     ]
    },
    {
     "name": "stdout",
     "output_type": "stream",
     "text": [
      "       Best parameters selected: <<{'C': 0.0171}>> for score <<0.8014602312657121>>.\n",
      "       Final parameters selected: <<{'C': 0.0229}>> for score <<0.7955935745836528>>.\n",
      "\n",
      "          *** Score on validation dataset (macro/weighted) <<0.7580645161290323>> / <<0.902376910016978>>.\n",
      "[[2052  180]\n",
      " [  50   74]]\n",
      "\n",
      "-------------------------------------------------------------------\n",
      "    8. Fit model for class: <<search_and_rescue>> ((21203, 12005)).\n",
      "    Tuning hyper-parameters for class: <<search_and_rescue>> (Recall).\n",
      "       1. Grid Search model <<<class 'sklearn.svm.classes.LinearSVC'>>>; weight: <<balanced>>; parameters: <<{'C': [0.001, 0.01, 0.1, 1.0, 10.0]}>>\n",
      "Fitting 9 folds for each of 5 candidates, totalling 45 fits\n"
     ]
    },
    {
     "name": "stderr",
     "output_type": "stream",
     "text": [
      "[Parallel(n_jobs=1)]: Done  45 out of  45 | elapsed:   16.0s finished\n"
     ]
    },
    {
     "name": "stdout",
     "output_type": "stream",
     "text": [
      "       Best parameters selected: <<{'C': 0.01}>> for score <<0.7139315296335456>>.\n",
      "       2. Grid Search model <<<class 'sklearn.svm.classes.LinearSVC'>>>; weight: <<balanced>>; parameters: <<{'C': [0.0033, 0.0038, 0.0043, 0.0048, 0.0052, 0.0057, 0.0062, 0.0067, 0.0071, 0.0076, 0.0081, 0.0086, 0.009, 0.0095, 0.01, 0.0114, 0.0129, 0.0143, 0.0157, 0.0171, 0.0186, 0.02, 0.0214, 0.0229, 0.0243, 0.0257, 0.0271, 0.0286, 0.03]}>>\n",
      "Fitting 9 folds for each of 29 candidates, totalling 261 fits\n"
     ]
    },
    {
     "name": "stderr",
     "output_type": "stream",
     "text": [
      "[Parallel(n_jobs=1)]: Done 261 out of 261 | elapsed:   27.4s finished\n"
     ]
    },
    {
     "name": "stdout",
     "output_type": "stream",
     "text": [
      "       Best parameters selected: <<{'C': 0.0071}>> for score <<0.7165014523575614>>.\n",
      "       3. Grid Search model <<<class 'sklearn.svm.classes.LinearSVC'>>>; weight: <<balanced>>; parameters: <<{'C': [0.0024, 0.0027, 0.003, 0.0034, 0.0037, 0.0041, 0.0044, 0.0047, 0.0051, 0.0054, 0.0057, 0.0061, 0.0064, 0.0068, 0.0071, 0.0081, 0.0091, 0.0101, 0.0112, 0.0122, 0.0132, 0.0142, 0.0152, 0.0162, 0.0172, 0.0183, 0.0193, 0.0203, 0.0213]}>>\n",
      "Fitting 9 folds for each of 29 candidates, totalling 261 fits\n"
     ]
    },
    {
     "name": "stderr",
     "output_type": "stream",
     "text": [
      "[Parallel(n_jobs=1)]: Done 261 out of 261 | elapsed:   22.8s finished\n"
     ]
    },
    {
     "name": "stdout",
     "output_type": "stream",
     "text": [
      "       Best parameters selected: <<{'C': 0.0071}>> for score <<0.7165014523575614>>.\n",
      "       3. Grid Search model <<<class 'sklearn.svm.classes.LinearSVC'>>>; weight: <<{0: 1.0, 1: 70.61301369863014}>>; parameters: <<{'C': [0.001, 0.01, 0.1, 1.0, 10.0]}>>\n",
      "Fitting 9 folds for each of 5 candidates, totalling 45 fits\n"
     ]
    },
    {
     "name": "stderr",
     "output_type": "stream",
     "text": [
      "[Parallel(n_jobs=1)]: Done  45 out of  45 | elapsed:   18.3s finished\n"
     ]
    },
    {
     "name": "stdout",
     "output_type": "stream",
     "text": [
      "       Best parameters selected: <<{'C': 0.01}>> for score <<0.7104961521513895>>.\n",
      "       4. Grid Search model <<<class 'sklearn.svm.classes.LinearSVC'>>>; weight: <<{0: 1.0, 1: 70.61301369863014}>>; parameters: <<{'C': [0.0033, 0.0038, 0.0043, 0.0048, 0.0052, 0.0057, 0.0062, 0.0067, 0.0071, 0.0076, 0.0081, 0.0086, 0.009, 0.0095, 0.01, 0.0114, 0.0129, 0.0143, 0.0157, 0.0171, 0.0186, 0.02, 0.0214, 0.0229, 0.0243, 0.0257, 0.0271, 0.0286, 0.03]}>>\n",
      "Fitting 9 folds for each of 29 candidates, totalling 261 fits\n"
     ]
    },
    {
     "name": "stderr",
     "output_type": "stream",
     "text": [
      "[Parallel(n_jobs=1)]: Done 261 out of 261 | elapsed:  1.0min finished\n"
     ]
    },
    {
     "name": "stdout",
     "output_type": "stream",
     "text": [
      "       Best parameters selected: <<{'C': 0.0114}>> for score <<0.711539325117509>>.\n",
      "       5. Grid Search model <<<class 'sklearn.svm.classes.LinearSVC'>>>; weight: <<{0: 1.0, 1: 70.61301369863014}>>; parameters: <<{'C': [0.0038, 0.0043, 0.0049, 0.0054, 0.006, 0.0065, 0.0071, 0.0076, 0.0081, 0.0087, 0.0092, 0.0098, 0.0103, 0.0109, 0.0114, 0.013, 0.0147, 0.0163, 0.0179, 0.0195, 0.0212, 0.0228, 0.0244, 0.0261, 0.0277, 0.0293, 0.0309, 0.0326, 0.0342]}>>\n",
      "Fitting 9 folds for each of 29 candidates, totalling 261 fits\n"
     ]
    },
    {
     "name": "stderr",
     "output_type": "stream",
     "text": [
      "[Parallel(n_jobs=1)]: Done 261 out of 261 | elapsed:  1.1min finished\n"
     ]
    },
    {
     "name": "stdout",
     "output_type": "stream",
     "text": [
      "       Best parameters selected: <<{'C': 0.013}>> for score <<0.7116367135201046>>.\n",
      "       6. Grid Search model <<<class 'sklearn.svm.classes.LinearSVC'>>>; weight: <<{0: 1.0, 1: 70.61301369863014}>>; parameters: <<{'C': [0.0043, 0.005, 0.0056, 0.0062, 0.0068, 0.0074, 0.008, 0.0087, 0.0093, 0.0099, 0.0105, 0.0111, 0.0118, 0.0124, 0.013, 0.0149, 0.0167, 0.0186, 0.0204, 0.0223, 0.0241, 0.026, 0.0279, 0.0297, 0.0316, 0.0334, 0.0353, 0.0371, 0.039]}>>\n",
      "Fitting 9 folds for each of 29 candidates, totalling 261 fits\n"
     ]
    },
    {
     "name": "stderr",
     "output_type": "stream",
     "text": [
      "[Parallel(n_jobs=1)]: Done 261 out of 261 | elapsed:  1.2min finished\n"
     ]
    },
    {
     "name": "stdout",
     "output_type": "stream",
     "text": [
      "       Best parameters selected: <<{'C': 0.013}>> for score <<0.7116367135201046>>.\n",
      "       Final parameters selected: <<{'C': 0.0071}>> for score <<0.7165014523575614>>.\n",
      "\n",
      "          *** Score on validation dataset (macro/weighted) <<0.695304762762222>> / <<0.8646010186757216>>.\n",
      "[[2007  291]\n",
      " [  28   30]]\n",
      "\n",
      "-------------------------------------------------------------------\n",
      "    9. Fit model for class: <<security>> ((21203, 12005)).\n",
      "    Tuning hyper-parameters for class: <<security>> (Recall).\n",
      "       1. Grid Search model <<<class 'sklearn.svm.classes.LinearSVC'>>>; weight: <<balanced>>; parameters: <<{'C': [0.001, 0.01, 0.1, 1.0, 10.0]}>>\n",
      "Fitting 9 folds for each of 5 candidates, totalling 45 fits\n"
     ]
    },
    {
     "name": "stderr",
     "output_type": "stream",
     "text": [
      "[Parallel(n_jobs=1)]: Done  45 out of  45 | elapsed:   13.7s finished\n"
     ]
    },
    {
     "name": "stdout",
     "output_type": "stream",
     "text": [
      "       Best parameters selected: <<{'C': 0.01}>> for score <<0.6552729116465807>>.\n",
      "       2. Grid Search model <<<class 'sklearn.svm.classes.LinearSVC'>>>; weight: <<balanced>>; parameters: <<{'C': [0.0033, 0.0038, 0.0043, 0.0048, 0.0052, 0.0057, 0.0062, 0.0067, 0.0071, 0.0076, 0.0081, 0.0086, 0.009, 0.0095, 0.01, 0.0114, 0.0129, 0.0143, 0.0157, 0.0171, 0.0186, 0.02, 0.0214, 0.0229, 0.0243, 0.0257, 0.0271, 0.0286, 0.03]}>>\n",
      "Fitting 9 folds for each of 29 candidates, totalling 261 fits\n"
     ]
    },
    {
     "name": "stderr",
     "output_type": "stream",
     "text": [
      "[Parallel(n_jobs=1)]: Done 261 out of 261 | elapsed:   31.4s finished\n"
     ]
    },
    {
     "name": "stdout",
     "output_type": "stream",
     "text": [
      "       Best parameters selected: <<{'C': 0.0071}>> for score <<0.6610335001947314>>.\n",
      "       3. Grid Search model <<<class 'sklearn.svm.classes.LinearSVC'>>>; weight: <<balanced>>; parameters: <<{'C': [0.0024, 0.0027, 0.003, 0.0034, 0.0037, 0.0041, 0.0044, 0.0047, 0.0051, 0.0054, 0.0057, 0.0061, 0.0064, 0.0068, 0.0071, 0.0081, 0.0091, 0.0101, 0.0112, 0.0122, 0.0132, 0.0142, 0.0152, 0.0162, 0.0172, 0.0183, 0.0193, 0.0203, 0.0213]}>>\n",
      "Fitting 9 folds for each of 29 candidates, totalling 261 fits\n"
     ]
    },
    {
     "name": "stderr",
     "output_type": "stream",
     "text": [
      "[Parallel(n_jobs=1)]: Done 261 out of 261 | elapsed:   26.2s finished\n"
     ]
    },
    {
     "name": "stdout",
     "output_type": "stream",
     "text": [
      "       Best parameters selected: <<{'C': 0.0071}>> for score <<0.6610335001947314>>.\n",
      "       3. Grid Search model <<<class 'sklearn.svm.classes.LinearSVC'>>>; weight: <<{0: 1.0, 1: 55.092592592592595}>>; parameters: <<{'C': [0.001, 0.01, 0.1, 1.0, 10.0]}>>\n",
      "Fitting 9 folds for each of 5 candidates, totalling 45 fits\n"
     ]
    },
    {
     "name": "stderr",
     "output_type": "stream",
     "text": [
      "[Parallel(n_jobs=1)]: Done  45 out of  45 | elapsed:   13.5s finished\n"
     ]
    },
    {
     "name": "stdout",
     "output_type": "stream",
     "text": [
      "       Best parameters selected: <<{'C': 0.01}>> for score <<0.6467438002285224>>.\n",
      "       4. Grid Search model <<<class 'sklearn.svm.classes.LinearSVC'>>>; weight: <<{0: 1.0, 1: 55.092592592592595}>>; parameters: <<{'C': [0.0033, 0.0038, 0.0043, 0.0048, 0.0052, 0.0057, 0.0062, 0.0067, 0.0071, 0.0076, 0.0081, 0.0086, 0.009, 0.0095, 0.01, 0.0114, 0.0129, 0.0143, 0.0157, 0.0171, 0.0186, 0.02, 0.0214, 0.0229, 0.0243, 0.0257, 0.0271, 0.0286, 0.03]}>>\n",
      "Fitting 9 folds for each of 29 candidates, totalling 261 fits\n"
     ]
    },
    {
     "name": "stderr",
     "output_type": "stream",
     "text": [
      "[Parallel(n_jobs=1)]: Done 261 out of 261 | elapsed:   42.7s finished\n"
     ]
    },
    {
     "name": "stdout",
     "output_type": "stream",
     "text": [
      "       Best parameters selected: <<{'C': 0.0038}>> for score <<0.6595883526836445>>.\n",
      "       5. Grid Search model <<<class 'sklearn.svm.classes.LinearSVC'>>>; weight: <<{0: 1.0, 1: 55.092592592592595}>>; parameters: <<{'C': [0.0013, 0.0014, 0.0016, 0.0018, 0.002, 0.0022, 0.0024, 0.0025, 0.0027, 0.0029, 0.0031, 0.0033, 0.0034, 0.0036, 0.0038, 0.0043, 0.0049, 0.0054, 0.006, 0.0065, 0.0071, 0.0076, 0.0081, 0.0087, 0.0092, 0.0098, 0.0103, 0.0109, 0.0114]}>>\n",
      "Fitting 9 folds for each of 29 candidates, totalling 261 fits\n"
     ]
    },
    {
     "name": "stderr",
     "output_type": "stream",
     "text": [
      "[Parallel(n_jobs=1)]: Done 261 out of 261 | elapsed:   26.8s finished\n"
     ]
    },
    {
     "name": "stdout",
     "output_type": "stream",
     "text": [
      "       Best parameters selected: <<{'C': 0.0036}>> for score <<0.6608414235284225>>.\n",
      "       6. Grid Search model <<<class 'sklearn.svm.classes.LinearSVC'>>>; weight: <<{0: 1.0, 1: 55.092592592592595}>>; parameters: <<{'C': [0.0012, 0.0014, 0.0015, 0.0017, 0.0019, 0.0021, 0.0022, 0.0024, 0.0026, 0.0027, 0.0029, 0.0031, 0.0033, 0.0034, 0.0036, 0.0041, 0.0046, 0.0051, 0.0057, 0.0062, 0.0067, 0.0072, 0.0077, 0.0082, 0.0087, 0.0093, 0.0098, 0.0103, 0.0108]}>>\n",
      "Fitting 9 folds for each of 29 candidates, totalling 261 fits\n"
     ]
    },
    {
     "name": "stderr",
     "output_type": "stream",
     "text": [
      "[Parallel(n_jobs=1)]: Done 261 out of 261 | elapsed:   26.5s finished\n"
     ]
    },
    {
     "name": "stdout",
     "output_type": "stream",
     "text": [
      "       Best parameters selected: <<{'C': 0.0036}>> for score <<0.6608414235284225>>.\n",
      "       Final parameters selected: <<{'C': 0.0071}>> for score <<0.6610335001947314>>.\n",
      "\n",
      "          *** Score on validation dataset (macro/weighted) <<0.6503321744822766>> / <<0.8824278438030561>>.\n",
      "[[2059  248]\n",
      " [  29   20]]\n",
      "\n",
      "-------------------------------------------------------------------\n",
      "    10. Fit model for class: <<military>> ((21203, 12005)).\n",
      "    Tuning hyper-parameters for class: <<military>> (Recall).\n",
      "       1. Grid Search model <<<class 'sklearn.svm.classes.LinearSVC'>>>; weight: <<balanced>>; parameters: <<{'C': [0.001, 0.01, 0.1, 1.0, 10.0]}>>\n",
      "Fitting 9 folds for each of 5 candidates, totalling 45 fits\n"
     ]
    },
    {
     "name": "stderr",
     "output_type": "stream",
     "text": [
      "[Parallel(n_jobs=1)]: Done  45 out of  45 | elapsed:    9.8s finished\n"
     ]
    },
    {
     "name": "stdout",
     "output_type": "stream",
     "text": [
      "       Best parameters selected: <<{'C': 0.01}>> for score <<0.8709133336034388>>.\n",
      "       2. Grid Search model <<<class 'sklearn.svm.classes.LinearSVC'>>>; weight: <<balanced>>; parameters: <<{'C': [0.0033, 0.0038, 0.0043, 0.0048, 0.0052, 0.0057, 0.0062, 0.0067, 0.0071, 0.0076, 0.0081, 0.0086, 0.009, 0.0095, 0.01, 0.0114, 0.0129, 0.0143, 0.0157, 0.0171, 0.0186, 0.02, 0.0214, 0.0229, 0.0243, 0.0257, 0.0271, 0.0286, 0.03]}>>\n",
      "Fitting 9 folds for each of 29 candidates, totalling 261 fits\n"
     ]
    },
    {
     "name": "stderr",
     "output_type": "stream",
     "text": [
      "[Parallel(n_jobs=1)]: Done 261 out of 261 | elapsed:   22.6s finished\n"
     ]
    },
    {
     "name": "stdout",
     "output_type": "stream",
     "text": [
      "       Best parameters selected: <<{'C': 0.0186}>> for score <<0.8812722812564201>>.\n",
      "       3. Grid Search model <<<class 'sklearn.svm.classes.LinearSVC'>>>; weight: <<balanced>>; parameters: <<{'C': [0.0062, 0.0071, 0.008, 0.0089, 0.0097, 0.0106, 0.0115, 0.0124, 0.0133, 0.0142, 0.0151, 0.0159, 0.0168, 0.0177, 0.0186, 0.0213, 0.0239, 0.0266, 0.0292, 0.0319, 0.0345, 0.0372, 0.0399, 0.0425, 0.0452, 0.0478, 0.0505, 0.0531, 0.0558]}>>\n",
      "Fitting 9 folds for each of 29 candidates, totalling 261 fits\n"
     ]
    },
    {
     "name": "stderr",
     "output_type": "stream",
     "text": [
      "[Parallel(n_jobs=1)]: Done 261 out of 261 | elapsed:   29.5s finished\n"
     ]
    },
    {
     "name": "stdout",
     "output_type": "stream",
     "text": [
      "       Best parameters selected: <<{'C': 0.0168}>> for score <<0.8816555960530886>>.\n",
      "       4. Grid Search model <<<class 'sklearn.svm.classes.LinearSVC'>>>; weight: <<balanced>>; parameters: <<{'C': [0.0056, 0.0064, 0.0072, 0.008, 0.0088, 0.0096, 0.0104, 0.0112, 0.012, 0.0128, 0.0136, 0.0144, 0.0152, 0.016, 0.0168, 0.0192, 0.0216, 0.024, 0.0264, 0.0288, 0.0312, 0.0336, 0.036, 0.0384, 0.0408, 0.0432, 0.0456, 0.048, 0.0504]}>>\n",
      "Fitting 9 folds for each of 29 candidates, totalling 261 fits\n"
     ]
    },
    {
     "name": "stderr",
     "output_type": "stream",
     "text": [
      "[Parallel(n_jobs=1)]: Done 261 out of 261 | elapsed:   28.8s finished\n"
     ]
    },
    {
     "name": "stdout",
     "output_type": "stream",
     "text": [
      "       Best parameters selected: <<{'C': 0.0168}>> for score <<0.8816555960530886>>.\n",
      "       Final parameters selected: <<{'C': 0.0168}>> for score <<0.8816555960530886>>.\n",
      "\n",
      "          *** Score on validation dataset (macro/weighted) <<0.8463695846744829>> / <<0.9274193548387096>>.\n",
      "[[2125  152]\n",
      " [  19   60]]\n",
      "\n",
      "-------------------------------------------------------------------\n",
      "    11. Fit model for class: <<water>> ((21203, 12005)).\n",
      "    Tuning hyper-parameters for class: <<water>> (Recall).\n",
      "       1. Grid Search model <<<class 'sklearn.svm.classes.LinearSVC'>>>; weight: <<balanced>>; parameters: <<{'C': [0.001, 0.01, 0.1, 1.0, 10.0]}>>\n",
      "Fitting 9 folds for each of 5 candidates, totalling 45 fits\n"
     ]
    },
    {
     "name": "stderr",
     "output_type": "stream",
     "text": [
      "[Parallel(n_jobs=1)]: Done  45 out of  45 | elapsed:   12.4s finished\n"
     ]
    },
    {
     "name": "stdout",
     "output_type": "stream",
     "text": [
      "       Best parameters selected: <<{'C': 0.1}>> for score <<0.8994735429938656>>.\n",
      "       2. Grid Search model <<<class 'sklearn.svm.classes.LinearSVC'>>>; weight: <<balanced>>; parameters: <<{'C': [0.0333, 0.0381, 0.0429, 0.0476, 0.0524, 0.0571, 0.0619, 0.0667, 0.0714, 0.0762, 0.081, 0.0857, 0.0905, 0.0952, 0.1, 0.1143, 0.1286, 0.1429, 0.1571, 0.1714, 0.1857, 0.2, 0.2143, 0.2286, 0.2429, 0.2571, 0.2714, 0.2857, 0.3]}>>\n",
      "Fitting 9 folds for each of 29 candidates, totalling 261 fits\n"
     ]
    },
    {
     "name": "stderr",
     "output_type": "stream",
     "text": [
      "[Parallel(n_jobs=1)]: Done 261 out of 261 | elapsed:   55.4s finished\n"
     ]
    },
    {
     "name": "stdout",
     "output_type": "stream",
     "text": [
      "       Best parameters selected: <<{'C': 0.0476}>> for score <<0.904781037098245>>.\n",
      "       3. Grid Search model <<<class 'sklearn.svm.classes.LinearSVC'>>>; weight: <<balanced>>; parameters: <<{'C': [0.0159, 0.0181, 0.0204, 0.0227, 0.0249, 0.0272, 0.0295, 0.0317, 0.034, 0.0363, 0.0385, 0.0408, 0.0431, 0.0453, 0.0476, 0.0544, 0.0612, 0.068, 0.0748, 0.0816, 0.0884, 0.0952, 0.102, 0.1088, 0.1156, 0.1224, 0.1292, 0.136, 0.1428]}>>\n",
      "Fitting 9 folds for each of 29 candidates, totalling 261 fits\n"
     ]
    },
    {
     "name": "stderr",
     "output_type": "stream",
     "text": [
      "[Parallel(n_jobs=1)]: Done 261 out of 261 | elapsed:   39.1s finished\n"
     ]
    },
    {
     "name": "stdout",
     "output_type": "stream",
     "text": [
      "       Best parameters selected: <<{'C': 0.0476}>> for score <<0.904781037098245>>.\n",
      "       Final parameters selected: <<{'C': 0.0476}>> for score <<0.904781037098245>>.\n",
      "\n",
      "          *** Score on validation dataset (macro/weighted) <<0.9207509358569287>> / <<0.9511884550084889>>.\n",
      "[[2109   98]\n",
      " [  17  132]]\n",
      "\n",
      "-------------------------------------------------------------------\n",
      "    12. Fit model for class: <<food>> ((21203, 12005)).\n",
      "    Tuning hyper-parameters for class: <<food>> (Recall).\n",
      "       1. Grid Search model <<<class 'sklearn.svm.classes.LinearSVC'>>>; weight: <<balanced>>; parameters: <<{'C': [0.001, 0.01, 0.1, 1.0, 10.0]}>>\n",
      "Fitting 9 folds for each of 5 candidates, totalling 45 fits\n"
     ]
    },
    {
     "name": "stderr",
     "output_type": "stream",
     "text": [
      "[Parallel(n_jobs=1)]: Done  45 out of  45 | elapsed:   12.7s finished\n"
     ]
    },
    {
     "name": "stdout",
     "output_type": "stream",
     "text": [
      "       Best parameters selected: <<{'C': 0.1}>> for score <<0.9062911124936149>>.\n",
      "       2. Grid Search model <<<class 'sklearn.svm.classes.LinearSVC'>>>; weight: <<balanced>>; parameters: <<{'C': [0.0333, 0.0381, 0.0429, 0.0476, 0.0524, 0.0571, 0.0619, 0.0667, 0.0714, 0.0762, 0.081, 0.0857, 0.0905, 0.0952, 0.1, 0.1143, 0.1286, 0.1429, 0.1571, 0.1714, 0.1857, 0.2, 0.2143, 0.2286, 0.2429, 0.2571, 0.2714, 0.2857, 0.3]}>>\n",
      "Fitting 9 folds for each of 29 candidates, totalling 261 fits\n"
     ]
    },
    {
     "name": "stderr",
     "output_type": "stream",
     "text": [
      "[Parallel(n_jobs=1)]: Done 261 out of 261 | elapsed:   43.8s finished\n"
     ]
    },
    {
     "name": "stdout",
     "output_type": "stream",
     "text": [
      "       Best parameters selected: <<{'C': 0.0762}>> for score <<0.9070555833030994>>.\n",
      "       3. Grid Search model <<<class 'sklearn.svm.classes.LinearSVC'>>>; weight: <<balanced>>; parameters: <<{'C': [0.0254, 0.029, 0.0327, 0.0363, 0.0399, 0.0435, 0.0472, 0.0508, 0.0544, 0.0581, 0.0617, 0.0653, 0.0689, 0.0726, 0.0762, 0.0871, 0.098, 0.1089, 0.1197, 0.1306, 0.1415, 0.1524, 0.1633, 0.1742, 0.1851, 0.1959, 0.2068, 0.2177, 0.2286]}>>\n",
      "Fitting 9 folds for each of 29 candidates, totalling 261 fits\n"
     ]
    },
    {
     "name": "stderr",
     "output_type": "stream",
     "text": [
      "[Parallel(n_jobs=1)]: Done 261 out of 261 | elapsed:   37.8s finished\n"
     ]
    },
    {
     "name": "stdout",
     "output_type": "stream",
     "text": [
      "       Best parameters selected: <<{'C': 0.0871}>> for score <<0.9071871714828995>>.\n",
      "       4. Grid Search model <<<class 'sklearn.svm.classes.LinearSVC'>>>; weight: <<balanced>>; parameters: <<{'C': [0.029, 0.0332, 0.0373, 0.0415, 0.0456, 0.0498, 0.0539, 0.0581, 0.0622, 0.0664, 0.0705, 0.0747, 0.0788, 0.083, 0.0871, 0.0995, 0.112, 0.1244, 0.1369, 0.1493, 0.1618, 0.1742, 0.1866, 0.1991, 0.2115, 0.224, 0.2364, 0.2489, 0.2613]}>>\n",
      "Fitting 9 folds for each of 29 candidates, totalling 261 fits\n"
     ]
    },
    {
     "name": "stderr",
     "output_type": "stream",
     "text": [
      "[Parallel(n_jobs=1)]: Done 261 out of 261 | elapsed:   40.8s finished\n"
     ]
    },
    {
     "name": "stdout",
     "output_type": "stream",
     "text": [
      "       Best parameters selected: <<{'C': 0.0871}>> for score <<0.9071871714828995>>.\n",
      "       Final parameters selected: <<{'C': 0.0871}>> for score <<0.9071871714828995>>.\n",
      "\n",
      "          *** Score on validation dataset (macro/weighted) <<0.8998506033053125>> / <<0.9435483870967742>>.\n",
      "[[1997   91]\n",
      " [  42  226]]\n",
      "\n",
      "-------------------------------------------------------------------\n",
      "    13. Fit model for class: <<shelter>> ((21203, 12005)).\n",
      "    Tuning hyper-parameters for class: <<shelter>> (Recall).\n",
      "       1. Grid Search model <<<class 'sklearn.svm.classes.LinearSVC'>>>; weight: <<balanced>>; parameters: <<{'C': [0.001, 0.01, 0.1, 1.0, 10.0]}>>\n",
      "Fitting 9 folds for each of 5 candidates, totalling 45 fits\n"
     ]
    },
    {
     "name": "stderr",
     "output_type": "stream",
     "text": [
      "[Parallel(n_jobs=1)]: Done  45 out of  45 | elapsed:   12.9s finished\n"
     ]
    },
    {
     "name": "stdout",
     "output_type": "stream",
     "text": [
      "       Best parameters selected: <<{'C': 0.1}>> for score <<0.8718418121125918>>.\n",
      "       2. Grid Search model <<<class 'sklearn.svm.classes.LinearSVC'>>>; weight: <<balanced>>; parameters: <<{'C': [0.0333, 0.0381, 0.0429, 0.0476, 0.0524, 0.0571, 0.0619, 0.0667, 0.0714, 0.0762, 0.081, 0.0857, 0.0905, 0.0952, 0.1, 0.1143, 0.1286, 0.1429, 0.1571, 0.1714, 0.1857, 0.2, 0.2143, 0.2286, 0.2429, 0.2571, 0.2714, 0.2857, 0.3]}>>\n",
      "Fitting 9 folds for each of 29 candidates, totalling 261 fits\n"
     ]
    },
    {
     "name": "stderr",
     "output_type": "stream",
     "text": [
      "[Parallel(n_jobs=1)]: Done 261 out of 261 | elapsed:   49.0s finished\n"
     ]
    },
    {
     "name": "stdout",
     "output_type": "stream",
     "text": [
      "       Best parameters selected: <<{'C': 0.0667}>> for score <<0.8746249086072958>>.\n",
      "       3. Grid Search model <<<class 'sklearn.svm.classes.LinearSVC'>>>; weight: <<balanced>>; parameters: <<{'C': [0.0222, 0.0254, 0.0286, 0.0318, 0.0349, 0.0381, 0.0413, 0.0445, 0.0476, 0.0508, 0.054, 0.0572, 0.0603, 0.0635, 0.0667, 0.0762, 0.0858, 0.0953, 0.1048, 0.1143, 0.1239, 0.1334, 0.1429, 0.1525, 0.162, 0.1715, 0.181, 0.1906, 0.2001]}>>\n",
      "Fitting 9 folds for each of 29 candidates, totalling 261 fits\n"
     ]
    },
    {
     "name": "stderr",
     "output_type": "stream",
     "text": [
      "[Parallel(n_jobs=1)]: Done 261 out of 261 | elapsed:   40.3s finished\n"
     ]
    },
    {
     "name": "stdout",
     "output_type": "stream",
     "text": [
      "       Best parameters selected: <<{'C': 0.0667}>> for score <<0.8746249086072958>>.\n",
      "       Final parameters selected: <<{'C': 0.0667}>> for score <<0.8746249086072958>>.\n",
      "\n",
      "          *** Score on validation dataset (macro/weighted) <<0.8774974302457427>> / <<0.9286926994906621>>.\n",
      "[[2008  127]\n",
      " [  41  180]]\n",
      "\n",
      "-------------------------------------------------------------------\n",
      "    14. Fit model for class: <<clothing>> ((21203, 12005)).\n",
      "    Tuning hyper-parameters for class: <<clothing>> (Recall).\n",
      "       1. Grid Search model <<<class 'sklearn.svm.classes.LinearSVC'>>>; weight: <<balanced>>; parameters: <<{'C': [0.001, 0.01, 0.1, 1.0, 10.0]}>>\n",
      "Fitting 9 folds for each of 5 candidates, totalling 45 fits\n"
     ]
    },
    {
     "name": "stderr",
     "output_type": "stream",
     "text": [
      "[Parallel(n_jobs=1)]: Done  45 out of  45 | elapsed:    8.4s finished\n"
     ]
    },
    {
     "name": "stdout",
     "output_type": "stream",
     "text": [
      "       Best parameters selected: <<{'C': 0.01}>> for score <<0.8344840027966344>>.\n",
      "       2. Grid Search model <<<class 'sklearn.svm.classes.LinearSVC'>>>; weight: <<balanced>>; parameters: <<{'C': [0.0033, 0.0038, 0.0043, 0.0048, 0.0052, 0.0057, 0.0062, 0.0067, 0.0071, 0.0076, 0.0081, 0.0086, 0.009, 0.0095, 0.01, 0.0114, 0.0129, 0.0143, 0.0157, 0.0171, 0.0186, 0.02, 0.0214, 0.0229, 0.0243, 0.0257, 0.0271, 0.0286, 0.03]}>>\n",
      "Fitting 9 folds for each of 29 candidates, totalling 261 fits\n"
     ]
    },
    {
     "name": "stderr",
     "output_type": "stream",
     "text": [
      "[Parallel(n_jobs=1)]: Done 261 out of 261 | elapsed:   33.1s finished\n"
     ]
    },
    {
     "name": "stdout",
     "output_type": "stream",
     "text": [
      "       Best parameters selected: <<{'C': 0.03}>> for score <<0.8388935246516187>>.\n",
      "       3. Grid Search model <<<class 'sklearn.svm.classes.LinearSVC'>>>; weight: <<balanced>>; parameters: <<{'C': [0.01, 0.0114, 0.0129, 0.0143, 0.0157, 0.0171, 0.0186, 0.02, 0.0214, 0.0229, 0.0243, 0.0257, 0.0271, 0.0286, 0.03, 0.0343, 0.0386, 0.0429, 0.0471, 0.0514, 0.0557, 0.06, 0.0643, 0.0686, 0.0729, 0.0771, 0.0814, 0.0857, 0.09]}>>\n",
      "Fitting 9 folds for each of 29 candidates, totalling 261 fits\n"
     ]
    },
    {
     "name": "stderr",
     "output_type": "stream",
     "text": [
      "[Parallel(n_jobs=1)]: Done 261 out of 261 | elapsed:   47.1s finished\n"
     ]
    },
    {
     "name": "stdout",
     "output_type": "stream",
     "text": [
      "       Best parameters selected: <<{'C': 0.03}>> for score <<0.8388935246516187>>.\n",
      "       3. Grid Search model <<<class 'sklearn.svm.classes.LinearSVC'>>>; weight: <<{0: 1.0, 1: 60.99707602339181}>>; parameters: <<{'C': [0.001, 0.01, 0.1, 1.0, 10.0]}>>\n",
      "Fitting 9 folds for each of 5 candidates, totalling 45 fits\n"
     ]
    },
    {
     "name": "stderr",
     "output_type": "stream",
     "text": [
      "[Parallel(n_jobs=1)]: Done  45 out of  45 | elapsed:    9.2s finished\n"
     ]
    },
    {
     "name": "stdout",
     "output_type": "stream",
     "text": [
      "       Best parameters selected: <<{'C': 0.01}>> for score <<0.8368568514872099>>.\n",
      "       4. Grid Search model <<<class 'sklearn.svm.classes.LinearSVC'>>>; weight: <<{0: 1.0, 1: 60.99707602339181}>>; parameters: <<{'C': [0.0033, 0.0038, 0.0043, 0.0048, 0.0052, 0.0057, 0.0062, 0.0067, 0.0071, 0.0076, 0.0081, 0.0086, 0.009, 0.0095, 0.01, 0.0114, 0.0129, 0.0143, 0.0157, 0.0171, 0.0186, 0.02, 0.0214, 0.0229, 0.0243, 0.0257, 0.0271, 0.0286, 0.03]}>>\n",
      "Fitting 9 folds for each of 29 candidates, totalling 261 fits\n"
     ]
    },
    {
     "name": "stderr",
     "output_type": "stream",
     "text": [
      "[Parallel(n_jobs=1)]: Done 261 out of 261 | elapsed:   41.7s finished\n"
     ]
    },
    {
     "name": "stdout",
     "output_type": "stream",
     "text": [
      "       Best parameters selected: <<{'C': 0.0157}>> for score <<0.8389414609550958>>.\n",
      "       5. Grid Search model <<<class 'sklearn.svm.classes.LinearSVC'>>>; weight: <<{0: 1.0, 1: 60.99707602339181}>>; parameters: <<{'C': [0.0052, 0.006, 0.0067, 0.0075, 0.0082, 0.009, 0.0097, 0.0105, 0.0112, 0.012, 0.0127, 0.0135, 0.0142, 0.015, 0.0157, 0.0179, 0.0202, 0.0224, 0.0247, 0.0269, 0.0292, 0.0314, 0.0336, 0.0359, 0.0381, 0.0404, 0.0426, 0.0449, 0.0471]}>>\n",
      "Fitting 9 folds for each of 29 candidates, totalling 261 fits\n"
     ]
    },
    {
     "name": "stderr",
     "output_type": "stream",
     "text": [
      "[Parallel(n_jobs=1)]: Done 261 out of 261 | elapsed:   47.5s finished\n"
     ]
    },
    {
     "name": "stdout",
     "output_type": "stream",
     "text": [
      "       Best parameters selected: <<{'C': 0.0157}>> for score <<0.8389414609550958>>.\n",
      "       Final parameters selected: <<{'C': 0.03}>> for score <<0.8388935246516187>>.\n",
      "\n",
      "          *** Score on validation dataset (macro/weighted) <<0.8820191480206541>> / <<0.9800509337860781>>.\n",
      "[[2284   40]\n",
      " [   7   25]]\n",
      "\n",
      "-------------------------------------------------------------------\n",
      "    15. Fit model for class: <<money>> ((21203, 12005)).\n",
      "    Tuning hyper-parameters for class: <<money>> (Recall).\n",
      "       1. Grid Search model <<<class 'sklearn.svm.classes.LinearSVC'>>>; weight: <<balanced>>; parameters: <<{'C': [0.001, 0.01, 0.1, 1.0, 10.0]}>>\n",
      "Fitting 9 folds for each of 5 candidates, totalling 45 fits\n"
     ]
    },
    {
     "name": "stderr",
     "output_type": "stream",
     "text": [
      "[Parallel(n_jobs=1)]: Done  45 out of  45 | elapsed:   11.9s finished\n"
     ]
    },
    {
     "name": "stdout",
     "output_type": "stream",
     "text": [
      "       Best parameters selected: <<{'C': 0.01}>> for score <<0.8385548215420507>>.\n",
      "       2. Grid Search model <<<class 'sklearn.svm.classes.LinearSVC'>>>; weight: <<balanced>>; parameters: <<{'C': [0.0033, 0.0038, 0.0043, 0.0048, 0.0052, 0.0057, 0.0062, 0.0067, 0.0071, 0.0076, 0.0081, 0.0086, 0.009, 0.0095, 0.01, 0.0114, 0.0129, 0.0143, 0.0157, 0.0171, 0.0186, 0.02, 0.0214, 0.0229, 0.0243, 0.0257, 0.0271, 0.0286, 0.03]}>>\n",
      "Fitting 9 folds for each of 29 candidates, totalling 261 fits\n"
     ]
    },
    {
     "name": "stderr",
     "output_type": "stream",
     "text": [
      "[Parallel(n_jobs=1)]: Done 261 out of 261 | elapsed:   31.0s finished\n"
     ]
    },
    {
     "name": "stdout",
     "output_type": "stream",
     "text": [
      "       Best parameters selected: <<{'C': 0.0081}>> for score <<0.8419700993200531>>.\n",
      "       3. Grid Search model <<<class 'sklearn.svm.classes.LinearSVC'>>>; weight: <<balanced>>; parameters: <<{'C': [0.0027, 0.0031, 0.0035, 0.0039, 0.0042, 0.0046, 0.005, 0.0054, 0.0058, 0.0062, 0.0066, 0.0069, 0.0073, 0.0077, 0.0081, 0.0093, 0.0104, 0.0116, 0.0127, 0.0139, 0.015, 0.0162, 0.0174, 0.0185, 0.0197, 0.0208, 0.022, 0.0231, 0.0243]}>>\n",
      "Fitting 9 folds for each of 29 candidates, totalling 261 fits\n"
     ]
    },
    {
     "name": "stderr",
     "output_type": "stream",
     "text": [
      "[Parallel(n_jobs=1)]: Done 261 out of 261 | elapsed:   27.7s finished\n"
     ]
    },
    {
     "name": "stdout",
     "output_type": "stream",
     "text": [
      "       Best parameters selected: <<{'C': 0.0073}>> for score <<0.8438845748540201>>.\n",
      "       4. Grid Search model <<<class 'sklearn.svm.classes.LinearSVC'>>>; weight: <<balanced>>; parameters: <<{'C': [0.0024, 0.0028, 0.0031, 0.0035, 0.0038, 0.0042, 0.0045, 0.0049, 0.0052, 0.0056, 0.0059, 0.0063, 0.0066, 0.007, 0.0073, 0.0083, 0.0094, 0.0104, 0.0115, 0.0125, 0.0136, 0.0146, 0.0156, 0.0167, 0.0177, 0.0188, 0.0198, 0.0209, 0.0219]}>>\n",
      "Fitting 9 folds for each of 29 candidates, totalling 261 fits\n"
     ]
    },
    {
     "name": "stderr",
     "output_type": "stream",
     "text": [
      "[Parallel(n_jobs=1)]: Done 261 out of 261 | elapsed:   26.0s finished\n"
     ]
    },
    {
     "name": "stdout",
     "output_type": "stream",
     "text": [
      "       Best parameters selected: <<{'C': 0.0073}>> for score <<0.8438845748540201>>.\n",
      "       4. Grid Search model <<<class 'sklearn.svm.classes.LinearSVC'>>>; weight: <<{0: 1.0, 1: 84.1910569105691}>>; parameters: <<{'C': [0.001, 0.01, 0.1, 1.0, 10.0]}>>\n",
      "Fitting 9 folds for each of 5 candidates, totalling 45 fits\n"
     ]
    },
    {
     "name": "stderr",
     "output_type": "stream",
     "text": [
      "[Parallel(n_jobs=1)]: Done  45 out of  45 | elapsed:   13.4s finished\n"
     ]
    },
    {
     "name": "stdout",
     "output_type": "stream",
     "text": [
      "       Best parameters selected: <<{'C': 0.01}>> for score <<0.8558077908229179>>.\n",
      "       5. Grid Search model <<<class 'sklearn.svm.classes.LinearSVC'>>>; weight: <<{0: 1.0, 1: 84.1910569105691}>>; parameters: <<{'C': [0.0033, 0.0038, 0.0043, 0.0048, 0.0052, 0.0057, 0.0062, 0.0067, 0.0071, 0.0076, 0.0081, 0.0086, 0.009, 0.0095, 0.01, 0.0114, 0.0129, 0.0143, 0.0157, 0.0171, 0.0186, 0.02, 0.0214, 0.0229, 0.0243, 0.0257, 0.0271, 0.0286, 0.03]}>>\n",
      "Fitting 9 folds for each of 29 candidates, totalling 261 fits\n"
     ]
    },
    {
     "name": "stderr",
     "output_type": "stream",
     "text": [
      "[Parallel(n_jobs=1)]: Done 261 out of 261 | elapsed:  1.1min finished\n"
     ]
    },
    {
     "name": "stdout",
     "output_type": "stream",
     "text": [
      "       Best parameters selected: <<{'C': 0.0048}>> for score <<0.8595498457448753>>.\n",
      "       6. Grid Search model <<<class 'sklearn.svm.classes.LinearSVC'>>>; weight: <<{0: 1.0, 1: 84.1910569105691}>>; parameters: <<{'C': [0.0016, 0.0018, 0.0021, 0.0023, 0.0025, 0.0027, 0.003, 0.0032, 0.0034, 0.0037, 0.0039, 0.0041, 0.0043, 0.0046, 0.0048, 0.0055, 0.0062, 0.0069, 0.0075, 0.0082, 0.0089, 0.0096, 0.0103, 0.011, 0.0117, 0.0123, 0.013, 0.0137, 0.0144]}>>\n",
      "Fitting 9 folds for each of 29 candidates, totalling 261 fits\n"
     ]
    },
    {
     "name": "stderr",
     "output_type": "stream",
     "text": [
      "[Parallel(n_jobs=1)]: Done 261 out of 261 | elapsed:   44.0s finished\n"
     ]
    },
    {
     "name": "stdout",
     "output_type": "stream",
     "text": [
      "       Best parameters selected: <<{'C': 0.0048}>> for score <<0.8595498457448753>>.\n",
      "       Final parameters selected: <<{'C': 0.0073}>> for score <<0.8438845748540201>>.\n",
      "\n",
      "          *** Score on validation dataset (macro/weighted) <<0.7999272197962154>> / <<0.9257215619694398>>.\n",
      "[[2137  153]\n",
      " [  22   44]]\n",
      "\n",
      "-------------------------------------------------------------------\n",
      "    16. Fit model for class: <<missing_people>> ((21203, 12005)).\n",
      "    Tuning hyper-parameters for class: <<missing_people>> (Recall).\n",
      "       1. Grid Search model <<<class 'sklearn.svm.classes.LinearSVC'>>>; weight: <<balanced>>; parameters: <<{'C': [0.001, 0.01, 0.1, 1.0, 10.0]}>>\n",
      "Fitting 9 folds for each of 5 candidates, totalling 45 fits\n"
     ]
    },
    {
     "name": "stderr",
     "output_type": "stream",
     "text": [
      "[Parallel(n_jobs=1)]: Done  45 out of  45 | elapsed:   10.6s finished\n"
     ]
    },
    {
     "name": "stdout",
     "output_type": "stream",
     "text": [
      "       Best parameters selected: <<{'C': 0.01}>> for score <<0.6677177308387788>>.\n",
      "       2. Grid Search model <<<class 'sklearn.svm.classes.LinearSVC'>>>; weight: <<balanced>>; parameters: <<{'C': [0.0033, 0.0038, 0.0043, 0.0048, 0.0052, 0.0057, 0.0062, 0.0067, 0.0071, 0.0076, 0.0081, 0.0086, 0.009, 0.0095, 0.01, 0.0114, 0.0129, 0.0143, 0.0157, 0.0171, 0.0186, 0.02, 0.0214, 0.0229, 0.0243, 0.0257, 0.0271, 0.0286, 0.03]}>>\n",
      "Fitting 9 folds for each of 29 candidates, totalling 261 fits\n"
     ]
    },
    {
     "name": "stderr",
     "output_type": "stream",
     "text": [
      "[Parallel(n_jobs=1)]: Done 261 out of 261 | elapsed:   44.1s finished\n"
     ]
    },
    {
     "name": "stdout",
     "output_type": "stream",
     "text": [
      "       Best parameters selected: <<{'C': 0.0033}>> for score <<0.6807776536641429>>.\n",
      "       3. Grid Search model <<<class 'sklearn.svm.classes.LinearSVC'>>>; weight: <<balanced>>; parameters: <<{'C': [0.0011, 0.0013, 0.0014, 0.0016, 0.0017, 0.0019, 0.002, 0.0022, 0.0024, 0.0025, 0.0027, 0.0028, 0.003, 0.0031, 0.0033, 0.0038, 0.0042, 0.0047, 0.0052, 0.0057, 0.0061, 0.0066, 0.0071, 0.0075, 0.008, 0.0085, 0.009, 0.0094, 0.0099]}>>\n",
      "Fitting 9 folds for each of 29 candidates, totalling 261 fits\n"
     ]
    },
    {
     "name": "stderr",
     "output_type": "stream",
     "text": [
      "[Parallel(n_jobs=1)]: Done 261 out of 261 | elapsed:   23.5s finished\n"
     ]
    },
    {
     "name": "stdout",
     "output_type": "stream",
     "text": [
      "       Best parameters selected: <<{'C': 0.0028}>> for score <<0.6862529370700536>>.\n",
      "       4. Grid Search model <<<class 'sklearn.svm.classes.LinearSVC'>>>; weight: <<balanced>>; parameters: <<{'C': [0.0009, 0.0011, 0.0012, 0.0013, 0.0015, 0.0016, 0.0017, 0.0019, 0.002, 0.0021, 0.0023, 0.0024, 0.0025, 0.0027, 0.0028, 0.0032, 0.0036, 0.004, 0.0044, 0.0048, 0.0052, 0.0056, 0.006, 0.0064, 0.0068, 0.0072, 0.0076, 0.008, 0.0084]}>>\n",
      "Fitting 9 folds for each of 29 candidates, totalling 261 fits\n"
     ]
    },
    {
     "name": "stderr",
     "output_type": "stream",
     "text": [
      "[Parallel(n_jobs=1)]: Done 261 out of 261 | elapsed:   21.8s finished\n"
     ]
    },
    {
     "name": "stdout",
     "output_type": "stream",
     "text": [
      "       Best parameters selected: <<{'C': 0.0028}>> for score <<0.6862529370700536>>.\n",
      "       4. Grid Search model <<<class 'sklearn.svm.classes.LinearSVC'>>>; weight: <<{0: 1.0, 1: 91.18695652173913}>>; parameters: <<{'C': [0.001, 0.01, 0.1, 1.0, 10.0]}>>\n",
      "Fitting 9 folds for each of 5 candidates, totalling 45 fits\n"
     ]
    },
    {
     "name": "stderr",
     "output_type": "stream",
     "text": [
      "[Parallel(n_jobs=1)]: Done  45 out of  45 | elapsed:   11.0s finished\n"
     ]
    },
    {
     "name": "stdout",
     "output_type": "stream",
     "text": [
      "       Best parameters selected: <<{'C': 0.001}>> for score <<0.6765731573568509>>.\n",
      "       5. Grid Search model <<<class 'sklearn.svm.classes.LinearSVC'>>>; weight: <<{0: 1.0, 1: 91.18695652173913}>>; parameters: <<{'C': [0.0003, 0.0004, 0.0004, 0.0005, 0.0005, 0.0006, 0.0006, 0.0007, 0.0007, 0.0008, 0.0008, 0.0009, 0.0009, 0.001, 0.001, 0.0011, 0.0013, 0.0014, 0.0016, 0.0017, 0.0019, 0.002, 0.0021, 0.0023, 0.0024, 0.0026, 0.0027, 0.0029, 0.003]}>>\n",
      "Fitting 9 folds for each of 29 candidates, totalling 261 fits\n"
     ]
    },
    {
     "name": "stderr",
     "output_type": "stream",
     "text": [
      "[Parallel(n_jobs=1)]: Done 261 out of 261 | elapsed:   18.3s finished\n"
     ]
    },
    {
     "name": "stdout",
     "output_type": "stream",
     "text": [
      "       Best parameters selected: <<{'C': 0.0014}>> for score <<0.6861099696761567>>.\n",
      "       6. Grid Search model <<<class 'sklearn.svm.classes.LinearSVC'>>>; weight: <<{0: 1.0, 1: 91.18695652173913}>>; parameters: <<{'C': [0.0005, 0.0005, 0.0006, 0.0007, 0.0007, 0.0008, 0.0009, 0.0009, 0.001, 0.0011, 0.0011, 0.0012, 0.0013, 0.0013, 0.0014, 0.0016, 0.0018, 0.002, 0.0022, 0.0024, 0.0026, 0.0028, 0.003, 0.0032, 0.0034, 0.0036, 0.0038, 0.004, 0.0042]}>>\n",
      "Fitting 9 folds for each of 29 candidates, totalling 261 fits\n"
     ]
    },
    {
     "name": "stderr",
     "output_type": "stream",
     "text": [
      "[Parallel(n_jobs=1)]: Done 261 out of 261 | elapsed:   21.6s finished\n"
     ]
    },
    {
     "name": "stdout",
     "output_type": "stream",
     "text": [
      "       Best parameters selected: <<{'C': 0.0014}>> for score <<0.6861099696761567>>.\n",
      "       Final parameters selected: <<{'C': 0.0028}>> for score <<0.6862529370700536>>.\n",
      "\n",
      "          *** Score on validation dataset (macro/weighted) <<0.6518886286027294>> / <<0.9168081494057725>>.\n",
      "[[2146  173]\n",
      " [  23   14]]\n",
      "\n",
      "-------------------------------------------------------------------\n",
      "    17. Fit model for class: <<refugees>> ((21203, 12005)).\n",
      "    Tuning hyper-parameters for class: <<refugees>> (Recall).\n",
      "       1. Grid Search model <<<class 'sklearn.svm.classes.LinearSVC'>>>; weight: <<balanced>>; parameters: <<{'C': [0.001, 0.01, 0.1, 1.0, 10.0]}>>\n",
      "Fitting 9 folds for each of 5 candidates, totalling 45 fits\n"
     ]
    },
    {
     "name": "stderr",
     "output_type": "stream",
     "text": [
      "[Parallel(n_jobs=1)]: Done  45 out of  45 | elapsed:   12.2s finished\n"
     ]
    },
    {
     "name": "stdout",
     "output_type": "stream",
     "text": [
      "       Best parameters selected: <<{'C': 0.01}>> for score <<0.7961134421905877>>.\n",
      "       2. Grid Search model <<<class 'sklearn.svm.classes.LinearSVC'>>>; weight: <<balanced>>; parameters: <<{'C': [0.0033, 0.0038, 0.0043, 0.0048, 0.0052, 0.0057, 0.0062, 0.0067, 0.0071, 0.0076, 0.0081, 0.0086, 0.009, 0.0095, 0.01, 0.0114, 0.0129, 0.0143, 0.0157, 0.0171, 0.0186, 0.02, 0.0214, 0.0229, 0.0243, 0.0257, 0.0271, 0.0286, 0.03]}>>\n",
      "Fitting 9 folds for each of 29 candidates, totalling 261 fits\n"
     ]
    },
    {
     "name": "stderr",
     "output_type": "stream",
     "text": [
      "[Parallel(n_jobs=1)]: Done 261 out of 261 | elapsed:   23.6s finished\n"
     ]
    },
    {
     "name": "stdout",
     "output_type": "stream",
     "text": [
      "       Best parameters selected: <<{'C': 0.0095}>> for score <<0.7979209449802259>>.\n",
      "       3. Grid Search model <<<class 'sklearn.svm.classes.LinearSVC'>>>; weight: <<balanced>>; parameters: <<{'C': [0.0032, 0.0036, 0.0041, 0.0045, 0.005, 0.0054, 0.0059, 0.0063, 0.0068, 0.0072, 0.0077, 0.0081, 0.0086, 0.009, 0.0095, 0.0109, 0.0122, 0.0136, 0.0149, 0.0163, 0.0176, 0.019, 0.0204, 0.0217, 0.0231, 0.0244, 0.0258, 0.0271, 0.0285]}>>\n",
      "Fitting 9 folds for each of 29 candidates, totalling 261 fits\n"
     ]
    },
    {
     "name": "stderr",
     "output_type": "stream",
     "text": [
      "[Parallel(n_jobs=1)]: Done 261 out of 261 | elapsed:   23.5s finished\n"
     ]
    },
    {
     "name": "stdout",
     "output_type": "stream",
     "text": [
      "       Best parameters selected: <<{'C': 0.0095}>> for score <<0.7979209449802259>>.\n",
      "       3. Grid Search model <<<class 'sklearn.svm.classes.LinearSVC'>>>; weight: <<{0: 1.0, 1: 59.28034682080924}>>; parameters: <<{'C': [0.001, 0.01, 0.1, 1.0, 10.0]}>>\n",
      "Fitting 9 folds for each of 5 candidates, totalling 45 fits\n"
     ]
    },
    {
     "name": "stderr",
     "output_type": "stream",
     "text": [
      "[Parallel(n_jobs=1)]: Done  45 out of  45 | elapsed:   15.6s finished\n"
     ]
    },
    {
     "name": "stdout",
     "output_type": "stream",
     "text": [
      "       Best parameters selected: <<{'C': 0.01}>> for score <<0.7956350622197681>>.\n",
      "       4. Grid Search model <<<class 'sklearn.svm.classes.LinearSVC'>>>; weight: <<{0: 1.0, 1: 59.28034682080924}>>; parameters: <<{'C': [0.0033, 0.0038, 0.0043, 0.0048, 0.0052, 0.0057, 0.0062, 0.0067, 0.0071, 0.0076, 0.0081, 0.0086, 0.009, 0.0095, 0.01, 0.0114, 0.0129, 0.0143, 0.0157, 0.0171, 0.0186, 0.02, 0.0214, 0.0229, 0.0243, 0.0257, 0.0271, 0.0286, 0.03]}>>\n",
      "Fitting 9 folds for each of 29 candidates, totalling 261 fits\n"
     ]
    },
    {
     "name": "stderr",
     "output_type": "stream",
     "text": [
      "[Parallel(n_jobs=1)]: Done 261 out of 261 | elapsed:   47.2s finished\n"
     ]
    },
    {
     "name": "stdout",
     "output_type": "stream",
     "text": [
      "       Best parameters selected: <<{'C': 0.0114}>> for score <<0.7976980931634858>>.\n",
      "       5. Grid Search model <<<class 'sklearn.svm.classes.LinearSVC'>>>; weight: <<{0: 1.0, 1: 59.28034682080924}>>; parameters: <<{'C': [0.0038, 0.0043, 0.0049, 0.0054, 0.006, 0.0065, 0.0071, 0.0076, 0.0081, 0.0087, 0.0092, 0.0098, 0.0103, 0.0109, 0.0114, 0.013, 0.0147, 0.0163, 0.0179, 0.0195, 0.0212, 0.0228, 0.0244, 0.0261, 0.0277, 0.0293, 0.0309, 0.0326, 0.0342]}>>\n",
      "Fitting 9 folds for each of 29 candidates, totalling 261 fits\n"
     ]
    },
    {
     "name": "stderr",
     "output_type": "stream",
     "text": [
      "[Parallel(n_jobs=1)]: Done 261 out of 261 | elapsed:   53.8s finished\n"
     ]
    },
    {
     "name": "stdout",
     "output_type": "stream",
     "text": [
      "       Best parameters selected: <<{'C': 0.0114}>> for score <<0.7976980931634858>>.\n",
      "       Final parameters selected: <<{'C': 0.0095}>> for score <<0.7979209449802259>>.\n",
      "\n",
      "          *** Score on validation dataset (macro/weighted) <<0.7957813648042424>> / <<0.8921901528013583>>.\n",
      "[[2035  224]\n",
      " [  30   67]]\n",
      "\n",
      "-------------------------------------------------------------------\n",
      "    18. Fit model for class: <<death>> ((21203, 12005)).\n",
      "    Tuning hyper-parameters for class: <<death>> (Recall).\n",
      "       1. Grid Search model <<<class 'sklearn.svm.classes.LinearSVC'>>>; weight: <<balanced>>; parameters: <<{'C': [0.001, 0.01, 0.1, 1.0, 10.0]}>>\n",
      "Fitting 9 folds for each of 5 candidates, totalling 45 fits\n"
     ]
    }
   ],
   "source": [
    "from models.train_classifier import executeMain\n",
    "g_train = True\n",
    "g_debug = False\n",
    "\n",
    "if g_train:\n",
    "    v_model, X_train, X_test, y_train, y_test, y_pred_test = executeMain( 'data/DisasterResponse.db', \n",
    "                                                                          'models/savedModel.pkl',\n",
    "                                                                           p_maxCateg    = 2 if g_debug else None,\n",
    "                                                                           p_CVSplits    = 9,\n",
    "                                                                           p_pointsBin   = 2 if g_debug else 15,\n",
    "                                                                           p_maxFeatures = 12000,\n",
    "                                                                           p_reloadData  = True )"
   ]
  },
  {
   "cell_type": "code",
   "execution_count": null,
   "metadata": {},
   "outputs": [],
   "source": [
    "from sklearn.externals import joblib\n",
    "from models.HMsgClasses import getTokenizedMessage\n",
    "\n",
    "v_model = joblib.load(\"models/savedModel.pkl\")\n",
    "display(v_model.predict(getTokenizedMessage('We+are+more+than+50+peoples+on+the+street.+please+hlp+us+find+tent+and+food')))"
   ]
  },
  {
   "cell_type": "code",
   "execution_count": null,
   "metadata": {},
   "outputs": [],
   "source": []
  }
 ],
 "metadata": {
  "kernelspec": {
   "display_name": "Python 3",
   "language": "python",
   "name": "python3"
  },
  "language_info": {
   "codemirror_mode": {
    "name": "ipython",
    "version": 3
   },
   "file_extension": ".py",
   "mimetype": "text/x-python",
   "name": "python",
   "nbconvert_exporter": "python",
   "pygments_lexer": "ipython3",
   "version": "3.6.6"
  }
 },
 "nbformat": 4,
 "nbformat_minor": 2
}
