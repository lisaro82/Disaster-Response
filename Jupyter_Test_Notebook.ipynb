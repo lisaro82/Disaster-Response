{
 "cells": [
  {
   "cell_type": "code",
   "execution_count": 1,
   "metadata": {},
   "outputs": [],
   "source": [
    "from models.train_classifier import executeMain"
   ]
  },
  {
   "cell_type": "code",
   "execution_count": 2,
   "metadata": {
    "scrolled": false
   },
   "outputs": [
    {
     "name": "stdout",
     "output_type": "stream",
     "text": [
      "Loading data...\n",
      "    Database filepath <<data/DisasterResponse.db>>\n",
      "Building model...\n",
      "Training model...\n",
      "------------------------------------------------------------------\n",
      "Top 100 words are the following: \n",
      "['water', 'peopl', 'food', 'help', 'need', 'pleas', 'earthquak', 'say', 'area', 'like', 'would', 'flood', 'countri', 'know', '000', 'find', 'thank', 'govern', 'also', 'get', 'hous', 'rain', 'go', 'haiti', 'one', 'inform', 'work', 'year', 'sandi', 'provid', 'make', 'affect', 'tent', 'give', 'includ', 'aid', 'famili', 'region', 'nation', 'good', 'suppli', 'relief', 'live', 'come', 'commun', 'urlplacehold', 'child', 'day', 'two', 'send', 'health', 'take', 'report', 'distribut', 'messag', 'well', 'villag', 'school', 'mani', 'state', 'caus', 'use', 'power', 'sever', 'want', 'emerg', 'support', 'assist', 'new', 'provinc', 'time', 'disast', 'damag', 'million', 'home', 'sinc', 'shelter', 'build', 'local', 'intern', 'continu', 'unit', 'district', 'citi', 'road', 'victim', 'storm', 'hit', 'receiv', 'even', 'last', 'diseas', 'part', 'crop', 'call', 'hurrican', 'leav', 'medic', 'system', 'river']\n",
      "\n",
      "-------------------------------------------------------------------\n",
      "    1. Fit model for class: <<genre>> ((21203, 23976)).\n",
      "    Tuning hyper-parameters for class: <<genre>> (Recall).\n",
      "       1. Grid Search model <<<class 'sklearn.svm.classes.LinearSVC'>>>; weight: <<balanced>>; parameters: <<{'C': [0.001, 0.01, 0.1, 1.0, 10.0]}>>\n",
      "Fitting 12 folds for each of 5 candidates, totalling 60 fits\n"
     ]
    },
    {
     "name": "stderr",
     "output_type": "stream",
     "text": [
      "[Parallel(n_jobs=1)]: Done  60 out of  60 | elapsed:   14.5s finished\n"
     ]
    },
    {
     "name": "stdout",
     "output_type": "stream",
     "text": [
      "       Best parameters selected: <<{'C': 1.0}>> for score <<0.9462918020428752>>.\n",
      "       2. Grid Search model <<<class 'sklearn.svm.classes.LinearSVC'>>>; weight: <<balanced>>; parameters: <<{'C': [0.3333, 0.381, 0.4286, 0.4762, 0.5238, 0.5714, 0.619, 0.6667, 0.7143, 0.7619, 0.8095, 0.8571, 0.9048, 0.9524, 1.0, 1.1429, 1.2857, 1.4286, 1.5714, 1.7143, 1.8571, 2.0, 2.1429, 2.2857, 2.4286, 2.5714, 2.7143, 2.8571, 3.0]}>>\n",
      "Fitting 12 folds for each of 29 candidates, totalling 348 fits\n"
     ]
    },
    {
     "name": "stderr",
     "output_type": "stream",
     "text": [
      "[Parallel(n_jobs=1)]: Done 348 out of 348 | elapsed:  1.3min finished\n"
     ]
    },
    {
     "name": "stdout",
     "output_type": "stream",
     "text": [
      "       Best parameters selected: <<{'C': 0.3333}>> for score <<0.9495537443850298>>.\n",
      "       3. Grid Search model <<<class 'sklearn.svm.classes.LinearSVC'>>>; weight: <<balanced>>; parameters: <<{'C': [0.1111, 0.127, 0.1428, 0.1587, 0.1746, 0.1905, 0.2063, 0.2222, 0.2381, 0.2539, 0.2698, 0.2857, 0.3016, 0.3174, 0.3333, 0.3809, 0.4285, 0.4761, 0.5238, 0.5714, 0.619, 0.6666, 0.7142, 0.7618, 0.8094, 0.8571, 0.9047, 0.9523, 0.9999]}>>\n",
      "Fitting 12 folds for each of 29 candidates, totalling 348 fits\n"
     ]
    },
    {
     "name": "stderr",
     "output_type": "stream",
     "text": [
      "[Parallel(n_jobs=1)]: Done 348 out of 348 | elapsed:   50.7s finished\n"
     ]
    },
    {
     "name": "stdout",
     "output_type": "stream",
     "text": [
      "       Best parameters selected: <<{'C': 0.3333}>> for score <<0.9495537443850298>>.\n",
      "       Final parameters selected: <<{'C': 0.3333}>> for score <<0.9495537443850298>>.\n",
      "\n",
      "          *** Score on validation dataset (macro/weighted) <<0.9499348829624222>> / <<0.9613752122241087>>.\n",
      "[[1129   25    0]\n",
      " [  44  948    6]\n",
      " [   1   15  188]]\n",
      "\n",
      "-------------------------------------------------------------------\n",
      "    2. Fit model for class: <<related>> ((21203, 23977)).\n",
      "    Tuning hyper-parameters for class: <<related>> (Recall).\n",
      "       1. Grid Search model <<<class 'sklearn.svm.classes.LinearSVC'>>>; weight: <<balanced>>; parameters: <<{'C': [0.001, 0.01, 0.1, 1.0, 10.0]}>>\n",
      "Fitting 12 folds for each of 5 candidates, totalling 60 fits\n"
     ]
    },
    {
     "name": "stderr",
     "output_type": "stream",
     "text": [
      "[Parallel(n_jobs=1)]: Done  60 out of  60 | elapsed:   49.5s finished\n"
     ]
    },
    {
     "name": "stdout",
     "output_type": "stream",
     "text": [
      "       Best parameters selected: <<{'C': 0.1}>> for score <<0.6310619313146554>>.\n",
      "       2. Grid Search model <<<class 'sklearn.svm.classes.LinearSVC'>>>; weight: <<balanced>>; parameters: <<{'C': [0.0333, 0.0381, 0.0429, 0.0476, 0.0524, 0.0571, 0.0619, 0.0667, 0.0714, 0.0762, 0.081, 0.0857, 0.0905, 0.0952, 0.1, 0.1143, 0.1286, 0.1429, 0.1571, 0.1714, 0.1857, 0.2, 0.2143, 0.2286, 0.2429, 0.2571, 0.2714, 0.2857, 0.3]}>>\n",
      "Fitting 12 folds for each of 29 candidates, totalling 348 fits\n"
     ]
    },
    {
     "name": "stderr",
     "output_type": "stream",
     "text": [
      "[Parallel(n_jobs=1)]: Done 348 out of 348 | elapsed:  1.9min finished\n"
     ]
    },
    {
     "name": "stdout",
     "output_type": "stream",
     "text": [
      "       Best parameters selected: <<{'C': 0.1286}>> for score <<0.6358002418208377>>.\n",
      "       3. Grid Search model <<<class 'sklearn.svm.classes.LinearSVC'>>>; weight: <<balanced>>; parameters: <<{'C': [0.0429, 0.049, 0.0551, 0.0612, 0.0674, 0.0735, 0.0796, 0.0857, 0.0919, 0.098, 0.1041, 0.1102, 0.1164, 0.1225, 0.1286, 0.147, 0.1653, 0.1837, 0.2021, 0.2205, 0.2388, 0.2572, 0.2756, 0.2939, 0.3123, 0.3307, 0.3491, 0.3674, 0.3858]}>>\n",
      "Fitting 12 folds for each of 29 candidates, totalling 348 fits\n"
     ]
    },
    {
     "name": "stderr",
     "output_type": "stream",
     "text": [
      "[Parallel(n_jobs=1)]: Done 348 out of 348 | elapsed:  2.2min finished\n"
     ]
    },
    {
     "name": "stdout",
     "output_type": "stream",
     "text": [
      "       Best parameters selected: <<{'C': 0.1286}>> for score <<0.6358002418208377>>.\n",
      "       3. Grid Search model <<<class 'sklearn.svm.classes.LinearSVC'>>>; weight: <<{1: 1.0, 0: 6.557723577235772, 2: 106.8344370860927}>>; parameters: <<{'C': [0.001, 0.01, 0.1, 1.0, 10.0]}>>\n",
      "Fitting 12 folds for each of 5 candidates, totalling 60 fits\n"
     ]
    },
    {
     "name": "stderr",
     "output_type": "stream",
     "text": [
      "[Parallel(n_jobs=1)]: Done  60 out of  60 | elapsed:  1.0min finished\n"
     ]
    },
    {
     "name": "stdout",
     "output_type": "stream",
     "text": [
      "       Best parameters selected: <<{'C': 1.0}>> for score <<0.6148507546977395>>.\n",
      "       4. Grid Search model <<<class 'sklearn.svm.classes.LinearSVC'>>>; weight: <<{1: 1.0, 0: 6.557723577235772, 2: 106.8344370860927}>>; parameters: <<{'C': [0.3333, 0.381, 0.4286, 0.4762, 0.5238, 0.5714, 0.619, 0.6667, 0.7143, 0.7619, 0.8095, 0.8571, 0.9048, 0.9524, 1.0, 1.1429, 1.2857, 1.4286, 1.5714, 1.7143, 1.8571, 2.0, 2.1429, 2.2857, 2.4286, 2.5714, 2.7143, 2.8571, 3.0]}>>\n",
      "Fitting 12 folds for each of 29 candidates, totalling 348 fits\n"
     ]
    },
    {
     "name": "stderr",
     "output_type": "stream",
     "text": [
      "[Parallel(n_jobs=1)]: Done 348 out of 348 | elapsed:  9.6min finished\n"
     ]
    },
    {
     "name": "stdout",
     "output_type": "stream",
     "text": [
      "       Best parameters selected: <<{'C': 1.7143}>> for score <<0.6256934403856333>>.\n",
      "       5. Grid Search model <<<class 'sklearn.svm.classes.LinearSVC'>>>; weight: <<{1: 1.0, 0: 6.557723577235772, 2: 106.8344370860927}>>; parameters: <<{'C': [0.5714, 0.6531, 0.7347, 0.8163, 0.898, 0.9796, 1.0612, 1.1429, 1.2245, 1.3061, 1.3878, 1.4694, 1.551, 1.6327, 1.7143, 1.9592, 2.2041, 2.449, 2.6939, 2.9388, 3.1837, 3.4286, 3.6735, 3.9184, 4.1633, 4.4082, 4.6531, 4.898, 5.1429]}>>\n",
      "Fitting 12 folds for each of 29 candidates, totalling 348 fits\n"
     ]
    },
    {
     "name": "stderr",
     "output_type": "stream",
     "text": [
      "[Parallel(n_jobs=1)]: Done 348 out of 348 | elapsed: 11.4min finished\n"
     ]
    },
    {
     "name": "stdout",
     "output_type": "stream",
     "text": [
      "       Best parameters selected: <<{'C': 1.7143}>> for score <<0.6256934403856333>>.\n",
      "       Final parameters selected: <<{'C': 0.1286}>> for score <<0.6358002418208377>>.\n",
      "\n",
      "          *** Score on validation dataset (macro/weighted) <<0.6600925468264212>> / <<0.8348896434634975>>.\n",
      "[[ 355  188    6]\n",
      " [ 181 1605    5]\n",
      " [   5    4    7]]\n",
      "\n",
      "-------------------------------------------------------------------\n",
      "    3. Fit model for class: <<request>> ((21203, 23977)).\n",
      "    Tuning hyper-parameters for class: <<request>> (Recall).\n",
      "       1. Grid Search model <<<class 'sklearn.svm.classes.LinearSVC'>>>; weight: <<balanced>>; parameters: <<{'C': [0.001, 0.01, 0.1, 1.0, 10.0]}>>\n",
      "Fitting 12 folds for each of 5 candidates, totalling 60 fits\n"
     ]
    },
    {
     "name": "stderr",
     "output_type": "stream",
     "text": [
      "[Parallel(n_jobs=1)]: Done  60 out of  60 | elapsed:   19.0s finished\n"
     ]
    },
    {
     "name": "stdout",
     "output_type": "stream",
     "text": [
      "       Best parameters selected: <<{'C': 0.1}>> for score <<0.8293867869611108>>.\n",
      "       2. Grid Search model <<<class 'sklearn.svm.classes.LinearSVC'>>>; weight: <<balanced>>; parameters: <<{'C': [0.0333, 0.0381, 0.0429, 0.0476, 0.0524, 0.0571, 0.0619, 0.0667, 0.0714, 0.0762, 0.081, 0.0857, 0.0905, 0.0952, 0.1, 0.1143, 0.1286, 0.1429, 0.1571, 0.1714, 0.1857, 0.2, 0.2143, 0.2286, 0.2429, 0.2571, 0.2714, 0.2857, 0.3]}>>\n",
      "Fitting 12 folds for each of 29 candidates, totalling 348 fits\n"
     ]
    },
    {
     "name": "stderr",
     "output_type": "stream",
     "text": [
      "[Parallel(n_jobs=1)]: Done 348 out of 348 | elapsed:   41.7s finished\n"
     ]
    },
    {
     "name": "stdout",
     "output_type": "stream",
     "text": [
      "       Best parameters selected: <<{'C': 0.0952}>> for score <<0.8295256249276587>>.\n",
      "       3. Grid Search model <<<class 'sklearn.svm.classes.LinearSVC'>>>; weight: <<balanced>>; parameters: <<{'C': [0.0317, 0.0363, 0.0408, 0.0453, 0.0499, 0.0544, 0.0589, 0.0635, 0.068, 0.0725, 0.0771, 0.0816, 0.0861, 0.0907, 0.0952, 0.1088, 0.1224, 0.136, 0.1496, 0.1632, 0.1768, 0.1904, 0.204, 0.2176, 0.2312, 0.2448, 0.2584, 0.272, 0.2856]}>>\n",
      "Fitting 12 folds for each of 29 candidates, totalling 348 fits\n"
     ]
    },
    {
     "name": "stderr",
     "output_type": "stream",
     "text": [
      "[Parallel(n_jobs=1)]: Done 348 out of 348 | elapsed:   41.0s finished\n"
     ]
    },
    {
     "name": "stdout",
     "output_type": "stream",
     "text": [
      "       Best parameters selected: <<{'C': 0.0907}>> for score <<0.8295256850416747>>.\n",
      "       4. Grid Search model <<<class 'sklearn.svm.classes.LinearSVC'>>>; weight: <<balanced>>; parameters: <<{'C': [0.0302, 0.0346, 0.0389, 0.0432, 0.0475, 0.0518, 0.0561, 0.0605, 0.0648, 0.0691, 0.0734, 0.0777, 0.0821, 0.0864, 0.0907, 0.1037, 0.1166, 0.1296, 0.1425, 0.1555, 0.1684, 0.1814, 0.1944, 0.2073, 0.2203, 0.2332, 0.2462, 0.2591, 0.2721]}>>\n",
      "Fitting 12 folds for each of 29 candidates, totalling 348 fits\n"
     ]
    },
    {
     "name": "stderr",
     "output_type": "stream",
     "text": [
      "[Parallel(n_jobs=1)]: Done 348 out of 348 | elapsed:   39.5s finished\n"
     ]
    },
    {
     "name": "stdout",
     "output_type": "stream",
     "text": [
      "       Best parameters selected: <<{'C': 0.0907}>> for score <<0.8295256850416747>>.\n",
      "       4. Grid Search model <<<class 'sklearn.svm.classes.LinearSVC'>>>; weight: <<{0: 1.0, 1: 9.895091164095373}>>; parameters: <<{'C': [0.001, 0.01, 0.1, 1.0, 10.0]}>>\n",
      "Fitting 12 folds for each of 5 candidates, totalling 60 fits\n"
     ]
    },
    {
     "name": "stderr",
     "output_type": "stream",
     "text": [
      "[Parallel(n_jobs=1)]: Done  60 out of  60 | elapsed:   28.6s finished\n"
     ]
    },
    {
     "name": "stdout",
     "output_type": "stream",
     "text": [
      "       Best parameters selected: <<{'C': 0.1}>> for score <<0.82365191826425>>.\n",
      "       5. Grid Search model <<<class 'sklearn.svm.classes.LinearSVC'>>>; weight: <<{0: 1.0, 1: 9.895091164095373}>>; parameters: <<{'C': [0.0333, 0.0381, 0.0429, 0.0476, 0.0524, 0.0571, 0.0619, 0.0667, 0.0714, 0.0762, 0.081, 0.0857, 0.0905, 0.0952, 0.1, 0.1143, 0.1286, 0.1429, 0.1571, 0.1714, 0.1857, 0.2, 0.2143, 0.2286, 0.2429, 0.2571, 0.2714, 0.2857, 0.3]}>>\n",
      "Fitting 12 folds for each of 29 candidates, totalling 348 fits\n"
     ]
    },
    {
     "name": "stderr",
     "output_type": "stream",
     "text": [
      "[Parallel(n_jobs=1)]: Done 348 out of 348 | elapsed:  1.5min finished\n"
     ]
    },
    {
     "name": "stdout",
     "output_type": "stream",
     "text": [
      "       Best parameters selected: <<{'C': 0.0524}>> for score <<0.8256110500863445>>.\n",
      "       6. Grid Search model <<<class 'sklearn.svm.classes.LinearSVC'>>>; weight: <<{0: 1.0, 1: 9.895091164095373}>>; parameters: <<{'C': [0.0175, 0.02, 0.0225, 0.025, 0.0274, 0.0299, 0.0324, 0.0349, 0.0374, 0.0399, 0.0424, 0.0449, 0.0474, 0.0499, 0.0524, 0.0599, 0.0674, 0.0749, 0.0823, 0.0898, 0.0973, 0.1048, 0.1123, 0.1198, 0.1273, 0.1347, 0.1422, 0.1497, 0.1572]}>>\n",
      "Fitting 12 folds for each of 29 candidates, totalling 348 fits\n"
     ]
    },
    {
     "name": "stderr",
     "output_type": "stream",
     "text": [
      "[Parallel(n_jobs=1)]: Done 348 out of 348 | elapsed:   59.2s finished\n"
     ]
    },
    {
     "name": "stdout",
     "output_type": "stream",
     "text": [
      "       Best parameters selected: <<{'C': 0.0524}>> for score <<0.8256110500863445>>.\n",
      "       Final parameters selected: <<{'C': 0.0907}>> for score <<0.8295256850416747>>.\n",
      "\n",
      "          *** Score on validation dataset (macro/weighted) <<0.8144746159462564>> / <<0.8637521222410866>>.\n",
      "[[1723  210]\n",
      " [ 111  312]]\n",
      "\n",
      "-------------------------------------------------------------------\n",
      "    4. Fit model for class: <<offer>> ((21203, 23977)).\n",
      "    Tuning hyper-parameters for class: <<offer>> (Recall).\n",
      "       1. Grid Search model <<<class 'sklearn.svm.classes.LinearSVC'>>>; weight: <<balanced>>; parameters: <<{'C': [0.001, 0.01, 0.1, 1.0, 10.0]}>>\n",
      "Fitting 12 folds for each of 5 candidates, totalling 60 fits\n"
     ]
    },
    {
     "name": "stderr",
     "output_type": "stream",
     "text": [
      "[Parallel(n_jobs=1)]: Done  60 out of  60 | elapsed:    8.1s finished\n"
     ]
    },
    {
     "name": "stdout",
     "output_type": "stream",
     "text": [
      "       Best parameters selected: <<{'C': 0.001}>> for score <<0.6681686708137552>>.\n",
      "       2. Grid Search model <<<class 'sklearn.svm.classes.LinearSVC'>>>; weight: <<balanced>>; parameters: <<{'C': [0.0003, 0.0004, 0.0004, 0.0005, 0.0005, 0.0006, 0.0006, 0.0007, 0.0007, 0.0008, 0.0008, 0.0009, 0.0009, 0.001, 0.001, 0.0011, 0.0013, 0.0014, 0.0016, 0.0017, 0.0019, 0.002, 0.0021, 0.0023, 0.0024, 0.0026, 0.0027, 0.0029, 0.003]}>>\n",
      "Fitting 12 folds for each of 29 candidates, totalling 348 fits\n"
     ]
    },
    {
     "name": "stderr",
     "output_type": "stream",
     "text": [
      "[Parallel(n_jobs=1)]: Done 348 out of 348 | elapsed:   22.1s finished\n"
     ]
    },
    {
     "name": "stdout",
     "output_type": "stream",
     "text": [
      "       Best parameters selected: <<{'C': 0.0005}>> for score <<0.6970651338163406>>.\n",
      "       3. Grid Search model <<<class 'sklearn.svm.classes.LinearSVC'>>>; weight: <<balanced>>; parameters: <<{'C': [0.0002, 0.0002, 0.0002, 0.0002, 0.0003, 0.0003, 0.0003, 0.0003, 0.0004, 0.0004, 0.0004, 0.0004, 0.0005, 0.0005, 0.0005, 0.0006, 0.0006, 0.0007, 0.0008, 0.0009, 0.0009, 0.001, 0.0011, 0.0011, 0.0012, 0.0013, 0.0014, 0.0014, 0.0015]}>>\n",
      "Fitting 12 folds for each of 29 candidates, totalling 348 fits\n"
     ]
    },
    {
     "name": "stderr",
     "output_type": "stream",
     "text": [
      "[Parallel(n_jobs=1)]: Done 348 out of 348 | elapsed:   17.4s finished\n"
     ]
    },
    {
     "name": "stdout",
     "output_type": "stream",
     "text": [
      "       Best parameters selected: <<{'C': 0.0005}>> for score <<0.6970651338163406>>.\n",
      "       3. Grid Search model <<<class 'sklearn.svm.classes.LinearSVC'>>>; weight: <<{0: 1.0, 1: 242.71264367816093}>>; parameters: <<{'C': [0.001, 0.01, 0.1, 1.0, 10.0]}>>\n",
      "Fitting 12 folds for each of 5 candidates, totalling 60 fits\n"
     ]
    },
    {
     "name": "stderr",
     "output_type": "stream",
     "text": [
      "[Parallel(n_jobs=1)]: Done  60 out of  60 | elapsed:    8.3s finished\n"
     ]
    },
    {
     "name": "stdout",
     "output_type": "stream",
     "text": [
      "       Best parameters selected: <<{'C': 0.001}>> for score <<0.6556814845428318>>.\n",
      "       4. Grid Search model <<<class 'sklearn.svm.classes.LinearSVC'>>>; weight: <<{0: 1.0, 1: 242.71264367816093}>>; parameters: <<{'C': [0.0003, 0.0004, 0.0004, 0.0005, 0.0005, 0.0006, 0.0006, 0.0007, 0.0007, 0.0008, 0.0008, 0.0009, 0.0009, 0.001, 0.001, 0.0011, 0.0013, 0.0014, 0.0016, 0.0017, 0.0019, 0.002, 0.0021, 0.0023, 0.0024, 0.0026, 0.0027, 0.0029, 0.003]}>>\n",
      "Fitting 12 folds for each of 29 candidates, totalling 348 fits\n"
     ]
    },
    {
     "name": "stderr",
     "output_type": "stream",
     "text": [
      "[Parallel(n_jobs=1)]: Done 348 out of 348 | elapsed:   29.7s finished\n"
     ]
    },
    {
     "name": "stdout",
     "output_type": "stream",
     "text": [
      "       Best parameters selected: <<{'C': 0.0003}>> for score <<0.6775810553687114>>.\n",
      "       5. Grid Search model <<<class 'sklearn.svm.classes.LinearSVC'>>>; weight: <<{0: 1.0, 1: 242.71264367816093}>>; parameters: <<{'C': [0.0001, 0.0001, 0.0001, 0.0001, 0.0002, 0.0002, 0.0002, 0.0002, 0.0002, 0.0002, 0.0002, 0.0003, 0.0003, 0.0003, 0.0003, 0.0003, 0.0004, 0.0004, 0.0005, 0.0005, 0.0006, 0.0006, 0.0006, 0.0007, 0.0007, 0.0008, 0.0008, 0.0009, 0.0009]}>>\n",
      "Fitting 12 folds for each of 29 candidates, totalling 348 fits\n"
     ]
    },
    {
     "name": "stderr",
     "output_type": "stream",
     "text": [
      "[Parallel(n_jobs=1)]: Done 348 out of 348 | elapsed:   18.1s finished\n"
     ]
    },
    {
     "name": "stdout",
     "output_type": "stream",
     "text": [
      "       Best parameters selected: <<{'C': 0.0003}>> for score <<0.6775810553687114>>.\n",
      "       Final parameters selected: <<{'C': 0.0005}>> for score <<0.6970651338163406>>.\n",
      "\n",
      "          *** Score on validation dataset (macro/weighted) <<0.6120686824912177>> / <<0.8370118845500849>>.\n",
      "[[1967  376]\n",
      " [   8    5]]\n",
      "\n",
      "-------------------------------------------------------------------\n",
      "    5. Fit model for class: <<aid_related>> ((21203, 23977)).\n",
      "    Tuning hyper-parameters for class: <<aid_related>> (Recall).\n",
      "       1. Grid Search model <<<class 'sklearn.svm.classes.LinearSVC'>>>; weight: <<balanced>>; parameters: <<{'C': [0.001, 0.01, 0.1, 1.0, 10.0]}>>\n",
      "Fitting 12 folds for each of 5 candidates, totalling 60 fits\n"
     ]
    },
    {
     "name": "stderr",
     "output_type": "stream",
     "text": [
      "[Parallel(n_jobs=1)]: Done  60 out of  60 | elapsed:   24.7s finished\n"
     ]
    },
    {
     "name": "stdout",
     "output_type": "stream",
     "text": [
      "       Best parameters selected: <<{'C': 0.1}>> for score <<0.7715048015990957>>.\n",
      "       2. Grid Search model <<<class 'sklearn.svm.classes.LinearSVC'>>>; weight: <<balanced>>; parameters: <<{'C': [0.0333, 0.0381, 0.0429, 0.0476, 0.0524, 0.0571, 0.0619, 0.0667, 0.0714, 0.0762, 0.081, 0.0857, 0.0905, 0.0952, 0.1, 0.1143, 0.1286, 0.1429, 0.1571, 0.1714, 0.1857, 0.2, 0.2143, 0.2286, 0.2429, 0.2571, 0.2714, 0.2857, 0.3]}>>\n",
      "Fitting 12 folds for each of 29 candidates, totalling 348 fits\n"
     ]
    },
    {
     "name": "stderr",
     "output_type": "stream",
     "text": [
      "[Parallel(n_jobs=1)]: Done 348 out of 348 | elapsed:   30.2s finished\n"
     ]
    },
    {
     "name": "stdout",
     "output_type": "stream",
     "text": [
      "       Best parameters selected: <<{'C': 0.0619}>> for score <<0.7732095601150282>>.\n",
      "       3. Grid Search model <<<class 'sklearn.svm.classes.LinearSVC'>>>; weight: <<balanced>>; parameters: <<{'C': [0.0206, 0.0236, 0.0265, 0.0295, 0.0324, 0.0354, 0.0383, 0.0413, 0.0442, 0.0472, 0.0501, 0.0531, 0.056, 0.059, 0.0619, 0.0707, 0.0796, 0.0884, 0.0973, 0.1061, 0.115, 0.1238, 0.1326, 0.1415, 0.1503, 0.1592, 0.168, 0.1769, 0.1857]}>>\n",
      "Fitting 12 folds for each of 29 candidates, totalling 348 fits\n"
     ]
    },
    {
     "name": "stderr",
     "output_type": "stream",
     "text": [
      "[Parallel(n_jobs=1)]: Done 348 out of 348 | elapsed:   24.0s finished\n"
     ]
    },
    {
     "name": "stdout",
     "output_type": "stream",
     "text": [
      "       Best parameters selected: <<{'C': 0.0619}>> for score <<0.7732095601150282>>.\n",
      "       3. Grid Search model <<<class 'sklearn.svm.classes.LinearSVC'>>>; weight: <<{0: 1.0, 1: 2.844185515193055}>>; parameters: <<{'C': [0.001, 0.01, 0.1, 1.0, 10.0]}>>\n",
      "Fitting 12 folds for each of 5 candidates, totalling 60 fits\n"
     ]
    },
    {
     "name": "stderr",
     "output_type": "stream",
     "text": [
      "[Parallel(n_jobs=1)]: Done  60 out of  60 | elapsed:   29.0s finished\n"
     ]
    },
    {
     "name": "stdout",
     "output_type": "stream",
     "text": [
      "       Best parameters selected: <<{'C': 0.1}>> for score <<0.763824698984542>>.\n",
      "       4. Grid Search model <<<class 'sklearn.svm.classes.LinearSVC'>>>; weight: <<{0: 1.0, 1: 2.844185515193055}>>; parameters: <<{'C': [0.0333, 0.0381, 0.0429, 0.0476, 0.0524, 0.0571, 0.0619, 0.0667, 0.0714, 0.0762, 0.081, 0.0857, 0.0905, 0.0952, 0.1, 0.1143, 0.1286, 0.1429, 0.1571, 0.1714, 0.1857, 0.2, 0.2143, 0.2286, 0.2429, 0.2571, 0.2714, 0.2857, 0.3]}>>\n",
      "Fitting 12 folds for each of 29 candidates, totalling 348 fits\n"
     ]
    },
    {
     "name": "stderr",
     "output_type": "stream",
     "text": [
      "[Parallel(n_jobs=1)]: Done 348 out of 348 | elapsed:   47.3s finished\n"
     ]
    },
    {
     "name": "stdout",
     "output_type": "stream",
     "text": [
      "       Best parameters selected: <<{'C': 0.1286}>> for score <<0.7648951664256685>>.\n",
      "       5. Grid Search model <<<class 'sklearn.svm.classes.LinearSVC'>>>; weight: <<{0: 1.0, 1: 2.844185515193055}>>; parameters: <<{'C': [0.0429, 0.049, 0.0551, 0.0612, 0.0674, 0.0735, 0.0796, 0.0857, 0.0919, 0.098, 0.1041, 0.1102, 0.1164, 0.1225, 0.1286, 0.147, 0.1653, 0.1837, 0.2021, 0.2205, 0.2388, 0.2572, 0.2756, 0.2939, 0.3123, 0.3307, 0.3491, 0.3674, 0.3858]}>>\n",
      "Fitting 12 folds for each of 29 candidates, totalling 348 fits\n"
     ]
    },
    {
     "name": "stderr",
     "output_type": "stream",
     "text": [
      "[Parallel(n_jobs=1)]: Done 348 out of 348 | elapsed:   56.1s finished\n"
     ]
    },
    {
     "name": "stdout",
     "output_type": "stream",
     "text": [
      "       Best parameters selected: <<{'C': 0.1225}>> for score <<0.764965579069038>>.\n",
      "       6. Grid Search model <<<class 'sklearn.svm.classes.LinearSVC'>>>; weight: <<{0: 1.0, 1: 2.844185515193055}>>; parameters: <<{'C': [0.0408, 0.0467, 0.0525, 0.0583, 0.0642, 0.07, 0.0758, 0.0817, 0.0875, 0.0933, 0.0992, 0.105, 0.1108, 0.1167, 0.1225, 0.14, 0.1575, 0.175, 0.1925, 0.21, 0.2275, 0.245, 0.2625, 0.28, 0.2975, 0.315, 0.3325, 0.35, 0.3675]}>>\n",
      "Fitting 12 folds for each of 29 candidates, totalling 348 fits\n"
     ]
    },
    {
     "name": "stderr",
     "output_type": "stream",
     "text": [
      "[Parallel(n_jobs=1)]: Done 348 out of 348 | elapsed:   54.7s finished\n"
     ]
    },
    {
     "name": "stdout",
     "output_type": "stream",
     "text": [
      "       Best parameters selected: <<{'C': 0.1225}>> for score <<0.764965579069038>>.\n",
      "       Final parameters selected: <<{'C': 0.0619}>> for score <<0.7732095601150282>>.\n",
      "\n",
      "          *** Score on validation dataset (macro/weighted) <<0.7729275354210666>> / <<0.7775891341256367>>.\n",
      "[[1086  263]\n",
      " [ 261  746]]\n",
      "\n",
      "-------------------------------------------------------------------\n",
      "    6. Fit model for class: <<medical_help>> ((21203, 23977)).\n",
      "    Tuning hyper-parameters for class: <<medical_help>> (Recall).\n",
      "       1. Grid Search model <<<class 'sklearn.svm.classes.LinearSVC'>>>; weight: <<balanced>>; parameters: <<{'C': [0.001, 0.01, 0.1, 1.0, 10.0]}>>\n",
      "Fitting 12 folds for each of 5 candidates, totalling 60 fits\n"
     ]
    },
    {
     "name": "stderr",
     "output_type": "stream",
     "text": [
      "[Parallel(n_jobs=1)]: Done  60 out of  60 | elapsed:   18.9s finished\n"
     ]
    },
    {
     "name": "stdout",
     "output_type": "stream",
     "text": [
      "       Best parameters selected: <<{'C': 0.01}>> for score <<0.776396934977329>>.\n",
      "       2. Grid Search model <<<class 'sklearn.svm.classes.LinearSVC'>>>; weight: <<balanced>>; parameters: <<{'C': [0.0033, 0.0038, 0.0043, 0.0048, 0.0052, 0.0057, 0.0062, 0.0067, 0.0071, 0.0076, 0.0081, 0.0086, 0.009, 0.0095, 0.01, 0.0114, 0.0129, 0.0143, 0.0157, 0.0171, 0.0186, 0.02, 0.0214, 0.0229, 0.0243, 0.0257, 0.0271, 0.0286, 0.03]}>>\n",
      "Fitting 12 folds for each of 29 candidates, totalling 348 fits\n"
     ]
    },
    {
     "name": "stderr",
     "output_type": "stream",
     "text": [
      "[Parallel(n_jobs=1)]: Done 348 out of 348 | elapsed:   20.8s finished\n"
     ]
    },
    {
     "name": "stdout",
     "output_type": "stream",
     "text": [
      "       Best parameters selected: <<{'C': 0.0286}>> for score <<0.782854510736394>>.\n",
      "       3. Grid Search model <<<class 'sklearn.svm.classes.LinearSVC'>>>; weight: <<balanced>>; parameters: <<{'C': [0.0095, 0.0109, 0.0123, 0.0136, 0.015, 0.0163, 0.0177, 0.0191, 0.0204, 0.0218, 0.0232, 0.0245, 0.0259, 0.0272, 0.0286, 0.0327, 0.0368, 0.0409, 0.0449, 0.049, 0.0531, 0.0572, 0.0613, 0.0654, 0.0695, 0.0735, 0.0776, 0.0817, 0.0858]}>>\n",
      "Fitting 12 folds for each of 29 candidates, totalling 348 fits\n"
     ]
    },
    {
     "name": "stderr",
     "output_type": "stream",
     "text": [
      "[Parallel(n_jobs=1)]: Done 348 out of 348 | elapsed:   32.5s finished\n"
     ]
    },
    {
     "name": "stdout",
     "output_type": "stream",
     "text": [
      "       Best parameters selected: <<{'C': 0.0327}>> for score <<0.7828959947798513>>.\n",
      "       4. Grid Search model <<<class 'sklearn.svm.classes.LinearSVC'>>>; weight: <<balanced>>; parameters: <<{'C': [0.0109, 0.0125, 0.014, 0.0156, 0.0171, 0.0187, 0.0202, 0.0218, 0.0234, 0.0249, 0.0265, 0.028, 0.0296, 0.0311, 0.0327, 0.0374, 0.042, 0.0467, 0.0514, 0.0561, 0.0607, 0.0654, 0.0701, 0.0747, 0.0794, 0.0841, 0.0888, 0.0934, 0.0981]}>>\n",
      "Fitting 12 folds for each of 29 candidates, totalling 348 fits\n"
     ]
    },
    {
     "name": "stderr",
     "output_type": "stream",
     "text": [
      "[Parallel(n_jobs=1)]: Done 348 out of 348 | elapsed:   34.4s finished\n"
     ]
    },
    {
     "name": "stdout",
     "output_type": "stream",
     "text": [
      "       Best parameters selected: <<{'C': 0.0327}>> for score <<0.7828959947798513>>.\n",
      "       4. Grid Search model <<<class 'sklearn.svm.classes.LinearSVC'>>>; weight: <<{0: 1.0, 1: 23.484375}>>; parameters: <<{'C': [0.001, 0.01, 0.1, 1.0, 10.0]}>>\n",
      "Fitting 12 folds for each of 5 candidates, totalling 60 fits\n"
     ]
    },
    {
     "name": "stderr",
     "output_type": "stream",
     "text": [
      "[Parallel(n_jobs=1)]: Done  60 out of  60 | elapsed:   27.2s finished\n"
     ]
    },
    {
     "name": "stdout",
     "output_type": "stream",
     "text": [
      "       Best parameters selected: <<{'C': 0.1}>> for score <<0.7625695045964013>>.\n",
      "       5. Grid Search model <<<class 'sklearn.svm.classes.LinearSVC'>>>; weight: <<{0: 1.0, 1: 23.484375}>>; parameters: <<{'C': [0.0333, 0.0381, 0.0429, 0.0476, 0.0524, 0.0571, 0.0619, 0.0667, 0.0714, 0.0762, 0.081, 0.0857, 0.0905, 0.0952, 0.1, 0.1143, 0.1286, 0.1429, 0.1571, 0.1714, 0.1857, 0.2, 0.2143, 0.2286, 0.2429, 0.2571, 0.2714, 0.2857, 0.3]}>>\n",
      "Fitting 12 folds for each of 29 candidates, totalling 348 fits\n"
     ]
    },
    {
     "name": "stderr",
     "output_type": "stream",
     "text": [
      "[Parallel(n_jobs=1)]: Done 348 out of 348 | elapsed:  2.3min finished\n"
     ]
    },
    {
     "name": "stdout",
     "output_type": "stream",
     "text": [
      "       Best parameters selected: <<{'C': 0.0333}>> for score <<0.7794430907537844>>.\n",
      "       6. Grid Search model <<<class 'sklearn.svm.classes.LinearSVC'>>>; weight: <<{0: 1.0, 1: 23.484375}>>; parameters: <<{'C': [0.0111, 0.0127, 0.0143, 0.0159, 0.0174, 0.019, 0.0206, 0.0222, 0.0238, 0.0254, 0.027, 0.0285, 0.0301, 0.0317, 0.0333, 0.0381, 0.0428, 0.0476, 0.0523, 0.0571, 0.0618, 0.0666, 0.0714, 0.0761, 0.0809, 0.0856, 0.0904, 0.0951, 0.0999]}>>\n",
      "Fitting 12 folds for each of 29 candidates, totalling 348 fits\n"
     ]
    },
    {
     "name": "stderr",
     "output_type": "stream",
     "text": [
      "[Parallel(n_jobs=1)]: Done 348 out of 348 | elapsed:  1.1min finished\n"
     ]
    },
    {
     "name": "stdout",
     "output_type": "stream",
     "text": [
      "       Best parameters selected: <<{'C': 0.0317}>> for score <<0.7805640548303899>>.\n",
      "       7. Grid Search model <<<class 'sklearn.svm.classes.LinearSVC'>>>; weight: <<{0: 1.0, 1: 23.484375}>>; parameters: <<{'C': [0.0106, 0.0121, 0.0136, 0.0151, 0.0166, 0.0181, 0.0196, 0.0211, 0.0226, 0.0242, 0.0257, 0.0272, 0.0287, 0.0302, 0.0317, 0.0362, 0.0408, 0.0453, 0.0498, 0.0543, 0.0589, 0.0634, 0.0679, 0.0725, 0.077, 0.0815, 0.086, 0.0906, 0.0951]}>>\n",
      "Fitting 12 folds for each of 29 candidates, totalling 348 fits\n"
     ]
    },
    {
     "name": "stderr",
     "output_type": "stream",
     "text": [
      "[Parallel(n_jobs=1)]: Done 348 out of 348 | elapsed:  1.1min finished\n"
     ]
    },
    {
     "name": "stdout",
     "output_type": "stream",
     "text": [
      "       Best parameters selected: <<{'C': 0.0317}>> for score <<0.7805640548303899>>.\n",
      "       Final parameters selected: <<{'C': 0.0327}>> for score <<0.7828959947798513>>.\n",
      "\n",
      "          *** Score on validation dataset (macro/weighted) <<0.7813307647558103>> / <<0.8828522920203735>>.\n",
      "[[1952  210]\n",
      " [  66  128]]\n",
      "\n",
      "-------------------------------------------------------------------\n",
      "    7. Fit model for class: <<medical_products>> ((21203, 23977)).\n",
      "    Tuning hyper-parameters for class: <<medical_products>> (Recall).\n",
      "       1. Grid Search model <<<class 'sklearn.svm.classes.LinearSVC'>>>; weight: <<balanced>>; parameters: <<{'C': [0.001, 0.01, 0.1, 1.0, 10.0]}>>\n",
      "Fitting 12 folds for each of 5 candidates, totalling 60 fits\n"
     ]
    },
    {
     "name": "stderr",
     "output_type": "stream",
     "text": [
      "[Parallel(n_jobs=1)]: Done  60 out of  60 | elapsed:   15.3s finished\n"
     ]
    },
    {
     "name": "stdout",
     "output_type": "stream",
     "text": [
      "       Best parameters selected: <<{'C': 0.01}>> for score <<0.7915755969975454>>.\n",
      "       2. Grid Search model <<<class 'sklearn.svm.classes.LinearSVC'>>>; weight: <<balanced>>; parameters: <<{'C': [0.0033, 0.0038, 0.0043, 0.0048, 0.0052, 0.0057, 0.0062, 0.0067, 0.0071, 0.0076, 0.0081, 0.0086, 0.009, 0.0095, 0.01, 0.0114, 0.0129, 0.0143, 0.0157, 0.0171, 0.0186, 0.02, 0.0214, 0.0229, 0.0243, 0.0257, 0.0271, 0.0286, 0.03]}>>\n",
      "Fitting 12 folds for each of 29 candidates, totalling 348 fits\n"
     ]
    },
    {
     "name": "stderr",
     "output_type": "stream",
     "text": [
      "[Parallel(n_jobs=1)]: Done 348 out of 348 | elapsed:   24.2s finished\n"
     ]
    },
    {
     "name": "stdout",
     "output_type": "stream",
     "text": [
      "       Best parameters selected: <<{'C': 0.0114}>> for score <<0.7928408099032753>>.\n",
      "       3. Grid Search model <<<class 'sklearn.svm.classes.LinearSVC'>>>; weight: <<balanced>>; parameters: <<{'C': [0.0038, 0.0043, 0.0049, 0.0054, 0.006, 0.0065, 0.0071, 0.0076, 0.0081, 0.0087, 0.0092, 0.0098, 0.0103, 0.0109, 0.0114, 0.013, 0.0147, 0.0163, 0.0179, 0.0195, 0.0212, 0.0228, 0.0244, 0.0261, 0.0277, 0.0293, 0.0309, 0.0326, 0.0342]}>>\n",
      "Fitting 12 folds for each of 29 candidates, totalling 348 fits\n"
     ]
    },
    {
     "name": "stderr",
     "output_type": "stream",
     "text": [
      "[Parallel(n_jobs=1)]: Done 348 out of 348 | elapsed:   25.4s finished\n"
     ]
    },
    {
     "name": "stdout",
     "output_type": "stream",
     "text": [
      "       Best parameters selected: <<{'C': 0.0114}>> for score <<0.7928408099032753>>.\n",
      "       3. Grid Search model <<<class 'sklearn.svm.classes.LinearSVC'>>>; weight: <<{0: 1.0, 1: 38.42516682554814}>>; parameters: <<{'C': [0.001, 0.01, 0.1, 1.0, 10.0]}>>\n",
      "Fitting 12 folds for each of 5 candidates, totalling 60 fits\n"
     ]
    },
    {
     "name": "stderr",
     "output_type": "stream",
     "text": [
      "[Parallel(n_jobs=1)]: Done  60 out of  60 | elapsed:   20.8s finished\n"
     ]
    },
    {
     "name": "stdout",
     "output_type": "stream",
     "text": [
      "       Best parameters selected: <<{'C': 0.01}>> for score <<0.7984541968919366>>.\n",
      "       4. Grid Search model <<<class 'sklearn.svm.classes.LinearSVC'>>>; weight: <<{0: 1.0, 1: 38.42516682554814}>>; parameters: <<{'C': [0.0033, 0.0038, 0.0043, 0.0048, 0.0052, 0.0057, 0.0062, 0.0067, 0.0071, 0.0076, 0.0081, 0.0086, 0.009, 0.0095, 0.01, 0.0114, 0.0129, 0.0143, 0.0157, 0.0171, 0.0186, 0.02, 0.0214, 0.0229, 0.0243, 0.0257, 0.0271, 0.0286, 0.03]}>>\n",
      "Fitting 12 folds for each of 29 candidates, totalling 348 fits\n"
     ]
    },
    {
     "name": "stderr",
     "output_type": "stream",
     "text": [
      "[Parallel(n_jobs=1)]: Done 348 out of 348 | elapsed:   43.9s finished\n"
     ]
    },
    {
     "name": "stdout",
     "output_type": "stream",
     "text": [
      "       Best parameters selected: <<{'C': 0.0143}>> for score <<0.800301317038218>>.\n",
      "       5. Grid Search model <<<class 'sklearn.svm.classes.LinearSVC'>>>; weight: <<{0: 1.0, 1: 38.42516682554814}>>; parameters: <<{'C': [0.0048, 0.0054, 0.0061, 0.0068, 0.0075, 0.0082, 0.0089, 0.0095, 0.0102, 0.0109, 0.0116, 0.0123, 0.0129, 0.0136, 0.0143, 0.0163, 0.0184, 0.0204, 0.0225, 0.0245, 0.0266, 0.0286, 0.0306, 0.0327, 0.0347, 0.0368, 0.0388, 0.0409, 0.0429]}>>\n",
      "Fitting 12 folds for each of 29 candidates, totalling 348 fits\n"
     ]
    },
    {
     "name": "stderr",
     "output_type": "stream",
     "text": [
      "[Parallel(n_jobs=1)]: Done 348 out of 348 | elapsed:   52.4s finished\n"
     ]
    },
    {
     "name": "stdout",
     "output_type": "stream",
     "text": [
      "       Best parameters selected: <<{'C': 0.0143}>> for score <<0.800301317038218>>.\n",
      "       Final parameters selected: <<{'C': 0.0114}>> for score <<0.7928408099032753>>.\n",
      "\n",
      "          *** Score on validation dataset (macro/weighted) <<0.7491039426523298>> / <<0.8926146010186757>>.\n",
      "[[2030  202]\n",
      " [  51   73]]\n",
      "\n",
      "-------------------------------------------------------------------\n",
      "    8. Fit model for class: <<search_and_rescue>> ((21203, 23977)).\n",
      "    Tuning hyper-parameters for class: <<search_and_rescue>> (Recall).\n",
      "       1. Grid Search model <<<class 'sklearn.svm.classes.LinearSVC'>>>; weight: <<balanced>>; parameters: <<{'C': [0.001, 0.01, 0.1, 1.0, 10.0]}>>\n",
      "Fitting 12 folds for each of 5 candidates, totalling 60 fits\n"
     ]
    },
    {
     "name": "stderr",
     "output_type": "stream",
     "text": [
      "[Parallel(n_jobs=1)]: Done  60 out of  60 | elapsed:   16.9s finished\n"
     ]
    },
    {
     "name": "stdout",
     "output_type": "stream",
     "text": [
      "       Best parameters selected: <<{'C': 0.01}>> for score <<0.7041722341786464>>.\n",
      "       2. Grid Search model <<<class 'sklearn.svm.classes.LinearSVC'>>>; weight: <<balanced>>; parameters: <<{'C': [0.0033, 0.0038, 0.0043, 0.0048, 0.0052, 0.0057, 0.0062, 0.0067, 0.0071, 0.0076, 0.0081, 0.0086, 0.009, 0.0095, 0.01, 0.0114, 0.0129, 0.0143, 0.0157, 0.0171, 0.0186, 0.02, 0.0214, 0.0229, 0.0243, 0.0257, 0.0271, 0.0286, 0.03]}>>\n",
      "Fitting 12 folds for each of 29 candidates, totalling 348 fits\n"
     ]
    },
    {
     "name": "stderr",
     "output_type": "stream",
     "text": [
      "[Parallel(n_jobs=1)]: Done 348 out of 348 | elapsed:   31.4s finished\n"
     ]
    },
    {
     "name": "stdout",
     "output_type": "stream",
     "text": [
      "       Best parameters selected: <<{'C': 0.0067}>> for score <<0.7096883277260331>>.\n",
      "       3. Grid Search model <<<class 'sklearn.svm.classes.LinearSVC'>>>; weight: <<balanced>>; parameters: <<{'C': [0.0022, 0.0026, 0.0029, 0.0032, 0.0035, 0.0038, 0.0041, 0.0045, 0.0048, 0.0051, 0.0054, 0.0057, 0.0061, 0.0064, 0.0067, 0.0077, 0.0086, 0.0096, 0.0105, 0.0115, 0.0124, 0.0134, 0.0144, 0.0153, 0.0163, 0.0172, 0.0182, 0.0191, 0.0201]}>>\n",
      "Fitting 12 folds for each of 29 candidates, totalling 348 fits\n"
     ]
    },
    {
     "name": "stderr",
     "output_type": "stream",
     "text": [
      "[Parallel(n_jobs=1)]: Done 348 out of 348 | elapsed:   25.8s finished\n"
     ]
    },
    {
     "name": "stdout",
     "output_type": "stream",
     "text": [
      "       Best parameters selected: <<{'C': 0.0064}>> for score <<0.7101021889320488>>.\n",
      "       4. Grid Search model <<<class 'sklearn.svm.classes.LinearSVC'>>>; weight: <<balanced>>; parameters: <<{'C': [0.0021, 0.0024, 0.0027, 0.003, 0.0034, 0.0037, 0.004, 0.0043, 0.0046, 0.0049, 0.0052, 0.0055, 0.0058, 0.0061, 0.0064, 0.0073, 0.0082, 0.0091, 0.0101, 0.011, 0.0119, 0.0128, 0.0137, 0.0146, 0.0155, 0.0165, 0.0174, 0.0183, 0.0192]}>>\n",
      "Fitting 12 folds for each of 29 candidates, totalling 348 fits\n"
     ]
    },
    {
     "name": "stderr",
     "output_type": "stream",
     "text": [
      "[Parallel(n_jobs=1)]: Done 348 out of 348 | elapsed:   25.3s finished\n"
     ]
    },
    {
     "name": "stdout",
     "output_type": "stream",
     "text": [
      "       Best parameters selected: <<{'C': 0.0064}>> for score <<0.7101021889320488>>.\n",
      "       4. Grid Search model <<<class 'sklearn.svm.classes.LinearSVC'>>>; weight: <<{0: 1.0, 1: 70.61301369863014}>>; parameters: <<{'C': [0.001, 0.01, 0.1, 1.0, 10.0]}>>\n",
      "Fitting 12 folds for each of 5 candidates, totalling 60 fits\n"
     ]
    },
    {
     "name": "stderr",
     "output_type": "stream",
     "text": [
      "[Parallel(n_jobs=1)]: Done  60 out of  60 | elapsed:   19.7s finished\n"
     ]
    },
    {
     "name": "stdout",
     "output_type": "stream",
     "text": [
      "       Best parameters selected: <<{'C': 0.01}>> for score <<0.710459664884181>>.\n",
      "       5. Grid Search model <<<class 'sklearn.svm.classes.LinearSVC'>>>; weight: <<{0: 1.0, 1: 70.61301369863014}>>; parameters: <<{'C': [0.0033, 0.0038, 0.0043, 0.0048, 0.0052, 0.0057, 0.0062, 0.0067, 0.0071, 0.0076, 0.0081, 0.0086, 0.009, 0.0095, 0.01, 0.0114, 0.0129, 0.0143, 0.0157, 0.0171, 0.0186, 0.02, 0.0214, 0.0229, 0.0243, 0.0257, 0.0271, 0.0286, 0.03]}>>\n",
      "Fitting 12 folds for each of 29 candidates, totalling 348 fits\n"
     ]
    },
    {
     "name": "stderr",
     "output_type": "stream",
     "text": [
      "[Parallel(n_jobs=1)]: Done 348 out of 348 | elapsed:  1.1min finished\n"
     ]
    },
    {
     "name": "stdout",
     "output_type": "stream",
     "text": [
      "       Best parameters selected: <<{'C': 0.0114}>> for score <<0.711974293837996>>.\n",
      "       6. Grid Search model <<<class 'sklearn.svm.classes.LinearSVC'>>>; weight: <<{0: 1.0, 1: 70.61301369863014}>>; parameters: <<{'C': [0.0038, 0.0043, 0.0049, 0.0054, 0.006, 0.0065, 0.0071, 0.0076, 0.0081, 0.0087, 0.0092, 0.0098, 0.0103, 0.0109, 0.0114, 0.013, 0.0147, 0.0163, 0.0179, 0.0195, 0.0212, 0.0228, 0.0244, 0.0261, 0.0277, 0.0293, 0.0309, 0.0326, 0.0342]}>>\n",
      "Fitting 12 folds for each of 29 candidates, totalling 348 fits\n"
     ]
    },
    {
     "name": "stderr",
     "output_type": "stream",
     "text": [
      "[Parallel(n_jobs=1)]: Done 348 out of 348 | elapsed:  1.2min finished\n"
     ]
    },
    {
     "name": "stdout",
     "output_type": "stream",
     "text": [
      "       Best parameters selected: <<{'C': 0.0114}>> for score <<0.711974293837996>>.\n",
      "       Final parameters selected: <<{'C': 0.0064}>> for score <<0.7101021889320488>>.\n",
      "\n",
      "          *** Score on validation dataset (macro/weighted) <<0.6940818102697999>> / <<0.8786078098471987>>.\n",
      "[[2041  257]\n",
      " [  29   29]]\n",
      "\n",
      "-------------------------------------------------------------------\n",
      "    9. Fit model for class: <<security>> ((21203, 23977)).\n",
      "    Tuning hyper-parameters for class: <<security>> (Recall).\n",
      "       1. Grid Search model <<<class 'sklearn.svm.classes.LinearSVC'>>>; weight: <<balanced>>; parameters: <<{'C': [0.001, 0.01, 0.1, 1.0, 10.0]}>>\n",
      "Fitting 12 folds for each of 5 candidates, totalling 60 fits\n"
     ]
    },
    {
     "name": "stderr",
     "output_type": "stream",
     "text": [
      "[Parallel(n_jobs=1)]: Done  60 out of  60 | elapsed:   15.7s finished\n"
     ]
    },
    {
     "name": "stdout",
     "output_type": "stream",
     "text": [
      "       Best parameters selected: <<{'C': 0.01}>> for score <<0.6554067037382483>>.\n",
      "       2. Grid Search model <<<class 'sklearn.svm.classes.LinearSVC'>>>; weight: <<balanced>>; parameters: <<{'C': [0.0033, 0.0038, 0.0043, 0.0048, 0.0052, 0.0057, 0.0062, 0.0067, 0.0071, 0.0076, 0.0081, 0.0086, 0.009, 0.0095, 0.01, 0.0114, 0.0129, 0.0143, 0.0157, 0.0171, 0.0186, 0.02, 0.0214, 0.0229, 0.0243, 0.0257, 0.0271, 0.0286, 0.03]}>>\n",
      "Fitting 12 folds for each of 29 candidates, totalling 348 fits\n"
     ]
    },
    {
     "name": "stderr",
     "output_type": "stream",
     "text": [
      "[Parallel(n_jobs=1)]: Done 348 out of 348 | elapsed:   35.1s finished\n"
     ]
    },
    {
     "name": "stdout",
     "output_type": "stream",
     "text": [
      "       Best parameters selected: <<{'C': 0.0048}>> for score <<0.6594603835505423>>.\n",
      "       3. Grid Search model <<<class 'sklearn.svm.classes.LinearSVC'>>>; weight: <<balanced>>; parameters: <<{'C': [0.0016, 0.0018, 0.0021, 0.0023, 0.0025, 0.0027, 0.003, 0.0032, 0.0034, 0.0037, 0.0039, 0.0041, 0.0043, 0.0046, 0.0048, 0.0055, 0.0062, 0.0069, 0.0075, 0.0082, 0.0089, 0.0096, 0.0103, 0.011, 0.0117, 0.0123, 0.013, 0.0137, 0.0144]}>>\n",
      "Fitting 12 folds for each of 29 candidates, totalling 348 fits\n"
     ]
    },
    {
     "name": "stderr",
     "output_type": "stream",
     "text": [
      "[Parallel(n_jobs=1)]: Done 348 out of 348 | elapsed:   25.2s finished\n"
     ]
    },
    {
     "name": "stdout",
     "output_type": "stream",
     "text": [
      "       Best parameters selected: <<{'C': 0.0046}>> for score <<0.6596107912198655>>.\n",
      "       4. Grid Search model <<<class 'sklearn.svm.classes.LinearSVC'>>>; weight: <<balanced>>; parameters: <<{'C': [0.0015, 0.0018, 0.002, 0.0022, 0.0024, 0.0026, 0.0028, 0.0031, 0.0033, 0.0035, 0.0037, 0.0039, 0.0042, 0.0044, 0.0046, 0.0053, 0.0059, 0.0066, 0.0072, 0.0079, 0.0085, 0.0092, 0.0099, 0.0105, 0.0112, 0.0118, 0.0125, 0.0131, 0.0138]}>>\n",
      "Fitting 12 folds for each of 29 candidates, totalling 348 fits\n"
     ]
    },
    {
     "name": "stderr",
     "output_type": "stream",
     "text": [
      "[Parallel(n_jobs=1)]: Done 348 out of 348 | elapsed:   24.8s finished\n"
     ]
    },
    {
     "name": "stdout",
     "output_type": "stream",
     "text": [
      "       Best parameters selected: <<{'C': 0.0042}>> for score <<0.6610862908394873>>.\n",
      "       5. Grid Search model <<<class 'sklearn.svm.classes.LinearSVC'>>>; weight: <<balanced>>; parameters: <<{'C': [0.0014, 0.0016, 0.0018, 0.002, 0.0022, 0.0024, 0.0026, 0.0028, 0.003, 0.0032, 0.0034, 0.0036, 0.0038, 0.004, 0.0042, 0.0048, 0.0054, 0.006, 0.0066, 0.0072, 0.0078, 0.0084, 0.009, 0.0096, 0.0102, 0.0108, 0.0114, 0.012, 0.0126]}>>\n",
      "Fitting 12 folds for each of 29 candidates, totalling 348 fits\n"
     ]
    },
    {
     "name": "stderr",
     "output_type": "stream",
     "text": [
      "[Parallel(n_jobs=1)]: Done 348 out of 348 | elapsed:   24.1s finished\n"
     ]
    },
    {
     "name": "stdout",
     "output_type": "stream",
     "text": [
      "       Best parameters selected: <<{'C': 0.0042}>> for score <<0.6610862908394873>>.\n",
      "       5. Grid Search model <<<class 'sklearn.svm.classes.LinearSVC'>>>; weight: <<{0: 1.0, 1: 55.092592592592595}>>; parameters: <<{'C': [0.001, 0.01, 0.1, 1.0, 10.0]}>>\n",
      "Fitting 12 folds for each of 5 candidates, totalling 60 fits\n"
     ]
    },
    {
     "name": "stderr",
     "output_type": "stream",
     "text": [
      "[Parallel(n_jobs=1)]: Done  60 out of  60 | elapsed:   16.2s finished\n"
     ]
    },
    {
     "name": "stdout",
     "output_type": "stream",
     "text": [
      "       Best parameters selected: <<{'C': 0.01}>> for score <<0.6433497845671705>>.\n",
      "       6. Grid Search model <<<class 'sklearn.svm.classes.LinearSVC'>>>; weight: <<{0: 1.0, 1: 55.092592592592595}>>; parameters: <<{'C': [0.0033, 0.0038, 0.0043, 0.0048, 0.0052, 0.0057, 0.0062, 0.0067, 0.0071, 0.0076, 0.0081, 0.0086, 0.009, 0.0095, 0.01, 0.0114, 0.0129, 0.0143, 0.0157, 0.0171, 0.0186, 0.02, 0.0214, 0.0229, 0.0243, 0.0257, 0.0271, 0.0286, 0.03]}>>\n",
      "Fitting 12 folds for each of 29 candidates, totalling 348 fits\n"
     ]
    },
    {
     "name": "stderr",
     "output_type": "stream",
     "text": [
      "[Parallel(n_jobs=1)]: Done 348 out of 348 | elapsed:   47.4s finished\n"
     ]
    },
    {
     "name": "stdout",
     "output_type": "stream",
     "text": [
      "       Best parameters selected: <<{'C': 0.0062}>> for score <<0.6561521572749802>>.\n",
      "       7. Grid Search model <<<class 'sklearn.svm.classes.LinearSVC'>>>; weight: <<{0: 1.0, 1: 55.092592592592595}>>; parameters: <<{'C': [0.0021, 0.0024, 0.0027, 0.003, 0.0032, 0.0035, 0.0038, 0.0041, 0.0044, 0.0047, 0.005, 0.0053, 0.0056, 0.0059, 0.0062, 0.0071, 0.008, 0.0089, 0.0097, 0.0106, 0.0115, 0.0124, 0.0133, 0.0142, 0.0151, 0.0159, 0.0168, 0.0177, 0.0186]}>>\n",
      "Fitting 12 folds for each of 29 candidates, totalling 348 fits\n"
     ]
    },
    {
     "name": "stderr",
     "output_type": "stream",
     "text": [
      "[Parallel(n_jobs=1)]: Done 348 out of 348 | elapsed:   38.4s finished\n"
     ]
    },
    {
     "name": "stdout",
     "output_type": "stream",
     "text": [
      "       Best parameters selected: <<{'C': 0.0024}>> for score <<0.6602351609067771>>.\n",
      "       8. Grid Search model <<<class 'sklearn.svm.classes.LinearSVC'>>>; weight: <<{0: 1.0, 1: 55.092592592592595}>>; parameters: <<{'C': [0.0008, 0.0009, 0.001, 0.0011, 0.0013, 0.0014, 0.0015, 0.0016, 0.0017, 0.0018, 0.0019, 0.0021, 0.0022, 0.0023, 0.0024, 0.0027, 0.0031, 0.0034, 0.0038, 0.0041, 0.0045, 0.0048, 0.0051, 0.0055, 0.0058, 0.0062, 0.0065, 0.0069, 0.0072]}>>\n",
      "Fitting 12 folds for each of 29 candidates, totalling 348 fits\n"
     ]
    },
    {
     "name": "stderr",
     "output_type": "stream",
     "text": [
      "[Parallel(n_jobs=1)]: Done 348 out of 348 | elapsed:   24.9s finished\n"
     ]
    },
    {
     "name": "stdout",
     "output_type": "stream",
     "text": [
      "       Best parameters selected: <<{'C': 0.0023}>> for score <<0.6604568809089735>>.\n",
      "       9. Grid Search model <<<class 'sklearn.svm.classes.LinearSVC'>>>; weight: <<{0: 1.0, 1: 55.092592592592595}>>; parameters: <<{'C': [0.0008, 0.0009, 0.001, 0.0011, 0.0012, 0.0013, 0.0014, 0.0015, 0.0016, 0.0018, 0.0019, 0.002, 0.0021, 0.0022, 0.0023, 0.0026, 0.003, 0.0033, 0.0036, 0.0039, 0.0043, 0.0046, 0.0049, 0.0053, 0.0056, 0.0059, 0.0062, 0.0066, 0.0069]}>>\n",
      "Fitting 12 folds for each of 29 candidates, totalling 348 fits\n"
     ]
    },
    {
     "name": "stderr",
     "output_type": "stream",
     "text": [
      "[Parallel(n_jobs=1)]: Done 348 out of 348 | elapsed:   24.4s finished\n"
     ]
    },
    {
     "name": "stdout",
     "output_type": "stream",
     "text": [
      "       Best parameters selected: <<{'C': 0.0026}>> for score <<0.6613572422908679>>.\n",
      "       10. Grid Search model <<<class 'sklearn.svm.classes.LinearSVC'>>>; weight: <<{0: 1.0, 1: 55.092592592592595}>>; parameters: <<{'C': [0.0009, 0.001, 0.0011, 0.0012, 0.0014, 0.0015, 0.0016, 0.0017, 0.0019, 0.002, 0.0021, 0.0022, 0.0024, 0.0025, 0.0026, 0.003, 0.0033, 0.0037, 0.0041, 0.0045, 0.0048, 0.0052, 0.0056, 0.0059, 0.0063, 0.0067, 0.0071, 0.0074, 0.0078]}>>\n",
      "Fitting 12 folds for each of 29 candidates, totalling 348 fits\n"
     ]
    },
    {
     "name": "stderr",
     "output_type": "stream",
     "text": [
      "[Parallel(n_jobs=1)]: Done 348 out of 348 | elapsed:   25.8s finished\n"
     ]
    },
    {
     "name": "stdout",
     "output_type": "stream",
     "text": [
      "       Best parameters selected: <<{'C': 0.0026}>> for score <<0.6613572422908679>>.\n",
      "       Final parameters selected: <<{'C': 0.0042}>> for score <<0.6610862908394873>>.\n",
      "\n",
      "          *** Score on validation dataset (macro/weighted) <<0.6557681590191343>> / <<0.8735144312393888>>.\n",
      "[[2037  270]\n",
      " [  28   21]]\n",
      "\n",
      "-------------------------------------------------------------------\n",
      "    10. Fit model for class: <<military>> ((21203, 23977)).\n",
      "    Tuning hyper-parameters for class: <<military>> (Recall).\n",
      "       1. Grid Search model <<<class 'sklearn.svm.classes.LinearSVC'>>>; weight: <<balanced>>; parameters: <<{'C': [0.001, 0.01, 0.1, 1.0, 10.0]}>>\n",
      "Fitting 12 folds for each of 5 candidates, totalling 60 fits\n"
     ]
    },
    {
     "name": "stderr",
     "output_type": "stream",
     "text": [
      "[Parallel(n_jobs=1)]: Done  60 out of  60 | elapsed:   12.7s finished\n"
     ]
    },
    {
     "name": "stdout",
     "output_type": "stream",
     "text": [
      "       Best parameters selected: <<{'C': 0.01}>> for score <<0.885146196995994>>.\n",
      "       2. Grid Search model <<<class 'sklearn.svm.classes.LinearSVC'>>>; weight: <<balanced>>; parameters: <<{'C': [0.0033, 0.0038, 0.0043, 0.0048, 0.0052, 0.0057, 0.0062, 0.0067, 0.0071, 0.0076, 0.0081, 0.0086, 0.009, 0.0095, 0.01, 0.0114, 0.0129, 0.0143, 0.0157, 0.0171, 0.0186, 0.02, 0.0214, 0.0229, 0.0243, 0.0257, 0.0271, 0.0286, 0.03]}>>\n",
      "Fitting 12 folds for each of 29 candidates, totalling 348 fits\n"
     ]
    },
    {
     "name": "stderr",
     "output_type": "stream",
     "text": [
      "[Parallel(n_jobs=1)]: Done 348 out of 348 | elapsed:   25.9s finished\n"
     ]
    },
    {
     "name": "stdout",
     "output_type": "stream",
     "text": [
      "       Best parameters selected: <<{'C': 0.0129}>> for score <<0.8882686282310901>>.\n",
      "       3. Grid Search model <<<class 'sklearn.svm.classes.LinearSVC'>>>; weight: <<balanced>>; parameters: <<{'C': [0.0043, 0.0049, 0.0055, 0.0061, 0.0068, 0.0074, 0.008, 0.0086, 0.0092, 0.0098, 0.0104, 0.0111, 0.0117, 0.0123, 0.0129, 0.0147, 0.0166, 0.0184, 0.0203, 0.0221, 0.024, 0.0258, 0.0276, 0.0295, 0.0313, 0.0332, 0.035, 0.0369, 0.0387]}>>\n",
      "Fitting 12 folds for each of 29 candidates, totalling 348 fits\n"
     ]
    },
    {
     "name": "stderr",
     "output_type": "stream",
     "text": [
      "[Parallel(n_jobs=1)]: Done 348 out of 348 | elapsed:   28.6s finished\n"
     ]
    },
    {
     "name": "stdout",
     "output_type": "stream",
     "text": [
      "       Best parameters selected: <<{'C': 0.0129}>> for score <<0.8882686282310901>>.\n",
      "       Final parameters selected: <<{'C': 0.0129}>> for score <<0.8882686282310901>>.\n",
      "\n",
      "          *** Score on validation dataset (macro/weighted) <<0.8557340048809503>> / <<0.9219015280135824>>.\n",
      "[[2110  167]\n",
      " [  17   62]]\n",
      "\n",
      "-------------------------------------------------------------------\n",
      "    11. Fit model for class: <<water>> ((21203, 23977)).\n",
      "    Tuning hyper-parameters for class: <<water>> (Recall).\n",
      "       1. Grid Search model <<<class 'sklearn.svm.classes.LinearSVC'>>>; weight: <<balanced>>; parameters: <<{'C': [0.001, 0.01, 0.1, 1.0, 10.0]}>>\n",
      "Fitting 12 folds for each of 5 candidates, totalling 60 fits\n"
     ]
    },
    {
     "name": "stderr",
     "output_type": "stream",
     "text": [
      "[Parallel(n_jobs=1)]: Done  60 out of  60 | elapsed:   13.6s finished\n"
     ]
    },
    {
     "name": "stdout",
     "output_type": "stream",
     "text": [
      "       Best parameters selected: <<{'C': 0.1}>> for score <<0.8980610381392946>>.\n",
      "       2. Grid Search model <<<class 'sklearn.svm.classes.LinearSVC'>>>; weight: <<balanced>>; parameters: <<{'C': [0.0333, 0.0381, 0.0429, 0.0476, 0.0524, 0.0571, 0.0619, 0.0667, 0.0714, 0.0762, 0.081, 0.0857, 0.0905, 0.0952, 0.1, 0.1143, 0.1286, 0.1429, 0.1571, 0.1714, 0.1857, 0.2, 0.2143, 0.2286, 0.2429, 0.2571, 0.2714, 0.2857, 0.3]}>>\n",
      "Fitting 12 folds for each of 29 candidates, totalling 348 fits\n"
     ]
    },
    {
     "name": "stderr",
     "output_type": "stream",
     "text": [
      "[Parallel(n_jobs=1)]: Done 348 out of 348 | elapsed:   59.9s finished\n"
     ]
    },
    {
     "name": "stdout",
     "output_type": "stream",
     "text": [
      "       Best parameters selected: <<{'C': 0.0333}>> for score <<0.9028827777349255>>.\n",
      "       3. Grid Search model <<<class 'sklearn.svm.classes.LinearSVC'>>>; weight: <<balanced>>; parameters: <<{'C': [0.0111, 0.0127, 0.0143, 0.0159, 0.0174, 0.019, 0.0206, 0.0222, 0.0238, 0.0254, 0.027, 0.0285, 0.0301, 0.0317, 0.0333, 0.0381, 0.0428, 0.0476, 0.0523, 0.0571, 0.0618, 0.0666, 0.0714, 0.0761, 0.0809, 0.0856, 0.0904, 0.0951, 0.0999]}>>\n",
      "Fitting 12 folds for each of 29 candidates, totalling 348 fits\n"
     ]
    },
    {
     "name": "stderr",
     "output_type": "stream",
     "text": [
      "[Parallel(n_jobs=1)]: Done 348 out of 348 | elapsed:   37.1s finished\n"
     ]
    },
    {
     "name": "stdout",
     "output_type": "stream",
     "text": [
      "       Best parameters selected: <<{'C': 0.0301}>> for score <<0.9031537829256638>>.\n",
      "       4. Grid Search model <<<class 'sklearn.svm.classes.LinearSVC'>>>; weight: <<balanced>>; parameters: <<{'C': [0.01, 0.0115, 0.0129, 0.0143, 0.0158, 0.0172, 0.0186, 0.0201, 0.0215, 0.0229, 0.0244, 0.0258, 0.0272, 0.0287, 0.0301, 0.0344, 0.0387, 0.043, 0.0473, 0.0516, 0.0559, 0.0602, 0.0645, 0.0688, 0.0731, 0.0774, 0.0817, 0.086, 0.0903]}>>\n",
      "Fitting 12 folds for each of 29 candidates, totalling 348 fits\n"
     ]
    },
    {
     "name": "stderr",
     "output_type": "stream",
     "text": [
      "[Parallel(n_jobs=1)]: Done 348 out of 348 | elapsed:   34.6s finished\n"
     ]
    },
    {
     "name": "stdout",
     "output_type": "stream",
     "text": [
      "       Best parameters selected: <<{'C': 0.0301}>> for score <<0.9031537829256638>>.\n",
      "       Final parameters selected: <<{'C': 0.0301}>> for score <<0.9031537829256638>>.\n",
      "\n",
      "          *** Score on validation dataset (macro/weighted) <<0.9160359198766584>> / <<0.9482173174872666>>.\n",
      "[[2103  104]\n",
      " [  18  131]]\n",
      "\n",
      "-------------------------------------------------------------------\n",
      "    12. Fit model for class: <<food>> ((21203, 23978)).\n",
      "    Tuning hyper-parameters for class: <<food>> (Recall).\n",
      "       1. Grid Search model <<<class 'sklearn.svm.classes.LinearSVC'>>>; weight: <<balanced>>; parameters: <<{'C': [0.001, 0.01, 0.1, 1.0, 10.0]}>>\n",
      "Fitting 12 folds for each of 5 candidates, totalling 60 fits\n"
     ]
    },
    {
     "name": "stderr",
     "output_type": "stream",
     "text": [
      "[Parallel(n_jobs=1)]: Done  60 out of  60 | elapsed:   13.4s finished\n"
     ]
    },
    {
     "name": "stdout",
     "output_type": "stream",
     "text": [
      "       Best parameters selected: <<{'C': 0.1}>> for score <<0.9098435337702734>>.\n",
      "       2. Grid Search model <<<class 'sklearn.svm.classes.LinearSVC'>>>; weight: <<balanced>>; parameters: <<{'C': [0.0333, 0.0381, 0.0429, 0.0476, 0.0524, 0.0571, 0.0619, 0.0667, 0.0714, 0.0762, 0.081, 0.0857, 0.0905, 0.0952, 0.1, 0.1143, 0.1286, 0.1429, 0.1571, 0.1714, 0.1857, 0.2, 0.2143, 0.2286, 0.2429, 0.2571, 0.2714, 0.2857, 0.3]}>>\n",
      "Fitting 12 folds for each of 29 candidates, totalling 348 fits\n"
     ]
    },
    {
     "name": "stderr",
     "output_type": "stream",
     "text": [
      "[Parallel(n_jobs=1)]: Done 348 out of 348 | elapsed:   45.5s finished\n"
     ]
    },
    {
     "name": "stdout",
     "output_type": "stream",
     "text": [
      "       Best parameters selected: <<{'C': 0.0952}>> for score <<0.9099497334924229>>.\n",
      "       3. Grid Search model <<<class 'sklearn.svm.classes.LinearSVC'>>>; weight: <<balanced>>; parameters: <<{'C': [0.0317, 0.0363, 0.0408, 0.0453, 0.0499, 0.0544, 0.0589, 0.0635, 0.068, 0.0725, 0.0771, 0.0816, 0.0861, 0.0907, 0.0952, 0.1088, 0.1224, 0.136, 0.1496, 0.1632, 0.1768, 0.1904, 0.204, 0.2176, 0.2312, 0.2448, 0.2584, 0.272, 0.2856]}>>\n",
      "Fitting 12 folds for each of 29 candidates, totalling 348 fits\n"
     ]
    },
    {
     "name": "stderr",
     "output_type": "stream",
     "text": [
      "[Parallel(n_jobs=1)]: Done 348 out of 348 | elapsed:   45.0s finished\n"
     ]
    },
    {
     "name": "stdout",
     "output_type": "stream",
     "text": [
      "       Best parameters selected: <<{'C': 0.0952}>> for score <<0.9099497334924229>>.\n",
      "       Final parameters selected: <<{'C': 0.0952}>> for score <<0.9099497334924229>>.\n",
      "\n",
      "          *** Score on validation dataset (macro/weighted) <<0.8989427860696517>> / <<0.9448217317487266>>.\n",
      "[[2001   87]\n",
      " [  43  225]]\n",
      "\n",
      "-------------------------------------------------------------------\n",
      "    13. Fit model for class: <<shelter>> ((21203, 23979)).\n",
      "    Tuning hyper-parameters for class: <<shelter>> (Recall).\n",
      "       1. Grid Search model <<<class 'sklearn.svm.classes.LinearSVC'>>>; weight: <<balanced>>; parameters: <<{'C': [0.001, 0.01, 0.1, 1.0, 10.0]}>>\n",
      "Fitting 12 folds for each of 5 candidates, totalling 60 fits\n"
     ]
    },
    {
     "name": "stderr",
     "output_type": "stream",
     "text": [
      "[Parallel(n_jobs=1)]: Done  60 out of  60 | elapsed:   14.3s finished\n"
     ]
    },
    {
     "name": "stdout",
     "output_type": "stream",
     "text": [
      "       Best parameters selected: <<{'C': 0.1}>> for score <<0.8763733072166544>>.\n",
      "       2. Grid Search model <<<class 'sklearn.svm.classes.LinearSVC'>>>; weight: <<balanced>>; parameters: <<{'C': [0.0333, 0.0381, 0.0429, 0.0476, 0.0524, 0.0571, 0.0619, 0.0667, 0.0714, 0.0762, 0.081, 0.0857, 0.0905, 0.0952, 0.1, 0.1143, 0.1286, 0.1429, 0.1571, 0.1714, 0.1857, 0.2, 0.2143, 0.2286, 0.2429, 0.2571, 0.2714, 0.2857, 0.3]}>>\n",
      "Fitting 12 folds for each of 29 candidates, totalling 348 fits\n"
     ]
    },
    {
     "name": "stderr",
     "output_type": "stream",
     "text": [
      "[Parallel(n_jobs=1)]: Done 348 out of 348 | elapsed:   53.6s finished\n"
     ]
    },
    {
     "name": "stdout",
     "output_type": "stream",
     "text": [
      "       Best parameters selected: <<{'C': 0.0524}>> for score <<0.8790150300760705>>.\n",
      "       3. Grid Search model <<<class 'sklearn.svm.classes.LinearSVC'>>>; weight: <<balanced>>; parameters: <<{'C': [0.0175, 0.02, 0.0225, 0.025, 0.0274, 0.0299, 0.0324, 0.0349, 0.0374, 0.0399, 0.0424, 0.0449, 0.0474, 0.0499, 0.0524, 0.0599, 0.0674, 0.0749, 0.0823, 0.0898, 0.0973, 0.1048, 0.1123, 0.1198, 0.1273, 0.1347, 0.1422, 0.1497, 0.1572]}>>\n",
      "Fitting 12 folds for each of 29 candidates, totalling 348 fits\n"
     ]
    },
    {
     "name": "stderr",
     "output_type": "stream",
     "text": [
      "[Parallel(n_jobs=1)]: Done 348 out of 348 | elapsed:   40.5s finished\n"
     ]
    },
    {
     "name": "stdout",
     "output_type": "stream",
     "text": [
      "       Best parameters selected: <<{'C': 0.0499}>> for score <<0.8795958886132372>>.\n",
      "       4. Grid Search model <<<class 'sklearn.svm.classes.LinearSVC'>>>; weight: <<balanced>>; parameters: <<{'C': [0.0166, 0.019, 0.0214, 0.0238, 0.0261, 0.0285, 0.0309, 0.0333, 0.0356, 0.038, 0.0404, 0.0428, 0.0451, 0.0475, 0.0499, 0.057, 0.0642, 0.0713, 0.0784, 0.0855, 0.0927, 0.0998, 0.1069, 0.1141, 0.1212, 0.1283, 0.1354, 0.1426, 0.1497]}>>\n",
      "Fitting 12 folds for each of 29 candidates, totalling 348 fits\n"
     ]
    },
    {
     "name": "stderr",
     "output_type": "stream",
     "text": [
      "[Parallel(n_jobs=1)]: Done 348 out of 348 | elapsed:   39.5s finished\n"
     ]
    },
    {
     "name": "stdout",
     "output_type": "stream",
     "text": [
      "       Best parameters selected: <<{'C': 0.0499}>> for score <<0.8795958886132372>>.\n",
      "       Final parameters selected: <<{'C': 0.0499}>> for score <<0.8795958886132372>>.\n",
      "\n",
      "          *** Score on validation dataset (macro/weighted) <<0.8914609980183751>> / <<0.9282682512733447>>.\n",
      "[[2000  135]\n",
      " [  34  187]]\n",
      "\n",
      "-------------------------------------------------------------------\n",
      "    14. Fit model for class: <<clothing>> ((21203, 23979)).\n",
      "    Tuning hyper-parameters for class: <<clothing>> (Recall).\n",
      "       1. Grid Search model <<<class 'sklearn.svm.classes.LinearSVC'>>>; weight: <<balanced>>; parameters: <<{'C': [0.001, 0.01, 0.1, 1.0, 10.0]}>>\n",
      "Fitting 12 folds for each of 5 candidates, totalling 60 fits\n"
     ]
    },
    {
     "name": "stderr",
     "output_type": "stream",
     "text": [
      "[Parallel(n_jobs=1)]: Done  60 out of  60 | elapsed:    9.9s finished\n"
     ]
    },
    {
     "name": "stdout",
     "output_type": "stream",
     "text": [
      "       Best parameters selected: <<{'C': 0.01}>> for score <<0.867141704097995>>.\n",
      "       2. Grid Search model <<<class 'sklearn.svm.classes.LinearSVC'>>>; weight: <<balanced>>; parameters: <<{'C': [0.0033, 0.0038, 0.0043, 0.0048, 0.0052, 0.0057, 0.0062, 0.0067, 0.0071, 0.0076, 0.0081, 0.0086, 0.009, 0.0095, 0.01, 0.0114, 0.0129, 0.0143, 0.0157, 0.0171, 0.0186, 0.02, 0.0214, 0.0229, 0.0243, 0.0257, 0.0271, 0.0286, 0.03]}>>\n",
      "Fitting 12 folds for each of 29 candidates, totalling 348 fits\n"
     ]
    },
    {
     "name": "stderr",
     "output_type": "stream",
     "text": [
      "[Parallel(n_jobs=1)]: Done 348 out of 348 | elapsed:   38.3s finished\n"
     ]
    },
    {
     "name": "stdout",
     "output_type": "stream",
     "text": [
      "       Best parameters selected: <<{'C': 0.0171}>> for score <<0.8742832573506303>>.\n",
      "       3. Grid Search model <<<class 'sklearn.svm.classes.LinearSVC'>>>; weight: <<balanced>>; parameters: <<{'C': [0.0057, 0.0065, 0.0073, 0.0081, 0.009, 0.0098, 0.0106, 0.0114, 0.0122, 0.013, 0.0138, 0.0147, 0.0155, 0.0163, 0.0171, 0.0195, 0.022, 0.0244, 0.0269, 0.0293, 0.0318, 0.0342, 0.0366, 0.0391, 0.0415, 0.044, 0.0464, 0.0489, 0.0513]}>>\n",
      "Fitting 12 folds for each of 29 candidates, totalling 348 fits\n"
     ]
    },
    {
     "name": "stderr",
     "output_type": "stream",
     "text": [
      "[Parallel(n_jobs=1)]: Done 348 out of 348 | elapsed:   45.9s finished\n"
     ]
    },
    {
     "name": "stdout",
     "output_type": "stream",
     "text": [
      "       Best parameters selected: <<{'C': 0.0195}>> for score <<0.8747150580439705>>.\n",
      "       4. Grid Search model <<<class 'sklearn.svm.classes.LinearSVC'>>>; weight: <<balanced>>; parameters: <<{'C': [0.0065, 0.0074, 0.0084, 0.0093, 0.0102, 0.0111, 0.0121, 0.013, 0.0139, 0.0149, 0.0158, 0.0167, 0.0176, 0.0186, 0.0195, 0.0223, 0.0251, 0.0279, 0.0306, 0.0334, 0.0362, 0.039, 0.0418, 0.0446, 0.0474, 0.0501, 0.0529, 0.0557, 0.0585]}>>\n",
      "Fitting 12 folds for each of 29 candidates, totalling 348 fits\n"
     ]
    },
    {
     "name": "stderr",
     "output_type": "stream",
     "text": [
      "[Parallel(n_jobs=1)]: Done 348 out of 348 | elapsed:   47.4s finished\n"
     ]
    },
    {
     "name": "stdout",
     "output_type": "stream",
     "text": [
      "       Best parameters selected: <<{'C': 0.0195}>> for score <<0.8747150580439705>>.\n",
      "       Final parameters selected: <<{'C': 0.0195}>> for score <<0.8747150580439705>>.\n",
      "\n",
      "          *** Score on validation dataset (macro/weighted) <<0.9040178571428572>> / <<0.9626485568760611>>.\n",
      "[[2241   83]\n",
      " [   5   27]]\n",
      "\n",
      "-------------------------------------------------------------------\n",
      "    15. Fit model for class: <<money>> ((21203, 23979)).\n",
      "    Tuning hyper-parameters for class: <<money>> (Recall).\n",
      "       1. Grid Search model <<<class 'sklearn.svm.classes.LinearSVC'>>>; weight: <<balanced>>; parameters: <<{'C': [0.001, 0.01, 0.1, 1.0, 10.0]}>>\n",
      "Fitting 12 folds for each of 5 candidates, totalling 60 fits\n"
     ]
    },
    {
     "name": "stderr",
     "output_type": "stream",
     "text": [
      "[Parallel(n_jobs=1)]: Done  60 out of  60 | elapsed:   12.9s finished\n"
     ]
    },
    {
     "name": "stdout",
     "output_type": "stream",
     "text": [
      "       Best parameters selected: <<{'C': 0.01}>> for score <<0.8367634691107094>>.\n",
      "       2. Grid Search model <<<class 'sklearn.svm.classes.LinearSVC'>>>; weight: <<balanced>>; parameters: <<{'C': [0.0033, 0.0038, 0.0043, 0.0048, 0.0052, 0.0057, 0.0062, 0.0067, 0.0071, 0.0076, 0.0081, 0.0086, 0.009, 0.0095, 0.01, 0.0114, 0.0129, 0.0143, 0.0157, 0.0171, 0.0186, 0.02, 0.0214, 0.0229, 0.0243, 0.0257, 0.0271, 0.0286, 0.03]}>>\n",
      "Fitting 12 folds for each of 29 candidates, totalling 348 fits\n"
     ]
    },
    {
     "name": "stderr",
     "output_type": "stream",
     "text": [
      "[Parallel(n_jobs=1)]: Done 348 out of 348 | elapsed:   36.1s finished\n"
     ]
    },
    {
     "name": "stdout",
     "output_type": "stream",
     "text": [
      "       Best parameters selected: <<{'C': 0.0171}>> for score <<0.8399961096633533>>.\n",
      "       3. Grid Search model <<<class 'sklearn.svm.classes.LinearSVC'>>>; weight: <<balanced>>; parameters: <<{'C': [0.0057, 0.0065, 0.0073, 0.0081, 0.009, 0.0098, 0.0106, 0.0114, 0.0122, 0.013, 0.0138, 0.0147, 0.0155, 0.0163, 0.0171, 0.0195, 0.022, 0.0244, 0.0269, 0.0293, 0.0318, 0.0342, 0.0366, 0.0391, 0.0415, 0.044, 0.0464, 0.0489, 0.0513]}>>\n",
      "Fitting 12 folds for each of 29 candidates, totalling 348 fits\n"
     ]
    },
    {
     "name": "stderr",
     "output_type": "stream",
     "text": [
      "[Parallel(n_jobs=1)]: Done 348 out of 348 | elapsed:   47.3s finished\n"
     ]
    },
    {
     "name": "stdout",
     "output_type": "stream",
     "text": [
      "       Best parameters selected: <<{'C': 0.0122}>> for score <<0.8405342900986199>>.\n",
      "       4. Grid Search model <<<class 'sklearn.svm.classes.LinearSVC'>>>; weight: <<balanced>>; parameters: <<{'C': [0.0041, 0.0046, 0.0052, 0.0058, 0.0064, 0.007, 0.0076, 0.0081, 0.0087, 0.0093, 0.0099, 0.0105, 0.011, 0.0116, 0.0122, 0.0139, 0.0157, 0.0174, 0.0192, 0.0209, 0.0227, 0.0244, 0.0261, 0.0279, 0.0296, 0.0314, 0.0331, 0.0349, 0.0366]}>>\n",
      "Fitting 12 folds for each of 29 candidates, totalling 348 fits\n"
     ]
    },
    {
     "name": "stderr",
     "output_type": "stream",
     "text": [
      "[Parallel(n_jobs=1)]: Done 348 out of 348 | elapsed:   39.5s finished\n"
     ]
    },
    {
     "name": "stdout",
     "output_type": "stream",
     "text": [
      "       Best parameters selected: <<{'C': 0.0122}>> for score <<0.8405342900986199>>.\n",
      "       4. Grid Search model <<<class 'sklearn.svm.classes.LinearSVC'>>>; weight: <<{0: 1.0, 1: 84.1910569105691}>>; parameters: <<{'C': [0.001, 0.01, 0.1, 1.0, 10.0]}>>\n",
      "Fitting 12 folds for each of 5 candidates, totalling 60 fits\n"
     ]
    },
    {
     "name": "stderr",
     "output_type": "stream",
     "text": [
      "[Parallel(n_jobs=1)]: Done  60 out of  60 | elapsed:   15.1s finished\n"
     ]
    },
    {
     "name": "stdout",
     "output_type": "stream",
     "text": [
      "       Best parameters selected: <<{'C': 0.01}>> for score <<0.8611796104986196>>.\n",
      "       5. Grid Search model <<<class 'sklearn.svm.classes.LinearSVC'>>>; weight: <<{0: 1.0, 1: 84.1910569105691}>>; parameters: <<{'C': [0.0033, 0.0038, 0.0043, 0.0048, 0.0052, 0.0057, 0.0062, 0.0067, 0.0071, 0.0076, 0.0081, 0.0086, 0.009, 0.0095, 0.01, 0.0114, 0.0129, 0.0143, 0.0157, 0.0171, 0.0186, 0.02, 0.0214, 0.0229, 0.0243, 0.0257, 0.0271, 0.0286, 0.03]}>>\n",
      "Fitting 12 folds for each of 29 candidates, totalling 348 fits\n"
     ]
    },
    {
     "name": "stderr",
     "output_type": "stream",
     "text": [
      "[Parallel(n_jobs=1)]: Done 348 out of 348 | elapsed:  1.2min finished\n"
     ]
    },
    {
     "name": "stdout",
     "output_type": "stream",
     "text": [
      "       Best parameters selected: <<{'C': 0.0076}>> for score <<0.864604785054534>>.\n",
      "       6. Grid Search model <<<class 'sklearn.svm.classes.LinearSVC'>>>; weight: <<{0: 1.0, 1: 84.1910569105691}>>; parameters: <<{'C': [0.0025, 0.0029, 0.0033, 0.0036, 0.004, 0.0043, 0.0047, 0.0051, 0.0054, 0.0058, 0.0062, 0.0065, 0.0069, 0.0072, 0.0076, 0.0087, 0.0098, 0.0109, 0.0119, 0.013, 0.0141, 0.0152, 0.0163, 0.0174, 0.0185, 0.0195, 0.0206, 0.0217, 0.0228]}>>\n",
      "Fitting 12 folds for each of 29 candidates, totalling 348 fits\n"
     ]
    },
    {
     "name": "stderr",
     "output_type": "stream",
     "text": [
      "[Parallel(n_jobs=1)]: Done 348 out of 348 | elapsed:  1.0min finished\n"
     ]
    },
    {
     "name": "stdout",
     "output_type": "stream",
     "text": [
      "       Best parameters selected: <<{'C': 0.0072}>> for score <<0.8649474786049086>>.\n",
      "       7. Grid Search model <<<class 'sklearn.svm.classes.LinearSVC'>>>; weight: <<{0: 1.0, 1: 84.1910569105691}>>; parameters: <<{'C': [0.0024, 0.0027, 0.0031, 0.0034, 0.0038, 0.0041, 0.0045, 0.0048, 0.0051, 0.0055, 0.0058, 0.0062, 0.0065, 0.0069, 0.0072, 0.0082, 0.0093, 0.0103, 0.0113, 0.0123, 0.0134, 0.0144, 0.0154, 0.0165, 0.0175, 0.0185, 0.0195, 0.0206, 0.0216]}>>\n",
      "Fitting 12 folds for each of 29 candidates, totalling 348 fits\n"
     ]
    },
    {
     "name": "stderr",
     "output_type": "stream",
     "text": [
      "[Parallel(n_jobs=1)]: Done 348 out of 348 | elapsed:  1.0min finished\n"
     ]
    },
    {
     "name": "stdout",
     "output_type": "stream",
     "text": [
      "       Best parameters selected: <<{'C': 0.0072}>> for score <<0.8649474786049086>>.\n",
      "       Final parameters selected: <<{'C': 0.0072}>> for score <<0.8649474786049086>>.\n",
      "\n",
      "          *** Score on validation dataset (macro/weighted) <<0.8207754399894138>> / <<0.8947368421052632>>.\n",
      "[[2059  231]\n",
      " [  17   49]]\n",
      "\n",
      "-------------------------------------------------------------------\n",
      "    16. Fit model for class: <<missing_people>> ((21203, 23979)).\n",
      "    Tuning hyper-parameters for class: <<missing_people>> (Recall).\n",
      "       1. Grid Search model <<<class 'sklearn.svm.classes.LinearSVC'>>>; weight: <<balanced>>; parameters: <<{'C': [0.001, 0.01, 0.1, 1.0, 10.0]}>>\n",
      "Fitting 12 folds for each of 5 candidates, totalling 60 fits\n"
     ]
    },
    {
     "name": "stderr",
     "output_type": "stream",
     "text": [
      "[Parallel(n_jobs=1)]: Done  60 out of  60 | elapsed:   12.8s finished\n"
     ]
    },
    {
     "name": "stdout",
     "output_type": "stream",
     "text": [
      "       Best parameters selected: <<{'C': 0.01}>> for score <<0.6620595757970962>>.\n",
      "       2. Grid Search model <<<class 'sklearn.svm.classes.LinearSVC'>>>; weight: <<balanced>>; parameters: <<{'C': [0.0033, 0.0038, 0.0043, 0.0048, 0.0052, 0.0057, 0.0062, 0.0067, 0.0071, 0.0076, 0.0081, 0.0086, 0.009, 0.0095, 0.01, 0.0114, 0.0129, 0.0143, 0.0157, 0.0171, 0.0186, 0.02, 0.0214, 0.0229, 0.0243, 0.0257, 0.0271, 0.0286, 0.03]}>>\n",
      "Fitting 12 folds for each of 29 candidates, totalling 348 fits\n"
     ]
    },
    {
     "name": "stderr",
     "output_type": "stream",
     "text": [
      "[Parallel(n_jobs=1)]: Done 348 out of 348 | elapsed:   46.2s finished\n"
     ]
    },
    {
     "name": "stdout",
     "output_type": "stream",
     "text": [
      "       Best parameters selected: <<{'C': 0.0271}>> for score <<0.6705702650476347>>.\n",
      "       3. Grid Search model <<<class 'sklearn.svm.classes.LinearSVC'>>>; weight: <<balanced>>; parameters: <<{'C': [0.009, 0.0103, 0.0116, 0.0129, 0.0142, 0.0155, 0.0168, 0.0181, 0.0194, 0.0206, 0.0219, 0.0232, 0.0245, 0.0258, 0.0271, 0.031, 0.0348, 0.0387, 0.0426, 0.0465, 0.0503, 0.0542, 0.0581, 0.0619, 0.0658, 0.0697, 0.0736, 0.0774, 0.0813]}>>\n",
      "Fitting 12 folds for each of 29 candidates, totalling 348 fits\n"
     ]
    },
    {
     "name": "stderr",
     "output_type": "stream",
     "text": [
      "[Parallel(n_jobs=1)]: Done 348 out of 348 | elapsed:  1.1min finished\n"
     ]
    },
    {
     "name": "stdout",
     "output_type": "stream",
     "text": [
      "       Best parameters selected: <<{'C': 0.0271}>> for score <<0.6705702650476347>>.\n",
      "       3. Grid Search model <<<class 'sklearn.svm.classes.LinearSVC'>>>; weight: <<{0: 1.0, 1: 91.18695652173913}>>; parameters: <<{'C': [0.001, 0.01, 0.1, 1.0, 10.0]}>>\n",
      "Fitting 12 folds for each of 5 candidates, totalling 60 fits\n"
     ]
    },
    {
     "name": "stderr",
     "output_type": "stream",
     "text": [
      "[Parallel(n_jobs=1)]: Done  60 out of  60 | elapsed:   13.4s finished\n"
     ]
    },
    {
     "name": "stdout",
     "output_type": "stream",
     "text": [
      "       Best parameters selected: <<{'C': 0.001}>> for score <<0.6691166971627852>>.\n",
      "       4. Grid Search model <<<class 'sklearn.svm.classes.LinearSVC'>>>; weight: <<{0: 1.0, 1: 91.18695652173913}>>; parameters: <<{'C': [0.0003, 0.0004, 0.0004, 0.0005, 0.0005, 0.0006, 0.0006, 0.0007, 0.0007, 0.0008, 0.0008, 0.0009, 0.0009, 0.001, 0.001, 0.0011, 0.0013, 0.0014, 0.0016, 0.0017, 0.0019, 0.002, 0.0021, 0.0023, 0.0024, 0.0026, 0.0027, 0.0029, 0.003]}>>\n",
      "Fitting 12 folds for each of 29 candidates, totalling 348 fits\n"
     ]
    },
    {
     "name": "stderr",
     "output_type": "stream",
     "text": [
      "[Parallel(n_jobs=1)]: Done 348 out of 348 | elapsed:   21.6s finished\n"
     ]
    },
    {
     "name": "stdout",
     "output_type": "stream",
     "text": [
      "       Best parameters selected: <<{'C': 0.0009}>> for score <<0.669617168503898>>.\n",
      "       5. Grid Search model <<<class 'sklearn.svm.classes.LinearSVC'>>>; weight: <<{0: 1.0, 1: 91.18695652173913}>>; parameters: <<{'C': [0.0003, 0.0003, 0.0004, 0.0004, 0.0005, 0.0005, 0.0006, 0.0006, 0.0006, 0.0007, 0.0007, 0.0008, 0.0008, 0.0009, 0.0009, 0.001, 0.0012, 0.0013, 0.0014, 0.0015, 0.0017, 0.0018, 0.0019, 0.0021, 0.0022, 0.0023, 0.0024, 0.0026, 0.0027]}>>\n",
      "Fitting 12 folds for each of 29 candidates, totalling 348 fits\n"
     ]
    },
    {
     "name": "stderr",
     "output_type": "stream",
     "text": [
      "[Parallel(n_jobs=1)]: Done 348 out of 348 | elapsed:   20.6s finished\n"
     ]
    },
    {
     "name": "stdout",
     "output_type": "stream",
     "text": [
      "       Best parameters selected: <<{'C': 0.0009}>> for score <<0.669617168503898>>.\n",
      "       Final parameters selected: <<{'C': 0.0271}>> for score <<0.6705702650476347>>.\n",
      "\n",
      "          *** Score on validation dataset (macro/weighted) <<0.6431884666037317>> / <<0.952037351443124>>.\n",
      "[[2231   88]\n",
      " [  25   12]]\n",
      "\n",
      "-------------------------------------------------------------------\n",
      "    17. Fit model for class: <<refugees>> ((21203, 23979)).\n",
      "    Tuning hyper-parameters for class: <<refugees>> (Recall).\n",
      "       1. Grid Search model <<<class 'sklearn.svm.classes.LinearSVC'>>>; weight: <<balanced>>; parameters: <<{'C': [0.001, 0.01, 0.1, 1.0, 10.0]}>>\n",
      "Fitting 12 folds for each of 5 candidates, totalling 60 fits\n"
     ]
    },
    {
     "name": "stderr",
     "output_type": "stream",
     "text": [
      "[Parallel(n_jobs=1)]: Done  60 out of  60 | elapsed:   15.2s finished\n"
     ]
    },
    {
     "name": "stdout",
     "output_type": "stream",
     "text": [
      "       Best parameters selected: <<{'C': 0.01}>> for score <<0.7891364355685696>>.\n",
      "       2. Grid Search model <<<class 'sklearn.svm.classes.LinearSVC'>>>; weight: <<balanced>>; parameters: <<{'C': [0.0033, 0.0038, 0.0043, 0.0048, 0.0052, 0.0057, 0.0062, 0.0067, 0.0071, 0.0076, 0.0081, 0.0086, 0.009, 0.0095, 0.01, 0.0114, 0.0129, 0.0143, 0.0157, 0.0171, 0.0186, 0.02, 0.0214, 0.0229, 0.0243, 0.0257, 0.0271, 0.0286, 0.03]}>>\n",
      "Fitting 12 folds for each of 29 candidates, totalling 348 fits\n"
     ]
    },
    {
     "name": "stderr",
     "output_type": "stream",
     "text": [
      "[Parallel(n_jobs=1)]: Done 348 out of 348 | elapsed:   28.0s finished\n"
     ]
    },
    {
     "name": "stdout",
     "output_type": "stream",
     "text": [
      "       Best parameters selected: <<{'C': 0.0095}>> for score <<0.7896474469555497>>.\n",
      "       3. Grid Search model <<<class 'sklearn.svm.classes.LinearSVC'>>>; weight: <<balanced>>; parameters: <<{'C': [0.0032, 0.0036, 0.0041, 0.0045, 0.005, 0.0054, 0.0059, 0.0063, 0.0068, 0.0072, 0.0077, 0.0081, 0.0086, 0.009, 0.0095, 0.0109, 0.0122, 0.0136, 0.0149, 0.0163, 0.0176, 0.019, 0.0204, 0.0217, 0.0231, 0.0244, 0.0258, 0.0271, 0.0285]}>>\n",
      "Fitting 12 folds for each of 29 candidates, totalling 348 fits\n"
     ]
    },
    {
     "name": "stderr",
     "output_type": "stream",
     "text": [
      "[Parallel(n_jobs=1)]: Done 348 out of 348 | elapsed:   27.2s finished\n"
     ]
    },
    {
     "name": "stdout",
     "output_type": "stream",
     "text": [
      "       Best parameters selected: <<{'C': 0.0122}>> for score <<0.7903195681426527>>.\n",
      "       4. Grid Search model <<<class 'sklearn.svm.classes.LinearSVC'>>>; weight: <<balanced>>; parameters: <<{'C': [0.0041, 0.0046, 0.0052, 0.0058, 0.0064, 0.007, 0.0076, 0.0081, 0.0087, 0.0093, 0.0099, 0.0105, 0.011, 0.0116, 0.0122, 0.0139, 0.0157, 0.0174, 0.0192, 0.0209, 0.0227, 0.0244, 0.0261, 0.0279, 0.0296, 0.0314, 0.0331, 0.0349, 0.0366]}>>\n",
      "Fitting 12 folds for each of 29 candidates, totalling 348 fits\n"
     ]
    },
    {
     "name": "stderr",
     "output_type": "stream",
     "text": [
      "[Parallel(n_jobs=1)]: Done 348 out of 348 | elapsed:   31.0s finished\n"
     ]
    },
    {
     "name": "stdout",
     "output_type": "stream",
     "text": [
      "       Best parameters selected: <<{'C': 0.0122}>> for score <<0.7903195681426527>>.\n",
      "       4. Grid Search model <<<class 'sklearn.svm.classes.LinearSVC'>>>; weight: <<{0: 1.0, 1: 59.28034682080924}>>; parameters: <<{'C': [0.001, 0.01, 0.1, 1.0, 10.0]}>>\n",
      "Fitting 12 folds for each of 5 candidates, totalling 60 fits\n"
     ]
    },
    {
     "name": "stderr",
     "output_type": "stream",
     "text": [
      "[Parallel(n_jobs=1)]: Done  60 out of  60 | elapsed:   20.0s finished\n"
     ]
    },
    {
     "name": "stdout",
     "output_type": "stream",
     "text": [
      "       Best parameters selected: <<{'C': 0.01}>> for score <<0.7954550480798468>>.\n",
      "       5. Grid Search model <<<class 'sklearn.svm.classes.LinearSVC'>>>; weight: <<{0: 1.0, 1: 59.28034682080924}>>; parameters: <<{'C': [0.0033, 0.0038, 0.0043, 0.0048, 0.0052, 0.0057, 0.0062, 0.0067, 0.0071, 0.0076, 0.0081, 0.0086, 0.009, 0.0095, 0.01, 0.0114, 0.0129, 0.0143, 0.0157, 0.0171, 0.0186, 0.02, 0.0214, 0.0229, 0.0243, 0.0257, 0.0271, 0.0286, 0.03]}>>\n",
      "Fitting 12 folds for each of 29 candidates, totalling 348 fits\n"
     ]
    },
    {
     "name": "stderr",
     "output_type": "stream",
     "text": [
      "[Parallel(n_jobs=1)]: Done 348 out of 348 | elapsed:   50.6s finished\n"
     ]
    },
    {
     "name": "stdout",
     "output_type": "stream",
     "text": [
      "       Best parameters selected: <<{'C': 0.009}>> for score <<0.7976199314253161>>.\n",
      "       6. Grid Search model <<<class 'sklearn.svm.classes.LinearSVC'>>>; weight: <<{0: 1.0, 1: 59.28034682080924}>>; parameters: <<{'C': [0.003, 0.0034, 0.0039, 0.0043, 0.0047, 0.0051, 0.0056, 0.006, 0.0064, 0.0069, 0.0073, 0.0077, 0.0081, 0.0086, 0.009, 0.0103, 0.0116, 0.0129, 0.0141, 0.0154, 0.0167, 0.018, 0.0193, 0.0206, 0.0219, 0.0231, 0.0244, 0.0257, 0.027]}>>\n",
      "Fitting 12 folds for each of 29 candidates, totalling 348 fits\n"
     ]
    },
    {
     "name": "stderr",
     "output_type": "stream",
     "text": [
      "[Parallel(n_jobs=1)]: Done 348 out of 348 | elapsed:   47.8s finished\n"
     ]
    },
    {
     "name": "stdout",
     "output_type": "stream",
     "text": [
      "       Best parameters selected: <<{'C': 0.009}>> for score <<0.7976199314253161>>.\n",
      "       Final parameters selected: <<{'C': 0.0122}>> for score <<0.7903195681426527>>.\n",
      "\n",
      "          *** Score on validation dataset (macro/weighted) <<0.7918908558207034>> / <<0.9036502546689303>>.\n",
      "[[2064  195]\n",
      " [  32   65]]\n",
      "\n",
      "-------------------------------------------------------------------\n",
      "    18. Fit model for class: <<death>> ((21203, 23979)).\n",
      "    Tuning hyper-parameters for class: <<death>> (Recall).\n",
      "       1. Grid Search model <<<class 'sklearn.svm.classes.LinearSVC'>>>; weight: <<balanced>>; parameters: <<{'C': [0.001, 0.01, 0.1, 1.0, 10.0]}>>\n",
      "Fitting 12 folds for each of 5 candidates, totalling 60 fits\n"
     ]
    },
    {
     "name": "stderr",
     "output_type": "stream",
     "text": [
      "[Parallel(n_jobs=1)]: Done  60 out of  60 | elapsed:   15.0s finished\n"
     ]
    },
    {
     "name": "stdout",
     "output_type": "stream",
     "text": [
      "       Best parameters selected: <<{'C': 0.01}>> for score <<0.8539236813683789>>.\n",
      "       2. Grid Search model <<<class 'sklearn.svm.classes.LinearSVC'>>>; weight: <<balanced>>; parameters: <<{'C': [0.0033, 0.0038, 0.0043, 0.0048, 0.0052, 0.0057, 0.0062, 0.0067, 0.0071, 0.0076, 0.0081, 0.0086, 0.009, 0.0095, 0.01, 0.0114, 0.0129, 0.0143, 0.0157, 0.0171, 0.0186, 0.02, 0.0214, 0.0229, 0.0243, 0.0257, 0.0271, 0.0286, 0.03]}>>\n",
      "Fitting 12 folds for each of 29 candidates, totalling 348 fits\n"
     ]
    },
    {
     "name": "stderr",
     "output_type": "stream",
     "text": [
      "[Parallel(n_jobs=1)]: Done 348 out of 348 | elapsed:   25.3s finished\n"
     ]
    },
    {
     "name": "stdout",
     "output_type": "stream",
     "text": [
      "       Best parameters selected: <<{'C': 0.0243}>> for score <<0.8577868031770428>>.\n",
      "       3. Grid Search model <<<class 'sklearn.svm.classes.LinearSVC'>>>; weight: <<balanced>>; parameters: <<{'C': [0.0081, 0.0093, 0.0104, 0.0116, 0.0127, 0.0139, 0.015, 0.0162, 0.0174, 0.0185, 0.0197, 0.0208, 0.022, 0.0231, 0.0243, 0.0278, 0.0312, 0.0347, 0.0382, 0.0417, 0.0451, 0.0486, 0.0521, 0.0555, 0.059, 0.0625, 0.066, 0.0694, 0.0729]}>>\n",
      "Fitting 12 folds for each of 29 candidates, totalling 348 fits\n"
     ]
    },
    {
     "name": "stderr",
     "output_type": "stream",
     "text": [
      "[Parallel(n_jobs=1)]: Done 348 out of 348 | elapsed:   38.2s finished\n"
     ]
    },
    {
     "name": "stdout",
     "output_type": "stream",
     "text": [
      "       Best parameters selected: <<{'C': 0.0451}>> for score <<0.8593368350961686>>.\n",
      "       4. Grid Search model <<<class 'sklearn.svm.classes.LinearSVC'>>>; weight: <<balanced>>; parameters: <<{'C': [0.015, 0.0172, 0.0193, 0.0215, 0.0236, 0.0258, 0.0279, 0.0301, 0.0322, 0.0344, 0.0365, 0.0387, 0.0408, 0.043, 0.0451, 0.0515, 0.058, 0.0644, 0.0709, 0.0773, 0.0838, 0.0902, 0.0966, 0.1031, 0.1095, 0.116, 0.1224, 0.1289, 0.1353]}>>\n",
      "Fitting 12 folds for each of 29 candidates, totalling 348 fits\n"
     ]
    },
    {
     "name": "stderr",
     "output_type": "stream",
     "text": [
      "[Parallel(n_jobs=1)]: Done 348 out of 348 | elapsed:   50.7s finished\n"
     ]
    },
    {
     "name": "stdout",
     "output_type": "stream",
     "text": [
      "       Best parameters selected: <<{'C': 0.0451}>> for score <<0.8593368350961686>>.\n",
      "       Final parameters selected: <<{'C': 0.0451}>> for score <<0.8593368350961686>>.\n",
      "\n",
      "          *** Score on validation dataset (macro/weighted) <<0.8036112172141584>> / <<0.9410016977928692>>.\n",
      "[[2144  100]\n",
      " [  39   73]]\n",
      "\n",
      "-------------------------------------------------------------------\n",
      "    19. Fit model for class: <<other_aid>> ((21203, 23979)).\n",
      "    Tuning hyper-parameters for class: <<other_aid>> (Recall).\n",
      "       1. Grid Search model <<<class 'sklearn.svm.classes.LinearSVC'>>>; weight: <<balanced>>; parameters: <<{'C': [0.001, 0.01, 0.1, 1.0, 10.0]}>>\n",
      "Fitting 12 folds for each of 5 candidates, totalling 60 fits\n"
     ]
    },
    {
     "name": "stderr",
     "output_type": "stream",
     "text": [
      "[Parallel(n_jobs=1)]: Done  60 out of  60 | elapsed:   26.2s finished\n"
     ]
    },
    {
     "name": "stdout",
     "output_type": "stream",
     "text": [
      "       Best parameters selected: <<{'C': 0.01}>> for score <<0.7011280290834029>>.\n",
      "       2. Grid Search model <<<class 'sklearn.svm.classes.LinearSVC'>>>; weight: <<balanced>>; parameters: <<{'C': [0.0033, 0.0038, 0.0043, 0.0048, 0.0052, 0.0057, 0.0062, 0.0067, 0.0071, 0.0076, 0.0081, 0.0086, 0.009, 0.0095, 0.01, 0.0114, 0.0129, 0.0143, 0.0157, 0.0171, 0.0186, 0.02, 0.0214, 0.0229, 0.0243, 0.0257, 0.0271, 0.0286, 0.03]}>>\n",
      "Fitting 12 folds for each of 29 candidates, totalling 348 fits\n"
     ]
    },
    {
     "name": "stderr",
     "output_type": "stream",
     "text": [
      "[Parallel(n_jobs=1)]: Done 348 out of 348 | elapsed:   18.8s finished\n"
     ]
    },
    {
     "name": "stdout",
     "output_type": "stream",
     "text": [
      "       Best parameters selected: <<{'C': 0.0171}>> for score <<0.7060927126854244>>.\n",
      "       3. Grid Search model <<<class 'sklearn.svm.classes.LinearSVC'>>>; weight: <<balanced>>; parameters: <<{'C': [0.0057, 0.0065, 0.0073, 0.0081, 0.009, 0.0098, 0.0106, 0.0114, 0.0122, 0.013, 0.0138, 0.0147, 0.0155, 0.0163, 0.0171, 0.0195, 0.022, 0.0244, 0.0269, 0.0293, 0.0318, 0.0342, 0.0366, 0.0391, 0.0415, 0.044, 0.0464, 0.0489, 0.0513]}>>\n",
      "Fitting 12 folds for each of 29 candidates, totalling 348 fits\n"
     ]
    },
    {
     "name": "stderr",
     "output_type": "stream",
     "text": [
      "[Parallel(n_jobs=1)]: Done 348 out of 348 | elapsed:   22.8s finished\n"
     ]
    },
    {
     "name": "stdout",
     "output_type": "stream",
     "text": [
      "       Best parameters selected: <<{'C': 0.044}>> for score <<0.7065147356707269>>.\n",
      "       4. Grid Search model <<<class 'sklearn.svm.classes.LinearSVC'>>>; weight: <<balanced>>; parameters: <<{'C': [0.0147, 0.0168, 0.0189, 0.021, 0.023, 0.0251, 0.0272, 0.0293, 0.0314, 0.0335, 0.0356, 0.0377, 0.0398, 0.0419, 0.044, 0.0503, 0.0566, 0.0629, 0.0691, 0.0754, 0.0817, 0.088, 0.0943, 0.1006, 0.1069, 0.1131, 0.1194, 0.1257, 0.132]}>>\n",
      "Fitting 12 folds for each of 29 candidates, totalling 348 fits\n"
     ]
    },
    {
     "name": "stderr",
     "output_type": "stream",
     "text": [
      "[Parallel(n_jobs=1)]: Done 348 out of 348 | elapsed:   36.7s finished\n"
     ]
    },
    {
     "name": "stdout",
     "output_type": "stream",
     "text": [
      "       Best parameters selected: <<{'C': 0.044}>> for score <<0.7065147356707269>>.\n",
      "       4. Grid Search model <<<class 'sklearn.svm.classes.LinearSVC'>>>; weight: <<{0: 1.0, 1: 13.493606138107415}>>; parameters: <<{'C': [0.001, 0.01, 0.1, 1.0, 10.0]}>>\n",
      "Fitting 12 folds for each of 5 candidates, totalling 60 fits\n"
     ]
    },
    {
     "name": "stderr",
     "output_type": "stream",
     "text": [
      "[Parallel(n_jobs=1)]: Done  60 out of  60 | elapsed:   39.7s finished\n"
     ]
    },
    {
     "name": "stdout",
     "output_type": "stream",
     "text": [
      "       Best parameters selected: <<{'C': 0.1}>> for score <<0.7007854675936179>>.\n",
      "       5. Grid Search model <<<class 'sklearn.svm.classes.LinearSVC'>>>; weight: <<{0: 1.0, 1: 13.493606138107415}>>; parameters: <<{'C': [0.0333, 0.0381, 0.0429, 0.0476, 0.0524, 0.0571, 0.0619, 0.0667, 0.0714, 0.0762, 0.081, 0.0857, 0.0905, 0.0952, 0.1, 0.1143, 0.1286, 0.1429, 0.1571, 0.1714, 0.1857, 0.2, 0.2143, 0.2286, 0.2429, 0.2571, 0.2714, 0.2857, 0.3]}>>\n",
      "Fitting 12 folds for each of 29 candidates, totalling 348 fits\n"
     ]
    },
    {
     "name": "stderr",
     "output_type": "stream",
     "text": [
      "[Parallel(n_jobs=1)]: Done 348 out of 348 | elapsed:  2.2min finished\n"
     ]
    },
    {
     "name": "stdout",
     "output_type": "stream",
     "text": [
      "       Best parameters selected: <<{'C': 0.0429}>> for score <<0.7102685195786891>>.\n",
      "       6. Grid Search model <<<class 'sklearn.svm.classes.LinearSVC'>>>; weight: <<{0: 1.0, 1: 13.493606138107415}>>; parameters: <<{'C': [0.0143, 0.0163, 0.0184, 0.0204, 0.0225, 0.0245, 0.0266, 0.0286, 0.0306, 0.0327, 0.0347, 0.0368, 0.0388, 0.0409, 0.0429, 0.049, 0.0552, 0.0613, 0.0674, 0.0735, 0.0797, 0.0858, 0.0919, 0.0981, 0.1042, 0.1103, 0.1164, 0.1226, 0.1287]}>>\n",
      "Fitting 12 folds for each of 29 candidates, totalling 348 fits\n"
     ]
    },
    {
     "name": "stderr",
     "output_type": "stream",
     "text": [
      "[Parallel(n_jobs=1)]: Done 348 out of 348 | elapsed:  1.2min finished\n"
     ]
    },
    {
     "name": "stdout",
     "output_type": "stream",
     "text": [
      "       Best parameters selected: <<{'C': 0.0409}>> for score <<0.7108162274987331>>.\n",
      "       7. Grid Search model <<<class 'sklearn.svm.classes.LinearSVC'>>>; weight: <<{0: 1.0, 1: 13.493606138107415}>>; parameters: <<{'C': [0.0136, 0.0156, 0.0175, 0.0195, 0.0214, 0.0234, 0.0253, 0.0273, 0.0292, 0.0312, 0.0331, 0.0351, 0.037, 0.039, 0.0409, 0.0467, 0.0526, 0.0584, 0.0643, 0.0701, 0.076, 0.0818, 0.0876, 0.0935, 0.0993, 0.1052, 0.111, 0.1169, 0.1227]}>>\n",
      "Fitting 12 folds for each of 29 candidates, totalling 348 fits\n"
     ]
    },
    {
     "name": "stderr",
     "output_type": "stream",
     "text": [
      "[Parallel(n_jobs=1)]: Done 348 out of 348 | elapsed:  1.2min finished\n"
     ]
    },
    {
     "name": "stdout",
     "output_type": "stream",
     "text": [
      "       Best parameters selected: <<{'C': 0.0409}>> for score <<0.7108162274987331>>.\n",
      "       Final parameters selected: <<{'C': 0.044}>> for score <<0.7065147356707269>>.\n",
      "\n",
      "          *** Score on validation dataset (macro/weighted) <<0.713770692584252>> / <<0.7941426146010186>>.\n",
      "[[1659  343]\n",
      " [ 142  212]]\n",
      "\n",
      "-------------------------------------------------------------------\n",
      "    20. Fit model for class: <<infrastructure_related>> ((21203, 23979)).\n",
      "    Tuning hyper-parameters for class: <<infrastructure_related>> (Recall).\n",
      "       1. Grid Search model <<<class 'sklearn.svm.classes.LinearSVC'>>>; weight: <<balanced>>; parameters: <<{'C': [0.001, 0.01, 0.1, 1.0, 10.0]}>>\n",
      "Fitting 12 folds for each of 5 candidates, totalling 60 fits\n"
     ]
    },
    {
     "name": "stderr",
     "output_type": "stream",
     "text": [
      "[Parallel(n_jobs=1)]: Done  60 out of  60 | elapsed:   21.4s finished\n"
     ]
    },
    {
     "name": "stdout",
     "output_type": "stream",
     "text": [
      "       Best parameters selected: <<{'C': 0.01}>> for score <<0.7234113731896643>>.\n",
      "       2. Grid Search model <<<class 'sklearn.svm.classes.LinearSVC'>>>; weight: <<balanced>>; parameters: <<{'C': [0.0033, 0.0038, 0.0043, 0.0048, 0.0052, 0.0057, 0.0062, 0.0067, 0.0071, 0.0076, 0.0081, 0.0086, 0.009, 0.0095, 0.01, 0.0114, 0.0129, 0.0143, 0.0157, 0.0171, 0.0186, 0.02, 0.0214, 0.0229, 0.0243, 0.0257, 0.0271, 0.0286, 0.03]}>>\n",
      "Fitting 12 folds for each of 29 candidates, totalling 348 fits\n"
     ]
    },
    {
     "name": "stderr",
     "output_type": "stream",
     "text": [
      "[Parallel(n_jobs=1)]: Done 348 out of 348 | elapsed:   22.9s finished\n"
     ]
    },
    {
     "name": "stdout",
     "output_type": "stream",
     "text": [
      "       Best parameters selected: <<{'C': 0.0157}>> for score <<0.7267368812920827>>.\n",
      "       3. Grid Search model <<<class 'sklearn.svm.classes.LinearSVC'>>>; weight: <<balanced>>; parameters: <<{'C': [0.0052, 0.006, 0.0067, 0.0075, 0.0082, 0.009, 0.0097, 0.0105, 0.0112, 0.012, 0.0127, 0.0135, 0.0142, 0.015, 0.0157, 0.0179, 0.0202, 0.0224, 0.0247, 0.0269, 0.0292, 0.0314, 0.0336, 0.0359, 0.0381, 0.0404, 0.0426, 0.0449, 0.0471]}>>\n",
      "Fitting 12 folds for each of 29 candidates, totalling 348 fits\n"
     ]
    },
    {
     "name": "stderr",
     "output_type": "stream",
     "text": [
      "[Parallel(n_jobs=1)]: Done 348 out of 348 | elapsed:   27.6s finished\n"
     ]
    },
    {
     "name": "stdout",
     "output_type": "stream",
     "text": [
      "       Best parameters selected: <<{'C': 0.015}>> for score <<0.7268563729320131>>.\n",
      "       4. Grid Search model <<<class 'sklearn.svm.classes.LinearSVC'>>>; weight: <<balanced>>; parameters: <<{'C': [0.005, 0.0057, 0.0064, 0.0071, 0.0079, 0.0086, 0.0093, 0.01, 0.0107, 0.0114, 0.0121, 0.0129, 0.0136, 0.0143, 0.015, 0.0171, 0.0193, 0.0214, 0.0236, 0.0257, 0.0279, 0.03, 0.0321, 0.0343, 0.0364, 0.0386, 0.0407, 0.0429, 0.045]}>>\n",
      "Fitting 12 folds for each of 29 candidates, totalling 348 fits\n"
     ]
    },
    {
     "name": "stderr",
     "output_type": "stream",
     "text": [
      "[Parallel(n_jobs=1)]: Done 348 out of 348 | elapsed:   27.1s finished\n"
     ]
    },
    {
     "name": "stdout",
     "output_type": "stream",
     "text": [
      "       Best parameters selected: <<{'C': 0.015}>> for score <<0.7268563729320131>>.\n",
      "       4. Grid Search model <<<class 'sklearn.svm.classes.LinearSVC'>>>; weight: <<{0: 1.0, 1: 28.618050541516244}>>; parameters: <<{'C': [0.001, 0.01, 0.1, 1.0, 10.0]}>>\n",
      "Fitting 12 folds for each of 5 candidates, totalling 60 fits\n"
     ]
    },
    {
     "name": "stderr",
     "output_type": "stream",
     "text": [
      "[Parallel(n_jobs=1)]: Done  60 out of  60 | elapsed:   28.1s finished\n"
     ]
    },
    {
     "name": "stdout",
     "output_type": "stream",
     "text": [
      "       Best parameters selected: <<{'C': 0.01}>> for score <<0.7174339356935023>>.\n",
      "       5. Grid Search model <<<class 'sklearn.svm.classes.LinearSVC'>>>; weight: <<{0: 1.0, 1: 28.618050541516244}>>; parameters: <<{'C': [0.0033, 0.0038, 0.0043, 0.0048, 0.0052, 0.0057, 0.0062, 0.0067, 0.0071, 0.0076, 0.0081, 0.0086, 0.009, 0.0095, 0.01, 0.0114, 0.0129, 0.0143, 0.0157, 0.0171, 0.0186, 0.02, 0.0214, 0.0229, 0.0243, 0.0257, 0.0271, 0.0286, 0.03]}>>\n",
      "Fitting 12 folds for each of 29 candidates, totalling 348 fits\n"
     ]
    },
    {
     "name": "stderr",
     "output_type": "stream",
     "text": [
      "[Parallel(n_jobs=1)]: Done 348 out of 348 | elapsed:   41.3s finished\n"
     ]
    },
    {
     "name": "stdout",
     "output_type": "stream",
     "text": [
      "       Best parameters selected: <<{'C': 0.0171}>> for score <<0.7283419085465138>>.\n",
      "       6. Grid Search model <<<class 'sklearn.svm.classes.LinearSVC'>>>; weight: <<{0: 1.0, 1: 28.618050541516244}>>; parameters: <<{'C': [0.0057, 0.0065, 0.0073, 0.0081, 0.009, 0.0098, 0.0106, 0.0114, 0.0122, 0.013, 0.0138, 0.0147, 0.0155, 0.0163, 0.0171, 0.0195, 0.022, 0.0244, 0.0269, 0.0293, 0.0318, 0.0342, 0.0366, 0.0391, 0.0415, 0.044, 0.0464, 0.0489, 0.0513]}>>\n",
      "Fitting 12 folds for each of 29 candidates, totalling 348 fits\n"
     ]
    },
    {
     "name": "stderr",
     "output_type": "stream",
     "text": [
      "[Parallel(n_jobs=1)]: Done 348 out of 348 | elapsed:   55.6s finished\n"
     ]
    },
    {
     "name": "stdout",
     "output_type": "stream",
     "text": [
      "       Best parameters selected: <<{'C': 0.0171}>> for score <<0.7283419085465138>>.\n",
      "       Final parameters selected: <<{'C': 0.015}>> for score <<0.7268563729320131>>.\n",
      "\n",
      "          *** Score on validation dataset (macro/weighted) <<0.6789928515471993>> / <<0.7941426146010186>>.\n",
      "[[1790  418]\n",
      " [  67   81]]\n",
      "\n",
      "-------------------------------------------------------------------\n",
      "    21. Fit model for class: <<transport>> ((21203, 23979)).\n",
      "    Tuning hyper-parameters for class: <<transport>> (Recall).\n",
      "       1. Grid Search model <<<class 'sklearn.svm.classes.LinearSVC'>>>; weight: <<balanced>>; parameters: <<{'C': [0.001, 0.01, 0.1, 1.0, 10.0]}>>\n",
      "Fitting 12 folds for each of 5 candidates, totalling 60 fits\n"
     ]
    },
    {
     "name": "stderr",
     "output_type": "stream",
     "text": [
      "[Parallel(n_jobs=1)]: Done  60 out of  60 | elapsed:   23.1s finished\n"
     ]
    },
    {
     "name": "stdout",
     "output_type": "stream",
     "text": [
      "       Best parameters selected: <<{'C': 0.01}>> for score <<0.7182833294599682>>.\n",
      "       2. Grid Search model <<<class 'sklearn.svm.classes.LinearSVC'>>>; weight: <<balanced>>; parameters: <<{'C': [0.0033, 0.0038, 0.0043, 0.0048, 0.0052, 0.0057, 0.0062, 0.0067, 0.0071, 0.0076, 0.0081, 0.0086, 0.009, 0.0095, 0.01, 0.0114, 0.0129, 0.0143, 0.0157, 0.0171, 0.0186, 0.02, 0.0214, 0.0229, 0.0243, 0.0257, 0.0271, 0.0286, 0.03]}>>\n",
      "Fitting 12 folds for each of 29 candidates, totalling 348 fits\n"
     ]
    },
    {
     "name": "stderr",
     "output_type": "stream",
     "text": [
      "[Parallel(n_jobs=1)]: Done 348 out of 348 | elapsed:   26.1s finished\n"
     ]
    },
    {
     "name": "stdout",
     "output_type": "stream",
     "text": [
      "       Best parameters selected: <<{'C': 0.0057}>> for score <<0.7216382752647558>>.\n",
      "       3. Grid Search model <<<class 'sklearn.svm.classes.LinearSVC'>>>; weight: <<balanced>>; parameters: <<{'C': [0.0019, 0.0022, 0.0024, 0.0027, 0.003, 0.0033, 0.0035, 0.0038, 0.0041, 0.0043, 0.0046, 0.0049, 0.0052, 0.0054, 0.0057, 0.0065, 0.0073, 0.0081, 0.009, 0.0098, 0.0106, 0.0114, 0.0122, 0.013, 0.0138, 0.0147, 0.0155, 0.0163, 0.0171]}>>\n",
      "Fitting 12 folds for each of 29 candidates, totalling 348 fits\n"
     ]
    },
    {
     "name": "stderr",
     "output_type": "stream",
     "text": [
      "[Parallel(n_jobs=1)]: Done 348 out of 348 | elapsed:   21.1s finished\n"
     ]
    },
    {
     "name": "stdout",
     "output_type": "stream",
     "text": [
      "       Best parameters selected: <<{'C': 0.0057}>> for score <<0.7216382752647558>>.\n",
      "       3. Grid Search model <<<class 'sklearn.svm.classes.LinearSVC'>>>; weight: <<{0: 1.0, 1: 41.31562819203268}>>; parameters: <<{'C': [0.001, 0.01, 0.1, 1.0, 10.0]}>>\n",
      "Fitting 12 folds for each of 5 candidates, totalling 60 fits\n"
     ]
    },
    {
     "name": "stderr",
     "output_type": "stream",
     "text": [
      "[Parallel(n_jobs=1)]: Done  60 out of  60 | elapsed:   26.3s finished\n"
     ]
    },
    {
     "name": "stdout",
     "output_type": "stream",
     "text": [
      "       Best parameters selected: <<{'C': 0.01}>> for score <<0.7083740333769538>>.\n",
      "       4. Grid Search model <<<class 'sklearn.svm.classes.LinearSVC'>>>; weight: <<{0: 1.0, 1: 41.31562819203268}>>; parameters: <<{'C': [0.0033, 0.0038, 0.0043, 0.0048, 0.0052, 0.0057, 0.0062, 0.0067, 0.0071, 0.0076, 0.0081, 0.0086, 0.009, 0.0095, 0.01, 0.0114, 0.0129, 0.0143, 0.0157, 0.0171, 0.0186, 0.02, 0.0214, 0.0229, 0.0243, 0.0257, 0.0271, 0.0286, 0.03]}>>\n",
      "Fitting 12 folds for each of 29 candidates, totalling 348 fits\n"
     ]
    },
    {
     "name": "stderr",
     "output_type": "stream",
     "text": [
      "[Parallel(n_jobs=1)]: Done 348 out of 348 | elapsed:   50.5s finished\n"
     ]
    },
    {
     "name": "stdout",
     "output_type": "stream",
     "text": [
      "       Best parameters selected: <<{'C': 0.0143}>> for score <<0.7152984355146729>>.\n",
      "       5. Grid Search model <<<class 'sklearn.svm.classes.LinearSVC'>>>; weight: <<{0: 1.0, 1: 41.31562819203268}>>; parameters: <<{'C': [0.0048, 0.0054, 0.0061, 0.0068, 0.0075, 0.0082, 0.0089, 0.0095, 0.0102, 0.0109, 0.0116, 0.0123, 0.0129, 0.0136, 0.0143, 0.0163, 0.0184, 0.0204, 0.0225, 0.0245, 0.0266, 0.0286, 0.0306, 0.0327, 0.0347, 0.0368, 0.0388, 0.0409, 0.0429]}>>\n",
      "Fitting 12 folds for each of 29 candidates, totalling 348 fits\n"
     ]
    },
    {
     "name": "stderr",
     "output_type": "stream",
     "text": [
      "[Parallel(n_jobs=1)]: Done 348 out of 348 | elapsed:  1.0min finished\n"
     ]
    },
    {
     "name": "stdout",
     "output_type": "stream",
     "text": [
      "       Best parameters selected: <<{'C': 0.0143}>> for score <<0.7152984355146729>>.\n",
      "       Final parameters selected: <<{'C': 0.0057}>> for score <<0.7216382752647558>>.\n",
      "\n",
      "          *** Score on validation dataset (macro/weighted) <<0.6660712788259958>> / <<0.8429541595925297>>.\n",
      "[[1936  314]\n",
      " [  56   50]]\n",
      "\n",
      "-------------------------------------------------------------------\n",
      "    22. Fit model for class: <<buildings>> ((21203, 23979)).\n",
      "    Tuning hyper-parameters for class: <<buildings>> (Recall).\n",
      "       1. Grid Search model <<<class 'sklearn.svm.classes.LinearSVC'>>>; weight: <<balanced>>; parameters: <<{'C': [0.001, 0.01, 0.1, 1.0, 10.0]}>>\n",
      "Fitting 12 folds for each of 5 candidates, totalling 60 fits\n"
     ]
    },
    {
     "name": "stderr",
     "output_type": "stream",
     "text": [
      "[Parallel(n_jobs=1)]: Done  60 out of  60 | elapsed:   17.1s finished\n"
     ]
    },
    {
     "name": "stdout",
     "output_type": "stream",
     "text": [
      "       Best parameters selected: <<{'C': 0.01}>> for score <<0.8315952297768373>>.\n",
      "       2. Grid Search model <<<class 'sklearn.svm.classes.LinearSVC'>>>; weight: <<balanced>>; parameters: <<{'C': [0.0033, 0.0038, 0.0043, 0.0048, 0.0052, 0.0057, 0.0062, 0.0067, 0.0071, 0.0076, 0.0081, 0.0086, 0.009, 0.0095, 0.01, 0.0114, 0.0129, 0.0143, 0.0157, 0.0171, 0.0186, 0.02, 0.0214, 0.0229, 0.0243, 0.0257, 0.0271, 0.0286, 0.03]}>>\n",
      "Fitting 12 folds for each of 29 candidates, totalling 348 fits\n"
     ]
    },
    {
     "name": "stderr",
     "output_type": "stream",
     "text": [
      "[Parallel(n_jobs=1)]: Done 348 out of 348 | elapsed:   24.2s finished\n"
     ]
    },
    {
     "name": "stdout",
     "output_type": "stream",
     "text": [
      "       Best parameters selected: <<{'C': 0.0243}>> for score <<0.8353098816997323>>.\n",
      "       3. Grid Search model <<<class 'sklearn.svm.classes.LinearSVC'>>>; weight: <<balanced>>; parameters: <<{'C': [0.0081, 0.0093, 0.0104, 0.0116, 0.0127, 0.0139, 0.015, 0.0162, 0.0174, 0.0185, 0.0197, 0.0208, 0.022, 0.0231, 0.0243, 0.0278, 0.0312, 0.0347, 0.0382, 0.0417, 0.0451, 0.0486, 0.0521, 0.0555, 0.059, 0.0625, 0.066, 0.0694, 0.0729]}>>\n",
      "Fitting 12 folds for each of 29 candidates, totalling 348 fits\n"
     ]
    },
    {
     "name": "stderr",
     "output_type": "stream",
     "text": [
      "[Parallel(n_jobs=1)]: Done 348 out of 348 | elapsed:   37.2s finished\n"
     ]
    },
    {
     "name": "stdout",
     "output_type": "stream",
     "text": [
      "       Best parameters selected: <<{'C': 0.0382}>> for score <<0.8361434151743516>>.\n",
      "       4. Grid Search model <<<class 'sklearn.svm.classes.LinearSVC'>>>; weight: <<balanced>>; parameters: <<{'C': [0.0127, 0.0146, 0.0164, 0.0182, 0.02, 0.0218, 0.0236, 0.0255, 0.0273, 0.0291, 0.0309, 0.0327, 0.0346, 0.0364, 0.0382, 0.0437, 0.0491, 0.0546, 0.06, 0.0655, 0.0709, 0.0764, 0.0819, 0.0873, 0.0928, 0.0982, 0.1037, 0.1091, 0.1146]}>>\n",
      "Fitting 12 folds for each of 29 candidates, totalling 348 fits\n"
     ]
    },
    {
     "name": "stderr",
     "output_type": "stream",
     "text": [
      "[Parallel(n_jobs=1)]: Done 348 out of 348 | elapsed:   48.1s finished\n"
     ]
    },
    {
     "name": "stdout",
     "output_type": "stream",
     "text": [
      "       Best parameters selected: <<{'C': 0.0236}>> for score <<0.8361913850515323>>.\n",
      "       5. Grid Search model <<<class 'sklearn.svm.classes.LinearSVC'>>>; weight: <<balanced>>; parameters: <<{'C': [0.0079, 0.009, 0.0101, 0.0112, 0.0124, 0.0135, 0.0146, 0.0157, 0.0169, 0.018, 0.0191, 0.0202, 0.0214, 0.0225, 0.0236, 0.027, 0.0303, 0.0337, 0.0371, 0.0405, 0.0438, 0.0472, 0.0506, 0.0539, 0.0573, 0.0607, 0.0641, 0.0674, 0.0708]}>>\n",
      "Fitting 12 folds for each of 29 candidates, totalling 348 fits\n"
     ]
    },
    {
     "name": "stderr",
     "output_type": "stream",
     "text": [
      "[Parallel(n_jobs=1)]: Done 348 out of 348 | elapsed:   37.1s finished\n"
     ]
    },
    {
     "name": "stdout",
     "output_type": "stream",
     "text": [
      "       Best parameters selected: <<{'C': 0.0236}>> for score <<0.8361913850515323>>.\n",
      "       5. Grid Search model <<<class 'sklearn.svm.classes.LinearSVC'>>>; weight: <<{0: 1.0, 1: 37.41078066914498}>>; parameters: <<{'C': [0.001, 0.01, 0.1, 1.0, 10.0]}>>\n",
      "Fitting 12 folds for each of 5 candidates, totalling 60 fits\n"
     ]
    },
    {
     "name": "stderr",
     "output_type": "stream",
     "text": [
      "[Parallel(n_jobs=1)]: Done  60 out of  60 | elapsed:   20.0s finished\n"
     ]
    },
    {
     "name": "stdout",
     "output_type": "stream",
     "text": [
      "       Best parameters selected: <<{'C': 0.01}>> for score <<0.8459395436542093>>.\n",
      "       6. Grid Search model <<<class 'sklearn.svm.classes.LinearSVC'>>>; weight: <<{0: 1.0, 1: 37.41078066914498}>>; parameters: <<{'C': [0.0033, 0.0038, 0.0043, 0.0048, 0.0052, 0.0057, 0.0062, 0.0067, 0.0071, 0.0076, 0.0081, 0.0086, 0.009, 0.0095, 0.01, 0.0114, 0.0129, 0.0143, 0.0157, 0.0171, 0.0186, 0.02, 0.0214, 0.0229, 0.0243, 0.0257, 0.0271, 0.0286, 0.03]}>>\n",
      "Fitting 12 folds for each of 29 candidates, totalling 348 fits\n"
     ]
    },
    {
     "name": "stderr",
     "output_type": "stream",
     "text": [
      "[Parallel(n_jobs=1)]: Done 348 out of 348 | elapsed:   49.2s finished\n"
     ]
    },
    {
     "name": "stdout",
     "output_type": "stream",
     "text": [
      "       Best parameters selected: <<{'C': 0.0114}>> for score <<0.8481729598657873>>.\n",
      "       7. Grid Search model <<<class 'sklearn.svm.classes.LinearSVC'>>>; weight: <<{0: 1.0, 1: 37.41078066914498}>>; parameters: <<{'C': [0.0038, 0.0043, 0.0049, 0.0054, 0.006, 0.0065, 0.0071, 0.0076, 0.0081, 0.0087, 0.0092, 0.0098, 0.0103, 0.0109, 0.0114, 0.013, 0.0147, 0.0163, 0.0179, 0.0195, 0.0212, 0.0228, 0.0244, 0.0261, 0.0277, 0.0293, 0.0309, 0.0326, 0.0342]}>>\n",
      "Fitting 12 folds for each of 29 candidates, totalling 348 fits\n"
     ]
    },
    {
     "name": "stderr",
     "output_type": "stream",
     "text": [
      "[Parallel(n_jobs=1)]: Done 348 out of 348 | elapsed:   52.9s finished\n"
     ]
    },
    {
     "name": "stdout",
     "output_type": "stream",
     "text": [
      "       Best parameters selected: <<{'C': 0.0114}>> for score <<0.8481729598657873>>.\n",
      "       Final parameters selected: <<{'C': 0.0236}>> for score <<0.8361913850515323>>.\n",
      "\n",
      "          *** Score on validation dataset (macro/weighted) <<0.8072561165726908>> / <<0.9210526315789473>>.\n",
      "[[2089  148]\n",
      " [  38   81]]\n",
      "\n",
      "-------------------------------------------------------------------\n",
      "    23. Fit model for class: <<electricity>> ((21203, 23979)).\n",
      "    Tuning hyper-parameters for class: <<electricity>> (Recall).\n",
      "       1. Grid Search model <<<class 'sklearn.svm.classes.LinearSVC'>>>; weight: <<balanced>>; parameters: <<{'C': [0.001, 0.01, 0.1, 1.0, 10.0]}>>\n",
      "Fitting 12 folds for each of 5 candidates, totalling 60 fits\n"
     ]
    },
    {
     "name": "stderr",
     "output_type": "stream",
     "text": [
      "[Parallel(n_jobs=1)]: Done  60 out of  60 | elapsed:   12.5s finished\n"
     ]
    },
    {
     "name": "stdout",
     "output_type": "stream",
     "text": [
      "       Best parameters selected: <<{'C': 0.01}>> for score <<0.8367840385840375>>.\n",
      "       2. Grid Search model <<<class 'sklearn.svm.classes.LinearSVC'>>>; weight: <<balanced>>; parameters: <<{'C': [0.0033, 0.0038, 0.0043, 0.0048, 0.0052, 0.0057, 0.0062, 0.0067, 0.0071, 0.0076, 0.0081, 0.0086, 0.009, 0.0095, 0.01, 0.0114, 0.0129, 0.0143, 0.0157, 0.0171, 0.0186, 0.02, 0.0214, 0.0229, 0.0243, 0.0257, 0.0271, 0.0286, 0.03]}>>\n",
      "Fitting 12 folds for each of 29 candidates, totalling 348 fits\n"
     ]
    },
    {
     "name": "stderr",
     "output_type": "stream",
     "text": [
      "[Parallel(n_jobs=1)]: Done 348 out of 348 | elapsed:   36.3s finished\n"
     ]
    },
    {
     "name": "stdout",
     "output_type": "stream",
     "text": [
      "       Best parameters selected: <<{'C': 0.0067}>> for score <<0.8378102464811988>>.\n",
      "       3. Grid Search model <<<class 'sklearn.svm.classes.LinearSVC'>>>; weight: <<balanced>>; parameters: <<{'C': [0.0022, 0.0026, 0.0029, 0.0032, 0.0035, 0.0038, 0.0041, 0.0045, 0.0048, 0.0051, 0.0054, 0.0057, 0.0061, 0.0064, 0.0067, 0.0077, 0.0086, 0.0096, 0.0105, 0.0115, 0.0124, 0.0134, 0.0144, 0.0153, 0.0163, 0.0172, 0.0182, 0.0191, 0.0201]}>>\n",
      "Fitting 12 folds for each of 29 candidates, totalling 348 fits\n"
     ]
    },
    {
     "name": "stderr",
     "output_type": "stream",
     "text": [
      "[Parallel(n_jobs=1)]: Done 348 out of 348 | elapsed:   30.3s finished\n"
     ]
    },
    {
     "name": "stdout",
     "output_type": "stream",
     "text": [
      "       Best parameters selected: <<{'C': 0.0067}>> for score <<0.8378102464811988>>.\n",
      "       3. Grid Search model <<<class 'sklearn.svm.classes.LinearSVC'>>>; weight: <<{0: 1.0, 1: 93.94117647058823}>>; parameters: <<{'C': [0.001, 0.01, 0.1, 1.0, 10.0]}>>\n",
      "Fitting 12 folds for each of 5 candidates, totalling 60 fits\n"
     ]
    },
    {
     "name": "stderr",
     "output_type": "stream",
     "text": [
      "[Parallel(n_jobs=1)]: Done  60 out of  60 | elapsed:   15.0s finished\n"
     ]
    },
    {
     "name": "stdout",
     "output_type": "stream",
     "text": [
      "       Best parameters selected: <<{'C': 0.01}>> for score <<0.8468825033318697>>.\n",
      "       4. Grid Search model <<<class 'sklearn.svm.classes.LinearSVC'>>>; weight: <<{0: 1.0, 1: 93.94117647058823}>>; parameters: <<{'C': [0.0033, 0.0038, 0.0043, 0.0048, 0.0052, 0.0057, 0.0062, 0.0067, 0.0071, 0.0076, 0.0081, 0.0086, 0.009, 0.0095, 0.01, 0.0114, 0.0129, 0.0143, 0.0157, 0.0171, 0.0186, 0.02, 0.0214, 0.0229, 0.0243, 0.0257, 0.0271, 0.0286, 0.03]}>>\n",
      "Fitting 12 folds for each of 29 candidates, totalling 348 fits\n"
     ]
    },
    {
     "name": "stderr",
     "output_type": "stream",
     "text": [
      "[Parallel(n_jobs=1)]: Done 348 out of 348 | elapsed:  1.1min finished\n"
     ]
    },
    {
     "name": "stdout",
     "output_type": "stream",
     "text": [
      "       Best parameters selected: <<{'C': 0.0076}>> for score <<0.8486607501721551>>.\n",
      "       5. Grid Search model <<<class 'sklearn.svm.classes.LinearSVC'>>>; weight: <<{0: 1.0, 1: 93.94117647058823}>>; parameters: <<{'C': [0.0025, 0.0029, 0.0033, 0.0036, 0.004, 0.0043, 0.0047, 0.0051, 0.0054, 0.0058, 0.0062, 0.0065, 0.0069, 0.0072, 0.0076, 0.0087, 0.0098, 0.0109, 0.0119, 0.013, 0.0141, 0.0152, 0.0163, 0.0174, 0.0185, 0.0195, 0.0206, 0.0217, 0.0228]}>>\n",
      "Fitting 12 folds for each of 29 candidates, totalling 348 fits\n"
     ]
    },
    {
     "name": "stderr",
     "output_type": "stream",
     "text": [
      "[Parallel(n_jobs=1)]: Done 348 out of 348 | elapsed:   57.5s finished\n"
     ]
    },
    {
     "name": "stdout",
     "output_type": "stream",
     "text": [
      "       Best parameters selected: <<{'C': 0.0076}>> for score <<0.8486607501721551>>.\n",
      "       Final parameters selected: <<{'C': 0.0067}>> for score <<0.8378102464811988>>.\n",
      "\n",
      "          *** Score on validation dataset (macro/weighted) <<0.7783307694627937>> / <<0.9456706281833617>>.\n",
      "[[2202  111]\n",
      " [  17   26]]\n",
      "\n",
      "-------------------------------------------------------------------\n",
      "    24. Fit model for class: <<tools>> ((21203, 23979)).\n",
      "    Tuning hyper-parameters for class: <<tools>> (Recall).\n",
      "       1. Grid Search model <<<class 'sklearn.svm.classes.LinearSVC'>>>; weight: <<balanced>>; parameters: <<{'C': [0.001, 0.01, 0.1, 1.0, 10.0]}>>\n",
      "Fitting 12 folds for each of 5 candidates, totalling 60 fits\n"
     ]
    },
    {
     "name": "stderr",
     "output_type": "stream",
     "text": [
      "[Parallel(n_jobs=1)]: Done  60 out of  60 | elapsed:    9.8s finished\n"
     ]
    },
    {
     "name": "stdout",
     "output_type": "stream",
     "text": [
      "       Best parameters selected: <<{'C': 0.001}>> for score <<0.6451379811725692>>.\n",
      "       2. Grid Search model <<<class 'sklearn.svm.classes.LinearSVC'>>>; weight: <<balanced>>; parameters: <<{'C': [0.0003, 0.0004, 0.0004, 0.0005, 0.0005, 0.0006, 0.0006, 0.0007, 0.0007, 0.0008, 0.0008, 0.0009, 0.0009, 0.001, 0.001, 0.0011, 0.0013, 0.0014, 0.0016, 0.0017, 0.0019, 0.002, 0.0021, 0.0023, 0.0024, 0.0026, 0.0027, 0.0029, 0.003]}>>\n",
      "Fitting 12 folds for each of 29 candidates, totalling 348 fits\n"
     ]
    },
    {
     "name": "stderr",
     "output_type": "stream",
     "text": [
      "[Parallel(n_jobs=1)]: Done 348 out of 348 | elapsed:   20.2s finished\n"
     ]
    },
    {
     "name": "stdout",
     "output_type": "stream",
     "text": [
      "       Best parameters selected: <<{'C': 0.0011}>> for score <<0.645498827567226>>.\n",
      "       3. Grid Search model <<<class 'sklearn.svm.classes.LinearSVC'>>>; weight: <<balanced>>; parameters: <<{'C': [0.0004, 0.0004, 0.0005, 0.0005, 0.0006, 0.0006, 0.0007, 0.0007, 0.0008, 0.0008, 0.0009, 0.0009, 0.001, 0.001, 0.0011, 0.0013, 0.0014, 0.0016, 0.0017, 0.0019, 0.002, 0.0022, 0.0024, 0.0025, 0.0027, 0.0028, 0.003, 0.0031, 0.0033]}>>\n",
      "Fitting 12 folds for each of 29 candidates, totalling 348 fits\n"
     ]
    },
    {
     "name": "stderr",
     "output_type": "stream",
     "text": [
      "[Parallel(n_jobs=1)]: Done 348 out of 348 | elapsed:   20.5s finished\n"
     ]
    },
    {
     "name": "stdout",
     "output_type": "stream",
     "text": [
      "       Best parameters selected: <<{'C': 0.0011}>> for score <<0.645498827567226>>.\n",
      "       3. Grid Search model <<<class 'sklearn.svm.classes.LinearSVC'>>>; weight: <<{0: 1.0, 1: 168.624}>>; parameters: <<{'C': [0.001, 0.01, 0.1, 1.0, 10.0]}>>\n",
      "Fitting 12 folds for each of 5 candidates, totalling 60 fits\n"
     ]
    },
    {
     "name": "stderr",
     "output_type": "stream",
     "text": [
      "[Parallel(n_jobs=1)]: Done  60 out of  60 | elapsed:   10.2s finished\n"
     ]
    },
    {
     "name": "stdout",
     "output_type": "stream",
     "text": [
      "       Best parameters selected: <<{'C': 0.001}>> for score <<0.6312944610210639>>.\n",
      "       4. Grid Search model <<<class 'sklearn.svm.classes.LinearSVC'>>>; weight: <<{0: 1.0, 1: 168.624}>>; parameters: <<{'C': [0.0003, 0.0004, 0.0004, 0.0005, 0.0005, 0.0006, 0.0006, 0.0007, 0.0007, 0.0008, 0.0008, 0.0009, 0.0009, 0.001, 0.001, 0.0011, 0.0013, 0.0014, 0.0016, 0.0017, 0.0019, 0.002, 0.0021, 0.0023, 0.0024, 0.0026, 0.0027, 0.0029, 0.003]}>>\n",
      "Fitting 12 folds for each of 29 candidates, totalling 348 fits\n"
     ]
    },
    {
     "name": "stderr",
     "output_type": "stream",
     "text": [
      "[Parallel(n_jobs=1)]: Done 348 out of 348 | elapsed:   26.5s finished\n"
     ]
    },
    {
     "name": "stdout",
     "output_type": "stream",
     "text": [
      "       Best parameters selected: <<{'C': 0.0014}>> for score <<0.6445894407231234>>.\n",
      "       5. Grid Search model <<<class 'sklearn.svm.classes.LinearSVC'>>>; weight: <<{0: 1.0, 1: 168.624}>>; parameters: <<{'C': [0.0005, 0.0005, 0.0006, 0.0007, 0.0007, 0.0008, 0.0009, 0.0009, 0.001, 0.0011, 0.0011, 0.0012, 0.0013, 0.0013, 0.0014, 0.0016, 0.0018, 0.002, 0.0022, 0.0024, 0.0026, 0.0028, 0.003, 0.0032, 0.0034, 0.0036, 0.0038, 0.004, 0.0042]}>>\n",
      "Fitting 12 folds for each of 29 candidates, totalling 348 fits\n"
     ]
    },
    {
     "name": "stderr",
     "output_type": "stream",
     "text": [
      "[Parallel(n_jobs=1)]: Done 348 out of 348 | elapsed:   30.3s finished\n"
     ]
    },
    {
     "name": "stdout",
     "output_type": "stream",
     "text": [
      "       Best parameters selected: <<{'C': 0.0014}>> for score <<0.6445894407231234>>.\n",
      "       Final parameters selected: <<{'C': 0.0011}>> for score <<0.645498827567226>>.\n",
      "\n",
      "          *** Score on validation dataset (macro/weighted) <<0.5440233382793049>> / <<0.7903225806451613>>.\n",
      "[[1857  482]\n",
      " [  12    5]]\n",
      "\n",
      "-------------------------------------------------------------------\n",
      "    25. Fit model for class: <<hospitals>> ((21203, 23979)).\n",
      "    Tuning hyper-parameters for class: <<hospitals>> (Recall).\n",
      "       1. Grid Search model <<<class 'sklearn.svm.classes.LinearSVC'>>>; weight: <<balanced>>; parameters: <<{'C': [0.001, 0.01, 0.1, 1.0, 10.0]}>>\n",
      "Fitting 12 folds for each of 5 candidates, totalling 60 fits\n"
     ]
    },
    {
     "name": "stderr",
     "output_type": "stream",
     "text": [
      "[Parallel(n_jobs=1)]: Done  60 out of  60 | elapsed:   10.4s finished\n"
     ]
    },
    {
     "name": "stdout",
     "output_type": "stream",
     "text": [
      "       Best parameters selected: <<{'C': 0.01}>> for score <<0.7374886235176374>>.\n",
      "       2. Grid Search model <<<class 'sklearn.svm.classes.LinearSVC'>>>; weight: <<balanced>>; parameters: <<{'C': [0.0033, 0.0038, 0.0043, 0.0048, 0.0052, 0.0057, 0.0062, 0.0067, 0.0071, 0.0076, 0.0081, 0.0086, 0.009, 0.0095, 0.01, 0.0114, 0.0129, 0.0143, 0.0157, 0.0171, 0.0186, 0.02, 0.0214, 0.0229, 0.0243, 0.0257, 0.0271, 0.0286, 0.03]}>>\n",
      "Fitting 12 folds for each of 29 candidates, totalling 348 fits\n"
     ]
    },
    {
     "name": "stderr",
     "output_type": "stream",
     "text": [
      "[Parallel(n_jobs=1)]: Done 348 out of 348 | elapsed:   43.4s finished\n"
     ]
    },
    {
     "name": "stdout",
     "output_type": "stream",
     "text": [
      "       Best parameters selected: <<{'C': 0.0062}>> for score <<0.749065452575535>>.\n",
      "       3. Grid Search model <<<class 'sklearn.svm.classes.LinearSVC'>>>; weight: <<balanced>>; parameters: <<{'C': [0.0021, 0.0024, 0.0027, 0.003, 0.0032, 0.0035, 0.0038, 0.0041, 0.0044, 0.0047, 0.005, 0.0053, 0.0056, 0.0059, 0.0062, 0.0071, 0.008, 0.0089, 0.0097, 0.0106, 0.0115, 0.0124, 0.0133, 0.0142, 0.0151, 0.0159, 0.0168, 0.0177, 0.0186]}>>\n",
      "Fitting 12 folds for each of 29 candidates, totalling 348 fits\n"
     ]
    },
    {
     "name": "stderr",
     "output_type": "stream",
     "text": [
      "[Parallel(n_jobs=1)]: Done 348 out of 348 | elapsed:   35.6s finished\n"
     ]
    },
    {
     "name": "stdout",
     "output_type": "stream",
     "text": [
      "       Best parameters selected: <<{'C': 0.0062}>> for score <<0.749065452575535>>.\n",
      "       3. Grid Search model <<<class 'sklearn.svm.classes.LinearSVC'>>>; weight: <<{0: 1.0, 1: 90.0}>>; parameters: <<{'C': [0.001, 0.01, 0.1, 1.0, 10.0]}>>\n",
      "Fitting 12 folds for each of 5 candidates, totalling 60 fits\n"
     ]
    },
    {
     "name": "stderr",
     "output_type": "stream",
     "text": [
      "[Parallel(n_jobs=1)]: Done  60 out of  60 | elapsed:   11.2s finished\n"
     ]
    },
    {
     "name": "stdout",
     "output_type": "stream",
     "text": [
      "       Best parameters selected: <<{'C': 0.001}>> for score <<0.731869045174796>>.\n",
      "       4. Grid Search model <<<class 'sklearn.svm.classes.LinearSVC'>>>; weight: <<{0: 1.0, 1: 90.0}>>; parameters: <<{'C': [0.0003, 0.0004, 0.0004, 0.0005, 0.0005, 0.0006, 0.0006, 0.0007, 0.0007, 0.0008, 0.0008, 0.0009, 0.0009, 0.001, 0.001, 0.0011, 0.0013, 0.0014, 0.0016, 0.0017, 0.0019, 0.002, 0.0021, 0.0023, 0.0024, 0.0026, 0.0027, 0.0029, 0.003]}>>\n",
      "Fitting 12 folds for each of 29 candidates, totalling 348 fits\n"
     ]
    },
    {
     "name": "stderr",
     "output_type": "stream",
     "text": [
      "[Parallel(n_jobs=1)]: Done 348 out of 348 | elapsed:   21.4s finished\n"
     ]
    },
    {
     "name": "stdout",
     "output_type": "stream",
     "text": [
      "       Best parameters selected: <<{'C': 0.0027}>> for score <<0.7488133627343782>>.\n",
      "       5. Grid Search model <<<class 'sklearn.svm.classes.LinearSVC'>>>; weight: <<{0: 1.0, 1: 90.0}>>; parameters: <<{'C': [0.0009, 0.001, 0.0012, 0.0013, 0.0014, 0.0015, 0.0017, 0.0018, 0.0019, 0.0021, 0.0022, 0.0023, 0.0024, 0.0026, 0.0027, 0.0031, 0.0035, 0.0039, 0.0042, 0.0046, 0.005, 0.0054, 0.0058, 0.0062, 0.0066, 0.0069, 0.0073, 0.0077, 0.0081]}>>\n",
      "Fitting 12 folds for each of 29 candidates, totalling 348 fits\n"
     ]
    },
    {
     "name": "stderr",
     "output_type": "stream",
     "text": [
      "[Parallel(n_jobs=1)]: Done 348 out of 348 | elapsed:   33.1s finished\n"
     ]
    },
    {
     "name": "stdout",
     "output_type": "stream",
     "text": [
      "       Best parameters selected: <<{'C': 0.0031}>> for score <<0.7489701139190743>>.\n",
      "       6. Grid Search model <<<class 'sklearn.svm.classes.LinearSVC'>>>; weight: <<{0: 1.0, 1: 90.0}>>; parameters: <<{'C': [0.001, 0.0012, 0.0013, 0.0015, 0.0016, 0.0018, 0.0019, 0.0021, 0.0022, 0.0024, 0.0025, 0.0027, 0.0028, 0.003, 0.0031, 0.0035, 0.004, 0.0044, 0.0049, 0.0053, 0.0058, 0.0062, 0.0066, 0.0071, 0.0075, 0.008, 0.0084, 0.0089, 0.0093]}>>\n",
      "Fitting 12 folds for each of 29 candidates, totalling 348 fits\n"
     ]
    },
    {
     "name": "stderr",
     "output_type": "stream",
     "text": [
      "[Parallel(n_jobs=1)]: Done 348 out of 348 | elapsed:   35.0s finished\n"
     ]
    },
    {
     "name": "stdout",
     "output_type": "stream",
     "text": [
      "       Best parameters selected: <<{'C': 0.0028}>> for score <<0.7496120862552909>>.\n",
      "       7. Grid Search model <<<class 'sklearn.svm.classes.LinearSVC'>>>; weight: <<{0: 1.0, 1: 90.0}>>; parameters: <<{'C': [0.0009, 0.0011, 0.0012, 0.0013, 0.0015, 0.0016, 0.0017, 0.0019, 0.002, 0.0021, 0.0023, 0.0024, 0.0025, 0.0027, 0.0028, 0.0032, 0.0036, 0.004, 0.0044, 0.0048, 0.0052, 0.0056, 0.006, 0.0064, 0.0068, 0.0072, 0.0076, 0.008, 0.0084]}>>\n",
      "Fitting 12 folds for each of 29 candidates, totalling 348 fits\n"
     ]
    },
    {
     "name": "stderr",
     "output_type": "stream",
     "text": [
      "[Parallel(n_jobs=1)]: Done 348 out of 348 | elapsed:   34.1s finished\n"
     ]
    },
    {
     "name": "stdout",
     "output_type": "stream",
     "text": [
      "       Best parameters selected: <<{'C': 0.0028}>> for score <<0.7496120862552909>>.\n",
      "       Final parameters selected: <<{'C': 0.0062}>> for score <<0.749065452575535>>.\n",
      "\n",
      "          *** Score on validation dataset (macro/weighted) <<0.7125552097504613>> / <<0.9422750424448217>>.\n",
      "[[2209  124]\n",
      " [  12   11]]\n",
      "\n",
      "-------------------------------------------------------------------\n",
      "    26. Fit model for class: <<shops>> ((21203, 23979)).\n",
      "    Tuning hyper-parameters for class: <<shops>> (Recall).\n",
      "       1. Grid Search model <<<class 'sklearn.svm.classes.LinearSVC'>>>; weight: <<balanced>>; parameters: <<{'C': [0.001, 0.01, 0.1, 1.0, 10.0]}>>\n",
      "Fitting 12 folds for each of 5 candidates, totalling 60 fits\n"
     ]
    },
    {
     "name": "stderr",
     "output_type": "stream",
     "text": [
      "[Parallel(n_jobs=1)]: Done  60 out of  60 | elapsed:    8.5s finished\n"
     ]
    },
    {
     "name": "stdout",
     "output_type": "stream",
     "text": [
      "       Best parameters selected: <<{'C': 0.001}>> for score <<0.6220116924964187>>.\n",
      "       2. Grid Search model <<<class 'sklearn.svm.classes.LinearSVC'>>>; weight: <<balanced>>; parameters: <<{'C': [0.0003, 0.0004, 0.0004, 0.0005, 0.0005, 0.0006, 0.0006, 0.0007, 0.0007, 0.0008, 0.0008, 0.0009, 0.0009, 0.001, 0.001, 0.0011, 0.0013, 0.0014, 0.0016, 0.0017, 0.0019, 0.002, 0.0021, 0.0023, 0.0024, 0.0026, 0.0027, 0.0029, 0.003]}>>\n",
      "Fitting 12 folds for each of 29 candidates, totalling 348 fits\n"
     ]
    },
    {
     "name": "stderr",
     "output_type": "stream",
     "text": [
      "[Parallel(n_jobs=1)]: Done 348 out of 348 | elapsed:   24.2s finished\n"
     ]
    },
    {
     "name": "stdout",
     "output_type": "stream",
     "text": [
      "       Best parameters selected: <<{'C': 0.0013}>> for score <<0.6296152515175798>>.\n",
      "       3. Grid Search model <<<class 'sklearn.svm.classes.LinearSVC'>>>; weight: <<balanced>>; parameters: <<{'C': [0.0004, 0.0005, 0.0006, 0.0006, 0.0007, 0.0007, 0.0008, 0.0009, 0.0009, 0.001, 0.0011, 0.0011, 0.0012, 0.0012, 0.0013, 0.0015, 0.0017, 0.0019, 0.002, 0.0022, 0.0024, 0.0026, 0.0028, 0.003, 0.0032, 0.0033, 0.0035, 0.0037, 0.0039]}>>\n",
      "Fitting 12 folds for each of 29 candidates, totalling 348 fits\n"
     ]
    },
    {
     "name": "stderr",
     "output_type": "stream",
     "text": [
      "[Parallel(n_jobs=1)]: Done 348 out of 348 | elapsed:   27.1s finished\n"
     ]
    },
    {
     "name": "stdout",
     "output_type": "stream",
     "text": [
      "       Best parameters selected: <<{'C': 0.0013}>> for score <<0.6296152515175798>>.\n",
      "       3. Grid Search model <<<class 'sklearn.svm.classes.LinearSVC'>>>; weight: <<{0: 1.0, 1: 234.5888888888889}>>; parameters: <<{'C': [0.001, 0.01, 0.1, 1.0, 10.0]}>>\n",
      "Fitting 12 folds for each of 5 candidates, totalling 60 fits\n"
     ]
    },
    {
     "name": "stderr",
     "output_type": "stream",
     "text": [
      "[Parallel(n_jobs=1)]: Done  60 out of  60 | elapsed:    9.1s finished\n"
     ]
    },
    {
     "name": "stdout",
     "output_type": "stream",
     "text": [
      "       Best parameters selected: <<{'C': 0.001}>> for score <<0.6210611170624951>>.\n",
      "       4. Grid Search model <<<class 'sklearn.svm.classes.LinearSVC'>>>; weight: <<{0: 1.0, 1: 234.5888888888889}>>; parameters: <<{'C': [0.0003, 0.0004, 0.0004, 0.0005, 0.0005, 0.0006, 0.0006, 0.0007, 0.0007, 0.0008, 0.0008, 0.0009, 0.0009, 0.001, 0.001, 0.0011, 0.0013, 0.0014, 0.0016, 0.0017, 0.0019, 0.002, 0.0021, 0.0023, 0.0024, 0.0026, 0.0027, 0.0029, 0.003]}>>\n",
      "Fitting 12 folds for each of 29 candidates, totalling 348 fits\n"
     ]
    },
    {
     "name": "stderr",
     "output_type": "stream",
     "text": [
      "[Parallel(n_jobs=1)]: Done 348 out of 348 | elapsed:   32.9s finished\n"
     ]
    },
    {
     "name": "stdout",
     "output_type": "stream",
     "text": [
      "       Best parameters selected: <<{'C': 0.0007}>> for score <<0.624352866419941>>.\n",
      "       5. Grid Search model <<<class 'sklearn.svm.classes.LinearSVC'>>>; weight: <<{0: 1.0, 1: 234.5888888888889}>>; parameters: <<{'C': [0.0002, 0.0003, 0.0003, 0.0003, 0.0004, 0.0004, 0.0004, 0.0005, 0.0005, 0.0005, 0.0006, 0.0006, 0.0006, 0.0007, 0.0007, 0.0008, 0.0009, 0.001, 0.0011, 0.0012, 0.0013, 0.0014, 0.0015, 0.0016, 0.0017, 0.0018, 0.0019, 0.002, 0.0021]}>>\n",
      "Fitting 12 folds for each of 29 candidates, totalling 348 fits\n"
     ]
    },
    {
     "name": "stderr",
     "output_type": "stream",
     "text": [
      "[Parallel(n_jobs=1)]: Done 348 out of 348 | elapsed:   27.7s finished\n"
     ]
    },
    {
     "name": "stdout",
     "output_type": "stream",
     "text": [
      "       Best parameters selected: <<{'C': 0.0012}>> for score <<0.6262949323313965>>.\n",
      "       6. Grid Search model <<<class 'sklearn.svm.classes.LinearSVC'>>>; weight: <<{0: 1.0, 1: 234.5888888888889}>>; parameters: <<{'C': [0.0004, 0.0005, 0.0005, 0.0006, 0.0006, 0.0007, 0.0007, 0.0008, 0.0009, 0.0009, 0.001, 0.001, 0.0011, 0.0011, 0.0012, 0.0014, 0.0015, 0.0017, 0.0019, 0.0021, 0.0022, 0.0024, 0.0026, 0.0027, 0.0029, 0.0031, 0.0033, 0.0034, 0.0036]}>>\n",
      "Fitting 12 folds for each of 29 candidates, totalling 348 fits\n"
     ]
    },
    {
     "name": "stderr",
     "output_type": "stream",
     "text": [
      "[Parallel(n_jobs=1)]: Done 348 out of 348 | elapsed:   35.3s finished\n"
     ]
    },
    {
     "name": "stdout",
     "output_type": "stream",
     "text": [
      "       Best parameters selected: <<{'C': 0.0012}>> for score <<0.6262949323313965>>.\n",
      "       Final parameters selected: <<{'C': 0.0013}>> for score <<0.6296152515175798>>.\n",
      "\n",
      "          *** Score on validation dataset (macro/weighted) <<0.6419661494354048>> / <<0.8688455008488964>>.\n",
      "[[2040  299]\n",
      " [  10    7]]\n",
      "\n",
      "-------------------------------------------------------------------\n",
      "    27. Fit model for class: <<aid_centers>> ((21203, 23979)).\n",
      "    Tuning hyper-parameters for class: <<aid_centers>> (Recall).\n",
      "       1. Grid Search model <<<class 'sklearn.svm.classes.LinearSVC'>>>; weight: <<balanced>>; parameters: <<{'C': [0.001, 0.01, 0.1, 1.0, 10.0]}>>\n",
      "Fitting 12 folds for each of 5 candidates, totalling 60 fits\n"
     ]
    },
    {
     "name": "stderr",
     "output_type": "stream",
     "text": [
      "[Parallel(n_jobs=1)]: Done  60 out of  60 | elapsed:   13.5s finished\n"
     ]
    },
    {
     "name": "stdout",
     "output_type": "stream",
     "text": [
      "       Best parameters selected: <<{'C': 0.01}>> for score <<0.7325837957762753>>.\n",
      "       2. Grid Search model <<<class 'sklearn.svm.classes.LinearSVC'>>>; weight: <<balanced>>; parameters: <<{'C': [0.0033, 0.0038, 0.0043, 0.0048, 0.0052, 0.0057, 0.0062, 0.0067, 0.0071, 0.0076, 0.0081, 0.0086, 0.009, 0.0095, 0.01, 0.0114, 0.0129, 0.0143, 0.0157, 0.0171, 0.0186, 0.02, 0.0214, 0.0229, 0.0243, 0.0257, 0.0271, 0.0286, 0.03]}>>\n",
      "Fitting 12 folds for each of 29 candidates, totalling 348 fits\n"
     ]
    },
    {
     "name": "stderr",
     "output_type": "stream",
     "text": [
      "[Parallel(n_jobs=1)]: Done 348 out of 348 | elapsed:   42.3s finished\n"
     ]
    },
    {
     "name": "stdout",
     "output_type": "stream",
     "text": [
      "       Best parameters selected: <<{'C': 0.0033}>> for score <<0.7482368366917299>>.\n",
      "       3. Grid Search model <<<class 'sklearn.svm.classes.LinearSVC'>>>; weight: <<balanced>>; parameters: <<{'C': [0.0011, 0.0013, 0.0014, 0.0016, 0.0017, 0.0019, 0.002, 0.0022, 0.0024, 0.0025, 0.0027, 0.0028, 0.003, 0.0031, 0.0033, 0.0038, 0.0042, 0.0047, 0.0052, 0.0057, 0.0061, 0.0066, 0.0071, 0.0075, 0.008, 0.0085, 0.009, 0.0094, 0.0099]}>>\n",
      "Fitting 12 folds for each of 29 candidates, totalling 348 fits\n"
     ]
    },
    {
     "name": "stderr",
     "output_type": "stream",
     "text": [
      "[Parallel(n_jobs=1)]: Done 348 out of 348 | elapsed:   26.9s finished\n"
     ]
    },
    {
     "name": "stdout",
     "output_type": "stream",
     "text": [
      "       Best parameters selected: <<{'C': 0.0031}>> for score <<0.7484791296764767>>.\n",
      "       4. Grid Search model <<<class 'sklearn.svm.classes.LinearSVC'>>>; weight: <<balanced>>; parameters: <<{'C': [0.001, 0.0012, 0.0013, 0.0015, 0.0016, 0.0018, 0.0019, 0.0021, 0.0022, 0.0024, 0.0025, 0.0027, 0.0028, 0.003, 0.0031, 0.0035, 0.004, 0.0044, 0.0049, 0.0053, 0.0058, 0.0062, 0.0066, 0.0071, 0.0075, 0.008, 0.0084, 0.0089, 0.0093]}>>\n",
      "Fitting 12 folds for each of 29 candidates, totalling 348 fits\n"
     ]
    },
    {
     "name": "stderr",
     "output_type": "stream",
     "text": [
      "[Parallel(n_jobs=1)]: Done 348 out of 348 | elapsed:   26.2s finished\n"
     ]
    },
    {
     "name": "stdout",
     "output_type": "stream",
     "text": [
      "       Best parameters selected: <<{'C': 0.0031}>> for score <<0.7484791296764767>>.\n",
      "       4. Grid Search model <<<class 'sklearn.svm.classes.LinearSVC'>>>; weight: <<{0: 1.0, 1: 84.15261044176707}>>; parameters: <<{'C': [0.001, 0.01, 0.1, 1.0, 10.0]}>>\n",
      "Fitting 12 folds for each of 5 candidates, totalling 60 fits\n"
     ]
    },
    {
     "name": "stderr",
     "output_type": "stream",
     "text": [
      "[Parallel(n_jobs=1)]: Done  60 out of  60 | elapsed:   13.3s finished\n"
     ]
    },
    {
     "name": "stdout",
     "output_type": "stream",
     "text": [
      "       Best parameters selected: <<{'C': 0.001}>> for score <<0.7403543832144457>>.\n",
      "       5. Grid Search model <<<class 'sklearn.svm.classes.LinearSVC'>>>; weight: <<{0: 1.0, 1: 84.15261044176707}>>; parameters: <<{'C': [0.0003, 0.0004, 0.0004, 0.0005, 0.0005, 0.0006, 0.0006, 0.0007, 0.0007, 0.0008, 0.0008, 0.0009, 0.0009, 0.001, 0.001, 0.0011, 0.0013, 0.0014, 0.0016, 0.0017, 0.0019, 0.002, 0.0021, 0.0023, 0.0024, 0.0026, 0.0027, 0.0029, 0.003]}>>\n",
      "Fitting 12 folds for each of 29 candidates, totalling 348 fits\n"
     ]
    },
    {
     "name": "stderr",
     "output_type": "stream",
     "text": [
      "[Parallel(n_jobs=1)]: Done 348 out of 348 | elapsed:   21.7s finished\n"
     ]
    },
    {
     "name": "stdout",
     "output_type": "stream",
     "text": [
      "       Best parameters selected: <<{'C': 0.0016}>> for score <<0.7490995971047332>>.\n",
      "       6. Grid Search model <<<class 'sklearn.svm.classes.LinearSVC'>>>; weight: <<{0: 1.0, 1: 84.15261044176707}>>; parameters: <<{'C': [0.0005, 0.0006, 0.0007, 0.0008, 0.0008, 0.0009, 0.001, 0.0011, 0.0011, 0.0012, 0.0013, 0.0014, 0.0014, 0.0015, 0.0016, 0.0018, 0.0021, 0.0023, 0.0025, 0.0027, 0.003, 0.0032, 0.0034, 0.0037, 0.0039, 0.0041, 0.0043, 0.0046, 0.0048]}>>\n",
      "Fitting 12 folds for each of 29 candidates, totalling 348 fits\n"
     ]
    },
    {
     "name": "stderr",
     "output_type": "stream",
     "text": [
      "[Parallel(n_jobs=1)]: Done 348 out of 348 | elapsed:   26.8s finished\n"
     ]
    },
    {
     "name": "stdout",
     "output_type": "stream",
     "text": [
      "       Best parameters selected: <<{'C': 0.0016}>> for score <<0.7490995971047332>>.\n",
      "       Final parameters selected: <<{'C': 0.0031}>> for score <<0.7484791296764767>>.\n",
      "\n",
      "          *** Score on validation dataset (macro/weighted) <<0.7299795196910996>> / <<0.879881154499151>>.\n",
      "[[2054  269]\n",
      " [  14   19]]\n",
      "\n",
      "-------------------------------------------------------------------\n",
      "    28. Fit model for class: <<other_infrastructure>> ((21203, 23979)).\n",
      "    Tuning hyper-parameters for class: <<other_infrastructure>> (Recall).\n",
      "       1. Grid Search model <<<class 'sklearn.svm.classes.LinearSVC'>>>; weight: <<balanced>>; parameters: <<{'C': [0.001, 0.01, 0.1, 1.0, 10.0]}>>\n",
      "Fitting 12 folds for each of 5 candidates, totalling 60 fits\n"
     ]
    },
    {
     "name": "stderr",
     "output_type": "stream",
     "text": [
      "[Parallel(n_jobs=1)]: Done  60 out of  60 | elapsed:   19.8s finished\n"
     ]
    },
    {
     "name": "stdout",
     "output_type": "stream",
     "text": [
      "       Best parameters selected: <<{'C': 0.01}>> for score <<0.7405677691924821>>.\n",
      "       2. Grid Search model <<<class 'sklearn.svm.classes.LinearSVC'>>>; weight: <<balanced>>; parameters: <<{'C': [0.0033, 0.0038, 0.0043, 0.0048, 0.0052, 0.0057, 0.0062, 0.0067, 0.0071, 0.0076, 0.0081, 0.0086, 0.009, 0.0095, 0.01, 0.0114, 0.0129, 0.0143, 0.0157, 0.0171, 0.0186, 0.02, 0.0214, 0.0229, 0.0243, 0.0257, 0.0271, 0.0286, 0.03]}>>\n",
      "Fitting 12 folds for each of 29 candidates, totalling 348 fits\n"
     ]
    },
    {
     "name": "stderr",
     "output_type": "stream",
     "text": [
      "[Parallel(n_jobs=1)]: Done 348 out of 348 | elapsed:   26.0s finished\n"
     ]
    },
    {
     "name": "stdout",
     "output_type": "stream",
     "text": [
      "       Best parameters selected: <<{'C': 0.0086}>> for score <<0.7429237031008017>>.\n",
      "       3. Grid Search model <<<class 'sklearn.svm.classes.LinearSVC'>>>; weight: <<balanced>>; parameters: <<{'C': [0.0029, 0.0033, 0.0037, 0.0041, 0.0045, 0.0049, 0.0053, 0.0057, 0.0061, 0.0066, 0.007, 0.0074, 0.0078, 0.0082, 0.0086, 0.0098, 0.0111, 0.0123, 0.0135, 0.0147, 0.016, 0.0172, 0.0184, 0.0197, 0.0209, 0.0221, 0.0233, 0.0246, 0.0258]}>>\n",
      "Fitting 12 folds for each of 29 candidates, totalling 348 fits\n"
     ]
    },
    {
     "name": "stderr",
     "output_type": "stream",
     "text": [
      "[Parallel(n_jobs=1)]: Done 348 out of 348 | elapsed:   24.6s finished\n"
     ]
    },
    {
     "name": "stdout",
     "output_type": "stream",
     "text": [
      "       Best parameters selected: <<{'C': 0.0086}>> for score <<0.7429237031008017>>.\n",
      "       3. Grid Search model <<<class 'sklearn.svm.classes.LinearSVC'>>>; weight: <<{0: 1.0, 1: 43.2089552238806}>>; parameters: <<{'C': [0.001, 0.01, 0.1, 1.0, 10.0]}>>\n",
      "Fitting 12 folds for each of 5 candidates, totalling 60 fits\n"
     ]
    },
    {
     "name": "stderr",
     "output_type": "stream",
     "text": [
      "[Parallel(n_jobs=1)]: Done  60 out of  60 | elapsed:   23.6s finished\n"
     ]
    },
    {
     "name": "stdout",
     "output_type": "stream",
     "text": [
      "       Best parameters selected: <<{'C': 0.01}>> for score <<0.7514930483482775>>.\n",
      "       4. Grid Search model <<<class 'sklearn.svm.classes.LinearSVC'>>>; weight: <<{0: 1.0, 1: 43.2089552238806}>>; parameters: <<{'C': [0.0033, 0.0038, 0.0043, 0.0048, 0.0052, 0.0057, 0.0062, 0.0067, 0.0071, 0.0076, 0.0081, 0.0086, 0.009, 0.0095, 0.01, 0.0114, 0.0129, 0.0143, 0.0157, 0.0171, 0.0186, 0.02, 0.0214, 0.0229, 0.0243, 0.0257, 0.0271, 0.0286, 0.03]}>>\n",
      "Fitting 12 folds for each of 29 candidates, totalling 348 fits\n"
     ]
    },
    {
     "name": "stderr",
     "output_type": "stream",
     "text": [
      "[Parallel(n_jobs=1)]: Done 348 out of 348 | elapsed:   50.9s finished\n"
     ]
    },
    {
     "name": "stdout",
     "output_type": "stream",
     "text": [
      "       Best parameters selected: <<{'C': 0.0086}>> for score <<0.7517715467463425>>.\n",
      "       5. Grid Search model <<<class 'sklearn.svm.classes.LinearSVC'>>>; weight: <<{0: 1.0, 1: 43.2089552238806}>>; parameters: <<{'C': [0.0029, 0.0033, 0.0037, 0.0041, 0.0045, 0.0049, 0.0053, 0.0057, 0.0061, 0.0066, 0.007, 0.0074, 0.0078, 0.0082, 0.0086, 0.0098, 0.0111, 0.0123, 0.0135, 0.0147, 0.016, 0.0172, 0.0184, 0.0197, 0.0209, 0.0221, 0.0233, 0.0246, 0.0258]}>>\n",
      "Fitting 12 folds for each of 29 candidates, totalling 348 fits\n"
     ]
    },
    {
     "name": "stderr",
     "output_type": "stream",
     "text": [
      "[Parallel(n_jobs=1)]: Done 348 out of 348 | elapsed:   46.5s finished\n"
     ]
    },
    {
     "name": "stdout",
     "output_type": "stream",
     "text": [
      "       Best parameters selected: <<{'C': 0.0086}>> for score <<0.7517715467463425>>.\n",
      "       Final parameters selected: <<{'C': 0.0086}>> for score <<0.7429237031008017>>.\n",
      "\n",
      "          *** Score on validation dataset (macro/weighted) <<0.7096037708057151>> / <<0.8085738539898133>>.\n",
      "[[1849  414]\n",
      " [  37   56]]\n",
      "\n",
      "-------------------------------------------------------------------\n",
      "    29. Fit model for class: <<weather_related>> ((21203, 23979)).\n",
      "    Tuning hyper-parameters for class: <<weather_related>> (Recall).\n",
      "       1. Grid Search model <<<class 'sklearn.svm.classes.LinearSVC'>>>; weight: <<balanced>>; parameters: <<{'C': [0.001, 0.01, 0.1, 1.0, 10.0]}>>\n",
      "Fitting 12 folds for each of 5 candidates, totalling 60 fits\n"
     ]
    },
    {
     "name": "stderr",
     "output_type": "stream",
     "text": [
      "[Parallel(n_jobs=1)]: Done  60 out of  60 | elapsed:   20.8s finished\n"
     ]
    },
    {
     "name": "stdout",
     "output_type": "stream",
     "text": [
      "       Best parameters selected: <<{'C': 0.1}>> for score <<0.8573147812357736>>.\n",
      "       2. Grid Search model <<<class 'sklearn.svm.classes.LinearSVC'>>>; weight: <<balanced>>; parameters: <<{'C': [0.0333, 0.0381, 0.0429, 0.0476, 0.0524, 0.0571, 0.0619, 0.0667, 0.0714, 0.0762, 0.081, 0.0857, 0.0905, 0.0952, 0.1, 0.1143, 0.1286, 0.1429, 0.1571, 0.1714, 0.1857, 0.2, 0.2143, 0.2286, 0.2429, 0.2571, 0.2714, 0.2857, 0.3]}>>\n",
      "Fitting 12 folds for each of 29 candidates, totalling 348 fits\n"
     ]
    },
    {
     "name": "stderr",
     "output_type": "stream",
     "text": [
      "[Parallel(n_jobs=1)]: Done 348 out of 348 | elapsed:   34.8s finished\n"
     ]
    },
    {
     "name": "stdout",
     "output_type": "stream",
     "text": [
      "       Best parameters selected: <<{'C': 0.1429}>> for score <<0.8583669439057467>>.\n",
      "       3. Grid Search model <<<class 'sklearn.svm.classes.LinearSVC'>>>; weight: <<balanced>>; parameters: <<{'C': [0.0476, 0.0544, 0.0612, 0.068, 0.0749, 0.0817, 0.0885, 0.0953, 0.1021, 0.1089, 0.1157, 0.1225, 0.1293, 0.1361, 0.1429, 0.1633, 0.1837, 0.2041, 0.2246, 0.245, 0.2654, 0.2858, 0.3062, 0.3266, 0.347, 0.3675, 0.3879, 0.4083, 0.4287]}>>\n",
      "Fitting 12 folds for each of 29 candidates, totalling 348 fits\n"
     ]
    },
    {
     "name": "stderr",
     "output_type": "stream",
     "text": [
      "[Parallel(n_jobs=1)]: Done 348 out of 348 | elapsed:   42.8s finished\n"
     ]
    },
    {
     "name": "stdout",
     "output_type": "stream",
     "text": [
      "       Best parameters selected: <<{'C': 0.1429}>> for score <<0.8583669439057467>>.\n",
      "       Final parameters selected: <<{'C': 0.1429}>> for score <<0.8583669439057467>>.\n",
      "\n",
      "          *** Score on validation dataset (macro/weighted) <<0.8510348905972798>> / <<0.8824278438030561>>.\n",
      "[[1561  130]\n",
      " [ 147  518]]\n",
      "\n",
      "-------------------------------------------------------------------\n",
      "    30. Fit model for class: <<floods>> ((21203, 23979)).\n",
      "    Tuning hyper-parameters for class: <<floods>> (Recall).\n",
      "       1. Grid Search model <<<class 'sklearn.svm.classes.LinearSVC'>>>; weight: <<balanced>>; parameters: <<{'C': [0.001, 0.01, 0.1, 1.0, 10.0]}>>\n",
      "Fitting 12 folds for each of 5 candidates, totalling 60 fits\n"
     ]
    },
    {
     "name": "stderr",
     "output_type": "stream",
     "text": [
      "[Parallel(n_jobs=1)]: Done  60 out of  60 | elapsed:   17.9s finished\n"
     ]
    },
    {
     "name": "stdout",
     "output_type": "stream",
     "text": [
      "       Best parameters selected: <<{'C': 0.01}>> for score <<0.8367584745825305>>.\n",
      "       2. Grid Search model <<<class 'sklearn.svm.classes.LinearSVC'>>>; weight: <<balanced>>; parameters: <<{'C': [0.0033, 0.0038, 0.0043, 0.0048, 0.0052, 0.0057, 0.0062, 0.0067, 0.0071, 0.0076, 0.0081, 0.0086, 0.009, 0.0095, 0.01, 0.0114, 0.0129, 0.0143, 0.0157, 0.0171, 0.0186, 0.02, 0.0214, 0.0229, 0.0243, 0.0257, 0.0271, 0.0286, 0.03]}>>\n",
      "Fitting 12 folds for each of 29 candidates, totalling 348 fits\n"
     ]
    },
    {
     "name": "stderr",
     "output_type": "stream",
     "text": [
      "[Parallel(n_jobs=1)]: Done 348 out of 348 | elapsed:   21.1s finished\n"
     ]
    },
    {
     "name": "stdout",
     "output_type": "stream",
     "text": [
      "       Best parameters selected: <<{'C': 0.0143}>> for score <<0.8388007682296061>>.\n",
      "       3. Grid Search model <<<class 'sklearn.svm.classes.LinearSVC'>>>; weight: <<balanced>>; parameters: <<{'C': [0.0048, 0.0054, 0.0061, 0.0068, 0.0075, 0.0082, 0.0089, 0.0095, 0.0102, 0.0109, 0.0116, 0.0123, 0.0129, 0.0136, 0.0143, 0.0163, 0.0184, 0.0204, 0.0225, 0.0245, 0.0266, 0.0286, 0.0306, 0.0327, 0.0347, 0.0368, 0.0388, 0.0409, 0.0429]}>>\n",
      "Fitting 12 folds for each of 29 candidates, totalling 348 fits\n"
     ]
    },
    {
     "name": "stderr",
     "output_type": "stream",
     "text": [
      "[Parallel(n_jobs=1)]: Done 348 out of 348 | elapsed:   24.1s finished\n"
     ]
    },
    {
     "name": "stdout",
     "output_type": "stream",
     "text": [
      "       Best parameters selected: <<{'C': 0.0163}>> for score <<0.8389322212498806>>.\n",
      "       4. Grid Search model <<<class 'sklearn.svm.classes.LinearSVC'>>>; weight: <<balanced>>; parameters: <<{'C': [0.0054, 0.0062, 0.007, 0.0078, 0.0085, 0.0093, 0.0101, 0.0109, 0.0116, 0.0124, 0.0132, 0.014, 0.0147, 0.0155, 0.0163, 0.0186, 0.021, 0.0233, 0.0256, 0.0279, 0.0303, 0.0326, 0.0349, 0.0373, 0.0396, 0.0419, 0.0442, 0.0466, 0.0489]}>>\n",
      "Fitting 12 folds for each of 29 candidates, totalling 348 fits\n"
     ]
    },
    {
     "name": "stderr",
     "output_type": "stream",
     "text": [
      "[Parallel(n_jobs=1)]: Done 348 out of 348 | elapsed:   25.3s finished\n"
     ]
    },
    {
     "name": "stdout",
     "output_type": "stream",
     "text": [
      "       Best parameters selected: <<{'C': 0.0163}>> for score <<0.8389322212498806>>.\n",
      "       4. Grid Search model <<<class 'sklearn.svm.classes.LinearSVC'>>>; weight: <<{0: 1.0, 1: 22.315366972477065}>>; parameters: <<{'C': [0.001, 0.01, 0.1, 1.0, 10.0]}>>\n",
      "Fitting 12 folds for each of 5 candidates, totalling 60 fits\n"
     ]
    },
    {
     "name": "stderr",
     "output_type": "stream",
     "text": [
      "[Parallel(n_jobs=1)]: Done  60 out of  60 | elapsed:   24.0s finished\n"
     ]
    },
    {
     "name": "stdout",
     "output_type": "stream",
     "text": [
      "       Best parameters selected: <<{'C': 0.1}>> for score <<0.8287281830054607>>.\n",
      "       5. Grid Search model <<<class 'sklearn.svm.classes.LinearSVC'>>>; weight: <<{0: 1.0, 1: 22.315366972477065}>>; parameters: <<{'C': [0.0333, 0.0381, 0.0429, 0.0476, 0.0524, 0.0571, 0.0619, 0.0667, 0.0714, 0.0762, 0.081, 0.0857, 0.0905, 0.0952, 0.1, 0.1143, 0.1286, 0.1429, 0.1571, 0.1714, 0.1857, 0.2, 0.2143, 0.2286, 0.2429, 0.2571, 0.2714, 0.2857, 0.3]}>>\n",
      "Fitting 12 folds for each of 29 candidates, totalling 348 fits\n"
     ]
    },
    {
     "name": "stderr",
     "output_type": "stream",
     "text": [
      "[Parallel(n_jobs=1)]: Done 348 out of 348 | elapsed:  2.4min finished\n"
     ]
    },
    {
     "name": "stdout",
     "output_type": "stream",
     "text": [
      "       Best parameters selected: <<{'C': 0.0429}>> for score <<0.8335597944789856>>.\n",
      "       6. Grid Search model <<<class 'sklearn.svm.classes.LinearSVC'>>>; weight: <<{0: 1.0, 1: 22.315366972477065}>>; parameters: <<{'C': [0.0143, 0.0163, 0.0184, 0.0204, 0.0225, 0.0245, 0.0266, 0.0286, 0.0306, 0.0327, 0.0347, 0.0368, 0.0388, 0.0409, 0.0429, 0.049, 0.0552, 0.0613, 0.0674, 0.0735, 0.0797, 0.0858, 0.0919, 0.0981, 0.1042, 0.1103, 0.1164, 0.1226, 0.1287]}>>\n",
      "Fitting 12 folds for each of 29 candidates, totalling 348 fits\n"
     ]
    },
    {
     "name": "stderr",
     "output_type": "stream",
     "text": [
      "[Parallel(n_jobs=1)]: Done 348 out of 348 | elapsed:  1.4min finished\n"
     ]
    },
    {
     "name": "stdout",
     "output_type": "stream",
     "text": [
      "       Best parameters selected: <<{'C': 0.0429}>> for score <<0.8335597944789856>>.\n",
      "       Final parameters selected: <<{'C': 0.0163}>> for score <<0.8389322212498806>>.\n",
      "\n",
      "          *** Score on validation dataset (macro/weighted) <<0.809058009705858>> / <<0.9235993208828522>>.\n",
      "[[2045  116]\n",
      " [  64  131]]\n",
      "\n",
      "-------------------------------------------------------------------\n",
      "    31. Fit model for class: <<storm>> ((21203, 23979)).\n",
      "    Tuning hyper-parameters for class: <<storm>> (Recall).\n",
      "       1. Grid Search model <<<class 'sklearn.svm.classes.LinearSVC'>>>; weight: <<balanced>>; parameters: <<{'C': [0.001, 0.01, 0.1, 1.0, 10.0]}>>\n",
      "Fitting 12 folds for each of 5 candidates, totalling 60 fits\n"
     ]
    },
    {
     "name": "stderr",
     "output_type": "stream",
     "text": [
      "[Parallel(n_jobs=1)]: Done  60 out of  60 | elapsed:   15.3s finished\n"
     ]
    },
    {
     "name": "stdout",
     "output_type": "stream",
     "text": [
      "       Best parameters selected: <<{'C': 0.1}>> for score <<0.8973059465822611>>.\n",
      "       2. Grid Search model <<<class 'sklearn.svm.classes.LinearSVC'>>>; weight: <<balanced>>; parameters: <<{'C': [0.0333, 0.0381, 0.0429, 0.0476, 0.0524, 0.0571, 0.0619, 0.0667, 0.0714, 0.0762, 0.081, 0.0857, 0.0905, 0.0952, 0.1, 0.1143, 0.1286, 0.1429, 0.1571, 0.1714, 0.1857, 0.2, 0.2143, 0.2286, 0.2429, 0.2571, 0.2714, 0.2857, 0.3]}>>\n",
      "Fitting 12 folds for each of 29 candidates, totalling 348 fits\n"
     ]
    },
    {
     "name": "stderr",
     "output_type": "stream",
     "text": [
      "[Parallel(n_jobs=1)]: Done 348 out of 348 | elapsed:   54.0s finished\n"
     ]
    },
    {
     "name": "stdout",
     "output_type": "stream",
     "text": [
      "       Best parameters selected: <<{'C': 0.0667}>> for score <<0.8999208689434658>>.\n",
      "       3. Grid Search model <<<class 'sklearn.svm.classes.LinearSVC'>>>; weight: <<balanced>>; parameters: <<{'C': [0.0222, 0.0254, 0.0286, 0.0318, 0.0349, 0.0381, 0.0413, 0.0445, 0.0476, 0.0508, 0.054, 0.0572, 0.0603, 0.0635, 0.0667, 0.0762, 0.0858, 0.0953, 0.1048, 0.1143, 0.1239, 0.1334, 0.1429, 0.1525, 0.162, 0.1715, 0.181, 0.1906, 0.2001]}>>\n",
      "Fitting 12 folds for each of 29 candidates, totalling 348 fits\n"
     ]
    },
    {
     "name": "stderr",
     "output_type": "stream",
     "text": [
      "[Parallel(n_jobs=1)]: Done 348 out of 348 | elapsed:   45.0s finished\n"
     ]
    },
    {
     "name": "stdout",
     "output_type": "stream",
     "text": [
      "       Best parameters selected: <<{'C': 0.0667}>> for score <<0.8999208689434658>>.\n",
      "       Final parameters selected: <<{'C': 0.0667}>> for score <<0.8999208689434658>>.\n",
      "\n",
      "          *** Score on validation dataset (macro/weighted) <<0.8945515337267915>> / <<0.9405772495755518>>.\n",
      "[[2030  104]\n",
      " [  36  186]]\n",
      "\n",
      "-------------------------------------------------------------------\n",
      "    32. Fit model for class: <<fire>> ((21203, 23979)).\n",
      "    Tuning hyper-parameters for class: <<fire>> (Recall).\n",
      "       1. Grid Search model <<<class 'sklearn.svm.classes.LinearSVC'>>>; weight: <<balanced>>; parameters: <<{'C': [0.001, 0.01, 0.1, 1.0, 10.0]}>>\n",
      "Fitting 12 folds for each of 5 candidates, totalling 60 fits\n"
     ]
    },
    {
     "name": "stderr",
     "output_type": "stream",
     "text": [
      "[Parallel(n_jobs=1)]: Done  60 out of  60 | elapsed:   10.5s finished\n"
     ]
    },
    {
     "name": "stdout",
     "output_type": "stream",
     "text": [
      "       Best parameters selected: <<{'C': 0.01}>> for score <<0.7548308918406186>>.\n",
      "       2. Grid Search model <<<class 'sklearn.svm.classes.LinearSVC'>>>; weight: <<balanced>>; parameters: <<{'C': [0.0033, 0.0038, 0.0043, 0.0048, 0.0052, 0.0057, 0.0062, 0.0067, 0.0071, 0.0076, 0.0081, 0.0086, 0.009, 0.0095, 0.01, 0.0114, 0.0129, 0.0143, 0.0157, 0.0171, 0.0186, 0.02, 0.0214, 0.0229, 0.0243, 0.0257, 0.0271, 0.0286, 0.03]}>>\n",
      "Fitting 12 folds for each of 29 candidates, totalling 348 fits\n"
     ]
    },
    {
     "name": "stderr",
     "output_type": "stream",
     "text": [
      "[Parallel(n_jobs=1)]: Done 348 out of 348 | elapsed:   41.0s finished\n"
     ]
    },
    {
     "name": "stdout",
     "output_type": "stream",
     "text": [
      "       Best parameters selected: <<{'C': 0.0038}>> for score <<0.7674470806933833>>.\n",
      "       3. Grid Search model <<<class 'sklearn.svm.classes.LinearSVC'>>>; weight: <<balanced>>; parameters: <<{'C': [0.0013, 0.0014, 0.0016, 0.0018, 0.002, 0.0022, 0.0024, 0.0025, 0.0027, 0.0029, 0.0031, 0.0033, 0.0034, 0.0036, 0.0038, 0.0043, 0.0049, 0.0054, 0.006, 0.0065, 0.0071, 0.0076, 0.0081, 0.0087, 0.0092, 0.0098, 0.0103, 0.0109, 0.0114]}>>\n",
      "Fitting 12 folds for each of 29 candidates, totalling 348 fits\n"
     ]
    },
    {
     "name": "stderr",
     "output_type": "stream",
     "text": [
      "[Parallel(n_jobs=1)]: Done 348 out of 348 | elapsed:   27.8s finished\n"
     ]
    },
    {
     "name": "stdout",
     "output_type": "stream",
     "text": [
      "       Best parameters selected: <<{'C': 0.0038}>> for score <<0.7674470806933833>>.\n",
      "       3. Grid Search model <<<class 'sklearn.svm.classes.LinearSVC'>>>; weight: <<{0: 1.0, 1: 90.0}>>; parameters: <<{'C': [0.001, 0.01, 0.1, 1.0, 10.0]}>>\n",
      "Fitting 12 folds for each of 5 candidates, totalling 60 fits\n"
     ]
    },
    {
     "name": "stderr",
     "output_type": "stream",
     "text": [
      "[Parallel(n_jobs=1)]: Done  60 out of  60 | elapsed:   11.2s finished\n"
     ]
    },
    {
     "name": "stdout",
     "output_type": "stream",
     "text": [
      "       Best parameters selected: <<{'C': 0.001}>> for score <<0.7518731603643819>>.\n",
      "       4. Grid Search model <<<class 'sklearn.svm.classes.LinearSVC'>>>; weight: <<{0: 1.0, 1: 90.0}>>; parameters: <<{'C': [0.0003, 0.0004, 0.0004, 0.0005, 0.0005, 0.0006, 0.0006, 0.0007, 0.0007, 0.0008, 0.0008, 0.0009, 0.0009, 0.001, 0.001, 0.0011, 0.0013, 0.0014, 0.0016, 0.0017, 0.0019, 0.002, 0.0021, 0.0023, 0.0024, 0.0026, 0.0027, 0.0029, 0.003]}>>\n",
      "Fitting 12 folds for each of 29 candidates, totalling 348 fits\n"
     ]
    },
    {
     "name": "stderr",
     "output_type": "stream",
     "text": [
      "[Parallel(n_jobs=1)]: Done 348 out of 348 | elapsed:   21.2s finished\n"
     ]
    },
    {
     "name": "stdout",
     "output_type": "stream",
     "text": [
      "       Best parameters selected: <<{'C': 0.002}>> for score <<0.7688301132430079>>.\n",
      "       5. Grid Search model <<<class 'sklearn.svm.classes.LinearSVC'>>>; weight: <<{0: 1.0, 1: 90.0}>>; parameters: <<{'C': [0.0007, 0.0008, 0.0009, 0.001, 0.001, 0.0011, 0.0012, 0.0013, 0.0014, 0.0015, 0.0016, 0.0017, 0.0018, 0.0019, 0.002, 0.0023, 0.0026, 0.0029, 0.0031, 0.0034, 0.0037, 0.004, 0.0043, 0.0046, 0.0049, 0.0051, 0.0054, 0.0057, 0.006]}>>\n",
      "Fitting 12 folds for each of 29 candidates, totalling 348 fits\n"
     ]
    },
    {
     "name": "stderr",
     "output_type": "stream",
     "text": [
      "[Parallel(n_jobs=1)]: Done 348 out of 348 | elapsed:   28.1s finished\n"
     ]
    },
    {
     "name": "stdout",
     "output_type": "stream",
     "text": [
      "       Best parameters selected: <<{'C': 0.002}>> for score <<0.7688301132430079>>.\n",
      "       Final parameters selected: <<{'C': 0.0038}>> for score <<0.7674470806933833>>.\n",
      "\n",
      "          *** Score on validation dataset (macro/weighted) <<0.7185560670157849>> / <<0.9541595925297114>>.\n",
      "[[2237   96]\n",
      " [  12   11]]\n",
      "\n",
      "-------------------------------------------------------------------\n",
      "    33. Fit model for class: <<earthquake>> ((21203, 23979)).\n",
      "    Tuning hyper-parameters for class: <<earthquake>> (Recall).\n",
      "       1. Grid Search model <<<class 'sklearn.svm.classes.LinearSVC'>>>; weight: <<balanced>>; parameters: <<{'C': [0.001, 0.01, 0.1, 1.0, 10.0]}>>\n",
      "Fitting 12 folds for each of 5 candidates, totalling 60 fits\n"
     ]
    },
    {
     "name": "stderr",
     "output_type": "stream",
     "text": [
      "[Parallel(n_jobs=1)]: Done  60 out of  60 | elapsed:   15.7s finished\n"
     ]
    },
    {
     "name": "stdout",
     "output_type": "stream",
     "text": [
      "       Best parameters selected: <<{'C': 0.1}>> for score <<0.9152557563950038>>.\n",
      "       2. Grid Search model <<<class 'sklearn.svm.classes.LinearSVC'>>>; weight: <<balanced>>; parameters: <<{'C': [0.0333, 0.0381, 0.0429, 0.0476, 0.0524, 0.0571, 0.0619, 0.0667, 0.0714, 0.0762, 0.081, 0.0857, 0.0905, 0.0952, 0.1, 0.1143, 0.1286, 0.1429, 0.1571, 0.1714, 0.1857, 0.2, 0.2143, 0.2286, 0.2429, 0.2571, 0.2714, 0.2857, 0.3]}>>\n",
      "Fitting 12 folds for each of 29 candidates, totalling 348 fits\n"
     ]
    },
    {
     "name": "stderr",
     "output_type": "stream",
     "text": [
      "[Parallel(n_jobs=1)]: Done 348 out of 348 | elapsed:   56.1s finished\n"
     ]
    },
    {
     "name": "stdout",
     "output_type": "stream",
     "text": [
      "       Best parameters selected: <<{'C': 0.1}>> for score <<0.9152557563950038>>.\n",
      "       Final parameters selected: <<{'C': 0.1}>> for score <<0.9152557563950038>>.\n",
      "\n",
      "          *** Score on validation dataset (macro/weighted) <<0.9057581166339752>> / <<0.9711375212224108>>.\n",
      "[[2104   29]\n",
      " [  39  184]]\n",
      "\n",
      "-------------------------------------------------------------------\n",
      "    34. Fit model for class: <<cold>> ((21203, 23980)).\n",
      "    Tuning hyper-parameters for class: <<cold>> (Recall).\n",
      "       1. Grid Search model <<<class 'sklearn.svm.classes.LinearSVC'>>>; weight: <<balanced>>; parameters: <<{'C': [0.001, 0.01, 0.1, 1.0, 10.0]}>>\n",
      "Fitting 12 folds for each of 5 candidates, totalling 60 fits\n"
     ]
    },
    {
     "name": "stderr",
     "output_type": "stream",
     "text": [
      "[Parallel(n_jobs=1)]: Done  60 out of  60 | elapsed:   14.5s finished\n"
     ]
    },
    {
     "name": "stdout",
     "output_type": "stream",
     "text": [
      "       Best parameters selected: <<{'C': 0.01}>> for score <<0.8229617151380381>>.\n",
      "       2. Grid Search model <<<class 'sklearn.svm.classes.LinearSVC'>>>; weight: <<balanced>>; parameters: <<{'C': [0.0033, 0.0038, 0.0043, 0.0048, 0.0052, 0.0057, 0.0062, 0.0067, 0.0071, 0.0076, 0.0081, 0.0086, 0.009, 0.0095, 0.01, 0.0114, 0.0129, 0.0143, 0.0157, 0.0171, 0.0186, 0.02, 0.0214, 0.0229, 0.0243, 0.0257, 0.0271, 0.0286, 0.03]}>>\n",
      "Fitting 12 folds for each of 29 candidates, totalling 348 fits\n"
     ]
    },
    {
     "name": "stderr",
     "output_type": "stream",
     "text": [
      "[Parallel(n_jobs=1)]: Done 348 out of 348 | elapsed:   37.2s finished\n"
     ]
    },
    {
     "name": "stdout",
     "output_type": "stream",
     "text": [
      "       Best parameters selected: <<{'C': 0.0129}>> for score <<0.8274538509903763>>.\n",
      "       3. Grid Search model <<<class 'sklearn.svm.classes.LinearSVC'>>>; weight: <<balanced>>; parameters: <<{'C': [0.0043, 0.0049, 0.0055, 0.0061, 0.0068, 0.0074, 0.008, 0.0086, 0.0092, 0.0098, 0.0104, 0.0111, 0.0117, 0.0123, 0.0129, 0.0147, 0.0166, 0.0184, 0.0203, 0.0221, 0.024, 0.0258, 0.0276, 0.0295, 0.0313, 0.0332, 0.035, 0.0369, 0.0387]}>>\n",
      "Fitting 12 folds for each of 29 candidates, totalling 348 fits\n"
     ]
    },
    {
     "name": "stderr",
     "output_type": "stream",
     "text": [
      "[Parallel(n_jobs=1)]: Done 348 out of 348 | elapsed:   42.2s finished\n"
     ]
    },
    {
     "name": "stdout",
     "output_type": "stream",
     "text": [
      "       Best parameters selected: <<{'C': 0.0129}>> for score <<0.8274538509903763>>.\n",
      "       3. Grid Search model <<<class 'sklearn.svm.classes.LinearSVC'>>>; weight: <<{0: 1.0, 1: 95.26146788990826}>>; parameters: <<{'C': [0.001, 0.01, 0.1, 1.0, 10.0]}>>\n",
      "Fitting 12 folds for each of 5 candidates, totalling 60 fits\n"
     ]
    },
    {
     "name": "stderr",
     "output_type": "stream",
     "text": [
      "[Parallel(n_jobs=1)]: Done  60 out of  60 | elapsed:   16.7s finished\n"
     ]
    },
    {
     "name": "stdout",
     "output_type": "stream",
     "text": [
      "       Best parameters selected: <<{'C': 0.01}>> for score <<0.8312990485289253>>.\n",
      "       4. Grid Search model <<<class 'sklearn.svm.classes.LinearSVC'>>>; weight: <<{0: 1.0, 1: 95.26146788990826}>>; parameters: <<{'C': [0.0033, 0.0038, 0.0043, 0.0048, 0.0052, 0.0057, 0.0062, 0.0067, 0.0071, 0.0076, 0.0081, 0.0086, 0.009, 0.0095, 0.01, 0.0114, 0.0129, 0.0143, 0.0157, 0.0171, 0.0186, 0.02, 0.0214, 0.0229, 0.0243, 0.0257, 0.0271, 0.0286, 0.03]}>>\n",
      "Fitting 12 folds for each of 29 candidates, totalling 348 fits\n"
     ]
    },
    {
     "name": "stderr",
     "output_type": "stream",
     "text": [
      "[Parallel(n_jobs=1)]: Done 348 out of 348 | elapsed:  1.2min finished\n"
     ]
    },
    {
     "name": "stdout",
     "output_type": "stream",
     "text": [
      "       Best parameters selected: <<{'C': 0.0076}>> for score <<0.8346683452336767>>.\n",
      "       5. Grid Search model <<<class 'sklearn.svm.classes.LinearSVC'>>>; weight: <<{0: 1.0, 1: 95.26146788990826}>>; parameters: <<{'C': [0.0025, 0.0029, 0.0033, 0.0036, 0.004, 0.0043, 0.0047, 0.0051, 0.0054, 0.0058, 0.0062, 0.0065, 0.0069, 0.0072, 0.0076, 0.0087, 0.0098, 0.0109, 0.0119, 0.013, 0.0141, 0.0152, 0.0163, 0.0174, 0.0185, 0.0195, 0.0206, 0.0217, 0.0228]}>>\n",
      "Fitting 12 folds for each of 29 candidates, totalling 348 fits\n"
     ]
    },
    {
     "name": "stderr",
     "output_type": "stream",
     "text": [
      "[Parallel(n_jobs=1)]: Done 348 out of 348 | elapsed:  1.0min finished\n"
     ]
    },
    {
     "name": "stdout",
     "output_type": "stream",
     "text": [
      "       Best parameters selected: <<{'C': 0.0076}>> for score <<0.8346683452336767>>.\n",
      "       Final parameters selected: <<{'C': 0.0129}>> for score <<0.8274538509903763>>.\n",
      "\n",
      "          *** Score on validation dataset (macro/weighted) <<0.7978577623590632>> / <<0.9681663837011885>>.\n",
      "[[2250   56]\n",
      " [  19   31]]\n",
      "\n",
      "-------------------------------------------------------------------\n",
      "    35. Fit model for class: <<other_weather>> ((21203, 23980)).\n",
      "    Tuning hyper-parameters for class: <<other_weather>> (Recall).\n",
      "       1. Grid Search model <<<class 'sklearn.svm.classes.LinearSVC'>>>; weight: <<balanced>>; parameters: <<{'C': [0.001, 0.01, 0.1, 1.0, 10.0]}>>\n",
      "Fitting 12 folds for each of 5 candidates, totalling 60 fits\n"
     ]
    },
    {
     "name": "stderr",
     "output_type": "stream",
     "text": [
      "[Parallel(n_jobs=1)]: Done  60 out of  60 | elapsed:   19.8s finished\n"
     ]
    },
    {
     "name": "stdout",
     "output_type": "stream",
     "text": [
      "       Best parameters selected: <<{'C': 0.01}>> for score <<0.7504288569724467>>.\n",
      "       2. Grid Search model <<<class 'sklearn.svm.classes.LinearSVC'>>>; weight: <<balanced>>; parameters: <<{'C': [0.0033, 0.0038, 0.0043, 0.0048, 0.0052, 0.0057, 0.0062, 0.0067, 0.0071, 0.0076, 0.0081, 0.0086, 0.009, 0.0095, 0.01, 0.0114, 0.0129, 0.0143, 0.0157, 0.0171, 0.0186, 0.02, 0.0214, 0.0229, 0.0243, 0.0257, 0.0271, 0.0286, 0.03]}>>\n",
      "Fitting 12 folds for each of 29 candidates, totalling 348 fits\n"
     ]
    },
    {
     "name": "stderr",
     "output_type": "stream",
     "text": [
      "[Parallel(n_jobs=1)]: Done 348 out of 348 | elapsed:   25.6s finished\n"
     ]
    },
    {
     "name": "stdout",
     "output_type": "stream",
     "text": [
      "       Best parameters selected: <<{'C': 0.0129}>> for score <<0.7508545292620161>>.\n",
      "       3. Grid Search model <<<class 'sklearn.svm.classes.LinearSVC'>>>; weight: <<balanced>>; parameters: <<{'C': [0.0043, 0.0049, 0.0055, 0.0061, 0.0068, 0.0074, 0.008, 0.0086, 0.0092, 0.0098, 0.0104, 0.0111, 0.0117, 0.0123, 0.0129, 0.0147, 0.0166, 0.0184, 0.0203, 0.0221, 0.024, 0.0258, 0.0276, 0.0295, 0.0313, 0.0332, 0.035, 0.0369, 0.0387]}>>\n",
      "Fitting 12 folds for each of 29 candidates, totalling 348 fits\n"
     ]
    },
    {
     "name": "stderr",
     "output_type": "stream",
     "text": [
      "[Parallel(n_jobs=1)]: Done 348 out of 348 | elapsed:   28.7s finished\n"
     ]
    },
    {
     "name": "stdout",
     "output_type": "stream",
     "text": [
      "       Best parameters selected: <<{'C': 0.0129}>> for score <<0.7508545292620161>>.\n",
      "       3. Grid Search model <<<class 'sklearn.svm.classes.LinearSVC'>>>; weight: <<{0: 1.0, 1: 36.34177215189874}>>; parameters: <<{'C': [0.001, 0.01, 0.1, 1.0, 10.0]}>>\n",
      "Fitting 12 folds for each of 5 candidates, totalling 60 fits\n"
     ]
    },
    {
     "name": "stderr",
     "output_type": "stream",
     "text": [
      "[Parallel(n_jobs=1)]: Done  60 out of  60 | elapsed:   25.5s finished\n"
     ]
    },
    {
     "name": "stdout",
     "output_type": "stream",
     "text": [
      "       Best parameters selected: <<{'C': 0.01}>> for score <<0.7465513475010833>>.\n",
      "       4. Grid Search model <<<class 'sklearn.svm.classes.LinearSVC'>>>; weight: <<{0: 1.0, 1: 36.34177215189874}>>; parameters: <<{'C': [0.0033, 0.0038, 0.0043, 0.0048, 0.0052, 0.0057, 0.0062, 0.0067, 0.0071, 0.0076, 0.0081, 0.0086, 0.009, 0.0095, 0.01, 0.0114, 0.0129, 0.0143, 0.0157, 0.0171, 0.0186, 0.02, 0.0214, 0.0229, 0.0243, 0.0257, 0.0271, 0.0286, 0.03]}>>\n",
      "Fitting 12 folds for each of 29 candidates, totalling 348 fits\n"
     ]
    },
    {
     "name": "stderr",
     "output_type": "stream",
     "text": [
      "[Parallel(n_jobs=1)]: Done 348 out of 348 | elapsed:   48.6s finished\n"
     ]
    },
    {
     "name": "stdout",
     "output_type": "stream",
     "text": [
      "       Best parameters selected: <<{'C': 0.0229}>> for score <<0.7569975172860101>>.\n",
      "       5. Grid Search model <<<class 'sklearn.svm.classes.LinearSVC'>>>; weight: <<{0: 1.0, 1: 36.34177215189874}>>; parameters: <<{'C': [0.0076, 0.0087, 0.0098, 0.0109, 0.012, 0.0131, 0.0142, 0.0153, 0.0164, 0.0174, 0.0185, 0.0196, 0.0207, 0.0218, 0.0229, 0.0262, 0.0294, 0.0327, 0.036, 0.0393, 0.0425, 0.0458, 0.0491, 0.0523, 0.0556, 0.0589, 0.0622, 0.0654, 0.0687]}>>\n",
      "Fitting 12 folds for each of 29 candidates, totalling 348 fits\n"
     ]
    },
    {
     "name": "stderr",
     "output_type": "stream",
     "text": [
      "[Parallel(n_jobs=1)]: Done 348 out of 348 | elapsed:  1.3min finished\n"
     ]
    },
    {
     "name": "stdout",
     "output_type": "stream",
     "text": [
      "       Best parameters selected: <<{'C': 0.0164}>> for score <<0.7571089722913543>>.\n",
      "       6. Grid Search model <<<class 'sklearn.svm.classes.LinearSVC'>>>; weight: <<{0: 1.0, 1: 36.34177215189874}>>; parameters: <<{'C': [0.0055, 0.0062, 0.007, 0.0078, 0.0086, 0.0094, 0.0102, 0.0109, 0.0117, 0.0125, 0.0133, 0.0141, 0.0148, 0.0156, 0.0164, 0.0187, 0.0211, 0.0234, 0.0258, 0.0281, 0.0305, 0.0328, 0.0351, 0.0375, 0.0398, 0.0422, 0.0445, 0.0469, 0.0492]}>>\n",
      "Fitting 12 folds for each of 29 candidates, totalling 348 fits\n"
     ]
    },
    {
     "name": "stderr",
     "output_type": "stream",
     "text": [
      "[Parallel(n_jobs=1)]: Done 348 out of 348 | elapsed:  1.1min finished\n"
     ]
    },
    {
     "name": "stdout",
     "output_type": "stream",
     "text": [
      "       Best parameters selected: <<{'C': 0.0164}>> for score <<0.7571089722913543>>.\n",
      "       Final parameters selected: <<{'C': 0.0129}>> for score <<0.7508545292620161>>.\n",
      "\n",
      "          *** Score on validation dataset (macro/weighted) <<0.7411798727588201>> / <<0.8450764006791172>>.\n",
      "[[1908  315]\n",
      " [  50   83]]\n",
      "\n",
      "-------------------------------------------------------------------\n",
      "    36. Fit model for class: <<direct_report>> ((21203, 23980)).\n",
      "    Tuning hyper-parameters for class: <<direct_report>> (Recall).\n",
      "       1. Grid Search model <<<class 'sklearn.svm.classes.LinearSVC'>>>; weight: <<balanced>>; parameters: <<{'C': [0.001, 0.01, 0.1, 1.0, 10.0]}>>\n",
      "Fitting 12 folds for each of 5 candidates, totalling 60 fits\n"
     ]
    },
    {
     "name": "stderr",
     "output_type": "stream",
     "text": [
      "[Parallel(n_jobs=1)]: Done  60 out of  60 | elapsed:   22.9s finished\n"
     ]
    },
    {
     "name": "stdout",
     "output_type": "stream",
     "text": [
      "       Best parameters selected: <<{'C': 0.1}>> for score <<0.7920525269910956>>.\n",
      "       2. Grid Search model <<<class 'sklearn.svm.classes.LinearSVC'>>>; weight: <<balanced>>; parameters: <<{'C': [0.0333, 0.0381, 0.0429, 0.0476, 0.0524, 0.0571, 0.0619, 0.0667, 0.0714, 0.0762, 0.081, 0.0857, 0.0905, 0.0952, 0.1, 0.1143, 0.1286, 0.1429, 0.1571, 0.1714, 0.1857, 0.2, 0.2143, 0.2286, 0.2429, 0.2571, 0.2714, 0.2857, 0.3]}>>\n",
      "Fitting 12 folds for each of 29 candidates, totalling 348 fits\n"
     ]
    },
    {
     "name": "stderr",
     "output_type": "stream",
     "text": [
      "[Parallel(n_jobs=1)]: Done 348 out of 348 | elapsed:   45.7s finished\n"
     ]
    },
    {
     "name": "stdout",
     "output_type": "stream",
     "text": [
      "       Best parameters selected: <<{'C': 0.0857}>> for score <<0.7935281758986388>>.\n",
      "       3. Grid Search model <<<class 'sklearn.svm.classes.LinearSVC'>>>; weight: <<balanced>>; parameters: <<{'C': [0.0286, 0.0326, 0.0367, 0.0408, 0.0449, 0.049, 0.0531, 0.0571, 0.0612, 0.0653, 0.0694, 0.0735, 0.0775, 0.0816, 0.0857, 0.0979, 0.1102, 0.1224, 0.1347, 0.1469, 0.1592, 0.1714, 0.1836, 0.1959, 0.2081, 0.2204, 0.2326, 0.2449, 0.2571]}>>\n",
      "Fitting 12 folds for each of 29 candidates, totalling 348 fits\n"
     ]
    },
    {
     "name": "stderr",
     "output_type": "stream",
     "text": [
      "[Parallel(n_jobs=1)]: Done 348 out of 348 | elapsed:   41.7s finished\n"
     ]
    },
    {
     "name": "stdout",
     "output_type": "stream",
     "text": [
      "       Best parameters selected: <<{'C': 0.0857}>> for score <<0.7935281758986388>>.\n",
      "       3. Grid Search model <<<class 'sklearn.svm.classes.LinearSVC'>>>; weight: <<{0: 1.0, 1: 8.350500366121553}>>; parameters: <<{'C': [0.001, 0.01, 0.1, 1.0, 10.0]}>>\n",
      "Fitting 12 folds for each of 5 candidates, totalling 60 fits\n"
     ]
    },
    {
     "name": "stderr",
     "output_type": "stream",
     "text": [
      "[Parallel(n_jobs=1)]: Done  60 out of  60 | elapsed:   32.9s finished\n"
     ]
    },
    {
     "name": "stdout",
     "output_type": "stream",
     "text": [
      "       Best parameters selected: <<{'C': 0.1}>> for score <<0.7770150169012245>>.\n",
      "       4. Grid Search model <<<class 'sklearn.svm.classes.LinearSVC'>>>; weight: <<{0: 1.0, 1: 8.350500366121553}>>; parameters: <<{'C': [0.0333, 0.0381, 0.0429, 0.0476, 0.0524, 0.0571, 0.0619, 0.0667, 0.0714, 0.0762, 0.081, 0.0857, 0.0905, 0.0952, 0.1, 0.1143, 0.1286, 0.1429, 0.1571, 0.1714, 0.1857, 0.2, 0.2143, 0.2286, 0.2429, 0.2571, 0.2714, 0.2857, 0.3]}>>\n",
      "Fitting 12 folds for each of 29 candidates, totalling 348 fits\n"
     ]
    },
    {
     "name": "stderr",
     "output_type": "stream",
     "text": [
      "[Parallel(n_jobs=1)]: Done 348 out of 348 | elapsed:  1.5min finished\n"
     ]
    },
    {
     "name": "stdout",
     "output_type": "stream",
     "text": [
      "       Best parameters selected: <<{'C': 0.0667}>> for score <<0.778195090322806>>.\n",
      "       5. Grid Search model <<<class 'sklearn.svm.classes.LinearSVC'>>>; weight: <<{0: 1.0, 1: 8.350500366121553}>>; parameters: <<{'C': [0.0222, 0.0254, 0.0286, 0.0318, 0.0349, 0.0381, 0.0413, 0.0445, 0.0476, 0.0508, 0.054, 0.0572, 0.0603, 0.0635, 0.0667, 0.0762, 0.0858, 0.0953, 0.1048, 0.1143, 0.1239, 0.1334, 0.1429, 0.1525, 0.162, 0.1715, 0.181, 0.1906, 0.2001]}>>\n",
      "Fitting 12 folds for each of 29 candidates, totalling 348 fits\n"
     ]
    },
    {
     "name": "stderr",
     "output_type": "stream",
     "text": [
      "[Parallel(n_jobs=1)]: Done 348 out of 348 | elapsed:  1.2min finished\n"
     ]
    },
    {
     "name": "stdout",
     "output_type": "stream",
     "text": [
      "       Best parameters selected: <<{'C': 0.0667}>> for score <<0.778195090322806>>.\n",
      "       Final parameters selected: <<{'C': 0.0857}>> for score <<0.7935281758986388>>.\n",
      "\n",
      "          *** Score on validation dataset (macro/weighted) <<0.768656750929239>> / <<0.8128183361629882>>.\n",
      "[[1598  303]\n",
      " [ 138  317]]\n",
      "\n",
      "-------------------------------------------------------------------\n",
      "    37. ReFit model for class: <<related>> ((20025, 23980)).\n",
      "    Tuning hyper-parameters for class: <<related>> (Recall).\n",
      "       1. Grid Search model <<<class 'sklearn.svm.classes.LinearSVC'>>>; weight: <<balanced>>; parameters: <<{'C': [0.001, 0.01, 0.1, 1.0, 10.0]}>>\n",
      "Fitting 12 folds for each of 5 candidates, totalling 60 fits\n"
     ]
    },
    {
     "name": "stderr",
     "output_type": "stream",
     "text": [
      "[Parallel(n_jobs=1)]: Done  60 out of  60 | elapsed:   40.1s finished\n"
     ]
    },
    {
     "name": "stdout",
     "output_type": "stream",
     "text": [
      "       Best parameters selected: <<{'C': 0.1}>> for score <<0.6570428471473397>>.\n",
      "       2. Grid Search model <<<class 'sklearn.svm.classes.LinearSVC'>>>; weight: <<balanced>>; parameters: <<{'C': [0.0333, 0.0381, 0.0429, 0.0476, 0.0524, 0.0571, 0.0619, 0.0667, 0.0714, 0.0762, 0.081, 0.0857, 0.0905, 0.0952, 0.1, 0.1143, 0.1286, 0.1429, 0.1571, 0.1714, 0.1857, 0.2, 0.2143, 0.2286, 0.2429, 0.2571, 0.2714, 0.2857, 0.3]}>>\n",
      "Fitting 12 folds for each of 29 candidates, totalling 348 fits\n"
     ]
    },
    {
     "name": "stderr",
     "output_type": "stream",
     "text": [
      "[Parallel(n_jobs=1)]: Done 348 out of 348 | elapsed:  1.5min finished\n"
     ]
    },
    {
     "name": "stdout",
     "output_type": "stream",
     "text": [
      "       Best parameters selected: <<{'C': 0.0524}>> for score <<0.6619197021692317>>.\n",
      "       3. Grid Search model <<<class 'sklearn.svm.classes.LinearSVC'>>>; weight: <<balanced>>; parameters: <<{'C': [0.0175, 0.02, 0.0225, 0.025, 0.0274, 0.0299, 0.0324, 0.0349, 0.0374, 0.0399, 0.0424, 0.0449, 0.0474, 0.0499, 0.0524, 0.0599, 0.0674, 0.0749, 0.0823, 0.0898, 0.0973, 0.1048, 0.1123, 0.1198, 0.1273, 0.1347, 0.1422, 0.1497, 0.1572]}>>\n",
      "Fitting 12 folds for each of 29 candidates, totalling 348 fits\n"
     ]
    },
    {
     "name": "stderr",
     "output_type": "stream",
     "text": [
      "[Parallel(n_jobs=1)]: Done 348 out of 348 | elapsed:  1.2min finished\n"
     ]
    },
    {
     "name": "stdout",
     "output_type": "stream",
     "text": [
      "       Best parameters selected: <<{'C': 0.0524}>> for score <<0.6619197021692317>>.\n",
      "       3. Grid Search model <<<class 'sklearn.svm.classes.LinearSVC'>>>; weight: <<{1: 1.0, 0: 6.565273588970271, 2: 105.08965517241379}>>; parameters: <<{'C': [0.001, 0.01, 0.1, 1.0, 10.0]}>>\n",
      "Fitting 12 folds for each of 5 candidates, totalling 60 fits\n"
     ]
    },
    {
     "name": "stderr",
     "output_type": "stream",
     "text": [
      "[Parallel(n_jobs=1)]: Done  60 out of  60 | elapsed:   49.9s finished\n"
     ]
    },
    {
     "name": "stdout",
     "output_type": "stream",
     "text": [
      "       Best parameters selected: <<{'C': 0.1}>> for score <<0.6227194219681661>>.\n",
      "       4. Grid Search model <<<class 'sklearn.svm.classes.LinearSVC'>>>; weight: <<{1: 1.0, 0: 6.565273588970271, 2: 105.08965517241379}>>; parameters: <<{'C': [0.0333, 0.0381, 0.0429, 0.0476, 0.0524, 0.0571, 0.0619, 0.0667, 0.0714, 0.0762, 0.081, 0.0857, 0.0905, 0.0952, 0.1, 0.1143, 0.1286, 0.1429, 0.1571, 0.1714, 0.1857, 0.2, 0.2143, 0.2286, 0.2429, 0.2571, 0.2714, 0.2857, 0.3]}>>\n",
      "Fitting 12 folds for each of 29 candidates, totalling 348 fits\n"
     ]
    },
    {
     "name": "stderr",
     "output_type": "stream",
     "text": [
      "[Parallel(n_jobs=1)]: Done 348 out of 348 | elapsed:  2.9min finished\n"
     ]
    },
    {
     "name": "stdout",
     "output_type": "stream",
     "text": [
      "       Best parameters selected: <<{'C': 0.1429}>> for score <<0.6268723746884475>>.\n",
      "       5. Grid Search model <<<class 'sklearn.svm.classes.LinearSVC'>>>; weight: <<{1: 1.0, 0: 6.565273588970271, 2: 105.08965517241379}>>; parameters: <<{'C': [0.0476, 0.0544, 0.0612, 0.068, 0.0749, 0.0817, 0.0885, 0.0953, 0.1021, 0.1089, 0.1157, 0.1225, 0.1293, 0.1361, 0.1429, 0.1633, 0.1837, 0.2041, 0.2246, 0.245, 0.2654, 0.2858, 0.3062, 0.3266, 0.347, 0.3675, 0.3879, 0.4083, 0.4287]}>>\n",
      "Fitting 12 folds for each of 29 candidates, totalling 348 fits\n"
     ]
    },
    {
     "name": "stderr",
     "output_type": "stream",
     "text": [
      "[Parallel(n_jobs=1)]: Done 348 out of 348 | elapsed:  3.4min finished\n"
     ]
    },
    {
     "name": "stdout",
     "output_type": "stream",
     "text": [
      "       Best parameters selected: <<{'C': 0.3675}>> for score <<0.6270561094849225>>.\n",
      "       6. Grid Search model <<<class 'sklearn.svm.classes.LinearSVC'>>>; weight: <<{1: 1.0, 0: 6.565273588970271, 2: 105.08965517241379}>>; parameters: <<{'C': [0.1225, 0.14, 0.1575, 0.175, 0.1925, 0.21, 0.2275, 0.245, 0.2625, 0.28, 0.2975, 0.315, 0.3325, 0.35, 0.3675, 0.42, 0.4725, 0.525, 0.5775, 0.63, 0.6825, 0.735, 0.7875, 0.84, 0.8925, 0.945, 0.9975, 1.05, 1.1025]}>>\n",
      "Fitting 12 folds for each of 29 candidates, totalling 348 fits\n"
     ]
    },
    {
     "name": "stderr",
     "output_type": "stream",
     "text": [
      "[Parallel(n_jobs=1)]: Done 348 out of 348 | elapsed:  5.1min finished\n"
     ]
    },
    {
     "name": "stdout",
     "output_type": "stream",
     "text": [
      "       Best parameters selected: <<{'C': 0.3675}>> for score <<0.6270561094849225>>.\n",
      "       Final parameters selected: <<{'C': 0.0524}>> for score <<0.6619197021692317>>.\n",
      "\n",
      "          *** Prev Score on validation dataset (macro/weighted) <<0.6600925468264212>> / <<0.8348896434634975>>.\n",
      "\n",
      "          *** Score on validation dataset (macro/weighted) <<0.6385987986435184>> / <<0.8135257498585172>>.\n",
      "[[ 525  297    5]\n",
      " [ 320 2341   24]\n",
      " [   8    5    9]]\n",
      "\n",
      "          *** Model has been refitted from <<0.6358002418208377>> to <<0.6619197021692317>>.\n",
      "\n",
      "-------------------------------------------------------------------\n",
      "    38. ReFit model for class: <<offer>> ((20025, 23980)).\n",
      "    Tuning hyper-parameters for class: <<offer>> (Recall).\n",
      "       1. Grid Search model <<<class 'sklearn.svm.classes.LinearSVC'>>>; weight: <<balanced>>; parameters: <<{'C': [0.001, 0.01, 0.1, 1.0, 10.0]}>>\n",
      "Fitting 12 folds for each of 5 candidates, totalling 60 fits\n"
     ]
    },
    {
     "name": "stderr",
     "output_type": "stream",
     "text": [
      "[Parallel(n_jobs=1)]: Done  60 out of  60 | elapsed:    7.9s finished\n"
     ]
    },
    {
     "name": "stdout",
     "output_type": "stream",
     "text": [
      "       Best parameters selected: <<{'C': 0.01}>> for score <<0.6575863933901447>>.\n",
      "       2. Grid Search model <<<class 'sklearn.svm.classes.LinearSVC'>>>; weight: <<balanced>>; parameters: <<{'C': [0.0033, 0.0038, 0.0043, 0.0048, 0.0052, 0.0057, 0.0062, 0.0067, 0.0071, 0.0076, 0.0081, 0.0086, 0.009, 0.0095, 0.01, 0.0114, 0.0129, 0.0143, 0.0157, 0.0171, 0.0186, 0.02, 0.0214, 0.0229, 0.0243, 0.0257, 0.0271, 0.0286, 0.03]}>>\n",
      "Fitting 12 folds for each of 29 candidates, totalling 348 fits\n"
     ]
    },
    {
     "name": "stderr",
     "output_type": "stream",
     "text": [
      "[Parallel(n_jobs=1)]: Done 348 out of 348 | elapsed:   50.6s finished\n"
     ]
    },
    {
     "name": "stdout",
     "output_type": "stream",
     "text": [
      "       Best parameters selected: <<{'C': 0.0052}>> for score <<0.678626633357061>>.\n",
      "       3. Grid Search model <<<class 'sklearn.svm.classes.LinearSVC'>>>; weight: <<balanced>>; parameters: <<{'C': [0.0017, 0.002, 0.0022, 0.0025, 0.0027, 0.003, 0.0032, 0.0035, 0.0037, 0.004, 0.0042, 0.0045, 0.0047, 0.005, 0.0052, 0.0059, 0.0067, 0.0074, 0.0082, 0.0089, 0.0097, 0.0104, 0.0111, 0.0119, 0.0126, 0.0134, 0.0141, 0.0149, 0.0156]}>>\n",
      "Fitting 12 folds for each of 29 candidates, totalling 348 fits\n"
     ]
    },
    {
     "name": "stderr",
     "output_type": "stream",
     "text": [
      "[Parallel(n_jobs=1)]: Done 348 out of 348 | elapsed:   42.1s finished\n"
     ]
    },
    {
     "name": "stdout",
     "output_type": "stream",
     "text": [
      "       Best parameters selected: <<{'C': 0.0052}>> for score <<0.678626633357061>>.\n",
      "       3. Grid Search model <<<class 'sklearn.svm.classes.LinearSVC'>>>; weight: <<{0: 1.0, 1: 249.31250000000003}>>; parameters: <<{'C': [0.001, 0.01, 0.1, 1.0, 10.0]}>>\n",
      "Fitting 12 folds for each of 5 candidates, totalling 60 fits\n"
     ]
    },
    {
     "name": "stderr",
     "output_type": "stream",
     "text": [
      "[Parallel(n_jobs=1)]: Done  60 out of  60 | elapsed:    8.2s finished\n"
     ]
    },
    {
     "name": "stdout",
     "output_type": "stream",
     "text": [
      "       Best parameters selected: <<{'C': 0.001}>> for score <<0.6600002068125641>>.\n",
      "       4. Grid Search model <<<class 'sklearn.svm.classes.LinearSVC'>>>; weight: <<{0: 1.0, 1: 249.31250000000003}>>; parameters: <<{'C': [0.0003, 0.0004, 0.0004, 0.0005, 0.0005, 0.0006, 0.0006, 0.0007, 0.0007, 0.0008, 0.0008, 0.0009, 0.0009, 0.001, 0.001, 0.0011, 0.0013, 0.0014, 0.0016, 0.0017, 0.0019, 0.002, 0.0021, 0.0023, 0.0024, 0.0026, 0.0027, 0.0029, 0.003]}>>\n",
      "Fitting 12 folds for each of 29 candidates, totalling 348 fits\n"
     ]
    },
    {
     "name": "stderr",
     "output_type": "stream",
     "text": [
      "[Parallel(n_jobs=1)]: Done 348 out of 348 | elapsed:   28.9s finished\n"
     ]
    },
    {
     "name": "stdout",
     "output_type": "stream",
     "text": [
      "       Best parameters selected: <<{'C': 0.0027}>> for score <<0.6796294411558372>>.\n",
      "       5. Grid Search model <<<class 'sklearn.svm.classes.LinearSVC'>>>; weight: <<{0: 1.0, 1: 249.31250000000003}>>; parameters: <<{'C': [0.0009, 0.001, 0.0012, 0.0013, 0.0014, 0.0015, 0.0017, 0.0018, 0.0019, 0.0021, 0.0022, 0.0023, 0.0024, 0.0026, 0.0027, 0.0031, 0.0035, 0.0039, 0.0042, 0.0046, 0.005, 0.0054, 0.0058, 0.0062, 0.0066, 0.0069, 0.0073, 0.0077, 0.0081]}>>\n",
      "Fitting 12 folds for each of 29 candidates, totalling 348 fits\n"
     ]
    },
    {
     "name": "stderr",
     "output_type": "stream",
     "text": [
      "[Parallel(n_jobs=1)]: Done 348 out of 348 | elapsed:   42.2s finished\n"
     ]
    },
    {
     "name": "stdout",
     "output_type": "stream",
     "text": [
      "       Best parameters selected: <<{'C': 0.0027}>> for score <<0.6796294411558372>>.\n",
      "       Final parameters selected: <<{'C': 0.0052}>> for score <<0.678626633357061>>.\n",
      "\n",
      "          *** Prev Score on validation dataset (macro/weighted) <<0.6120686824912177>> / <<0.8370118845500849>>.\n",
      "\n",
      "          *** Score on validation dataset (macro/weighted) <<0.6394280022766079>> / <<0.9255800792303339>>.\n",
      "[[3264  250]\n",
      " [  13    7]]\n",
      "\n",
      "-------------------------------------------------------------------\n",
      "    39. ReFit model for class: <<aid_related>> ((20025, 23980)).\n",
      "    Tuning hyper-parameters for class: <<aid_related>> (Recall).\n",
      "       1. Grid Search model <<<class 'sklearn.svm.classes.LinearSVC'>>>; weight: <<balanced>>; parameters: <<{'C': [0.001, 0.01, 0.1, 1.0, 10.0]}>>\n",
      "Fitting 12 folds for each of 5 candidates, totalling 60 fits\n"
     ]
    },
    {
     "name": "stderr",
     "output_type": "stream",
     "text": [
      "[Parallel(n_jobs=1)]: Done  60 out of  60 | elapsed:   18.4s finished\n"
     ]
    },
    {
     "name": "stdout",
     "output_type": "stream",
     "text": [
      "       Best parameters selected: <<{'C': 0.1}>> for score <<0.814250494884908>>.\n",
      "       2. Grid Search model <<<class 'sklearn.svm.classes.LinearSVC'>>>; weight: <<balanced>>; parameters: <<{'C': [0.0333, 0.0381, 0.0429, 0.0476, 0.0524, 0.0571, 0.0619, 0.0667, 0.0714, 0.0762, 0.081, 0.0857, 0.0905, 0.0952, 0.1, 0.1143, 0.1286, 0.1429, 0.1571, 0.1714, 0.1857, 0.2, 0.2143, 0.2286, 0.2429, 0.2571, 0.2714, 0.2857, 0.3]}>>\n",
      "Fitting 12 folds for each of 29 candidates, totalling 348 fits\n"
     ]
    },
    {
     "name": "stderr",
     "output_type": "stream",
     "text": [
      "[Parallel(n_jobs=1)]: Done 348 out of 348 | elapsed:   26.8s finished\n"
     ]
    },
    {
     "name": "stdout",
     "output_type": "stream",
     "text": [
      "       Best parameters selected: <<{'C': 0.1571}>> for score <<0.8152555768675024>>.\n",
      "       3. Grid Search model <<<class 'sklearn.svm.classes.LinearSVC'>>>; weight: <<balanced>>; parameters: <<{'C': [0.0524, 0.0598, 0.0673, 0.0748, 0.0823, 0.0898, 0.0973, 0.1047, 0.1122, 0.1197, 0.1272, 0.1347, 0.1421, 0.1496, 0.1571, 0.1795, 0.202, 0.2244, 0.2469, 0.2693, 0.2918, 0.3142, 0.3366, 0.3591, 0.3815, 0.404, 0.4264, 0.4489, 0.4713]}>>\n",
      "Fitting 12 folds for each of 29 candidates, totalling 348 fits\n"
     ]
    },
    {
     "name": "stderr",
     "output_type": "stream",
     "text": [
      "[Parallel(n_jobs=1)]: Done 348 out of 348 | elapsed:   35.5s finished\n"
     ]
    },
    {
     "name": "stdout",
     "output_type": "stream",
     "text": [
      "       Best parameters selected: <<{'C': 0.1496}>> for score <<0.8153831286886477>>.\n",
      "       4. Grid Search model <<<class 'sklearn.svm.classes.LinearSVC'>>>; weight: <<balanced>>; parameters: <<{'C': [0.0499, 0.057, 0.0641, 0.0712, 0.0784, 0.0855, 0.0926, 0.0997, 0.1069, 0.114, 0.1211, 0.1282, 0.1354, 0.1425, 0.1496, 0.171, 0.1923, 0.2137, 0.2351, 0.2565, 0.2778, 0.2992, 0.3206, 0.3419, 0.3633, 0.3847, 0.4061, 0.4274, 0.4488]}>>\n",
      "Fitting 12 folds for each of 29 candidates, totalling 348 fits\n"
     ]
    },
    {
     "name": "stderr",
     "output_type": "stream",
     "text": [
      "[Parallel(n_jobs=1)]: Done 348 out of 348 | elapsed:   33.8s finished\n"
     ]
    },
    {
     "name": "stdout",
     "output_type": "stream",
     "text": [
      "       Best parameters selected: <<{'C': 0.1496}>> for score <<0.8153831286886477>>.\n",
      "       4. Grid Search model <<<class 'sklearn.svm.classes.LinearSVC'>>>; weight: <<{0: 1.0, 1: 2.843976777939042}>>; parameters: <<{'C': [0.001, 0.01, 0.1, 1.0, 10.0]}>>\n",
      "Fitting 12 folds for each of 5 candidates, totalling 60 fits\n"
     ]
    },
    {
     "name": "stderr",
     "output_type": "stream",
     "text": [
      "[Parallel(n_jobs=1)]: Done  60 out of  60 | elapsed:   22.0s finished\n"
     ]
    },
    {
     "name": "stdout",
     "output_type": "stream",
     "text": [
      "       Best parameters selected: <<{'C': 0.1}>> for score <<0.8048803822115382>>.\n",
      "       5. Grid Search model <<<class 'sklearn.svm.classes.LinearSVC'>>>; weight: <<{0: 1.0, 1: 2.843976777939042}>>; parameters: <<{'C': [0.0333, 0.0381, 0.0429, 0.0476, 0.0524, 0.0571, 0.0619, 0.0667, 0.0714, 0.0762, 0.081, 0.0857, 0.0905, 0.0952, 0.1, 0.1143, 0.1286, 0.1429, 0.1571, 0.1714, 0.1857, 0.2, 0.2143, 0.2286, 0.2429, 0.2571, 0.2714, 0.2857, 0.3]}>>\n",
      "Fitting 12 folds for each of 29 candidates, totalling 348 fits\n"
     ]
    },
    {
     "name": "stderr",
     "output_type": "stream",
     "text": [
      "[Parallel(n_jobs=1)]: Done 348 out of 348 | elapsed:   42.9s finished\n"
     ]
    },
    {
     "name": "stdout",
     "output_type": "stream",
     "text": [
      "       Best parameters selected: <<{'C': 0.1429}>> for score <<0.8056617707008769>>.\n",
      "       6. Grid Search model <<<class 'sklearn.svm.classes.LinearSVC'>>>; weight: <<{0: 1.0, 1: 2.843976777939042}>>; parameters: <<{'C': [0.0476, 0.0544, 0.0612, 0.068, 0.0749, 0.0817, 0.0885, 0.0953, 0.1021, 0.1089, 0.1157, 0.1225, 0.1293, 0.1361, 0.1429, 0.1633, 0.1837, 0.2041, 0.2246, 0.245, 0.2654, 0.2858, 0.3062, 0.3266, 0.347, 0.3675, 0.3879, 0.4083, 0.4287]}>>\n",
      "Fitting 12 folds for each of 29 candidates, totalling 348 fits\n"
     ]
    },
    {
     "name": "stderr",
     "output_type": "stream",
     "text": [
      "[Parallel(n_jobs=1)]: Done 348 out of 348 | elapsed:   55.0s finished\n"
     ]
    },
    {
     "name": "stdout",
     "output_type": "stream",
     "text": [
      "       Best parameters selected: <<{'C': 0.1429}>> for score <<0.8056617707008769>>.\n",
      "       Final parameters selected: <<{'C': 0.1496}>> for score <<0.8153831286886477>>.\n",
      "\n",
      "          *** Prev Score on validation dataset (macro/weighted) <<0.7729275354210666>> / <<0.7775891341256367>>.\n",
      "\n",
      "          *** Score on validation dataset (macro/weighted) <<0.8139942957712506>> / <<0.8239954725523486>>.\n",
      "[[1793  248]\n",
      " [ 374 1119]]\n",
      "\n",
      "          *** Model has been refitted from <<0.7732095601150282>> to <<0.8153831286886477>>.\n",
      "\n",
      "-------------------------------------------------------------------\n",
      "    40. ReFit model for class: <<medical_help>> ((20025, 23980)).\n",
      "    Tuning hyper-parameters for class: <<medical_help>> (Recall).\n",
      "       1. Grid Search model <<<class 'sklearn.svm.classes.LinearSVC'>>>; weight: <<balanced>>; parameters: <<{'C': [0.001, 0.01, 0.1, 1.0, 10.0]}>>\n",
      "Fitting 12 folds for each of 5 candidates, totalling 60 fits\n"
     ]
    },
    {
     "name": "stderr",
     "output_type": "stream",
     "text": [
      "[Parallel(n_jobs=1)]: Done  60 out of  60 | elapsed:   18.4s finished\n"
     ]
    },
    {
     "name": "stdout",
     "output_type": "stream",
     "text": [
      "       Best parameters selected: <<{'C': 0.1}>> for score <<0.7786665832954068>>.\n",
      "       2. Grid Search model <<<class 'sklearn.svm.classes.LinearSVC'>>>; weight: <<balanced>>; parameters: <<{'C': [0.0333, 0.0381, 0.0429, 0.0476, 0.0524, 0.0571, 0.0619, 0.0667, 0.0714, 0.0762, 0.081, 0.0857, 0.0905, 0.0952, 0.1, 0.1143, 0.1286, 0.1429, 0.1571, 0.1714, 0.1857, 0.2, 0.2143, 0.2286, 0.2429, 0.2571, 0.2714, 0.2857, 0.3]}>>\n",
      "Fitting 12 folds for each of 29 candidates, totalling 348 fits\n"
     ]
    },
    {
     "name": "stderr",
     "output_type": "stream",
     "text": [
      "[Parallel(n_jobs=1)]: Done 348 out of 348 | elapsed:  1.0min finished\n"
     ]
    },
    {
     "name": "stdout",
     "output_type": "stream",
     "text": [
      "       Best parameters selected: <<{'C': 0.0476}>> for score <<0.7850022582056245>>.\n",
      "       3. Grid Search model <<<class 'sklearn.svm.classes.LinearSVC'>>>; weight: <<balanced>>; parameters: <<{'C': [0.0159, 0.0181, 0.0204, 0.0227, 0.0249, 0.0272, 0.0295, 0.0317, 0.034, 0.0363, 0.0385, 0.0408, 0.0431, 0.0453, 0.0476, 0.0544, 0.0612, 0.068, 0.0748, 0.0816, 0.0884, 0.0952, 0.102, 0.1088, 0.1156, 0.1224, 0.1292, 0.136, 0.1428]}>>\n",
      "Fitting 12 folds for each of 29 candidates, totalling 348 fits\n"
     ]
    },
    {
     "name": "stderr",
     "output_type": "stream",
     "text": [
      "[Parallel(n_jobs=1)]: Done 348 out of 348 | elapsed:   40.8s finished\n"
     ]
    },
    {
     "name": "stdout",
     "output_type": "stream",
     "text": [
      "       Best parameters selected: <<{'C': 0.0408}>> for score <<0.7853810701179544>>.\n",
      "       4. Grid Search model <<<class 'sklearn.svm.classes.LinearSVC'>>>; weight: <<balanced>>; parameters: <<{'C': [0.0136, 0.0155, 0.0175, 0.0194, 0.0214, 0.0233, 0.0253, 0.0272, 0.0291, 0.0311, 0.033, 0.035, 0.0369, 0.0389, 0.0408, 0.0466, 0.0525, 0.0583, 0.0641, 0.0699, 0.0758, 0.0816, 0.0874, 0.0933, 0.0991, 0.1049, 0.1107, 0.1166, 0.1224]}>>\n",
      "Fitting 12 folds for each of 29 candidates, totalling 348 fits\n"
     ]
    },
    {
     "name": "stderr",
     "output_type": "stream",
     "text": [
      "[Parallel(n_jobs=1)]: Done 348 out of 348 | elapsed:   37.3s finished\n"
     ]
    },
    {
     "name": "stdout",
     "output_type": "stream",
     "text": [
      "       Best parameters selected: <<{'C': 0.0408}>> for score <<0.7853810701179544>>.\n",
      "       4. Grid Search model <<<class 'sklearn.svm.classes.LinearSVC'>>>; weight: <<{0: 1.0, 1: 23.558391831525206}>>; parameters: <<{'C': [0.001, 0.01, 0.1, 1.0, 10.0]}>>\n",
      "Fitting 12 folds for each of 5 candidates, totalling 60 fits\n"
     ]
    },
    {
     "name": "stderr",
     "output_type": "stream",
     "text": [
      "[Parallel(n_jobs=1)]: Done  60 out of  60 | elapsed:   25.4s finished\n"
     ]
    },
    {
     "name": "stdout",
     "output_type": "stream",
     "text": [
      "       Best parameters selected: <<{'C': 0.1}>> for score <<0.7733262627058388>>.\n",
      "       5. Grid Search model <<<class 'sklearn.svm.classes.LinearSVC'>>>; weight: <<{0: 1.0, 1: 23.558391831525206}>>; parameters: <<{'C': [0.0333, 0.0381, 0.0429, 0.0476, 0.0524, 0.0571, 0.0619, 0.0667, 0.0714, 0.0762, 0.081, 0.0857, 0.0905, 0.0952, 0.1, 0.1143, 0.1286, 0.1429, 0.1571, 0.1714, 0.1857, 0.2, 0.2143, 0.2286, 0.2429, 0.2571, 0.2714, 0.2857, 0.3]}>>\n",
      "Fitting 12 folds for each of 29 candidates, totalling 348 fits\n"
     ]
    },
    {
     "name": "stderr",
     "output_type": "stream",
     "text": [
      "[Parallel(n_jobs=1)]: Done 348 out of 348 | elapsed:  2.4min finished\n"
     ]
    },
    {
     "name": "stdout",
     "output_type": "stream",
     "text": [
      "       Best parameters selected: <<{'C': 0.0333}>> for score <<0.7852314967410676>>.\n",
      "       6. Grid Search model <<<class 'sklearn.svm.classes.LinearSVC'>>>; weight: <<{0: 1.0, 1: 23.558391831525206}>>; parameters: <<{'C': [0.0111, 0.0127, 0.0143, 0.0159, 0.0174, 0.019, 0.0206, 0.0222, 0.0238, 0.0254, 0.027, 0.0285, 0.0301, 0.0317, 0.0333, 0.0381, 0.0428, 0.0476, 0.0523, 0.0571, 0.0618, 0.0666, 0.0714, 0.0761, 0.0809, 0.0856, 0.0904, 0.0951, 0.0999]}>>\n",
      "Fitting 12 folds for each of 29 candidates, totalling 348 fits\n"
     ]
    },
    {
     "name": "stderr",
     "output_type": "stream",
     "text": [
      "[Parallel(n_jobs=1)]: Done 348 out of 348 | elapsed:  1.2min finished\n"
     ]
    },
    {
     "name": "stdout",
     "output_type": "stream",
     "text": [
      "       Best parameters selected: <<{'C': 0.0333}>> for score <<0.7852314967410676>>.\n",
      "       Final parameters selected: <<{'C': 0.0408}>> for score <<0.7853810701179544>>.\n",
      "\n",
      "          *** Prev Score on validation dataset (macro/weighted) <<0.7813307647558103>> / <<0.8828522920203735>>.\n",
      "\n",
      "          *** Score on validation dataset (macro/weighted) <<0.7722771647736124>> / <<0.8805885681946802>>.\n",
      "[[2925  318]\n",
      " [ 104  187]]\n",
      "\n",
      "          *** Model has been refitted from <<0.7828959947798513>> to <<0.7853810701179544>>.\n",
      "\n",
      "-------------------------------------------------------------------\n",
      "    41. ReFit model for class: <<medical_products>> ((20025, 23980)).\n",
      "    Tuning hyper-parameters for class: <<medical_products>> (Recall).\n",
      "       1. Grid Search model <<<class 'sklearn.svm.classes.LinearSVC'>>>; weight: <<balanced>>; parameters: <<{'C': [0.001, 0.01, 0.1, 1.0, 10.0]}>>\n",
      "Fitting 12 folds for each of 5 candidates, totalling 60 fits\n"
     ]
    },
    {
     "name": "stderr",
     "output_type": "stream",
     "text": [
      "[Parallel(n_jobs=1)]: Done  60 out of  60 | elapsed:   14.4s finished\n"
     ]
    },
    {
     "name": "stdout",
     "output_type": "stream",
     "text": [
      "       Best parameters selected: <<{'C': 0.1}>> for score <<0.8041593374370422>>.\n",
      "       2. Grid Search model <<<class 'sklearn.svm.classes.LinearSVC'>>>; weight: <<balanced>>; parameters: <<{'C': [0.0333, 0.0381, 0.0429, 0.0476, 0.0524, 0.0571, 0.0619, 0.0667, 0.0714, 0.0762, 0.081, 0.0857, 0.0905, 0.0952, 0.1, 0.1143, 0.1286, 0.1429, 0.1571, 0.1714, 0.1857, 0.2, 0.2143, 0.2286, 0.2429, 0.2571, 0.2714, 0.2857, 0.3]}>>\n",
      "Fitting 12 folds for each of 29 candidates, totalling 348 fits\n"
     ]
    },
    {
     "name": "stderr",
     "output_type": "stream",
     "text": [
      "[Parallel(n_jobs=1)]: Done 348 out of 348 | elapsed:  1.2min finished\n"
     ]
    },
    {
     "name": "stdout",
     "output_type": "stream",
     "text": [
      "       Best parameters selected: <<{'C': 0.0333}>> for score <<0.8080733804777289>>.\n",
      "       3. Grid Search model <<<class 'sklearn.svm.classes.LinearSVC'>>>; weight: <<balanced>>; parameters: <<{'C': [0.0111, 0.0127, 0.0143, 0.0159, 0.0174, 0.019, 0.0206, 0.0222, 0.0238, 0.0254, 0.027, 0.0285, 0.0301, 0.0317, 0.0333, 0.0381, 0.0428, 0.0476, 0.0523, 0.0571, 0.0618, 0.0666, 0.0714, 0.0761, 0.0809, 0.0856, 0.0904, 0.0951, 0.0999]}>>\n",
      "Fitting 12 folds for each of 29 candidates, totalling 348 fits\n"
     ]
    },
    {
     "name": "stderr",
     "output_type": "stream",
     "text": [
      "[Parallel(n_jobs=1)]: Done 348 out of 348 | elapsed:   43.5s finished\n"
     ]
    },
    {
     "name": "stdout",
     "output_type": "stream",
     "text": [
      "       Best parameters selected: <<{'C': 0.0222}>> for score <<0.8084066469764254>>.\n",
      "       4. Grid Search model <<<class 'sklearn.svm.classes.LinearSVC'>>>; weight: <<balanced>>; parameters: <<{'C': [0.0074, 0.0085, 0.0095, 0.0106, 0.0116, 0.0127, 0.0137, 0.0148, 0.0159, 0.0169, 0.018, 0.019, 0.0201, 0.0211, 0.0222, 0.0254, 0.0285, 0.0317, 0.0349, 0.0381, 0.0412, 0.0444, 0.0476, 0.0507, 0.0539, 0.0571, 0.0603, 0.0634, 0.0666]}>>\n",
      "Fitting 12 folds for each of 29 candidates, totalling 348 fits\n"
     ]
    },
    {
     "name": "stderr",
     "output_type": "stream",
     "text": [
      "[Parallel(n_jobs=1)]: Done 348 out of 348 | elapsed:   36.2s finished\n"
     ]
    },
    {
     "name": "stdout",
     "output_type": "stream",
     "text": [
      "       Best parameters selected: <<{'C': 0.0222}>> for score <<0.8084066469764254>>.\n",
      "       4. Grid Search model <<<class 'sklearn.svm.classes.LinearSVC'>>>; weight: <<{0: 1.0, 1: 38.41372351160444}>>; parameters: <<{'C': [0.001, 0.01, 0.1, 1.0, 10.0]}>>\n",
      "Fitting 12 folds for each of 5 candidates, totalling 60 fits\n"
     ]
    },
    {
     "name": "stderr",
     "output_type": "stream",
     "text": [
      "[Parallel(n_jobs=1)]: Done  60 out of  60 | elapsed:   19.4s finished\n"
     ]
    },
    {
     "name": "stdout",
     "output_type": "stream",
     "text": [
      "       Best parameters selected: <<{'C': 0.01}>> for score <<0.8161405740189104>>.\n",
      "       5. Grid Search model <<<class 'sklearn.svm.classes.LinearSVC'>>>; weight: <<{0: 1.0, 1: 38.41372351160444}>>; parameters: <<{'C': [0.0033, 0.0038, 0.0043, 0.0048, 0.0052, 0.0057, 0.0062, 0.0067, 0.0071, 0.0076, 0.0081, 0.0086, 0.009, 0.0095, 0.01, 0.0114, 0.0129, 0.0143, 0.0157, 0.0171, 0.0186, 0.02, 0.0214, 0.0229, 0.0243, 0.0257, 0.0271, 0.0286, 0.03]}>>\n",
      "Fitting 12 folds for each of 29 candidates, totalling 348 fits\n"
     ]
    },
    {
     "name": "stderr",
     "output_type": "stream",
     "text": [
      "[Parallel(n_jobs=1)]: Done 348 out of 348 | elapsed:   45.6s finished\n"
     ]
    },
    {
     "name": "stdout",
     "output_type": "stream",
     "text": [
      "       Best parameters selected: <<{'C': 0.0143}>> for score <<0.8193856102803614>>.\n",
      "       6. Grid Search model <<<class 'sklearn.svm.classes.LinearSVC'>>>; weight: <<{0: 1.0, 1: 38.41372351160444}>>; parameters: <<{'C': [0.0048, 0.0054, 0.0061, 0.0068, 0.0075, 0.0082, 0.0089, 0.0095, 0.0102, 0.0109, 0.0116, 0.0123, 0.0129, 0.0136, 0.0143, 0.0163, 0.0184, 0.0204, 0.0225, 0.0245, 0.0266, 0.0286, 0.0306, 0.0327, 0.0347, 0.0368, 0.0388, 0.0409, 0.0429]}>>\n",
      "Fitting 12 folds for each of 29 candidates, totalling 348 fits\n"
     ]
    },
    {
     "name": "stderr",
     "output_type": "stream",
     "text": [
      "[Parallel(n_jobs=1)]: Done 348 out of 348 | elapsed:   55.0s finished\n"
     ]
    },
    {
     "name": "stdout",
     "output_type": "stream",
     "text": [
      "       Best parameters selected: <<{'C': 0.0136}>> for score <<0.8195289991261544>>.\n",
      "       7. Grid Search model <<<class 'sklearn.svm.classes.LinearSVC'>>>; weight: <<{0: 1.0, 1: 38.41372351160444}>>; parameters: <<{'C': [0.0045, 0.0052, 0.0058, 0.0065, 0.0071, 0.0078, 0.0084, 0.0091, 0.0097, 0.0104, 0.011, 0.0117, 0.0123, 0.013, 0.0136, 0.0155, 0.0175, 0.0194, 0.0214, 0.0233, 0.0253, 0.0272, 0.0291, 0.0311, 0.033, 0.035, 0.0369, 0.0389, 0.0408]}>>\n",
      "Fitting 12 folds for each of 29 candidates, totalling 348 fits\n"
     ]
    },
    {
     "name": "stderr",
     "output_type": "stream",
     "text": [
      "[Parallel(n_jobs=1)]: Done 348 out of 348 | elapsed:   52.6s finished\n"
     ]
    },
    {
     "name": "stdout",
     "output_type": "stream",
     "text": [
      "       Best parameters selected: <<{'C': 0.0155}>> for score <<0.8196069737995447>>.\n",
      "       8. Grid Search model <<<class 'sklearn.svm.classes.LinearSVC'>>>; weight: <<{0: 1.0, 1: 38.41372351160444}>>; parameters: <<{'C': [0.0052, 0.0059, 0.0066, 0.0074, 0.0081, 0.0089, 0.0096, 0.0103, 0.0111, 0.0118, 0.0125, 0.0133, 0.014, 0.0148, 0.0155, 0.0177, 0.0199, 0.0221, 0.0244, 0.0266, 0.0288, 0.031, 0.0332, 0.0354, 0.0376, 0.0399, 0.0421, 0.0443, 0.0465]}>>\n",
      "Fitting 12 folds for each of 29 candidates, totalling 348 fits\n"
     ]
    },
    {
     "name": "stderr",
     "output_type": "stream",
     "text": [
      "[Parallel(n_jobs=1)]: Done 348 out of 348 | elapsed:   56.7s finished\n"
     ]
    },
    {
     "name": "stdout",
     "output_type": "stream",
     "text": [
      "       Best parameters selected: <<{'C': 0.0148}>> for score <<0.8196132446769104>>.\n",
      "       9. Grid Search model <<<class 'sklearn.svm.classes.LinearSVC'>>>; weight: <<{0: 1.0, 1: 38.41372351160444}>>; parameters: <<{'C': [0.0049, 0.0056, 0.0063, 0.007, 0.0078, 0.0085, 0.0092, 0.0099, 0.0106, 0.0113, 0.012, 0.0127, 0.0134, 0.0141, 0.0148, 0.0169, 0.019, 0.0211, 0.0233, 0.0254, 0.0275, 0.0296, 0.0317, 0.0338, 0.0359, 0.0381, 0.0402, 0.0423, 0.0444]}>>\n",
      "Fitting 12 folds for each of 29 candidates, totalling 348 fits\n"
     ]
    },
    {
     "name": "stderr",
     "output_type": "stream",
     "text": [
      "[Parallel(n_jobs=1)]: Done 348 out of 348 | elapsed:   55.2s finished\n"
     ]
    },
    {
     "name": "stdout",
     "output_type": "stream",
     "text": [
      "       Best parameters selected: <<{'C': 0.0134}>> for score <<0.8196953676672994>>.\n",
      "       10. Grid Search model <<<class 'sklearn.svm.classes.LinearSVC'>>>; weight: <<{0: 1.0, 1: 38.41372351160444}>>; parameters: <<{'C': [0.0045, 0.0051, 0.0057, 0.0064, 0.007, 0.0077, 0.0083, 0.0089, 0.0096, 0.0102, 0.0108, 0.0115, 0.0121, 0.0128, 0.0134, 0.0153, 0.0172, 0.0191, 0.0211, 0.023, 0.0249, 0.0268, 0.0287, 0.0306, 0.0325, 0.0345, 0.0364, 0.0383, 0.0402]}>>\n",
      "Fitting 12 folds for each of 29 candidates, totalling 348 fits\n"
     ]
    },
    {
     "name": "stderr",
     "output_type": "stream",
     "text": [
      "[Parallel(n_jobs=1)]: Done 348 out of 348 | elapsed:   53.3s finished\n"
     ]
    },
    {
     "name": "stdout",
     "output_type": "stream",
     "text": [
      "       Best parameters selected: <<{'C': 0.0153}>> for score <<0.8198203764808907>>.\n",
      "       11. Grid Search model <<<class 'sklearn.svm.classes.LinearSVC'>>>; weight: <<{0: 1.0, 1: 38.41372351160444}>>; parameters: <<{'C': [0.0051, 0.0058, 0.0066, 0.0073, 0.008, 0.0087, 0.0095, 0.0102, 0.0109, 0.0117, 0.0124, 0.0131, 0.0138, 0.0146, 0.0153, 0.0175, 0.0197, 0.0219, 0.024, 0.0262, 0.0284, 0.0306, 0.0328, 0.035, 0.0372, 0.0393, 0.0415, 0.0437, 0.0459]}>>\n",
      "Fitting 12 folds for each of 29 candidates, totalling 348 fits\n"
     ]
    },
    {
     "name": "stderr",
     "output_type": "stream",
     "text": [
      "[Parallel(n_jobs=1)]: Done 348 out of 348 | elapsed:   56.2s finished\n"
     ]
    },
    {
     "name": "stdout",
     "output_type": "stream",
     "text": [
      "       Best parameters selected: <<{'C': 0.0153}>> for score <<0.8198203764808907>>.\n",
      "       Final parameters selected: <<{'C': 0.0222}>> for score <<0.8084066469764254>>.\n",
      "\n",
      "          *** Prev Score on validation dataset (macro/weighted) <<0.7491039426523298>> / <<0.8926146010186757>>.\n",
      "\n",
      "          *** Score on validation dataset (macro/weighted) <<0.7726763093708201>> / <<0.898981324278438>>.\n",
      "[[3062  290]\n",
      " [  67  115]]\n",
      "\n",
      "          *** Model has been refitted from <<0.7928408099032753>> to <<0.8084066469764254>>.\n",
      "\n",
      "-------------------------------------------------------------------\n",
      "    42. ReFit model for class: <<search_and_rescue>> ((20025, 23980)).\n",
      "    Tuning hyper-parameters for class: <<search_and_rescue>> (Recall).\n",
      "       1. Grid Search model <<<class 'sklearn.svm.classes.LinearSVC'>>>; weight: <<balanced>>; parameters: <<{'C': [0.001, 0.01, 0.1, 1.0, 10.0]}>>\n",
      "Fitting 12 folds for each of 5 candidates, totalling 60 fits\n"
     ]
    },
    {
     "name": "stderr",
     "output_type": "stream",
     "text": [
      "[Parallel(n_jobs=1)]: Done  60 out of  60 | elapsed:   16.1s finished\n"
     ]
    },
    {
     "name": "stdout",
     "output_type": "stream",
     "text": [
      "       Best parameters selected: <<{'C': 0.01}>> for score <<0.7227684536952508>>.\n",
      "       2. Grid Search model <<<class 'sklearn.svm.classes.LinearSVC'>>>; weight: <<balanced>>; parameters: <<{'C': [0.0033, 0.0038, 0.0043, 0.0048, 0.0052, 0.0057, 0.0062, 0.0067, 0.0071, 0.0076, 0.0081, 0.0086, 0.009, 0.0095, 0.01, 0.0114, 0.0129, 0.0143, 0.0157, 0.0171, 0.0186, 0.02, 0.0214, 0.0229, 0.0243, 0.0257, 0.0271, 0.0286, 0.03]}>>\n",
      "Fitting 12 folds for each of 29 candidates, totalling 348 fits\n"
     ]
    },
    {
     "name": "stderr",
     "output_type": "stream",
     "text": [
      "[Parallel(n_jobs=1)]: Done 348 out of 348 | elapsed:   31.1s finished\n"
     ]
    },
    {
     "name": "stdout",
     "output_type": "stream",
     "text": [
      "       Best parameters selected: <<{'C': 0.0071}>> for score <<0.7270855052765121>>.\n",
      "       3. Grid Search model <<<class 'sklearn.svm.classes.LinearSVC'>>>; weight: <<balanced>>; parameters: <<{'C': [0.0024, 0.0027, 0.003, 0.0034, 0.0037, 0.0041, 0.0044, 0.0047, 0.0051, 0.0054, 0.0057, 0.0061, 0.0064, 0.0068, 0.0071, 0.0081, 0.0091, 0.0101, 0.0112, 0.0122, 0.0132, 0.0142, 0.0152, 0.0162, 0.0172, 0.0183, 0.0193, 0.0203, 0.0213]}>>\n",
      "Fitting 12 folds for each of 29 candidates, totalling 348 fits\n"
     ]
    },
    {
     "name": "stderr",
     "output_type": "stream",
     "text": [
      "[Parallel(n_jobs=1)]: Done 348 out of 348 | elapsed:   26.3s finished\n"
     ]
    },
    {
     "name": "stdout",
     "output_type": "stream",
     "text": [
      "       Best parameters selected: <<{'C': 0.0071}>> for score <<0.7270855052765121>>.\n",
      "       3. Grid Search model <<<class 'sklearn.svm.classes.LinearSVC'>>>; weight: <<{0: 1.0, 1: 70.95081967213115}>>; parameters: <<{'C': [0.001, 0.01, 0.1, 1.0, 10.0]}>>\n",
      "Fitting 12 folds for each of 5 candidates, totalling 60 fits\n"
     ]
    },
    {
     "name": "stderr",
     "output_type": "stream",
     "text": [
      "[Parallel(n_jobs=1)]: Done  60 out of  60 | elapsed:   18.8s finished\n"
     ]
    },
    {
     "name": "stdout",
     "output_type": "stream",
     "text": [
      "       Best parameters selected: <<{'C': 0.01}>> for score <<0.7369692343570243>>.\n",
      "       4. Grid Search model <<<class 'sklearn.svm.classes.LinearSVC'>>>; weight: <<{0: 1.0, 1: 70.95081967213115}>>; parameters: <<{'C': [0.0033, 0.0038, 0.0043, 0.0048, 0.0052, 0.0057, 0.0062, 0.0067, 0.0071, 0.0076, 0.0081, 0.0086, 0.009, 0.0095, 0.01, 0.0114, 0.0129, 0.0143, 0.0157, 0.0171, 0.0186, 0.02, 0.0214, 0.0229, 0.0243, 0.0257, 0.0271, 0.0286, 0.03]}>>\n",
      "Fitting 12 folds for each of 29 candidates, totalling 348 fits\n"
     ]
    },
    {
     "name": "stderr",
     "output_type": "stream",
     "text": [
      "[Parallel(n_jobs=1)]: Done 348 out of 348 | elapsed:   59.9s finished\n"
     ]
    },
    {
     "name": "stdout",
     "output_type": "stream",
     "text": [
      "       Best parameters selected: <<{'C': 0.0114}>> for score <<0.7380863135230817>>.\n",
      "       5. Grid Search model <<<class 'sklearn.svm.classes.LinearSVC'>>>; weight: <<{0: 1.0, 1: 70.95081967213115}>>; parameters: <<{'C': [0.0038, 0.0043, 0.0049, 0.0054, 0.006, 0.0065, 0.0071, 0.0076, 0.0081, 0.0087, 0.0092, 0.0098, 0.0103, 0.0109, 0.0114, 0.013, 0.0147, 0.0163, 0.0179, 0.0195, 0.0212, 0.0228, 0.0244, 0.0261, 0.0277, 0.0293, 0.0309, 0.0326, 0.0342]}>>\n",
      "Fitting 12 folds for each of 29 candidates, totalling 348 fits\n"
     ]
    },
    {
     "name": "stderr",
     "output_type": "stream",
     "text": [
      "[Parallel(n_jobs=1)]: Done 348 out of 348 | elapsed:  1.1min finished\n"
     ]
    },
    {
     "name": "stdout",
     "output_type": "stream",
     "text": [
      "       Best parameters selected: <<{'C': 0.0109}>> for score <<0.7386989645567811>>.\n",
      "       6. Grid Search model <<<class 'sklearn.svm.classes.LinearSVC'>>>; weight: <<{0: 1.0, 1: 70.95081967213115}>>; parameters: <<{'C': [0.0036, 0.0042, 0.0047, 0.0052, 0.0057, 0.0062, 0.0067, 0.0073, 0.0078, 0.0083, 0.0088, 0.0093, 0.0099, 0.0104, 0.0109, 0.0125, 0.014, 0.0156, 0.0171, 0.0187, 0.0202, 0.0218, 0.0234, 0.0249, 0.0265, 0.028, 0.0296, 0.0311, 0.0327]}>>\n",
      "Fitting 12 folds for each of 29 candidates, totalling 348 fits\n"
     ]
    },
    {
     "name": "stderr",
     "output_type": "stream",
     "text": [
      "[Parallel(n_jobs=1)]: Done 348 out of 348 | elapsed:  1.0min finished\n"
     ]
    },
    {
     "name": "stdout",
     "output_type": "stream",
     "text": [
      "       Best parameters selected: <<{'C': 0.0104}>> for score <<0.7391513188278375>>.\n",
      "       7. Grid Search model <<<class 'sklearn.svm.classes.LinearSVC'>>>; weight: <<{0: 1.0, 1: 70.95081967213115}>>; parameters: <<{'C': [0.0035, 0.004, 0.0045, 0.005, 0.0054, 0.0059, 0.0064, 0.0069, 0.0074, 0.0079, 0.0084, 0.0089, 0.0094, 0.0099, 0.0104, 0.0119, 0.0134, 0.0149, 0.0163, 0.0178, 0.0193, 0.0208, 0.0223, 0.0238, 0.0253, 0.0267, 0.0282, 0.0297, 0.0312]}>>\n",
      "Fitting 12 folds for each of 29 candidates, totalling 348 fits\n"
     ]
    },
    {
     "name": "stderr",
     "output_type": "stream",
     "text": [
      "[Parallel(n_jobs=1)]: Done 348 out of 348 | elapsed:  1.0min finished\n"
     ]
    },
    {
     "name": "stdout",
     "output_type": "stream",
     "text": [
      "       Best parameters selected: <<{'C': 0.0104}>> for score <<0.7391513188278375>>.\n",
      "       Final parameters selected: <<{'C': 0.0071}>> for score <<0.7270855052765121>>.\n",
      "\n",
      "          *** Prev Score on validation dataset (macro/weighted) <<0.6940818102697999>> / <<0.8786078098471987>>.\n",
      "\n",
      "          *** Score on validation dataset (macro/weighted) <<0.7008137169427492>> / <<0.8655913978494624>>.\n",
      "[[3010  431]\n",
      " [  44   49]]\n",
      "\n",
      "          *** Model has been refitted from <<0.7101021889320488>> to <<0.7270855052765121>>.\n",
      "\n",
      "-------------------------------------------------------------------\n",
      "    43. ReFit model for class: <<security>> ((20025, 23980)).\n",
      "    Tuning hyper-parameters for class: <<security>> (Recall).\n",
      "       1. Grid Search model <<<class 'sklearn.svm.classes.LinearSVC'>>>; weight: <<balanced>>; parameters: <<{'C': [0.001, 0.01, 0.1, 1.0, 10.0]}>>\n",
      "Fitting 12 folds for each of 5 candidates, totalling 60 fits\n"
     ]
    },
    {
     "name": "stderr",
     "output_type": "stream",
     "text": [
      "[Parallel(n_jobs=1)]: Done  60 out of  60 | elapsed:   15.5s finished\n"
     ]
    },
    {
     "name": "stdout",
     "output_type": "stream",
     "text": [
      "       Best parameters selected: <<{'C': 0.01}>> for score <<0.6511102391088818>>.\n",
      "       2. Grid Search model <<<class 'sklearn.svm.classes.LinearSVC'>>>; weight: <<balanced>>; parameters: <<{'C': [0.0033, 0.0038, 0.0043, 0.0048, 0.0052, 0.0057, 0.0062, 0.0067, 0.0071, 0.0076, 0.0081, 0.0086, 0.009, 0.0095, 0.01, 0.0114, 0.0129, 0.0143, 0.0157, 0.0171, 0.0186, 0.02, 0.0214, 0.0229, 0.0243, 0.0257, 0.0271, 0.0286, 0.03]}>>\n",
      "Fitting 12 folds for each of 29 candidates, totalling 348 fits\n"
     ]
    },
    {
     "name": "stderr",
     "output_type": "stream",
     "text": [
      "[Parallel(n_jobs=1)]: Done 348 out of 348 | elapsed:   36.0s finished\n"
     ]
    },
    {
     "name": "stdout",
     "output_type": "stream",
     "text": [
      "       Best parameters selected: <<{'C': 0.0086}>> for score <<0.6524298307551456>>.\n",
      "       3. Grid Search model <<<class 'sklearn.svm.classes.LinearSVC'>>>; weight: <<balanced>>; parameters: <<{'C': [0.0029, 0.0033, 0.0037, 0.0041, 0.0045, 0.0049, 0.0053, 0.0057, 0.0061, 0.0066, 0.007, 0.0074, 0.0078, 0.0082, 0.0086, 0.0098, 0.0111, 0.0123, 0.0135, 0.0147, 0.016, 0.0172, 0.0184, 0.0197, 0.0209, 0.0221, 0.0233, 0.0246, 0.0258]}>>\n",
      "Fitting 12 folds for each of 29 candidates, totalling 348 fits\n"
     ]
    },
    {
     "name": "stderr",
     "output_type": "stream",
     "text": [
      "[Parallel(n_jobs=1)]: Done 348 out of 348 | elapsed:   33.3s finished\n"
     ]
    },
    {
     "name": "stdout",
     "output_type": "stream",
     "text": [
      "       Best parameters selected: <<{'C': 0.0086}>> for score <<0.6524298307551456>>.\n",
      "       3. Grid Search model <<<class 'sklearn.svm.classes.LinearSVC'>>>; weight: <<{0: 1.0, 1: 54.625}>>; parameters: <<{'C': [0.001, 0.01, 0.1, 1.0, 10.0]}>>\n",
      "Fitting 12 folds for each of 5 candidates, totalling 60 fits\n"
     ]
    },
    {
     "name": "stderr",
     "output_type": "stream",
     "text": [
      "[Parallel(n_jobs=1)]: Done  60 out of  60 | elapsed:   16.0s finished\n"
     ]
    },
    {
     "name": "stdout",
     "output_type": "stream",
     "text": [
      "       Best parameters selected: <<{'C': 0.001}>> for score <<0.6388574696717372>>.\n",
      "       4. Grid Search model <<<class 'sklearn.svm.classes.LinearSVC'>>>; weight: <<{0: 1.0, 1: 54.625}>>; parameters: <<{'C': [0.0003, 0.0004, 0.0004, 0.0005, 0.0005, 0.0006, 0.0006, 0.0007, 0.0007, 0.0008, 0.0008, 0.0009, 0.0009, 0.001, 0.001, 0.0011, 0.0013, 0.0014, 0.0016, 0.0017, 0.0019, 0.002, 0.0021, 0.0023, 0.0024, 0.0026, 0.0027, 0.0029, 0.003]}>>\n",
      "Fitting 12 folds for each of 29 candidates, totalling 348 fits\n"
     ]
    },
    {
     "name": "stderr",
     "output_type": "stream",
     "text": [
      "[Parallel(n_jobs=1)]: Done 348 out of 348 | elapsed:   17.2s finished\n"
     ]
    },
    {
     "name": "stdout",
     "output_type": "stream",
     "text": [
      "       Best parameters selected: <<{'C': 0.0029}>> for score <<0.6481116462793562>>.\n",
      "       5. Grid Search model <<<class 'sklearn.svm.classes.LinearSVC'>>>; weight: <<{0: 1.0, 1: 54.625}>>; parameters: <<{'C': [0.001, 0.0011, 0.0012, 0.0014, 0.0015, 0.0017, 0.0018, 0.0019, 0.0021, 0.0022, 0.0023, 0.0025, 0.0026, 0.0028, 0.0029, 0.0033, 0.0037, 0.0041, 0.0046, 0.005, 0.0054, 0.0058, 0.0062, 0.0066, 0.007, 0.0075, 0.0079, 0.0083, 0.0087]}>>\n",
      "Fitting 12 folds for each of 29 candidates, totalling 348 fits\n"
     ]
    },
    {
     "name": "stderr",
     "output_type": "stream",
     "text": [
      "[Parallel(n_jobs=1)]: Done 348 out of 348 | elapsed:   27.0s finished\n"
     ]
    },
    {
     "name": "stdout",
     "output_type": "stream",
     "text": [
      "       Best parameters selected: <<{'C': 0.0046}>> for score <<0.6519560658809584>>.\n",
      "       6. Grid Search model <<<class 'sklearn.svm.classes.LinearSVC'>>>; weight: <<{0: 1.0, 1: 54.625}>>; parameters: <<{'C': [0.0015, 0.0018, 0.002, 0.0022, 0.0024, 0.0026, 0.0028, 0.0031, 0.0033, 0.0035, 0.0037, 0.0039, 0.0042, 0.0044, 0.0046, 0.0053, 0.0059, 0.0066, 0.0072, 0.0079, 0.0085, 0.0092, 0.0099, 0.0105, 0.0112, 0.0118, 0.0125, 0.0131, 0.0138]}>>\n",
      "Fitting 12 folds for each of 29 candidates, totalling 348 fits\n"
     ]
    },
    {
     "name": "stderr",
     "output_type": "stream",
     "text": [
      "[Parallel(n_jobs=1)]: Done 348 out of 348 | elapsed:   34.1s finished\n"
     ]
    },
    {
     "name": "stdout",
     "output_type": "stream",
     "text": [
      "       Best parameters selected: <<{'C': 0.0044}>> for score <<0.6525315342894712>>.\n",
      "       7. Grid Search model <<<class 'sklearn.svm.classes.LinearSVC'>>>; weight: <<{0: 1.0, 1: 54.625}>>; parameters: <<{'C': [0.0015, 0.0017, 0.0019, 0.0021, 0.0023, 0.0025, 0.0027, 0.0029, 0.0031, 0.0034, 0.0036, 0.0038, 0.004, 0.0042, 0.0044, 0.005, 0.0057, 0.0063, 0.0069, 0.0075, 0.0082, 0.0088, 0.0094, 0.0101, 0.0107, 0.0113, 0.0119, 0.0126, 0.0132]}>>\n",
      "Fitting 12 folds for each of 29 candidates, totalling 348 fits\n"
     ]
    },
    {
     "name": "stderr",
     "output_type": "stream",
     "text": [
      "[Parallel(n_jobs=1)]: Done 348 out of 348 | elapsed:   33.3s finished\n"
     ]
    },
    {
     "name": "stdout",
     "output_type": "stream",
     "text": [
      "       Best parameters selected: <<{'C': 0.0038}>> for score <<0.6528086650576658>>.\n",
      "       8. Grid Search model <<<class 'sklearn.svm.classes.LinearSVC'>>>; weight: <<{0: 1.0, 1: 54.625}>>; parameters: <<{'C': [0.0013, 0.0014, 0.0016, 0.0018, 0.002, 0.0022, 0.0024, 0.0025, 0.0027, 0.0029, 0.0031, 0.0033, 0.0034, 0.0036, 0.0038, 0.0043, 0.0049, 0.0054, 0.006, 0.0065, 0.0071, 0.0076, 0.0081, 0.0087, 0.0092, 0.0098, 0.0103, 0.0109, 0.0114]}>>\n",
      "Fitting 12 folds for each of 29 candidates, totalling 348 fits\n"
     ]
    },
    {
     "name": "stderr",
     "output_type": "stream",
     "text": [
      "[Parallel(n_jobs=1)]: Done 348 out of 348 | elapsed:   31.2s finished\n"
     ]
    },
    {
     "name": "stdout",
     "output_type": "stream",
     "text": [
      "       Best parameters selected: <<{'C': 0.0038}>> for score <<0.6528086650576658>>.\n",
      "       Final parameters selected: <<{'C': 0.0086}>> for score <<0.6524298307551456>>.\n",
      "\n",
      "          *** Prev Score on validation dataset (macro/weighted) <<0.6557681590191343>> / <<0.8735144312393888>>.\n",
      "\n",
      "          *** Score on validation dataset (macro/weighted) <<0.6531798750694179>> / <<0.8938879456706282>>.\n",
      "[[3132  335]\n",
      " [  40   27]]\n",
      "\n",
      "-------------------------------------------------------------------\n",
      "    44. ReFit model for class: <<missing_people>> ((20025, 23980)).\n",
      "    Tuning hyper-parameters for class: <<missing_people>> (Recall).\n",
      "       1. Grid Search model <<<class 'sklearn.svm.classes.LinearSVC'>>>; weight: <<balanced>>; parameters: <<{'C': [0.001, 0.01, 0.1, 1.0, 10.0]}>>\n",
      "Fitting 12 folds for each of 5 candidates, totalling 60 fits\n"
     ]
    },
    {
     "name": "stderr",
     "output_type": "stream",
     "text": [
      "[Parallel(n_jobs=1)]: Done  60 out of  60 | elapsed:   12.1s finished\n"
     ]
    },
    {
     "name": "stdout",
     "output_type": "stream",
     "text": [
      "       Best parameters selected: <<{'C': 0.01}>> for score <<0.6709161451211453>>.\n",
      "       2. Grid Search model <<<class 'sklearn.svm.classes.LinearSVC'>>>; weight: <<balanced>>; parameters: <<{'C': [0.0033, 0.0038, 0.0043, 0.0048, 0.0052, 0.0057, 0.0062, 0.0067, 0.0071, 0.0076, 0.0081, 0.0086, 0.009, 0.0095, 0.01, 0.0114, 0.0129, 0.0143, 0.0157, 0.0171, 0.0186, 0.02, 0.0214, 0.0229, 0.0243, 0.0257, 0.0271, 0.0286, 0.03]}>>\n",
      "Fitting 12 folds for each of 29 candidates, totalling 348 fits\n"
     ]
    },
    {
     "name": "stderr",
     "output_type": "stream",
     "text": [
      "[Parallel(n_jobs=1)]: Done 348 out of 348 | elapsed:   41.9s finished\n"
     ]
    },
    {
     "name": "stdout",
     "output_type": "stream",
     "text": [
      "       Best parameters selected: <<{'C': 0.0038}>> for score <<0.6753087416996455>>.\n",
      "       3. Grid Search model <<<class 'sklearn.svm.classes.LinearSVC'>>>; weight: <<balanced>>; parameters: <<{'C': [0.0013, 0.0014, 0.0016, 0.0018, 0.002, 0.0022, 0.0024, 0.0025, 0.0027, 0.0029, 0.0031, 0.0033, 0.0034, 0.0036, 0.0038, 0.0043, 0.0049, 0.0054, 0.006, 0.0065, 0.0071, 0.0076, 0.0081, 0.0087, 0.0092, 0.0098, 0.0103, 0.0109, 0.0114]}>>\n",
      "Fitting 12 folds for each of 29 candidates, totalling 348 fits\n"
     ]
    },
    {
     "name": "stderr",
     "output_type": "stream",
     "text": [
      "[Parallel(n_jobs=1)]: Done 348 out of 348 | elapsed:   28.4s finished\n"
     ]
    },
    {
     "name": "stdout",
     "output_type": "stream",
     "text": [
      "       Best parameters selected: <<{'C': 0.0027}>> for score <<0.676768106939787>>.\n",
      "       4. Grid Search model <<<class 'sklearn.svm.classes.LinearSVC'>>>; weight: <<balanced>>; parameters: <<{'C': [0.0009, 0.001, 0.0012, 0.0013, 0.0014, 0.0015, 0.0017, 0.0018, 0.0019, 0.0021, 0.0022, 0.0023, 0.0024, 0.0026, 0.0027, 0.0031, 0.0035, 0.0039, 0.0042, 0.0046, 0.005, 0.0054, 0.0058, 0.0062, 0.0066, 0.0069, 0.0073, 0.0077, 0.0081]}>>\n",
      "Fitting 12 folds for each of 29 candidates, totalling 348 fits\n"
     ]
    },
    {
     "name": "stderr",
     "output_type": "stream",
     "text": [
      "[Parallel(n_jobs=1)]: Done 348 out of 348 | elapsed:   24.1s finished\n"
     ]
    },
    {
     "name": "stdout",
     "output_type": "stream",
     "text": [
      "       Best parameters selected: <<{'C': 0.0027}>> for score <<0.676768106939787>>.\n",
      "       4. Grid Search model <<<class 'sklearn.svm.classes.LinearSVC'>>>; weight: <<{0: 1.0, 1: 94.35714285714286}>>; parameters: <<{'C': [0.001, 0.01, 0.1, 1.0, 10.0]}>>\n",
      "Fitting 12 folds for each of 5 candidates, totalling 60 fits\n"
     ]
    },
    {
     "name": "stderr",
     "output_type": "stream",
     "text": [
      "[Parallel(n_jobs=1)]: Done  60 out of  60 | elapsed:   12.1s finished\n"
     ]
    },
    {
     "name": "stdout",
     "output_type": "stream",
     "text": [
      "       Best parameters selected: <<{'C': 0.001}>> for score <<0.6719028253101744>>.\n",
      "       5. Grid Search model <<<class 'sklearn.svm.classes.LinearSVC'>>>; weight: <<{0: 1.0, 1: 94.35714285714286}>>; parameters: <<{'C': [0.0003, 0.0004, 0.0004, 0.0005, 0.0005, 0.0006, 0.0006, 0.0007, 0.0007, 0.0008, 0.0008, 0.0009, 0.0009, 0.001, 0.001, 0.0011, 0.0013, 0.0014, 0.0016, 0.0017, 0.0019, 0.002, 0.0021, 0.0023, 0.0024, 0.0026, 0.0027, 0.0029, 0.003]}>>\n",
      "Fitting 12 folds for each of 29 candidates, totalling 348 fits\n"
     ]
    },
    {
     "name": "stderr",
     "output_type": "stream",
     "text": [
      "[Parallel(n_jobs=1)]: Done 348 out of 348 | elapsed:   21.5s finished\n"
     ]
    },
    {
     "name": "stdout",
     "output_type": "stream",
     "text": [
      "       Best parameters selected: <<{'C': 0.0014}>> for score <<0.6770709975865791>>.\n",
      "       6. Grid Search model <<<class 'sklearn.svm.classes.LinearSVC'>>>; weight: <<{0: 1.0, 1: 94.35714285714286}>>; parameters: <<{'C': [0.0005, 0.0005, 0.0006, 0.0007, 0.0007, 0.0008, 0.0009, 0.0009, 0.001, 0.0011, 0.0011, 0.0012, 0.0013, 0.0013, 0.0014, 0.0016, 0.0018, 0.002, 0.0022, 0.0024, 0.0026, 0.0028, 0.003, 0.0032, 0.0034, 0.0036, 0.0038, 0.004, 0.0042]}>>\n",
      "Fitting 12 folds for each of 29 candidates, totalling 348 fits\n"
     ]
    },
    {
     "name": "stderr",
     "output_type": "stream",
     "text": [
      "[Parallel(n_jobs=1)]: Done 348 out of 348 | elapsed:   24.4s finished\n"
     ]
    },
    {
     "name": "stdout",
     "output_type": "stream",
     "text": [
      "       Best parameters selected: <<{'C': 0.0014}>> for score <<0.6770709975865791>>.\n",
      "       Final parameters selected: <<{'C': 0.0027}>> for score <<0.676768106939787>>.\n",
      "\n",
      "          *** Prev Score on validation dataset (macro/weighted) <<0.6431884666037317>> / <<0.952037351443124>>.\n",
      "\n",
      "          *** Score on validation dataset (macro/weighted) <<0.6561691113028473>> / <<0.8837011884550084>>.\n",
      "[[3099  378]\n",
      " [  33   24]]\n",
      "\n",
      "          *** Model has been refitted from <<0.6705702650476347>> to <<0.676768106939787>>.\n",
      "\n",
      "-------------------------------------------------------------------\n",
      "    45. ReFit model for class: <<refugees>> ((20025, 23980)).\n",
      "    Tuning hyper-parameters for class: <<refugees>> (Recall).\n",
      "       1. Grid Search model <<<class 'sklearn.svm.classes.LinearSVC'>>>; weight: <<balanced>>; parameters: <<{'C': [0.001, 0.01, 0.1, 1.0, 10.0]}>>\n",
      "Fitting 12 folds for each of 5 candidates, totalling 60 fits\n"
     ]
    },
    {
     "name": "stderr",
     "output_type": "stream",
     "text": [
      "[Parallel(n_jobs=1)]: Done  60 out of  60 | elapsed:   13.9s finished\n"
     ]
    },
    {
     "name": "stdout",
     "output_type": "stream",
     "text": [
      "       Best parameters selected: <<{'C': 0.01}>> for score <<0.7946928282252471>>.\n",
      "       2. Grid Search model <<<class 'sklearn.svm.classes.LinearSVC'>>>; weight: <<balanced>>; parameters: <<{'C': [0.0033, 0.0038, 0.0043, 0.0048, 0.0052, 0.0057, 0.0062, 0.0067, 0.0071, 0.0076, 0.0081, 0.0086, 0.009, 0.0095, 0.01, 0.0114, 0.0129, 0.0143, 0.0157, 0.0171, 0.0186, 0.02, 0.0214, 0.0229, 0.0243, 0.0257, 0.0271, 0.0286, 0.03]}>>\n",
      "Fitting 12 folds for each of 29 candidates, totalling 348 fits\n"
     ]
    },
    {
     "name": "stderr",
     "output_type": "stream",
     "text": [
      "[Parallel(n_jobs=1)]: Done 348 out of 348 | elapsed:   28.5s finished\n"
     ]
    },
    {
     "name": "stdout",
     "output_type": "stream",
     "text": [
      "       Best parameters selected: <<{'C': 0.0129}>> for score <<0.7984019541072412>>.\n",
      "       3. Grid Search model <<<class 'sklearn.svm.classes.LinearSVC'>>>; weight: <<balanced>>; parameters: <<{'C': [0.0043, 0.0049, 0.0055, 0.0061, 0.0068, 0.0074, 0.008, 0.0086, 0.0092, 0.0098, 0.0104, 0.0111, 0.0117, 0.0123, 0.0129, 0.0147, 0.0166, 0.0184, 0.0203, 0.0221, 0.024, 0.0258, 0.0276, 0.0295, 0.0313, 0.0332, 0.035, 0.0369, 0.0387]}>>\n",
      "Fitting 12 folds for each of 29 candidates, totalling 348 fits\n"
     ]
    },
    {
     "name": "stderr",
     "output_type": "stream",
     "text": [
      "[Parallel(n_jobs=1)]: Done 348 out of 348 | elapsed:   31.3s finished\n"
     ]
    },
    {
     "name": "stdout",
     "output_type": "stream",
     "text": [
      "       Best parameters selected: <<{'C': 0.0129}>> for score <<0.7984019541072412>>.\n",
      "       3. Grid Search model <<<class 'sklearn.svm.classes.LinearSVC'>>>; weight: <<{0: 1.0, 1: 58.68181818181818}>>; parameters: <<{'C': [0.001, 0.01, 0.1, 1.0, 10.0]}>>\n",
      "Fitting 12 folds for each of 5 candidates, totalling 60 fits\n"
     ]
    },
    {
     "name": "stderr",
     "output_type": "stream",
     "text": [
      "[Parallel(n_jobs=1)]: Done  60 out of  60 | elapsed:   17.4s finished\n"
     ]
    },
    {
     "name": "stdout",
     "output_type": "stream",
     "text": [
      "       Best parameters selected: <<{'C': 0.01}>> for score <<0.8001056296135103>>.\n",
      "       4. Grid Search model <<<class 'sklearn.svm.classes.LinearSVC'>>>; weight: <<{0: 1.0, 1: 58.68181818181818}>>; parameters: <<{'C': [0.0033, 0.0038, 0.0043, 0.0048, 0.0052, 0.0057, 0.0062, 0.0067, 0.0071, 0.0076, 0.0081, 0.0086, 0.009, 0.0095, 0.01, 0.0114, 0.0129, 0.0143, 0.0157, 0.0171, 0.0186, 0.02, 0.0214, 0.0229, 0.0243, 0.0257, 0.0271, 0.0286, 0.03]}>>\n",
      "Fitting 12 folds for each of 29 candidates, totalling 348 fits\n"
     ]
    },
    {
     "name": "stderr",
     "output_type": "stream",
     "text": [
      "[Parallel(n_jobs=1)]: Done 348 out of 348 | elapsed:   49.1s finished\n"
     ]
    },
    {
     "name": "stdout",
     "output_type": "stream",
     "text": [
      "       Best parameters selected: <<{'C': 0.0081}>> for score <<0.804100281016293>>.\n",
      "       5. Grid Search model <<<class 'sklearn.svm.classes.LinearSVC'>>>; weight: <<{0: 1.0, 1: 58.68181818181818}>>; parameters: <<{'C': [0.0027, 0.0031, 0.0035, 0.0039, 0.0042, 0.0046, 0.005, 0.0054, 0.0058, 0.0062, 0.0066, 0.0069, 0.0073, 0.0077, 0.0081, 0.0093, 0.0104, 0.0116, 0.0127, 0.0139, 0.015, 0.0162, 0.0174, 0.0185, 0.0197, 0.0208, 0.022, 0.0231, 0.0243]}>>\n",
      "Fitting 12 folds for each of 29 candidates, totalling 348 fits\n"
     ]
    },
    {
     "name": "stderr",
     "output_type": "stream",
     "text": [
      "[Parallel(n_jobs=1)]: Done 348 out of 348 | elapsed:   45.9s finished\n"
     ]
    },
    {
     "name": "stdout",
     "output_type": "stream",
     "text": [
      "       Best parameters selected: <<{'C': 0.0081}>> for score <<0.804100281016293>>.\n",
      "       Final parameters selected: <<{'C': 0.0129}>> for score <<0.7984019541072412>>.\n",
      "\n",
      "          *** Prev Score on validation dataset (macro/weighted) <<0.7918908558207034>> / <<0.9036502546689303>>.\n",
      "\n",
      "          *** Score on validation dataset (macro/weighted) <<0.7619437899122358>> / <<0.9077532541029995>>.\n",
      "[[3130  275]\n",
      " [  51   78]]\n",
      "\n",
      "          *** Model has been refitted from <<0.7903195681426527>> to <<0.7984019541072412>>.\n",
      "\n",
      "-------------------------------------------------------------------\n",
      "    46. ReFit model for class: <<other_aid>> ((20025, 23980)).\n",
      "    Tuning hyper-parameters for class: <<other_aid>> (Recall).\n",
      "       1. Grid Search model <<<class 'sklearn.svm.classes.LinearSVC'>>>; weight: <<balanced>>; parameters: <<{'C': [0.001, 0.01, 0.1, 1.0, 10.0]}>>\n",
      "Fitting 12 folds for each of 5 candidates, totalling 60 fits\n"
     ]
    },
    {
     "name": "stderr",
     "output_type": "stream",
     "text": [
      "[Parallel(n_jobs=1)]: Done  60 out of  60 | elapsed:   24.8s finished\n"
     ]
    },
    {
     "name": "stdout",
     "output_type": "stream",
     "text": [
      "       Best parameters selected: <<{'C': 0.1}>> for score <<0.7032694416343324>>.\n",
      "       2. Grid Search model <<<class 'sklearn.svm.classes.LinearSVC'>>>; weight: <<balanced>>; parameters: <<{'C': [0.0333, 0.0381, 0.0429, 0.0476, 0.0524, 0.0571, 0.0619, 0.0667, 0.0714, 0.0762, 0.081, 0.0857, 0.0905, 0.0952, 0.1, 0.1143, 0.1286, 0.1429, 0.1571, 0.1714, 0.1857, 0.2, 0.2143, 0.2286, 0.2429, 0.2571, 0.2714, 0.2857, 0.3]}>>\n",
      "Fitting 12 folds for each of 29 candidates, totalling 348 fits\n"
     ]
    },
    {
     "name": "stderr",
     "output_type": "stream",
     "text": [
      "[Parallel(n_jobs=1)]: Done 348 out of 348 | elapsed:  1.0min finished\n"
     ]
    },
    {
     "name": "stdout",
     "output_type": "stream",
     "text": [
      "       Best parameters selected: <<{'C': 0.0571}>> for score <<0.7079279489073376>>.\n",
      "       3. Grid Search model <<<class 'sklearn.svm.classes.LinearSVC'>>>; weight: <<balanced>>; parameters: <<{'C': [0.019, 0.0218, 0.0245, 0.0272, 0.0299, 0.0326, 0.0353, 0.0381, 0.0408, 0.0435, 0.0462, 0.0489, 0.0517, 0.0544, 0.0571, 0.0653, 0.0734, 0.0816, 0.0897, 0.0979, 0.106, 0.1142, 0.1224, 0.1305, 0.1387, 0.1468, 0.155, 0.1631, 0.1713]}>>\n",
      "Fitting 12 folds for each of 29 candidates, totalling 348 fits\n"
     ]
    },
    {
     "name": "stderr",
     "output_type": "stream",
     "text": [
      "[Parallel(n_jobs=1)]: Done 348 out of 348 | elapsed:   42.2s finished\n"
     ]
    },
    {
     "name": "stdout",
     "output_type": "stream",
     "text": [
      "       Best parameters selected: <<{'C': 0.0544}>> for score <<0.7086066955131446>>.\n",
      "       4. Grid Search model <<<class 'sklearn.svm.classes.LinearSVC'>>>; weight: <<balanced>>; parameters: <<{'C': [0.0181, 0.0207, 0.0233, 0.0259, 0.0285, 0.0311, 0.0337, 0.0363, 0.0389, 0.0414, 0.044, 0.0466, 0.0492, 0.0518, 0.0544, 0.0622, 0.0699, 0.0777, 0.0855, 0.0933, 0.101, 0.1088, 0.1166, 0.1243, 0.1321, 0.1399, 0.1477, 0.1554, 0.1632]}>>\n",
      "Fitting 12 folds for each of 29 candidates, totalling 348 fits\n"
     ]
    },
    {
     "name": "stderr",
     "output_type": "stream",
     "text": [
      "[Parallel(n_jobs=1)]: Done 348 out of 348 | elapsed:   40.5s finished\n"
     ]
    },
    {
     "name": "stdout",
     "output_type": "stream",
     "text": [
      "       Best parameters selected: <<{'C': 0.0544}>> for score <<0.7086066955131446>>.\n",
      "       4. Grid Search model <<<class 'sklearn.svm.classes.LinearSVC'>>>; weight: <<{0: 1.0, 1: 13.481252415925782}>>; parameters: <<{'C': [0.001, 0.01, 0.1, 1.0, 10.0]}>>\n",
      "Fitting 12 folds for each of 5 candidates, totalling 60 fits\n"
     ]
    },
    {
     "name": "stderr",
     "output_type": "stream",
     "text": [
      "[Parallel(n_jobs=1)]: Done  60 out of  60 | elapsed:   36.7s finished\n"
     ]
    },
    {
     "name": "stdout",
     "output_type": "stream",
     "text": [
      "       Best parameters selected: <<{'C': 0.1}>> for score <<0.7048241724620284>>.\n",
      "       5. Grid Search model <<<class 'sklearn.svm.classes.LinearSVC'>>>; weight: <<{0: 1.0, 1: 13.481252415925782}>>; parameters: <<{'C': [0.0333, 0.0381, 0.0429, 0.0476, 0.0524, 0.0571, 0.0619, 0.0667, 0.0714, 0.0762, 0.081, 0.0857, 0.0905, 0.0952, 0.1, 0.1143, 0.1286, 0.1429, 0.1571, 0.1714, 0.1857, 0.2, 0.2143, 0.2286, 0.2429, 0.2571, 0.2714, 0.2857, 0.3]}>>\n",
      "Fitting 12 folds for each of 29 candidates, totalling 348 fits\n"
     ]
    },
    {
     "name": "stderr",
     "output_type": "stream",
     "text": [
      "[Parallel(n_jobs=1)]: Done 348 out of 348 | elapsed:  2.2min finished\n"
     ]
    },
    {
     "name": "stdout",
     "output_type": "stream",
     "text": [
      "       Best parameters selected: <<{'C': 0.0571}>> for score <<0.7107972933519426>>.\n",
      "       6. Grid Search model <<<class 'sklearn.svm.classes.LinearSVC'>>>; weight: <<{0: 1.0, 1: 13.481252415925782}>>; parameters: <<{'C': [0.019, 0.0218, 0.0245, 0.0272, 0.0299, 0.0326, 0.0353, 0.0381, 0.0408, 0.0435, 0.0462, 0.0489, 0.0517, 0.0544, 0.0571, 0.0653, 0.0734, 0.0816, 0.0897, 0.0979, 0.106, 0.1142, 0.1224, 0.1305, 0.1387, 0.1468, 0.155, 0.1631, 0.1713]}>>\n",
      "Fitting 12 folds for each of 29 candidates, totalling 348 fits\n"
     ]
    },
    {
     "name": "stderr",
     "output_type": "stream",
     "text": [
      "[Parallel(n_jobs=1)]: Done 348 out of 348 | elapsed:  1.5min finished\n"
     ]
    },
    {
     "name": "stdout",
     "output_type": "stream",
     "text": [
      "       Best parameters selected: <<{'C': 0.0272}>> for score <<0.7118581683735473>>.\n",
      "       7. Grid Search model <<<class 'sklearn.svm.classes.LinearSVC'>>>; weight: <<{0: 1.0, 1: 13.481252415925782}>>; parameters: <<{'C': [0.0091, 0.0104, 0.0117, 0.013, 0.0142, 0.0155, 0.0168, 0.0181, 0.0194, 0.0207, 0.022, 0.0233, 0.0246, 0.0259, 0.0272, 0.0311, 0.035, 0.0389, 0.0427, 0.0466, 0.0505, 0.0544, 0.0583, 0.0622, 0.0661, 0.0699, 0.0738, 0.0777, 0.0816]}>>\n",
      "Fitting 12 folds for each of 29 candidates, totalling 348 fits\n"
     ]
    },
    {
     "name": "stderr",
     "output_type": "stream",
     "text": [
      "[Parallel(n_jobs=1)]: Done 348 out of 348 | elapsed:   54.7s finished\n"
     ]
    },
    {
     "name": "stdout",
     "output_type": "stream",
     "text": [
      "       Best parameters selected: <<{'C': 0.0272}>> for score <<0.7118581683735473>>.\n",
      "       Final parameters selected: <<{'C': 0.0544}>> for score <<0.7086066955131446>>.\n",
      "\n",
      "          *** Prev Score on validation dataset (macro/weighted) <<0.713770692584252>> / <<0.7941426146010186>>.\n",
      "\n",
      "          *** Score on validation dataset (macro/weighted) <<0.7023986327204149>> / <<0.7832484436898698>>.\n",
      "[[2471  559]\n",
      " [ 207  297]]\n",
      "\n",
      "          *** Model has been refitted from <<0.7065147356707269>> to <<0.7086066955131446>>.\n",
      "\n",
      "-------------------------------------------------------------------\n",
      "    47. ReFit model for class: <<infrastructure_related>> ((20025, 23980)).\n",
      "    Tuning hyper-parameters for class: <<infrastructure_related>> (Recall).\n",
      "       1. Grid Search model <<<class 'sklearn.svm.classes.LinearSVC'>>>; weight: <<balanced>>; parameters: <<{'C': [0.001, 0.01, 0.1, 1.0, 10.0]}>>\n",
      "Fitting 12 folds for each of 5 candidates, totalling 60 fits\n"
     ]
    },
    {
     "name": "stderr",
     "output_type": "stream",
     "text": [
      "[Parallel(n_jobs=1)]: Done  60 out of  60 | elapsed:   20.4s finished\n"
     ]
    },
    {
     "name": "stdout",
     "output_type": "stream",
     "text": [
      "       Best parameters selected: <<{'C': 0.01}>> for score <<0.7288622795352007>>.\n",
      "       2. Grid Search model <<<class 'sklearn.svm.classes.LinearSVC'>>>; weight: <<balanced>>; parameters: <<{'C': [0.0033, 0.0038, 0.0043, 0.0048, 0.0052, 0.0057, 0.0062, 0.0067, 0.0071, 0.0076, 0.0081, 0.0086, 0.009, 0.0095, 0.01, 0.0114, 0.0129, 0.0143, 0.0157, 0.0171, 0.0186, 0.02, 0.0214, 0.0229, 0.0243, 0.0257, 0.0271, 0.0286, 0.03]}>>\n",
      "Fitting 12 folds for each of 29 candidates, totalling 348 fits\n"
     ]
    },
    {
     "name": "stderr",
     "output_type": "stream",
     "text": [
      "[Parallel(n_jobs=1)]: Done 348 out of 348 | elapsed:   21.7s finished\n"
     ]
    },
    {
     "name": "stdout",
     "output_type": "stream",
     "text": [
      "       Best parameters selected: <<{'C': 0.0143}>> for score <<0.7346050778806233>>.\n",
      "       3. Grid Search model <<<class 'sklearn.svm.classes.LinearSVC'>>>; weight: <<balanced>>; parameters: <<{'C': [0.0048, 0.0054, 0.0061, 0.0068, 0.0075, 0.0082, 0.0089, 0.0095, 0.0102, 0.0109, 0.0116, 0.0123, 0.0129, 0.0136, 0.0143, 0.0163, 0.0184, 0.0204, 0.0225, 0.0245, 0.0266, 0.0286, 0.0306, 0.0327, 0.0347, 0.0368, 0.0388, 0.0409, 0.0429]}>>\n",
      "Fitting 12 folds for each of 29 candidates, totalling 348 fits\n"
     ]
    },
    {
     "name": "stderr",
     "output_type": "stream",
     "text": [
      "[Parallel(n_jobs=1)]: Done 348 out of 348 | elapsed:   25.1s finished\n"
     ]
    },
    {
     "name": "stdout",
     "output_type": "stream",
     "text": [
      "       Best parameters selected: <<{'C': 0.0143}>> for score <<0.7346050778806233>>.\n",
      "       3. Grid Search model <<<class 'sklearn.svm.classes.LinearSVC'>>>; weight: <<{0: 1.0, 1: 28.76036866359447}>>; parameters: <<{'C': [0.001, 0.01, 0.1, 1.0, 10.0]}>>\n",
      "Fitting 12 folds for each of 5 candidates, totalling 60 fits\n"
     ]
    },
    {
     "name": "stderr",
     "output_type": "stream",
     "text": [
      "[Parallel(n_jobs=1)]: Done  60 out of  60 | elapsed:   26.3s finished\n"
     ]
    },
    {
     "name": "stdout",
     "output_type": "stream",
     "text": [
      "       Best parameters selected: <<{'C': 0.01}>> for score <<0.7355542120943196>>.\n",
      "       4. Grid Search model <<<class 'sklearn.svm.classes.LinearSVC'>>>; weight: <<{0: 1.0, 1: 28.76036866359447}>>; parameters: <<{'C': [0.0033, 0.0038, 0.0043, 0.0048, 0.0052, 0.0057, 0.0062, 0.0067, 0.0071, 0.0076, 0.0081, 0.0086, 0.009, 0.0095, 0.01, 0.0114, 0.0129, 0.0143, 0.0157, 0.0171, 0.0186, 0.02, 0.0214, 0.0229, 0.0243, 0.0257, 0.0271, 0.0286, 0.03]}>>\n",
      "Fitting 12 folds for each of 29 candidates, totalling 348 fits\n"
     ]
    },
    {
     "name": "stderr",
     "output_type": "stream",
     "text": [
      "[Parallel(n_jobs=1)]: Done 348 out of 348 | elapsed:   40.7s finished\n"
     ]
    },
    {
     "name": "stdout",
     "output_type": "stream",
     "text": [
      "       Best parameters selected: <<{'C': 0.02}>> for score <<0.7460779007405944>>.\n",
      "       5. Grid Search model <<<class 'sklearn.svm.classes.LinearSVC'>>>; weight: <<{0: 1.0, 1: 28.76036866359447}>>; parameters: <<{'C': [0.0067, 0.0076, 0.0086, 0.0095, 0.0105, 0.0114, 0.0124, 0.0133, 0.0143, 0.0152, 0.0162, 0.0171, 0.0181, 0.019, 0.02, 0.0229, 0.0257, 0.0286, 0.0314, 0.0343, 0.0371, 0.04, 0.0429, 0.0457, 0.0486, 0.0514, 0.0543, 0.0571, 0.06]}>>\n",
      "Fitting 12 folds for each of 29 candidates, totalling 348 fits\n"
     ]
    },
    {
     "name": "stderr",
     "output_type": "stream",
     "text": [
      "[Parallel(n_jobs=1)]: Done 348 out of 348 | elapsed:  1.1min finished\n"
     ]
    },
    {
     "name": "stdout",
     "output_type": "stream",
     "text": [
      "       Best parameters selected: <<{'C': 0.02}>> for score <<0.7460779007405944>>.\n",
      "       Final parameters selected: <<{'C': 0.0143}>> for score <<0.7346050778806233>>.\n",
      "\n",
      "          *** Prev Score on validation dataset (macro/weighted) <<0.6789928515471993>> / <<0.7941426146010186>>.\n",
      "\n",
      "          *** Score on validation dataset (macro/weighted) <<0.7023956969461056>> / <<0.808715336728919>>.\n",
      "[[2724  579]\n",
      " [  97  134]]\n",
      "\n",
      "          *** Model has been refitted from <<0.7268563729320131>> to <<0.7346050778806233>>.\n",
      "\n",
      "-------------------------------------------------------------------\n",
      "    48. ReFit model for class: <<transport>> ((20025, 23980)).\n",
      "    Tuning hyper-parameters for class: <<transport>> (Recall).\n",
      "       1. Grid Search model <<<class 'sklearn.svm.classes.LinearSVC'>>>; weight: <<balanced>>; parameters: <<{'C': [0.001, 0.01, 0.1, 1.0, 10.0]}>>\n",
      "Fitting 12 folds for each of 5 candidates, totalling 60 fits\n"
     ]
    },
    {
     "name": "stderr",
     "output_type": "stream",
     "text": [
      "[Parallel(n_jobs=1)]: Done  60 out of  60 | elapsed:   22.7s finished\n"
     ]
    },
    {
     "name": "stdout",
     "output_type": "stream",
     "text": [
      "       Best parameters selected: <<{'C': 0.01}>> for score <<0.716608923428273>>.\n",
      "       2. Grid Search model <<<class 'sklearn.svm.classes.LinearSVC'>>>; weight: <<balanced>>; parameters: <<{'C': [0.0033, 0.0038, 0.0043, 0.0048, 0.0052, 0.0057, 0.0062, 0.0067, 0.0071, 0.0076, 0.0081, 0.0086, 0.009, 0.0095, 0.01, 0.0114, 0.0129, 0.0143, 0.0157, 0.0171, 0.0186, 0.02, 0.0214, 0.0229, 0.0243, 0.0257, 0.0271, 0.0286, 0.03]}>>\n",
      "Fitting 12 folds for each of 29 candidates, totalling 348 fits\n"
     ]
    },
    {
     "name": "stderr",
     "output_type": "stream",
     "text": [
      "[Parallel(n_jobs=1)]: Done 348 out of 348 | elapsed:   24.4s finished\n"
     ]
    },
    {
     "name": "stdout",
     "output_type": "stream",
     "text": [
      "       Best parameters selected: <<{'C': 0.0171}>> for score <<0.7247314767561617>>.\n",
      "       3. Grid Search model <<<class 'sklearn.svm.classes.LinearSVC'>>>; weight: <<balanced>>; parameters: <<{'C': [0.0057, 0.0065, 0.0073, 0.0081, 0.009, 0.0098, 0.0106, 0.0114, 0.0122, 0.013, 0.0138, 0.0147, 0.0155, 0.0163, 0.0171, 0.0195, 0.022, 0.0244, 0.0269, 0.0293, 0.0318, 0.0342, 0.0366, 0.0391, 0.0415, 0.044, 0.0464, 0.0489, 0.0513]}>>\n",
      "Fitting 12 folds for each of 29 candidates, totalling 348 fits\n"
     ]
    },
    {
     "name": "stderr",
     "output_type": "stream",
     "text": [
      "[Parallel(n_jobs=1)]: Done 348 out of 348 | elapsed:   31.5s finished\n"
     ]
    },
    {
     "name": "stdout",
     "output_type": "stream",
     "text": [
      "       Best parameters selected: <<{'C': 0.0155}>> for score <<0.7248058547266033>>.\n",
      "       4. Grid Search model <<<class 'sklearn.svm.classes.LinearSVC'>>>; weight: <<balanced>>; parameters: <<{'C': [0.0052, 0.0059, 0.0066, 0.0074, 0.0081, 0.0089, 0.0096, 0.0103, 0.0111, 0.0118, 0.0125, 0.0133, 0.014, 0.0148, 0.0155, 0.0177, 0.0199, 0.0221, 0.0244, 0.0266, 0.0288, 0.031, 0.0332, 0.0354, 0.0376, 0.0399, 0.0421, 0.0443, 0.0465]}>>\n",
      "Fitting 12 folds for each of 29 candidates, totalling 348 fits\n"
     ]
    },
    {
     "name": "stderr",
     "output_type": "stream",
     "text": [
      "[Parallel(n_jobs=1)]: Done 348 out of 348 | elapsed:   30.2s finished\n"
     ]
    },
    {
     "name": "stdout",
     "output_type": "stream",
     "text": [
      "       Best parameters selected: <<{'C': 0.0155}>> for score <<0.7248058547266033>>.\n",
      "       4. Grid Search model <<<class 'sklearn.svm.classes.LinearSVC'>>>; weight: <<{0: 1.0, 1: 41.77049180327869}>>; parameters: <<{'C': [0.001, 0.01, 0.1, 1.0, 10.0]}>>\n",
      "Fitting 12 folds for each of 5 candidates, totalling 60 fits\n"
     ]
    },
    {
     "name": "stderr",
     "output_type": "stream",
     "text": [
      "[Parallel(n_jobs=1)]: Done  60 out of  60 | elapsed:   25.2s finished\n"
     ]
    },
    {
     "name": "stdout",
     "output_type": "stream",
     "text": [
      "       Best parameters selected: <<{'C': 0.01}>> for score <<0.7029713255310864>>.\n",
      "       5. Grid Search model <<<class 'sklearn.svm.classes.LinearSVC'>>>; weight: <<{0: 1.0, 1: 41.77049180327869}>>; parameters: <<{'C': [0.0033, 0.0038, 0.0043, 0.0048, 0.0052, 0.0057, 0.0062, 0.0067, 0.0071, 0.0076, 0.0081, 0.0086, 0.009, 0.0095, 0.01, 0.0114, 0.0129, 0.0143, 0.0157, 0.0171, 0.0186, 0.02, 0.0214, 0.0229, 0.0243, 0.0257, 0.0271, 0.0286, 0.03]}>>\n",
      "Fitting 12 folds for each of 29 candidates, totalling 348 fits\n"
     ]
    },
    {
     "name": "stderr",
     "output_type": "stream",
     "text": [
      "[Parallel(n_jobs=1)]: Done 348 out of 348 | elapsed:   50.3s finished\n"
     ]
    },
    {
     "name": "stdout",
     "output_type": "stream",
     "text": [
      "       Best parameters selected: <<{'C': 0.0157}>> for score <<0.7119490092448396>>.\n",
      "       6. Grid Search model <<<class 'sklearn.svm.classes.LinearSVC'>>>; weight: <<{0: 1.0, 1: 41.77049180327869}>>; parameters: <<{'C': [0.0052, 0.006, 0.0067, 0.0075, 0.0082, 0.009, 0.0097, 0.0105, 0.0112, 0.012, 0.0127, 0.0135, 0.0142, 0.015, 0.0157, 0.0179, 0.0202, 0.0224, 0.0247, 0.0269, 0.0292, 0.0314, 0.0336, 0.0359, 0.0381, 0.0404, 0.0426, 0.0449, 0.0471]}>>\n",
      "Fitting 12 folds for each of 29 candidates, totalling 348 fits\n"
     ]
    },
    {
     "name": "stderr",
     "output_type": "stream",
     "text": [
      "[Parallel(n_jobs=1)]: Done 348 out of 348 | elapsed:  1.1min finished\n"
     ]
    },
    {
     "name": "stdout",
     "output_type": "stream",
     "text": [
      "       Best parameters selected: <<{'C': 0.0157}>> for score <<0.7119490092448396>>.\n",
      "       Final parameters selected: <<{'C': 0.0155}>> for score <<0.7248058547266033>>.\n",
      "\n",
      "          *** Prev Score on validation dataset (macro/weighted) <<0.6660712788259958>> / <<0.8429541595925297>>.\n",
      "\n",
      "          *** Score on validation dataset (macro/weighted) <<0.6890921172273904>> / <<0.8653084323712507>>.\n",
      "[[2974  390]\n",
      " [  86   84]]\n",
      "\n",
      "          *** Model has been refitted from <<0.7216382752647558>> to <<0.7248058547266033>>.\n",
      "\n",
      "-------------------------------------------------------------------\n",
      "    49. ReFit model for class: <<tools>> ((20025, 23980)).\n",
      "    Tuning hyper-parameters for class: <<tools>> (Recall).\n",
      "       1. Grid Search model <<<class 'sklearn.svm.classes.LinearSVC'>>>; weight: <<balanced>>; parameters: <<{'C': [0.001, 0.01, 0.1, 1.0, 10.0]}>>\n",
      "Fitting 12 folds for each of 5 candidates, totalling 60 fits\n"
     ]
    },
    {
     "name": "stderr",
     "output_type": "stream",
     "text": [
      "[Parallel(n_jobs=1)]: Done  60 out of  60 | elapsed:    8.8s finished\n"
     ]
    },
    {
     "name": "stdout",
     "output_type": "stream",
     "text": [
      "       Best parameters selected: <<{'C': 0.001}>> for score <<0.6695460506353231>>.\n",
      "       2. Grid Search model <<<class 'sklearn.svm.classes.LinearSVC'>>>; weight: <<balanced>>; parameters: <<{'C': [0.0003, 0.0004, 0.0004, 0.0005, 0.0005, 0.0006, 0.0006, 0.0007, 0.0007, 0.0008, 0.0008, 0.0009, 0.0009, 0.001, 0.001, 0.0011, 0.0013, 0.0014, 0.0016, 0.0017, 0.0019, 0.002, 0.0021, 0.0023, 0.0024, 0.0026, 0.0027, 0.0029, 0.003]}>>\n",
      "Fitting 12 folds for each of 29 candidates, totalling 348 fits\n"
     ]
    },
    {
     "name": "stderr",
     "output_type": "stream",
     "text": [
      "[Parallel(n_jobs=1)]: Done 348 out of 348 | elapsed:   19.6s finished\n"
     ]
    },
    {
     "name": "stdout",
     "output_type": "stream",
     "text": [
      "       Best parameters selected: <<{'C': 0.0024}>> for score <<0.681317327700745>>.\n",
      "       3. Grid Search model <<<class 'sklearn.svm.classes.LinearSVC'>>>; weight: <<balanced>>; parameters: <<{'C': [0.0008, 0.0009, 0.001, 0.0011, 0.0013, 0.0014, 0.0015, 0.0016, 0.0017, 0.0018, 0.0019, 0.0021, 0.0022, 0.0023, 0.0024, 0.0027, 0.0031, 0.0034, 0.0038, 0.0041, 0.0045, 0.0048, 0.0051, 0.0055, 0.0058, 0.0062, 0.0065, 0.0069, 0.0072]}>>\n",
      "Fitting 12 folds for each of 29 candidates, totalling 348 fits\n"
     ]
    },
    {
     "name": "stderr",
     "output_type": "stream",
     "text": [
      "[Parallel(n_jobs=1)]: Done 348 out of 348 | elapsed:   27.5s finished\n"
     ]
    },
    {
     "name": "stdout",
     "output_type": "stream",
     "text": [
      "       Best parameters selected: <<{'C': 0.0024}>> for score <<0.681317327700745>>.\n",
      "       3. Grid Search model <<<class 'sklearn.svm.classes.LinearSVC'>>>; weight: <<{0: 1.0, 1: 173.1304347826087}>>; parameters: <<{'C': [0.001, 0.01, 0.1, 1.0, 10.0]}>>\n",
      "Fitting 12 folds for each of 5 candidates, totalling 60 fits\n"
     ]
    },
    {
     "name": "stderr",
     "output_type": "stream",
     "text": [
      "[Parallel(n_jobs=1)]: Done  60 out of  60 | elapsed:    9.4s finished\n"
     ]
    },
    {
     "name": "stdout",
     "output_type": "stream",
     "text": [
      "       Best parameters selected: <<{'C': 0.001}>> for score <<0.6775253253092015>>.\n",
      "       4. Grid Search model <<<class 'sklearn.svm.classes.LinearSVC'>>>; weight: <<{0: 1.0, 1: 173.1304347826087}>>; parameters: <<{'C': [0.0003, 0.0004, 0.0004, 0.0005, 0.0005, 0.0006, 0.0006, 0.0007, 0.0007, 0.0008, 0.0008, 0.0009, 0.0009, 0.001, 0.001, 0.0011, 0.0013, 0.0014, 0.0016, 0.0017, 0.0019, 0.002, 0.0021, 0.0023, 0.0024, 0.0026, 0.0027, 0.0029, 0.003]}>>\n",
      "Fitting 12 folds for each of 29 candidates, totalling 348 fits\n"
     ]
    },
    {
     "name": "stderr",
     "output_type": "stream",
     "text": [
      "[Parallel(n_jobs=1)]: Done 348 out of 348 | elapsed:   25.4s finished\n"
     ]
    },
    {
     "name": "stdout",
     "output_type": "stream",
     "text": [
      "       Best parameters selected: <<{'C': 0.0011}>> for score <<0.6795343554857104>>.\n",
      "       5. Grid Search model <<<class 'sklearn.svm.classes.LinearSVC'>>>; weight: <<{0: 1.0, 1: 173.1304347826087}>>; parameters: <<{'C': [0.0004, 0.0004, 0.0005, 0.0005, 0.0006, 0.0006, 0.0007, 0.0007, 0.0008, 0.0008, 0.0009, 0.0009, 0.001, 0.001, 0.0011, 0.0013, 0.0014, 0.0016, 0.0017, 0.0019, 0.002, 0.0022, 0.0024, 0.0025, 0.0027, 0.0028, 0.003, 0.0031, 0.0033]}>>\n",
      "Fitting 12 folds for each of 29 candidates, totalling 348 fits\n"
     ]
    },
    {
     "name": "stderr",
     "output_type": "stream",
     "text": [
      "[Parallel(n_jobs=1)]: Done 348 out of 348 | elapsed:   27.0s finished\n"
     ]
    },
    {
     "name": "stdout",
     "output_type": "stream",
     "text": [
      "       Best parameters selected: <<{'C': 0.0011}>> for score <<0.6795343554857104>>.\n",
      "       Final parameters selected: <<{'C': 0.0024}>> for score <<0.681317327700745>>.\n",
      "\n",
      "          *** Prev Score on validation dataset (macro/weighted) <<0.5440233382793049>> / <<0.7903225806451613>>.\n",
      "\n",
      "          *** Score on validation dataset (macro/weighted) <<0.6037924151696606>> / <<0.870118845500849>>.\n",
      "[[3066  441]\n",
      " [  18    9]]\n",
      "\n",
      "          *** Model has been refitted from <<0.645498827567226>> to <<0.681317327700745>>.\n",
      "\n",
      "-------------------------------------------------------------------\n",
      "    50. ReFit model for class: <<hospitals>> ((20025, 23980)).\n",
      "    Tuning hyper-parameters for class: <<hospitals>> (Recall).\n",
      "       1. Grid Search model <<<class 'sklearn.svm.classes.LinearSVC'>>>; weight: <<balanced>>; parameters: <<{'C': [0.001, 0.01, 0.1, 1.0, 10.0]}>>\n",
      "Fitting 12 folds for each of 5 candidates, totalling 60 fits\n"
     ]
    },
    {
     "name": "stderr",
     "output_type": "stream",
     "text": [
      "[Parallel(n_jobs=1)]: Done  60 out of  60 | elapsed:    9.7s finished\n"
     ]
    },
    {
     "name": "stdout",
     "output_type": "stream",
     "text": [
      "       Best parameters selected: <<{'C': 0.01}>> for score <<0.7530683523607089>>.\n",
      "       2. Grid Search model <<<class 'sklearn.svm.classes.LinearSVC'>>>; weight: <<balanced>>; parameters: <<{'C': [0.0033, 0.0038, 0.0043, 0.0048, 0.0052, 0.0057, 0.0062, 0.0067, 0.0071, 0.0076, 0.0081, 0.0086, 0.009, 0.0095, 0.01, 0.0114, 0.0129, 0.0143, 0.0157, 0.0171, 0.0186, 0.02, 0.0214, 0.0229, 0.0243, 0.0257, 0.0271, 0.0286, 0.03]}>>\n",
      "Fitting 12 folds for each of 29 candidates, totalling 348 fits\n"
     ]
    },
    {
     "name": "stderr",
     "output_type": "stream",
     "text": [
      "[Parallel(n_jobs=1)]: Done 348 out of 348 | elapsed:   42.6s finished\n"
     ]
    },
    {
     "name": "stdout",
     "output_type": "stream",
     "text": [
      "       Best parameters selected: <<{'C': 0.0057}>> for score <<0.7719278776101649>>.\n",
      "       3. Grid Search model <<<class 'sklearn.svm.classes.LinearSVC'>>>; weight: <<balanced>>; parameters: <<{'C': [0.0019, 0.0022, 0.0024, 0.0027, 0.003, 0.0033, 0.0035, 0.0038, 0.0041, 0.0043, 0.0046, 0.0049, 0.0052, 0.0054, 0.0057, 0.0065, 0.0073, 0.0081, 0.009, 0.0098, 0.0106, 0.0114, 0.0122, 0.013, 0.0138, 0.0147, 0.0155, 0.0163, 0.0171]}>>\n",
      "Fitting 12 folds for each of 29 candidates, totalling 348 fits\n"
     ]
    },
    {
     "name": "stderr",
     "output_type": "stream",
     "text": [
      "[Parallel(n_jobs=1)]: Done 348 out of 348 | elapsed:   34.1s finished\n"
     ]
    },
    {
     "name": "stdout",
     "output_type": "stream",
     "text": [
      "       Best parameters selected: <<{'C': 0.0057}>> for score <<0.7719278776101649>>.\n",
      "       3. Grid Search model <<<class 'sklearn.svm.classes.LinearSVC'>>>; weight: <<{0: 1.0, 1: 92.13953488372093}>>; parameters: <<{'C': [0.001, 0.01, 0.1, 1.0, 10.0]}>>\n",
      "Fitting 12 folds for each of 5 candidates, totalling 60 fits\n"
     ]
    },
    {
     "name": "stderr",
     "output_type": "stream",
     "text": [
      "[Parallel(n_jobs=1)]: Done  60 out of  60 | elapsed:   10.2s finished\n"
     ]
    },
    {
     "name": "stdout",
     "output_type": "stream",
     "text": [
      "       Best parameters selected: <<{'C': 0.001}>> for score <<0.752145378146684>>.\n",
      "       4. Grid Search model <<<class 'sklearn.svm.classes.LinearSVC'>>>; weight: <<{0: 1.0, 1: 92.13953488372093}>>; parameters: <<{'C': [0.0003, 0.0004, 0.0004, 0.0005, 0.0005, 0.0006, 0.0006, 0.0007, 0.0007, 0.0008, 0.0008, 0.0009, 0.0009, 0.001, 0.001, 0.0011, 0.0013, 0.0014, 0.0016, 0.0017, 0.0019, 0.002, 0.0021, 0.0023, 0.0024, 0.0026, 0.0027, 0.0029, 0.003]}>>\n",
      "Fitting 12 folds for each of 29 candidates, totalling 348 fits\n"
     ]
    },
    {
     "name": "stderr",
     "output_type": "stream",
     "text": [
      "[Parallel(n_jobs=1)]: Done 348 out of 348 | elapsed:   21.1s finished\n"
     ]
    },
    {
     "name": "stdout",
     "output_type": "stream",
     "text": [
      "       Best parameters selected: <<{'C': 0.0029}>> for score <<0.7721045646859054>>.\n",
      "       5. Grid Search model <<<class 'sklearn.svm.classes.LinearSVC'>>>; weight: <<{0: 1.0, 1: 92.13953488372093}>>; parameters: <<{'C': [0.001, 0.0011, 0.0012, 0.0014, 0.0015, 0.0017, 0.0018, 0.0019, 0.0021, 0.0022, 0.0023, 0.0025, 0.0026, 0.0028, 0.0029, 0.0033, 0.0037, 0.0041, 0.0046, 0.005, 0.0054, 0.0058, 0.0062, 0.0066, 0.007, 0.0075, 0.0079, 0.0083, 0.0087]}>>\n",
      "Fitting 12 folds for each of 29 candidates, totalling 348 fits\n"
     ]
    },
    {
     "name": "stderr",
     "output_type": "stream",
     "text": [
      "[Parallel(n_jobs=1)]: Done 348 out of 348 | elapsed:   34.3s finished\n"
     ]
    },
    {
     "name": "stdout",
     "output_type": "stream",
     "text": [
      "       Best parameters selected: <<{'C': 0.0029}>> for score <<0.7721045646859054>>.\n",
      "       Final parameters selected: <<{'C': 0.0057}>> for score <<0.7719278776101649>>.\n",
      "\n",
      "          *** Prev Score on validation dataset (macro/weighted) <<0.7125552097504613>> / <<0.9422750424448217>>.\n",
      "\n",
      "          *** Score on validation dataset (macro/weighted) <<0.7791401618568147>> / <<0.9207696661007357>>.\n",
      "[[3228  265]\n",
      " [  15   26]]\n",
      "\n",
      "          *** Model has been refitted from <<0.749065452575535>> to <<0.7719278776101649>>.\n",
      "\n",
      "-------------------------------------------------------------------\n",
      "    51. ReFit model for class: <<shops>> ((20025, 23980)).\n",
      "    Tuning hyper-parameters for class: <<shops>> (Recall).\n",
      "       1. Grid Search model <<<class 'sklearn.svm.classes.LinearSVC'>>>; weight: <<balanced>>; parameters: <<{'C': [0.001, 0.01, 0.1, 1.0, 10.0]}>>\n",
      "Fitting 12 folds for each of 5 candidates, totalling 60 fits\n"
     ]
    },
    {
     "name": "stderr",
     "output_type": "stream",
     "text": [
      "[Parallel(n_jobs=1)]: Done  60 out of  60 | elapsed:    7.7s finished\n"
     ]
    },
    {
     "name": "stdout",
     "output_type": "stream",
     "text": [
      "       Best parameters selected: <<{'C': 0.01}>> for score <<0.6425884815277183>>.\n",
      "       2. Grid Search model <<<class 'sklearn.svm.classes.LinearSVC'>>>; weight: <<balanced>>; parameters: <<{'C': [0.0033, 0.0038, 0.0043, 0.0048, 0.0052, 0.0057, 0.0062, 0.0067, 0.0071, 0.0076, 0.0081, 0.0086, 0.009, 0.0095, 0.01, 0.0114, 0.0129, 0.0143, 0.0157, 0.0171, 0.0186, 0.02, 0.0214, 0.0229, 0.0243, 0.0257, 0.0271, 0.0286, 0.03]}>>\n",
      "Fitting 12 folds for each of 29 candidates, totalling 348 fits\n"
     ]
    },
    {
     "name": "stderr",
     "output_type": "stream",
     "text": [
      "[Parallel(n_jobs=1)]: Done 348 out of 348 | elapsed:   50.4s finished\n"
     ]
    },
    {
     "name": "stdout",
     "output_type": "stream",
     "text": [
      "       Best parameters selected: <<{'C': 0.0033}>> for score <<0.652936870422525>>.\n",
      "       3. Grid Search model <<<class 'sklearn.svm.classes.LinearSVC'>>>; weight: <<balanced>>; parameters: <<{'C': [0.0011, 0.0013, 0.0014, 0.0016, 0.0017, 0.0019, 0.002, 0.0022, 0.0024, 0.0025, 0.0027, 0.0028, 0.003, 0.0031, 0.0033, 0.0038, 0.0042, 0.0047, 0.0052, 0.0057, 0.0061, 0.0066, 0.0071, 0.0075, 0.008, 0.0085, 0.009, 0.0094, 0.0099]}>>\n",
      "Fitting 12 folds for each of 29 candidates, totalling 348 fits\n"
     ]
    },
    {
     "name": "stderr",
     "output_type": "stream",
     "text": [
      "[Parallel(n_jobs=1)]: Done 348 out of 348 | elapsed:   35.2s finished\n"
     ]
    },
    {
     "name": "stdout",
     "output_type": "stream",
     "text": [
      "       Best parameters selected: <<{'C': 0.002}>> for score <<0.6552759039399408>>.\n",
      "       4. Grid Search model <<<class 'sklearn.svm.classes.LinearSVC'>>>; weight: <<balanced>>; parameters: <<{'C': [0.0007, 0.0008, 0.0009, 0.001, 0.001, 0.0011, 0.0012, 0.0013, 0.0014, 0.0015, 0.0016, 0.0017, 0.0018, 0.0019, 0.002, 0.0023, 0.0026, 0.0029, 0.0031, 0.0034, 0.0037, 0.004, 0.0043, 0.0046, 0.0049, 0.0051, 0.0054, 0.0057, 0.006]}>>\n",
      "Fitting 12 folds for each of 29 candidates, totalling 348 fits\n"
     ]
    },
    {
     "name": "stderr",
     "output_type": "stream",
     "text": [
      "[Parallel(n_jobs=1)]: Done 348 out of 348 | elapsed:   29.0s finished\n"
     ]
    },
    {
     "name": "stdout",
     "output_type": "stream",
     "text": [
      "       Best parameters selected: <<{'C': 0.002}>> for score <<0.6552759039399408>>.\n",
      "       4. Grid Search model <<<class 'sklearn.svm.classes.LinearSVC'>>>; weight: <<{0: 1.0, 1: 237.39285714285714}>>; parameters: <<{'C': [0.001, 0.01, 0.1, 1.0, 10.0]}>>\n",
      "Fitting 12 folds for each of 5 candidates, totalling 60 fits\n"
     ]
    },
    {
     "name": "stderr",
     "output_type": "stream",
     "text": [
      "[Parallel(n_jobs=1)]: Done  60 out of  60 | elapsed:    8.3s finished\n"
     ]
    },
    {
     "name": "stdout",
     "output_type": "stream",
     "text": [
      "       Best parameters selected: <<{'C': 0.001}>> for score <<0.6551254600990043>>.\n",
      "       5. Grid Search model <<<class 'sklearn.svm.classes.LinearSVC'>>>; weight: <<{0: 1.0, 1: 237.39285714285714}>>; parameters: <<{'C': [0.0003, 0.0004, 0.0004, 0.0005, 0.0005, 0.0006, 0.0006, 0.0007, 0.0007, 0.0008, 0.0008, 0.0009, 0.0009, 0.001, 0.001, 0.0011, 0.0013, 0.0014, 0.0016, 0.0017, 0.0019, 0.002, 0.0021, 0.0023, 0.0024, 0.0026, 0.0027, 0.0029, 0.003]}>>\n",
      "Fitting 12 folds for each of 29 candidates, totalling 348 fits\n"
     ]
    },
    {
     "name": "stderr",
     "output_type": "stream",
     "text": [
      "[Parallel(n_jobs=1)]: Done 348 out of 348 | elapsed:   28.5s finished\n"
     ]
    },
    {
     "name": "stdout",
     "output_type": "stream",
     "text": [
      "       Best parameters selected: <<{'C': 0.001}>> for score <<0.6551254600990043>>.\n",
      "       Final parameters selected: <<{'C': 0.002}>> for score <<0.6552759039399408>>.\n",
      "\n",
      "          *** Prev Score on validation dataset (macro/weighted) <<0.6419661494354048>> / <<0.8688455008488964>>.\n",
      "\n",
      "          *** Score on validation dataset (macro/weighted) <<0.6724827560585984>> / <<0.8641765704584041>>.\n",
      "[[3043  468]\n",
      " [  12   11]]\n",
      "\n",
      "          *** Model has been refitted from <<0.6296152515175798>> to <<0.6552759039399408>>.\n",
      "\n",
      "-------------------------------------------------------------------\n",
      "    52. ReFit model for class: <<aid_centers>> ((20025, 23980)).\n",
      "    Tuning hyper-parameters for class: <<aid_centers>> (Recall).\n",
      "       1. Grid Search model <<<class 'sklearn.svm.classes.LinearSVC'>>>; weight: <<balanced>>; parameters: <<{'C': [0.001, 0.01, 0.1, 1.0, 10.0]}>>\n",
      "Fitting 12 folds for each of 5 candidates, totalling 60 fits\n"
     ]
    },
    {
     "name": "stderr",
     "output_type": "stream",
     "text": [
      "[Parallel(n_jobs=1)]: Done  60 out of  60 | elapsed:   12.9s finished\n"
     ]
    },
    {
     "name": "stdout",
     "output_type": "stream",
     "text": [
      "       Best parameters selected: <<{'C': 0.01}>> for score <<0.7363373950079382>>.\n",
      "       2. Grid Search model <<<class 'sklearn.svm.classes.LinearSVC'>>>; weight: <<balanced>>; parameters: <<{'C': [0.0033, 0.0038, 0.0043, 0.0048, 0.0052, 0.0057, 0.0062, 0.0067, 0.0071, 0.0076, 0.0081, 0.0086, 0.009, 0.0095, 0.01, 0.0114, 0.0129, 0.0143, 0.0157, 0.0171, 0.0186, 0.02, 0.0214, 0.0229, 0.0243, 0.0257, 0.0271, 0.0286, 0.03]}>>\n",
      "Fitting 12 folds for each of 29 candidates, totalling 348 fits\n"
     ]
    },
    {
     "name": "stderr",
     "output_type": "stream",
     "text": [
      "[Parallel(n_jobs=1)]: Done 348 out of 348 | elapsed:   39.4s finished\n"
     ]
    },
    {
     "name": "stdout",
     "output_type": "stream",
     "text": [
      "       Best parameters selected: <<{'C': 0.0057}>> for score <<0.7488135238978912>>.\n",
      "       3. Grid Search model <<<class 'sklearn.svm.classes.LinearSVC'>>>; weight: <<balanced>>; parameters: <<{'C': [0.0019, 0.0022, 0.0024, 0.0027, 0.003, 0.0033, 0.0035, 0.0038, 0.0041, 0.0043, 0.0046, 0.0049, 0.0052, 0.0054, 0.0057, 0.0065, 0.0073, 0.0081, 0.009, 0.0098, 0.0106, 0.0114, 0.0122, 0.013, 0.0138, 0.0147, 0.0155, 0.0163, 0.0171]}>>\n",
      "Fitting 12 folds for each of 29 candidates, totalling 348 fits\n"
     ]
    },
    {
     "name": "stderr",
     "output_type": "stream",
     "text": [
      "[Parallel(n_jobs=1)]: Done 348 out of 348 | elapsed:   31.5s finished\n"
     ]
    },
    {
     "name": "stdout",
     "output_type": "stream",
     "text": [
      "       Best parameters selected: <<{'C': 0.0057}>> for score <<0.7488135238978912>>.\n",
      "       3. Grid Search model <<<class 'sklearn.svm.classes.LinearSVC'>>>; weight: <<{0: 1.0, 1: 83.13865546218487}>>; parameters: <<{'C': [0.001, 0.01, 0.1, 1.0, 10.0]}>>\n",
      "Fitting 12 folds for each of 5 candidates, totalling 60 fits\n"
     ]
    },
    {
     "name": "stderr",
     "output_type": "stream",
     "text": [
      "[Parallel(n_jobs=1)]: Done  60 out of  60 | elapsed:   13.2s finished\n"
     ]
    },
    {
     "name": "stdout",
     "output_type": "stream",
     "text": [
      "       Best parameters selected: <<{'C': 0.001}>> for score <<0.7450421955640458>>.\n",
      "       4. Grid Search model <<<class 'sklearn.svm.classes.LinearSVC'>>>; weight: <<{0: 1.0, 1: 83.13865546218487}>>; parameters: <<{'C': [0.0003, 0.0004, 0.0004, 0.0005, 0.0005, 0.0006, 0.0006, 0.0007, 0.0007, 0.0008, 0.0008, 0.0009, 0.0009, 0.001, 0.001, 0.0011, 0.0013, 0.0014, 0.0016, 0.0017, 0.0019, 0.002, 0.0021, 0.0023, 0.0024, 0.0026, 0.0027, 0.0029, 0.003]}>>\n",
      "Fitting 12 folds for each of 29 candidates, totalling 348 fits\n"
     ]
    },
    {
     "name": "stderr",
     "output_type": "stream",
     "text": [
      "[Parallel(n_jobs=1)]: Done 348 out of 348 | elapsed:   20.6s finished\n"
     ]
    },
    {
     "name": "stdout",
     "output_type": "stream",
     "text": [
      "       Best parameters selected: <<{'C': 0.0029}>> for score <<0.7488893687059163>>.\n",
      "       5. Grid Search model <<<class 'sklearn.svm.classes.LinearSVC'>>>; weight: <<{0: 1.0, 1: 83.13865546218487}>>; parameters: <<{'C': [0.001, 0.0011, 0.0012, 0.0014, 0.0015, 0.0017, 0.0018, 0.0019, 0.0021, 0.0022, 0.0023, 0.0025, 0.0026, 0.0028, 0.0029, 0.0033, 0.0037, 0.0041, 0.0046, 0.005, 0.0054, 0.0058, 0.0062, 0.0066, 0.007, 0.0075, 0.0079, 0.0083, 0.0087]}>>\n",
      "Fitting 12 folds for each of 29 candidates, totalling 348 fits\n"
     ]
    },
    {
     "name": "stderr",
     "output_type": "stream",
     "text": [
      "[Parallel(n_jobs=1)]: Done 348 out of 348 | elapsed:   31.4s finished\n"
     ]
    },
    {
     "name": "stdout",
     "output_type": "stream",
     "text": [
      "       Best parameters selected: <<{'C': 0.0029}>> for score <<0.7488893687059163>>.\n",
      "       Final parameters selected: <<{'C': 0.0057}>> for score <<0.7488135238978912>>.\n",
      "\n",
      "          *** Prev Score on validation dataset (macro/weighted) <<0.7299795196910996>> / <<0.879881154499151>>.\n",
      "\n",
      "          *** Score on validation dataset (macro/weighted) <<0.7538095858296432>> / <<0.8904923599320883>>.\n",
      "[[3120  370]\n",
      " [  17   27]]\n",
      "\n",
      "          *** Model has been refitted from <<0.7484791296764767>> to <<0.7488135238978912>>.\n",
      "\n",
      "-------------------------------------------------------------------\n",
      "    53. ReFit model for class: <<other_infrastructure>> ((20025, 23980)).\n",
      "    Tuning hyper-parameters for class: <<other_infrastructure>> (Recall).\n",
      "       1. Grid Search model <<<class 'sklearn.svm.classes.LinearSVC'>>>; weight: <<balanced>>; parameters: <<{'C': [0.001, 0.01, 0.1, 1.0, 10.0]}>>\n",
      "Fitting 12 folds for each of 5 candidates, totalling 60 fits\n"
     ]
    },
    {
     "name": "stderr",
     "output_type": "stream",
     "text": [
      "[Parallel(n_jobs=1)]: Done  60 out of  60 | elapsed:   19.0s finished\n"
     ]
    },
    {
     "name": "stdout",
     "output_type": "stream",
     "text": [
      "       Best parameters selected: <<{'C': 0.01}>> for score <<0.7440305608008239>>.\n",
      "       2. Grid Search model <<<class 'sklearn.svm.classes.LinearSVC'>>>; weight: <<balanced>>; parameters: <<{'C': [0.0033, 0.0038, 0.0043, 0.0048, 0.0052, 0.0057, 0.0062, 0.0067, 0.0071, 0.0076, 0.0081, 0.0086, 0.009, 0.0095, 0.01, 0.0114, 0.0129, 0.0143, 0.0157, 0.0171, 0.0186, 0.02, 0.0214, 0.0229, 0.0243, 0.0257, 0.0271, 0.0286, 0.03]}>>\n",
      "Fitting 12 folds for each of 29 candidates, totalling 348 fits\n"
     ]
    },
    {
     "name": "stderr",
     "output_type": "stream",
     "text": [
      "[Parallel(n_jobs=1)]: Done 348 out of 348 | elapsed:   25.0s finished\n"
     ]
    },
    {
     "name": "stdout",
     "output_type": "stream",
     "text": [
      "       Best parameters selected: <<{'C': 0.0129}>> for score <<0.74640897597039>>.\n",
      "       3. Grid Search model <<<class 'sklearn.svm.classes.LinearSVC'>>>; weight: <<balanced>>; parameters: <<{'C': [0.0043, 0.0049, 0.0055, 0.0061, 0.0068, 0.0074, 0.008, 0.0086, 0.0092, 0.0098, 0.0104, 0.0111, 0.0117, 0.0123, 0.0129, 0.0147, 0.0166, 0.0184, 0.0203, 0.0221, 0.024, 0.0258, 0.0276, 0.0295, 0.0313, 0.0332, 0.035, 0.0369, 0.0387]}>>\n",
      "Fitting 12 folds for each of 29 candidates, totalling 348 fits\n"
     ]
    },
    {
     "name": "stderr",
     "output_type": "stream",
     "text": [
      "[Parallel(n_jobs=1)]: Done 348 out of 348 | elapsed:   27.9s finished\n"
     ]
    },
    {
     "name": "stdout",
     "output_type": "stream",
     "text": [
      "       Best parameters selected: <<{'C': 0.0147}>> for score <<0.7468206024684271>>.\n",
      "       4. Grid Search model <<<class 'sklearn.svm.classes.LinearSVC'>>>; weight: <<balanced>>; parameters: <<{'C': [0.0049, 0.0056, 0.0063, 0.007, 0.0077, 0.0084, 0.0091, 0.0098, 0.0105, 0.0112, 0.0119, 0.0126, 0.0133, 0.014, 0.0147, 0.0168, 0.0189, 0.021, 0.0231, 0.0252, 0.0273, 0.0294, 0.0315, 0.0336, 0.0357, 0.0378, 0.0399, 0.042, 0.0441]}>>\n",
      "Fitting 12 folds for each of 29 candidates, totalling 348 fits\n"
     ]
    },
    {
     "name": "stderr",
     "output_type": "stream",
     "text": [
      "[Parallel(n_jobs=1)]: Done 348 out of 348 | elapsed:   30.1s finished\n"
     ]
    },
    {
     "name": "stdout",
     "output_type": "stream",
     "text": [
      "       Best parameters selected: <<{'C': 0.0133}>> for score <<0.7468456560187006>>.\n",
      "       5. Grid Search model <<<class 'sklearn.svm.classes.LinearSVC'>>>; weight: <<balanced>>; parameters: <<{'C': [0.0044, 0.0051, 0.0057, 0.0063, 0.007, 0.0076, 0.0082, 0.0089, 0.0095, 0.0101, 0.0108, 0.0114, 0.012, 0.0127, 0.0133, 0.0152, 0.0171, 0.019, 0.0209, 0.0228, 0.0247, 0.0266, 0.0285, 0.0304, 0.0323, 0.0342, 0.0361, 0.038, 0.0399]}>>\n",
      "Fitting 12 folds for each of 29 candidates, totalling 348 fits\n"
     ]
    },
    {
     "name": "stderr",
     "output_type": "stream",
     "text": [
      "[Parallel(n_jobs=1)]: Done 348 out of 348 | elapsed:   28.7s finished\n"
     ]
    },
    {
     "name": "stdout",
     "output_type": "stream",
     "text": [
      "       Best parameters selected: <<{'C': 0.0133}>> for score <<0.7468456560187006>>.\n",
      "       5. Grid Search model <<<class 'sklearn.svm.classes.LinearSVC'>>>; weight: <<{0: 1.0, 1: 43.3054298642534}>>; parameters: <<{'C': [0.001, 0.01, 0.1, 1.0, 10.0]}>>\n",
      "Fitting 12 folds for each of 5 candidates, totalling 60 fits\n"
     ]
    },
    {
     "name": "stderr",
     "output_type": "stream",
     "text": [
      "[Parallel(n_jobs=1)]: Done  60 out of  60 | elapsed:   22.1s finished\n"
     ]
    },
    {
     "name": "stdout",
     "output_type": "stream",
     "text": [
      "       Best parameters selected: <<{'C': 0.01}>> for score <<0.7633532868488647>>.\n",
      "       6. Grid Search model <<<class 'sklearn.svm.classes.LinearSVC'>>>; weight: <<{0: 1.0, 1: 43.3054298642534}>>; parameters: <<{'C': [0.0033, 0.0038, 0.0043, 0.0048, 0.0052, 0.0057, 0.0062, 0.0067, 0.0071, 0.0076, 0.0081, 0.0086, 0.009, 0.0095, 0.01, 0.0114, 0.0129, 0.0143, 0.0157, 0.0171, 0.0186, 0.02, 0.0214, 0.0229, 0.0243, 0.0257, 0.0271, 0.0286, 0.03]}>>\n",
      "Fitting 12 folds for each of 29 candidates, totalling 348 fits\n"
     ]
    },
    {
     "name": "stderr",
     "output_type": "stream",
     "text": [
      "[Parallel(n_jobs=1)]: Done 348 out of 348 | elapsed:   49.4s finished\n"
     ]
    },
    {
     "name": "stdout",
     "output_type": "stream",
     "text": [
      "       Best parameters selected: <<{'C': 0.009}>> for score <<0.7639762738861554>>.\n",
      "       7. Grid Search model <<<class 'sklearn.svm.classes.LinearSVC'>>>; weight: <<{0: 1.0, 1: 43.3054298642534}>>; parameters: <<{'C': [0.003, 0.0034, 0.0039, 0.0043, 0.0047, 0.0051, 0.0056, 0.006, 0.0064, 0.0069, 0.0073, 0.0077, 0.0081, 0.0086, 0.009, 0.0103, 0.0116, 0.0129, 0.0141, 0.0154, 0.0167, 0.018, 0.0193, 0.0206, 0.0219, 0.0231, 0.0244, 0.0257, 0.027]}>>\n",
      "Fitting 12 folds for each of 29 candidates, totalling 348 fits\n"
     ]
    },
    {
     "name": "stderr",
     "output_type": "stream",
     "text": [
      "[Parallel(n_jobs=1)]: Done 348 out of 348 | elapsed:   46.3s finished\n"
     ]
    },
    {
     "name": "stdout",
     "output_type": "stream",
     "text": [
      "       Best parameters selected: <<{'C': 0.009}>> for score <<0.7639762738861554>>.\n",
      "       Final parameters selected: <<{'C': 0.0133}>> for score <<0.7468456560187006>>.\n",
      "\n",
      "          *** Prev Score on validation dataset (macro/weighted) <<0.7096037708057151>> / <<0.8085738539898133>>.\n",
      "\n",
      "          *** Score on validation dataset (macro/weighted) <<0.7108753155823888>> / <<0.8324844368986983>>.\n",
      "[[2857  530]\n",
      " [  62   85]]\n",
      "\n",
      "          *** Model has been refitted from <<0.7429237031008017>> to <<0.7468456560187006>>.\n",
      "\n",
      "-------------------------------------------------------------------\n",
      "    54. ReFit model for class: <<fire>> ((20025, 23980)).\n",
      "    Tuning hyper-parameters for class: <<fire>> (Recall).\n",
      "       1. Grid Search model <<<class 'sklearn.svm.classes.LinearSVC'>>>; weight: <<balanced>>; parameters: <<{'C': [0.001, 0.01, 0.1, 1.0, 10.0]}>>\n",
      "Fitting 12 folds for each of 5 candidates, totalling 60 fits\n"
     ]
    },
    {
     "name": "stderr",
     "output_type": "stream",
     "text": [
      "[Parallel(n_jobs=1)]: Done  60 out of  60 | elapsed:   10.4s finished\n"
     ]
    },
    {
     "name": "stdout",
     "output_type": "stream",
     "text": [
      "       Best parameters selected: <<{'C': 0.01}>> for score <<0.7532310373048472>>.\n",
      "       2. Grid Search model <<<class 'sklearn.svm.classes.LinearSVC'>>>; weight: <<balanced>>; parameters: <<{'C': [0.0033, 0.0038, 0.0043, 0.0048, 0.0052, 0.0057, 0.0062, 0.0067, 0.0071, 0.0076, 0.0081, 0.0086, 0.009, 0.0095, 0.01, 0.0114, 0.0129, 0.0143, 0.0157, 0.0171, 0.0186, 0.02, 0.0214, 0.0229, 0.0243, 0.0257, 0.0271, 0.0286, 0.03]}>>\n",
      "Fitting 12 folds for each of 29 candidates, totalling 348 fits\n"
     ]
    },
    {
     "name": "stderr",
     "output_type": "stream",
     "text": [
      "[Parallel(n_jobs=1)]: Done 348 out of 348 | elapsed:   39.4s finished\n"
     ]
    },
    {
     "name": "stdout",
     "output_type": "stream",
     "text": [
      "       Best parameters selected: <<{'C': 0.0067}>> for score <<0.7605203354193794>>.\n",
      "       3. Grid Search model <<<class 'sklearn.svm.classes.LinearSVC'>>>; weight: <<balanced>>; parameters: <<{'C': [0.0022, 0.0026, 0.0029, 0.0032, 0.0035, 0.0038, 0.0041, 0.0045, 0.0048, 0.0051, 0.0054, 0.0057, 0.0061, 0.0064, 0.0067, 0.0077, 0.0086, 0.0096, 0.0105, 0.0115, 0.0124, 0.0134, 0.0144, 0.0153, 0.0163, 0.0172, 0.0182, 0.0191, 0.0201]}>>\n",
      "Fitting 12 folds for each of 29 candidates, totalling 348 fits\n"
     ]
    },
    {
     "name": "stderr",
     "output_type": "stream",
     "text": [
      "[Parallel(n_jobs=1)]: Done 348 out of 348 | elapsed:   34.0s finished\n"
     ]
    },
    {
     "name": "stdout",
     "output_type": "stream",
     "text": [
      "       Best parameters selected: <<{'C': 0.0067}>> for score <<0.7605203354193794>>.\n",
      "       3. Grid Search model <<<class 'sklearn.svm.classes.LinearSVC'>>>; weight: <<{0: 1.0, 1: 88.79820627802691}>>; parameters: <<{'C': [0.001, 0.01, 0.1, 1.0, 10.0]}>>\n",
      "Fitting 12 folds for each of 5 candidates, totalling 60 fits\n"
     ]
    },
    {
     "name": "stderr",
     "output_type": "stream",
     "text": [
      "[Parallel(n_jobs=1)]: Done  60 out of  60 | elapsed:   10.9s finished\n"
     ]
    },
    {
     "name": "stdout",
     "output_type": "stream",
     "text": [
      "       Best parameters selected: <<{'C': 0.001}>> for score <<0.7609461454147792>>.\n",
      "       4. Grid Search model <<<class 'sklearn.svm.classes.LinearSVC'>>>; weight: <<{0: 1.0, 1: 88.79820627802691}>>; parameters: <<{'C': [0.0003, 0.0004, 0.0004, 0.0005, 0.0005, 0.0006, 0.0006, 0.0007, 0.0007, 0.0008, 0.0008, 0.0009, 0.0009, 0.001, 0.001, 0.0011, 0.0013, 0.0014, 0.0016, 0.0017, 0.0019, 0.002, 0.0021, 0.0023, 0.0024, 0.0026, 0.0027, 0.0029, 0.003]}>>\n",
      "Fitting 12 folds for each of 29 candidates, totalling 348 fits\n"
     ]
    },
    {
     "name": "stderr",
     "output_type": "stream",
     "text": [
      "[Parallel(n_jobs=1)]: Done 348 out of 348 | elapsed:   19.8s finished\n"
     ]
    },
    {
     "name": "stdout",
     "output_type": "stream",
     "text": [
      "       Best parameters selected: <<{'C': 0.0011}>> for score <<0.7626242918045448>>.\n",
      "       5. Grid Search model <<<class 'sklearn.svm.classes.LinearSVC'>>>; weight: <<{0: 1.0, 1: 88.79820627802691}>>; parameters: <<{'C': [0.0004, 0.0004, 0.0005, 0.0005, 0.0006, 0.0006, 0.0007, 0.0007, 0.0008, 0.0008, 0.0009, 0.0009, 0.001, 0.001, 0.0011, 0.0013, 0.0014, 0.0016, 0.0017, 0.0019, 0.002, 0.0022, 0.0024, 0.0025, 0.0027, 0.0028, 0.003, 0.0031, 0.0033]}>>\n",
      "Fitting 12 folds for each of 29 candidates, totalling 348 fits\n"
     ]
    },
    {
     "name": "stderr",
     "output_type": "stream",
     "text": [
      "[Parallel(n_jobs=1)]: Done 348 out of 348 | elapsed:   20.3s finished\n"
     ]
    },
    {
     "name": "stdout",
     "output_type": "stream",
     "text": [
      "       Best parameters selected: <<{'C': 0.0011}>> for score <<0.7626242918045448>>.\n",
      "       Final parameters selected: <<{'C': 0.0067}>> for score <<0.7605203354193794>>.\n",
      "\n",
      "          *** Prev Score on validation dataset (macro/weighted) <<0.7185560670157849>> / <<0.9541595925297114>>.\n",
      "\n",
      "          *** Score on validation dataset (macro/weighted) <<0.7577315572174184>> / <<0.966044142614601>>.\n",
      "[[3396  105]\n",
      " [  15   18]]\n",
      "\n",
      "-------------------------------------------------------------------\n",
      "    55. ReFit model for class: <<other_weather>> ((20025, 23980)).\n",
      "    Tuning hyper-parameters for class: <<other_weather>> (Recall).\n",
      "       1. Grid Search model <<<class 'sklearn.svm.classes.LinearSVC'>>>; weight: <<balanced>>; parameters: <<{'C': [0.001, 0.01, 0.1, 1.0, 10.0]}>>\n",
      "Fitting 12 folds for each of 5 candidates, totalling 60 fits\n"
     ]
    },
    {
     "name": "stderr",
     "output_type": "stream",
     "text": [
      "[Parallel(n_jobs=1)]: Done  60 out of  60 | elapsed:   17.8s finished\n"
     ]
    },
    {
     "name": "stdout",
     "output_type": "stream",
     "text": [
      "       Best parameters selected: <<{'C': 0.01}>> for score <<0.744836932417942>>.\n",
      "       2. Grid Search model <<<class 'sklearn.svm.classes.LinearSVC'>>>; weight: <<balanced>>; parameters: <<{'C': [0.0033, 0.0038, 0.0043, 0.0048, 0.0052, 0.0057, 0.0062, 0.0067, 0.0071, 0.0076, 0.0081, 0.0086, 0.009, 0.0095, 0.01, 0.0114, 0.0129, 0.0143, 0.0157, 0.0171, 0.0186, 0.02, 0.0214, 0.0229, 0.0243, 0.0257, 0.0271, 0.0286, 0.03]}>>\n",
      "Fitting 12 folds for each of 29 candidates, totalling 348 fits\n"
     ]
    },
    {
     "name": "stderr",
     "output_type": "stream",
     "text": [
      "[Parallel(n_jobs=1)]: Done 348 out of 348 | elapsed:   23.2s finished\n"
     ]
    },
    {
     "name": "stdout",
     "output_type": "stream",
     "text": [
      "       Best parameters selected: <<{'C': 0.0114}>> for score <<0.7469384882410252>>.\n",
      "       3. Grid Search model <<<class 'sklearn.svm.classes.LinearSVC'>>>; weight: <<balanced>>; parameters: <<{'C': [0.0038, 0.0043, 0.0049, 0.0054, 0.006, 0.0065, 0.0071, 0.0076, 0.0081, 0.0087, 0.0092, 0.0098, 0.0103, 0.0109, 0.0114, 0.013, 0.0147, 0.0163, 0.0179, 0.0195, 0.0212, 0.0228, 0.0244, 0.0261, 0.0277, 0.0293, 0.0309, 0.0326, 0.0342]}>>\n",
      "Fitting 12 folds for each of 29 candidates, totalling 348 fits\n"
     ]
    },
    {
     "name": "stderr",
     "output_type": "stream",
     "text": [
      "[Parallel(n_jobs=1)]: Done 348 out of 348 | elapsed:   24.5s finished\n"
     ]
    },
    {
     "name": "stdout",
     "output_type": "stream",
     "text": [
      "       Best parameters selected: <<{'C': 0.0114}>> for score <<0.7469384882410252>>.\n",
      "       3. Grid Search model <<<class 'sklearn.svm.classes.LinearSVC'>>>; weight: <<{0: 1.0, 1: 36.142857142857146}>>; parameters: <<{'C': [0.001, 0.01, 0.1, 1.0, 10.0]}>>\n",
      "Fitting 12 folds for each of 5 candidates, totalling 60 fits\n"
     ]
    },
    {
     "name": "stderr",
     "output_type": "stream",
     "text": [
      "[Parallel(n_jobs=1)]: Done  60 out of  60 | elapsed:   23.5s finished\n"
     ]
    },
    {
     "name": "stdout",
     "output_type": "stream",
     "text": [
      "       Best parameters selected: <<{'C': 0.01}>> for score <<0.7456858033210847>>.\n",
      "       4. Grid Search model <<<class 'sklearn.svm.classes.LinearSVC'>>>; weight: <<{0: 1.0, 1: 36.142857142857146}>>; parameters: <<{'C': [0.0033, 0.0038, 0.0043, 0.0048, 0.0052, 0.0057, 0.0062, 0.0067, 0.0071, 0.0076, 0.0081, 0.0086, 0.009, 0.0095, 0.01, 0.0114, 0.0129, 0.0143, 0.0157, 0.0171, 0.0186, 0.02, 0.0214, 0.0229, 0.0243, 0.0257, 0.0271, 0.0286, 0.03]}>>\n",
      "Fitting 12 folds for each of 29 candidates, totalling 348 fits\n"
     ]
    },
    {
     "name": "stderr",
     "output_type": "stream",
     "text": [
      "[Parallel(n_jobs=1)]: Done 348 out of 348 | elapsed:   44.3s finished\n"
     ]
    },
    {
     "name": "stdout",
     "output_type": "stream",
     "text": [
      "       Best parameters selected: <<{'C': 0.0229}>> for score <<0.7541840532277515>>.\n",
      "       5. Grid Search model <<<class 'sklearn.svm.classes.LinearSVC'>>>; weight: <<{0: 1.0, 1: 36.142857142857146}>>; parameters: <<{'C': [0.0076, 0.0087, 0.0098, 0.0109, 0.012, 0.0131, 0.0142, 0.0153, 0.0164, 0.0174, 0.0185, 0.0196, 0.0207, 0.0218, 0.0229, 0.0262, 0.0294, 0.0327, 0.036, 0.0393, 0.0425, 0.0458, 0.0491, 0.0523, 0.0556, 0.0589, 0.0622, 0.0654, 0.0687]}>>\n",
      "Fitting 12 folds for each of 29 candidates, totalling 348 fits\n"
     ]
    },
    {
     "name": "stderr",
     "output_type": "stream",
     "text": [
      "[Parallel(n_jobs=1)]: Done 348 out of 348 | elapsed:  1.2min finished\n"
     ]
    },
    {
     "name": "stdout",
     "output_type": "stream",
     "text": [
      "       Best parameters selected: <<{'C': 0.0207}>> for score <<0.7543552851142938>>.\n",
      "       6. Grid Search model <<<class 'sklearn.svm.classes.LinearSVC'>>>; weight: <<{0: 1.0, 1: 36.142857142857146}>>; parameters: <<{'C': [0.0069, 0.0079, 0.0089, 0.0099, 0.0108, 0.0118, 0.0128, 0.0138, 0.0148, 0.0158, 0.0168, 0.0177, 0.0187, 0.0197, 0.0207, 0.0237, 0.0266, 0.0296, 0.0325, 0.0355, 0.0384, 0.0414, 0.0444, 0.0473, 0.0503, 0.0532, 0.0562, 0.0591, 0.0621]}>>\n",
      "Fitting 12 folds for each of 29 candidates, totalling 348 fits\n"
     ]
    },
    {
     "name": "stderr",
     "output_type": "stream",
     "text": [
      "[Parallel(n_jobs=1)]: Done 348 out of 348 | elapsed:  1.1min finished\n"
     ]
    },
    {
     "name": "stdout",
     "output_type": "stream",
     "text": [
      "       Best parameters selected: <<{'C': 0.0207}>> for score <<0.7543552851142938>>.\n",
      "       Final parameters selected: <<{'C': 0.0114}>> for score <<0.7469384882410252>>.\n",
      "\n",
      "          *** Prev Score on validation dataset (macro/weighted) <<0.7411798727588201>> / <<0.8450764006791172>>.\n",
      "\n",
      "          *** Score on validation dataset (macro/weighted) <<0.7578024533181484>> / <<0.83446519524618>>.\n",
      "[[2822  523]\n",
      " [  62  127]]\n",
      "\n",
      "-------------------------------------------------------------------\n",
      "    56. ReFit model for class: <<direct_report>> ((20025, 23980)).\n",
      "    Tuning hyper-parameters for class: <<direct_report>> (Recall).\n",
      "       1. Grid Search model <<<class 'sklearn.svm.classes.LinearSVC'>>>; weight: <<balanced>>; parameters: <<{'C': [0.001, 0.01, 0.1, 1.0, 10.0]}>>\n",
      "Fitting 12 folds for each of 5 candidates, totalling 60 fits\n"
     ]
    },
    {
     "name": "stderr",
     "output_type": "stream",
     "text": [
      "[Parallel(n_jobs=1)]: Done  60 out of  60 | elapsed:   20.8s finished\n"
     ]
    },
    {
     "name": "stdout",
     "output_type": "stream",
     "text": [
      "       Best parameters selected: <<{'C': 0.1}>> for score <<0.7896369694758402>>.\n",
      "       2. Grid Search model <<<class 'sklearn.svm.classes.LinearSVC'>>>; weight: <<balanced>>; parameters: <<{'C': [0.0333, 0.0381, 0.0429, 0.0476, 0.0524, 0.0571, 0.0619, 0.0667, 0.0714, 0.0762, 0.081, 0.0857, 0.0905, 0.0952, 0.1, 0.1143, 0.1286, 0.1429, 0.1571, 0.1714, 0.1857, 0.2, 0.2143, 0.2286, 0.2429, 0.2571, 0.2714, 0.2857, 0.3]}>>\n",
      "Fitting 12 folds for each of 29 candidates, totalling 348 fits\n"
     ]
    },
    {
     "name": "stderr",
     "output_type": "stream",
     "text": [
      "[Parallel(n_jobs=1)]: Done 348 out of 348 | elapsed:   41.8s finished\n"
     ]
    },
    {
     "name": "stdout",
     "output_type": "stream",
     "text": [
      "       Best parameters selected: <<{'C': 0.0667}>> for score <<0.7919578267824272>>.\n",
      "       3. Grid Search model <<<class 'sklearn.svm.classes.LinearSVC'>>>; weight: <<balanced>>; parameters: <<{'C': [0.0222, 0.0254, 0.0286, 0.0318, 0.0349, 0.0381, 0.0413, 0.0445, 0.0476, 0.0508, 0.054, 0.0572, 0.0603, 0.0635, 0.0667, 0.0762, 0.0858, 0.0953, 0.1048, 0.1143, 0.1239, 0.1334, 0.1429, 0.1525, 0.162, 0.1715, 0.181, 0.1906, 0.2001]}>>\n",
      "Fitting 12 folds for each of 29 candidates, totalling 348 fits\n"
     ]
    },
    {
     "name": "stderr",
     "output_type": "stream",
     "text": [
      "[Parallel(n_jobs=1)]: Done 348 out of 348 | elapsed:   33.4s finished\n"
     ]
    },
    {
     "name": "stdout",
     "output_type": "stream",
     "text": [
      "       Best parameters selected: <<{'C': 0.0667}>> for score <<0.7919578267824272>>.\n",
      "       3. Grid Search model <<<class 'sklearn.svm.classes.LinearSVC'>>>; weight: <<{0: 1.0, 1: 8.364906832298136}>>; parameters: <<{'C': [0.001, 0.01, 0.1, 1.0, 10.0]}>>\n",
      "Fitting 12 folds for each of 5 candidates, totalling 60 fits\n"
     ]
    },
    {
     "name": "stderr",
     "output_type": "stream",
     "text": [
      "[Parallel(n_jobs=1)]: Done  60 out of  60 | elapsed:   30.4s finished\n"
     ]
    },
    {
     "name": "stdout",
     "output_type": "stream",
     "text": [
      "       Best parameters selected: <<{'C': 0.1}>> for score <<0.777979836320934>>.\n",
      "       4. Grid Search model <<<class 'sklearn.svm.classes.LinearSVC'>>>; weight: <<{0: 1.0, 1: 8.364906832298136}>>; parameters: <<{'C': [0.0333, 0.0381, 0.0429, 0.0476, 0.0524, 0.0571, 0.0619, 0.0667, 0.0714, 0.0762, 0.081, 0.0857, 0.0905, 0.0952, 0.1, 0.1143, 0.1286, 0.1429, 0.1571, 0.1714, 0.1857, 0.2, 0.2143, 0.2286, 0.2429, 0.2571, 0.2714, 0.2857, 0.3]}>>\n",
      "Fitting 12 folds for each of 29 candidates, totalling 348 fits\n"
     ]
    },
    {
     "name": "stderr",
     "output_type": "stream",
     "text": [
      "[Parallel(n_jobs=1)]: Done 348 out of 348 | elapsed:  1.4min finished\n"
     ]
    },
    {
     "name": "stdout",
     "output_type": "stream",
     "text": [
      "       Best parameters selected: <<{'C': 0.0667}>> for score <<0.7795056196504455>>.\n",
      "       5. Grid Search model <<<class 'sklearn.svm.classes.LinearSVC'>>>; weight: <<{0: 1.0, 1: 8.364906832298136}>>; parameters: <<{'C': [0.0222, 0.0254, 0.0286, 0.0318, 0.0349, 0.0381, 0.0413, 0.0445, 0.0476, 0.0508, 0.054, 0.0572, 0.0603, 0.0635, 0.0667, 0.0762, 0.0858, 0.0953, 0.1048, 0.1143, 0.1239, 0.1334, 0.1429, 0.1525, 0.162, 0.1715, 0.181, 0.1906, 0.2001]}>>\n",
      "Fitting 12 folds for each of 29 candidates, totalling 348 fits\n"
     ]
    },
    {
     "name": "stderr",
     "output_type": "stream",
     "text": [
      "[Parallel(n_jobs=1)]: Done 348 out of 348 | elapsed:  1.1min finished\n"
     ]
    },
    {
     "name": "stdout",
     "output_type": "stream",
     "text": [
      "       Best parameters selected: <<{'C': 0.0667}>> for score <<0.7795056196504455>>.\n",
      "       Final parameters selected: <<{'C': 0.0667}>> for score <<0.7919578267824272>>.\n",
      "\n",
      "          *** Prev Score on validation dataset (macro/weighted) <<0.768656750929239>> / <<0.8128183361629882>>.\n",
      "\n",
      "          *** Score on validation dataset (macro/weighted) <<0.7825089068296589>> / <<0.8183361629881154>>.\n",
      "[[2394  452]\n",
      " [ 190  498]]\n",
      "Evaluating model...\n",
      "\n",
      "-------------------------------------------------------------------\n",
      "                        __True Sum  __Pred Sum  Precision  Recall_We  \\\n",
      "genre                         1575        1552     0.9602     0.9603   \n",
      "related                       1993        2044     0.8290     0.8316   \n",
      "request                        476         589     0.8790     0.8644   \n",
      "offer                           17           0     0.9871     0.9935   \n",
      "aid_related                   1079        1130     0.7656     0.7636   \n",
      "medical_help                   222         442     0.9155     0.8633   \n",
      "medical_products               137         377     0.9403     0.8724   \n",
      "search_and_rescue               82         416     0.9553     0.8434   \n",
      "security                        44           0     0.9667     0.9832   \n",
      "military                        74         252     0.9732     0.9221   \n",
      "water                          162         254     0.9635     0.9481   \n",
      "food                           279         370     0.9464     0.9347   \n",
      "shelter                        240         395     0.9346     0.9057   \n",
      "clothing                        30         158     0.9860     0.9435   \n",
      "money                           45         346     0.9817     0.8797   \n",
      "missing_people                  31         295     0.9815     0.8862   \n",
      "refugees                        85         342     0.9636     0.8843   \n",
      "death                          112         201     0.9677     0.9492   \n",
      "other_aid                      350         691     0.8581     0.7796   \n",
      "infrastructure_related         172         617     0.9188     0.7850   \n",
      "transport                      114         349     0.9379     0.8644   \n",
      "buildings                      136         308     0.9536     0.9114   \n",
      "electricity                     47         229     0.9755     0.9144   \n",
      "tools                           17         441     0.9909     0.8335   \n",
      "hospitals                       27         238     0.9863     0.9118   \n",
      "shops                           13         408     0.9924     0.8445   \n",
      "aid_centers                     27         377     0.9867     0.8602   \n",
      "other_infrastructure           120         511     0.9421     0.8186   \n",
      "weather_related                678         720     0.8866     0.8839   \n",
      "floods                         210         283     0.9407     0.9286   \n",
      "storm                          220         308     0.9519     0.9389   \n",
      "fire                            26           0     0.9802     0.9901   \n",
      "earthquake                     211         253     0.9704     0.9664   \n",
      "cold                            42         113     0.9824     0.9622   \n",
      "other_weather                  137           0     0.8981     0.9477   \n",
      "direct_report                  511           0     0.6477     0.8048   \n",
      "\n",
      "                        Recall_Ma  F-score  __Diff  \n",
      "genre                      0.9498   0.9602      23  \n",
      "related                    0.7333   0.8299     -51  \n",
      "request                    0.8183   0.8698    -113  \n",
      "offer                      0.5000   0.9903      17  \n",
      "aid_related                0.7596   0.7643     -51  \n",
      "medical_help               0.7843   0.8826    -220  \n",
      "medical_products           0.7706   0.8990    -240  \n",
      "search_and_rescue          0.6949   0.8904    -334  \n",
      "security                   0.5000   0.9749      44  \n",
      "military                   0.8746   0.9419    -178  \n",
      "water                      0.9089   0.9533     -92  \n",
      "food                       0.9003   0.9386     -91  \n",
      "shelter                    0.8619   0.9156    -155  \n",
      "clothing                   0.8067   0.9620    -128  \n",
      "money                      0.8624   0.9223    -301  \n",
      "missing_people             0.6715   0.9292    -264  \n",
      "refugees                   0.8094   0.9160    -257  \n",
      "death                      0.8796   0.9560     -89  \n",
      "other_aid                  0.7302   0.8067    -341  \n",
      "infrastructure_related     0.7255   0.8348    -445  \n",
      "transport                  0.6779   0.8955    -235  \n",
      "buildings                  0.8490   0.9270    -172  \n",
      "electricity                0.7371   0.9411    -182  \n",
      "tools                      0.7409   0.9032    -424  \n",
      "hospitals                  0.7722   0.9450    -211  \n",
      "shops                      0.6923   0.9111    -395  \n",
      "aid_centers                0.7828   0.9157    -350  \n",
      "other_infrastructure       0.7383   0.8671    -391  \n",
      "weather_related            0.8588   0.8850     -42  \n",
      "floods                     0.8373   0.9333     -73  \n",
      "storm                      0.8923   0.9434     -88  \n",
      "fire                       0.5000   0.9851      26  \n",
      "earthquake                 0.9320   0.9678     -42  \n",
      "cold                       0.8168   0.9706     -71  \n",
      "other_weather              0.5000   0.9222     137  \n",
      "direct_report              0.5000   0.7178     511  \n",
      " \n",
      "\n",
      "-------------------------------------------------------------------\n",
      "Details for class: <<genre>>.\n",
      "Classification Report:\n",
      "             precision    recall  f1-score   support\n",
      "\n",
      "          0       0.96      0.98      0.97      1279\n",
      "          1       0.96      0.95      0.95      1103\n",
      "          2       0.94      0.92      0.93       236\n",
      "\n",
      "avg / total       0.96      0.96      0.96      2618\n",
      "\n",
      "Confusion Matrix:\n",
      "[[1251   27    1]\n",
      " [  44 1045   14]\n",
      " [   4   14  218]]\n",
      " \n",
      "Saving model...\n",
      "    Model filepath <<models/savedModel.pkl>>\n",
      "Trained model saved!\n"
     ]
    },
    {
     "name": "stderr",
     "output_type": "stream",
     "text": [
      "D:\\___winApp\\Anaconda3\\lib\\site-packages\\sklearn\\metrics\\classification.py:1135: UndefinedMetricWarning: Precision and F-score are ill-defined and being set to 0.0 in labels with no predicted samples.\n",
      "  'precision', 'predicted', average, warn_for)\n"
     ]
    }
   ],
   "source": [
    "v_model, X_train, X_test, y_train, y_test, y_pred_test = executeMain('data/DisasterResponse.db', 'models/savedModel.pkl')"
   ]
  },
  {
   "cell_type": "code",
   "execution_count": null,
   "metadata": {},
   "outputs": [],
   "source": []
  }
 ],
 "metadata": {
  "kernelspec": {
   "display_name": "Python 3",
   "language": "python",
   "name": "python3"
  },
  "language_info": {
   "codemirror_mode": {
    "name": "ipython",
    "version": 3
   },
   "file_extension": ".py",
   "mimetype": "text/x-python",
   "name": "python",
   "nbconvert_exporter": "python",
   "pygments_lexer": "ipython3",
   "version": "3.6.6"
  }
 },
 "nbformat": 4,
 "nbformat_minor": 2
}
