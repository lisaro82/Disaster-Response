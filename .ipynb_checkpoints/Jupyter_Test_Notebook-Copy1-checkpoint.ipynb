{
 "cells": [
  {
   "cell_type": "code",
   "execution_count": null,
   "metadata": {
    "scrolled": false
   },
   "outputs": [
    {
     "name": "stdout",
     "output_type": "stream",
     "text": [
      "Loading data...\n",
      "    Database filepath <<data/DisasterResponse.db>>\n",
      "Rows processed: 600 / 26177\n",
      "Rows processed: 1200 / 26177\n",
      "Rows processed: 1800 / 26177\n",
      "Rows processed: 2400 / 26177\n",
      "Rows processed: 3000 / 26177\n",
      "Rows processed: 3600 / 26177\n",
      "Rows processed: 4200 / 26177\n",
      "Rows processed: 4800 / 26177\n",
      "Rows processed: 5400 / 26177\n",
      "Rows processed: 6000 / 26177\n",
      "Rows processed: 6600 / 26177\n",
      "Rows processed: 7200 / 26177\n",
      "Rows processed: 7800 / 26177\n",
      "Rows processed: 8400 / 26177\n",
      "Rows processed: 9000 / 26177\n",
      "Rows processed: 9600 / 26177\n",
      "Rows processed: 10200 / 26177\n",
      "Rows processed: 10800 / 26177\n"
     ]
    }
   ],
   "source": [
    "from models.train_classifier import executeMain\n",
    "g_train = True\n",
    "g_debug = False\n",
    "\n",
    "if g_train:\n",
    "    v_model, X_train, X_test, y_train, y_test, y_pred_test = executeMain( 'data/DisasterResponse.db', \n",
    "                                                                          'models/savedModel.pkl',\n",
    "                                                                           p_maxCateg    = 2 if g_debug else None,\n",
    "                                                                           p_CVSplits    = 9,\n",
    "                                                                           p_pointsBin   = 2 if g_debug else 15,\n",
    "                                                                           p_maxFeatures = 12000,\n",
    "                                                                           p_reloadData  = True )"
   ]
  },
  {
   "cell_type": "code",
   "execution_count": null,
   "metadata": {},
   "outputs": [],
   "source": [
    "from sklearn.externals import joblib\n",
    "from models.HMsgClasses import getTokenizedMessage\n",
    "\n",
    "v_model = joblib.load(\"models/savedModel.pkl\")\n",
    "display(v_model.predict(getTokenizedMessage('We+are+more+than+50+peoples+on+the+street.+please+hlp+us+find+tent+and+food')))"
   ]
  },
  {
   "cell_type": "code",
   "execution_count": null,
   "metadata": {},
   "outputs": [],
   "source": []
  }
 ],
 "metadata": {
  "kernelspec": {
   "display_name": "Python 3",
   "language": "python",
   "name": "python3"
  },
  "language_info": {
   "codemirror_mode": {
    "name": "ipython",
    "version": 3
   },
   "file_extension": ".py",
   "mimetype": "text/x-python",
   "name": "python",
   "nbconvert_exporter": "python",
   "pygments_lexer": "ipython3",
   "version": "3.6.6"
  }
 },
 "nbformat": 4,
 "nbformat_minor": 2
}
