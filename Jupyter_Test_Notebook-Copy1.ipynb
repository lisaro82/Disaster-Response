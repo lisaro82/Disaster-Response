{
 "cells": [
  {
   "cell_type": "code",
   "execution_count": null,
   "metadata": {
    "scrolled": false
   },
   "outputs": [
    {
     "name": "stdout",
     "output_type": "stream",
     "text": [
      "Loading data...\n",
      "    Database filepath <<data/DisasterResponse.db>>\n",
      "Rows processed: 600 / 26177\n",
      "Rows processed: 1200 / 26177\n",
      "Rows processed: 1800 / 26177\n",
      "Rows processed: 2400 / 26177\n",
      "Rows processed: 3000 / 26177\n",
      "Rows processed: 3600 / 26177\n",
      "Rows processed: 4200 / 26177\n",
      "Rows processed: 4800 / 26177\n",
      "Rows processed: 5400 / 26177\n",
      "Rows processed: 6000 / 26177\n",
      "Rows processed: 6600 / 26177\n",
      "Rows processed: 7200 / 26177\n",
      "Rows processed: 7800 / 26177\n",
      "Rows processed: 8400 / 26177\n",
      "Rows processed: 9000 / 26177\n",
      "Rows processed: 9600 / 26177\n",
      "Rows processed: 10200 / 26177\n",
      "Rows processed: 10800 / 26177\n",
      "Rows processed: 11400 / 26177\n",
      "Rows processed: 12000 / 26177\n",
      "Rows processed: 12600 / 26177\n",
      "Rows processed: 13200 / 26177\n",
      "Rows processed: 13800 / 26177\n",
      "Rows processed: 14400 / 26177\n",
      "Rows processed: 15000 / 26177\n",
      "Rows processed: 15600 / 26177\n",
      "Rows processed: 16200 / 26177\n",
      "Rows processed: 16800 / 26177\n",
      "Rows processed: 17400 / 26177\n",
      "Rows processed: 18000 / 26177\n",
      "Rows processed: 18600 / 26177\n",
      "Rows processed: 19200 / 26177\n",
      "Rows processed: 19800 / 26177\n",
      "Rows processed: 20400 / 26177\n",
      "Rows processed: 21000 / 26177\n",
      "Rows processed: 21600 / 26177\n",
      "Rows processed: 22200 / 26177\n",
      "Rows processed: 22800 / 26177\n",
      "Rows processed: 23400 / 26177\n",
      "Rows processed: 24000 / 26177\n",
      "Rows processed: 24600 / 26177\n",
      "Rows processed: 25200 / 26177\n",
      "Rows processed: 25800 / 26177\n",
      "    Database loaded.\n",
      "Building model...\n",
      "Training model...\n",
      "------------------------------------------------------------------\n",
      "Top 100 words are the following: \n",
      "['water', 'peopl', 'food', 'help', 'need', 'pleas', 'earthquak', 'say', 'area', 'like', 'would', 'flood', 'countri', 'know', '000', 'find', 'thank', 'govern', 'also', 'get', 'hous', 'rain', 'go', 'haiti', 'one', 'inform', 'work', 'year', 'sandi', 'provid', 'make', 'affect', 'tent', 'give', 'includ', 'aid', 'famili', 'region', 'nation', 'good', 'suppli', 'relief', 'live', 'come', 'commun', 'urlplacehold', 'child', 'day', 'two', 'send', 'health', 'take', 'report', 'distribut', 'messag', 'well', 'villag', 'school', 'mani', 'state', 'caus', 'use', 'power', 'sever', 'want', 'support', 'emerg', 'assist', 'new', 'provinc', 'time', 'disast', 'million', 'damag', 'home', 'sinc', 'shelter', 'local', 'build', 'intern', 'continu', 'unit', 'citi', 'district', 'road', 'victim', 'storm', 'hit', 'receiv', 'even', 'last', 'diseas', 'part', 'call', 'crop', 'hurrican', 'leav', 'medic', 'system', 'river']\n",
      "\n",
      "-------------------------------------------------------------------\n",
      "    1. Fit model for class: <<genre>> ((21203, 12004)).\n",
      "    Tuning hyper-parameters for class: <<genre>> (Recall).\n",
      "       1. Grid Search model <<<class 'sklearn.svm.classes.LinearSVC'>>>; weight: <<balanced>>; parameters: <<{'C': [0.001, 0.01, 0.1, 1.0, 10.0]}>>\n",
      "Fitting 9 folds for each of 5 candidates, totalling 45 fits\n"
     ]
    },
    {
     "name": "stderr",
     "output_type": "stream",
     "text": [
      "[Parallel(n_jobs=1)]: Done  45 out of  45 | elapsed:   16.7s finished\n"
     ]
    },
    {
     "name": "stdout",
     "output_type": "stream",
     "text": [
      "       Best parameters selected: <<{'C': 1.0}>> for score <<0.9472789201788301>>.\n",
      "       2. Grid Search model <<<class 'sklearn.svm.classes.LinearSVC'>>>; weight: <<balanced>>; parameters: <<{'C': [0.3333, 0.381, 0.4286, 0.4762, 0.5238, 0.5714, 0.619, 0.6667, 0.7143, 0.7619, 0.8095, 0.8571, 0.9048, 0.9524, 1.0, 1.1429, 1.2857, 1.4286, 1.5714, 1.7143, 1.8571, 2.0, 2.1429, 2.2857, 2.4286, 2.5714, 2.7143, 2.8571, 3.0]}>>\n",
      "Fitting 9 folds for each of 29 candidates, totalling 261 fits\n"
     ]
    },
    {
     "name": "stderr",
     "output_type": "stream",
     "text": [
      "[Parallel(n_jobs=1)]: Done 261 out of 261 | elapsed:  1.9min finished\n"
     ]
    },
    {
     "name": "stdout",
     "output_type": "stream",
     "text": [
      "       Best parameters selected: <<{'C': 0.4762}>> for score <<0.9511822762393709>>.\n",
      "       3. Grid Search model <<<class 'sklearn.svm.classes.LinearSVC'>>>; weight: <<balanced>>; parameters: <<{'C': [0.1587, 0.1814, 0.2041, 0.2268, 0.2494, 0.2721, 0.2948, 0.3175, 0.3401, 0.3628, 0.3855, 0.4082, 0.4308, 0.4535, 0.4762, 0.5442, 0.6123, 0.6803, 0.7483, 0.8163, 0.8844, 0.9524, 1.0204, 1.0885, 1.1565, 1.2245, 1.2925, 1.3606, 1.4286]}>>\n",
      "Fitting 9 folds for each of 29 candidates, totalling 261 fits\n"
     ]
    },
    {
     "name": "stderr",
     "output_type": "stream",
     "text": [
      "[Parallel(n_jobs=1)]: Done 261 out of 261 | elapsed:  1.4min finished\n"
     ]
    },
    {
     "name": "stdout",
     "output_type": "stream",
     "text": [
      "       Best parameters selected: <<{'C': 0.4762}>> for score <<0.9511822762393709>>.\n",
      "       Final parameters selected: <<{'C': 0.4762}>> for score <<0.9511822762393709>>.\n",
      "\n",
      "          *** Score on validation dataset (macro/weighted) <<0.9498266364289162>> / <<0.9609507640067911>>.\n",
      "[[1124   30    0]\n",
      " [  39  952    7]\n",
      " [   1   15  188]]\n",
      "\n",
      "-------------------------------------------------------------------\n",
      "    2. Fit model for class: <<related>> ((21203, 12005)).\n",
      "    Tuning hyper-parameters for class: <<related>> (Recall).\n",
      "       1. Grid Search model <<<class 'sklearn.svm.classes.LinearSVC'>>>; weight: <<balanced>>; parameters: <<{'C': [0.001, 0.01, 0.1, 1.0, 10.0]}>>\n",
      "Fitting 9 folds for each of 5 candidates, totalling 45 fits\n"
     ]
    },
    {
     "name": "stderr",
     "output_type": "stream",
     "text": [
      "[Parallel(n_jobs=1)]: Done  45 out of  45 | elapsed:  1.1min finished\n"
     ]
    },
    {
     "name": "stdout",
     "output_type": "stream",
     "text": [
      "       Best parameters selected: <<{'C': 1.0}>> for score <<0.666347797971013>>.\n",
      "       2. Grid Search model <<<class 'sklearn.svm.classes.LinearSVC'>>>; weight: <<balanced>>; parameters: <<{'C': [0.3333, 0.381, 0.4286, 0.4762, 0.5238, 0.5714, 0.619, 0.6667, 0.7143, 0.7619, 0.8095, 0.8571, 0.9048, 0.9524, 1.0, 1.1429, 1.2857, 1.4286, 1.5714, 1.7143, 1.8571, 2.0, 2.1429, 2.2857, 2.4286, 2.5714, 2.7143, 2.8571, 3.0]}>>\n",
      "Fitting 9 folds for each of 29 candidates, totalling 261 fits\n"
     ]
    },
    {
     "name": "stderr",
     "output_type": "stream",
     "text": [
      "[Parallel(n_jobs=1)]: Done 261 out of 261 | elapsed:  7.6min finished\n"
     ]
    },
    {
     "name": "stdout",
     "output_type": "stream",
     "text": [
      "       Best parameters selected: <<{'C': 1.5714}>> for score <<0.6762501890995067>>.\n",
      "       3. Grid Search model <<<class 'sklearn.svm.classes.LinearSVC'>>>; weight: <<balanced>>; parameters: <<{'C': [0.5238, 0.5986, 0.6735, 0.7483, 0.8231, 0.8979, 0.9728, 1.0476, 1.1224, 1.1973, 1.2721, 1.3469, 1.4217, 1.4966, 1.5714, 1.7959, 2.0204, 2.2449, 2.4693, 2.6938, 2.9183, 3.1428, 3.3673, 3.5918, 3.8163, 4.0407, 4.2652, 4.4897, 4.7142]}>>\n",
      "Fitting 9 folds for each of 29 candidates, totalling 261 fits\n"
     ]
    }
   ],
   "source": [
    "from models.train_classifier import executeMain\n",
    "g_train = True\n",
    "g_debug = False\n",
    "\n",
    "if g_train:\n",
    "    v_model, X_train, X_test, y_train, y_test, y_pred_test = executeMain( 'data/DisasterResponse.db', \n",
    "                                                                          'models/savedModel.pkl',\n",
    "                                                                           p_maxCateg    = 2 if g_debug else None,\n",
    "                                                                           p_CVSplits    = 9,\n",
    "                                                                           p_pointsBin   = 2 if g_debug else 15,\n",
    "                                                                           p_maxFeatures = 12000,\n",
    "                                                                           p_reloadData  = True )"
   ]
  },
  {
   "cell_type": "code",
   "execution_count": null,
   "metadata": {},
   "outputs": [],
   "source": [
    "from sklearn.externals import joblib\n",
    "from models.HMsgClasses import getTokenizedMessage\n",
    "\n",
    "v_model = joblib.load(\"models/savedModel.pkl\")\n",
    "display(v_model.predict(getTokenizedMessage('We+are+more+than+50+peoples+on+the+street.+please+hlp+us+find+tent+and+food')))"
   ]
  },
  {
   "cell_type": "code",
   "execution_count": null,
   "metadata": {},
   "outputs": [],
   "source": []
  }
 ],
 "metadata": {
  "kernelspec": {
   "display_name": "Python 3",
   "language": "python",
   "name": "python3"
  },
  "language_info": {
   "codemirror_mode": {
    "name": "ipython",
    "version": 3
   },
   "file_extension": ".py",
   "mimetype": "text/x-python",
   "name": "python",
   "nbconvert_exporter": "python",
   "pygments_lexer": "ipython3",
   "version": "3.6.6"
  }
 },
 "nbformat": 4,
 "nbformat_minor": 2
}
