{
 "cells": [
  {
   "cell_type": "code",
   "execution_count": 1,
   "metadata": {},
   "outputs": [
    {
     "name": "stdout",
     "output_type": "stream",
     "text": [
      "[nltk_data] Downloading package punkt to\n",
      "[nltk_data]     C:\\Users\\Lisa\\AppData\\Roaming\\nltk_data...\n",
      "[nltk_data]   Package punkt is already up-to-date!\n",
      "[nltk_data] Downloading package stopwords to\n",
      "[nltk_data]     C:\\Users\\Lisa\\AppData\\Roaming\\nltk_data...\n",
      "[nltk_data]   Package stopwords is already up-to-date!\n",
      "[nltk_data] Downloading package wordnet to\n",
      "[nltk_data]     C:\\Users\\Lisa\\AppData\\Roaming\\nltk_data...\n",
      "[nltk_data]   Package wordnet is already up-to-date!\n",
      "[nltk_data] Downloading package averaged_perceptron_tagger to\n",
      "[nltk_data]     C:\\Users\\Lisa\\AppData\\Roaming\\nltk_data...\n",
      "[nltk_data]   Package averaged_perceptron_tagger is already up-to-\n",
      "[nltk_data]       date!\n"
     ]
    }
   ],
   "source": [
    "from models.train_classifier import executeMain"
   ]
  },
  {
   "cell_type": "code",
   "execution_count": null,
   "metadata": {
    "scrolled": false
   },
   "outputs": [
    {
     "name": "stdout",
     "output_type": "stream",
     "text": [
      "Loading data...\n",
      "    Database filepath <<data/DisasterResponse.db>>\n",
      "Building model...\n",
      "Training model...\n",
      "------------------------------------------------------------------\n",
      "Top 100 words are the following: \n",
      "['water', 'peopl', 'food', 'help', 'need', 'pleas', 'earthquak', 'say', 'area', 'like', 'would', 'flood', 'countri', '000', 'know', 'find', 'thank', 'govern', 'also', 'get', 'hous', 'haiti', 'go', 'one', 'rain', 'work', 'inform', 'year', 'sandi', 'provid', 'make', 'affect', 'tent', 'includ', 'aid', 'give', 'nation', 'region', 'famili', 'suppli', 'good', 'relief', 'urlplacehold', 'live', 'child', 'come', 'commun', 'day', 'send', 'two', 'health', 'take', 'report', 'messag', 'distribut', 'school', 'well', 'villag', 'state', 'mani', 'caus', 'use', 'power', 'assist', 'want', 'new', 'support', 'emerg', 'provinc', 'disast', 'million', 'home', 'damag', 'sever', 'sinc', 'time', 'local', 'shelter', 'intern', 'build', 'citi', 'unit', 'continu', 'district', 'victim', 'storm', 'road', 'even', 'hit', 'last', 'receiv', 'call', 'part', 'hurrican', 'leav', 'system', 'medic', 'crop', 'destroy', 'diseas']\n",
      "    Fit model for class: <<genre>>.\n",
      "    Tuning hyper-parameters for class: <<genre>> (Recall).\n",
      "Fitting 6 folds for each of 16 candidates, totalling 96 fits\n",
      "[CV] C=0.01, degree=1 ................................................\n",
      "[CV] ....... C=0.01, degree=1, score=0.3333333333333333, total= 1.3min\n",
      "[CV] C=0.01, degree=1 ................................................\n"
     ]
    },
    {
     "name": "stderr",
     "output_type": "stream",
     "text": [
      "[Parallel(n_jobs=1)]: Done   1 out of   1 | elapsed:  2.1min remaining:    0.0s\n"
     ]
    },
    {
     "name": "stdout",
     "output_type": "stream",
     "text": [
      "[CV] ....... C=0.01, degree=1, score=0.3333333333333333, total= 1.3min\n",
      "[CV] C=0.01, degree=1 ................................................\n"
     ]
    },
    {
     "name": "stderr",
     "output_type": "stream",
     "text": [
      "[Parallel(n_jobs=1)]: Done   2 out of   2 | elapsed:  4.1min remaining:    0.0s\n"
     ]
    },
    {
     "name": "stdout",
     "output_type": "stream",
     "text": [
      "[CV] ....... C=0.01, degree=1, score=0.3333333333333333, total= 1.2min\n",
      "[CV] C=0.01, degree=1 ................................................\n"
     ]
    },
    {
     "name": "stderr",
     "output_type": "stream",
     "text": [
      "[Parallel(n_jobs=1)]: Done   3 out of   3 | elapsed:  5.9min remaining:    0.0s\n"
     ]
    },
    {
     "name": "stdout",
     "output_type": "stream",
     "text": [
      "[CV] ....... C=0.01, degree=1, score=0.3333333333333333, total= 1.3min\n",
      "[CV] C=0.01, degree=1 ................................................\n"
     ]
    },
    {
     "name": "stderr",
     "output_type": "stream",
     "text": [
      "[Parallel(n_jobs=1)]: Done   4 out of   4 | elapsed:  8.0min remaining:    0.0s\n"
     ]
    },
    {
     "name": "stdout",
     "output_type": "stream",
     "text": [
      "[CV] ....... C=0.01, degree=1, score=0.3333333333333333, total= 1.4min\n",
      "[CV] C=0.01, degree=1 ................................................\n"
     ]
    },
    {
     "name": "stderr",
     "output_type": "stream",
     "text": [
      "[Parallel(n_jobs=1)]: Done   5 out of   5 | elapsed: 10.1min remaining:    0.0s\n"
     ]
    },
    {
     "name": "stdout",
     "output_type": "stream",
     "text": [
      "[CV] ....... C=0.01, degree=1, score=0.3333333333333333, total= 1.3min\n",
      "[CV] C=0.01, degree=2 ................................................\n"
     ]
    },
    {
     "name": "stderr",
     "output_type": "stream",
     "text": [
      "[Parallel(n_jobs=1)]: Done   6 out of   6 | elapsed: 12.2min remaining:    0.0s\n"
     ]
    },
    {
     "name": "stdout",
     "output_type": "stream",
     "text": [
      "[CV] ....... C=0.01, degree=2, score=0.3333333333333333, total= 1.4min\n",
      "[CV] C=0.01, degree=2 ................................................\n"
     ]
    },
    {
     "name": "stderr",
     "output_type": "stream",
     "text": [
      "[Parallel(n_jobs=1)]: Done   7 out of   7 | elapsed: 14.3min remaining:    0.0s\n"
     ]
    },
    {
     "name": "stdout",
     "output_type": "stream",
     "text": [
      "[CV] ....... C=0.01, degree=2, score=0.3333333333333333, total= 1.4min\n",
      "[CV] C=0.01, degree=2 ................................................\n"
     ]
    },
    {
     "name": "stderr",
     "output_type": "stream",
     "text": [
      "[Parallel(n_jobs=1)]: Done   8 out of   8 | elapsed: 16.4min remaining:    0.0s\n"
     ]
    },
    {
     "name": "stdout",
     "output_type": "stream",
     "text": [
      "[CV] ....... C=0.01, degree=2, score=0.3333333333333333, total= 1.4min\n",
      "[CV] C=0.01, degree=2 ................................................\n"
     ]
    },
    {
     "name": "stderr",
     "output_type": "stream",
     "text": [
      "[Parallel(n_jobs=1)]: Done   9 out of   9 | elapsed: 18.4min remaining:    0.0s\n"
     ]
    },
    {
     "name": "stdout",
     "output_type": "stream",
     "text": [
      "[CV] ....... C=0.01, degree=2, score=0.3333333333333333, total= 1.4min\n",
      "[CV] C=0.01, degree=2 ................................................\n",
      "[CV] ....... C=0.01, degree=2, score=0.3333333333333333, total= 1.4min\n",
      "[CV] C=0.01, degree=2 ................................................\n",
      "[CV] ....... C=0.01, degree=2, score=0.3333333333333333, total= 1.3min\n",
      "[CV] C=0.01, degree=3 ................................................\n",
      "[CV] ....... C=0.01, degree=3, score=0.3333333333333333, total= 1.5min\n",
      "[CV] C=0.01, degree=3 ................................................\n",
      "[CV] ....... C=0.01, degree=3, score=0.3333333333333333, total= 1.5min\n",
      "[CV] C=0.01, degree=3 ................................................\n",
      "[CV] ....... C=0.01, degree=3, score=0.3333333333333333, total= 1.5min\n",
      "[CV] C=0.01, degree=3 ................................................\n",
      "[CV] ....... C=0.01, degree=3, score=0.3333333333333333, total= 1.5min\n",
      "[CV] C=0.01, degree=3 ................................................\n",
      "[CV] ....... C=0.01, degree=3, score=0.3333333333333333, total= 1.5min\n",
      "[CV] C=0.01, degree=3 ................................................\n",
      "[CV] ....... C=0.01, degree=3, score=0.3333333333333333, total= 1.5min\n",
      "[CV] C=0.01, degree=4 ................................................\n",
      "[CV] ....... C=0.01, degree=4, score=0.3333333333333333, total= 1.2min\n",
      "[CV] C=0.01, degree=4 ................................................\n",
      "[CV] ....... C=0.01, degree=4, score=0.3333333333333333, total= 1.2min\n",
      "[CV] C=0.01, degree=4 ................................................\n",
      "[CV] ....... C=0.01, degree=4, score=0.3333333333333333, total= 1.2min\n",
      "[CV] C=0.01, degree=4 ................................................\n",
      "[CV] ....... C=0.01, degree=4, score=0.3333333333333333, total= 1.2min\n",
      "[CV] C=0.01, degree=4 ................................................\n",
      "[CV] ....... C=0.01, degree=4, score=0.3333333333333333, total= 1.2min\n",
      "[CV] C=0.01, degree=4 ................................................\n",
      "[CV] ....... C=0.01, degree=4, score=0.3333333333333333, total= 1.2min\n",
      "[CV] C=0.1, degree=1 .................................................\n",
      "[CV] ........ C=0.1, degree=1, score=0.3333333333333333, total= 1.3min\n",
      "[CV] C=0.1, degree=1 .................................................\n",
      "[CV] ........ C=0.1, degree=1, score=0.3333333333333333, total= 1.3min\n",
      "[CV] C=0.1, degree=1 .................................................\n"
     ]
    }
   ],
   "source": [
    "v_model, X_train, X_test, y_train, y_test, y_pred_test = executeMain('data/DisasterResponse.db', '../savedModel.pkl')"
   ]
  },
  {
   "cell_type": "code",
   "execution_count": null,
   "metadata": {},
   "outputs": [],
   "source": [
    "v_model.named_steps[v_model.steps[-1][0]].classificationReport(y_test, y_pred_test, ['infrastructure_related'], False)"
   ]
  },
  {
   "cell_type": "code",
   "execution_count": null,
   "metadata": {},
   "outputs": [],
   "source": [
    "print(y_test['infrastructure_related'].sum())"
   ]
  },
  {
   "cell_type": "code",
   "execution_count": null,
   "metadata": {},
   "outputs": [],
   "source": [
    "display(v_model.steps)"
   ]
  },
  {
   "cell_type": "code",
   "execution_count": null,
   "metadata": {},
   "outputs": [],
   "source": [
    "from sklearn.linear_model import SGDClassifier\n",
    "\n",
    "clf = SGDClassifier(max_iter=1000)\n",
    "clf.fit(X, Y)\n"
   ]
  }
 ],
 "metadata": {
  "kernelspec": {
   "display_name": "Python 3",
   "language": "python",
   "name": "python3"
  },
  "language_info": {
   "codemirror_mode": {
    "name": "ipython",
    "version": 3
   },
   "file_extension": ".py",
   "mimetype": "text/x-python",
   "name": "python",
   "nbconvert_exporter": "python",
   "pygments_lexer": "ipython3",
   "version": "3.6.6"
  }
 },
 "nbformat": 4,
 "nbformat_minor": 2
}
