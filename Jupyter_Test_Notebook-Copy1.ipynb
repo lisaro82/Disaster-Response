{
 "cells": [
  {
   "cell_type": "code",
   "execution_count": null,
   "metadata": {
    "scrolled": false
   },
   "outputs": [
    {
     "name": "stdout",
     "output_type": "stream",
     "text": [
      "Loading data...\n",
      "    Database filepath <<data/DisasterResponse.db>>\n",
      "    Database loaded.\n",
      "Building model...\n",
      "Training model...\n",
      "------------------------------------------------------------------\n",
      "Top 100 words are the following: \n",
      "['water', 'peopl', 'help', 'food', 'need', 'pleas', 'earthquak', 'say', 'area', 'like', 'would', 'flood', '000', 'countri', 'know', 'find', 'thank', 'also', 'get', 'govern', 'hous', 'haiti', 'go', 'inform', 'work', 'rain', 'one', 'year', 'provid', 'make', 'sandi', 'affect', 'tent', 'give', 'nation', 'region', 'includ', 'famili', 'aid', 'suppli', 'good', 'relief', 'live', 'urlplacehold', 'child', 'come', 'two', 'day', 'commun', 'health', 'send', 'take', 'report', 'villag', 'distribut', 'well', 'mani', 'messag', 'school', 'caus', 'state', 'support', 'sever', 'emerg', 'use', 'provinc', 'time', 'damag', 'want', 'new', 'assist', 'power', 'million', 'sinc', 'local', 'home', 'shelter', 'build', 'district', 'intern', 'disast', 'citi', 'continu', 'unit', 'road', 'victim', 'storm', 'hit', 'receiv', 'last', 'hurrican', 'even', 'call', 'medic', 'crop', 'part', 'diseas', 'destroy', 'river', 'system']\n",
      "\n",
      "-------------------------------------------------------------------\n",
      "    1. Fit model for class: <<genre>> ((20025, 23249)).\n",
      "    Tuning hyper-parameters for class: <<genre>> (Recall).\n",
      "       1. Grid Search model <<<class 'sklearn.svm.classes.LinearSVC'>>>; weight: <<balanced>>; parameters: <<{'C': [0.001, 0.01, 0.1, 1.0, 10.0]}>>\n",
      "Fitting 6 folds for each of 5 candidates, totalling 30 fits\n"
     ]
    },
    {
     "name": "stderr",
     "output_type": "stream",
     "text": [
      "[Parallel(n_jobs=1)]: Done  30 out of  30 | elapsed:    9.0s finished\n"
     ]
    },
    {
     "name": "stdout",
     "output_type": "stream",
     "text": [
      "       Best parameters selected: <<{'C': 1.0}>> for score <<0.9423456017483408>>.\n",
      "       2. Grid Search model <<<class 'sklearn.svm.classes.LinearSVC'>>>; weight: <<balanced>>; parameters: <<{'C': [0.3333, 0.381, 0.4286, 0.4762, 0.5238, 0.5714, 0.619, 0.6667, 0.7143, 0.7619, 0.8095, 0.8571, 0.9048, 0.9524, 1.0, 1.1429, 1.2857, 1.4286, 1.5714, 1.7143, 1.8571, 2.0, 2.1429, 2.2857, 2.4286, 2.5714, 2.7143, 2.8571, 3.0]}>>\n",
      "Fitting 6 folds for each of 29 candidates, totalling 174 fits\n"
     ]
    },
    {
     "name": "stderr",
     "output_type": "stream",
     "text": [
      "[Parallel(n_jobs=1)]: Done 174 out of 174 | elapsed:   53.9s finished\n"
     ]
    },
    {
     "name": "stdout",
     "output_type": "stream",
     "text": [
      "       Best parameters selected: <<{'C': 0.5238}>> for score <<0.9434572185617536>>.\n",
      "       3. Grid Search model <<<class 'sklearn.svm.classes.LinearSVC'>>>; weight: <<balanced>>; parameters: <<{'C': [0.1746, 0.1995, 0.2245, 0.2494, 0.2744, 0.2993, 0.3243, 0.3492, 0.3741, 0.3991, 0.424, 0.449, 0.4739, 0.4989, 0.5238, 0.5986, 0.6735, 0.7483, 0.8231, 0.8979, 0.9728, 1.0476, 1.1224, 1.1973, 1.2721, 1.3469, 1.4217, 1.4966, 1.5714]}>>\n",
      "Fitting 6 folds for each of 29 candidates, totalling 174 fits\n"
     ]
    },
    {
     "name": "stderr",
     "output_type": "stream",
     "text": [
      "[Parallel(n_jobs=1)]: Done 174 out of 174 | elapsed:   38.1s finished\n"
     ]
    },
    {
     "name": "stdout",
     "output_type": "stream",
     "text": [
      "       Best parameters selected: <<{'C': 0.4989}>> for score <<0.943715533558592>>.\n",
      "       4. Grid Search model <<<class 'sklearn.svm.classes.LinearSVC'>>>; weight: <<balanced>>; parameters: <<{'C': [0.1663, 0.1901, 0.2138, 0.2376, 0.2613, 0.2851, 0.3088, 0.3326, 0.3564, 0.3801, 0.4039, 0.4276, 0.4514, 0.4751, 0.4989, 0.5702, 0.6414, 0.7127, 0.784, 0.8553, 0.9265, 0.9978, 1.0691, 1.1403, 1.2116, 1.2829, 1.3542, 1.4254, 1.4967]}>>\n",
      "Fitting 6 folds for each of 29 candidates, totalling 174 fits\n"
     ]
    },
    {
     "name": "stderr",
     "output_type": "stream",
     "text": [
      "[Parallel(n_jobs=1)]: Done 174 out of 174 | elapsed:   36.3s finished\n"
     ]
    },
    {
     "name": "stdout",
     "output_type": "stream",
     "text": [
      "       Best parameters selected: <<{'C': 0.4989}>> for score <<0.943715533558592>>.\n",
      "       Final parameters selected: <<{'C': 0.4989}>> for score <<0.943715533558592>> (balanced).\n",
      "\n",
      "          *** Score on validation dataset (macro/weighted) <<0.9464826825384116>> / <<0.9626966292134832>>.\n",
      "[[1078   24    2]\n",
      " [  26  869   10]\n",
      " [   0   21  195]]\n",
      "\n",
      "-------------------------------------------------------------------\n",
      "    2. Fit model for class: <<related>> ((20025, 23250)).\n",
      "    Tuning hyper-parameters for class: <<related>> (Recall).\n",
      "       1. Grid Search model <<<class 'sklearn.svm.classes.LinearSVC'>>>; weight: <<balanced>>; parameters: <<{'C': [0.001, 0.01, 0.1, 1.0, 10.0]}>>\n",
      "Fitting 6 folds for each of 5 candidates, totalling 30 fits\n"
     ]
    },
    {
     "name": "stderr",
     "output_type": "stream",
     "text": [
      "[Parallel(n_jobs=1)]: Done  30 out of  30 | elapsed:   23.8s finished\n"
     ]
    },
    {
     "name": "stdout",
     "output_type": "stream",
     "text": [
      "       Best parameters selected: <<{'C': 1.0}>> for score <<0.6238372975653214>>.\n",
      "       2. Grid Search model <<<class 'sklearn.svm.classes.LinearSVC'>>>; weight: <<balanced>>; parameters: <<{'C': [0.3333, 0.381, 0.4286, 0.4762, 0.5238, 0.5714, 0.619, 0.6667, 0.7143, 0.7619, 0.8095, 0.8571, 0.9048, 0.9524, 1.0, 1.1429, 1.2857, 1.4286, 1.5714, 1.7143, 1.8571, 2.0, 2.1429, 2.2857, 2.4286, 2.5714, 2.7143, 2.8571, 3.0]}>>\n",
      "Fitting 6 folds for each of 29 candidates, totalling 174 fits\n"
     ]
    }
   ],
   "source": [
    "from models.train_classifier import executeMain\n",
    "g_train = True\n",
    "g_debug = True\n",
    "\n",
    "if g_train:\n",
    "    v_model, X_train, X_test, y_train, y_test, y_pred_test = executeMain( 'data/DisasterResponse.db', \n",
    "                                                                          'models/savedModel.pkl',\n",
    "                                                                           p_maxCateg    = 6 if g_debug else None,\n",
    "                                                                           p_CVSplits    = 6,\n",
    "                                                                           p_pointsBin   = 15,\n",
    "                                                                           p_maxFeatures = 99000,\n",
    "                                                                           p_reloadData  = False )"
   ]
  },
  {
   "cell_type": "code",
   "execution_count": null,
   "metadata": {},
   "outputs": [],
   "source": [
    "from sklearn.externals import joblib\n",
    "from models.HMsgClasses import getTokenizedMessage\n",
    "\n",
    "v_model = joblib.load(\"models/savedModel.pkl\")\n",
    "display(v_model.predict(getTokenizedMessage('We+are+more+than+50+peoples+on+the+street.+please+hlp+us+find+tent+and+food')))"
   ]
  },
  {
   "cell_type": "code",
   "execution_count": null,
   "metadata": {},
   "outputs": [],
   "source": []
  }
 ],
 "metadata": {
  "kernelspec": {
   "display_name": "Python 3",
   "language": "python",
   "name": "python3"
  },
  "language_info": {
   "codemirror_mode": {
    "name": "ipython",
    "version": 3
   },
   "file_extension": ".py",
   "mimetype": "text/x-python",
   "name": "python",
   "nbconvert_exporter": "python",
   "pygments_lexer": "ipython3",
   "version": "3.6.6"
  }
 },
 "nbformat": 4,
 "nbformat_minor": 2
}
