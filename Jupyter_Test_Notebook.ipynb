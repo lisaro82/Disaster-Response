{
 "cells": [
  {
   "cell_type": "code",
   "execution_count": null,
   "metadata": {},
   "outputs": [],
   "source": [
    "from models.train_classifier import executeMain"
   ]
  },
  {
   "cell_type": "code",
   "execution_count": null,
   "metadata": {
    "scrolled": false
   },
   "outputs": [
    {
     "name": "stdout",
     "output_type": "stream",
     "text": [
      "Loading data...\n",
      "    Database filepath <<data/DisasterResponse.db>>\n",
      "Building model...\n",
      "Training model...\n",
      "------------------------------------------------------------------\n",
      "Top 100 words are the following: \n",
      "['water', 'peopl', 'food', 'help', 'need', 'pleas', 'earthquak', 'say', 'area', 'like', 'would', 'flood', 'countri', 'know', '000', 'find', 'thank', 'govern', 'also', 'get', 'hous', 'haiti', 'one', 'rain', 'go', 'inform', 'work', 'year', 'sandi', 'provid', 'make', 'affect', 'tent', 'includ', 'aid', 'give', 'nation', 'region', 'famili', 'suppli', 'good', 'relief', 'urlplacehold', 'live', 'come', 'commun', 'child', 'day', 'two', 'send', 'health', 'take', 'report', 'distribut', 'messag', 'well', 'school', 'villag', 'state', 'mani', 'caus', 'want', 'power', 'use', 'sever', 'assist', 'new', 'support', 'emerg', 'provinc', 'disast', 'million', 'damag', 'time', 'sinc', 'home', 'local', 'build', 'shelter', 'intern', 'citi', 'continu', 'unit', 'district', 'victim', 'storm', 'road', 'hit', 'last', 'even', 'receiv', 'diseas', 'part', 'crop', 'hurrican', 'call', 'medic', 'leav', 'system', 'destroy']\n",
      "\n",
      "-------------------------------------------------------------------\n",
      "    1. Fit model for class: <<genre>> ((18912, 23234)).\n",
      "    Tuning hyper-parameters for class: <<genre>> (Recall).\n",
      "       1. Grid Search model <<<class 'sklearn.svm.classes.LinearSVC'>>>; weight: <<balanced>>; parameters: <<{'C': [0.001, 0.01, 0.1, 1.0, 10.0]}>>\n",
      "Fitting 6 folds for each of 5 candidates, totalling 30 fits\n"
     ]
    },
    {
     "name": "stderr",
     "output_type": "stream",
     "text": [
      "[Parallel(n_jobs=1)]: Done  30 out of  30 | elapsed:    6.4s finished\n"
     ]
    },
    {
     "name": "stdout",
     "output_type": "stream",
     "text": [
      "       Best parameters selected: <<{'C': 1.0}>> for score <<0.9450351167905022>>.\n",
      "       2. Grid Search model <<<class 'sklearn.svm.classes.LinearSVC'>>>; weight: <<balanced>>; parameters: <<{'C': [0.3333, 0.381, 0.4286, 0.4762, 0.5238, 0.5714, 0.619, 0.6667, 0.7143, 0.7619, 0.8095, 0.8571, 0.9048, 0.9524, 1.0, 1.1429, 1.2857, 1.4286, 1.5714, 1.7143, 1.8571, 2.0, 2.1429, 2.2857, 2.4286, 2.5714, 2.7143, 2.8571, 3.0]}>>\n",
      "Fitting 6 folds for each of 29 candidates, totalling 174 fits\n"
     ]
    },
    {
     "name": "stderr",
     "output_type": "stream",
     "text": [
      "[Parallel(n_jobs=1)]: Done 174 out of 174 | elapsed:   36.3s finished\n"
     ]
    },
    {
     "name": "stdout",
     "output_type": "stream",
     "text": [
      "       Best parameters selected: <<{'C': 0.381}>> for score <<0.9470352460922888>>.\n",
      "       3. Grid Search model <<<class 'sklearn.svm.classes.LinearSVC'>>>; weight: <<balanced>>; parameters: <<{'C': [0.127, 0.1451, 0.1633, 0.1814, 0.1996, 0.2177, 0.2359, 0.254, 0.2721, 0.2903, 0.3084, 0.3266, 0.3447, 0.3629, 0.381, 0.4354, 0.4899, 0.5443, 0.5987, 0.6531, 0.7076, 0.762, 0.8164, 0.8709, 0.9253, 0.9797, 1.0341, 1.0886, 1.143]}>>\n",
      "Fitting 6 folds for each of 29 candidates, totalling 174 fits\n"
     ]
    },
    {
     "name": "stderr",
     "output_type": "stream",
     "text": [
      "[Parallel(n_jobs=1)]: Done 174 out of 174 | elapsed:   23.5s finished\n"
     ]
    },
    {
     "name": "stdout",
     "output_type": "stream",
     "text": [
      "       Best parameters selected: <<{'C': 0.381}>> for score <<0.9470352460922888>>.\n",
      "       Final parameters selected: <<{'C': 0.381}>> for score <<0.9470352460922888>>.\n",
      "\n",
      "          *** Score on validation dataset (macro/weighted) <<0.9461164620338934>> / <<0.9586578789694428>>.\n",
      "[[1616   32    5]\n",
      " [  58 1294   16]\n",
      " [   2   25  290]]\n",
      "\n",
      "-------------------------------------------------------------------\n",
      "    2. Fit model for class: <<related>> ((18912, 23235)).\n",
      "    Tuning hyper-parameters for class: <<related>> (Recall).\n",
      "       1. Grid Search model <<<class 'sklearn.svm.classes.LinearSVC'>>>; weight: <<balanced>>; parameters: <<{'C': [0.001, 0.01, 0.1, 1.0, 10.0]}>>\n",
      "Fitting 6 folds for each of 5 candidates, totalling 30 fits\n"
     ]
    },
    {
     "name": "stderr",
     "output_type": "stream",
     "text": [
      "[Parallel(n_jobs=1)]: Done  30 out of  30 | elapsed:   21.1s finished\n"
     ]
    },
    {
     "name": "stdout",
     "output_type": "stream",
     "text": [
      "       Best parameters selected: <<{'C': 0.1}>> for score <<0.5917831197918632>>.\n",
      "       2. Grid Search model <<<class 'sklearn.svm.classes.LinearSVC'>>>; weight: <<balanced>>; parameters: <<{'C': [0.0333, 0.0381, 0.0429, 0.0476, 0.0524, 0.0571, 0.0619, 0.0667, 0.0714, 0.0762, 0.081, 0.0857, 0.0905, 0.0952, 0.1, 0.1143, 0.1286, 0.1429, 0.1571, 0.1714, 0.1857, 0.2, 0.2143, 0.2286, 0.2429, 0.2571, 0.2714, 0.2857, 0.3]}>>\n",
      "Fitting 6 folds for each of 29 candidates, totalling 174 fits\n"
     ]
    },
    {
     "name": "stderr",
     "output_type": "stream",
     "text": [
      "[Parallel(n_jobs=1)]: Done 174 out of 174 | elapsed:   49.4s finished\n"
     ]
    },
    {
     "name": "stdout",
     "output_type": "stream",
     "text": [
      "       Best parameters selected: <<{'C': 0.2857}>> for score <<0.6002756914296934>>.\n",
      "       3. Grid Search model <<<class 'sklearn.svm.classes.LinearSVC'>>>; weight: <<balanced>>; parameters: <<{'C': [0.0952, 0.1088, 0.1224, 0.136, 0.1497, 0.1633, 0.1769, 0.1905, 0.2041, 0.2177, 0.2313, 0.2449, 0.2585, 0.2721, 0.2857, 0.3265, 0.3673, 0.4081, 0.449, 0.4898, 0.5306, 0.5714, 0.6122, 0.653, 0.6938, 0.7347, 0.7755, 0.8163, 0.8571]}>>\n",
      "Fitting 6 folds for each of 29 candidates, totalling 174 fits\n"
     ]
    },
    {
     "name": "stderr",
     "output_type": "stream",
     "text": [
      "[Parallel(n_jobs=1)]: Done 174 out of 174 | elapsed:  1.4min finished\n"
     ]
    },
    {
     "name": "stdout",
     "output_type": "stream",
     "text": [
      "       Best parameters selected: <<{'C': 0.2857}>> for score <<0.6002756914296934>>.\n",
      "       3. Grid Search model <<<class 'sklearn.svm.classes.LinearSVC'>>>; weight: <<{1: 1.0, 0: 6.5004524886877837, 2: 228.03174603174605}>>; parameters: <<{'C': [0.001, 0.01, 0.1, 1.0, 10.0]}>>\n",
      "Fitting 6 folds for each of 5 candidates, totalling 30 fits\n"
     ]
    },
    {
     "name": "stderr",
     "output_type": "stream",
     "text": [
      "[Parallel(n_jobs=1)]: Done  30 out of  30 | elapsed:   28.6s finished\n"
     ]
    },
    {
     "name": "stdout",
     "output_type": "stream",
     "text": [
      "       Best parameters selected: <<{'C': 1.0}>> for score <<0.6049412321090706>>.\n",
      "       4. Grid Search model <<<class 'sklearn.svm.classes.LinearSVC'>>>; weight: <<{1: 1.0, 0: 6.5004524886877837, 2: 228.03174603174605}>>; parameters: <<{'C': [0.3333, 0.381, 0.4286, 0.4762, 0.5238, 0.5714, 0.619, 0.6667, 0.7143, 0.7619, 0.8095, 0.8571, 0.9048, 0.9524, 1.0, 1.1429, 1.2857, 1.4286, 1.5714, 1.7143, 1.8571, 2.0, 2.1429, 2.2857, 2.4286, 2.5714, 2.7143, 2.8571, 3.0]}>>\n",
      "Fitting 6 folds for each of 29 candidates, totalling 174 fits\n"
     ]
    },
    {
     "name": "stderr",
     "output_type": "stream",
     "text": [
      "[Parallel(n_jobs=1)]: Done 174 out of 174 | elapsed:  4.1min finished\n"
     ]
    },
    {
     "name": "stdout",
     "output_type": "stream",
     "text": [
      "       Best parameters selected: <<{'C': 0.7143}>> for score <<0.6060328475664392>>.\n",
      "       5. Grid Search model <<<class 'sklearn.svm.classes.LinearSVC'>>>; weight: <<{1: 1.0, 0: 6.5004524886877837, 2: 228.03174603174605}>>; parameters: <<{'C': [0.2381, 0.2721, 0.3061, 0.3401, 0.3742, 0.4082, 0.4422, 0.4762, 0.5102, 0.5442, 0.5782, 0.6123, 0.6463, 0.6803, 0.7143, 0.8163, 0.9184, 1.0204, 1.1225, 1.2245, 1.3266, 1.4286, 1.5306, 1.6327, 1.7347, 1.8368, 1.9388, 2.0409, 2.1429]}>>\n",
      "Fitting 6 folds for each of 29 candidates, totalling 174 fits\n"
     ]
    },
    {
     "name": "stderr",
     "output_type": "stream",
     "text": [
      "[Parallel(n_jobs=1)]: Done 174 out of 174 | elapsed:  3.7min finished\n"
     ]
    },
    {
     "name": "stdout",
     "output_type": "stream",
     "text": [
      "       Best parameters selected: <<{'C': 0.7143}>> for score <<0.6060328475664392>>.\n",
      "       Final parameters selected: <<{'C': 0.7143}>> for score <<0.6060328475664392>>.\n",
      "\n",
      "          *** Score on validation dataset (macro/weighted) <<0.6243534548144215>> / <<0.8070701018573997>>.\n",
      "[[ 493  245    4]\n",
      " [ 372 2190    3]\n",
      " [   6   14   11]]\n",
      "\n",
      "-------------------------------------------------------------------\n",
      "    3. Fit model for class: <<request>> ((18912, 23235)).\n",
      "    Tuning hyper-parameters for class: <<request>> (Recall).\n",
      "       1. Grid Search model <<<class 'sklearn.svm.classes.LinearSVC'>>>; weight: <<balanced>>; parameters: <<{'C': [0.001, 0.01, 0.1, 1.0, 10.0]}>>\n",
      "Fitting 6 folds for each of 5 candidates, totalling 30 fits\n"
     ]
    },
    {
     "name": "stderr",
     "output_type": "stream",
     "text": [
      "[Parallel(n_jobs=1)]: Done  30 out of  30 | elapsed:    7.6s finished\n"
     ]
    },
    {
     "name": "stdout",
     "output_type": "stream",
     "text": [
      "       Best parameters selected: <<{'C': 0.1}>> for score <<0.8273390502681104>>.\n",
      "       2. Grid Search model <<<class 'sklearn.svm.classes.LinearSVC'>>>; weight: <<balanced>>; parameters: <<{'C': [0.0333, 0.0381, 0.0429, 0.0476, 0.0524, 0.0571, 0.0619, 0.0667, 0.0714, 0.0762, 0.081, 0.0857, 0.0905, 0.0952, 0.1, 0.1143, 0.1286, 0.1429, 0.1571, 0.1714, 0.1857, 0.2, 0.2143, 0.2286, 0.2429, 0.2571, 0.2714, 0.2857, 0.3]}>>\n",
      "Fitting 6 folds for each of 29 candidates, totalling 174 fits\n"
     ]
    },
    {
     "name": "stderr",
     "output_type": "stream",
     "text": [
      "[Parallel(n_jobs=1)]: Done 174 out of 174 | elapsed:   17.1s finished\n"
     ]
    },
    {
     "name": "stdout",
     "output_type": "stream",
     "text": [
      "       Best parameters selected: <<{'C': 0.0762}>> for score <<0.8273606449959419>>.\n",
      "       3. Grid Search model <<<class 'sklearn.svm.classes.LinearSVC'>>>; weight: <<balanced>>; parameters: <<{'C': [0.0254, 0.029, 0.0327, 0.0363, 0.0399, 0.0435, 0.0472, 0.0508, 0.0544, 0.0581, 0.0617, 0.0653, 0.0689, 0.0726, 0.0762, 0.0871, 0.098, 0.1089, 0.1197, 0.1306, 0.1415, 0.1524, 0.1633, 0.1742, 0.1851, 0.1959, 0.2068, 0.2177, 0.2286]}>>\n",
      "Fitting 6 folds for each of 29 candidates, totalling 174 fits\n"
     ]
    },
    {
     "name": "stderr",
     "output_type": "stream",
     "text": [
      "[Parallel(n_jobs=1)]: Done 174 out of 174 | elapsed:   14.5s finished\n"
     ]
    },
    {
     "name": "stdout",
     "output_type": "stream",
     "text": [
      "       Best parameters selected: <<{'C': 0.0871}>> for score <<0.8275842594129107>>.\n",
      "       4. Grid Search model <<<class 'sklearn.svm.classes.LinearSVC'>>>; weight: <<balanced>>; parameters: <<{'C': [0.029, 0.0332, 0.0373, 0.0415, 0.0456, 0.0498, 0.0539, 0.0581, 0.0622, 0.0664, 0.0705, 0.0747, 0.0788, 0.083, 0.0871, 0.0995, 0.112, 0.1244, 0.1369, 0.1493, 0.1618, 0.1742, 0.1866, 0.1991, 0.2115, 0.224, 0.2364, 0.2489, 0.2613]}>>\n",
      "Fitting 6 folds for each of 29 candidates, totalling 174 fits\n"
     ]
    },
    {
     "name": "stderr",
     "output_type": "stream",
     "text": [
      "[Parallel(n_jobs=1)]: Done 174 out of 174 | elapsed:   15.5s finished\n"
     ]
    },
    {
     "name": "stdout",
     "output_type": "stream",
     "text": [
      "       Best parameters selected: <<{'C': 0.0871}>> for score <<0.8275842594129107>>.\n",
      "       Final parameters selected: <<{'C': 0.0871}>> for score <<0.8275842594129107>>.\n",
      "\n",
      "          *** Score on validation dataset (macro/weighted) <<0.8141750779563597>> / <<0.8642899940083882>>.\n",
      "[[2465  304]\n",
      " [ 149  420]]\n",
      "\n",
      "-------------------------------------------------------------------\n",
      "    4. Fit model for class: <<offer>> ((18912, 23235)).\n",
      "    Tuning hyper-parameters for class: <<offer>> (Recall).\n",
      "       1. Grid Search model <<<class 'sklearn.svm.classes.LinearSVC'>>>; weight: <<balanced>>; parameters: <<{'C': [0.001, 0.01, 0.1, 1.0, 10.0]}>>\n",
      "Fitting 6 folds for each of 5 candidates, totalling 30 fits\n"
     ]
    },
    {
     "name": "stderr",
     "output_type": "stream",
     "text": [
      "[Parallel(n_jobs=1)]: Done  30 out of  30 | elapsed:    3.2s finished\n"
     ]
    },
    {
     "name": "stdout",
     "output_type": "stream",
     "text": [
      "       Best parameters selected: <<{'C': 0.001}>> for score <<0.6515979240644633>>.\n",
      "       2. Grid Search model <<<class 'sklearn.svm.classes.LinearSVC'>>>; weight: <<balanced>>; parameters: <<{'C': [0.0003, 0.0004, 0.0004, 0.0005, 0.0005, 0.0006, 0.0006, 0.0007, 0.0007, 0.0008, 0.0008, 0.0009, 0.0009, 0.001, 0.001, 0.0011, 0.0013, 0.0014, 0.0016, 0.0017, 0.0019, 0.002, 0.0021, 0.0023, 0.0024, 0.0026, 0.0027, 0.0029, 0.003]}>>\n",
      "Fitting 6 folds for each of 29 candidates, totalling 174 fits\n"
     ]
    },
    {
     "name": "stderr",
     "output_type": "stream",
     "text": [
      "[Parallel(n_jobs=1)]: Done 174 out of 174 | elapsed:    9.2s finished\n"
     ]
    },
    {
     "name": "stdout",
     "output_type": "stream",
     "text": [
      "       Best parameters selected: <<{'C': 0.0005}>> for score <<0.6659420619745667>>.\n",
      "       3. Grid Search model <<<class 'sklearn.svm.classes.LinearSVC'>>>; weight: <<balanced>>; parameters: <<{'C': [0.0002, 0.0002, 0.0002, 0.0002, 0.0003, 0.0003, 0.0003, 0.0003, 0.0004, 0.0004, 0.0004, 0.0004, 0.0005, 0.0005, 0.0005, 0.0006, 0.0006, 0.0007, 0.0008, 0.0009, 0.0009, 0.001, 0.0011, 0.0011, 0.0012, 0.0013, 0.0014, 0.0014, 0.0015]}>>\n",
      "Fitting 6 folds for each of 29 candidates, totalling 174 fits\n"
     ]
    },
    {
     "name": "stderr",
     "output_type": "stream",
     "text": [
      "[Parallel(n_jobs=1)]: Done 174 out of 174 | elapsed:    7.1s finished\n"
     ]
    },
    {
     "name": "stdout",
     "output_type": "stream",
     "text": [
      "       Best parameters selected: <<{'C': 0.0005}>> for score <<0.6659420619745667>>.\n",
      "       3. Grid Search model <<<class 'sklearn.svm.classes.LinearSVC'>>>; weight: <<{0: 1.0, 1: 448.28571428571428}>>; parameters: <<{'C': [0.001, 0.01, 0.1, 1.0, 10.0]}>>\n",
      "Fitting 6 folds for each of 5 candidates, totalling 30 fits\n"
     ]
    },
    {
     "name": "stderr",
     "output_type": "stream",
     "text": [
      "[Parallel(n_jobs=1)]: Done  30 out of  30 | elapsed:    3.6s finished\n"
     ]
    },
    {
     "name": "stdout",
     "output_type": "stream",
     "text": [
      "       Best parameters selected: <<{'C': 0.001}>> for score <<0.7075821724483292>>.\n",
      "       4. Grid Search model <<<class 'sklearn.svm.classes.LinearSVC'>>>; weight: <<{0: 1.0, 1: 448.28571428571428}>>; parameters: <<{'C': [0.0003, 0.0004, 0.0004, 0.0005, 0.0005, 0.0006, 0.0006, 0.0007, 0.0007, 0.0008, 0.0008, 0.0009, 0.0009, 0.001, 0.001, 0.0011, 0.0013, 0.0014, 0.0016, 0.0017, 0.0019, 0.002, 0.0021, 0.0023, 0.0024, 0.0026, 0.0027, 0.0029, 0.003]}>>\n",
      "Fitting 6 folds for each of 29 candidates, totalling 174 fits\n"
     ]
    },
    {
     "name": "stderr",
     "output_type": "stream",
     "text": [
      "[Parallel(n_jobs=1)]: Done 174 out of 174 | elapsed:   14.6s finished\n"
     ]
    },
    {
     "name": "stdout",
     "output_type": "stream",
     "text": [
      "       Best parameters selected: <<{'C': 0.001}>> for score <<0.7075821724483292>>.\n",
      "       Final parameters selected: <<{'C': 0.001}>> for score <<0.7075821724483292>>.\n",
      "\n",
      "          *** Score on validation dataset (macro/weighted) <<0.7422093695777907>> / <<0.7153984421809467>>.\n",
      "[[2378  947]\n",
      " [   3   10]]\n",
      "\n",
      "-------------------------------------------------------------------\n",
      "    5. Fit model for class: <<aid_related>> ((18912, 23235)).\n",
      "    Tuning hyper-parameters for class: <<aid_related>> (Recall).\n",
      "       1. Grid Search model <<<class 'sklearn.svm.classes.LinearSVC'>>>; weight: <<balanced>>; parameters: <<{'C': [0.001, 0.01, 0.1, 1.0, 10.0]}>>\n",
      "Fitting 6 folds for each of 5 candidates, totalling 30 fits\n"
     ]
    },
    {
     "name": "stderr",
     "output_type": "stream",
     "text": [
      "[Parallel(n_jobs=1)]: Done  30 out of  30 | elapsed:    9.8s finished\n"
     ]
    },
    {
     "name": "stdout",
     "output_type": "stream",
     "text": [
      "       Best parameters selected: <<{'C': 0.1}>> for score <<0.7755236387534739>>.\n",
      "       2. Grid Search model <<<class 'sklearn.svm.classes.LinearSVC'>>>; weight: <<balanced>>; parameters: <<{'C': [0.0333, 0.0381, 0.0429, 0.0476, 0.0524, 0.0571, 0.0619, 0.0667, 0.0714, 0.0762, 0.081, 0.0857, 0.0905, 0.0952, 0.1, 0.1143, 0.1286, 0.1429, 0.1571, 0.1714, 0.1857, 0.2, 0.2143, 0.2286, 0.2429, 0.2571, 0.2714, 0.2857, 0.3]}>>\n",
      "Fitting 6 folds for each of 29 candidates, totalling 174 fits\n"
     ]
    },
    {
     "name": "stderr",
     "output_type": "stream",
     "text": [
      "[Parallel(n_jobs=1)]: Done 174 out of 174 | elapsed:   12.6s finished\n"
     ]
    },
    {
     "name": "stdout",
     "output_type": "stream",
     "text": [
      "       Best parameters selected: <<{'C': 0.0714}>> for score <<0.7756852571795829>>.\n",
      "       3. Grid Search model <<<class 'sklearn.svm.classes.LinearSVC'>>>; weight: <<balanced>>; parameters: <<{'C': [0.0238, 0.0272, 0.0306, 0.034, 0.0374, 0.0408, 0.0442, 0.0476, 0.051, 0.0544, 0.0578, 0.0612, 0.0646, 0.068, 0.0714, 0.0816, 0.0918, 0.102, 0.1122, 0.1224, 0.1326, 0.1428, 0.153, 0.1632, 0.1734, 0.1836, 0.1938, 0.204, 0.2142]}>>\n",
      "Fitting 6 folds for each of 29 candidates, totalling 174 fits\n"
     ]
    },
    {
     "name": "stderr",
     "output_type": "stream",
     "text": [
      "[Parallel(n_jobs=1)]: Done 174 out of 174 | elapsed:   10.4s finished\n"
     ]
    },
    {
     "name": "stdout",
     "output_type": "stream",
     "text": [
      "       Best parameters selected: <<{'C': 0.0714}>> for score <<0.7756852571795829>>.\n",
      "       3. Grid Search model <<<class 'sklearn.svm.classes.LinearSVC'>>>; weight: <<{0: 1.0, 1: 2.8517188301693177}>>; parameters: <<{'C': [0.001, 0.01, 0.1, 1.0, 10.0]}>>\n",
      "Fitting 6 folds for each of 5 candidates, totalling 30 fits\n"
     ]
    },
    {
     "name": "stderr",
     "output_type": "stream",
     "text": [
      "[Parallel(n_jobs=1)]: Done  30 out of  30 | elapsed:   11.3s finished\n"
     ]
    },
    {
     "name": "stdout",
     "output_type": "stream",
     "text": [
      "       Best parameters selected: <<{'C': 0.1}>> for score <<0.7620826110110986>>.\n",
      "       4. Grid Search model <<<class 'sklearn.svm.classes.LinearSVC'>>>; weight: <<{0: 1.0, 1: 2.8517188301693177}>>; parameters: <<{'C': [0.0333, 0.0381, 0.0429, 0.0476, 0.0524, 0.0571, 0.0619, 0.0667, 0.0714, 0.0762, 0.081, 0.0857, 0.0905, 0.0952, 0.1, 0.1143, 0.1286, 0.1429, 0.1571, 0.1714, 0.1857, 0.2, 0.2143, 0.2286, 0.2429, 0.2571, 0.2714, 0.2857, 0.3]}>>\n",
      "Fitting 6 folds for each of 29 candidates, totalling 174 fits\n"
     ]
    },
    {
     "name": "stderr",
     "output_type": "stream",
     "text": [
      "[Parallel(n_jobs=1)]: Done 174 out of 174 | elapsed:   19.4s finished\n"
     ]
    },
    {
     "name": "stdout",
     "output_type": "stream",
     "text": [
      "       Best parameters selected: <<{'C': 0.2286}>> for score <<0.762953609401666>>.\n",
      "       5. Grid Search model <<<class 'sklearn.svm.classes.LinearSVC'>>>; weight: <<{0: 1.0, 1: 2.8517188301693177}>>; parameters: <<{'C': [0.0762, 0.0871, 0.098, 0.1089, 0.1197, 0.1306, 0.1415, 0.1524, 0.1633, 0.1742, 0.1851, 0.1959, 0.2068, 0.2177, 0.2286, 0.2613, 0.2939, 0.3266, 0.3592, 0.3919, 0.4245, 0.4572, 0.4899, 0.5225, 0.5552, 0.5878, 0.6205, 0.6531, 0.6858]}>>\n",
      "Fitting 6 folds for each of 29 candidates, totalling 174 fits\n"
     ]
    },
    {
     "name": "stderr",
     "output_type": "stream",
     "text": [
      "[Parallel(n_jobs=1)]: Done 174 out of 174 | elapsed:   35.9s finished\n"
     ]
    },
    {
     "name": "stdout",
     "output_type": "stream",
     "text": [
      "       Best parameters selected: <<{'C': 0.2177}>> for score <<0.763092672165825>>.\n",
      "       6. Grid Search model <<<class 'sklearn.svm.classes.LinearSVC'>>>; weight: <<{0: 1.0, 1: 2.8517188301693177}>>; parameters: <<{'C': [0.0726, 0.0829, 0.0933, 0.1037, 0.114, 0.1244, 0.1348, 0.1451, 0.1555, 0.1659, 0.1762, 0.1866, 0.197, 0.2073, 0.2177, 0.2488, 0.2799, 0.311, 0.3421, 0.3732, 0.4043, 0.4354, 0.4665, 0.4976, 0.5287, 0.5598, 0.5909, 0.622, 0.6531]}>>\n",
      "Fitting 6 folds for each of 29 candidates, totalling 174 fits\n"
     ]
    },
    {
     "name": "stderr",
     "output_type": "stream",
     "text": [
      "[Parallel(n_jobs=1)]: Done 174 out of 174 | elapsed:   34.6s finished\n"
     ]
    },
    {
     "name": "stdout",
     "output_type": "stream",
     "text": [
      "       Best parameters selected: <<{'C': 0.2177}>> for score <<0.763092672165825>>.\n",
      "       Final parameters selected: <<{'C': 0.0714}>> for score <<0.7756852571795829>>.\n",
      "\n",
      "          *** Score on validation dataset (macro/weighted) <<0.7667146390093539>> / <<0.7735170760934691>>.\n",
      "[[1576  378]\n",
      " [ 378 1006]]\n",
      "\n",
      "-------------------------------------------------------------------\n",
      "    6. Fit model for class: <<medical_help>> ((18912, 23235)).\n",
      "    Tuning hyper-parameters for class: <<medical_help>> (Recall).\n",
      "       1. Grid Search model <<<class 'sklearn.svm.classes.LinearSVC'>>>; weight: <<balanced>>; parameters: <<{'C': [0.001, 0.01, 0.1, 1.0, 10.0]}>>\n",
      "Fitting 6 folds for each of 5 candidates, totalling 30 fits\n"
     ]
    },
    {
     "name": "stderr",
     "output_type": "stream",
     "text": [
      "[Parallel(n_jobs=1)]: Done  30 out of  30 | elapsed:    7.9s finished\n"
     ]
    },
    {
     "name": "stdout",
     "output_type": "stream",
     "text": [
      "       Best parameters selected: <<{'C': 0.01}>> for score <<0.772249322609667>>.\n",
      "       2. Grid Search model <<<class 'sklearn.svm.classes.LinearSVC'>>>; weight: <<balanced>>; parameters: <<{'C': [0.0033, 0.0038, 0.0043, 0.0048, 0.0052, 0.0057, 0.0062, 0.0067, 0.0071, 0.0076, 0.0081, 0.0086, 0.009, 0.0095, 0.01, 0.0114, 0.0129, 0.0143, 0.0157, 0.0171, 0.0186, 0.02, 0.0214, 0.0229, 0.0243, 0.0257, 0.0271, 0.0286, 0.03]}>>\n",
      "Fitting 6 folds for each of 29 candidates, totalling 174 fits\n"
     ]
    },
    {
     "name": "stderr",
     "output_type": "stream",
     "text": [
      "[Parallel(n_jobs=1)]: Done 174 out of 174 | elapsed:    9.0s finished\n"
     ]
    },
    {
     "name": "stdout",
     "output_type": "stream",
     "text": [
      "       Best parameters selected: <<{'C': 0.0171}>> for score <<0.7757657822720667>>.\n",
      "       3. Grid Search model <<<class 'sklearn.svm.classes.LinearSVC'>>>; weight: <<balanced>>; parameters: <<{'C': [0.0057, 0.0065, 0.0073, 0.0081, 0.009, 0.0098, 0.0106, 0.0114, 0.0122, 0.013, 0.0138, 0.0147, 0.0155, 0.0163, 0.0171, 0.0195, 0.022, 0.0244, 0.0269, 0.0293, 0.0318, 0.0342, 0.0366, 0.0391, 0.0415, 0.044, 0.0464, 0.0489, 0.0513]}>>\n",
      "Fitting 6 folds for each of 29 candidates, totalling 174 fits\n"
     ]
    },
    {
     "name": "stderr",
     "output_type": "stream",
     "text": [
      "[Parallel(n_jobs=1)]: Done 174 out of 174 | elapsed:   10.7s finished\n"
     ]
    },
    {
     "name": "stdout",
     "output_type": "stream",
     "text": [
      "       Best parameters selected: <<{'C': 0.0415}>> for score <<0.7759080794657508>>.\n",
      "       4. Grid Search model <<<class 'sklearn.svm.classes.LinearSVC'>>>; weight: <<balanced>>; parameters: <<{'C': [0.0138, 0.0158, 0.0178, 0.0198, 0.0217, 0.0237, 0.0257, 0.0277, 0.0296, 0.0316, 0.0336, 0.0356, 0.0375, 0.0395, 0.0415, 0.0474, 0.0534, 0.0593, 0.0652, 0.0711, 0.0771, 0.083, 0.0889, 0.0949, 0.1008, 0.1067, 0.1126, 0.1186, 0.1245]}>>\n",
      "Fitting 6 folds for each of 29 candidates, totalling 174 fits\n"
     ]
    },
    {
     "name": "stderr",
     "output_type": "stream",
     "text": [
      "[Parallel(n_jobs=1)]: Done 174 out of 174 | elapsed:   15.6s finished\n"
     ]
    },
    {
     "name": "stdout",
     "output_type": "stream",
     "text": [
      "       Best parameters selected: <<{'C': 0.0415}>> for score <<0.7759080794657508>>.\n",
      "       4. Grid Search model <<<class 'sklearn.svm.classes.LinearSVC'>>>; weight: <<{0: 1.0, 1: 23.574036511156184}>>; parameters: <<{'C': [0.001, 0.01, 0.1, 1.0, 10.0]}>>\n",
      "Fitting 6 folds for each of 5 candidates, totalling 30 fits\n"
     ]
    },
    {
     "name": "stderr",
     "output_type": "stream",
     "text": [
      "[Parallel(n_jobs=1)]: Done  30 out of  30 | elapsed:   10.8s finished\n"
     ]
    },
    {
     "name": "stdout",
     "output_type": "stream",
     "text": [
      "       Best parameters selected: <<{'C': 0.1}>> for score <<0.7602358033720301>>.\n",
      "       5. Grid Search model <<<class 'sklearn.svm.classes.LinearSVC'>>>; weight: <<{0: 1.0, 1: 23.574036511156184}>>; parameters: <<{'C': [0.0333, 0.0381, 0.0429, 0.0476, 0.0524, 0.0571, 0.0619, 0.0667, 0.0714, 0.0762, 0.081, 0.0857, 0.0905, 0.0952, 0.1, 0.1143, 0.1286, 0.1429, 0.1571, 0.1714, 0.1857, 0.2, 0.2143, 0.2286, 0.2429, 0.2571, 0.2714, 0.2857, 0.3]}>>\n",
      "Fitting 6 folds for each of 29 candidates, totalling 174 fits\n"
     ]
    },
    {
     "name": "stderr",
     "output_type": "stream",
     "text": [
      "[Parallel(n_jobs=1)]: Done 174 out of 174 | elapsed:   52.2s finished\n"
     ]
    },
    {
     "name": "stdout",
     "output_type": "stream",
     "text": [
      "       Best parameters selected: <<{'C': 0.0333}>> for score <<0.7794283430690654>>.\n",
      "       6. Grid Search model <<<class 'sklearn.svm.classes.LinearSVC'>>>; weight: <<{0: 1.0, 1: 23.574036511156184}>>; parameters: <<{'C': [0.0111, 0.0127, 0.0143, 0.0159, 0.0174, 0.019, 0.0206, 0.0222, 0.0238, 0.0254, 0.027, 0.0285, 0.0301, 0.0317, 0.0333, 0.0381, 0.0428, 0.0476, 0.0523, 0.0571, 0.0618, 0.0666, 0.0714, 0.0761, 0.0809, 0.0856, 0.0904, 0.0951, 0.0999]}>>\n",
      "Fitting 6 folds for each of 29 candidates, totalling 174 fits\n"
     ]
    },
    {
     "name": "stderr",
     "output_type": "stream",
     "text": [
      "[Parallel(n_jobs=1)]: Done 174 out of 174 | elapsed:   26.7s finished\n"
     ]
    },
    {
     "name": "stdout",
     "output_type": "stream",
     "text": [
      "       Best parameters selected: <<{'C': 0.0317}>> for score <<0.7795120108350384>>.\n",
      "       7. Grid Search model <<<class 'sklearn.svm.classes.LinearSVC'>>>; weight: <<{0: 1.0, 1: 23.574036511156184}>>; parameters: <<{'C': [0.0106, 0.0121, 0.0136, 0.0151, 0.0166, 0.0181, 0.0196, 0.0211, 0.0226, 0.0242, 0.0257, 0.0272, 0.0287, 0.0302, 0.0317, 0.0362, 0.0408, 0.0453, 0.0498, 0.0543, 0.0589, 0.0634, 0.0679, 0.0725, 0.077, 0.0815, 0.086, 0.0906, 0.0951]}>>\n",
      "Fitting 6 folds for each of 29 candidates, totalling 174 fits\n"
     ]
    },
    {
     "name": "stderr",
     "output_type": "stream",
     "text": [
      "[Parallel(n_jobs=1)]: Done 174 out of 174 | elapsed:   25.4s finished\n"
     ]
    },
    {
     "name": "stdout",
     "output_type": "stream",
     "text": [
      "       Best parameters selected: <<{'C': 0.0317}>> for score <<0.7795120108350384>>.\n",
      "       Final parameters selected: <<{'C': 0.0317}>> for score <<0.7795120108350384>>.\n",
      "\n",
      "          *** Score on validation dataset (macro/weighted) <<0.7746292965141719>> / <<0.810964649490713>>.\n",
      "[[2511  559]\n",
      " [  72  196]]\n",
      "\n",
      "-------------------------------------------------------------------\n",
      "    7. Fit model for class: <<medical_products>> ((18912, 23235)).\n",
      "    Tuning hyper-parameters for class: <<medical_products>> (Recall).\n",
      "       1. Grid Search model <<<class 'sklearn.svm.classes.LinearSVC'>>>; weight: <<balanced>>; parameters: <<{'C': [0.001, 0.01, 0.1, 1.0, 10.0]}>>\n",
      "Fitting 6 folds for each of 5 candidates, totalling 30 fits\n"
     ]
    },
    {
     "name": "stderr",
     "output_type": "stream",
     "text": [
      "[Parallel(n_jobs=1)]: Done  30 out of  30 | elapsed:    6.5s finished\n"
     ]
    },
    {
     "name": "stdout",
     "output_type": "stream",
     "text": [
      "       Best parameters selected: <<{'C': 0.01}>> for score <<0.7825415020755523>>.\n",
      "       2. Grid Search model <<<class 'sklearn.svm.classes.LinearSVC'>>>; weight: <<balanced>>; parameters: <<{'C': [0.0033, 0.0038, 0.0043, 0.0048, 0.0052, 0.0057, 0.0062, 0.0067, 0.0071, 0.0076, 0.0081, 0.0086, 0.009, 0.0095, 0.01, 0.0114, 0.0129, 0.0143, 0.0157, 0.0171, 0.0186, 0.02, 0.0214, 0.0229, 0.0243, 0.0257, 0.0271, 0.0286, 0.03]}>>\n",
      "Fitting 6 folds for each of 29 candidates, totalling 174 fits\n"
     ]
    },
    {
     "name": "stderr",
     "output_type": "stream",
     "text": [
      "[Parallel(n_jobs=1)]: Done 174 out of 174 | elapsed:   10.1s finished\n"
     ]
    },
    {
     "name": "stdout",
     "output_type": "stream",
     "text": [
      "       Best parameters selected: <<{'C': 0.0143}>> for score <<0.7839316018527487>>.\n",
      "       3. Grid Search model <<<class 'sklearn.svm.classes.LinearSVC'>>>; weight: <<balanced>>; parameters: <<{'C': [0.0048, 0.0054, 0.0061, 0.0068, 0.0075, 0.0082, 0.0089, 0.0095, 0.0102, 0.0109, 0.0116, 0.0123, 0.0129, 0.0136, 0.0143, 0.0163, 0.0184, 0.0204, 0.0225, 0.0245, 0.0266, 0.0286, 0.0306, 0.0327, 0.0347, 0.0368, 0.0388, 0.0409, 0.0429]}>>\n",
      "Fitting 6 folds for each of 29 candidates, totalling 174 fits\n"
     ]
    },
    {
     "name": "stderr",
     "output_type": "stream",
     "text": [
      "[Parallel(n_jobs=1)]: Done 174 out of 174 | elapsed:   11.2s finished\n"
     ]
    },
    {
     "name": "stdout",
     "output_type": "stream",
     "text": [
      "       Best parameters selected: <<{'C': 0.0109}>> for score <<0.7843119104767851>>.\n",
      "       4. Grid Search model <<<class 'sklearn.svm.classes.LinearSVC'>>>; weight: <<balanced>>; parameters: <<{'C': [0.0036, 0.0042, 0.0047, 0.0052, 0.0057, 0.0062, 0.0067, 0.0073, 0.0078, 0.0083, 0.0088, 0.0093, 0.0099, 0.0104, 0.0109, 0.0125, 0.014, 0.0156, 0.0171, 0.0187, 0.0202, 0.0218, 0.0234, 0.0249, 0.0265, 0.028, 0.0296, 0.0311, 0.0327]}>>\n",
      "Fitting 6 folds for each of 29 candidates, totalling 174 fits\n"
     ]
    },
    {
     "name": "stderr",
     "output_type": "stream",
     "text": [
      "[Parallel(n_jobs=1)]: Done 174 out of 174 | elapsed:   10.1s finished\n"
     ]
    },
    {
     "name": "stdout",
     "output_type": "stream",
     "text": [
      "       Best parameters selected: <<{'C': 0.0109}>> for score <<0.7843119104767851>>.\n",
      "       4. Grid Search model <<<class 'sklearn.svm.classes.LinearSVC'>>>; weight: <<{0: 1.0, 1: 38.670967741935485}>>; parameters: <<{'C': [0.001, 0.01, 0.1, 1.0, 10.0]}>>\n",
      "Fitting 6 folds for each of 5 candidates, totalling 30 fits\n"
     ]
    },
    {
     "name": "stderr",
     "output_type": "stream",
     "text": [
      "[Parallel(n_jobs=1)]: Done  30 out of  30 | elapsed:    7.8s finished\n"
     ]
    },
    {
     "name": "stdout",
     "output_type": "stream",
     "text": [
      "       Best parameters selected: <<{'C': 0.01}>> for score <<0.7817957742688926>>.\n",
      "       5. Grid Search model <<<class 'sklearn.svm.classes.LinearSVC'>>>; weight: <<{0: 1.0, 1: 38.670967741935485}>>; parameters: <<{'C': [0.0033, 0.0038, 0.0043, 0.0048, 0.0052, 0.0057, 0.0062, 0.0067, 0.0071, 0.0076, 0.0081, 0.0086, 0.009, 0.0095, 0.01, 0.0114, 0.0129, 0.0143, 0.0157, 0.0171, 0.0186, 0.02, 0.0214, 0.0229, 0.0243, 0.0257, 0.0271, 0.0286, 0.03]}>>\n",
      "Fitting 6 folds for each of 29 candidates, totalling 174 fits\n"
     ]
    },
    {
     "name": "stderr",
     "output_type": "stream",
     "text": [
      "[Parallel(n_jobs=1)]: Done 174 out of 174 | elapsed:   17.2s finished\n"
     ]
    },
    {
     "name": "stdout",
     "output_type": "stream",
     "text": [
      "       Best parameters selected: <<{'C': 0.0286}>> for score <<0.7871868284054664>>.\n",
      "       6. Grid Search model <<<class 'sklearn.svm.classes.LinearSVC'>>>; weight: <<{0: 1.0, 1: 38.670967741935485}>>; parameters: <<{'C': [0.0095, 0.0109, 0.0123, 0.0136, 0.015, 0.0163, 0.0177, 0.0191, 0.0204, 0.0218, 0.0232, 0.0245, 0.0259, 0.0272, 0.0286, 0.0327, 0.0368, 0.0409, 0.0449, 0.049, 0.0531, 0.0572, 0.0613, 0.0654, 0.0695, 0.0735, 0.0776, 0.0817, 0.0858]}>>\n",
      "Fitting 6 folds for each of 29 candidates, totalling 174 fits\n"
     ]
    },
    {
     "name": "stderr",
     "output_type": "stream",
     "text": [
      "[Parallel(n_jobs=1)]: Done 174 out of 174 | elapsed:   27.3s finished\n"
     ]
    },
    {
     "name": "stdout",
     "output_type": "stream",
     "text": [
      "       Best parameters selected: <<{'C': 0.0286}>> for score <<0.7871868284054664>>.\n",
      "       Final parameters selected: <<{'C': 0.0286}>> for score <<0.7871868284054664>>.\n",
      "\n",
      "          *** Score on validation dataset (macro/weighted) <<0.8000442526621617>> / <<0.8702816057519472>>.\n",
      "[[2783  386]\n",
      " [  47  122]]\n",
      "\n",
      "-------------------------------------------------------------------\n",
      "    8. Fit model for class: <<search_and_rescue>> ((18912, 23235)).\n",
      "    Tuning hyper-parameters for class: <<search_and_rescue>> (Recall).\n",
      "       1. Grid Search model <<<class 'sklearn.svm.classes.LinearSVC'>>>; weight: <<balanced>>; parameters: <<{'C': [0.001, 0.01, 0.1, 1.0, 10.0]}>>\n",
      "Fitting 6 folds for each of 5 candidates, totalling 30 fits\n"
     ]
    },
    {
     "name": "stderr",
     "output_type": "stream",
     "text": [
      "[Parallel(n_jobs=1)]: Done  30 out of  30 | elapsed:    6.5s finished\n"
     ]
    },
    {
     "name": "stdout",
     "output_type": "stream",
     "text": [
      "       Best parameters selected: <<{'C': 0.01}>> for score <<0.701016272496043>>.\n",
      "       2. Grid Search model <<<class 'sklearn.svm.classes.LinearSVC'>>>; weight: <<balanced>>; parameters: <<{'C': [0.0033, 0.0038, 0.0043, 0.0048, 0.0052, 0.0057, 0.0062, 0.0067, 0.0071, 0.0076, 0.0081, 0.0086, 0.009, 0.0095, 0.01, 0.0114, 0.0129, 0.0143, 0.0157, 0.0171, 0.0186, 0.02, 0.0214, 0.0229, 0.0243, 0.0257, 0.0271, 0.0286, 0.03]}>>\n",
      "Fitting 6 folds for each of 29 candidates, totalling 174 fits\n"
     ]
    },
    {
     "name": "stderr",
     "output_type": "stream",
     "text": [
      "[Parallel(n_jobs=1)]: Done 174 out of 174 | elapsed:   12.7s finished\n"
     ]
    },
    {
     "name": "stdout",
     "output_type": "stream",
     "text": [
      "       Best parameters selected: <<{'C': 0.0076}>> for score <<0.7035958272020711>>.\n",
      "       3. Grid Search model <<<class 'sklearn.svm.classes.LinearSVC'>>>; weight: <<balanced>>; parameters: <<{'C': [0.0025, 0.0029, 0.0033, 0.0036, 0.004, 0.0043, 0.0047, 0.0051, 0.0054, 0.0058, 0.0062, 0.0065, 0.0069, 0.0072, 0.0076, 0.0087, 0.0098, 0.0109, 0.0119, 0.013, 0.0141, 0.0152, 0.0163, 0.0174, 0.0185, 0.0195, 0.0206, 0.0217, 0.0228]}>>\n",
      "Fitting 6 folds for each of 29 candidates, totalling 174 fits\n"
     ]
    },
    {
     "name": "stderr",
     "output_type": "stream",
     "text": [
      "[Parallel(n_jobs=1)]: Done 174 out of 174 | elapsed:   11.1s finished\n"
     ]
    },
    {
     "name": "stdout",
     "output_type": "stream",
     "text": [
      "       Best parameters selected: <<{'C': 0.0076}>> for score <<0.7035958272020711>>.\n",
      "       3. Grid Search model <<<class 'sklearn.svm.classes.LinearSVC'>>>; weight: <<{0: 1.0, 1: 71.302325581395351}>>; parameters: <<{'C': [0.001, 0.01, 0.1, 1.0, 10.0]}>>\n",
      "Fitting 6 folds for each of 5 candidates, totalling 30 fits\n"
     ]
    },
    {
     "name": "stderr",
     "output_type": "stream",
     "text": [
      "[Parallel(n_jobs=1)]: Done  30 out of  30 | elapsed:    7.7s finished\n"
     ]
    },
    {
     "name": "stdout",
     "output_type": "stream",
     "text": [
      "       Best parameters selected: <<{'C': 0.01}>> for score <<0.7004947991727221>>.\n",
      "       4. Grid Search model <<<class 'sklearn.svm.classes.LinearSVC'>>>; weight: <<{0: 1.0, 1: 71.302325581395351}>>; parameters: <<{'C': [0.0033, 0.0038, 0.0043, 0.0048, 0.0052, 0.0057, 0.0062, 0.0067, 0.0071, 0.0076, 0.0081, 0.0086, 0.009, 0.0095, 0.01, 0.0114, 0.0129, 0.0143, 0.0157, 0.0171, 0.0186, 0.02, 0.0214, 0.0229, 0.0243, 0.0257, 0.0271, 0.0286, 0.03]}>>\n",
      "Fitting 6 folds for each of 29 candidates, totalling 174 fits\n"
     ]
    },
    {
     "name": "stderr",
     "output_type": "stream",
     "text": [
      "[Parallel(n_jobs=1)]: Done 174 out of 174 | elapsed:   26.8s finished\n"
     ]
    },
    {
     "name": "stdout",
     "output_type": "stream",
     "text": [
      "       Best parameters selected: <<{'C': 0.0095}>> for score <<0.7028025556617465>>.\n",
      "       5. Grid Search model <<<class 'sklearn.svm.classes.LinearSVC'>>>; weight: <<{0: 1.0, 1: 71.302325581395351}>>; parameters: <<{'C': [0.0032, 0.0036, 0.0041, 0.0045, 0.005, 0.0054, 0.0059, 0.0063, 0.0068, 0.0072, 0.0077, 0.0081, 0.0086, 0.009, 0.0095, 0.0109, 0.0122, 0.0136, 0.0149, 0.0163, 0.0176, 0.019, 0.0204, 0.0217, 0.0231, 0.0244, 0.0258, 0.0271, 0.0285]}>>\n",
      "Fitting 6 folds for each of 29 candidates, totalling 174 fits\n"
     ]
    },
    {
     "name": "stderr",
     "output_type": "stream",
     "text": [
      "[Parallel(n_jobs=1)]: Done 174 out of 174 | elapsed:   26.0s finished\n"
     ]
    },
    {
     "name": "stdout",
     "output_type": "stream",
     "text": [
      "       Best parameters selected: <<{'C': 0.0122}>> for score <<0.7030629762789686>>.\n",
      "       6. Grid Search model <<<class 'sklearn.svm.classes.LinearSVC'>>>; weight: <<{0: 1.0, 1: 71.302325581395351}>>; parameters: <<{'C': [0.0041, 0.0046, 0.0052, 0.0058, 0.0064, 0.007, 0.0076, 0.0081, 0.0087, 0.0093, 0.0099, 0.0105, 0.011, 0.0116, 0.0122, 0.0139, 0.0157, 0.0174, 0.0192, 0.0209, 0.0227, 0.0244, 0.0261, 0.0279, 0.0296, 0.0314, 0.0331, 0.0349, 0.0366]}>>\n",
      "Fitting 6 folds for each of 29 candidates, totalling 174 fits\n"
     ]
    },
    {
     "name": "stderr",
     "output_type": "stream",
     "text": [
      "[Parallel(n_jobs=1)]: Done 174 out of 174 | elapsed:   28.7s finished\n"
     ]
    },
    {
     "name": "stdout",
     "output_type": "stream",
     "text": [
      "       Best parameters selected: <<{'C': 0.0122}>> for score <<0.7030629762789686>>.\n",
      "       Final parameters selected: <<{'C': 0.0076}>> for score <<0.7035958272020711>>.\n",
      "\n",
      "          *** Score on validation dataset (macro/weighted) <<0.6904551421147098>> / <<0.8909526662672259>>.\n",
      "[[2930  316]\n",
      " [  48   44]]\n",
      "\n",
      "-------------------------------------------------------------------\n",
      "    9. Fit model for class: <<security>> ((18912, 23235)).\n",
      "    Tuning hyper-parameters for class: <<security>> (Recall).\n",
      "       1. Grid Search model <<<class 'sklearn.svm.classes.LinearSVC'>>>; weight: <<balanced>>; parameters: <<{'C': [0.001, 0.01, 0.1, 1.0, 10.0]}>>\n",
      "Fitting 6 folds for each of 5 candidates, totalling 30 fits\n"
     ]
    },
    {
     "name": "stderr",
     "output_type": "stream",
     "text": [
      "[Parallel(n_jobs=1)]: Done  30 out of  30 | elapsed:    6.2s finished\n"
     ]
    },
    {
     "name": "stdout",
     "output_type": "stream",
     "text": [
      "       Best parameters selected: <<{'C': 0.01}>> for score <<0.6398623181065036>>.\n",
      "       2. Grid Search model <<<class 'sklearn.svm.classes.LinearSVC'>>>; weight: <<balanced>>; parameters: <<{'C': [0.0033, 0.0038, 0.0043, 0.0048, 0.0052, 0.0057, 0.0062, 0.0067, 0.0071, 0.0076, 0.0081, 0.0086, 0.009, 0.0095, 0.01, 0.0114, 0.0129, 0.0143, 0.0157, 0.0171, 0.0186, 0.02, 0.0214, 0.0229, 0.0243, 0.0257, 0.0271, 0.0286, 0.03]}>>\n",
      "Fitting 6 folds for each of 29 candidates, totalling 174 fits\n"
     ]
    },
    {
     "name": "stderr",
     "output_type": "stream",
     "text": [
      "[Parallel(n_jobs=1)]: Done 174 out of 174 | elapsed:   13.4s finished\n"
     ]
    },
    {
     "name": "stdout",
     "output_type": "stream",
     "text": [
      "       Best parameters selected: <<{'C': 0.0095}>> for score <<0.6434685511605245>>.\n",
      "       3. Grid Search model <<<class 'sklearn.svm.classes.LinearSVC'>>>; weight: <<balanced>>; parameters: <<{'C': [0.0032, 0.0036, 0.0041, 0.0045, 0.005, 0.0054, 0.0059, 0.0063, 0.0068, 0.0072, 0.0077, 0.0081, 0.0086, 0.009, 0.0095, 0.0109, 0.0122, 0.0136, 0.0149, 0.0163, 0.0176, 0.019, 0.0204, 0.0217, 0.0231, 0.0244, 0.0258, 0.0271, 0.0285]}>>\n",
      "Fitting 6 folds for each of 29 candidates, totalling 174 fits\n"
     ]
    },
    {
     "name": "stderr",
     "output_type": "stream",
     "text": [
      "[Parallel(n_jobs=1)]: Done 174 out of 174 | elapsed:   13.9s finished\n"
     ]
    },
    {
     "name": "stdout",
     "output_type": "stream",
     "text": [
      "       Best parameters selected: <<{'C': 0.0095}>> for score <<0.6434685511605245>>.\n",
      "       3. Grid Search model <<<class 'sklearn.svm.classes.LinearSVC'>>>; weight: <<{0: 1.0, 1: 107.31791907514452}>>; parameters: <<{'C': [0.001, 0.01, 0.1, 1.0, 10.0]}>>\n",
      "Fitting 6 folds for each of 5 candidates, totalling 30 fits\n"
     ]
    },
    {
     "name": "stderr",
     "output_type": "stream",
     "text": [
      "[Parallel(n_jobs=1)]: Done  30 out of  30 | elapsed:    7.6s finished\n"
     ]
    },
    {
     "name": "stdout",
     "output_type": "stream",
     "text": [
      "       Best parameters selected: <<{'C': 0.01}>> for score <<0.6305268733388094>>.\n",
      "       4. Grid Search model <<<class 'sklearn.svm.classes.LinearSVC'>>>; weight: <<{0: 1.0, 1: 107.31791907514452}>>; parameters: <<{'C': [0.0033, 0.0038, 0.0043, 0.0048, 0.0052, 0.0057, 0.0062, 0.0067, 0.0071, 0.0076, 0.0081, 0.0086, 0.009, 0.0095, 0.01, 0.0114, 0.0129, 0.0143, 0.0157, 0.0171, 0.0186, 0.02, 0.0214, 0.0229, 0.0243, 0.0257, 0.0271, 0.0286, 0.03]}>>\n",
      "Fitting 6 folds for each of 29 candidates, totalling 174 fits\n"
     ]
    },
    {
     "name": "stderr",
     "output_type": "stream",
     "text": [
      "[Parallel(n_jobs=1)]: Done 174 out of 174 | elapsed:   25.8s finished\n"
     ]
    },
    {
     "name": "stdout",
     "output_type": "stream",
     "text": [
      "       Best parameters selected: <<{'C': 0.0081}>> for score <<0.6452700105898029>>.\n",
      "       5. Grid Search model <<<class 'sklearn.svm.classes.LinearSVC'>>>; weight: <<{0: 1.0, 1: 107.31791907514452}>>; parameters: <<{'C': [0.0027, 0.0031, 0.0035, 0.0039, 0.0042, 0.0046, 0.005, 0.0054, 0.0058, 0.0062, 0.0066, 0.0069, 0.0073, 0.0077, 0.0081, 0.0093, 0.0104, 0.0116, 0.0127, 0.0139, 0.015, 0.0162, 0.0174, 0.0185, 0.0197, 0.0208, 0.022, 0.0231, 0.0243]}>>\n",
      "Fitting 6 folds for each of 29 candidates, totalling 174 fits\n"
     ]
    }
   ],
   "source": [
    "v_model, X_train, X_test, y_train, y_test, y_pred_test = executeMain('data/DisasterResponse.db', 'models/savedModel.pkl')"
   ]
  }
 ],
 "metadata": {
  "kernelspec": {
   "display_name": "Python 3",
   "language": "python",
   "name": "python3"
  },
  "language_info": {
   "codemirror_mode": {
    "name": "ipython",
    "version": 3
   },
   "file_extension": ".py",
   "mimetype": "text/x-python",
   "name": "python",
   "nbconvert_exporter": "python",
   "pygments_lexer": "ipython3",
   "version": "3.6.3"
  }
 },
 "nbformat": 4,
 "nbformat_minor": 2
}
