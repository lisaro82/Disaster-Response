{
 "cells": [
  {
   "cell_type": "code",
   "execution_count": 1,
   "metadata": {},
   "outputs": [
    {
     "data": {
      "text/html": [
       "<div>\n",
       "<style scoped>\n",
       "    .dataframe tbody tr th:only-of-type {\n",
       "        vertical-align: middle;\n",
       "    }\n",
       "\n",
       "    .dataframe tbody tr th {\n",
       "        vertical-align: top;\n",
       "    }\n",
       "\n",
       "    .dataframe thead th {\n",
       "        text-align: right;\n",
       "    }\n",
       "</style>\n",
       "<table border=\"1\" class=\"dataframe\">\n",
       "  <thead>\n",
       "    <tr style=\"text-align: right;\">\n",
       "      <th></th>\n",
       "      <th>messageTokenized</th>\n",
       "      <th>flag_first_verb</th>\n",
       "      <th>flag_last_verb</th>\n",
       "      <th>flag_first_nnp</th>\n",
       "      <th>flag_last_nnp</th>\n",
       "      <th>flag_nnp</th>\n",
       "    </tr>\n",
       "  </thead>\n",
       "  <tbody>\n",
       "    <tr>\n",
       "      <th>0</th>\n",
       "      <td>50 peopl street pleas hlp u find tent food</td>\n",
       "      <td>0</td>\n",
       "      <td>0</td>\n",
       "      <td>0</td>\n",
       "      <td>0</td>\n",
       "      <td>0</td>\n",
       "    </tr>\n",
       "  </tbody>\n",
       "</table>\n",
       "</div>"
      ],
      "text/plain": [
       "                             messageTokenized  flag_first_verb  \\\n",
       "0  50 peopl street pleas hlp u find tent food                0   \n",
       "\n",
       "   flag_last_verb  flag_first_nnp  flag_last_nnp  flag_nnp  \n",
       "0               0               0              0         0  "
      ]
     },
     "metadata": {},
     "output_type": "display_data"
    },
    {
     "data": {
      "text/plain": [
       "'    Call HMsgExtractMessage ==> transform.'"
      ]
     },
     "metadata": {},
     "output_type": "display_data"
    },
    {
     "data": {
      "text/plain": [
       "'    Call HMsgCountVectorizer ==> transform.'"
      ]
     },
     "metadata": {},
     "output_type": "display_data"
    },
    {
     "data": {
      "text/plain": [
       "'    Call HMsgTfidfTransformer ==> transform.'"
      ]
     },
     "metadata": {},
     "output_type": "display_data"
    },
    {
     "data": {
      "text/plain": [
       "array([1., 1., 1., 0., 1., 0., 0., 0., 0., 0., 0., 1., 1., 0., 0., 0., 0.,\n",
       "       0., 0., 0., 0., 0., 0., 0., 0., 0., 1., 0., 0., 0., 0., 0., 0., 0.,\n",
       "       1., 1.])"
      ]
     },
     "metadata": {},
     "output_type": "display_data"
    },
    {
     "data": {
      "text/plain": [
       "{'genre': 1.0,\n",
       " 'related': 1.0,\n",
       " 'request': 1.0,\n",
       " 'offer': 0.0,\n",
       " 'aid_related': 1.0,\n",
       " 'medical_help': 0.0,\n",
       " 'medical_products': 0.0,\n",
       " 'search_and_rescue': 0.0,\n",
       " 'security': 0.0,\n",
       " 'military': 0.0,\n",
       " 'water': 0.0,\n",
       " 'food': 1.0,\n",
       " 'shelter': 1.0,\n",
       " 'clothing': 0.0,\n",
       " 'money': 0.0,\n",
       " 'missing_people': 0.0,\n",
       " 'refugees': 0.0,\n",
       " 'death': 0.0,\n",
       " 'other_aid': 0.0,\n",
       " 'infrastructure_related': 0.0,\n",
       " 'transport': 0.0,\n",
       " 'buildings': 0.0,\n",
       " 'electricity': 0.0,\n",
       " 'tools': 0.0,\n",
       " 'hospitals': 0.0,\n",
       " 'shops': 0.0,\n",
       " 'aid_centers': 1.0,\n",
       " 'other_infrastructure': 0.0,\n",
       " 'weather_related': 0.0,\n",
       " 'floods': 0.0,\n",
       " 'storm': 0.0,\n",
       " 'fire': 0.0,\n",
       " 'earthquake': 0.0,\n",
       " 'cold': 0.0,\n",
       " 'other_weather': 1.0,\n",
       " 'direct_report': 1.0}"
      ]
     },
     "metadata": {},
     "output_type": "display_data"
    }
   ],
   "source": [
    "from sklearn.externals import joblib\n",
    "from models.HMsgClasses import getTokenizedMessage\n",
    "\n",
    "v_query = 'We+are+more+than+50+peoples+on+the+street.+please+hlp+us+find+tent+and+food'\n",
    "\n",
    "display(getTokenizedMessage(v_query))\n",
    "\n",
    "v_model = joblib.load(\"models/savedModel.pkl\")\n",
    "v_labels = v_model.predict(getTokenizedMessage(v_query))[0]\n",
    "v_results = dict(zip(v_model.named_steps['classifier'].getClasses(), v_labels))\n",
    "\n",
    "display(v_labels)\n",
    "display(v_results)"
   ]
  },
  {
   "cell_type": "code",
   "execution_count": null,
   "metadata": {},
   "outputs": [],
   "source": []
  }
 ],
 "metadata": {
  "kernelspec": {
   "display_name": "Python 3",
   "language": "python",
   "name": "python3"
  },
  "language_info": {
   "codemirror_mode": {
    "name": "ipython",
    "version": 3
   },
   "file_extension": ".py",
   "mimetype": "text/x-python",
   "name": "python",
   "nbconvert_exporter": "python",
   "pygments_lexer": "ipython3",
   "version": "3.6.6"
  }
 },
 "nbformat": 4,
 "nbformat_minor": 2
}
