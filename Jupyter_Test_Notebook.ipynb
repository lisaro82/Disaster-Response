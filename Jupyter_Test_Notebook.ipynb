{
 "cells": [
  {
   "cell_type": "code",
   "execution_count": 1,
   "metadata": {},
   "outputs": [],
   "source": [
    "from models.train_classifier import executeMain"
   ]
  },
  {
   "cell_type": "code",
   "execution_count": null,
   "metadata": {
    "scrolled": false
   },
   "outputs": [
    {
     "name": "stdout",
     "output_type": "stream",
     "text": [
      "Loading data...\n",
      "    Database filepath <<data/DisasterResponse.db>>\n",
      "    Database loaded.\n",
      "Building model...\n",
      "Training model...\n",
      "------------------------------------------------------------------\n",
      "Top 100 words are the following: \n",
      "['water', 'peopl', 'food', 'help', 'need', 'pleas', 'earthquak', 'say', 'area', 'like', 'would', 'flood', 'countri', 'know', '000', 'find', 'thank', 'govern', 'also', 'get', 'hous', 'rain', 'go', 'haiti', 'one', 'inform', 'work', 'year', 'sandi', 'provid', 'make', 'affect', 'tent', 'give', 'includ', 'aid', 'famili', 'region', 'nation', 'good', 'suppli', 'relief', 'live', 'come', 'commun', 'urlplacehold', 'child', 'day', 'two', 'send', 'health', 'take', 'report', 'distribut', 'messag', 'well', 'villag', 'school', 'mani', 'state', 'caus', 'use', 'power', 'sever', 'want', 'support', 'emerg', 'assist', 'new', 'provinc', 'time', 'disast', 'damag', 'million', 'home', 'sinc', 'shelter', 'build', 'local', 'intern', 'continu', 'unit', 'district', 'citi', 'road', 'victim', 'storm', 'hit', 'receiv', 'even', 'last', 'diseas', 'part', 'crop', 'call', 'hurrican', 'leav', 'medic', 'system', 'river']\n",
      "\n",
      "-------------------------------------------------------------------\n",
      "    1. Fit model for class: <<genre>> ((21203, 9004)).\n",
      "    Tuning hyper-parameters for class: <<genre>> (Recall).\n",
      "       1. Grid Search model <<<class 'sklearn.svm.classes.LinearSVC'>>>; weight: <<balanced>>; parameters: <<{'C': [0.001, 0.01, 0.1, 1.0, 10.0]}>>\n",
      "Fitting 3 folds for each of 5 candidates, totalling 15 fits\n"
     ]
    },
    {
     "name": "stderr",
     "output_type": "stream",
     "text": [
      "[Parallel(n_jobs=1)]: Done  15 out of  15 | elapsed:    2.3s finished\n"
     ]
    },
    {
     "name": "stdout",
     "output_type": "stream",
     "text": [
      "       Best parameters selected: <<{'C': 1.0}>> for score <<0.9453181346744222>>.\n",
      "       2. Grid Search model <<<class 'sklearn.svm.classes.LinearSVC'>>>; weight: <<balanced>>; parameters: <<{'C': [0.3333, 0.381, 0.4286, 0.4762, 0.5238, 0.5714, 0.619, 0.6667, 0.7143, 0.7619, 0.8095, 0.8571, 0.9048, 0.9524, 1.0, 1.1429, 1.2857, 1.4286, 1.5714, 1.7143, 1.8571, 2.0, 2.1429, 2.2857, 2.4286, 2.5714, 2.7143, 2.8571, 3.0]}>>\n",
      "Fitting 3 folds for each of 29 candidates, totalling 87 fits\n"
     ]
    },
    {
     "name": "stderr",
     "output_type": "stream",
     "text": [
      "[Parallel(n_jobs=1)]: Done  87 out of  87 | elapsed:   13.2s finished\n"
     ]
    },
    {
     "name": "stdout",
     "output_type": "stream",
     "text": [
      "       Best parameters selected: <<{'C': 0.5714}>> for score <<0.9488589724833127>>.\n",
      "       3. Grid Search model <<<class 'sklearn.svm.classes.LinearSVC'>>>; weight: <<balanced>>; parameters: <<{'C': [0.1905, 0.2177, 0.2449, 0.2721, 0.2993, 0.3265, 0.3537, 0.3809, 0.4081, 0.4354, 0.4626, 0.4898, 0.517, 0.5442, 0.5714, 0.653, 0.7347, 0.8163, 0.8979, 0.9795, 1.0612, 1.1428, 1.2244, 1.3061, 1.3877, 1.4693, 1.5509, 1.6326, 1.7142]}>>\n",
      "Fitting 3 folds for each of 29 candidates, totalling 87 fits\n"
     ]
    },
    {
     "name": "stderr",
     "output_type": "stream",
     "text": [
      "[Parallel(n_jobs=1)]: Done  87 out of  87 | elapsed:   10.0s finished\n"
     ]
    },
    {
     "name": "stdout",
     "output_type": "stream",
     "text": [
      "       Best parameters selected: <<{'C': 0.517}>> for score <<0.9489189102824629>>.\n",
      "       4. Grid Search model <<<class 'sklearn.svm.classes.LinearSVC'>>>; weight: <<balanced>>; parameters: <<{'C': [0.1723, 0.197, 0.2216, 0.2462, 0.2708, 0.2954, 0.32, 0.3447, 0.3693, 0.3939, 0.4185, 0.4431, 0.4678, 0.4924, 0.517, 0.5909, 0.6647, 0.7386, 0.8124, 0.8863, 0.9601, 1.034, 1.1079, 1.1817, 1.2556, 1.3294, 1.4033, 1.4771, 1.551]}>>\n",
      "Fitting 3 folds for each of 29 candidates, totalling 87 fits\n"
     ]
    },
    {
     "name": "stderr",
     "output_type": "stream",
     "text": [
      "[Parallel(n_jobs=1)]: Done  87 out of  87 | elapsed:   10.4s finished\n"
     ]
    },
    {
     "name": "stdout",
     "output_type": "stream",
     "text": [
      "       Best parameters selected: <<{'C': 0.517}>> for score <<0.9489189102824629>>.\n",
      "       Final parameters selected: <<{'C': 0.517}>> for score <<0.9489189102824629>>.\n",
      "\n",
      "          *** Score on validation dataset (macro/weighted) <<0.9520383241080319>> / <<0.9622241086587436>>.\n",
      "[[1126   28    0]\n",
      " [  39  952    7]\n",
      " [   1   14  189]]\n",
      "\n",
      "-------------------------------------------------------------------\n",
      "    2. Fit model for class: <<related>> ((21203, 9005)).\n",
      "    Tuning hyper-parameters for class: <<related>> (Recall).\n",
      "       1. Grid Search model <<<class 'sklearn.svm.classes.LinearSVC'>>>; weight: <<balanced>>; parameters: <<{'C': [0.001, 0.01, 0.1, 1.0, 10.0]}>>\n",
      "Fitting 3 folds for each of 5 candidates, totalling 15 fits\n"
     ]
    },
    {
     "name": "stderr",
     "output_type": "stream",
     "text": [
      "[Parallel(n_jobs=1)]: Done  15 out of  15 | elapsed:    7.8s finished\n"
     ]
    },
    {
     "name": "stdout",
     "output_type": "stream",
     "text": [
      "       Best parameters selected: <<{'C': 1.0}>> for score <<0.6555423536597625>>.\n",
      "       2. Grid Search model <<<class 'sklearn.svm.classes.LinearSVC'>>>; weight: <<balanced>>; parameters: <<{'C': [0.3333, 0.381, 0.4286, 0.4762, 0.5238, 0.5714, 0.619, 0.6667, 0.7143, 0.7619, 0.8095, 0.8571, 0.9048, 0.9524, 1.0, 1.1429, 1.2857, 1.4286, 1.5714, 1.7143, 1.8571, 2.0, 2.1429, 2.2857, 2.4286, 2.5714, 2.7143, 2.8571, 3.0]}>>\n",
      "Fitting 3 folds for each of 29 candidates, totalling 87 fits\n"
     ]
    },
    {
     "name": "stderr",
     "output_type": "stream",
     "text": [
      "[Parallel(n_jobs=1)]: Done  87 out of  87 | elapsed:   54.6s finished\n"
     ]
    },
    {
     "name": "stdout",
     "output_type": "stream",
     "text": [
      "       Best parameters selected: <<{'C': 1.5714}>> for score <<0.6699252248097771>>.\n",
      "       3. Grid Search model <<<class 'sklearn.svm.classes.LinearSVC'>>>; weight: <<balanced>>; parameters: <<{'C': [0.5238, 0.5986, 0.6735, 0.7483, 0.8231, 0.8979, 0.9728, 1.0476, 1.1224, 1.1973, 1.2721, 1.3469, 1.4217, 1.4966, 1.5714, 1.7959, 2.0204, 2.2449, 2.4693, 2.6938, 2.9183, 3.1428, 3.3673, 3.5918, 3.8163, 4.0407, 4.2652, 4.4897, 4.7142]}>>\n",
      "Fitting 3 folds for each of 29 candidates, totalling 87 fits\n"
     ]
    },
    {
     "name": "stderr",
     "output_type": "stream",
     "text": [
      "[Parallel(n_jobs=1)]: Done  87 out of  87 | elapsed:  1.1min finished\n"
     ]
    },
    {
     "name": "stdout",
     "output_type": "stream",
     "text": [
      "       Best parameters selected: <<{'C': 1.4966}>> for score <<0.670126114262373>>.\n",
      "       4. Grid Search model <<<class 'sklearn.svm.classes.LinearSVC'>>>; weight: <<balanced>>; parameters: <<{'C': [0.4989, 0.5701, 0.6414, 0.7127, 0.7839, 0.8552, 0.9265, 0.9977, 1.069, 1.1403, 1.2115, 1.2828, 1.3541, 1.4253, 1.4966, 1.7104, 1.9242, 2.138, 2.3518, 2.5656, 2.7794, 2.9932, 3.207, 3.4208, 3.6346, 3.8484, 4.0622, 4.276, 4.4898]}>>\n",
      "Fitting 3 folds for each of 29 candidates, totalling 87 fits\n"
     ]
    },
    {
     "name": "stderr",
     "output_type": "stream",
     "text": [
      "[Parallel(n_jobs=1)]: Done  87 out of  87 | elapsed:  1.1min finished\n"
     ]
    },
    {
     "name": "stdout",
     "output_type": "stream",
     "text": [
      "       Best parameters selected: <<{'C': 1.4966}>> for score <<0.670126114262373>>.\n",
      "       4. Grid Search model <<<class 'sklearn.svm.classes.LinearSVC'>>>; weight: <<{1: 1.0, 0: 6.557723577235772, 2: 106.8344370860927}>>; parameters: <<{'C': [0.001, 0.01, 0.1, 1.0, 10.0]}>>\n",
      "Fitting 3 folds for each of 5 candidates, totalling 15 fits\n"
     ]
    },
    {
     "name": "stderr",
     "output_type": "stream",
     "text": [
      "[Parallel(n_jobs=1)]: Done  15 out of  15 | elapsed:    9.7s finished\n"
     ]
    },
    {
     "name": "stdout",
     "output_type": "stream",
     "text": [
      "       Best parameters selected: <<{'C': 1.0}>> for score <<0.6401567187690899>>.\n",
      "       5. Grid Search model <<<class 'sklearn.svm.classes.LinearSVC'>>>; weight: <<{1: 1.0, 0: 6.557723577235772, 2: 106.8344370860927}>>; parameters: <<{'C': [0.3333, 0.381, 0.4286, 0.4762, 0.5238, 0.5714, 0.619, 0.6667, 0.7143, 0.7619, 0.8095, 0.8571, 0.9048, 0.9524, 1.0, 1.1429, 1.2857, 1.4286, 1.5714, 1.7143, 1.8571, 2.0, 2.1429, 2.2857, 2.4286, 2.5714, 2.7143, 2.8571, 3.0]}>>\n",
      "Fitting 3 folds for each of 29 candidates, totalling 87 fits\n"
     ]
    },
    {
     "name": "stderr",
     "output_type": "stream",
     "text": [
      "[Parallel(n_jobs=1)]: Done  87 out of  87 | elapsed:  1.5min finished\n"
     ]
    },
    {
     "name": "stdout",
     "output_type": "stream",
     "text": [
      "       Best parameters selected: <<{'C': 1.4286}>> for score <<0.6426332329805353>>.\n",
      "       6. Grid Search model <<<class 'sklearn.svm.classes.LinearSVC'>>>; weight: <<{1: 1.0, 0: 6.557723577235772, 2: 106.8344370860927}>>; parameters: <<{'C': [0.4762, 0.5442, 0.6123, 0.6803, 0.7483, 0.8163, 0.8844, 0.9524, 1.0204, 1.0885, 1.1565, 1.2245, 1.2925, 1.3606, 1.4286, 1.6327, 1.8368, 2.0409, 2.2449, 2.449, 2.6531, 2.8572, 3.0613, 3.2654, 3.4695, 3.6735, 3.8776, 4.0817, 4.2858]}>>\n",
      "Fitting 3 folds for each of 29 candidates, totalling 87 fits\n"
     ]
    },
    {
     "name": "stderr",
     "output_type": "stream",
     "text": [
      "[Parallel(n_jobs=1)]: Done  87 out of  87 | elapsed:  1.8min finished\n"
     ]
    },
    {
     "name": "stdout",
     "output_type": "stream",
     "text": [
      "       Best parameters selected: <<{'C': 1.4286}>> for score <<0.6426332329805353>>.\n",
      "       Final parameters selected: <<{'C': 1.4966}>> for score <<0.670126114262373>>.\n",
      "\n",
      "          *** Score on validation dataset (macro/weighted) <<0.6566417774970786>> / <<0.8106960950764007>>.\n",
      "[[ 372  166   11]\n",
      " [ 248 1531   12]\n",
      " [   4    5    7]]\n",
      "\n",
      "-------------------------------------------------------------------\n",
      "    3. Fit model for class: <<request>> ((21203, 9005)).\n",
      "    Tuning hyper-parameters for class: <<request>> (Recall).\n",
      "       1. Grid Search model <<<class 'sklearn.svm.classes.LinearSVC'>>>; weight: <<balanced>>; parameters: <<{'C': [0.001, 0.01, 0.1, 1.0, 10.0]}>>\n",
      "Fitting 3 folds for each of 5 candidates, totalling 15 fits\n"
     ]
    },
    {
     "name": "stderr",
     "output_type": "stream",
     "text": [
      "[Parallel(n_jobs=1)]: Done  15 out of  15 | elapsed:    3.1s finished\n"
     ]
    },
    {
     "name": "stdout",
     "output_type": "stream",
     "text": [
      "       Best parameters selected: <<{'C': 0.1}>> for score <<0.8236566880978261>>.\n",
      "       2. Grid Search model <<<class 'sklearn.svm.classes.LinearSVC'>>>; weight: <<balanced>>; parameters: <<{'C': [0.0333, 0.0381, 0.0429, 0.0476, 0.0524, 0.0571, 0.0619, 0.0667, 0.0714, 0.0762, 0.081, 0.0857, 0.0905, 0.0952, 0.1, 0.1143, 0.1286, 0.1429, 0.1571, 0.1714, 0.1857, 0.2, 0.2143, 0.2286, 0.2429, 0.2571, 0.2714, 0.2857, 0.3]}>>\n",
      "Fitting 3 folds for each of 29 candidates, totalling 87 fits\n"
     ]
    },
    {
     "name": "stderr",
     "output_type": "stream",
     "text": [
      "[Parallel(n_jobs=1)]: Done  87 out of  87 | elapsed:    7.7s finished\n"
     ]
    },
    {
     "name": "stdout",
     "output_type": "stream",
     "text": [
      "       Best parameters selected: <<{'C': 0.0381}>> for score <<0.8266114677403128>>.\n",
      "       3. Grid Search model <<<class 'sklearn.svm.classes.LinearSVC'>>>; weight: <<balanced>>; parameters: <<{'C': [0.0127, 0.0145, 0.0163, 0.0181, 0.02, 0.0218, 0.0236, 0.0254, 0.0272, 0.029, 0.0308, 0.0327, 0.0345, 0.0363, 0.0381, 0.0435, 0.049, 0.0544, 0.0599, 0.0653, 0.0708, 0.0762, 0.0816, 0.0871, 0.0925, 0.098, 0.1034, 0.1089, 0.1143]}>>\n",
      "Fitting 3 folds for each of 29 candidates, totalling 87 fits\n"
     ]
    },
    {
     "name": "stderr",
     "output_type": "stream",
     "text": [
      "[Parallel(n_jobs=1)]: Done  87 out of  87 | elapsed:    4.7s finished\n"
     ]
    },
    {
     "name": "stdout",
     "output_type": "stream",
     "text": [
      "       Best parameters selected: <<{'C': 0.0381}>> for score <<0.8266114677403128>>.\n",
      "       3. Grid Search model <<<class 'sklearn.svm.classes.LinearSVC'>>>; weight: <<{0: 1.0, 1: 9.895091164095373}>>; parameters: <<{'C': [0.001, 0.01, 0.1, 1.0, 10.0]}>>\n",
      "Fitting 3 folds for each of 5 candidates, totalling 15 fits\n"
     ]
    },
    {
     "name": "stderr",
     "output_type": "stream",
     "text": [
      "[Parallel(n_jobs=1)]: Done  15 out of  15 | elapsed:    4.8s finished\n"
     ]
    },
    {
     "name": "stdout",
     "output_type": "stream",
     "text": [
      "       Best parameters selected: <<{'C': 0.1}>> for score <<0.8187959660001836>>.\n",
      "       4. Grid Search model <<<class 'sklearn.svm.classes.LinearSVC'>>>; weight: <<{0: 1.0, 1: 9.895091164095373}>>; parameters: <<{'C': [0.0333, 0.0381, 0.0429, 0.0476, 0.0524, 0.0571, 0.0619, 0.0667, 0.0714, 0.0762, 0.081, 0.0857, 0.0905, 0.0952, 0.1, 0.1143, 0.1286, 0.1429, 0.1571, 0.1714, 0.1857, 0.2, 0.2143, 0.2286, 0.2429, 0.2571, 0.2714, 0.2857, 0.3]}>>\n",
      "Fitting 3 folds for each of 29 candidates, totalling 87 fits\n"
     ]
    },
    {
     "name": "stderr",
     "output_type": "stream",
     "text": [
      "[Parallel(n_jobs=1)]: Done  87 out of  87 | elapsed:   15.8s finished\n"
     ]
    },
    {
     "name": "stdout",
     "output_type": "stream",
     "text": [
      "       Best parameters selected: <<{'C': 0.0524}>> for score <<0.8225201019467772>>.\n",
      "       5. Grid Search model <<<class 'sklearn.svm.classes.LinearSVC'>>>; weight: <<{0: 1.0, 1: 9.895091164095373}>>; parameters: <<{'C': [0.0175, 0.02, 0.0225, 0.025, 0.0274, 0.0299, 0.0324, 0.0349, 0.0374, 0.0399, 0.0424, 0.0449, 0.0474, 0.0499, 0.0524, 0.0599, 0.0674, 0.0749, 0.0823, 0.0898, 0.0973, 0.1048, 0.1123, 0.1198, 0.1273, 0.1347, 0.1422, 0.1497, 0.1572]}>>\n",
      "Fitting 3 folds for each of 29 candidates, totalling 87 fits\n"
     ]
    },
    {
     "name": "stderr",
     "output_type": "stream",
     "text": [
      "[Parallel(n_jobs=1)]: Done  87 out of  87 | elapsed:   10.1s finished\n"
     ]
    },
    {
     "name": "stdout",
     "output_type": "stream",
     "text": [
      "       Best parameters selected: <<{'C': 0.0524}>> for score <<0.8225201019467772>>.\n",
      "       Final parameters selected: <<{'C': 0.0381}>> for score <<0.8266114677403128>>.\n",
      "\n",
      "          *** Score on validation dataset (macro/weighted) <<0.8175394632725868>> / <<0.8612054329371817>>.\n",
      "[[1712  221]\n",
      " [ 106  317]]\n",
      "\n",
      "-------------------------------------------------------------------\n",
      "    4. Fit model for class: <<offer>> ((21203, 9005)).\n",
      "    Tuning hyper-parameters for class: <<offer>> (Recall).\n",
      "       1. Grid Search model <<<class 'sklearn.svm.classes.LinearSVC'>>>; weight: <<balanced>>; parameters: <<{'C': [0.001, 0.01, 0.1, 1.0, 10.0]}>>\n",
      "Fitting 3 folds for each of 5 candidates, totalling 15 fits\n"
     ]
    },
    {
     "name": "stderr",
     "output_type": "stream",
     "text": [
      "[Parallel(n_jobs=1)]: Done  15 out of  15 | elapsed:    1.1s finished\n"
     ]
    },
    {
     "name": "stdout",
     "output_type": "stream",
     "text": [
      "       Best parameters selected: <<{'C': 0.001}>> for score <<0.6240299709323504>>.\n",
      "       2. Grid Search model <<<class 'sklearn.svm.classes.LinearSVC'>>>; weight: <<balanced>>; parameters: <<{'C': [0.0003, 0.0004, 0.0004, 0.0005, 0.0005, 0.0006, 0.0006, 0.0007, 0.0007, 0.0008, 0.0008, 0.0009, 0.0009, 0.001, 0.001, 0.0011, 0.0013, 0.0014, 0.0016, 0.0017, 0.0019, 0.002, 0.0021, 0.0023, 0.0024, 0.0026, 0.0027, 0.0029, 0.003]}>>\n",
      "Fitting 3 folds for each of 29 candidates, totalling 87 fits\n"
     ]
    },
    {
     "name": "stderr",
     "output_type": "stream",
     "text": [
      "[Parallel(n_jobs=1)]: Done  87 out of  87 | elapsed:    3.6s finished\n"
     ]
    },
    {
     "name": "stdout",
     "output_type": "stream",
     "text": [
      "       Best parameters selected: <<{'C': 0.0021}>> for score <<0.6263112993491237>>.\n",
      "       3. Grid Search model <<<class 'sklearn.svm.classes.LinearSVC'>>>; weight: <<balanced>>; parameters: <<{'C': [0.0007, 0.0008, 0.0009, 0.001, 0.0011, 0.0012, 0.0013, 0.0014, 0.0015, 0.0016, 0.0017, 0.0018, 0.0019, 0.002, 0.0021, 0.0024, 0.0027, 0.003, 0.0033, 0.0036, 0.0039, 0.0042, 0.0045, 0.0048, 0.0051, 0.0054, 0.0057, 0.006, 0.0063]}>>\n",
      "Fitting 3 folds for each of 29 candidates, totalling 87 fits\n"
     ]
    },
    {
     "name": "stderr",
     "output_type": "stream",
     "text": [
      "[Parallel(n_jobs=1)]: Done  87 out of  87 | elapsed:    4.8s finished\n"
     ]
    },
    {
     "name": "stdout",
     "output_type": "stream",
     "text": [
      "       Best parameters selected: <<{'C': 0.0021}>> for score <<0.6263112993491237>>.\n",
      "       3. Grid Search model <<<class 'sklearn.svm.classes.LinearSVC'>>>; weight: <<{0: 1.0, 1: 242.71264367816093}>>; parameters: <<{'C': [0.001, 0.01, 0.1, 1.0, 10.0]}>>\n",
      "Fitting 3 folds for each of 5 candidates, totalling 15 fits\n"
     ]
    },
    {
     "name": "stderr",
     "output_type": "stream",
     "text": [
      "[Parallel(n_jobs=1)]: Done  15 out of  15 | elapsed:    1.2s finished\n"
     ]
    },
    {
     "name": "stdout",
     "output_type": "stream",
     "text": [
      "       Best parameters selected: <<{'C': 0.001}>> for score <<0.6191905358484161>>.\n",
      "       4. Grid Search model <<<class 'sklearn.svm.classes.LinearSVC'>>>; weight: <<{0: 1.0, 1: 242.71264367816093}>>; parameters: <<{'C': [0.0003, 0.0004, 0.0004, 0.0005, 0.0005, 0.0006, 0.0006, 0.0007, 0.0007, 0.0008, 0.0008, 0.0009, 0.0009, 0.001, 0.001, 0.0011, 0.0013, 0.0014, 0.0016, 0.0017, 0.0019, 0.002, 0.0021, 0.0023, 0.0024, 0.0026, 0.0027, 0.0029, 0.003]}>>\n",
      "Fitting 3 folds for each of 29 candidates, totalling 87 fits\n"
     ]
    },
    {
     "name": "stderr",
     "output_type": "stream",
     "text": [
      "[Parallel(n_jobs=1)]: Done  87 out of  87 | elapsed:    4.7s finished\n"
     ]
    },
    {
     "name": "stdout",
     "output_type": "stream",
     "text": [
      "       Best parameters selected: <<{'C': 0.0005}>> for score <<0.6239589347512542>>.\n",
      "       5. Grid Search model <<<class 'sklearn.svm.classes.LinearSVC'>>>; weight: <<{0: 1.0, 1: 242.71264367816093}>>; parameters: <<{'C': [0.0002, 0.0002, 0.0002, 0.0002, 0.0003, 0.0003, 0.0003, 0.0003, 0.0004, 0.0004, 0.0004, 0.0004, 0.0005, 0.0005, 0.0005, 0.0006, 0.0006, 0.0007, 0.0008, 0.0009, 0.0009, 0.001, 0.0011, 0.0011, 0.0012, 0.0013, 0.0014, 0.0014, 0.0015]}>>\n",
      "Fitting 3 folds for each of 29 candidates, totalling 87 fits\n"
     ]
    },
    {
     "name": "stderr",
     "output_type": "stream",
     "text": [
      "[Parallel(n_jobs=1)]: Done  87 out of  87 | elapsed:    4.0s finished\n"
     ]
    },
    {
     "name": "stdout",
     "output_type": "stream",
     "text": [
      "       Best parameters selected: <<{'C': 0.0005}>> for score <<0.6239589347512542>>.\n",
      "       Final parameters selected: <<{'C': 0.0021}>> for score <<0.6263112993491237>>.\n",
      "\n",
      "          *** Score on validation dataset (macro/weighted) <<0.6197018943497816>> / <<0.9282682512733447>>.\n",
      "[[2183  160]\n",
      " [   9    4]]\n",
      "\n",
      "-------------------------------------------------------------------\n",
      "    5. Fit model for class: <<aid_related>> ((21203, 9005)).\n",
      "    Tuning hyper-parameters for class: <<aid_related>> (Recall).\n",
      "       1. Grid Search model <<<class 'sklearn.svm.classes.LinearSVC'>>>; weight: <<balanced>>; parameters: <<{'C': [0.001, 0.01, 0.1, 1.0, 10.0]}>>\n",
      "Fitting 3 folds for each of 5 candidates, totalling 15 fits\n"
     ]
    },
    {
     "name": "stderr",
     "output_type": "stream",
     "text": [
      "[Parallel(n_jobs=1)]: Done  15 out of  15 | elapsed:    3.8s finished\n"
     ]
    },
    {
     "name": "stdout",
     "output_type": "stream",
     "text": [
      "       Best parameters selected: <<{'C': 0.1}>> for score <<0.7710175001452171>>.\n",
      "       2. Grid Search model <<<class 'sklearn.svm.classes.LinearSVC'>>>; weight: <<balanced>>; parameters: <<{'C': [0.0333, 0.0381, 0.0429, 0.0476, 0.0524, 0.0571, 0.0619, 0.0667, 0.0714, 0.0762, 0.081, 0.0857, 0.0905, 0.0952, 0.1, 0.1143, 0.1286, 0.1429, 0.1571, 0.1714, 0.1857, 0.2, 0.2143, 0.2286, 0.2429, 0.2571, 0.2714, 0.2857, 0.3]}>>\n",
      "Fitting 3 folds for each of 29 candidates, totalling 87 fits\n"
     ]
    },
    {
     "name": "stderr",
     "output_type": "stream",
     "text": [
      "[Parallel(n_jobs=1)]: Done  87 out of  87 | elapsed:    4.8s finished\n"
     ]
    },
    {
     "name": "stdout",
     "output_type": "stream",
     "text": [
      "       Best parameters selected: <<{'C': 0.0857}>> for score <<0.7716940426027976>>.\n",
      "       3. Grid Search model <<<class 'sklearn.svm.classes.LinearSVC'>>>; weight: <<balanced>>; parameters: <<{'C': [0.0286, 0.0326, 0.0367, 0.0408, 0.0449, 0.049, 0.0531, 0.0571, 0.0612, 0.0653, 0.0694, 0.0735, 0.0775, 0.0816, 0.0857, 0.0979, 0.1102, 0.1224, 0.1347, 0.1469, 0.1592, 0.1714, 0.1836, 0.1959, 0.2081, 0.2204, 0.2326, 0.2449, 0.2571]}>>\n",
      "Fitting 3 folds for each of 29 candidates, totalling 87 fits\n"
     ]
    },
    {
     "name": "stderr",
     "output_type": "stream",
     "text": [
      "[Parallel(n_jobs=1)]: Done  87 out of  87 | elapsed:    4.5s finished\n"
     ]
    },
    {
     "name": "stdout",
     "output_type": "stream",
     "text": [
      "       Best parameters selected: <<{'C': 0.0857}>> for score <<0.7716940426027976>>.\n",
      "       3. Grid Search model <<<class 'sklearn.svm.classes.LinearSVC'>>>; weight: <<{0: 1.0, 1: 2.844185515193055}>>; parameters: <<{'C': [0.001, 0.01, 0.1, 1.0, 10.0]}>>\n",
      "Fitting 3 folds for each of 5 candidates, totalling 15 fits\n"
     ]
    },
    {
     "name": "stderr",
     "output_type": "stream",
     "text": [
      "[Parallel(n_jobs=1)]: Done  15 out of  15 | elapsed:    4.3s finished\n"
     ]
    },
    {
     "name": "stdout",
     "output_type": "stream",
     "text": [
      "       Best parameters selected: <<{'C': 0.1}>> for score <<0.7593657408138794>>.\n",
      "       4. Grid Search model <<<class 'sklearn.svm.classes.LinearSVC'>>>; weight: <<{0: 1.0, 1: 2.844185515193055}>>; parameters: <<{'C': [0.0333, 0.0381, 0.0429, 0.0476, 0.0524, 0.0571, 0.0619, 0.0667, 0.0714, 0.0762, 0.081, 0.0857, 0.0905, 0.0952, 0.1, 0.1143, 0.1286, 0.1429, 0.1571, 0.1714, 0.1857, 0.2, 0.2143, 0.2286, 0.2429, 0.2571, 0.2714, 0.2857, 0.3]}>>\n",
      "Fitting 3 folds for each of 29 candidates, totalling 87 fits\n"
     ]
    },
    {
     "name": "stderr",
     "output_type": "stream",
     "text": [
      "[Parallel(n_jobs=1)]: Done  87 out of  87 | elapsed:    7.5s finished\n"
     ]
    },
    {
     "name": "stdout",
     "output_type": "stream",
     "text": [
      "       Best parameters selected: <<{'C': 0.1286}>> for score <<0.7600855293621868>>.\n",
      "       5. Grid Search model <<<class 'sklearn.svm.classes.LinearSVC'>>>; weight: <<{0: 1.0, 1: 2.844185515193055}>>; parameters: <<{'C': [0.0429, 0.049, 0.0551, 0.0612, 0.0674, 0.0735, 0.0796, 0.0857, 0.0919, 0.098, 0.1041, 0.1102, 0.1164, 0.1225, 0.1286, 0.147, 0.1653, 0.1837, 0.2021, 0.2205, 0.2388, 0.2572, 0.2756, 0.2939, 0.3123, 0.3307, 0.3491, 0.3674, 0.3858]}>>\n",
      "Fitting 3 folds for each of 29 candidates, totalling 87 fits\n"
     ]
    },
    {
     "name": "stderr",
     "output_type": "stream",
     "text": [
      "[Parallel(n_jobs=1)]: Done  87 out of  87 | elapsed:    8.9s finished\n"
     ]
    },
    {
     "name": "stdout",
     "output_type": "stream",
     "text": [
      "       Best parameters selected: <<{'C': 0.1286}>> for score <<0.7600855293621868>>.\n",
      "       Final parameters selected: <<{'C': 0.0857}>> for score <<0.7716940426027976>>.\n",
      "\n",
      "          *** Score on validation dataset (macro/weighted) <<0.7754171503699456>> / <<0.7792869269949066>>.\n",
      "[[1082  267]\n",
      " [ 253  754]]\n",
      "\n",
      "-------------------------------------------------------------------\n",
      "    6. Fit model for class: <<medical_help>> ((21203, 9005)).\n",
      "    Tuning hyper-parameters for class: <<medical_help>> (Recall).\n",
      "       1. Grid Search model <<<class 'sklearn.svm.classes.LinearSVC'>>>; weight: <<balanced>>; parameters: <<{'C': [0.001, 0.01, 0.1, 1.0, 10.0]}>>\n",
      "Fitting 3 folds for each of 5 candidates, totalling 15 fits\n"
     ]
    },
    {
     "name": "stderr",
     "output_type": "stream",
     "text": [
      "[Parallel(n_jobs=1)]: Done  15 out of  15 | elapsed:    3.2s finished\n"
     ]
    },
    {
     "name": "stdout",
     "output_type": "stream",
     "text": [
      "       Best parameters selected: <<{'C': 0.01}>> for score <<0.7753895931318189>>.\n",
      "       2. Grid Search model <<<class 'sklearn.svm.classes.LinearSVC'>>>; weight: <<balanced>>; parameters: <<{'C': [0.0033, 0.0038, 0.0043, 0.0048, 0.0052, 0.0057, 0.0062, 0.0067, 0.0071, 0.0076, 0.0081, 0.0086, 0.009, 0.0095, 0.01, 0.0114, 0.0129, 0.0143, 0.0157, 0.0171, 0.0186, 0.02, 0.0214, 0.0229, 0.0243, 0.0257, 0.0271, 0.0286, 0.03]}>>\n",
      "Fitting 3 folds for each of 29 candidates, totalling 87 fits\n"
     ]
    },
    {
     "name": "stderr",
     "output_type": "stream",
     "text": [
      "[Parallel(n_jobs=1)]: Done  87 out of  87 | elapsed:    3.7s finished\n"
     ]
    },
    {
     "name": "stdout",
     "output_type": "stream",
     "text": [
      "       Best parameters selected: <<{'C': 0.0243}>> for score <<0.7849504634595214>>.\n",
      "       3. Grid Search model <<<class 'sklearn.svm.classes.LinearSVC'>>>; weight: <<balanced>>; parameters: <<{'C': [0.0081, 0.0093, 0.0104, 0.0116, 0.0127, 0.0139, 0.015, 0.0162, 0.0174, 0.0185, 0.0197, 0.0208, 0.022, 0.0231, 0.0243, 0.0278, 0.0312, 0.0347, 0.0382, 0.0417, 0.0451, 0.0486, 0.0521, 0.0555, 0.059, 0.0625, 0.066, 0.0694, 0.0729]}>>\n",
      "Fitting 3 folds for each of 29 candidates, totalling 87 fits\n"
     ]
    },
    {
     "name": "stderr",
     "output_type": "stream",
     "text": [
      "[Parallel(n_jobs=1)]: Done  87 out of  87 | elapsed:    5.0s finished\n"
     ]
    },
    {
     "name": "stdout",
     "output_type": "stream",
     "text": [
      "       Best parameters selected: <<{'C': 0.0243}>> for score <<0.7849504634595214>>.\n",
      "       3. Grid Search model <<<class 'sklearn.svm.classes.LinearSVC'>>>; weight: <<{0: 1.0, 1: 23.484375}>>; parameters: <<{'C': [0.001, 0.01, 0.1, 1.0, 10.0]}>>\n",
      "Fitting 3 folds for each of 5 candidates, totalling 15 fits\n"
     ]
    },
    {
     "name": "stderr",
     "output_type": "stream",
     "text": [
      "[Parallel(n_jobs=1)]: Done  15 out of  15 | elapsed:    4.5s finished\n"
     ]
    },
    {
     "name": "stdout",
     "output_type": "stream",
     "text": [
      "       Best parameters selected: <<{'C': 0.1}>> for score <<0.7615237677529672>>.\n",
      "       4. Grid Search model <<<class 'sklearn.svm.classes.LinearSVC'>>>; weight: <<{0: 1.0, 1: 23.484375}>>; parameters: <<{'C': [0.0333, 0.0381, 0.0429, 0.0476, 0.0524, 0.0571, 0.0619, 0.0667, 0.0714, 0.0762, 0.081, 0.0857, 0.0905, 0.0952, 0.1, 0.1143, 0.1286, 0.1429, 0.1571, 0.1714, 0.1857, 0.2, 0.2143, 0.2286, 0.2429, 0.2571, 0.2714, 0.2857, 0.3]}>>\n",
      "Fitting 3 folds for each of 29 candidates, totalling 87 fits\n"
     ]
    },
    {
     "name": "stderr",
     "output_type": "stream",
     "text": [
      "[Parallel(n_jobs=1)]: Done  87 out of  87 | elapsed:   27.0s finished\n"
     ]
    },
    {
     "name": "stdout",
     "output_type": "stream",
     "text": [
      "       Best parameters selected: <<{'C': 0.0333}>> for score <<0.7761602972051198>>.\n",
      "       5. Grid Search model <<<class 'sklearn.svm.classes.LinearSVC'>>>; weight: <<{0: 1.0, 1: 23.484375}>>; parameters: <<{'C': [0.0111, 0.0127, 0.0143, 0.0159, 0.0174, 0.019, 0.0206, 0.0222, 0.0238, 0.0254, 0.027, 0.0285, 0.0301, 0.0317, 0.0333, 0.0381, 0.0428, 0.0476, 0.0523, 0.0571, 0.0618, 0.0666, 0.0714, 0.0761, 0.0809, 0.0856, 0.0904, 0.0951, 0.0999]}>>\n",
      "Fitting 3 folds for each of 29 candidates, totalling 87 fits\n"
     ]
    },
    {
     "name": "stderr",
     "output_type": "stream",
     "text": [
      "[Parallel(n_jobs=1)]: Done  87 out of  87 | elapsed:   13.3s finished\n"
     ]
    },
    {
     "name": "stdout",
     "output_type": "stream",
     "text": [
      "       Best parameters selected: <<{'C': 0.0222}>> for score <<0.7786232647623309>>.\n",
      "       6. Grid Search model <<<class 'sklearn.svm.classes.LinearSVC'>>>; weight: <<{0: 1.0, 1: 23.484375}>>; parameters: <<{'C': [0.0074, 0.0085, 0.0095, 0.0106, 0.0116, 0.0127, 0.0137, 0.0148, 0.0159, 0.0169, 0.018, 0.019, 0.0201, 0.0211, 0.0222, 0.0254, 0.0285, 0.0317, 0.0349, 0.0381, 0.0412, 0.0444, 0.0476, 0.0507, 0.0539, 0.0571, 0.0603, 0.0634, 0.0666]}>>\n",
      "Fitting 3 folds for each of 29 candidates, totalling 87 fits\n"
     ]
    },
    {
     "name": "stderr",
     "output_type": "stream",
     "text": [
      "[Parallel(n_jobs=1)]: Done  87 out of  87 | elapsed:    9.9s finished\n"
     ]
    },
    {
     "name": "stdout",
     "output_type": "stream",
     "text": [
      "       Best parameters selected: <<{'C': 0.0211}>> for score <<0.7788589082192535>>.\n",
      "       7. Grid Search model <<<class 'sklearn.svm.classes.LinearSVC'>>>; weight: <<{0: 1.0, 1: 23.484375}>>; parameters: <<{'C': [0.007, 0.008, 0.009, 0.01, 0.0111, 0.0121, 0.0131, 0.0141, 0.0151, 0.0161, 0.0171, 0.0181, 0.0191, 0.0201, 0.0211, 0.0241, 0.0271, 0.0301, 0.0332, 0.0362, 0.0392, 0.0422, 0.0452, 0.0482, 0.0512, 0.0543, 0.0573, 0.0603, 0.0633]}>>\n",
      "Fitting 3 folds for each of 29 candidates, totalling 87 fits\n"
     ]
    },
    {
     "name": "stderr",
     "output_type": "stream",
     "text": [
      "[Parallel(n_jobs=1)]: Done  87 out of  87 | elapsed:    9.9s finished\n"
     ]
    },
    {
     "name": "stdout",
     "output_type": "stream",
     "text": [
      "       Best parameters selected: <<{'C': 0.0211}>> for score <<0.7788589082192535>>.\n",
      "       Final parameters selected: <<{'C': 0.0243}>> for score <<0.7849504634595214>>.\n",
      "\n",
      "          *** Score on validation dataset (macro/weighted) <<0.7755490811295382>> / <<0.8722410865874364>>.\n",
      "[[1927  235]\n",
      " [  66  128]]\n",
      "\n",
      "-------------------------------------------------------------------\n",
      "    7. Fit model for class: <<medical_products>> ((21203, 9005)).\n",
      "    Tuning hyper-parameters for class: <<medical_products>> (Recall).\n",
      "       1. Grid Search model <<<class 'sklearn.svm.classes.LinearSVC'>>>; weight: <<balanced>>; parameters: <<{'C': [0.001, 0.01, 0.1, 1.0, 10.0]}>>\n",
      "Fitting 3 folds for each of 5 candidates, totalling 15 fits\n"
     ]
    },
    {
     "name": "stderr",
     "output_type": "stream",
     "text": [
      "[Parallel(n_jobs=1)]: Done  15 out of  15 | elapsed:    2.6s finished\n"
     ]
    },
    {
     "name": "stdout",
     "output_type": "stream",
     "text": [
      "       Best parameters selected: <<{'C': 0.01}>> for score <<0.7901413540875594>>.\n",
      "       2. Grid Search model <<<class 'sklearn.svm.classes.LinearSVC'>>>; weight: <<balanced>>; parameters: <<{'C': [0.0033, 0.0038, 0.0043, 0.0048, 0.0052, 0.0057, 0.0062, 0.0067, 0.0071, 0.0076, 0.0081, 0.0086, 0.009, 0.0095, 0.01, 0.0114, 0.0129, 0.0143, 0.0157, 0.0171, 0.0186, 0.02, 0.0214, 0.0229, 0.0243, 0.0257, 0.0271, 0.0286, 0.03]}>>\n",
      "Fitting 3 folds for each of 29 candidates, totalling 87 fits\n"
     ]
    },
    {
     "name": "stderr",
     "output_type": "stream",
     "text": [
      "[Parallel(n_jobs=1)]: Done  87 out of  87 | elapsed:    4.1s finished\n"
     ]
    },
    {
     "name": "stdout",
     "output_type": "stream",
     "text": [
      "       Best parameters selected: <<{'C': 0.0286}>> for score <<0.7930662924670966>>.\n",
      "       3. Grid Search model <<<class 'sklearn.svm.classes.LinearSVC'>>>; weight: <<balanced>>; parameters: <<{'C': [0.0095, 0.0109, 0.0123, 0.0136, 0.015, 0.0163, 0.0177, 0.0191, 0.0204, 0.0218, 0.0232, 0.0245, 0.0259, 0.0272, 0.0286, 0.0327, 0.0368, 0.0409, 0.0449, 0.049, 0.0531, 0.0572, 0.0613, 0.0654, 0.0695, 0.0735, 0.0776, 0.0817, 0.0858]}>>\n",
      "Fitting 3 folds for each of 29 candidates, totalling 87 fits\n"
     ]
    },
    {
     "name": "stderr",
     "output_type": "stream",
     "text": [
      "[Parallel(n_jobs=1)]: Done  87 out of  87 | elapsed:    5.9s finished\n"
     ]
    },
    {
     "name": "stdout",
     "output_type": "stream",
     "text": [
      "       Best parameters selected: <<{'C': 0.0286}>> for score <<0.7930662924670966>>.\n",
      "       3. Grid Search model <<<class 'sklearn.svm.classes.LinearSVC'>>>; weight: <<{0: 1.0, 1: 38.42516682554814}>>; parameters: <<{'C': [0.001, 0.01, 0.1, 1.0, 10.0]}>>\n",
      "Fitting 3 folds for each of 5 candidates, totalling 15 fits\n"
     ]
    },
    {
     "name": "stderr",
     "output_type": "stream",
     "text": [
      "[Parallel(n_jobs=1)]: Done  15 out of  15 | elapsed:    3.4s finished\n"
     ]
    },
    {
     "name": "stdout",
     "output_type": "stream",
     "text": [
      "       Best parameters selected: <<{'C': 0.01}>> for score <<0.7913442547019506>>.\n",
      "       4. Grid Search model <<<class 'sklearn.svm.classes.LinearSVC'>>>; weight: <<{0: 1.0, 1: 38.42516682554814}>>; parameters: <<{'C': [0.0033, 0.0038, 0.0043, 0.0048, 0.0052, 0.0057, 0.0062, 0.0067, 0.0071, 0.0076, 0.0081, 0.0086, 0.009, 0.0095, 0.01, 0.0114, 0.0129, 0.0143, 0.0157, 0.0171, 0.0186, 0.02, 0.0214, 0.0229, 0.0243, 0.0257, 0.0271, 0.0286, 0.03]}>>\n",
      "Fitting 3 folds for each of 29 candidates, totalling 87 fits\n"
     ]
    },
    {
     "name": "stderr",
     "output_type": "stream",
     "text": [
      "[Parallel(n_jobs=1)]: Done  87 out of  87 | elapsed:    6.9s finished\n"
     ]
    },
    {
     "name": "stdout",
     "output_type": "stream",
     "text": [
      "       Best parameters selected: <<{'C': 0.02}>> for score <<0.7958857347195277>>.\n",
      "       5. Grid Search model <<<class 'sklearn.svm.classes.LinearSVC'>>>; weight: <<{0: 1.0, 1: 38.42516682554814}>>; parameters: <<{'C': [0.0067, 0.0076, 0.0086, 0.0095, 0.0105, 0.0114, 0.0124, 0.0133, 0.0143, 0.0152, 0.0162, 0.0171, 0.0181, 0.019, 0.02, 0.0229, 0.0257, 0.0286, 0.0314, 0.0343, 0.0371, 0.04, 0.0429, 0.0457, 0.0486, 0.0514, 0.0543, 0.0571, 0.06]}>>\n",
      "Fitting 3 folds for each of 29 candidates, totalling 87 fits\n"
     ]
    }
   ],
   "source": [
    "v_model, X_train, X_test, y_train, y_test, y_pred_test = executeMain( 'data/DisasterResponse.db', \n",
    "                                                                      'models/savedModel.pkl',\n",
    "                                                                       p_CVSplits = 3,\n",
    "                                                                       p_pointsBin = 15,\n",
    "                                                                       p_maxFeatures = 9000 )"
   ]
  },
  {
   "cell_type": "code",
   "execution_count": null,
   "metadata": {},
   "outputs": [],
   "source": []
  }
 ],
 "metadata": {
  "kernelspec": {
   "display_name": "Python 3",
   "language": "python",
   "name": "python3"
  },
  "language_info": {
   "codemirror_mode": {
    "name": "ipython",
    "version": 3
   },
   "file_extension": ".py",
   "mimetype": "text/x-python",
   "name": "python",
   "nbconvert_exporter": "python",
   "pygments_lexer": "ipython3",
   "version": "3.6.6"
  }
 },
 "nbformat": 4,
 "nbformat_minor": 2
}
