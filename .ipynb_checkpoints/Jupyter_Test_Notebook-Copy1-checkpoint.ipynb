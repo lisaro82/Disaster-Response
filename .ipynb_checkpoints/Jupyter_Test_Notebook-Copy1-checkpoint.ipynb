{
 "cells": [
  {
   "cell_type": "code",
   "execution_count": 1,
   "metadata": {
    "scrolled": false
   },
   "outputs": [
    {
     "name": "stdout",
     "output_type": "stream",
     "text": [
      "Loading data...\n",
      "    Database filepath <<data/DisasterResponse.db>>\n",
      "    Database loaded.\n",
      "Building model...\n",
      "Training model...\n",
      "------------------------------------------------------------------\n",
      "Top 100 words are the following: \n",
      "['water', 'peopl', 'food', 'help', 'need', 'pleas', 'earthquak', 'say', 'area', 'like', 'would', 'flood', 'countri', 'know', '000', 'find', 'thank', 'govern', 'also', 'get', 'hous', 'rain', 'go', 'haiti', 'one', 'inform', 'work', 'year', 'sandi', 'provid', 'make', 'affect', 'tent', 'give', 'includ', 'aid', 'famili', 'region', 'nation', 'good', 'suppli', 'relief', 'live', 'come', 'commun', 'urlplacehold', 'child', 'day', 'two', 'send', 'take', 'health', 'report', 'distribut', 'messag', 'well', 'villag', 'school', 'mani', 'state', 'caus', 'use', 'power', 'sever', 'want', 'support', 'emerg', 'assist', 'new', 'provinc', 'time', 'disast', 'damag', 'million', 'home', 'sinc', 'shelter', 'build', 'local', 'intern', 'continu', 'unit', 'citi', 'district', 'road', 'victim', 'storm', 'hit', 'receiv', 'even', 'last', 'diseas', 'part', 'call', 'crop', 'hurrican', 'leav', 'medic', 'system', 'river']\n",
      "\n",
      "-------------------------------------------------------------------\n",
      "    1. Fit model for class: <<genre>> ((21203, 23004)).\n",
      "    Tuning hyper-parameters for class: <<genre>> (Recall).\n",
      "       1. Grid Search model <<<class 'sklearn.svm.classes.LinearSVC'>>>; weight: <<balanced>>; parameters: <<{'C': [0.001, 0.01, 0.1, 1.0, 10.0]}>>\n",
      "Fitting 6 folds for each of 5 candidates, totalling 30 fits\n"
     ]
    },
    {
     "name": "stderr",
     "output_type": "stream",
     "text": [
      "[Parallel(n_jobs=1)]: Done  30 out of  30 | elapsed:    9.1s finished\n"
     ]
    },
    {
     "name": "stdout",
     "output_type": "stream",
     "text": [
      "       Best parameters selected: <<{'C': 1.0}>> for score <<0.9455598869139537>>.\n",
      "       2. Grid Search model <<<class 'sklearn.svm.classes.LinearSVC'>>>; weight: <<balanced>>; parameters: <<{'C': [0.3333, 1.0, 3.0]}>>\n",
      "Fitting 6 folds for each of 3 candidates, totalling 18 fits\n"
     ]
    },
    {
     "name": "stderr",
     "output_type": "stream",
     "text": [
      "[Parallel(n_jobs=1)]: Done  18 out of  18 | elapsed:    5.3s finished\n"
     ]
    },
    {
     "name": "stdout",
     "output_type": "stream",
     "text": [
      "       Best parameters selected: <<{'C': 0.3333}>> for score <<0.9475292442957322>>.\n",
      "       3. Grid Search model <<<class 'sklearn.svm.classes.LinearSVC'>>>; weight: <<balanced>>; parameters: <<{'C': [0.1111, 0.3333, 0.9999]}>>\n",
      "Fitting 6 folds for each of 3 candidates, totalling 18 fits\n"
     ]
    },
    {
     "name": "stderr",
     "output_type": "stream",
     "text": [
      "[Parallel(n_jobs=1)]: Done  18 out of  18 | elapsed:    3.3s finished\n"
     ]
    },
    {
     "name": "stdout",
     "output_type": "stream",
     "text": [
      "       Best parameters selected: <<{'C': 0.3333}>> for score <<0.9475292442957322>>.\n",
      "       Final parameters selected: <<{'C': 0.3333}>> for score <<0.9475292442957322>>.\n",
      "\n",
      "          *** Score on validation dataset (macro/weighted) <<0.949916938349916>> / <<0.9609507640067911>>.\n",
      "[[1122   31    1]\n",
      " [  39  954    5]\n",
      " [   1   15  188]]\n",
      "\n",
      "-------------------------------------------------------------------\n",
      "    2. Fit model for class: <<related>> ((21203, 23004)).\n",
      "    Tuning hyper-parameters for class: <<related>> (Recall).\n",
      "       1. Grid Search model <<<class 'sklearn.svm.classes.LinearSVC'>>>; weight: <<balanced>>; parameters: <<{'C': [0.001, 0.01, 0.1, 1.0, 10.0]}>>\n",
      "Fitting 6 folds for each of 5 candidates, totalling 30 fits\n"
     ]
    },
    {
     "name": "stderr",
     "output_type": "stream",
     "text": [
      "[Parallel(n_jobs=1)]: Done  30 out of  30 | elapsed:   23.5s finished\n"
     ]
    },
    {
     "name": "stdout",
     "output_type": "stream",
     "text": [
      "       Best parameters selected: <<{'C': 0.1}>> for score <<0.6149490901989136>>.\n",
      "       2. Grid Search model <<<class 'sklearn.svm.classes.LinearSVC'>>>; weight: <<balanced>>; parameters: <<{'C': [0.0333, 0.1, 0.3]}>>\n",
      "Fitting 6 folds for each of 3 candidates, totalling 18 fits\n"
     ]
    },
    {
     "name": "stderr",
     "output_type": "stream",
     "text": [
      "[Parallel(n_jobs=1)]: Done  18 out of  18 | elapsed:    5.7s finished\n"
     ]
    },
    {
     "name": "stdout",
     "output_type": "stream",
     "text": [
      "       Best parameters selected: <<{'C': 0.1}>> for score <<0.6149490901989136>>.\n",
      "       2. Grid Search model <<<class 'sklearn.svm.classes.LinearSVC'>>>; weight: <<{1: 1.0, 0: 6.557723577235772, 2: 106.8344370860927}>>; parameters: <<{'C': [0.001, 0.01, 0.1, 1.0, 10.0]}>>\n",
      "Fitting 6 folds for each of 5 candidates, totalling 30 fits\n"
     ]
    },
    {
     "name": "stderr",
     "output_type": "stream",
     "text": [
      "[Parallel(n_jobs=1)]: Done  30 out of  30 | elapsed:   30.8s finished\n"
     ]
    },
    {
     "name": "stdout",
     "output_type": "stream",
     "text": [
      "       Best parameters selected: <<{'C': 1.0}>> for score <<0.612788686502258>>.\n",
      "       3. Grid Search model <<<class 'sklearn.svm.classes.LinearSVC'>>>; weight: <<{1: 1.0, 0: 6.557723577235772, 2: 106.8344370860927}>>; parameters: <<{'C': [0.3333, 1.0, 3.0]}>>\n",
      "Fitting 6 folds for each of 3 candidates, totalling 18 fits\n"
     ]
    },
    {
     "name": "stderr",
     "output_type": "stream",
     "text": [
      "[Parallel(n_jobs=1)]: Done  18 out of  18 | elapsed:   27.1s finished\n"
     ]
    },
    {
     "name": "stdout",
     "output_type": "stream",
     "text": [
      "       Best parameters selected: <<{'C': 1.0}>> for score <<0.612788686502258>>.\n",
      "       Final parameters selected: <<{'C': 0.1}>> for score <<0.6149490901989136>>.\n",
      "\n",
      "          *** Score on validation dataset (macro/weighted) <<0.6564983768264516>> / <<0.8314940577249575>>.\n",
      "[[ 350  194    5]\n",
      " [ 184 1602    5]\n",
      " [   4    5    7]]\n",
      "Evaluating model...\n",
      "\n",
      "-------------------------------------------------------------------\n",
      "         __True Sum  __Pred Sum  Precision  Recall_We  Recall_Ma  F-score  \\\n",
      "genre          1575        1550     0.9617     0.9618     0.9498   0.9617   \n",
      "related        1993           0     0.0609     0.2468     0.3333   0.0977   \n",
      "\n",
      "         __Diff  \n",
      "genre        25  \n",
      "related    1993  \n",
      " \n",
      "\n",
      "-------------------------------------------------------------------\n",
      "Details for class: <<genre>>.\n",
      "Classification Report:\n",
      "             precision    recall  f1-score   support\n",
      "\n",
      "          0       0.96      0.98      0.97      1279\n",
      "          1       0.96      0.95      0.96      1103\n",
      "          2       0.95      0.92      0.93       236\n",
      "\n",
      "avg / total       0.96      0.96      0.96      2618\n",
      "\n",
      "Confusion Matrix:\n",
      "[[1251   27    1]\n",
      " [  42 1050   11]\n",
      " [   4   15  217]]\n",
      " \n",
      "\n",
      "-------------------------------------------------------------------\n",
      "Details for class: <<related>>.\n",
      "Classification Report:\n",
      "             precision    recall  f1-score   support\n",
      "\n",
      "          0       0.25      1.00      0.40       646\n",
      "          1       0.00      0.00      0.00      1951\n",
      "          2       0.00      0.00      0.00        21\n",
      "\n",
      "avg / total       0.06      0.25      0.10      2618\n",
      "\n",
      "Confusion Matrix:\n",
      "[[ 646    0    0]\n",
      " [1951    0    0]\n",
      " [  21    0    0]]\n",
      " \n",
      "Saving model...\n",
      "    Model filepath <<models/savedModel.pkl>>\n"
     ]
    },
    {
     "name": "stderr",
     "output_type": "stream",
     "text": [
      "D:\\___winApp\\Anaconda3\\lib\\site-packages\\sklearn\\metrics\\classification.py:1135: UndefinedMetricWarning: Precision and F-score are ill-defined and being set to 0.0 in labels with no predicted samples.\n",
      "  'precision', 'predicted', average, warn_for)\n"
     ]
    },
    {
     "name": "stdout",
     "output_type": "stream",
     "text": [
      "Trained model saved!\n"
     ]
    }
   ],
   "source": [
    "from models.train_classifier import executeMain\n",
    "g_train = True\n",
    "g_debug = True\n",
    "\n",
    "if g_train:\n",
    "    v_model, X_train, X_test, y_train, y_test, y_pred_test = executeMain( 'data/DisasterResponse.db', \n",
    "                                                                          'models/savedModel.pkl',\n",
    "                                                                           p_maxCateg    = 2 if g_debug else None,\n",
    "                                                                           p_CVSplits    = 6,\n",
    "                                                                           p_pointsBin   = 2 if g_debug else 15,\n",
    "                                                                           p_maxFeatures = 26000,\n",
    "                                                                           p_reloadData  = False )"
   ]
  },
  {
   "cell_type": "code",
   "execution_count": 2,
   "metadata": {},
   "outputs": [
    {
     "data": {
      "text/plain": [
       "array([[1., 0.]])"
      ]
     },
     "metadata": {},
     "output_type": "display_data"
    }
   ],
   "source": [
    "from sklearn.externals import joblib\n",
    "from models.HMsgClasses import getTokenizedMessage\n",
    "\n",
    "v_model = joblib.load(\"models/savedModel.pkl\")\n",
    "display(v_model.predict(getTokenizedMessage('We+are+more+than+50+peoples+on+the+street.+please+hlp+us+find+tent+and+food')))"
   ]
  },
  {
   "cell_type": "code",
   "execution_count": null,
   "metadata": {},
   "outputs": [],
   "source": []
  }
 ],
 "metadata": {
  "kernelspec": {
   "display_name": "Python 3",
   "language": "python",
   "name": "python3"
  },
  "language_info": {
   "codemirror_mode": {
    "name": "ipython",
    "version": 3
   },
   "file_extension": ".py",
   "mimetype": "text/x-python",
   "name": "python",
   "nbconvert_exporter": "python",
   "pygments_lexer": "ipython3",
   "version": "3.6.6"
  }
 },
 "nbformat": 4,
 "nbformat_minor": 2
}
